{
 "cells": [
  {
   "cell_type": "markdown",
   "metadata": {},
   "source": [
    "#Convergence of explicit finite difference formulations demonstrated on derivatives"
   ]
  },
  {
   "cell_type": "markdown",
   "metadata": {},
   "source": [
    "We consider an infinitely differentiable function $f(x) = \\sin (\\pi x) + 1$ whose derivatives are given by $(q\\in\\mathbb{Z}_1)$:"
   ]
  },
  {
   "cell_type": "markdown",
   "metadata": {},
   "source": [
    "$$\\frac{d^{2q-1} f}{dx^{2q-1}} = (-1)^{q+1} \\pi^{2q-1} \\cos (\\pi x)$$\n",
    "\n",
    "and\n",
    "\n",
    "$$\\frac{d^{2q} f}{dx^{2q}} = (-1)^{q} \\pi^{2q} \\sin (\\pi x)$$"
   ]
  },
  {
   "cell_type": "code",
   "execution_count": 7,
   "metadata": {
    "collapsed": false
   },
   "outputs": [
    {
     "data": {
      "text/latex": [
       "\n",
       "we can suggest that $a = \\sqrt{b^2 + c^2}$, and also try an equation array\n",
       "\n",
       "\\begin{eqnarray}\n",
       "a & = & b \\\\\n",
       "c & = & \\frac{c}{d}\n",
       "\\end{eqnarray}"
      ],
      "text/plain": [
       "<IPython.core.display.Latex object>"
      ]
     },
     "metadata": {},
     "output_type": "display_data"
    }
   ],
   "source": [
    "%%latex\n",
    "\n",
    "we can suggest that $a = \\sqrt{b^2 + c^2}$, and also try an equation array\n",
    "\n",
    "\\begin{eqnarray}\n",
    "a & = & b \\\\\n",
    "c & = & \\frac{c}{d}\n",
    "\\end{eqnarray}"
   ]
  },
  {
   "cell_type": "code",
   "execution_count": null,
   "metadata": {
    "collapsed": true
   },
   "outputs": [],
   "source": []
  }
 ],
 "metadata": {
  "kernelspec": {
   "display_name": "Python 2",
   "language": "python",
   "name": "python2"
  },
  "language_info": {
   "codemirror_mode": {
    "name": "ipython",
    "version": 2
   },
   "file_extension": ".py",
   "mimetype": "text/x-python",
   "name": "python",
   "nbconvert_exporter": "python",
   "pygments_lexer": "ipython2",
   "version": "2.7.3"
  }
 },
 "nbformat": 4,
 "nbformat_minor": 0
}

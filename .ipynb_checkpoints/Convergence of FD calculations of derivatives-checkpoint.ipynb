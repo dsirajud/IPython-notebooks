{
 "cells": [
  {
   "cell_type": "markdown",
   "metadata": {},
   "source": [
    "#Convergence of explicit finite difference formulations demonstrated on derivatives"
   ]
  },
  {
   "cell_type": "markdown",
   "metadata": {},
   "source": [
    "We consider the infinitely differentiable function:\n",
    "\n",
    "$$f(x) = \\sin(\\pi x) + 1 $$ "
   ]
  },
  {
   "cell_type": "markdown",
   "metadata": {},
   "source": [
    "which have derivatives ($n\\in\\mathbb{N}_1$) :\n",
    "\n",
    "$$f^{(2n-1)}(x) = (-1)^{n+1} \\pi^{2n - 1} \\cos(\\pi x)$$\n",
    "\n",
    "and\n",
    "\n",
    "$$f^{(2n)}(x) = (-1)^n \\pi^{2n}\\sin(\\pi x)$$\n",
    "\n",
    "Below, we plot the function as well as four normalized derivatives, the normalized derivatives of higher order are coincident with those plotted. Note, this is only to fit them on the same plot, for convergence we properly analyze the unnormalized forms."
   ]
  },
  {
   "cell_type": "code",
   "execution_count": 5,
   "metadata": {
    "collapsed": false,
    "scrolled": true
   },
   "outputs": [
    {
     "data": {
      "image/png": "[encoded data removed]",
      "text/plain": [
       "<matplotlib.figure.Figure at 0x3aebed0>"
      ]
     },
     "metadata": {},
     "output_type": "display_data"
    }
   ],
   "source": [
    "%matplotlib inline\n",
    "import numpy as np\n",
    "import matplotlib.pyplot as plt\n",
    "\n",
    "x = np.linspace(-1,1,1000)\n",
    "f =  np.sin(np.pi*x) + 1\n",
    "nmax = 4 # maximum derivative desired to be plotted\n",
    "\n",
    "fig, ax = plt.figure(), plt.subplot(111)\n",
    "\n",
    "ax.plot(x,f, linewidth = 2, label = '$f(x)$')\n",
    "ax.hold('on')\n",
    "\n",
    "for n in range(1,nmax + 1):\n",
    "    if np.mod(n,2) == 1: # n is odd\n",
    "        dnf = (-1) ** (n + 1) * np.pi ** (2*n - 1) * np.cos(np.pi * x)\n",
    "        dnf /= np.pi ** (2*n - 1) # i.e. we plot normalized derivatives\n",
    "\n",
    "    else: # n is even\n",
    "        dnf = (-1) ** n * np.pi ** (2*n) * np.sin(np.pi * x)\n",
    "        dnf /= np.pi ** (2*n) # i.e. we plot normalized derivatives\n",
    "\n",
    "    ax.plot(x,dnf, linewidth = 2, linestyle = '--', label = r'$\\pi^{-%i}\\partial_x^{%i} f$' % (n,n) )\n",
    "\n",
    "ax.hold('off')\n",
    "frame = ax.get_position() # position of plot center\n",
    "\n",
    "# shrink frame of the plot to make room for a legend on the right side\n",
    "ax.set_position([frame.x0, frame.y0, \n",
    "                 frame.width * 0.8, frame.height])\n",
    "\n",
    "# Place legend to the right of the shrunken frame\n",
    "ax.legend(loc='center left', bbox_to_anchor=(1, 0.5),\n",
    "          fancybox=True, ncol=1)\n",
    "\n",
    "plt.show()\n"
   ]
  },
  {
   "cell_type": "markdown",
   "metadata": {},
   "source": [
    "We can use the script pyfiles/bin/generate_tables_of_finite_difference_schemes_for_a_given_LTE.py to generate tables of explicit finite difference schemes for grids with uniform spacing $\\Delta x$ for a chosen order of derivative and a specified maximum LTE, for example, if we desire an LTE (sys.argv[1]) of 1 and want the family of finite difference schemes corresponding to the second derivative 2 (sys.argv[2]), we run from the terminal "
   ]
  },
  {
   "cell_type": "raw",
   "metadata": {},
   "source": [
    "$ python generate_tables_of_finite_difference_schemes_for_a_given_LTE.py 2 2 "
   ]
  },
  {
   "cell_type": "markdown",
   "metadata": {},
   "source": [
    "which produces the table"
   ]
  },
  {
   "cell_type": "raw",
   "metadata": {
    "collapsed": false
   },
   "source": [
    "f^(2): LTE = O(z^1)\n",
    "=========================\n",
    "\n",
    "f^(2): F0\n",
    "-------------------------\n",
    "(weights, stencil)\n",
    "1.0, 0\n",
    "-2.0, 1\n",
    "1.0, 2\n",
    "-------------------------\n",
    "f^(2): C0\n",
    "-------------------------\n",
    "(weights, stencil)\n",
    "1.0, -1\n",
    "-2.0, 0\n",
    "1.0, 1\n",
    "-------------------------\n",
    "f^(2): B0\n",
    "-------------------------\n",
    "(weights, stencil)\n",
    "1.0, -2\n",
    "-2.0, -1\n",
    "1.0, 0\n",
    "-------------------------\n",
    "=========================\n"
   ]
  },
  {
   "cell_type": "markdown",
   "metadata": {
    "collapsed": true
   },
   "source": [
    "The weights of which are well-known, the labeling F0, C0, B0 indicate 'forward', 'central', and 'backward' differencing (cf. stencil), where the number 0 communicates the degree of asymmetry from those schemes (central always has 0 asymmetry due to its definition). For example, and F0 scheme has a stencil that samples grid points strictly forward of point of interest, an F1 scheme has a stencil that samples one grid point backward and the rest forward (consider stencils greater than 3 for an instance), and so on. If an FN ($N\\in\\mathbb{N}$) is more aptly named according to a different scheme (e.g. F1 above is a central scheme), the namechange is commited in favor of the corresponding asymmetric labeling FN or BN. Note, the central scheme is actually second order because the first order term fortuitously cancels, this is also well-known."
   ]
  },
  {
   "cell_type": "markdown",
   "metadata": {},
   "source": [
    "The weights $\\{w\\}$ and stencil $\\{i\\}$ can be used to calculate the derivative according:\n",
    "\n",
    "$$f^{(n)}(x) = \\tfrac{1}{(\\Delta x)^n}\\sum_i w_i f(x + i\\Delta x)$$"
   ]
  },
  {
   "cell_type": "markdown",
   "metadata": {
    "collapsed": true
   },
   "source": [
    "For example, selecting one scheme in particular: a fully forward differencing scheme ('F0') at an LTE of order 3. The following demonstrates convergence"
   ]
  },
  {
   "cell_type": "code",
   "execution_count": 3,
   "metadata": {
    "collapsed": false
   },
   "outputs": [
    {
     "data": {
      "text/html": [
       "<img src=\"http://python.org/images/python-logo.gif\"/>"
      ],
      "text/plain": [
       "<IPython.core.display.Image object>"
      ]
     },
     "execution_count": 3,
     "metadata": {},
     "output_type": "execute_result"
    }
   ],
   "source": [
    "from IPython.display import Image\n",
    "\n",
    "Image(url='http://python.org/images/python-logo.gif')"
   ]
  },
  {
   "cell_type": "code",
   "execution_count": 4,
   "metadata": {
    "collapsed": false
   },
   "outputs": [
    {
     "data": {
      "text/plain": [
       "u'/home/dsirajud/Work/IPython-notebooks'"
      ]
     },
     "execution_count": 4,
     "metadata": {},
     "output_type": "execute_result"
    }
   ],
   "source": [
    "pwd"
   ]
  },
  {
   "cell_type": "code",
   "execution_count": 5,
   "metadata": {
    "collapsed": false
   },
   "outputs": [
    {
     "name": "stdout",
     "output_type": "stream",
     "text": [
      "\u001b[0m\u001b[01;34mConvergence of FD calculations of derivatives\u001b[0m/       \u001b[01;34mConvergence of FD formulation of high order CS\u001b[0m/       README.md\r\n",
      "Convergence of FD calculations of derivatives.ipynb  Convergence of FD formulation of high order CS.ipynb\r\n"
     ]
    }
   ],
   "source": [
    "ls"
   ]
  },
  {
   "cell_type": "code",
   "execution_count": 7,
   "metadata": {
    "collapsed": false
   },
   "outputs": [
    {
     "name": "stdout",
     "output_type": "stream",
     "text": [
      "/home/dsirajud/Work/IPython-notebooks/Convergence of FD calculations of derivatives\n"
     ]
    }
   ],
   "source": [
    "cd Convergence\\ of\\ FD\\ calculations\\ of\\ derivatives"
   ]
  },
  {
   "cell_type": "code",
   "execution_count": null,
   "metadata": {
    "collapsed": true
   },
   "outputs": [],
   "source": []
  }
 ],
 "metadata": {
  "kernelspec": {
   "display_name": "Python 2",
   "language": "python",
   "name": "python2"
  },
  "language_info": {
   "codemirror_mode": {
    "name": "ipython",
    "version": 2
   },
   "file_extension": ".py",
   "mimetype": "text/x-python",
   "name": "python",
   "nbconvert_exporter": "python",
   "pygments_lexer": "ipython2",
   "version": "2.7.3"
  }
 },
 "nbformat": 4,
 "nbformat_minor": 0
}

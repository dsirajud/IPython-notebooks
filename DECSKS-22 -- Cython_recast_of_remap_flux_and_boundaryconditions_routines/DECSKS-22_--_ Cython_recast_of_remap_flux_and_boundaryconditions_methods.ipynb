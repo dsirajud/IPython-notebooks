{
 "cells": [
  {
   "cell_type": "markdown",
   "metadata": {},
   "source": [
    "<b><font color = \"red\">CAUTION: it has been discovered in DECSKS-18 part 2 that this notebook had previously (incorrectly) used a Dirichlet solver for self-consistent wall potential calculations based on the wall charge accumulated. The details of this have been worked out in DECSKS-18 part 2 correctly. In the addendum to this section, we extend the method from DECSKS-18 part 2 as a Cython module, but we cannot and should use a self-consistent wall potential condition for simulations in the version of DECSKS in this notebook. This was developed here because it was seen to be a natural place, organization-wise. The absborer conditions are fine here.</font>"
   ]
  },
  {
   "cell_type": "markdown",
   "metadata": {},
   "source": [
    "# DECSKS-22: Cython recast of <code>remap</code>, <code>flux</code>, and <code>boundaryconditions</code>: <font color = \"red\">DECSKS-2.0</font> $\\mapsto$ <font color = \"green\">DECSKS-2.1</font>\n",
    "\n",
    "finalized methods in this notebook are referred to as DECSKS-2.1, historical methods, e.g. DECSKS-21, are referred to as DECSKS-2.0, which has been the version name since DECSKS-09 (array-based implementation).\n",
    "\n",
    "DECSKS-2.1 will have some backbones that are Cython methods."
   ]
  },
  {
   "cell_type": "markdown",
   "metadata": {},
   "source": [
    "# Terse summary\n",
    "\n",
    "This notebook recasts the version of DECSKS-21 which extended the versions up to DECSKS-18 part 1 (part 2 and part 3 not including) to create separate convect routines for velocity and configuration variables as well as implementing code to pre-compute the CFL numbers/correctors c at the start of the time step rather than recomputing it each time for configuration variables since these correctors are always the same for the stage for every full time step.\n",
    "\n",
    "This noteboook creates Cython modules for some of the more problematic methods, boundaryconditions.py -> boundaryconditions.pyx, flux.py --> flux.pyx, and takes convect_XXXXXX.remap_assignment -> remap.pyx module. Of course, corresponding changes inside the lib.convect_XXXXXX routines were needed, and have been accomplished in this notebook. \n",
    "\n",
    "The changes in this notebook will later be combined with the additions in DECSKS-18 part 2 (this extended part 1 to include a variety of boundary conditions and came with it significant reorganization of the inputs, producing two decks params.dat and params_boundaryconditions.dat, as well as associated changes in the lib.read method of course (depends on line numbers of the input files), and some namje changes also incurred to make the routines and boundary conditions more general and detailed so minimal changes were made throughout the convect submethods. Such an intermediate version will not be given its own notebook, but rather we will combine this Cython work with that of DECSKS-18 part 2, and make extensions to include a symmetry boundary as well, which will be called DECSKS-18 part 3."
   ]
  },
  {
   "cell_type": "markdown",
   "metadata": {},
   "source": [
    "# Motivation\n",
    "\n",
    "the current remapping stepthrough is the following, where as usual we denote the two postpoints colloquially as <code>k1</code> and <code>k2</code>, and the containers f_k1 and f_k2 refer to densities which have associated postpoint maps k1 and k2.\n",
    "\n",
    "    lib.remap_step -> lib.remap_assignment\n",
    "    \n",
    "                   -> index == 'nearest': lib.boundaryconditions.nonperiodic(f_k1)\n",
    "                   \n",
    "                                                  -> boundaryconditions.lower_boundary(f_k1) factors in boundary\n",
    "                                                  -> boundaryconditions.upper_boundary(f_k1) factors in boundary\n",
    "                                              \n",
    "                                                  -> periodize postpointmesh to produce unique postpoints for\n",
    "                                                     all off-grid postpoints that have already been factored in\n",
    "                                                     above and hence zeroed out in density container\n",
    "                                                     \n",
    "                                                  <- \n",
    "                                                  \n",
    "                                            (remap rule depends on sign of vx prepoints)\n",
    "                                                  \n",
    "                                            mask: f_neg <- f[vx < 0] assigned at postpoints by advanced indexing\n",
    "                                            mask: f_pos <- f[vx >=0] assigned at postpoints by advanced indexing                      \n",
    "                                            f_k1  <- consolidate data from both masked arrays\n",
    "\n",
    "                   -> index == 'contiguous': lib.boundaryconditions.nonperiodic(f_k2)\n",
    "                   \n",
    "                   \n",
    "                                                  -> boundaryconditions.lower_boundary(f_k2) factors in boundary\n",
    "                                                  -> boundaryconditions.upper_boundary(f_k2) factors in boundary\n",
    "                                              \n",
    "                                                  -> periodize postpointmesh to produce unique postpoints for\n",
    "                                                     all off-grid postpoints that have already been factored in\n",
    "                                                     above and hence zeroed out in density container\n",
    "                                                                                              \n",
    "                                                  <-\n",
    "                                                  \n",
    "                                            (remap rule depends on sign of vx prepoints)      \n",
    "                                                  \n",
    "                                            mask: f_neg <- f[vx < 0] assigned at postpoints by advanced indexing\n",
    "                                            mask: f_pos <- f[vx >=0] assigned at postpoints by advanced indexing                                                                    \n",
    "                                            f_k2  <- consolidate data from both masked arrays\n",
    "\n",
    "        f_remapped <- f_k1 + f_k2                                            \n",
    "          "
   ]
  },
  {
   "cell_type": "markdown",
   "metadata": {},
   "source": [
    "We want to recast the nested procedures:\n",
    "                                                  -> boundaryconditions.lower_boundary(f_k1) factors in boundary\n",
    "                                                  -> boundaryconditions.upper_boundary(f_k1) factors in boundary\n",
    "                                              \n",
    "                                                  -> periodize postpointmesh to produce unique postpoints for\n",
    "                                                     all off-grid postpoints that have already been factored in\n",
    "                                                     above and hence zeroed out in density container\n",
    "                                                     \n",
    "to be a straightforward implementation as a Cython module <code>boundaryconditions.pyx</code>, which has the responsibilites:\n",
    "\n",
    "    boundaryconditions.pyx\n",
    "    \n",
    "        (1) apply lower boundary to f_k, modify postpoint maps for x and vx, return.\n",
    "        (2) apply upper boundary to f_k modify postpoint maps for x and vx, return.\n",
    "        \n",
    "which will work in tandem with a new module <code>remap.pyx</code> as\n",
    "\n",
    "    remap.py\n",
    "    \n",
    "        remap f_k to f_remapped according to postpoint maps\n",
    "        \n",
    "Currently, as seen above, some gymnastics takes place to accomplish the same result (efficiently though, we might add). To this end, a <code>flux.pyx</code> routine will need to be included as well (seen later). Thus, the goals of this notebook are\n",
    "\n",
    "<table width = \"85%\">\n",
    "<tr><td>\n",
    "<b>Goals of this notebook</b>\n",
    "\n",
    "Write the following Cython modules and implement them in DECSKS with any corresponding changes elsewhere:\n",
    "\n",
    "<ul>\n",
    "<li><code>remap.pyx</code>\n",
    "<li><code>boundaryconditions.pyx</code> (will contain many routines for different boundary conditions and for each boundary, lower and upper)\n",
    "<li><code>flux.pyx</code>\n",
    "</td></tr>\n",
    "</table>\n",
    "As concerns the remap motivation, we discuss some finer points below:"
   ]
  },
  {
   "cell_type": "markdown",
   "metadata": {},
   "source": [
    "the step at the bottom of each branch labeled as assigning new densities according to \n",
    "<code>advanced indexing</code> relies on indexing by taking in arrays of indices that is furnished by numpy built-ins to slice the indexing in the expected way, and a further layer is that it ignores masked entries. \n",
    "\n",
    "Essentially, we map according to:\n",
    "\n",
    "        f_k[xpostpointmesh, vxprepointmesh] = f_old[xprepointmesh, vxprepointmesh]\n",
    "        \n",
    "The left hand side takes as indices the postpoint mesh, which maps each <code>[i,j]</code> on the right-hand side to postpositions <code>[k1,j]</code> or <code>[k2, j]</code> (incidentally, above we have written it redundantly for clarity, but do note that <code>f_old[xprepointmesh, vxprepointmesh] = f_old</code>, as the just slices <code>[i,j]</code> in order.\n",
    "\n",
    "It turns out, using this implementation where we rely on numpy advanced indexing: two or more postpoints cannot be shared, a given postpoint will get overwritten by the next one that has the same postpoint. This is due to how indices are read in and stored at the C level in numpy (row major ordering convention used in storing multidimensional arrays in equivalent 1D blocks of contiguous memory). Note, it is not possible to insert an increment operator inside this operation as it is not accessible at the python level. We have exploited the fact that previous boundary conditions have created the situation or can be made to create the situation where no two postpionts are shared. If this situation happens or can be created with minimial expense, then significant efficiency can be inherited by doing the remapping in \"one step\".\n",
    "\n",
    "As we have been adding more boundary conditions, the fortune of just having unique postpoints has not been a given, and some manipulations (often esoteric, at times clever) has been needed to achieve the required effect of the boundary conditions while also insisting on unique postpoints that do not cause unintended mappings in the one step remap.\n",
    "\n",
    "In our latest case of a symmetry boundary condition, several tactics have been attempted to achieve the same as above where a set of unique postpoints are decided on that in general will not conflict with the boundary conditions so that we may reuse our algorithm. The most promising strategy had been partitioning the problem into two separate remappings (partners vs. non-partners). In the end of our efforts, this was seen to be either wasteful storage-wise, or a looping implementation was unavoidable, which in the worst case scenario makes the symmetry boundary condition perhaps 100 times slower than the numpy based remap (avoiding a looping mechanism was the reason for working out how a one-step matrix mapping can be used instead).\n",
    "\n",
    "Further, it is has alwyas been noted that the current remapping procedure is esoteric, perhaps difficult for others besides the author to follow. And, because of this unique demand of having unique postpoints, it makes extending to different boundary conditions more involved, and unnatural. The efficiency that we have exploited unfortunately comes with too much baggage. The goal of this notebook as concerns the remap algorithm is to dispense of this routine, and code an equivalent method that is natural, obvious, but still efficient.\n",
    "\n",
    "Invariably, this will require the remap algorithm to take on the aforementioned evil looping mechanism where we loop through each prepoint and assigning it to a postpoint location incrementally. Going back to the C-level will permit us to do what was stated as a problem above. That is, we can \"insert\" an incremental operator instead of an assignment operator, so that overlapping postpoints have their densities added on top of each other, not having one overwrite the other.\n",
    "\n",
    "This will be accomplished by coding the routines in Cython using typed ndarrays. We note that, if successful, it can invite reconsidering the boundary condition application above and overall control flow. As concerns the former, if efficiency makes it of negligible cost for example, in an absorbing or charge collecting boundary condition, we might assign all such postpoints that hit the walls (i < 0) to have the x postpoint corresponding to the wall (i = 0), which is physically appealing. In the past, we had skipped this unnecessary reassignment, and just zeroed out all such entires whose postpoints go off-grid. If we had a charge collecting surface, then we could sum all particles at i = 0, rather than as we do now where we sum all postpoints i < 0 if the left wall is charge collecting. The difference here is an \"extra\" step, and the benefit is straight-forwardness and readability to other users than just this author, easy adapation even and obvious extensions to other boundary conditions. If the cost of incuding an extra step like this is small, we should pursue such things. Since we are now reconsidering the overall architecture of the remap step, it is opportune to consider things now rather than later."
   ]
  },
  {
   "cell_type": "markdown",
   "metadata": {},
   "source": [
    "# Development and need for a Cython module <code>remap.pyx</code>"
   ]
  },
  {
   "cell_type": "markdown",
   "metadata": {},
   "source": [
    "## Problem setup: the issue of shared postpoints"
   ]
  },
  {
   "cell_type": "markdown",
   "metadata": {},
   "source": [
    "We wish to map densities from a 2D array <code>f_old</code> to their new locations as prescribed by their 2D map <code>(xpostpointmesh[k,:,:], vxprepointmesh)</code> to locations in the 2D array <code>f_new</code>. We begin with the case that was abandoned in DECSKS-18, as the quest to have unshared postpoints (which would avoid the demonstrated problem below) was seen to be too computationally expensive.\n",
    "\n",
    "See output below for a presentation of the problem particulars along with descriptions. Here, we have a symmetry boundary at the left edge, <code>i = 0</code>, and must (shown below) account for entering partner particles for all those that exit. For more details, DECSKS-18 part 3 can be reviewed."
   ]
  },
  {
   "cell_type": "code",
   "execution_count": 1,
   "metadata": {
    "collapsed": false
   },
   "outputs": [
    {
     "name": "stdout",
     "output_type": "stream",
     "text": [
      "the prepoints of each density packet are at the following locations\n",
      "\n",
      "(xprepointmesh, vxprepointmesh) = \n",
      "[[0 0 0 0 0 0]\n",
      " [1 1 1 1 1 1]\n",
      " [2 2 2 2 2 2]\n",
      " [3 3 3 3 3 3]\n",
      " [4 4 4 4 4 4]] \n",
      "\n",
      "[[0 1 2 3 4 5]\n",
      " [0 1 2 3 4 5]\n",
      " [0 1 2 3 4 5]\n",
      " [0 1 2 3 4 5]\n",
      " [0 1 2 3 4 5]]\n"
     ]
    }
   ],
   "source": [
    "import numpy as np\n",
    "\n",
    "Nx, Nvx = 5, 6\n",
    "xprepointmesh = np.outer(np.arange(Nx), np.ones(Nvx))\n",
    "vxprepointmesh = np.outer(np.ones(Nx), np.arange(Nvx))\n",
    "vxprepointvaluemesh = np.outer(np.ones(Nx), np.linspace(-2,2,Nvx))\n",
    "\n",
    "# type as int64, for all objects that also serve as indices later\n",
    "\n",
    "xprepointmesh = xprepointmesh.astype(int)\n",
    "vxprepointmesh = vxprepointmesh.astype(int)\n",
    "\n",
    "print \"the prepoints of each density packet are at the following locations\\n\"\n",
    "print \"(xprepointmesh, vxprepointmesh) = \"\n",
    "print xprepointmesh, \"\\n\"\n",
    "print vxprepointmesh"
   ]
  },
  {
   "cell_type": "markdown",
   "metadata": {},
   "source": [
    "Note, these are read as duples at respective array locations, e.g. <code>(xprepointmesh[0,0], vxprepointmesh[0,0]) = (0,0)</code> and so on."
   ]
  },
  {
   "cell_type": "code",
   "execution_count": 2,
   "metadata": {
    "collapsed": false
   },
   "outputs": [
    {
     "name": "stdout",
     "output_type": "stream",
     "text": [
      "\n",
      "According to the chosen velocity grid (not shown here), the nearest neighbor grid point sto the true exact x-postpoints are given in xpostpointmesh[0,:,:] = \n",
      "[[-2 -1  0  0  1  2]\n",
      " [-1  0  1  1  2  3]\n",
      " [ 0  1  2  2  3  4]\n",
      " [ 1  2  3  3  4  5]\n",
      " [ 2  3  4  4  5  6]]\n",
      "\n",
      "the particles that exit the domain (i < 0) have corresponding entering particles which reach postpoint locations -i\n",
      "\n",
      "hence, we have an xpostpointmesh for the nearest neighbors (we worry about the contiguous gridpoints later) with reentering particles positions at\n",
      "\n",
      "[[2 1 0 0 1 2]\n",
      " [1 0 1 1 2 3]\n",
      " [0 1 2 2 3 4]\n",
      " [1 2 3 3 4 5]\n",
      " [2 3 4 4 5 6]]\n",
      "\n",
      "we note that on the right-hand side, we have some exiting particles. We do not concern ourselves with boundary conditions right now beyond the symmetry condition\n",
      "\n",
      "the specific boundary conditions on the right would dictate what happens to these postpoints. Here, we are not concerned with the right boundary so arbitrarily, we choose postpoint positions in x that are on grid for any xpostpointmesh > 4 so we can move forward with our analysis of how to take care of the left boundary\n",
      "\n",
      "thus we have the final xpostpointmesh\n",
      "[[2 1 0 0 1 2]\n",
      " [1 0 1 1 2 3]\n",
      " [0 1 2 2 3 4]\n",
      " [1 2 3 3 4 3]\n",
      " [2 3 4 4 3 3]]\n",
      "\n",
      "A symmetry boundary on the left requires us to remap re-entering particles which are partners of the exiting particles (i < 0) and which reach the mirror locations in (x,vx). Such particles have oppositely directed velocity vx -> -vx, in terms of indices here j -> Nvx - 1 - j, hence we have the final postpointmesh for vx as\n",
      "\n",
      "vxprepointmesh = \n",
      "[[5 4 2 3 4 5]\n",
      " [5 1 2 3 4 5]\n",
      " [0 1 2 3 4 5]\n",
      " [0 1 2 3 4 5]\n",
      " [0 1 2 3 4 5]]\n"
     ]
    }
   ],
   "source": [
    "dx, dt = 1., 1.\n",
    "CFL = vxprepointvaluemesh * dt / dx\n",
    "S = np.where(vxprepointvaluemesh < 0, np.ceil(vxprepointvaluemesh), np.floor(vxprepointvaluemesh)).astype(int)\n",
    "alpha = CFL - S\n",
    "\n",
    "xpostpointmesh = np.zeros((2,Nx,Nvx))\n",
    "xpostpointmesh[0,:,:] = xprepointmesh + S\n",
    "xpostpointmesh[1,:,:] = xpostpointmesh[0,:,:] + np.sign(vxprepointvaluemesh)\n",
    "xpostpointmesh = xpostpointmesh.astype(int)\n",
    "\n",
    "print \"\\nAccording to the chosen velocity grid (not shown here), the nearest neighbor grid point sto the true exact x-postpoints are given in xpostpointmesh[0,:,:] = \"\n",
    "print xpostpointmesh[0,:,:]\n",
    "\n",
    "print \"\\nthe particles that exit the domain (i < 0) have corresponding entering particles which reach postpoint locations -i\"\n",
    "print \"\\nhence, we have an xpostpointmesh for the nearest neighbors (we worry about the contiguous gridpoints later) with reentering particles positions at\\n\"\n",
    "\n",
    "exiting_prepoints = np.where(xpostpointmesh[0,:,:] < 0)\n",
    "xpostpointmesh[0,exiting_prepoints[0], exiting_prepoints[1]] = -xpostpointmesh[0,\n",
    "                                                                               exiting_prepoints[0], \n",
    "                                                                               exiting_prepoints[1]]\n",
    "\n",
    "print xpostpointmesh[0,:,:]\n",
    "print \"\\nwe note that on the right-hand side, we have some exiting particles. We do not concern ourselves with boundary conditions right now beyond the symmetry condition\"\n",
    "print \"\\nthe specific boundary conditions on the right would dictate what happens to these postpoints. Here, we are not concerned with the right boundary so arbitrarily, we choose postpoint positions in x that are on grid for any xpostpointmesh > 4 so we can move forward with our analysis of how to take care of the left boundary\"\n",
    "xpostpointmesh[0,:,:] = np.where(xpostpointmesh[0,:,:] > 4, 3, xpostpointmesh[0,:,:])\n",
    "print \"\\nthus we have the final xpostpointmesh\"\n",
    "print xpostpointmesh[0,:,:]\n",
    "\n",
    "\n",
    "print \"\\nA symmetry boundary on the left requires us to remap re-entering particles which are partners of the exiting particles (i < 0) and which reach the mirror locations in (x,vx). Such particles have oppositely directed velocity vx -> -vx, in terms of indices here j -> Nvx - 1 - j, hence we have the final postpointmesh for vx as\"\n",
    "\n",
    "vxprepointmesh[exiting_prepoints[0],\n",
    "               exiting_prepoints[1]] = Nvx - 1 - vxprepointmesh[exiting_prepoints[0], \n",
    "                                                                exiting_prepoints[1]] \n",
    "\n",
    "print \"\\nvxprepointmesh = \"\n",
    "print vxprepointmesh"
   ]
  },
  {
   "cell_type": "markdown",
   "metadata": {},
   "source": [
    "Note that in terms of (i,j), where i labels the xpostpointmesh and j labels the vxprepointmesh (we call it the \"pre\"pointmesh to have a physical correspondence that technically vx is not advected, hence stays the same as before, it is x that is evolved here. True, here we did modify the prepointmesh for vx; however, these are physically interpreted as prepoints, the entries that changed just corersponded to flipping the role of exiting particles to re-entering particles, but those velocities themselves are still properly \"pre\"points). We have the following shared postpointe mappings:\n",
    "\n",
    "    prepoint          postpoint\n",
    "\n",
    "    (0,0)       ->      (2,5)\n",
    "    (0,5)       ->      (2,5)\n",
    "    \n",
    "    (0,1)       ->      (1,4)\n",
    "    (0,4)       ->      (1,4)\n",
    "\n",
    "    (2,5)       ->      (3,4)\n",
    "    (4,4)       ->      (3,4)\n",
    "    \n",
    "    (1,5)       ->      (3,5)\n",
    "    (3,5)       ->      (3,5)\n",
    "    (4,5)       ->      (3,5)\n",
    "    \n",
    "Some of these were due to re-entering particles having postpoints that conflicted with other purely on-grid particles during the advection, whereas others are arbitrary (consequence of us assigning random postpoint values to any point that exceeded the right boundary since this does not change the focus, which is the symmetry boundary condition)\n",
    "\n",
    "#### Problem statement: \n",
    "\n",
    "Map each <code>f_old[i,j]</code> to <code>f_new[ xpostpointmesh[0,,i,j], vxprepointmesh[i,j] ]</code>. Currently, DECSKS does this by the obvious index slicing:\n",
    "\n",
    "    f_new[ xpostpointmesh[0,:,:], vxprepointmesh ] = f_old\n",
    "    \n",
    "Note that it is redundant to write <code>f_old[ xprepointmesh_old, vxprepointmesh_old]</code> as by definition <code>f_old[ xprepointmesh_old, vxprepointmesh_old ] = f_old</code>\n",
    "\n",
    "Note, we are omitting some details here (i.e. positive vs. negative values of velocity change the remap rule, also fractions are appropriated in the assignment that we are not fussing with here). We come back to this later.\n",
    "\n",
    "The above works efficiently! However, it only works if no two duples in the mapping <code>xpostpointmesh[0,:,:], vxprepointmesh)</code> are the same, otherwise as mentioned we have the side effect that only one of such shared mappings will be assigned to that postpoint duple, both cannot be incremented as there are no means to introduce such an operator given what is available to edit at the python level (would have to go to the numpy/C level to modify it)."
   ]
  },
  {
   "cell_type": "markdown",
   "metadata": {},
   "source": [
    "## Demonstration of DECSKS-2.0 failure to remap correctly"
   ]
  },
  {
   "cell_type": "markdown",
   "metadata": {},
   "source": [
    "First, we show that this mapping does not work for this case. DECSKS-2.0 essentially performs the following remap assignment implementation. We have neglected some details here, but this is the gist of it:"
   ]
  },
  {
   "cell_type": "markdown",
   "metadata": {},
   "source": [
    "### DECSKS-2.0 remap procedure (gist)"
   ]
  },
  {
   "cell_type": "code",
   "execution_count": 3,
   "metadata": {
    "collapsed": false
   },
   "outputs": [],
   "source": [
    "def remap_assignment_DECSKSv2(f_old, map1, map2):\n",
    "    \"\"\"\n",
    "    inputs:\n",
    "    f_old -- (ndarray, ndim=2) density to be reassigned to f_new in locations given by \n",
    "    map1, map2 -- (ndarrays, ndmin=2, dtype=int) together these two 2D arrays consitute a set of duples\n",
    "                   which inform of all postpoints for each [i,j]\n",
    "            \n",
    "    output:\n",
    "    f_new -- (ndarray, ndim=2) density containing f_old rearranged according to (map1, map2)\n",
    "    \"\"\"\n",
    "    f_new = np.zeros_like(f_old)\n",
    "    f_new[map1, map2] = f_old\n",
    "    \n",
    "    return f_new"
   ]
  },
  {
   "cell_type": "code",
   "execution_count": 4,
   "metadata": {
    "collapsed": false
   },
   "outputs": [
    {
     "name": "stdout",
     "output_type": "stream",
     "text": [
      "Suppose we have the following (randomly generated) f_old = \n",
      "[[ 0.1612529   0.20012461  0.05832542  0.13822383  0.21354844  0.13132071]\n",
      " [ 0.23001259  0.17020061  0.06156897  0.18080674  0.01561916  0.07788616]\n",
      " [ 0.06299186  0.17640293  0.01748916  0.15095358  0.06788368  0.24859582]\n",
      " [ 0.06532831  0.23992859  0.08376859  0.13807806  0.01406663  0.03157306]\n",
      " [ 0.21725349  0.12994266  0.08331374  0.07773209  0.15489406  0.09305862]]\n",
      "\n",
      "we try to remap according to the above postpoint maps. Here, we try the nearest gridpoints first, which are given by xpostpointmesh[0,:,:]\n"
     ]
    }
   ],
   "source": [
    "print \"Suppose we have the following (randomly generated) f_old = \"\n",
    "f_old = 0.25 * np.random.rand(Nx*Nvx).reshape(Nx,Nvx)\n",
    "print f_old\n",
    "\n",
    "print \"\\nwe try to remap according to the above postpoint maps. Here, we try the nearest gridpoints first, which are given by xpostpointmesh[0,:,:]\""
   ]
  },
  {
   "cell_type": "code",
   "execution_count": 5,
   "metadata": {
    "collapsed": false
   },
   "outputs": [
    {
     "name": "stdout",
     "output_type": "stream",
     "text": [
      "\n",
      "The above remap function (DECSKS-2.0) gives the following f_new = \n",
      "[[ 0.06299186  0.17020061  0.05832542  0.13822383  0.          0.        ]\n",
      " [ 0.06532831  0.17640293  0.06156897  0.18080674  0.21354844  0.23001259]\n",
      " [ 0.21725349  0.23992859  0.01748916  0.15095358  0.01561916  0.13132071]\n",
      " [ 0.          0.12994266  0.08376859  0.13807806  0.15489406  0.09305862]\n",
      " [ 0.          0.          0.08331374  0.07773209  0.01406663  0.24859582]]\n"
     ]
    }
   ],
   "source": [
    "print \"\\nThe above remap function (DECSKS-2.0) gives the following f_new = \"\n",
    "f_new1 = remap_assignment_DECSKSv2(f_old, xpostpointmesh[0,:,:], vxprepointmesh)\n",
    "\n",
    "print f_new1"
   ]
  },
  {
   "cell_type": "markdown",
   "metadata": {},
   "source": [
    "For example, we have from the above output (comparing prepoint meshes with postpoint meshes) that <code>(2,2)</code> -> <code>(2,2)</code>. Incidentally, this is a unique postpoint, no other particle is mapped to <code>(2,2)</code>. We check to see if this remapping happened."
   ]
  },
  {
   "cell_type": "code",
   "execution_count": 6,
   "metadata": {
    "collapsed": false
   },
   "outputs": [
    {
     "data": {
      "text/plain": [
       "True"
      ]
     },
     "execution_count": 6,
     "metadata": {},
     "output_type": "execute_result"
    }
   ],
   "source": [
    "f_new1[2,2] == f_old[2,2]"
   ]
  },
  {
   "cell_type": "markdown",
   "metadata": {},
   "source": [
    "As an example of a shared postpoint, we noted (0,0), and (0,5) both should map to <code>f_new</code> at a position (2,5). This does not happen with the above attempt at remapped in one index slice:"
   ]
  },
  {
   "cell_type": "code",
   "execution_count": 7,
   "metadata": {
    "collapsed": false
   },
   "outputs": [
    {
     "data": {
      "text/plain": [
       "False"
      ]
     },
     "execution_count": 7,
     "metadata": {},
     "output_type": "execute_result"
    }
   ],
   "source": [
    "f_new1[2,5] == (f_old[0,0] + f_old[0,5])"
   ]
  },
  {
   "cell_type": "markdown",
   "metadata": {},
   "source": [
    "In fact, based on the above shared postpoint mappings summarized above, we need the following to hold as well:"
   ]
  },
  {
   "cell_type": "code",
   "execution_count": 8,
   "metadata": {
    "collapsed": false
   },
   "outputs": [
    {
     "data": {
      "text/plain": [
       "False"
      ]
     },
     "execution_count": 8,
     "metadata": {},
     "output_type": "execute_result"
    }
   ],
   "source": [
    "f_new1[3,4] == (f_old[2,5] + f_old[4,4]) "
   ]
  },
  {
   "cell_type": "code",
   "execution_count": 9,
   "metadata": {
    "collapsed": false
   },
   "outputs": [
    {
     "data": {
      "text/plain": [
       "False"
      ]
     },
     "execution_count": 9,
     "metadata": {},
     "output_type": "execute_result"
    }
   ],
   "source": [
    "f_new1[3,5] == (f_old[1,5] + f_old[3,5] + f_old[4,5]) "
   ]
  },
  {
   "cell_type": "markdown",
   "metadata": {},
   "source": [
    "However, none of them do. Instead, because of row major ordering and how array indexing is done, only the last of these are actually assigned to the above postpoints. That is, we have:"
   ]
  },
  {
   "cell_type": "code",
   "execution_count": 10,
   "metadata": {
    "collapsed": false
   },
   "outputs": [
    {
     "data": {
      "text/plain": [
       "True"
      ]
     },
     "execution_count": 10,
     "metadata": {},
     "output_type": "execute_result"
    }
   ],
   "source": [
    "f_new1[2,5] == f_old[0,5]"
   ]
  },
  {
   "cell_type": "code",
   "execution_count": 11,
   "metadata": {
    "collapsed": false
   },
   "outputs": [
    {
     "data": {
      "text/plain": [
       "True"
      ]
     },
     "execution_count": 11,
     "metadata": {},
     "output_type": "execute_result"
    }
   ],
   "source": [
    "f_new1[3,4] == f_old[4,4]"
   ]
  },
  {
   "cell_type": "code",
   "execution_count": 12,
   "metadata": {
    "collapsed": false
   },
   "outputs": [
    {
     "data": {
      "text/plain": [
       "True"
      ]
     },
     "execution_count": 12,
     "metadata": {},
     "output_type": "execute_result"
    }
   ],
   "source": [
    "f_new1[3,5] == f_old[4,5]"
   ]
  },
  {
   "cell_type": "markdown",
   "metadata": {},
   "source": [
    "The packets are not cumulatively incremented at each shared postpoint location, but <b>instead the last one overwrites the others.</b>"
   ]
  },
  {
   "cell_type": "markdown",
   "metadata": {},
   "source": [
    "## Development of a looping routine"
   ]
  },
  {
   "cell_type": "markdown",
   "metadata": {},
   "source": [
    "We develop a remapping routine by first coding a mapping function <code>remap_assignment</code> that succeeds where the above failed. That is, we have no restriction on shared postpoints, we will properly increment as much density as reaches a particular postpoint. As a first pass, we code this in an obvious way in python, which will be extremely slow. We then try to improve the performance by falling back on Cython."
   ]
  },
  {
   "cell_type": "markdown",
   "metadata": {},
   "source": [
    "### Python version: <code>remap_assignment</code>"
   ]
  },
  {
   "cell_type": "markdown",
   "metadata": {},
   "source": [
    "The loop should be implemented as follows:"
   ]
  },
  {
   "cell_type": "code",
   "execution_count": 13,
   "metadata": {
    "collapsed": true
   },
   "outputs": [],
   "source": [
    "#loop through each i,j and increment the density at each postpoint duple\n",
    "def remap_assignment_py(f_old, map1, map2):\n",
    "    \n",
    "    f_new = np.zeros_like(f_old) \n",
    "    for i in range(f_old.shape[0]):\n",
    "        for j in range(f_old.shape[1]):\n",
    "            f_new[map1[i,j], map2[i,j]] += f_old[i,j]\n",
    "            \n",
    "    return f_new"
   ]
  },
  {
   "cell_type": "markdown",
   "metadata": {},
   "source": [
    "Check to see if remapping succeeded where the above failed"
   ]
  },
  {
   "cell_type": "code",
   "execution_count": 14,
   "metadata": {
    "collapsed": true
   },
   "outputs": [],
   "source": [
    "f_new2 = remap_assignment_py(f_old, xpostpointmesh[0,:,:], vxprepointmesh)"
   ]
  },
  {
   "cell_type": "code",
   "execution_count": 15,
   "metadata": {
    "collapsed": false
   },
   "outputs": [
    {
     "data": {
      "text/plain": [
       "True"
      ]
     },
     "execution_count": 15,
     "metadata": {},
     "output_type": "execute_result"
    }
   ],
   "source": [
    "f_new2[2,5] == (f_old[0,0] + f_old[0,5]) "
   ]
  },
  {
   "cell_type": "code",
   "execution_count": 16,
   "metadata": {
    "collapsed": false
   },
   "outputs": [
    {
     "data": {
      "text/plain": [
       "True"
      ]
     },
     "execution_count": 16,
     "metadata": {},
     "output_type": "execute_result"
    }
   ],
   "source": [
    "f_new2[2,5] == (f_old[0,0] + f_old[0,5])"
   ]
  },
  {
   "cell_type": "code",
   "execution_count": 17,
   "metadata": {
    "collapsed": false
   },
   "outputs": [
    {
     "data": {
      "text/plain": [
       "True"
      ]
     },
     "execution_count": 17,
     "metadata": {},
     "output_type": "execute_result"
    }
   ],
   "source": [
    "f_new2[3,5] == (f_old[1,5] + f_old[3,5] + f_old[4,5]) "
   ]
  },
  {
   "cell_type": "markdown",
   "metadata": {},
   "source": [
    "As expected, this works fine. The only issue is its speed when the dimensions become sufficiently large. Before we compare speed, we write a Cython version:"
   ]
  },
  {
   "cell_type": "markdown",
   "metadata": {},
   "source": [
    "### Cython version: <code>remap_assignment</code>"
   ]
  },
  {
   "cell_type": "code",
   "execution_count": 18,
   "metadata": {
    "collapsed": false
   },
   "outputs": [],
   "source": [
    "%load_ext Cython"
   ]
  },
  {
   "cell_type": "code",
   "execution_count": 19,
   "metadata": {
    "collapsed": false,
    "scrolled": false
   },
   "outputs": [],
   "source": [
    "%%cython\n",
    "\n",
    "import numpy as np\n",
    "cimport numpy as np\n",
    "\n",
    "DTYPE = np.float64\n",
    "DTYPEINT = np.int64\n",
    "\n",
    "ctypedef np.float64_t DTYPE_t\n",
    "ctypedef np.int64_t DTYPEINT_t\n",
    "\n",
    "def remap_assignment_cy(np.ndarray[DTYPE_t, ndim=2] f_old,  np.ndarray[DTYPEINT_t, ndim=2] map1, np.ndarray[DTYPEINT_t, ndim=2] map2, int dim1, int dim2):\n",
    "   \n",
    "    cdef np.ndarray[DTYPE_t, ndim=2] f_new = np.zeros([f_old.shape[0], f_old.shape[1]], dtype = DTYPE)\n",
    "    cdef int i\n",
    "    cdef int j\n",
    "    for i in range(dim1):\n",
    "        for j in range(dim2):\n",
    "            f_new[map1[i,j], map2[i,j]] += f_old[i,j]\n",
    "    return f_new"
   ]
  },
  {
   "cell_type": "markdown",
   "metadata": {},
   "source": [
    "Note we have apply a thin Python wrapper to this routine <code>def</code> function (as opposed to a <code>cdef</code> method which is only available within the Cython module). \n",
    "\n",
    "Now we try to use this Cython function"
   ]
  },
  {
   "cell_type": "code",
   "execution_count": 20,
   "metadata": {
    "collapsed": false
   },
   "outputs": [],
   "source": [
    "f_new3 = remap_assignment_cy(f_old, xpostpointmesh[0,:,:], vxprepointmesh, f_old.shape[0], f_old.shape[1])"
   ]
  },
  {
   "cell_type": "code",
   "execution_count": 21,
   "metadata": {
    "collapsed": false
   },
   "outputs": [
    {
     "data": {
      "text/plain": [
       "True"
      ]
     },
     "execution_count": 21,
     "metadata": {},
     "output_type": "execute_result"
    }
   ],
   "source": [
    "f_new3[2,5] == (f_old[0,0] + f_old[0,5])"
   ]
  },
  {
   "cell_type": "code",
   "execution_count": 22,
   "metadata": {
    "collapsed": false
   },
   "outputs": [
    {
     "data": {
      "text/plain": [
       "True"
      ]
     },
     "execution_count": 22,
     "metadata": {},
     "output_type": "execute_result"
    }
   ],
   "source": [
    "f_new3[2,5] == (f_old[0,0] + f_old[0,5])"
   ]
  },
  {
   "cell_type": "code",
   "execution_count": 23,
   "metadata": {
    "collapsed": false
   },
   "outputs": [
    {
     "data": {
      "text/plain": [
       "True"
      ]
     },
     "execution_count": 23,
     "metadata": {},
     "output_type": "execute_result"
    }
   ],
   "source": [
    "f_new3[3,5] == (f_old[1,5] + f_old[3,5] + f_old[4,5]) "
   ]
  },
  {
   "cell_type": "markdown",
   "metadata": {},
   "source": [
    "This also checks out."
   ]
  },
  {
   "cell_type": "markdown",
   "metadata": {},
   "source": [
    "## Performance comparisons"
   ]
  },
  {
   "cell_type": "markdown",
   "metadata": {},
   "source": [
    "Now that we know the implementation works, use any postpointmesh, and do no need to fuss with if it still works if we have shared postpoints. We know it will. Hence, for ease of implementation here, we just periodize the postpoint mesh. Incidentally, this will produce all unique postpoints, but indeed we have just proven the above algorithms do not mind if they are shared or not."
   ]
  },
  {
   "cell_type": "code",
   "execution_count": 24,
   "metadata": {
    "collapsed": true
   },
   "outputs": [],
   "source": [
    "# SETUP the problem\n",
    "\n",
    "Nx, Nvx = 1024, 1024\n",
    "xprepointmesh = np.outer(np.arange(Nx), np.ones(Nvx))\n",
    "vxprepointmesh = np.outer(np.ones(Nx), np.arange(Nvx))\n",
    "vxprepointvaluemesh = np.outer(np.ones(Nx), np.linspace(-2,2,Nvx))\n",
    "\n",
    "# type as int64, for all objects that also serve as indices later\n",
    "xprepointmesh = xprepointmesh.astype(int)\n",
    "vxprepointmesh = vxprepointmesh.astype(int)\n",
    "\n",
    "dx, dt = 1., 1.\n",
    "CFL = vxprepointvaluemesh * dt / dx\n",
    "S = np.where(vxprepointvaluemesh < 0, np.ceil(vxprepointvaluemesh), np.floor(vxprepointvaluemesh)).astype(int)\n",
    "alpha = CFL - S\n",
    "\n",
    "xpostpointmesh = np.zeros((2,Nx,Nvx))\n",
    "xpostpointmesh[0,:,:] = xprepointmesh + S\n",
    "xpostpointmesh[1,:,:] = xpostpointmesh[0,:,:] + np.sign(vxprepointvaluemesh)\n",
    "xpostpointmesh = xpostpointmesh.astype(int)\n",
    "xpostpointmesh = np.mod(xpostpointmesh, Nx)\n",
    "\n",
    "f_old = 0.25 * np.random.rand(Nx*Nvx).reshape(Nx,Nvx)"
   ]
  },
  {
   "cell_type": "markdown",
   "metadata": {},
   "source": [
    "#### DECSKS-2.0 routine"
   ]
  },
  {
   "cell_type": "code",
   "execution_count": 25,
   "metadata": {
    "collapsed": false
   },
   "outputs": [
    {
     "name": "stdout",
     "output_type": "stream",
     "text": [
      "100 loops, best of 3: 11 ms per loop\n"
     ]
    }
   ],
   "source": [
    "%timeit f_new = remap_assignment_DECSKSv2(f_old, xpostpointmesh[0,:,:], vxprepointmesh)"
   ]
  },
  {
   "cell_type": "markdown",
   "metadata": {},
   "source": [
    "#### Python loop"
   ]
  },
  {
   "cell_type": "code",
   "execution_count": 26,
   "metadata": {
    "collapsed": false
   },
   "outputs": [
    {
     "name": "stdout",
     "output_type": "stream",
     "text": [
      "1 loops, best of 3: 991 ms per loop\n"
     ]
    }
   ],
   "source": [
    "%timeit f_new2 = remap_assignment_py(f_old, xpostpointmesh[0,:,:], vxprepointmesh)"
   ]
  },
  {
   "cell_type": "markdown",
   "metadata": {},
   "source": [
    "#### Cython loop"
   ]
  },
  {
   "cell_type": "code",
   "execution_count": 27,
   "metadata": {
    "collapsed": false
   },
   "outputs": [
    {
     "name": "stdout",
     "output_type": "stream",
     "text": [
      "100 loops, best of 3: 9.42 ms per loop\n"
     ]
    }
   ],
   "source": [
    "%timeit f_new3 = remap_assignment_cy(f_old, xpostpointmesh[0,:,:], vxprepointmesh, f_old.shape[0], f_old.shape[1])"
   ]
  },
  {
   "cell_type": "markdown",
   "metadata": {},
   "source": [
    "<b>So we see Cython is able to restore the slow looping of python into fast C implementations, which is competitive with numpy built-ins.</b> The savings in going from python loops to Cython loops is ~ 119 times (note this figure was true for a certain run-through of the above timeit tests. Likely, we have run them a few times since then giving slightly different times, so the exact figure here won't be the same but is basically the same). It is unsurprising since numpy are hard-coded C routines. Shortcutting to Cython permits us to produce similar efficiency gains."
   ]
  },
  {
   "cell_type": "markdown",
   "metadata": {},
   "source": [
    "Note, we are exploiting <a href = \"http://docs.cython.org/src/tutorial/numpy.html#efficient-indexing\">efficient indexing</a> here by typing the ndarrays, e.g.\n",
    "\n",
    "    np.ndarray[DTYPE_t, ndim=2] f_old\n",
    "    \n",
    "in function parameters and declarations like\n",
    "\n",
    "    cdef np.ndarray[DTYPE_t, ndim=2] f_new\n",
    "\n",
    "and we use compile time data types (there exist all such corresponding data types that have the suffice <code>_t</code>).\n",
    "\n",
    "To emphasize how big of a difference this makes. We remove these declarations below and replace them with just the more generic type information (i.e. <code>np.ndarray</code> rather than <code>np.ndarray[DTYPE_t, ndim=2]</code>)."
   ]
  },
  {
   "cell_type": "markdown",
   "metadata": {},
   "source": [
    "## Demonstration of Cython performance loss without ndarray typing"
   ]
  },
  {
   "cell_type": "code",
   "execution_count": 28,
   "metadata": {
    "collapsed": false
   },
   "outputs": [],
   "source": [
    "%%cython\n",
    "\n",
    "import numpy as np\n",
    "cimport numpy as np\n",
    "\n",
    "DTYPE = np.float64\n",
    "DTYPEINT = np.int64\n",
    "\n",
    "ctypedef np.float64_t DTYPE_t\n",
    "ctypedef np.int64_t DTYPEINT_t\n",
    "\n",
    "def remap_assignment_cy2(np.ndarray f_old,  np.ndarray map1, np.ndarray map2, int dim1, int dim2):\n",
    "   \n",
    "    cdef np.ndarray f_new = np.zeros([f_old.shape[0], f_old.shape[1]], dtype = DTYPE)\n",
    "    cdef int i\n",
    "    cdef int j\n",
    "    for i in range(dim1):\n",
    "        for j in range(dim2):\n",
    "            f_new[map1[i,j], map2[i,j]] += f_old[i,j]\n",
    "    return f_new"
   ]
  },
  {
   "cell_type": "code",
   "execution_count": 29,
   "metadata": {
    "collapsed": false
   },
   "outputs": [
    {
     "name": "stdout",
     "output_type": "stream",
     "text": [
      "1 loops, best of 3: 831 ms per loop\n"
     ]
    }
   ],
   "source": [
    "%timeit f_new4 = remap_assignment_cy2(f_old, xpostpointmesh[0,:,:], vxprepointmesh, f_old.shape[0], f_old.shape[1])"
   ]
  },
  {
   "cell_type": "markdown",
   "metadata": {},
   "source": [
    "Which is closer to the time it takes strict python looping. <b>This clearly communicates the bottlenecks in large arrays is the array lookups and assignments</b> (the <code>[]</code> operator still uses full Python operations)."
   ]
  },
  {
   "cell_type": "markdown",
   "metadata": {},
   "source": [
    "To optimize further, we can remove bounds checking on the arrays with the decorator\n",
    "\n",
    "    cimport cython\n",
    "    @cython.boundscheck(False)"
   ]
  },
  {
   "cell_type": "markdown",
   "metadata": {},
   "source": [
    "## Cython <code>remap_assignment</code> function with <code>@cython.boundscheck(False)</code>"
   ]
  },
  {
   "cell_type": "code",
   "execution_count": 30,
   "metadata": {
    "collapsed": false
   },
   "outputs": [],
   "source": [
    "%%cython\n",
    "\n",
    "import numpy as np\n",
    "cimport numpy as np\n",
    "cimport cython\n",
    "\n",
    "DTYPE = np.float64\n",
    "DTYPEINT = np.int64\n",
    "\n",
    "ctypedef np.float64_t DTYPE_t\n",
    "ctypedef np.int64_t DTYPEINT_t\n",
    "\n",
    "@cython.boundscheck(False)\n",
    "def remap_assignment_cy3(np.ndarray[DTYPE_t, ndim=2] f_old,  np.ndarray[DTYPEINT_t, ndim=2] map1, np.ndarray[DTYPEINT_t, ndim=2] map2, int dim1, int dim2):\n",
    "    cdef np.ndarray[DTYPE_t, ndim=2] f_new = np.zeros([f_old.shape[0], f_old.shape[1]], dtype = DTYPE)\n",
    "    cdef int i\n",
    "    cdef int j\n",
    "    for i in range(dim1):\n",
    "        for j in range(dim2):\n",
    "            f_new[map1[i,j], map2[i,j]] += f_old[i,j]\n",
    "    return f_new"
   ]
  },
  {
   "cell_type": "code",
   "execution_count": 31,
   "metadata": {
    "collapsed": false
   },
   "outputs": [
    {
     "name": "stdout",
     "output_type": "stream",
     "text": [
      "100 loops, best of 3: 7.37 ms per loop\n"
     ]
    }
   ],
   "source": [
    "%timeit f_new5 = remap_assignment_cy3(f_old, xpostpointmesh[0,:,:], vxprepointmesh, f_old.shape[0], f_old.shape[1])"
   ]
  },
  {
   "cell_type": "markdown",
   "metadata": {},
   "source": [
    "which shaves off another millisecond at the cost of another part of a Python soul (ok, too dramatic). That is, by turning this off we agree to not use a staple of python: negative indexing. Also, we agree to be careful to not access data outside the bounds of our array. Which at best crashes our program, and at worst corrupts data elsewhere in some possibly devious, undetected way. Internally, Cython will treat the indices now as <code>unsigned int</code> types, so that should it encounter a negative index, it wraps around and corresponds to a very large positive value instead and you will suddenly be instructing Cython to access memory it does not have allocated for the purpose intended, it may even be memory it does not have permission to access leading to a segmentation fault."
   ]
  },
  {
   "cell_type": "markdown",
   "metadata": {},
   "source": [
    "## Addressing the dependence of which remap rule to use based on the sign of the CFL $\\Rightarrow$ <code>sift.pyx</code>\n",
    "\n",
    "<b>In general, the remap rule depends on the sign of the CFL number.</b> In DECSKS-2.0 we managed to reduce a column-by-column (velocity is constant for each row in a given column) implementation which is an $N_{vx}$ step problem to a two-step problem by using masked arrays. Instead of checking each (density and flux array) column's affiliated velocity sign and applying the remap rule required, we instead extracted all columns of the density/flux arrays associated with negative CFL numbers and all such columns that are affiliated with non-negative CFL numbers, then apply the remap rule to the array pertaining to negative CFL numbers once, and then the other remap rule to the other array with only non-negative CFL affiliation. We then consolidate the data for a return. The numpy/mask operations, and the consolitation are all $O(N^2)$ operations with $O(N^2)$ conditional checks for the specified condition (in this case, negative vs. non-negative). If we have control over this loop at the C level, we can remove $N$ conditional checks by noting the specific structure of our problem has CFL numbers that only vary by column since $\\mathcal{C}_j = v_j\\Delta t / \\Delta x$, and the time step $\\Delta t$ is the same value applied to all columns (whether or not it is positive or negative [e.g. higher order splitting schemes have negative substeps] is taken into account) by checking the sign of the CFL.\n",
    "\n",
    "Hence, rather than doing something as (what the masked implementation does under the hood with equivalent C code):\n",
    "\n",
    "    # Python code for what a numpy.masked arrays do under the hood\n",
    "    for i in range(dim1):\n",
    "        for j in range(dim2):\n",
    "            if CFL[i,j] >= 0:\n",
    "                f_nonneg[i,j] = f[i,j]\n",
    "            else:\n",
    "                f_neg[i,j] = f[i,j]\n",
    "\n",
    "We can do something as:\n",
    "\n",
    "    # Python code equivalent to the above given the circumstances (constant CFL per column),\n",
    "    for j in range(dim2):\n",
    "        if CFL[0,j] >= 0: # (0,j) chosen arbitrarily as CFL[:,j] = constant\n",
    "            for i in range(dim1):\n",
    "                f_nonneg[i,j] = f[i,j]\n",
    "        else:\n",
    "            for i in range(dim1):\n",
    "                f_neg[i,j] = f[i,j]\n",
    "\n",
    "This will be done in our Cython implementation."
   ]
  },
  {
   "cell_type": "markdown",
   "metadata": {},
   "source": [
    "We consider an implementation where we first extract all prepoint densities into two arrays pertaining to non-negative vs. negative velocity prepoint values as this determines the remap rule, but decide to explore sifting the density columns based on velocity prepoint column not by masked arrays, but by an equivalent function in Cython. We are assembling pieces that may be combined in a single module in the end, or used in conjunction at the very least.\n",
    "\n",
    "Looking ahead, the remap rule that must be applied has the form (here, <code>ma</code> refers to masked arrays, the <code>_pos</code> and <code>_neg</code> refer to non-negative (\"positive\") and negative CFL affiliations):\n",
    "\n",
    "        f_pos[ z.postpointmesh[0,:,:], vz.prepointmesh ] = f_old_ma - Uf_ma\n",
    "        f_neg[ z.postpointmesh[0,:,:], vz.prepointmesh ] = f_old_ma + Uf_ma\n",
    "        \n",
    "        f_remapped = # consolidate f_pos and f_neg columns\n",
    "       \n",
    "for the nearest index <code>k1</code>, then for <code>k2</code> we have\n",
    "       \n",
    "        f_pos[ z.postpointmesh[1,:,:], vz.prepointmesh ] = Uf_ma\n",
    "        f_neg[ z.postpointmesh[1,:,:], vz.prepointmesh ] = -Uf_ma\n",
    "        \n",
    "        f_remapped = # consolidate f_pos and f_neg columns\n",
    "        \n",
    "We could partition the update as follows instead. We do not need to mask <code>f_old</code>. Suppose we code a remapping function <code>remap</code> in Cython. Then we can can be updated without masking the density <code>f_old</code>, but only <code>Uf</code>. That is, we first map\n",
    "\n",
    "    f_k1 = remap(f_old, *args)\n",
    "    \n",
    "then, isolate through a to-be-coded function <code>sift</code> that is in Cython and which allocates the so-labelled (with respect to CFL sign affiliation) entries to otherwise zero arrays <code>Uf_neg</code> and <code>Uf_nonneg</code>\n",
    "\n",
    "    Uf_neg, Uf_pos = sift(Uf, vxprepointvaluemesh) \n",
    "    \n",
    "then, we update:\n",
    "\n",
    "    f_k1 -= remap(Uf_pos)\n",
    "    f_k2 += remap(Uf_neg)\n",
    "    \n",
    "This eliminates an unnecessary \"mask\" operation on <code>f_old</code>.\n",
    "\n",
    "As for the contiguous point <code>k2</code>, we have the total rule:\n",
    "\n",
    "        f_pos[ z.postpointmesh[1,:,:], vz.prepointmesh ] = Uf_ma\n",
    "        f_neg[ z.postpointmesh[1,:,:], vz.prepointmesh ] = -Uf_ma\n",
    "        f_k2 = # consolidate f_pos and f_neg\n",
    "\n",
    "We can pursue the following:\n",
    "\n",
    "        f_k2 += remap(Uf_pos)\n",
    "        f_k2 -= remap(Uf_neg)"
   ]
  },
  {
   "cell_type": "markdown",
   "metadata": {},
   "source": [
    "## A Cython implemented <code>sift</code> function vs. NumPy <code>mask</code>"
   ]
  },
  {
   "cell_type": "markdown",
   "metadata": {},
   "source": [
    "<font color = \"purple\">Below we refer to a parameter <code>f</code>, but it is meant to be general, i.e. for either species</code></font>\n",
    "\n",
    "We use this routine actually only tio sift <code>Uf</code> as negative vs. non-negative with respect to <code>vx.prepointmesh</code>. <b>Note, in DECSKS we should sift based on CFL, not on $v_x$, here we have $v_x$ used below since the author mistakenly did not realize the difference (described just below) and we did not feel like correcting something (vxprepointvaluemesh -> CFLnumbers) that does not change the steps</b>. Thus, when reading the stepthrough below, the reader should interpret the checks to be on the CFL numbers or otherwise assume we are talking about a positive time step.\n",
    "\n",
    "The reason it matters in practice to use CFL vs. velocity is that the CFL is ultimately what determines the form of the remap rule. Often, we state, even in past writeups, that this rule depends on the sign of $v_x$, however this is under the assumption that $\\Delta t > 0$. For high order split schemes, it is well known the negative time steps are required, not just possible (e.g. O11-6, O14-6, ...). Hence, the form that we apply for the remap must depend on CFL = $v_j\\text{frac}_s\\Delta t / \\Delta x$, which $\\text{frac}_s$ is the splitting coefficient for stage $s$, and can be negative!\n",
    "\n",
    "With this understanding, we proceed with the demonstration and development of a Cython routine."
   ]
  },
  {
   "cell_type": "markdown",
   "metadata": {},
   "source": [
    "In DECSKS, we perform the following verbatim, where we include both steps, i.e. first we develop the mask, then we apply it, then apply the converse.,"
   ]
  },
  {
   "cell_type": "markdown",
   "metadata": {},
   "source": [
    "### DECSKS-2.0 masked array performance test"
   ]
  },
  {
   "cell_type": "code",
   "execution_count": 32,
   "metadata": {
    "collapsed": false
   },
   "outputs": [
    {
     "name": "stdout",
     "output_type": "stream",
     "text": [
      "100 loops, best of 3: 15.1 ms per loop\n"
     ]
    }
   ],
   "source": [
    "%%timeit\n",
    "\n",
    "import numpy.ma as ma\n",
    "\n",
    "mask_neg =  (vxprepointvaluemesh < 0)\n",
    "f_old_ma = ma.array(f_old.copy())\n",
    "f_old_ma.mask = mask_neg\n",
    "\n",
    "# after we also reverse the procedure\n",
    "\n",
    "mask_pos = np.logical_not(mask_neg) # pos means non-negative here\n",
    "f_old_ma.mask = mask_pos"
   ]
  },
  {
   "cell_type": "markdown",
   "metadata": {},
   "source": [
    "Timeit tests on just the mask application constitutes the majority of the processor time."
   ]
  },
  {
   "cell_type": "code",
   "execution_count": 33,
   "metadata": {
    "collapsed": true
   },
   "outputs": [],
   "source": [
    "# Setup for timeit test of just the mask application (note the timeit test above does not cache the objects used)\n",
    "\n",
    "import numpy.ma as ma\n",
    "\n",
    "mask_neg = (vxprepointvaluemesh < 0)\n",
    "f_old_ma = ma.array(f_old.copy())"
   ]
  },
  {
   "cell_type": "markdown",
   "metadata": {},
   "source": [
    "time just the mask application..."
   ]
  },
  {
   "cell_type": "code",
   "execution_count": 34,
   "metadata": {
    "collapsed": false,
    "scrolled": false
   },
   "outputs": [
    {
     "name": "stdout",
     "output_type": "stream",
     "text": [
      "100 loops, best of 3: 6.26 ms per loop\n"
     ]
    }
   ],
   "source": [
    "%timeit f_old_ma.mask = mask_neg"
   ]
  },
  {
   "cell_type": "markdown",
   "metadata": {},
   "source": [
    "This is unsurprising it costs the most since the mask application must loop over ever element."
   ]
  },
  {
   "cell_type": "markdown",
   "metadata": {},
   "source": [
    "Creating the masks themselves incidentally takes minimal time:"
   ]
  },
  {
   "cell_type": "code",
   "execution_count": 35,
   "metadata": {
    "collapsed": false
   },
   "outputs": [
    {
     "name": "stdout",
     "output_type": "stream",
     "text": [
      "1000 loops, best of 3: 1.23 ms per loop\n"
     ]
    }
   ],
   "source": [
    "%timeit mask_neg = (vxprepointvaluemesh < 0)"
   ]
  },
  {
   "cell_type": "markdown",
   "metadata": {},
   "source": [
    "Nonetheless, this is an expensive operation. Though, as was mentioned in DECSKS-09, this was by far the least expensive of several options, not considering Cython based implementations that is."
   ]
  },
  {
   "cell_type": "markdown",
   "metadata": {},
   "source": [
    "## <font color = \"purple\">Cython coded <code>sift</code> routine as a replacement for numpy masks: Multidimensional ndarrays implementation</font> $(*)$"
   ]
  },
  {
   "cell_type": "markdown",
   "metadata": {},
   "source": [
    "### <font color = \"green\"><code>sift</code> method"
   ]
  },
  {
   "cell_type": "code",
   "execution_count": 36,
   "metadata": {
    "collapsed": false
   },
   "outputs": [],
   "source": [
    "%%cython\n",
    "\n",
    "import numpy as np\n",
    "cimport numpy as np\n",
    "\n",
    "ctypedef np.float64_t DTYPE_t\n",
    "\n",
    "def sift(np.ndarray[DTYPE_t, ndim=2] In, np.ndarray[DTYPE_t, ndim=2] vx):\n",
    "\n",
    "    cdef int i\n",
    "    cdef int j\n",
    "    cdef int k = 0\n",
    "    \n",
    "    cdef int Nx = vx.shape[0]\n",
    "    cdef int Nvx  = vx.shape[1]\n",
    "    cdef np.ndarray[DTYPE_t, ndim=2] out_nonneg = np.zeros((Nx, Nvx))\n",
    "    cdef np.ndarray[DTYPE_t, ndim=2] out_neg = np.zeros((Nx, Nvx))\n",
    "    \n",
    "    for i in range(Nx):\n",
    "        for j in range(Nvx):\n",
    "            if vx[i,j] >= 0:\n",
    "                out_nonneg[i,j] = In[i,j]\n",
    "            else:\n",
    "                out_neg[i,j] = In[i,j]\n",
    "                \n",
    "    return out_nonneg, out_neg"
   ]
  },
  {
   "cell_type": "code",
   "execution_count": 37,
   "metadata": {
    "collapsed": false,
    "scrolled": true
   },
   "outputs": [
    {
     "name": "stdout",
     "output_type": "stream",
     "text": [
      "100 loops, best of 3: 6.63 ms per loop\n"
     ]
    }
   ],
   "source": [
    "%timeit f_nonneg, f_neg = sift(f_old, vxprepointvaluemesh)"
   ]
  },
  {
   "cell_type": "markdown",
   "metadata": {},
   "source": [
    "For comparison sake, we consider a C-based version that uses native C objects"
   ]
  },
  {
   "cell_type": "markdown",
   "metadata": {},
   "source": [
    "### Cython version with C structs"
   ]
  },
  {
   "cell_type": "code",
   "execution_count": 38,
   "metadata": {
    "collapsed": false,
    "scrolled": false
   },
   "outputs": [],
   "source": [
    "%%cython\n",
    "\n",
    "import numpy as np\n",
    "cimport numpy as np\n",
    "from libc.math cimport sqrt \n",
    "from libc.stdlib cimport malloc, free\n",
    "cimport cython\n",
    " \n",
    "cdef struct Duple:\n",
    "    double x\n",
    "    double y\n",
    "    \n",
    "ctypedef np.float64_t DTYPE_t\n",
    "\n",
    "def sift(np.ndarray[DTYPE_t, ndim=2] In, np.ndarray[DTYPE_t, ndim=2] vx):\n",
    "\n",
    "    cdef int i\n",
    "    cdef int j\n",
    "    cdef int k = 0\n",
    "    cdef int N = 0\n",
    "    cdef int Nx = vx.shape[0]\n",
    "    cdef int Nvx  = vx.shape[1]\n",
    "    \n",
    "    cdef Duple * prepoint\n",
    "    cdef double * f\n",
    "      \n",
    "    for i in range(Nx):\n",
    "        for j in range(Nvx):\n",
    "            if vx[i,j] >= 0:\n",
    "                N += 1\n",
    "    \n",
    "    # Allocate memory\n",
    "    prepoint = <Duple *> malloc(N*sizeof(Duple))\n",
    "    f = <double *> malloc(N*sizeof(double))\n",
    "    \n",
    "    for i in range(Nx):\n",
    "        for j in range(Nvx):\n",
    "            if vx[i,j] >= 0:\n",
    "                f[k] = In[i,j]\n",
    "                prepoint.x = i\n",
    "                prepoint.y = j\n",
    "                k += 1               \n",
    "                \n",
    "    return None"
   ]
  },
  {
   "cell_type": "markdown",
   "metadata": {},
   "source": [
    "As can be seen above, the implementation suggests rare Python interaction (i.e. mostly white space above if a flag is added to the cell function magic call <code>%%cython --a</code>, where a refers to annotations)."
   ]
  },
  {
   "cell_type": "code",
   "execution_count": 39,
   "metadata": {
    "collapsed": false,
    "scrolled": false
   },
   "outputs": [
    {
     "name": "stdout",
     "output_type": "stream",
     "text": [
      "100 loops, best of 3: 6.4 ms per loop\n"
     ]
    }
   ],
   "source": [
    "%timeit sift(f_old, vxprepointvaluemesh)"
   ]
  },
  {
   "cell_type": "markdown",
   "metadata": {},
   "source": [
    "this is of course the fastest, however, we are not factoring in the conversion from an array of C struct <code>Duple</code> data types to a numpy array. This can be done by generating an appropriate <code>PyObject *</code> using the Python-C API. The conversion should take appreciable time such that we anticipate (and do not care to investigate) that the actual use of the above code where we used native C types and its associated conversions to and from <code>PyObject</code> to C types and back again would approach the Cython performance. Hence, we see Cython permits accessing C like speeds (as experience has told us before this), though we acknowledge this does not use a 2D C array, but a Python array with static typing for fast indexing."
   ]
  },
  {
   "cell_type": "markdown",
   "metadata": {},
   "source": [
    "# <code>remap_step</code> and <code>boundaryconditions</code> redesign\n",
    "\n",
    "Incidentally, the two routines remap_step and boundaryconditions are too intertwined to deal with separately."
   ]
  },
  {
   "cell_type": "markdown",
   "metadata": {
    "collapsed": true
   },
   "source": [
    "thus, we consider how to combine these routines to reinvent the <code>remap_step</code> orchestration and what changes happen to the boundary conditions. Note, we hold a thin Python wrapper around these C functions, this permits calling the function from our Python interface, at the cost of some small overhead."
   ]
  },
  {
   "cell_type": "markdown",
   "metadata": {},
   "source": [
    "The entire <code>remap_step</code> routine from DECSKS-21 is as follows (docstring omitted):"
   ]
  },
  {
   "cell_type": "code",
   "execution_count": null,
   "metadata": {
    "collapsed": true
   },
   "outputs": [],
   "source": [
    "def remap_step(\n",
    "        sim_params,\n",
    "        f_old,\n",
    "        Uf,\n",
    "        n,\n",
    "        z,\n",
    "        vz\n",
    "        ):\n",
    "    \n",
    "    # remap to nearest neighbor cell center\n",
    "    f_k1 = remap_assignment(\n",
    "        sim_params,\n",
    "        f_old,\n",
    "        Uf,\n",
    "        z,\n",
    "        vz,\n",
    "        index = 'nearest'    # remaps to nearest neighbor index\n",
    "        )\n",
    "\n",
    "    # remap to contiguous cell center\n",
    "    f_k2 = remap_assignment(\n",
    "        sim_params,\n",
    "        f_old,\n",
    "        Uf,\n",
    "        z,\n",
    "        vz,\n",
    "        index = 'contiguous'    # remaps to contiguous neighbor of above\n",
    "        )\n",
    "\n",
    "    f_remapped = f_k1 + f_k2\n",
    "\n",
    "    return f_remapped\n"
   ]
  },
  {
   "cell_type": "markdown",
   "metadata": {},
   "source": [
    "Two mapping calls are invariably required at some level of the abstraction, <code>k1</code> and <code>k2</code> are the nearest gridpoint to the true postpoint, and the contiguous gridpoint along the same direction of travel, respectively. Both have different remap rules, both have different remap rules for the flux <code>Uf</code> (described above)."
   ]
  },
  {
   "cell_type": "markdown",
   "metadata": {},
   "source": [
    "#### <code>remap_assignment</code> (DECSKS-2.0, e.g. from notebook DECSKS-21)"
   ]
  },
  {
   "cell_type": "code",
   "execution_count": null,
   "metadata": {
    "collapsed": true
   },
   "outputs": [],
   "source": [
    "def remap_assignment(\n",
    "        sim_params,\n",
    "        f_old,\n",
    "        s,\n",
    "        Uf,\n",
    "        z,\n",
    "        vz,\n",
    "        charge,\n",
    "        index = 'nearest'\n",
    "        ):\n",
    "    \"\"\"Remaps the z.N MCs to Eulerian mesh at indices k1 and k2\n",
    "\n",
    "    inputs:\n",
    "    sim_params -- (dict) simulation parameters\n",
    "    f_old -- (ndarray, dim=2) density from previous time step\n",
    "    Uf -- (ndarray, dim=2) normalized flux originating from each\n",
    "          prepointmesh location [i,j]\n",
    "    z -- (instance) phase space variable being evolved\n",
    "    vz -- (instance) generalized velocity\n",
    "    charge -- (int) -1 or +1 indicates the sign of the charge and\n",
    "              magnitude in units of electronic charge multiples\n",
    "    index -- (str) 'nearest' or 'contiguous' is a kwarg that\n",
    "             determines the form of the remap rule (i.e.\n",
    "             amounts to determining if we assign a proportion\n",
    "             zeta vs. (1 - zeta))\n",
    "\n",
    "    outputs:\n",
    "    f_new -- (ndarray, dim=2) density with f_old remapped to\n",
    "             according to the mapping\n",
    "\n",
    "            [z.prepointmesh, vz.prepointmesh] --> [k, vz.prepointmesh]\n",
    "\n",
    "    \"\"\"\n",
    "    mask_neg =  (z.CFL.frac[s,:,:] < 0)\n",
    "    mask_pos = np.logical_not(mask_neg)\n",
    "\n",
    "    if index == 'nearest':\n",
    "\n",
    "        # the reason for copying the array here is to leave f_old\n",
    "        # as the unchanged template. Inside the boundary condition\n",
    "        # routines we modify the density array to account for\n",
    "        # the boundary (e.g. absorbing condition) based on the\n",
    "        # values of z.postpointmesh[0,:,:] or z.postpointmesh[1,:,:]\n",
    "        # hence, if we change the template f_old here for the\n",
    "        # 'nearest' postpoints in z.postpointmesh[0,:,:], and\n",
    "        # use that to make the remap assignment, when we\n",
    "        # move onto repeating the procedure for the 'contiguous'\n",
    "        # postpoints at z.postpointmesh[1,:,:] we would be starting\n",
    "        # out with an already modified density that had entries\n",
    "        # modified that were consistent with the previous remap\n",
    "        # execution. We need to start with a fresh copy each time\n",
    "        # to factor in all prepoint densities. Since the stepthrough\n",
    "        # for the 'contiguous' postpoint always follows the 'nearest'\n",
    "        # assignment, and nothing follows it we do not require copying\n",
    "        # it an additional time but instead are free to modify the\n",
    "        # original f_old since its role will conclude after mapping f_k2\n",
    "        f_BCs_applied = f_old.copy() # BCs will be applied to f_old\n",
    "        Uf_BCs_applied = Uf.copy()\n",
    "\n",
    "        # APPLY BOUNDARY CONDITIONS\n",
    "        # e.g. for absorbing boundaries, we zero out all prepoint density entries\n",
    "        # which exit the domain\n",
    "        f_BCs_applied, Uf_BCs_applied, z = \\\n",
    "          eval(sim_params['boundarycondition_function_handle'][z.str])(\n",
    "              f_BCs_applied, Uf_BCs_applied, z, vz, sim_params, charge, k = 0)\n",
    "\n",
    "        f_old_ma = ma.array(f_BCs_applied)\n",
    "        Uf_ma = ma.array(Uf_BCs_applied)\n",
    "        f_pos, f_neg = ma.zeros(f_BCs_applied.shape), ma.zeros(f_BCs_applied.shape)\n",
    "\n",
    "        # mask out negative values\n",
    "        f_old_ma.mask = mask_neg\n",
    "        Uf_ma.mask = mask_neg\n",
    "\n",
    "        f_pos[ z.postpointmesh[0,:,:], vz.prepointmesh ] = f_old_ma - Uf_ma\n",
    "\n",
    "        # mask out all positive values\n",
    "        f_old_ma.mask = mask_pos\n",
    "        Uf_ma.mask = mask_pos\n",
    "\n",
    "        f_neg[ z.postpointmesh[0,:,:], vz.prepointmesh ] = f_old_ma + Uf_ma\n",
    "\n",
    "    elif index == 'contiguous':\n",
    "        # APPLY BOUNDARY CONDITIONS\n",
    "        # e.g. for absorbing boundaries, we zero out all prepoint density entries\n",
    "        # which exit the domain\n",
    "        f_old, Uf, z = \\\n",
    "          eval(sim_params['boundarycondition_function_handle'][z.str])(\n",
    "              f_old, Uf, z, vz, sim_params, charge, k = 1)\n",
    "\n",
    "        # initialize masked array for flux Uf; mask out negative values\n",
    "        f_pos, f_neg = ma.zeros(f_old.shape), ma.zeros(f_old.shape)\n",
    "        Uf_ma = ma.array(Uf)\n",
    "        Uf_ma.mask = mask_neg\n",
    "\n",
    "        f_pos[ z.postpointmesh[1,:,:], vz.prepointmesh ] = Uf_ma\n",
    "\n",
    "        # mask out all positive values\n",
    "        Uf_ma.mask = mask_pos\n",
    "\n",
    "        f_neg[ z.postpointmesh[1,:,:], vz.prepointmesh ] = -Uf_ma\n",
    "\n",
    "\n",
    "    # \"wherever there is negative data, assign f_neg, else assign f_pos\n",
    "    f_new = np.where(mask_neg == True, f_neg.data, f_pos.data)\n",
    "    \n",
    "    return f_new"
   ]
  },
  {
   "cell_type": "markdown",
   "metadata": {},
   "source": [
    "The majority of the above is just (masked arrays and copies). The boundary conditions module which is called above by magic <code>eval</code> function above with a function handle (str) that is assembled based on the inputs from the user in <code>etc/params.dat</code> before the simulation starts and stored in the dictionary <code>sim_params</code>, takes the following form where we start at either <code>periodic</code> or <code>nonperiodic</code> and are redirected according to strings available in the dictionary <code>sim_params</code> which communicate which boundary condition is specified (hence which subroutine to follow). For example, often we have $v_x$ have periodic BCs, we enter on the top method, periodize the mesh, then exit. Note the long comment about how to evade shared postpoints, do not dwell long on this as it is about to deprecated given improvements just after this section. It is provided for completeness)."
   ]
  },
  {
   "cell_type": "markdown",
   "metadata": {},
   "source": [
    "#### lib.boundaryconditions: DECSKS-2.0 (e.g. from notebook DECSKS-21)"
   ]
  },
  {
   "cell_type": "code",
   "execution_count": null,
   "metadata": {
    "collapsed": true
   },
   "outputs": [],
   "source": [
    "import numpy as np\n",
    "\n",
    "def periodic(f_old,\n",
    "             Uf,\n",
    "             z,\n",
    "             vz,\n",
    "             sim_params, # used in boundaryconditions.nonperiodic\n",
    "             charge,\n",
    "             k = None\n",
    "             ):\n",
    "    \"\"\"Applies periodic boundary conditions to\n",
    "    postpointmesh\n",
    "\n",
    "    inputs:\n",
    "    f_old -- (ndarray, ndim=2) density array\n",
    "    z -- (instance) phase space variable being evolved\n",
    "\n",
    "        z.postpointmesh -- (ndarray, ndim=3),\n",
    "                           shape = (2, x.N, vx.N)\n",
    "\n",
    "    outputs:\n",
    "    f_old -- (ndarray, ndim=2) Array with both periodic\n",
    "             BCs being enforce\n",
    "    z    -- (instance) phase sapce variable being evolved with\n",
    "             updated attribute z.postpointmesh\n",
    "\n",
    "    f_old, Uf returned for symmetry with nonperiodic routine below\n",
    "    \"\"\"\n",
    "    z.postpointmesh = np.mod(z.postpointmesh, z.N)\n",
    "\n",
    "    return f_old, Uf, z\n",
    "\n",
    "def periodize_postpointmesh(zpostpointmesh, zN):\n",
    "    \"\"\"Applies periodic boundary conditions to\n",
    "    postpointmesh[k,:,:]\n",
    "\n",
    "    inputs:\n",
    "    z.postpointmesh -- (ndarray, ndim=2), shape = (x.N, vx.N)\n",
    "\n",
    "    outputs:\n",
    "    z.postpointmesh -- (ndarray, ndim=2), shape = (x.N, vx.N)\n",
    "                        periodic BCs applied\n",
    "\n",
    "    \"\"\"\n",
    "    zpostpointmesh = np.mod(zpostpointmesh, zN)\n",
    "\n",
    "    return zpostpointmesh\n",
    "\n",
    "def nonperiodic(f_old,\n",
    "                Uf,\n",
    "                z,\n",
    "                vz,\n",
    "                sim_params,\n",
    "                charge,\n",
    "                k = 0\n",
    "                ):\n",
    "    \"\"\"orchestrates applying nonperiodic boundary conditions\n",
    "    to the array w with total active grid points Nw. Nonperiodic\n",
    "    boundary conditions require handling both left and right\n",
    "    boundaries\n",
    "\n",
    "    inputs:\n",
    "    f_old -- (ndarray, ndim=2) density array\n",
    "    z -- (instance) phase space variable being evolved\n",
    "\n",
    "    outputs:\n",
    "    f_old -- (ndarray, ndim=2) density with both left and right\n",
    "             nonperiodic BCs enforced\n",
    "    Uf -- (ndarray, ndim=2) high order fluxes with both left and right\n",
    "             nonperiodic BCs enforced\n",
    "\n",
    "\n",
    "    z returned (no changes) for symmetry with periodic routine above\n",
    "    \"\"\"\n",
    "    # lower boundary\n",
    "    f_old, Uf = eval(sim_params['BC'][z.str]['lower'] +\n",
    "                           '_lower_boundary')(f_old, Uf,\n",
    "                                              z.postpointmesh[k,:,:], z, vz,\n",
    "                                              sim_params, charge)\n",
    "\n",
    "    # upper boundary\n",
    "    f_old, Uf = eval(sim_params['BC'][z.str]['upper'] +\n",
    "                           '_upper_boundary')(f_old, Uf,\n",
    "                                              z.postpointmesh[k,:,:], z, vz,\n",
    "                                              sim_params, charge)\n",
    "\n",
    "    # since the relevant entries of f_old and Uf that exit the domain\n",
    "    # are zeroed out, in order to have a clean addition as before\n",
    "    # we map their postpoints to their corresponding periodic BC locations\n",
    "    # so that there are no two shared postpoints by construction\n",
    "\n",
    "    # map z.postpointmesh to periodic locations\n",
    "    z.postpointmesh[k,:,:] = periodize_postpointmesh(z.postpointmesh[k,:,:], z.N)\n",
    "    # note that if there were shared postpoints, then lib.convect.remap_assignment\n",
    "    # would not allocate the correct densities since it is a matrix sum\n",
    "    # rather than a (slow) loop (where we could have used +=). For example\n",
    "    # should more than one prepoint share a common postpointss, only one\n",
    "    # cell's density would be allocated to the postpoint, the rest would be\n",
    "    # overwritten, not incrementally summed\n",
    "\n",
    "    # note the other function, periodic, periodizes z.postpointmesh.shape = (2, z.N, vz.N)\n",
    "    # here, we only want to periodize the postpointmesh pertaining to the index 'nearest'\n",
    "    # or 'contiguous' so that we do not tarnish the postpointmesh when passing through 'nearest'\n",
    "    # so that 'contiguous' is unphysically periodized, hence most boundaries are evaded.\n",
    "\n",
    "    return f_old, Uf, z\n",
    "\n",
    "\n",
    "def absorbing_lower_boundary(f_old, Uf, zpostpointmesh, z, vz, sim_params, charge):\n",
    "\n",
    "    f_old = np.where(zpostpointmesh <= 0, 0, f_old)\n",
    "    Uf = np.where(zpostpointmesh <= 0, 0, Uf)\n",
    "\n",
    "    return f_old, Uf\n",
    "\n",
    "def absorbing_upper_boundary(f_old, Uf, zpostpointmesh, z, vz, sim_params, charge):\n",
    "\n",
    "    f_old = np.where(zpostpointmesh >= z.N, 0, f_old)\n",
    "    Uf = np.where(zpostpointmesh >= z.N, 0, Uf)\n",
    "\n",
    "    return f_old, Uf\n"
   ]
  },
  {
   "cell_type": "markdown",
   "metadata": {},
   "source": [
    "To develop a better implementation, we do still use the same skeleton above, but clean up the \"extras\" and remove masks that work efficiently, but not as efficiently as equivalent, more natural, Cython routines.\n",
    "\n",
    "the design is presented above, but in words it is the following:\n",
    "\n",
    "    call boundaryconditions.orchestrator (orchestrator = periodic or nonperiodic)\n",
    "    \n",
    "    if periodic:               -> periodize mesh\n",
    "                               -> call remap function (f, Uf)\n",
    "                           \n",
    "    else: # is nonperiodic, hence boundary conditions at each edge need to be factored in\n",
    "\n",
    "        apply left boundary    -> updates z.postpointmesh[0,:,:] and z.postpointmesh[1,:,:]\n",
    "        \n",
    "                                   e.g. if absorber wall, all such [i,j] are zeroed out and\n",
    "                                           their postpoints are reset to be that of the wall itself)\n",
    "\n",
    "        apply right boundary   -> updates z.postpointmesh[0,:,:] and z.postpointmesh[1,:,:]\n",
    "        \n",
    "                                   e.g. if absorber wall, all such [i,j] are zeroed out and\n",
    "                                           their postpoints are reset to be that of the wall itself)\n",
    "                                           \n",
    "                               -> call remap function (f, Uf)\n",
    "                           \n",
    "We minimize function calls (hence reduce overhead costs), and this is also easier to follow than the current stepthrough.\n",
    "\n",
    "<b>Below, we <font color = \"green\">motivate why in the Cython version of boundaryconditions module (given a bit further down) we will add to the parameter list of passed objects, the vz.prepointmesh and vz.postpointtmesh</font>. This becomes clear when considering a symmetry boundary condition, which can change the postpoint mesh of the velocity vz in general (exiting particles are replaces with entering partners of oppositely oriented velocity; the details are stepped in full in DECSKS-18 part 3). In Cython, signifiant speed increases are possible with as less python interaction as possible, one such way for this to happen is if we do not pass the instance vz where the array attribute postpointmesh or preppoint mesh is continually accessed in the cython method, but instead we pass the array itself and have it be converted to a pure C object</b>. Suppose a symmetry boundary is at the left edge. Then the above control flow is the same and the following comments are made:\n",
    "\n",
    "        apply left symmetry boundary    -> updates z.postpointmesh[0,:,:] and z.postpointmesh[1,:,:]\n",
    "        \n",
    "                                           (some postpoints from partners may get pushed beyond the RIGHT wall)\n",
    "                                           exiting aprticles are relaced with their partners which are\n",
    "                                           oppositely directed, hence vz.postpointmesh != vz.prepointmesh in \n",
    "                                           general\n",
    "                                                                      \n",
    "        apply right boundary            -> updates z.postpointmesh[0,:,:] and z.postpointmesh[1,:,:]\n",
    "        \n",
    "                                           (those particles that were pushed outside the RIGHT wall\n",
    "                                           are treated the same as all such others that are pushed beyond\n",
    "                                           the right-wall that are non-partners but happened to have\n",
    "                                           right-going velocity)  \n",
    "                                    \n",
    "                                           Note: since we apply the left boundary first, then the right, if we \n",
    "                                           tried to make a right boundary a symmetry boundary, then we would require\n",
    "                                           applying the left symmetry boundary again to account for any partners\n",
    "                                           that hit the LEFT wall. Thus, since the choice of boundary condition\n",
    "                                           is up to the user, we should insist the user just chooses the left\n",
    "                                           boundary as the symmetry boundary since there is zero need to have\n",
    "                                           it be the right boundary instead of the left.\n",
    "                                           \n",
    "                                       -> call remap function (f, Uf)\n",
    "                                       \n",
    "                  "
   ]
  },
  {
   "cell_type": "markdown",
   "metadata": {},
   "source": [
    "Wishfully, we may have stated goals (above) of reusing <code>f</code> and <code>Uf</code>, but after thinking it through it seems too prohibitive. Copying the array and mangling it to achieve the boundary condition is the most natural way of proceeding, also it provides the highest level of abstraction. The other route would require us to ultimately code remap assignments for not every boundary condition, but for every possible pair of boundary conditions, which seems to be terrible practice.\n",
    "\n",
    "We modify the remapping routine and the passing to boundary conditions as follows. The orchestrator <code>remap_step</code> is also made to be a set of known instructions rather than rely on keyword arguments for the control flow, as it is unneeded given the procedure is the same each time and both need to be applied. The order of which does not actually matter. Hence the decision of remapping the nearest neighbor grid point to the exact true (non-integral) postpoint location and then to map to the contiguous point is arbitrary, doing the reverse procedure is equivalent."
   ]
  },
  {
   "cell_type": "markdown",
   "metadata": {},
   "source": [
    "### <font color = \"green\"><code>remap_step</code> DECSKS-2.1 in lib.convect_configuration</font>"
   ]
  },
  {
   "cell_type": "markdown",
   "metadata": {},
   "source": [
    "Note the identical implementation is involved in <code>lib.convect_velocity</code> with the exception that accessing the object <code>z.CFL.numbers</code> does not require a stage (and the parameter <code>s</code> is not even passed to this function) because <code>z.CFL.numbers</code> is a 2D array given that we cannot precompute them all for $v_x$ at the start of the simulation like we can for $x$ (and storing each 2D set in a 3D object enumerated by stage number), since the accelerations $a_x$ are not tied to a grid and can take on any value, whereas the velocities $v_x$ which goven the CFL numbers for $x$ are grid values that never change. \n",
    "\n",
    "We settle on the following redesign"
   ]
  },
  {
   "cell_type": "code",
   "execution_count": null,
   "metadata": {
    "collapsed": true
   },
   "outputs": [],
   "source": [
    "def remap_step(\n",
    "        sim_params,\n",
    "        f_template,\n",
    "        Uf_template,\n",
    "        s, n,\n",
    "        z,\n",
    "        vz,\n",
    "        charge\n",
    "        ):\n",
    "    \"\"\"Orchestrates remapping of all advected moving cells to the grid,\n",
    "\n",
    "    First, we map the appropriate proportion to the nearest grid point (k1) to\n",
    "    the exact (non-integral in general) postpoint.\n",
    "\n",
    "    Then, we map the remaining fraction to the contiguous grid point (k2)\n",
    "    defined to be in the same direction of travel as the advection\n",
    "\n",
    "    inputs:\n",
    "    sim_params -- (dict) simulation parameters\n",
    "    f_template = f_old --\n",
    "              (ndarray, dim=2) density from previous time step, full grid.\n",
    "              We call this a template because it is used as a template\n",
    "              in using it for achieving the boundary conditions.\n",
    "\n",
    "              (1) we copy a template and send it to the boundary conditions\n",
    "                  when preparing to remap density to the k1 postpoints.\n",
    "                  To achieve the BCs, we modify the density and fluxes\n",
    "                  (e.g. zeroing out any absorbed at walls), then remap\n",
    "                  to a container f_k1\n",
    "\n",
    "              (2) we repeat the same as above, but this time in preparation\n",
    "                  for mapping at the contiguous grid point k2. If we used\n",
    "                  the same density as was returned in (1), it already has\n",
    "                  been mangled to acheive boundary conditions. Thus, we\n",
    "                  need a fresh template. Since there are only two postpoints\n",
    "                  (k1 and k2), we do not need a copy of the original template\n",
    "                  but can instead just modify the template as its utility\n",
    "                  ends here.\n",
    "\n",
    "    Uf_template = Uf_old -- (ndarrray, ndim=2), the flux values for the\n",
    "                            full grid. See the description for f_template\n",
    "                            on why this is named as Uf_template rather\n",
    "                            than Uf_old.\n",
    "\n",
    "    s -- (int) current splitting stage; used to access the pre-computed\n",
    "            correctors c, which depend on the stage. Note, for physical\n",
    "            velocity (e.g. in lib.convect_velocity) we must compute the\n",
    "            correctors in each pass as these are not tied to any grid\n",
    "            hence are difference from one full time step to the next\n",
    "    n  -- (int) current time step\n",
    "    z -- (instance) phase space variable\n",
    "    vz -- (instance) generalized velocity variable for phase space variable z\n",
    "    charge -- (int) -1 or +1, indicates charge species\n",
    "\n",
    "    outputs:\n",
    "    f_remapped -- (ndarray, dim=2) density with all densities reallocated\n",
    "                 according to their postpoint maps:\n",
    "\n",
    "      postpoint map = (z.postpointmesh[k1 or k2, :,:], vz.prepointmesh)\n",
    "\n",
    "    here, we emphasize that it is z that is being advected, hence\n",
    "    these have distinct postpoints. While we may modify the values\n",
    "    of the generalized velocity in special circumstances (e.g.\n",
    "    symmetry boundary condition), the velocities of the prepoints\n",
    "    are interpreted physically as being the same before (prepoints)\n",
    "    and after (postpoints) since we are evolving the system with\n",
    "    splitting routine (one variable evolved at a time)\n",
    "    \"\"\"\n",
    "\n",
    "    f_copy = np.copy(f_template)\n",
    "    Uf_copy = np.copy(Uf_template)\n",
    "\n",
    "    # Prepare for remapping to k1\n",
    "\n",
    "    # apply boundary conditions for density packets reaching [k1, j]\n",
    "    # here, we pass k = 0 as a parameter, as it refers to z.postpointmesh[k,:,:]\n",
    "    # and k1 corresponds to the storage k = 0\n",
    "    f_copy, Uf_copy = \\\n",
    "      eval(sim_params['boundarycondition_function_handle'][z.str])(\n",
    "          f_copy, Uf_copy, z, vz, sim_params, charge, k = 0)\n",
    "\n",
    "    Uf_nonneg, Uf_neg = DECSKS.lib.remap.sift(Uf_copy, z.CFL.numbers[s,:,:])\n",
    "\n",
    "    # remap all [i,j] to postpoints [k1, j], we assign per the piecewise rule:\n",
    "    #\n",
    "    #        f_k1[k1,j] =  f_copy[i,j] - Uf_copy[i,j] if CFL >= 0\n",
    "    #\n",
    "    #                      f_copy[i,j] + Uf_copy[i,j] if CFL < 0\n",
    "    #\n",
    "    # we accomplish the above through the following set of operations in order to minimize the computational cost\n",
    "    f_k1 = np.zeros_like(f_template)\n",
    "    f_k1  = DECSKS.lib.remap.assignment(f_copy, z.postpointmesh[0,:,:], vz.prepointmesh, f_k1.shape[0], f_k1.shape[1])\n",
    "    f_k1 += DECSKS.lib.remap.assignment(Uf_neg, z.postpointmesh[0,:,:], vz.prepointmesh, f_k1.shape[0], f_k1.shape[1])\n",
    "    f_k1 -= DECSKS.lib.remap.assignment(Uf_nonneg, z.postpointmesh[0,:,:], vz.prepointmesh, f_k1.shape[0], f_k1.shape[1])\n",
    "\n",
    "\n",
    "    # Prepare for remapping to k2\n",
    "    # We do not need the information in f_template, and Uf_template hereafter, so we may modify these directly\n",
    "\n",
    "    # apply boundary conditions for density packets reaching [k2, j]\n",
    "    # here, we pass k = 0 as a parameter, as it refers to z.postpointmesh[k,:,:]\n",
    "    # and k2 corresponds to the storage k = 1\n",
    "    \n",
    "    f_template, Uf_template = \\\n",
    "      eval(sim_params['boundarycondition_function_handle'][z.str])(\n",
    "          f_template, Uf_template, z, vz, sim_params, charge, k = 1)\n",
    "\n",
    "    Uf_nonneg, Uf_neg = DECSKS.lib.remap.sift(Uf_template, z.CFL.numbers[s,:,:])\n",
    "\n",
    "    # remap all [i,j] to postpoints [k2, j], we assign per the piecewise rule:\n",
    "    #\n",
    "    #        f_k2[k2,j] =  -Uf_template[i,j] if CFL >= 0\n",
    "    #\n",
    "    #                      +Uf_template[i,j] if CFL < 0\n",
    "    #\n",
    "    # we accomplish the above through the following set of operations in order to minimize the computational cost\n",
    "    \n",
    "    f_k2 = np.zeros_like(f_template)\n",
    "    f_k2 -= DECSKS.lib.remap.assignment(Uf_neg, z.postpointmesh[1,:,:], vz.prepointmesh, f_k2.shape[0], f_k2.shape[1])\n",
    "    f_k2 += DECSKS.lib.remap.assignment(Uf_nonneg, z.postpointmesh[1,:,:], vz.prepointmesh, f_k2.shape[0], f_k2.shape[1])\n",
    "\n",
    "    f_remapped = f_k1 + f_k2\n",
    "\n",
    "    return f_remapped"
   ]
  },
  {
   "cell_type": "markdown",
   "metadata": {},
   "source": [
    "Where the sift and assignment functions are given below in the Cython module <code>remap.pyx</code> contains methods <code>remap.assignment</code>, per:"
   ]
  },
  {
   "cell_type": "markdown",
   "metadata": {},
   "source": [
    "## Cython module <font color = \"green\"><code>remap.pyx</code> (DECSKS-2.1)"
   ]
  },
  {
   "cell_type": "code",
   "execution_count": 40,
   "metadata": {
    "collapsed": false,
    "scrolled": true
   },
   "outputs": [],
   "source": [
    "%%cython\n",
    "\n",
    "import numpy as np\n",
    "cimport numpy as np\n",
    "cimport cython\n",
    "\n",
    "DTYPE = np.float64\n",
    "DTYPEINT = np.int64\n",
    "\n",
    "ctypedef np.float64_t DTYPE_t\n",
    "ctypedef np.int64_t DTYPEINT_t\n",
    "\n",
    "\n",
    "def assignment(np.ndarray[DTYPE_t, ndim=2] f_old,  np.ndarray[DTYPEINT_t, ndim=2] map1, np.ndarray[DTYPEINT_t, ndim=2] map2, int dim1, int dim2):\n",
    "\n",
    "    cdef np.ndarray[DTYPE_t, ndim=2] f_new = np.zeros([dim1, dim2], dtype = DTYPE)\n",
    "    cdef int i\n",
    "    cdef int j\n",
    "\n",
    "    for i in range(dim1):\n",
    "        for j in range(dim2):\n",
    "            f_new[map1[i,j], map2[i,j]] += f_old[i,j]\n",
    "    return f_new\n",
    "\n",
    "def sift(np.ndarray[DTYPE_t, ndim=2] f, np.ndarray[DTYPE_t, ndim=2] CFL):\n",
    "    \"\"\"\n",
    "    inputs:\n",
    "    f -- (ndarray, ndim=2, dtype = float64) density like object\n",
    "    vz -- (ndarray, ndim=2, dtype = float64) generalized velocity grid\n",
    "\n",
    "    output:\n",
    "    f_nonneg, f_neg -- (ndarrays, ndim=2, dtype = float64) containers holding\n",
    "                    density like entires from f according to\n",
    "\n",
    "                    pos -- for each f[i,j] such that its vz[i,j] >= 0\n",
    "                    neg -- for each f[i,j] such that its vz[i,j] < 0\n",
    "\n",
    "    \"\"\"\n",
    "    cdef int i, j\n",
    "    cdef int dim1 = f.shape[0]\n",
    "    cdef int dim2 = f.shape[1]\n",
    "\n",
    "    cdef np.ndarray[DTYPE_t, ndim=2] f_nonneg = np.zeros((dim1, dim2))\n",
    "    cdef np.ndarray[DTYPE_t, ndim=2] f_neg = np.zeros((dim1, dim2))\n",
    "\n",
    "    for j in range(dim2):\n",
    "        # CFL[0,j] = CFL[1,j] = ... = const, we choose to examine (0,j) arbitrarily\n",
    "        if CFL[0,j] >= 0: \n",
    "            for i in range(dim1):\n",
    "                f_nonneg[i,j] = f[i,j]\n",
    "        else:\n",
    "            for i in range(dim1):\n",
    "                f_neg[i,j] = f[i,j]\n",
    "    \n",
    "\n",
    "    return f_nonneg, f_neg\n"
   ]
  },
  {
   "cell_type": "markdown",
   "metadata": {},
   "source": [
    "In DECSKS-2.1 we will put the sift function side of the remap module."
   ]
  },
  {
   "cell_type": "markdown",
   "metadata": {},
   "source": [
    "With the remap routine finalized, we can move onto recasting Cython versions of the boundary conditions.\n",
    "\n",
    "Recall, the boundarycondition module first calls one of two orchestrators\n",
    "\n",
    "    boundaryconditions module\n",
    "    \n",
    "    Orchestrators:\n",
    "        periodic\n",
    "        nonperiodic\n",
    "        \n",
    "the periodic orchestrator applies periodic boundary conditions and returns the changed quantities. This gets called if the user specifies periodic boundary conditions in params.dat.\n",
    "\n",
    "For all other boundary conditions (DECSKS-21 notebook has a version that only has absorbing conditions, though we will extend these in the addendum to this notebook at the end to include charge collecting walls, the details of which were covered in DECSKS-18 part 2). That is, the orchestrators call the boundary routines specified in params.dat, i.e.\n",
    "\n",
    "DECSKS-18 part 1, DECSKS-21 (all pure python)\n",
    "\n",
    "    absorbing_lower_boundary\n",
    "    absorbing_upper_boundary\n",
    "  \n",
    "and in DECSKS-18 part 2, the following list is available:\n",
    "\n",
    "\n",
    "DECSKS-18 part 2 (pure python): \n",
    "\n",
    "    absorbing_lower_boundary\n",
    "    absorbing_upper_boundary\n",
    "    collector_lower_boundary\n",
    "    collector_upper_boundary\n",
    "    \n",
    "and in DECSKS-18 part 3, the following list is be available:\n",
    "\n",
    "\n",
    "DECSKS-18 part 3 (cython)\n",
    "\n",
    "    absorbing_lower_boundary\n",
    "    absorbing_upper_boundary\n",
    "    collector_lower_boundary\n",
    "    collector_upper_boundary\n",
    "    symmetric_lower_boundary\n",
    "    \n",
    "The numbering (e.g. DECSKS-21 and 22) have gotten mixed up because of boundary condition notebooks DECSKS-18 part 1, 2, 3, being started together but where it was found that additional changes were needed to accomodate the goals of those notebooks, so notebooks 21 and 22 were created. We require combining all of these in the end."
   ]
  },
  {
   "cell_type": "markdown",
   "metadata": {},
   "source": [
    "# Recasting orchestrators in <code>boundaryconditions.py</code>\n",
    "\n",
    "### <code>boundaryconditions.py</code> (from DECSKS-21) excerpt of top-level orchestrators"
   ]
  },
  {
   "cell_type": "code",
   "execution_count": null,
   "metadata": {
    "collapsed": true
   },
   "outputs": [],
   "source": [
    "import numpy as np\n",
    "import DECSKS\n",
    "\n",
    "def periodic(f_old,\n",
    "             Uf,\n",
    "             z,\n",
    "             vz,\n",
    "             sim_params, # used in boundaryconditions.nonperiodic\n",
    "             charge,\n",
    "             k = None\n",
    "             ):\n",
    "    \"\"\"Applies periodic boundary conditions to\n",
    "    postpointmesh\n",
    "\n",
    "    inputs:\n",
    "    f_old -- (ndarray, ndim=2) density array\n",
    "    z -- (instance) phase space variable being evolved\n",
    "\n",
    "        z.postpointmesh -- (ndarray, ndim=3),\n",
    "                           shape = (2, x.N, vx.N)\n",
    "\n",
    "    outputs:\n",
    "    f_old -- (ndarray, ndim=2) Array with both periodic\n",
    "             BCs being enforce\n",
    "    z    -- (instance) phase sapce variable being evolved with\n",
    "             updated attribute z.postpointmesh\n",
    "\n",
    "    f_old, Uf returned for symmetry with nonperiodic routine below\n",
    "    \"\"\"\n",
    "    z.postpointmesh = np.mod(z.postpointmesh, z.N)\n",
    "\n",
    "    return f_old, Uf, z\n",
    "\n",
    "def periodize_postpointmesh(zpostpointmesh, zN):\n",
    "    \"\"\"Applies periodic boundary conditions to\n",
    "    postpointmesh[k,:,:]\n",
    "\n",
    "    inputs:\n",
    "    z.postpointmesh -- (ndarray, ndim=2), shape = (x.N, vx.N)\n",
    "\n",
    "    outputs:\n",
    "    z.postpointmesh -- (ndarray, ndim=2), shape = (x.N, vx.N)\n",
    "                        periodic BCs applied\n",
    "\n",
    "    \"\"\"\n",
    "    zpostpointmesh = np.mod(zpostpointmesh, zN)\n",
    "\n",
    "    return zpostpointmesh\n",
    "\n",
    "def nonperiodic(f_old,\n",
    "                Uf,\n",
    "                z,\n",
    "                vz,\n",
    "                sim_params,\n",
    "                charge,\n",
    "                k = 0\n",
    "                ):\n",
    "    \"\"\"orchestrates applying nonperiodic boundary conditions\n",
    "    to the array w with total active grid points Nw. Nonperiodic\n",
    "    boundary conditions require handling both left and right\n",
    "    boundaries\n",
    "\n",
    "    inputs:\n",
    "    f_old -- (ndarray, ndim=2) density array\n",
    "    z -- (instance) phase space variable being evolved\n",
    "\n",
    "    outputs:\n",
    "    f_old -- (ndarray, ndim=2) density with both left and right\n",
    "             nonperiodic BCs enforced\n",
    "    Uf -- (ndarray, ndim=2) high order fluxes with both left and right\n",
    "             nonperiodic BCs enforced\n",
    "\n",
    "\n",
    "    z returned (no changes) for symmetry with periodic routine above\n",
    "    \"\"\"\n",
    "    # lower boundary\n",
    "    f_old, Uf = eval(sim_params['BC'][z.str]['lower'] +\n",
    "                           '_lower_boundary')(f_old, Uf,\n",
    "                                              z.postpointmesh[k,:,:], z, vz,\n",
    "                                              sim_params, charge)\n",
    "\n",
    "    # upper boundary\n",
    "    f_old, Uf = eval(sim_params['BC'][z.str]['upper'] +\n",
    "                           '_upper_boundary')(f_old, Uf,\n",
    "                                              z.postpointmesh[k,:,:], z, vz,\n",
    "                                              sim_params, charge)\n",
    "\n",
    "    # since the relevant entries of f_old and Uf that exit the domain\n",
    "    # are zeroed out, in order to have a clean addition as before\n",
    "    # we map their postpoints to their corresponding periodic BC locations\n",
    "    # so that there are no two shared postpoints by construction\n",
    "\n",
    "    # map z.postpointmesh to periodic locations\n",
    "    z.postpointmesh[k,:,:] = periodize_postpointmesh(z.postpointmesh[k,:,:], z.N)\n",
    "    # note that if there were shared postpoints, then lib.convect.remap_assignment\n",
    "    # would not allocate the correct densities since it is a matrix sum\n",
    "    # rather than a (slow) loop (where we could have used +=). For example\n",
    "    # should more than one prepoint share a common postpointss, only one\n",
    "    # cell's density would be allocated to the postpoint, the rest would be\n",
    "    # overwritten, not incrementally summed\n",
    "\n",
    "    # note the other function, periodic, periodizes z.postpointmesh.shape = (2, z.N, vz.N)\n",
    "    # here, we only want to periodize the postpointmesh pertaining to the index 'nearest'\n",
    "    # or 'contiguous' so that we do not tarnish the postpointmesh when passing through 'nearest'\n",
    "    # so that 'contiguous' is unphysically periodized, hence most boundaries are evaded.\n",
    "\n",
    "    return f_old, Uf, z"
   ]
  },
  {
   "cell_type": "markdown",
   "metadata": {},
   "source": [
    "In moving towards a Cython implementation, note that the above method <code>lib.boundaryconditions.periodize_postpointmesh</code> can be been removed as the general Cython <code>remap.pyx</code> module has routines that have made this method unnecessary (i.e. because we are not using numpy routines, but have coded our own C routines), it simply remaps according to the postpoint mesh as is, no gymnastics are needed to achieve the formerly esoteric requirement of no shared postpoints. This does not matter anymore, hence this routine it is removed.\n",
    "\n",
    "In moving towards an efficient Cython routine, it pays to interact with python as minimally as possible. Hence, while vz is already passed, it is significantly inefficient to have the python overhead of continually referencing the instance attributes of it, e.g. vz.prepointmesh is used for the collector boundary conditions (charge = \"vz.prepointvalues * (fraction of absorbed density) * vz.width\"). As seen previously, passing the attributes themselves as parameters pays back in dividends. We pursue this below in the Cython orchestrator recast."
   ]
  },
  {
   "cell_type": "markdown",
   "metadata": {},
   "source": [
    "### Cython module: <code>boundaryconditions.pyx</code> (excerpt of orchestrators only, pure python)"
   ]
  },
  {
   "cell_type": "code",
   "execution_count": 42,
   "metadata": {
    "collapsed": false
   },
   "outputs": [],
   "source": [
    "%%cython\n",
    "\n",
    "import numpy as np\n",
    "cimport numpy as np\n",
    "cimport cython\n",
    "\n",
    "DTYPE = np.float64\n",
    "DTYPEINT = np.int64\n",
    "\n",
    "ctypedef np.float64_t DTYPE_t\n",
    "ctypedef np.int64_t DTYPEINT_t\n",
    "\n",
    "# PYTHON METHODS\n",
    "def periodic(f_old,\n",
    "             Uf,\n",
    "             z,\n",
    "             vz,\n",
    "             sim_params,\n",
    "             charge,\n",
    "             k = 0\n",
    "             ):\n",
    "    \"\"\"Applies periodic boundary conditions to\n",
    "    postpointmesh\n",
    "\n",
    "    inputs:\n",
    "    f_old -- (ndarray, ndim=2) density array\n",
    "    z -- (instance) phase space variable being evolved\n",
    "\n",
    "        z.postpointmesh -- (ndarray, ndim=3),\n",
    "                           shape = (2, x.N, vx.N)\n",
    "\n",
    "    outputs:\n",
    "    f_old -- (ndarray, ndim=2) Array with both periodic\n",
    "             BCs being enforce\n",
    "    z    -- (instance) phase sapce variable being evolved with\n",
    "             updated attribute z.postpointmesh\n",
    "\n",
    "    f_old, Uf returned for symmetry with nonperiodic routine below\n",
    "    \"\"\"\n",
    "    z.postpointmesh[k,:,:] = np.mod(z.postpointmesh[k,:,:], z.N)\n",
    "    vz.postpointmesh[k,:,:] = vz.prepointmesh\n",
    "\n",
    "    return f_old, Uf\n",
    "\n",
    "def nonperiodic(f_old,\n",
    "                Uf,\n",
    "                z,\n",
    "                vz,\n",
    "                sim_params,\n",
    "                charge,\n",
    "                k = 0\n",
    "                ):\n",
    "    \"\"\"orchestrates applying nonperiodic boundary conditions\n",
    "    to the array w with total active grid points Nw. Nonperiodic\n",
    "    boundary conditions require handling both left and right\n",
    "    boundaries\n",
    "\n",
    "    inputs:\n",
    "    f_old -- (ndarray, ndim=2) density array\n",
    "    z -- (instance) phase space variable being evolved\n",
    "\n",
    "    outputs:\n",
    "    f_old -- (ndarray, ndim=2) density with both left and right\n",
    "             nonperiodic BCs enforced\n",
    "    Uf -- (ndarray, ndim=2) high order fluxes with both left and right\n",
    "             nonperiodic BCs enforced\n",
    "\n",
    "\n",
    "    z returned (no changes) for symmetry with periodic routine above\n",
    "    \"\"\"\n",
    "    # lower boundary\n",
    "    f_old, Uf = eval(sim_params['BC'][z.str]['lower'] +\n",
    "                           '_lower_boundary')(f_old,\n",
    "                                              Uf,\n",
    "                                              z.postpointmesh[k,:,:],\n",
    "                                              vz.prepointmesh,\n",
    "                                              z.N, vz.N, k, charge,\n",
    "                                              sim_params,\n",
    "                                              z, vz)\n",
    "\n",
    "    # upper boundary\n",
    "    f_old, Uf = eval(sim_params['BC'][z.str]['upper'] +\n",
    "                           '_upper_boundary')(f_old,\n",
    "                                              Uf,\n",
    "                                              z.postpointmesh[k,:,:],\n",
    "                                              vz.prepointmesh,\n",
    "                                              z.N, vz.N, k, charge,\n",
    "                                              sim_params,\n",
    "                                              z, vz)\n",
    "\n",
    "\n",
    "    vz.postpointmesh[k,:,:] = vz.prepointmesh\n",
    "\n",
    "    return f_old, Uf\n"
   ]
  },
  {
   "cell_type": "markdown",
   "metadata": {},
   "source": [
    "## Translating python routines to Cython routines for each boundary condition"
   ]
  },
  {
   "cell_type": "markdown",
   "metadata": {},
   "source": [
    "### Python module (from DECSKS-18 part 2 notebook): <code>boundaryconditions.absorbing_lower_boundary</code> and <code>boundaryconditions.absorbing_upper_boundary</code>"
   ]
  },
  {
   "cell_type": "code",
   "execution_count": 43,
   "metadata": {
    "collapsed": true
   },
   "outputs": [],
   "source": [
    "def absorbing_lower_boundary(f_old, Uf, zpostpointmesh, z, vz, sim_params, charge):\n",
    "\n",
    "    f_old = np.where(zpostpointmesh <= 0, 0, f_old)\n",
    "    Uf = np.where(zpostpointmesh <= 0, 0, Uf)\n",
    "\n",
    "    return f_old, Uf\n",
    "\n",
    "def absorbing_upper_boundary(f_old, Uf, zpostpointmesh, z, vz, sim_params, charge):\n",
    "\n",
    "    f_old = np.where(zpostpointmesh >= z.N, 0, f_old)\n",
    "    Uf = np.where(zpostpointmesh >= z.N, 0, Uf)\n",
    "\n",
    "    return f_old, Uf"
   ]
  },
  {
   "cell_type": "markdown",
   "metadata": {},
   "source": [
    "## <font color = \"green\">DECSKS-2.1: Cython version of  <code>boundaryconditions.absorbing_lower_boundary</code> and <code>boundaryconditions.absorbing_upper_boundary</code></font>"
   ]
  },
  {
   "cell_type": "markdown",
   "metadata": {},
   "source": [
    "Not all methods use vzprepointmesh, it is passed for universality, so that all boundary methods are called by a single eval function execution on a function handle string where all functions that are acceptable here have the same exact list of parameters that are passed to them."
   ]
  },
  {
   "cell_type": "code",
   "execution_count": 52,
   "metadata": {
    "collapsed": true
   },
   "outputs": [],
   "source": [
    "%%cython\n",
    "\n",
    "import numpy as np\n",
    "cimport numpy as np\n",
    "cimport cython\n",
    "\n",
    "DTYPE = np.float64\n",
    "DTYPEINT = np.int64\n",
    "\n",
    "ctypedef np.float64_t DTYPE_t\n",
    "ctypedef np.int64_t DTYPEINT_t\n",
    "\n",
    "# CYTHON METHODS\n",
    "@cython.boundscheck(False)\n",
    "def absorbing_lower_boundary(np.ndarray[DTYPE_t, ndim=2] f_old,\n",
    "                              np.ndarray[DTYPE_t, ndim=2] Uf_old,\n",
    "                              np.ndarray[DTYPEINT_t, ndim=2] zpostpointmesh,\n",
    "                              np.ndarray[DTYPEINT_t, ndim=2] vzprepointmesh,\n",
    "                              int Nz, int Nvz, int k, int charge,\n",
    "                              sim_params,\n",
    "                              z, vz):\n",
    "\n",
    "    # vars here are typed as C data types to minimize python interaction\n",
    "    cdef int i, j\n",
    "    for i in range(Nz):\n",
    "        for j in range(Nvz):\n",
    "            if zpostpointmesh[i,j] <= 0:\n",
    "                f_old[i,j] = 0\n",
    "                Uf_old[i,j] = 0\n",
    "                zpostpointmesh[i,j] = 0 # set postpoint at the absorber\n",
    "\n",
    "    # permanently copy to instance attribute\n",
    "    z.postpointmesh[k,:,:] = zpostpointmesh\n",
    "\n",
    "    return f_old, Uf_old\n",
    "\n",
    "@cython.boundscheck(False)\n",
    "def absorbing_upper_boundary(np.ndarray[DTYPE_t, ndim=2] f_old,\n",
    "                              np.ndarray[DTYPE_t, ndim=2] Uf_old,\n",
    "                              np.ndarray[DTYPEINT_t, ndim=2] zpostpointmesh,\n",
    "                              np.ndarray[DTYPEINT_t, ndim=2] vzprepointmesh,\n",
    "                              int Nz, int Nvz, int k, int charge,\n",
    "                              sim_params,\n",
    "                              z, vz):\n",
    "\n",
    "    # vars here are typed as C data types to minimize python interaction\n",
    "    cdef int i, j\n",
    "    for i in range(Nz):\n",
    "        for j in range(Nvz):\n",
    "            if zpostpointmesh[i,j] >= Nz - 1:\n",
    "                f_old[i,j] = 0\n",
    "                Uf_old[i,j] = 0\n",
    "\n",
    "                zpostpointmesh[i,j] = Nz - 1 # set postpoint at the absorber\n",
    "\n",
    "    # permanently copy to instance attribute\n",
    "    z.postpointmesh[k,:,:] = zpostpointmesh\n",
    "\n",
    "    return f_old, Uf_old"
   ]
  },
  {
   "cell_type": "code",
   "execution_count": 45,
   "metadata": {
    "collapsed": false,
    "scrolled": false
   },
   "outputs": [],
   "source": [
    "%%cython\n",
    "\n",
    "import numpy as np\n",
    "cimport numpy as np\n",
    "cimport cython\n",
    "\n",
    "DTYPE = np.float64\n",
    "DTYPEINT = np.int64\n",
    "\n",
    "ctypedef np.float64_t DTYPE_t\n",
    "ctypedef np.int64_t DTYPEINT_t\n",
    "\n",
    "\n",
    "@cython.boundscheck(False)\n",
    "def absorbing_lower_boundary(np.ndarray[DTYPE_t, ndim=2] f_old, np.ndarray[DTYPE_t, ndim=2] Uf,\n",
    "                             np.ndarray[DTYPEINT_t, ndim=2] zpostpointmesh,\n",
    "                             z, vz, sim_params, charge):\n",
    "\n",
    "\n",
    "    cdef int i\n",
    "    cdef int j\n",
    "    cdef Nz = z.N\n",
    "    cdef Nvz = vz.N\n",
    "\n",
    "    for i in range(Nz):\n",
    "        for j in range(Nvz):\n",
    "            if zpostpointmesh[i,j] >= Nz-1:\n",
    "                f_old[i,j] = 0\n",
    "                Uf[i,j] = 0\n",
    "                zpostpointmesh[i,j] = Nz-1 # set postpoint at the absorber\n",
    "\n",
    "    return f_old, Uf, zpostpointmesh"
   ]
  },
  {
   "cell_type": "markdown",
   "metadata": {},
   "source": [
    "#### Performance from DECSKS-2.0 and Cython boundary conditions"
   ]
  },
  {
   "cell_type": "markdown",
   "metadata": {},
   "source": [
    "Setup"
   ]
  },
  {
   "cell_type": "code",
   "execution_count": 46,
   "metadata": {
    "collapsed": true
   },
   "outputs": [],
   "source": [
    "class var:\n",
    "    def __init__(self, Nz, mapping, name = 'x'):\n",
    "        self.N = Nz\n",
    "        \n",
    "        if name == 'x':\n",
    "            self.postpointmesh = mapping\n",
    "        if name == 'vx':\n",
    "            self.prepointmesh = mapping\n",
    "        "
   ]
  },
  {
   "cell_type": "code",
   "execution_count": 47,
   "metadata": {
    "collapsed": false
   },
   "outputs": [],
   "source": [
    "x = var(Nx, xpostpointmesh, name = 'x')\n",
    "vx = var(Nvx, vxprepointmesh, name = 'vx')\n",
    "Uf = .25*f_old # arbitrary\n",
    "charge = -1\n",
    "sim_params = {}\n",
    "f_old2 = np.copy(f_old)\n",
    "Uf2 = np.copy(Uf)"
   ]
  },
  {
   "cell_type": "code",
   "execution_count": 48,
   "metadata": {
    "collapsed": false
   },
   "outputs": [],
   "source": [
    "f_old2 = np.copy(f_old)\n",
    "Uf2 = np.copy(Uf)"
   ]
  },
  {
   "cell_type": "markdown",
   "metadata": {},
   "source": [
    "We currently use <code>np.where</code> calls to accomplish this. For performance comparison, this routine it"
   ]
  },
  {
   "cell_type": "markdown",
   "metadata": {},
   "source": [
    "#### DECSKS-2.0 absorbing boundary condition"
   ]
  },
  {
   "cell_type": "code",
   "execution_count": 49,
   "metadata": {
    "collapsed": false
   },
   "outputs": [
    {
     "name": "stdout",
     "output_type": "stream",
     "text": [
      "10 loops, best of 3: 23.4 ms per loop\n"
     ]
    }
   ],
   "source": [
    "%%timeit \n",
    "\n",
    "def absorbing_lower_boundary_DESCKSv2(f_old, Uf, zpostpointmesh, z, vz, sim_params, charge):\n",
    "\n",
    "    f_old = np.where(zpostpointmesh <= 0, 0, f_old)\n",
    "    Uf = np.where(zpostpointmesh <= 0, 0, Uf)\n",
    "    return f_old, Uf\n",
    "\n",
    "absorbing_lower_boundary_DESCKSv2(f_old2, Uf2, x.postpointmesh[0,:,:], x, vx, sim_params, charge)\n",
    "# also we finalize the postpointmesh map after this functino call per\n",
    "\n",
    "np.mod(x.postpointmesh[0,:,:], x.N)"
   ]
  },
  {
   "cell_type": "markdown",
   "metadata": {},
   "source": [
    "Note, we include a periodization of the mesh following the application, as it needs to be done in DECSKS so we have unshared postpoints (is done in the main orchestrator <code>lib.boundaryconditions.nonperiodic</code>)."
   ]
  },
  {
   "cell_type": "markdown",
   "metadata": {},
   "source": [
    "#### Cython absorbing boundary condition"
   ]
  },
  {
   "cell_type": "code",
   "execution_count": 50,
   "metadata": {
    "collapsed": true
   },
   "outputs": [],
   "source": [
    "f_old2 = np.copy(f_old)\n",
    "Uf2 = np.copy(Uf)"
   ]
  },
  {
   "cell_type": "code",
   "execution_count": 53,
   "metadata": {
    "collapsed": false,
    "scrolled": true
   },
   "outputs": [
    {
     "name": "stdout",
     "output_type": "stream",
     "text": [
      "1000 loops, best of 3: 1.23 ms per loop\n"
     ]
    }
   ],
   "source": [
    "%timeit absorbing_lower_boundary(f_old2, Uf2, x.postpointmesh[0,:,:], vx.prepointmesh, x.N, vx.N, 0, -1, sim_params, x, vx)"
   ]
  },
  {
   "cell_type": "markdown",
   "metadata": {},
   "source": [
    "So we can see a cost saves of approximately 23 times here. We see similar cost savings throughout. As an example, we compared a simulation of DECSKS-2.0 with charge collecting on both edges of the domain on LF2 splitting, Nx = 240, Nvx = 400, Nt = 500 with DECSKS-2.1 which uses the above Cython routines, and we saw savings from taking approximately 2.1 seconds per time step in DECSKS-2.0 to taking ~ 0.6 seconds per time step in DECSKS-2.1."
   ]
  },
  {
   "cell_type": "markdown",
   "metadata": {},
   "source": [
    "## Conclusions"
   ]
  },
  {
   "cell_type": "markdown",
   "metadata": {},
   "source": [
    "Our original goal was to obtain comparable speeds by using more obvious implementations such as looping so that we removed a very particular requirement on DECSKS-2.0, which was that it relied on there being zero shared postpoints in a given time substep of advecting density packets. Here, we have recasted the code so that more obvious, physically intuitive, looping mechanisms have been used which not only removes this awkward requirement on shared postpoints, but incidentally is significantly more efficient than the previous version. Now that the requirement of shared postpoints is removed, we may go back and finish out details of handling the symmetry boundary condition. Which hitherto, had been plagued by this problem of being unable to produce unique postpoints in an efficient way. This is no longer a problem, so we may incorporate a symmetry boundary condition as detailed in DECSKS-18 part 3 in full, and will develop a cython method to make it as efficient as possible (as it is an intensive boundary condition). This version of DECSKS is the same in DECSKS-21, but the version in DECSKS-18 part 2 is significantly improved and reorganized; however, it lacks cython modules for its methods (it develops charge collecting boundary conditions). We need to combine the improvements of all these notebooks. We incorpoate the charge collecting boundary below as an addendum to this notebook based on details from DECSKS-18 part 2."
   ]
  },
  {
   "cell_type": "markdown",
   "metadata": {},
   "source": [
    "# Addendum: including charge collecting boundary conditions"
   ]
  },
  {
   "cell_type": "markdown",
   "metadata": {},
   "source": [
    "We draw up cython editions of the boundary conditions in DECSKS-18 part 2.\n",
    "\n"
   ]
  },
  {
   "cell_type": "markdown",
   "metadata": {},
   "source": [
    "## DECSKS-2.0 (from DECSKS-18 part 2 notebook): lib.boundaryconditions excerpt"
   ]
  },
  {
   "cell_type": "code",
   "execution_count": null,
   "metadata": {
    "collapsed": true
   },
   "outputs": [],
   "source": [
    "def collector_lower_boundary(f_old, Uf, \n",
    "                             zpostpointmesh, \n",
    "                             k,\n",
    "                             z, vz, \n",
    "                             sim_params, \n",
    "                             charge):\n",
    "\n",
    "    # this discriminates vx vs. x, as the boundary condition function handle\n",
    "    # sim_params['BC'][z.str]['lower' or 'upper'] for z.str = 'vx' is never set to 'charge_collection'\n",
    "    # in lib.read\n",
    "\n",
    "    # collect density packets that reach the boundary (or beyond)\n",
    "\n",
    "    Uf_absorbed = np.where(z.postpointmesh <= 0, Uf, 0)\n",
    "    if k == 0: # if nearest grid point\n",
    "        f_absorbed = np.where(z.postpointmesh <= 0, f_old, 0)\n",
    "\n",
    "        # the fraction (1 + U[i,j]) of f_absorbed[i,j] is deposited at the wall (written below as (f + Uf))\n",
    "        # any vz.prepointvaluemesh[i,j] which pushed a particle to this edge is negative\n",
    "        # any Uf_absorbed which corresponds to the normalized flux of particles at the edge is also negative\n",
    "        # the minus sign in front of vz.prepointvaluemesh acts as the absolute value operator\n",
    "        sigma_nk = charge * np.sum(-vz.prepointvaluemesh * (f_absorbed + Uf_absorbed) * vz.width)\n",
    "\n",
    "    elif k == 1:\n",
    "\n",
    "        # the fraction (-U[i,j]) of f_absorbed[i,j] is deposited at the wall (written below as (-Uf))\n",
    "\n",
    "        # minus signs have been cancelled here, the raw version of this might be thought of as\n",
    "        # sigma_nk = charge * np.sum((-vz.prepointvaluemesh) * (-Uf_absorbed) * vz.width)\n",
    "        # where Uf_absorbed < 0 as well.\n",
    "\n",
    "        sigma_nk = charge * np.sum(vz.prepointvaluemesh * (Uf_absorbed) * vz.width)\n",
    "\n",
    "    # update global variable, sigma\n",
    "    sim_params['sigma'][z.str]['lower'] += sigma_nk\n",
    "\n",
    "    # remove the exiting particles from f, Uf to prep for subsequent remapping (will remap with zero contribution)\n",
    "    f_old, Uf = absorbing_lower_boundary(f_old, Uf, zpostpointmesh, k, z, vz, sim_params, charge)\n",
    "\n",
    "    return f_old, Uf\n",
    "\n",
    "def collector_upper_boundary(f_old, Uf, \n",
    "                             zpostpointmesh,\n",
    "                             k, \n",
    "                             z, vz,\n",
    "                             sim_params,\n",
    "                             charge):\n",
    "\n",
    "    # this discriminates vx vs. x, as the boundary condition function handle\n",
    "    # sim_params['BC'][z.str]['lower' or 'upper'] for z.str = 'vx' is never set to 'charge_collection'\n",
    "    # in lib.read\n",
    "\n",
    "    # collect density packets that reach the boundary (or beyond)\n",
    "\n",
    "    Uf_absorbed = np.where(z.postpointmesh >= z.N-1, Uf, 0)\n",
    "    if k == 0: # if nearest grid point\n",
    "        f_absorbed = np.where(z.postpointmesh >= z.N-1, f_old, 0)\n",
    "\n",
    "        # the fraction (1 - U[i,j]) of f_absorbed[i,j] is deposited at the wall (written below as (f - Uf))\n",
    "        # any vz.prepointvaluemesh[i,j] which pushed a particle to this edge is positive\n",
    "        # any Uf_absorbed which corresponds to the normalized flux of particles at the edge is also positive\n",
    "        sigma_nk = charge * np.sum(vz.prepointvaluemesh * (f_absorbed - Uf_absorbed) * vz.width)\n",
    "\n",
    "    elif k == 1:\n",
    "\n",
    "        # the fraction (U[i,j]) of f_absorbed[i,j] is deposited at the wall (written below as (Uf))\n",
    "\n",
    "        sigma_nk = charge * np.sum(vz.prepointvaluemesh * (Uf_absorbed) * vz.width)\n",
    "\n",
    "    # update global variable, sigma\n",
    "    sim_params['sigma'][z.str]['upper'] += sigma_nk\n",
    "\n",
    "    # remove the exiting particles from f, Uf to prep for subsequent remapping (will remap with zero contribution)\n",
    "    f_old, Uf = absorbing_upper_boundary(f_old, Uf, zpostpointmesh, k, z, vz, sim_params, charge)\n",
    "\n",
    "    return f_old, Uf\n"
   ]
  },
  {
   "cell_type": "markdown",
   "metadata": {},
   "source": [
    "The new version requires the same parameter list as used above for universal function calls as described above. And, while the attributes such as vz.prepointmesh are technically accessible, we increase speed from saving lookup costs by passing the array attribute as well so that Cython can work with C types.\n",
    "\n",
    "Hence we need protoypes such as:\n",
    "\n",
    "    def collector_lower_boundary(f_old, Uf_old,\n",
    "                                 zpostpointmesh,\n",
    "                                 vzprepointmesh,\n",
    "                                 Nz, Nvz, \n",
    "                                 k, charge,\n",
    "                                 sim_params,\n",
    "                                 z, vz)\n",
    "                                 \n",
    "\n",
    "    def collector_upper_boundary(f_old, Uf_old,\n",
    "                                 zpostpointmesh,\n",
    "                                 vzprepointmesh,\n",
    "                                 Nz, Nvz, \n",
    "                                 k, charge,\n",
    "                                 sim_params,\n",
    "                                 z, vz)\n",
    "                                 \n",
    "Finally, noting that we only need eto examine entries which have CFL number ~ vx * dt < 0 or vx * dt > 0 for the lower and upper boundary, hence we save cost by\n",
    "\n",
    "    (1) noting that while negative time steps are technicaly possible (for high order split schemes), such a scheme\n",
    "        WOULD NOT be used in a Vlasov system with boundaries, as the it is an irreversible problem with boundaries.\n",
    "        \n",
    "    (2) given (1) above, we will be working with positive time steps, hence we know a prior that only the negative \n",
    "        velocities flow advect density packets toward the lower boundary and only positive velocities advect \n",
    "        density packets towards the right wall. This reduces the looping through velocity (column).\n",
    "        \n",
    "    (3) given (2), there is no guarantee the user will use a symmetric velocity grid, for example, which would then\n",
    "        halve the number of grid points that need to be looped over. Thus, it is not obvious which range\n",
    "        \n",
    "        \n",
    "As concerns (3), we can figure out the range based on the user inputs in params.dat\n",
    "\n",
    "    avx = ...\n",
    "    bvx = ...\n",
    "    Nvx = ...\n",
    "    \n",
    "Then we can compute:\n",
    "\n",
    "\n",
    "    # INSERT THE FOLLOWING INTO lib.read routine\n",
    "    \n",
    "    if avx*bvx < 0: # if there avx and bvx are of opposite sign then there exists a zero\n",
    "    \n",
    "        # number of grid points to the inflection point in velocity (vx = 0) is also\n",
    "        # the grid index j at which the inflection point happens in 0-based indexing such as in python\n",
    "        # hence, we have the following condition for inflection avx + j_inflection_point*dx = 0\n",
    "        \n",
    "        j_inflection_point = np.ceil(-avx / d)x = np.ceil(-avx * (Nvx - 1) / (bvx - avx))\n",
    "        j_inflection_point = int(j_inflection_point)\n",
    "                \n",
    "        # then we have  vx < 0 for j = 0, 1, ... j_inflection_point-1\n",
    "        #          and  vx >= 0 for j = Nvx_inflection_point, Nvx_inflection_point + 1, Nvx_inflection_point + 2, ..\n",
    "        \n",
    "    elif avx*bvx >= 0:\n",
    "    \n",
    "        raise InputError('DECSKS will not permit inputs it sees as unphysical. According to params.dat, a velocity grid has been set up without both positive and negative velocities; only one sign of velocities has been requested (i.e. the user sets lower and upper limits on the velocioty grid per parameters such as avx, bvx, respectively.) Please return to params.dat and reconsider')\n",
    "\n",
    "This can be stored in sim_params to avoid having to compute it at minimal <code>Nt</code> times throughout the simulation."
   ]
  },
  {
   "cell_type": "markdown",
   "metadata": {},
   "source": [
    "## <font color = \"green\">DECSKS-2.1 Cython renditions of <code>lib.boundaryconditions.collector</code> boundary conditions</font>"
   ]
  },
  {
   "cell_type": "code",
   "execution_count": null,
   "metadata": {
    "collapsed": true
   },
   "outputs": [],
   "source": [
    "@cython.boundscheck(False)\n",
    "def collector_lower_boundary(\n",
    "        np.ndarray[DTYPE_t, ndim=2] f_old,\n",
    "        np.ndarray[DTYPE_t, ndim=2] Uf_old,\n",
    "        np.ndarray[DTYPEINT_t, ndim=2] zpostpointmesh,\n",
    "        np.ndarray[DTYPEINT_t, ndim=2] vzprepointmesh,\n",
    "        int Nz, int Nvz, int k, int charge,\n",
    "        sim_params,\n",
    "        z, vz\n",
    "        ):\n",
    "    # vars here are typed as C data types to minimize python interaction\n",
    "\n",
    "    # for any such density packet whose postpoint predicts exceeding the lower boundary of\n",
    "    # the domain, zero out (absorb) the density, and add contribution to total charge\n",
    "    # density sigma at that boundary\n",
    "    cdef int i, j, j_inflection_point\n",
    "    cdef DTYPE_t sigma_nk = 0\n",
    "    cdef DTYPE_t vzwidth = vz.width\n",
    "\n",
    "    j_inflection = sim_params['vx_inflection_gridpoint']\n",
    "    if k == 0:\n",
    "        for i in range(Nz):\n",
    "            for j in range(0,j_inflection):\n",
    "                if zpostpointmesh[i,j] <= 0:\n",
    "                    sigma_nk += -vzprepointmesh[i,j] * (f_old[i,j] + Uf_old[i,j])\n",
    "                    f_old[i,j] = 0\n",
    "                    Uf_old[i,j] = 0\n",
    "                    zpostpointmesh[i,j] = Nz - 1  # set postpoint at the absorber\n",
    "\n",
    "    elif k == 1:\n",
    "        for i in range(Nz):\n",
    "            for j in range(0,j_inflection):\n",
    "                if zpostpointmesh[i,j] <= 0:\n",
    "                    sigma_nk += vzprepointmesh[i,j] * Uf_old[i,j]\n",
    "                    f_old[i,j] = 0\n",
    "                    Uf_old[i,j] = 0\n",
    "                    zpostpointmesh[i,j] = Nz - 1  # set postpoint at the absorber\n",
    "\n",
    "\n",
    "    sigma_nk *= charge\n",
    "    sigma_nk *= vzwidth\n",
    "\n",
    "    # update cumulative charge density\n",
    "    sim_params['sigma'][z.str]['lower'] += sigma_nk\n",
    "    z.postpointmesh[k,:,:] = zpostpointmesh\n",
    "\n",
    "    return f_old, Uf_old\n",
    "\n",
    "@cython.boundscheck(False)\n",
    "def collector_upper_boundary(\n",
    "        np.ndarray[DTYPE_t, ndim=2] f_old,\n",
    "        np.ndarray[DTYPE_t, ndim=2] Uf_old,\n",
    "        np.ndarray[DTYPEINT_t, ndim=2] zpostpointmesh,\n",
    "        np.ndarray[DTYPEINT_t, ndim=2] vzprepointmesh,\n",
    "        int Nz, int Nvz, int k, int charge,\n",
    "        sim_params,\n",
    "        z, vz\n",
    "        ):\n",
    "    # vars here are typed as C data types to minimize python interaction\n",
    "\n",
    "    # for any such density packet whose postpoint predicts exceeding the lower boundary of\n",
    "    # the domain, zero out (absorb) the density, and add contribution to total charge\n",
    "    # density sigma at that boundary\n",
    "    cdef int i, j, j_inflection_point\n",
    "    cdef DTYPE_t sigma_nk = 0\n",
    "    cdef DTYPE_t vzwidth = vz.width\n",
    "\n",
    "    j_inflection = sim_params['vx_inflection_gridpoint']\n",
    "\n",
    "    if k == 0:\n",
    "        for i in range(Nz):\n",
    "            for j in range(j_inflection,Nvz):\n",
    "                if zpostpointmesh[i,j] >=  Nz - 1:\n",
    "                    sigma_nk += vzprepointmesh[i,j] * (f_old[i,j] - Uf_old[i,j])\n",
    "                    f_old[i,j] = 0\n",
    "                    Uf_old[i,j] = 0\n",
    "                    zpostpointmesh[i,j] = 0  # set postpoint at the absorber\n",
    "\n",
    "    elif k == 1:\n",
    "        for i in range(Nz):\n",
    "            for j in range(j_inflection,Nvz):\n",
    "                if zpostpointmesh[i,j] >=  Nz - 1:\n",
    "                    sigma_nk += vzprepointmesh[i,j] * Uf_old[i,j]\n",
    "                    f_old[i,j] = 0\n",
    "                    Uf_old[i,j] = 0\n",
    "                    zpostpointmesh[i,j] = 0  # set postpoint at the absorber\n",
    "\n",
    "\n",
    "    sigma_nk *= charge\n",
    "    sigma_nk *= vzwidth\n",
    "\n",
    "    # update cumulative charge density\n",
    "    sim_params['sigma'][z.str]['upper'] += sigma_nk\n",
    "    z.postpointmesh[k,:,:] = zpostpointmesh\n",
    "\n",
    "    return f_old, Uf_old"
   ]
  },
  {
   "cell_type": "markdown",
   "metadata": {},
   "source": [
    "<font color = \"red\">Reminder: while the above excerpt of code has been added to the version of DECSKS in this folder and will run if in params.dat the options 'self-consistent' are set under phi boundary conditions, this has been discovered to be incorporated with a Dirichlet boundary condition and not a Neumann condition, hence even though DECSKS will run if you put in a self-consistent phi boundary condition and track wall objects, as well as remove density from the distribution function consistently, it will NOT compute the potential correctly as a Neumann condition needs to be used (see DECSKS-18 part 2 for correct implementation and details)./</font>"
   ]
  }
 ],
 "metadata": {
  "kernelspec": {
   "display_name": "Python 2",
   "language": "python",
   "name": "python2"
  },
  "language_info": {
   "codemirror_mode": {
    "name": "ipython",
    "version": 2
   },
   "file_extension": ".py",
   "mimetype": "text/x-python",
   "name": "python",
   "nbconvert_exporter": "python",
   "pygments_lexer": "ipython2",
   "version": "2.7.3"
  }
 },
 "nbformat": 4,
 "nbformat_minor": 0
}

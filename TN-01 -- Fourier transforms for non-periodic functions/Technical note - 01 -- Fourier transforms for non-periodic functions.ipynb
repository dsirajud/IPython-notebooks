{
 "cells": [
  {
   "cell_type": "markdown",
   "metadata": {},
   "source": [
    "# Technical note - 01 -- Fourier transforms for non-periodic functions"
   ]
  },
  {
   "cell_type": "markdown",
   "metadata": {},
   "source": [
    "# A. Fourier transforms for periodic function review\n",
    "\n",
    "Consider a function $f_L = f_L(x)$ that is $L$-periodic, it is well-known that projecting the function onto the space of complex exponentials permits the following trigonometric series representation:\n",
    "\n",
    "$$f(x) = \\sum_{k = -\\infty}^{\\infty} \\mathcal{F}[f_L](k) e^{i\\frac{2\\pi k}{L}x}$$\n",
    "\n",
    "where the projection $\\mathcal{F}[f_L](k)$ is termed the Fourier transform, whose form is understood immediately from pure math considerations, i.e. orthogonality is exploited by multiplying the above form by function from the same family and integrating:\n",
    "\n",
    "\\begin{eqnarray*}\n",
    "\\int_{-L/2}^{L/2} dx f(x) e^{-\\frac{2\\pi\\text{i}k}{L}}  & = & \\int_{-L/2}^{L/2} dx\\sum_{m  =  -\\infty}^{\\infty} \\mathcal{F}[f_L](m) e^{\\frac{2\\pi\\text{i}m}{L}} e^{-\\frac{2\\pi\\text{i}k}{L}} \\\\[1em]\n",
    "\\int_{-L/2}^{L/2} dx f(x) e^{-\\frac{2\\pi\\text{i}k}{L}}  & = & \\sum_{m  =  -\\infty}^{\\infty} \\mathcal{F}[f_L](m) \\left(\\int_{-L/2}^{L/2} dx e^{\\frac{2\\pi\\text{i}(m - k)}{L}}\\right) \\\\[1em]\n",
    "\\int_{-L/2}^{L/2} dx f(x) e^{-\\frac{2\\pi\\text{i}k}{L}}  & = & \\sum_{m  =  -\\infty}^{\\infty} \\mathcal{F}[f_L](m)(L\\delta_{mk}) \\\\[1em]\n",
    "\\int_{-L/2}^{L/2} dx f(x) e^{-\\frac{2\\pi\\text{i}k}{L}}  & = & \\mathcal{F}[f_L](k) L\n",
    "\\end{eqnarray*}\n",
    "\n",
    "Thus,\n",
    "\n",
    "$$\\mathcal{F}[f](k) = \\frac{1}{L}\\int_{-L/2}^{L/2} f_L(x) e^{-\\frac{2\\pi\\text{i}}{L}kx}dx = \\frac{(f_L, e^{\\frac{2\\pi\\text{i}}{L}kx})}{(e^{\\frac{2\\pi\\text{i}}{L}kx}, e^{\\frac{2\\pi\\text{i}}{L}kx})} \\qquad \\underline{\\text{Forward (Fourier) transform}}$$\n",
    "\n",
    "Where the inner product is defined as $(A, B) =  \\langle B | A \\rangle = \\int_{\\mathbb{x\\in \\mathcal{D}}} dx A\\bar{B} = \\int_{x\\in\\mathcal{D}} dx B^*A$ (the author favors the mathematicians' notation using paranthesis over the bra-ket notation of physicists, but both have been provided so there is no lack of clarity here). The backward transform is easily understood as:\n",
    "\n",
    "$$\\mathcal{F}^{-1}[\\mathcal{F}[f_L](k)] = f_L(x) = \\int_{-L/2}^{L/2} \\mathcal{F}[f_L](k) e^{\\frac{2\\pi\\text{i}}{L}kx}dx = (e^{\\frac{2\\pi\\text{i}}{L}kx},f) \\qquad \\underline{\\text{Backward (inverse Fourier) transform}}$$"
   ]
  },
  {
   "cell_type": "markdown",
   "metadata": {},
   "source": [
    "# B. Fourier transforms extended to non-periodic functions\n",
    "\n",
    "We consider a class of non-periodic functions $f = f(x)$ that are \"compact\" in the sense that there exists a constant $\\ell\\in\\mathbb{R}^+$ such that $f = 0$ whenever $|x| > \\ell / 2$. This function is not representable as a trigonometric series as above given it is not periodic. Define a surrogate function $f_{\\ell}$ that is the $\\ell$-periodic extension of $f$, i.e. \n",
    "\n",
    "$$\\text{periodic extension: }\\qquad  f_{\\ell}(x + \\ell) = f(x), \\qquad \\qquad x\\in\\mathbb{R}$$\n",
    "\n",
    "To generalize the result to be valid for all $x$ is an exercise in bookkeeping. Since $f_{\\ell} = f$ inside the interval $x\\in [-\\ell / 2, \\ell / 2]$, it is clear the following holds:\n",
    "\n",
    "$$f(x) = f_{\\ell}(x) = \\sum_{k = -\\infty}^{\\infty} \\mathcal{F}[f](k)e^{i \\frac{2\\pi k}{\\ell} x} \\qquad \\qquad \\text{(B.1)}$$\n",
    "\n",
    "and,\n",
    "\n",
    "$$\\mathcal{F}[f]_{\\ell}(k) = \\frac{1}{\\ell}\\int_{-\\ell / 2}^{\\ell / 2}dx f_{\\ell}(x) e^{-i\\frac{2\\pi k}{\\ell} x} = \\frac{1}{\\ell}\\int_{-\\ell / 2}^{\\ell / 2} dx f(x) e^{-i\\frac{2\\pi k}{\\ell} x}$$\n",
    "\n",
    "Since the actual function $f$ has an infinite period, to extend the result to the whole domain $x\\in\\mathbb{R}$. Hence, naively we may consider taking the limit as $\\ell \\rightarrow \\infty$. However, it is clear taking the direct limit does not produce anything useful. Instead, what is required is to consider a measure capable of capturing that an increase in $\\ell$ corresponds to a decrease in spacing from one \"mode\" $k$ to the next. Such a measure can be taken to be the linear frequency $\\nu_k = k / \\ell$, or if desired the wave number (or, \"frequency\") $\\xi_k = \\frac{2\\pi k}{\\ell}$, can equivalently considered. Thus, we swap labels of $k$ with $\\nu_k$ for transparency, and write,\n",
    "\n",
    "$$\\mathcal{F}[f_{\\ell}](k) = \\frac{1}{\\ell}\\int_{-\\ell / 2}^{\\ell / 2} dx f(x) e^{-i2\\pi\\nu_k x}$$\n",
    "\n",
    "Note, that the width between each linear frequency is $\\Delta \\nu_k \\equiv \\Delta\\nu = \\nu_{k+1} - \\nu_k = \\frac{1}{\\ell}(k + 1 - k) = \\frac{1}{\\ell}$, which permits expressing the period $\\ell = \\frac{1}{\\Delta \\nu_k}$, so the above is\n",
    "\n",
    "$$\\mathcal{F}[f_{\\ell}](k) = \\Delta\\nu\\left(\\int_{-\\ell / 2}^{\\ell / 2} dx f(x) e^{-2\\pi i \\nu_k x}\\right)$$\n",
    "\n",
    "Inserting this result into eq. (B.1), which we write in terms of $\\nu_k = k / \\ell$:\n",
    "\n",
    "\n",
    "$$f(x) = f_{\\ell}(x) = \\sum_{k = -\\infty}^{\\infty} \\left(\\int_{-\\ell / 2}^{\\ell / 2} dx f(x) e^{-2\\pi i \\nu_k x}\\right)e^{i2\\pi\\nu_kx}\\Delta\\nu$$\n",
    "\n",
    "In this form, we are in a position to take limits. Taking into account the infinite period of $f$ amounts to taking the limit $\\ell\\rightarrow\\infty$; however, since $\\Delta \\nu = \\frac{1}{\\ell}$ this is equivalent to $\\Delta\\nu \\rightarrow 0$, hence since $f = 0$ outside of $|x| \\leq \\ell / 2$, it can be written that\n",
    "\n",
    "\\begin{eqnarray*}\n",
    "f(x) & = & \\lim_{\\substack{\\Delta \\nu\\rightarrow 0 \\\\ \\ell\\rightarrow\\infty}} \\sum_{k = -\\infty}^{\\infty} \\left(\\int_{-\\ell / 2}^{\\ell / 2} dx f(x) e^{-2\\pi i \\nu_k x}\\right)e^{i2\\pi\\nu_kx}\\Delta\\nu \\\\\n",
    "& = & \\lim_{\\substack{\\Delta \\nu\\rightarrow 0}}\\sum_{k = -\\infty}^{\\infty} \\underbrace{\\left(\\int_{-\\infty}^{\\infty} dx f(x) e^{-2\\pi i \\nu_k x}\\right)}_{=\\,\\mathcal{F}[f](k)}e^{i2\\pi\\nu_kx}\\Delta\\nu \\\\\n",
    "f(x) & = & \\lim_{\\substack{\\Delta \\nu\\rightarrow 0}}\\sum_{k = -\\infty}^{\\infty} \\mathcal{F}[f](k)e^{i2\\pi\\nu_kx}\\Delta\\nu\n",
    "\\end{eqnarray*}\n",
    "\n",
    "Incidentally, we arrive at a definition of a formal integral,\n",
    "\n",
    "$$f(x)  = \\int_{-\\infty}^{\\infty}\\mathcal{F}[f](k)e^{i2\\pi\\nu_kx}d\\nu$$\n",
    "\n",
    "where the forward and backward transforms are given by:\n",
    "\n",
    "$$\\mathcal{F}[f](\\nu_k) = \\int_{-\\infty}^{\\infty} dx f(x) e^{-2\\pi i \\nu_k x}, \\qquad \\mathcal{F}^{-1}[\\mathcal{F}f](x) = \\int_{-\\infty}^{\\infty} d\\nu_k \\mathcal{F}[f](\\nu_k) e^{2\\pi i \\nu_k x}$$\n",
    "\n",
    "Thus, for a non-periodic function, a continuum of projections for each frequency $\\nu_k$ is needed to represent the original function.\n",
    "\n",
    "It is also common to see this statement expressed in terms of the wave (angular) frequency (also called the wave number) $\\xi_k = 2\\pi\\nu_k$, then $d\\nu_k = d\\xi_k / (2\\pi )$, and we have the equivalent trigonometric series that represents the function:\n",
    "\n",
    "$$f(x)  = \\frac{1}{2\\pi}\\int_{-\\infty}^{\\infty}\\mathcal{F}[f](k)e^{i\\xi_kx}d\\nu$$\n",
    "\n",
    "where\n",
    "\n",
    "$$\\mathcal{F}[f](\\xi_k) = \\int_{-\\infty}^{\\infty} dx f(x) e^{-i\\xi_kx}, \\qquad \\mathcal{F}^{-1}[\\mathcal{F}f](x) = \\int_{-\\infty}^{\\infty} d\\xi_k f(x) e^{-i\\xi_kx} $$\n",
    "\n",
    "Note that the artificial period $\\ell$ introduced earlier of the surrogate function $f_{\\ell}$ properly does not appear in the final statement as the choice of an arbitrary number cannot influence the final result provided it met the required criterion. \n",
    "\n",
    "In the latter form using the wave number $\\xi_k$, an asymmetry is introduced. This is not wholly the fault of the wave number definition itself $\\xi_k = \\frac{2\\pi k}{\\ell}$, but traces back in part to the choice of trigonometric basis to project the function onto. Recall, the basis of complex exponentials was chosen as $\\exp (i2\\pi k x)$, it is clear that any basis can be chosen, for example $\\exp(i 2\\pi a k x)$, for some $a\\in\\mathbb{R}$. Similarly, any normalization can be chosen in one direction (e.g. forward transform) provided it is undone in the other direction (e.g. backward transform)."
   ]
  }
 ],
 "metadata": {
  "kernelspec": {
   "display_name": "Python 2",
   "language": "python",
   "name": "python2"
  },
  "language_info": {
   "codemirror_mode": {
    "name": "ipython",
    "version": 2
   },
   "file_extension": ".py",
   "mimetype": "text/x-python",
   "name": "python",
   "nbconvert_exporter": "python",
   "pygments_lexer": "ipython2",
   "version": "2.7.3"
  }
 },
 "nbformat": 4,
 "nbformat_minor": 0
}

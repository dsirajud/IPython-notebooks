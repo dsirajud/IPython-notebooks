{
 "cells": [
  {
   "cell_type": "markdown",
   "metadata": {},
   "source": [
    "# Code upgrade objective\n",
    "\n",
    "Currently, the manner in which high order corrections are applied is supplied as a single option in the input file etc/params.dat. This notebook records the short goal of just adding in the funcationality/option so that different high order corrections (HOC) methods can be applied to different phase space variables. The reason for this upgrade is that the velocity boundary conditions are always periodic, so it makes sense to use the globally accurate Fourier corrections to find the high order corrections which outperform finite differences in accuracy."
   ]
  },
  {
   "cell_type": "markdown",
   "metadata": {},
   "source": [
    "The input file etc/params.dat is modified to include a HOC dictionary\n",
    "\n",
    "    sim_params['HOC'] = {}\n",
    "    sim_params['HOC']['x'] = 'fd' or 'fourier'\n",
    "    sim_params['HOC']['vx'] = 'fd' or fourier'\n",
    "    \n",
    "and so on. We make a new block similar to the boundary conditions block for the dictionary sim_params['BC'] and permit specification of all HOC corrections for each phase space variable."
   ]
  },
  {
   "cell_type": "markdown",
   "metadata": {},
   "source": [
    "Actually, this is kind of entangled. The densities are sent through split routines designated as either all fd or all fourier based corrections. The reason is because the choice of fd vs. fourier determines if phi or E is solved for lib.fieldsolvers (fd is a poission solver, fourier does a Gauss solve). <b>But, the manner in which $E$ is computed depends <i>only</i> on the HOC of the spatial variables.</b> Hence, it depends only on <code>sim_params['HOC']['x'] in our 1D1V case. the value of sim_params['HOC']['vx'] does not enter at this point as a means of selecting which fieldsolver.\n",
    "\n",
    "To fix this, just create one method called lib.split (as before), then in sim_params store a dictionary HOC, whose key/value pairs are strings HOC['x'] and HOC['vx'] that are either 'fd' or 'fourier'.\n",
    "\n",
    "Then, inside of lib.split call a general function\n",
    "\n",
    "     lib.fieldsolvers.compute_electric_field(f, z, vz, sim_params)\n",
    "     \n",
    "which then chooses the right path by the dictionary HOC inside, e.g.\n",
    "\n",
    "    def compute_electric_field(f, z, vz, sim_params):\n",
    "    \n",
    "        # if HOC = 'fd'\n",
    "        \n",
    "        phi = Poisson_solve(...)\n",
    "        dphi = W.dot(phi)\n",
    "        E = -dphi\n",
    "        \n",
    "        # if HOC = 'fourier'\n",
    "        \n",
    "        E = Gauss(...)\n",
    "        \n",
    "But, do this without any if-else checks by selecting with the dictionary strings in HOC.\n",
    "\n",
    "Could make two functions\n",
    "\n",
    "    lib.fieldsolvers.compute_electric_field_fd\n",
    "    \n",
    "and\n",
    "\n",
    "    lib.fieldsolvers.compute_electric_field_fourier\n",
    "    \n",
    "\n",
    "so that \n",
    "\n",
    "    # in lib.split\n",
    "    \n",
    "    E = eval(compute_electric_field_function_handle)(f, z, vz, sim_params)\n",
    "    \n",
    "chooses the above where\n",
    "\n",
    "    def compute_electric_field_fd(f, z, vz, sim_params):\n",
    "        phi = Poisson_6th(...)\n",
    "        dphi = W.dot(phi)\n",
    "        E = -dphi\n",
    "        \n",
    "        return E\n",
    "        \n",
    "and\n",
    "\n",
    "    def compute_electric_field_fourier(f, z, vz, sim_params):\n",
    "        E = Gauss(...)\n",
    "        \n",
    "        return E\n",
    "        \n",
    "alright, done!\n",
    "\n"
   ]
  },
  {
   "cell_type": "code",
   "execution_count": null,
   "metadata": {
    "collapsed": true
   },
   "outputs": [],
   "source": []
  }
 ],
 "metadata": {
  "kernelspec": {
   "display_name": "Python 2",
   "language": "python",
   "name": "python2"
  },
  "language_info": {
   "codemirror_mode": {
    "name": "ipython",
    "version": 2
   },
   "file_extension": ".py",
   "mimetype": "text/x-python",
   "name": "python",
   "nbconvert_exporter": "python",
   "pygments_lexer": "ipython2",
   "version": "2.7.3"
  }
 },
 "nbformat": 4,
 "nbformat_minor": 0
}

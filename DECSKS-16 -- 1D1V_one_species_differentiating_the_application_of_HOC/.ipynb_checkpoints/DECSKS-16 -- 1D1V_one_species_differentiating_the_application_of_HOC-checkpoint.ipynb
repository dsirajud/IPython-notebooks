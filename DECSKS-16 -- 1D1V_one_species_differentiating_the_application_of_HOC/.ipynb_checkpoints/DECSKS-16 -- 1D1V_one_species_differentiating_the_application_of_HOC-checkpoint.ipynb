{
 "cells": [
  {
   "cell_type": "markdown",
   "metadata": {},
   "source": [
    "# Code upgrade summary\n",
    "\n",
    "Currently, the manner in which high order corrections are applied is supplied as a single option in the input file etc/params.dat. This notebook records the short goal of just adding in the funcationality/option so that different high order corrections (HOC) methods can be applied to different phase space variables. The reason for this upgrade is that the velocity boundary conditions are always periodic, so it makes sense to use the globally accurate Fourier corrections to find the high order corrections which outperform finite differences in accuracy.\n",
    "\n",
    "Several changes were made (too many to record here). "
   ]
  },
  {
   "cell_type": "markdown",
   "metadata": {},
   "source": [
    "The input file etc/params.dat is modified so that an HOC dictionary can be created in lib.read:\n",
    "\n",
    "    sim_params['HOC'] = {}\n",
    "    sim_params['HOC']['x'] = 'fd' or 'fourier'\n",
    "    sim_params['HOC']['vx'] = 'fd' or fourier'\n",
    "    \n",
    "and so on. We have mad a new block similar to the boundary conditions block for the dictionary sim_params['BC'] and permit specification of all HOC corrections for each phase space variable."
   ]
  },
  {
   "cell_type": "markdown",
   "metadata": {},
   "source": [
    "There has also been the first signficant cleanup of etc/params.dat as well as reorganization of lib.read for the first time since their file creation. Some ad-hoc additions to make the code run in main.py (e.g. constructing the finite difference weight matricies W and W_dn1) have been removed and instead are computed in the initial read-in from lib.read.\n",
    "\n",
    "The two split routines, split_fd and split_fourier have now been deprecated given this code change and are unneeded. hence the DECSKS __init__.py imports a single split.py.\n",
    "\n",
    "Two distinct orchestrator routines in lib.fieldsolvers have been implemented \n",
    "\n",
    "    lib.fieldsolvers.compute_electric_field_fd\n",
    "    \n",
    "and\n",
    "\n",
    "    lib.fieldsolvers.compute_electric_field_fourier\n",
    "    \n",
    "whose handles are stored in a dictionary sim_params['compute_electric_field_handle']['x'] right now, since we still are only considering advection in (x, vx)."
   ]
  }
 ],
 "metadata": {
  "kernelspec": {
   "display_name": "Python 2",
   "language": "python",
   "name": "python2"
  },
  "language_info": {
   "codemirror_mode": {
    "name": "ipython",
    "version": 2
   },
   "file_extension": ".py",
   "mimetype": "text/x-python",
   "name": "python",
   "nbconvert_exporter": "python",
   "pygments_lexer": "ipython2",
   "version": "2.7.3"
  }
 },
 "nbformat": 4,
 "nbformat_minor": 0
}

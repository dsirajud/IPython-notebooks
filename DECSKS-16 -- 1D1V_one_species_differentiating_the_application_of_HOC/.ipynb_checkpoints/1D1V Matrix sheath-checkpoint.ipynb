{
 "cells": [
  {
   "cell_type": "markdown",
   "metadata": {},
   "source": [
    "# 1D1V Matrix sheath test case$^1$"
   ]
  },
  {
   "cell_type": "markdown",
   "metadata": {},
   "source": [
    "# A. Setup\n",
    "\n",
    "For the collionless plasma, the electrons $f_e = f_e(t,x,v_x)$ evolve electrostatically according to the Vlasov equation\n",
    "\n",
    "$$\\partial_t f_e + v_x\\partial_x f_e + \\partial_x\\phi \\partial_{v_x}f_e = 0$$\n",
    "\n",
    "for\n",
    "\n",
    "$$f_e\\colon [-L, 0]\\times [-V, V]\\times [0,T] \\mapsto \\mathbb{R}, \\qquad \\qquad L\\in\\mathbb{R}, V\\in\\mathbb{R}, T\\in\\mathbb{R}$$\n",
    "\n",
    "alongside a cold ion background $n_i \\equiv n_0 = 1$, which influence the electron motion through an electric potential $\\phi = \\phi (t,x)$ according to\n",
    "\n",
    "$$\\partial_x^2\\phi = n_e - n_0, \\qquad n_0 = 1, n_e = \\int dv_x f_e(t,x,v_x)$$\n",
    "\n",
    "We envision the setup as a plasma system near a left-handed wall at $x = -L$. The quasi-neutral bulk plasma is at the numerical boundary $x = 0$. Instead of self-consistently determining the potential $\\phi$ at the wall, we instead bias the wall largely negative, so that a sheath is forced on the system by prohibiting all but the most energetic electrons from reaching the wall, in this way the electron transport is inertia-limited. Writing boundary conditions as\n",
    "\n",
    "<b>Potential $\\phi$</b>\n",
    "\n",
    "<u>Boundary conditions</u>\n",
    "<ol>\n",
    "<li>$\\phi (t, x = -L) = \\text{largely negative}$\n",
    "<li>$\\phi (t, x = 0) = 0$\n",
    "</ol>\n",
    "\n",
    "<b>Density function $f_e$</b>\n",
    "\n",
    "<u>Initial condition</u>: $f_e(0,x,v_x) = \\frac{1}{\\sqrt{2\\pi}}\\exp\\left( \\frac{1}{2}(v - v_D)^2 \\right)$\n",
    "\n",
    "for some drift velocity $v_D < 0$, we will choose this to be somewhat comparable to the wall potential so that the transport of electrons through a retarding field and subsequent turning points in trajectories can be tracked.\n",
    "\n",
    "<u>Boundary conditions</u>\n",
    "<ol>\n",
    "<li>$f_e (t, x = -L, v_x < 0 ) = 0 $\n",
    "<li>$f_e (t, x \\geq 0, v_x \\geq 0) = 0$, electrons have exited the system in this time step\n",
    "</ol>\n",
    "\n",
    "\n",
    "\n"
   ]
  },
  {
   "cell_type": "markdown",
   "metadata": {},
   "source": [
    "# References\n",
    "\n",
    "[1] Lieberman, p.204"
   ]
  },
  {
   "cell_type": "code",
   "execution_count": null,
   "metadata": {
    "collapsed": true
   },
   "outputs": [],
   "source": []
  }
 ],
 "metadata": {
  "kernelspec": {
   "display_name": "Python 2",
   "language": "python",
   "name": "python2"
  },
  "language_info": {
   "codemirror_mode": {
    "name": "ipython",
    "version": 2
   },
   "file_extension": ".py",
   "mimetype": "text/x-python",
   "name": "python",
   "nbconvert_exporter": "python",
   "pygments_lexer": "ipython2",
   "version": "2.7.3"
  }
 },
 "nbformat": 4,
 "nbformat_minor": 0
}

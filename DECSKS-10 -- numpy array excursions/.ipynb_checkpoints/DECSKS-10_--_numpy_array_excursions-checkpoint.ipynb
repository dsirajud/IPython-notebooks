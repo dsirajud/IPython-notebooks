{
 "cells": [
  {
   "cell_type": "markdown",
   "metadata": {},
   "source": [
    "# NumPy array excursions\n",
    "\n",
    "The purpose of this notebook is to explore multidimensional NumPy arrays so that DECSKS can manipulate higher order objects instead of passing only 1D arrays in the application of convected scheme (DECSKS.lib.convect.scheme). We aim to better understand the array structures by some index slicing exercises as well as verifying products of higher order objects reproduce the same computations as the 1D array multiplications that are involved in convected scheme."
   ]
  },
  {
   "cell_type": "markdown",
   "metadata": {},
   "source": [
    "The 1D1V version of DECSKS evolves a density function $f = f(t,x,v)\\in \\mathbb{R}^+\\times\\mathbb{R}\\times\\mathbb{R}$, stored as a three-dimensional array $\\underline{\\underline{f}} = \\underline{\\underline{f}}(\\underline{t},\\underline{x},\\underline{v})\\in [0,T]\\times\\mathcal{D}_x\\times\\mathcal{D}_v$\n",
    "\n",
    "where\n",
    "\n",
    "\\begin{eqnarray*}\n",
    "\\underline{t} & = (t^n) = & (t^0, t^1, t^2, \\ldots , t^{N_t})\\\\\n",
    "&& \\\\\n",
    "\\underline{x} & = (x_i) = & (x_0, x_1, x_2, \\ldots , x_{N_x - 1}) \\\\\n",
    "&& \\\\\n",
    "\\underline{v} & = (v_j) = & (v_0, v_1, v_2, \\ldots , v_{N_v - 1}) \n",
    "\\end{eqnarray*}\n",
    "\n",
    "We define spacings on the uniform grids as:\n",
    "\n",
    "$$\\Delta t = \\frac{T}{N_t}, \\qquad \\Delta x = \\frac{L_x}{N_x - 1}, \\qquad \\Delta v = \\frac{L_v}{N_v - 1}$$\n",
    "\n",
    "$T\\in\\mathbb{R}^+$ is the simulation time, $L_x = |\\mathcal{D}_x| = |b_x - a_x|$ and $L_v = |\\mathcal{D}_v| = b_v - a_v$, so that\n",
    "\n",
    "$$t^n = n\\Delta t, \\qquad x_i = a_x + i\\Delta x, \\qquad v_j = a_v + j\\Delta v$$\n",
    "\n",
    "for $\\mathcal{D}_x = [a_x,b_x]$, $\\mathcal{D}_v = [a_v,b_v]$, $a_x,a_v,b_x,b_v\\in\\mathbb{R}$ consistute the $x$ and $v$ grids. In this notebook, we are only interested in understanding the shapes of higher dimensional arrays and how to index them in a way that allows confident access of anything desired. Hence, the contents of the array does not matter inasmuch as the elements of each vector can be traced. We create numpy arrays of strings for easy identification and decide on distinct sizes: $N_x = 5, N_v = 7, N_t = 3$ since it is a rare case that we elect to use the same number of gridpoints in more than one grid. Each vector $\\underline{x}, \\underline{v}, \\underline{t}$ are themselves 1D which altogether constitute a 3D object by straightforward cartesian product. Note, that $N_t$ is the number of timesteps, not the number of time gridpoints, hence we have $N_t+1$ time gridpoints, whereas all other phase space variables we use the definition that $N_{x,v}$ denotes the total number of gridpoints, hence we have the following vectors enumerated per 0-based indexing\n",
    "\n",
    "    x = ['x0', 'x1', 'x2', 'x3', 'x4']\n",
    "    v = ['v0', 'v1', 'v2', 'v3', 'v4', 'v5', 'v6']\n",
    "    t = ['t0', 't1', 't2', 't3']\n",
    "    \n",
    "Construct the arrays:"
   ]
  },
  {
   "cell_type": "code",
   "execution_count": 75,
   "metadata": {
    "collapsed": false
   },
   "outputs": [],
   "source": [
    "import numpy as np\n",
    "\n",
    "x = np.array(['x0', 'x1', 'x2', 'x3', 'x4'])\n",
    "v = np.array(['v0', 'v1', 'v2', 'v3', 'v4', 'v5', 'v6'])\n",
    "t = np.array(['t0', 't1', 't2', 't3'])\n",
    "\n",
    "Nx,Nv = len(x), len(v)\n",
    "Nt = len(t) - 1"
   ]
  },
  {
   "cell_type": "markdown",
   "metadata": {},
   "source": [
    "create a higher order object f = f(t,x,v). In a 1D1V Vlasovian electrostatic plasma, f is density function whose value at each (x,v) gives the density at some time t. Here, layering more physical significant gets in the way of our goal of our indexing exercise. Hence, for clarity we choose f to be the identity function, so that f = f(t,x,v) = (t,x,v) is the 3D object itself. We load densities in a straightforward way, casting each entry as a 3-tuple."
   ]
  },
  {
   "cell_type": "code",
   "execution_count": 76,
   "metadata": {
    "collapsed": false
   },
   "outputs": [],
   "source": [
    "f = np.chararray([Nt+1,Nx,Nv], itemsize = 14)\n",
    "comma = ','\n",
    "delimiter_left = '('\n",
    "delimiter_right = ')'\n",
    "\n",
    "for n in range(Nt+1):\n",
    "    for i in range(Nx):\n",
    "        for j in range(Nv):\n",
    "            entry = delimiter_left + t[n] + comma + x[i] + comma + v[j] + delimiter_right\n",
    "            f[n,i,j] = entry"
   ]
  },
  {
   "cell_type": "markdown",
   "metadata": {},
   "source": [
    "we now do some index slicing to see what kinds of arrays we get. If I try f(t0,x,v) on paper, I would expect to get a 2D array with ordered pairs (x,v) for time zero t0."
   ]
  },
  {
   "cell_type": "code",
   "execution_count": 77,
   "metadata": {
    "collapsed": false
   },
   "outputs": [
    {
     "name": "stdout",
     "output_type": "stream",
     "text": [
      "[['(t0,x0,v0)' '(t0,x0,v1)' '(t0,x0,v2)' '(t0,x0,v3)' '(t0,x0,v4)'\n",
      "  '(t0,x0,v5)' '(t0,x0,v6)']\n",
      " ['(t0,x1,v0)' '(t0,x1,v1)' '(t0,x1,v2)' '(t0,x1,v3)' '(t0,x1,v4)'\n",
      "  '(t0,x1,v5)' '(t0,x1,v6)']\n",
      " ['(t0,x2,v0)' '(t0,x2,v1)' '(t0,x2,v2)' '(t0,x2,v3)' '(t0,x2,v4)'\n",
      "  '(t0,x2,v5)' '(t0,x2,v6)']\n",
      " ['(t0,x3,v0)' '(t0,x3,v1)' '(t0,x3,v2)' '(t0,x3,v3)' '(t0,x3,v4)'\n",
      "  '(t0,x3,v5)' '(t0,x3,v6)']\n",
      " ['(t0,x4,v0)' '(t0,x4,v1)' '(t0,x4,v2)' '(t0,x4,v3)' '(t0,x4,v4)'\n",
      "  '(t0,x4,v5)' '(t0,x4,v6)']]\n"
     ]
    }
   ],
   "source": [
    "print f[0,:,:]"
   ]
  },
  {
   "cell_type": "markdown",
   "metadata": {},
   "source": [
    "This checks out. If I try f(0,x,v1), I would expect to get a 1D array of all x values with velocity v1, at time 0."
   ]
  },
  {
   "cell_type": "code",
   "execution_count": 78,
   "metadata": {
    "collapsed": false
   },
   "outputs": [
    {
     "name": "stdout",
     "output_type": "stream",
     "text": [
      "['(t0,x0,v1)' '(t0,x1,v1)' '(t0,x2,v1)' '(t0,x3,v1)' '(t0,x4,v1)']\n"
     ]
    }
   ],
   "source": [
    "print f[0,:,1]"
   ]
  },
  {
   "cell_type": "markdown",
   "metadata": {},
   "source": [
    "This also checks out. If I try f(t3,x4,v) I would expect to get a 1D array of all v at location x4 at time t3"
   ]
  },
  {
   "cell_type": "code",
   "execution_count": 79,
   "metadata": {
    "collapsed": false
   },
   "outputs": [
    {
     "name": "stdout",
     "output_type": "stream",
     "text": [
      "['(t3,x4,v0)' '(t3,x4,v1)' '(t3,x4,v2)' '(t3,x4,v3)' '(t3,x4,v4)'\n",
      " '(t3,x4,v5)' '(t3,x4,v6)']\n"
     ]
    }
   ],
   "source": [
    "print f[3,4,:]"
   ]
  },
  {
   "cell_type": "markdown",
   "metadata": {},
   "source": [
    "This also checks out. Everything works as expected incidentally. If I try f(t,x2,v6), I expect to get a 1D array of all times correspondent to the pair (x2,v6). This sounds a little silly in this language, in an actual problem this would correspond to the density at (x2,v6) over all times in the simulation."
   ]
  },
  {
   "cell_type": "code",
   "execution_count": 80,
   "metadata": {
    "collapsed": false
   },
   "outputs": [
    {
     "name": "stdout",
     "output_type": "stream",
     "text": [
      "['(t0,x2,v6)' '(t1,x2,v6)' '(t2,x2,v6)' '(t3,x2,v6)']\n"
     ]
    }
   ],
   "source": [
    "print f[:,2,6]"
   ]
  },
  {
   "cell_type": "markdown",
   "metadata": {},
   "source": [
    "Next, we try to recast 1D array multiplications with CFL numbers at a given x or v, and try to do it in one sweep as array (matrix) multiplication."
   ]
  },
  {
   "cell_type": "code",
   "execution_count": null,
   "metadata": {
    "collapsed": true
   },
   "outputs": [],
   "source": []
  },
  {
   "cell_type": "code",
   "execution_count": null,
   "metadata": {
    "collapsed": true
   },
   "outputs": [],
   "source": []
  },
  {
   "cell_type": "code",
   "execution_count": null,
   "metadata": {
    "collapsed": true
   },
   "outputs": [],
   "source": []
  },
  {
   "cell_type": "code",
   "execution_count": null,
   "metadata": {
    "collapsed": true
   },
   "outputs": [],
   "source": []
  }
 ],
 "metadata": {
  "kernelspec": {
   "display_name": "Python 2",
   "language": "python",
   "name": "python2"
  },
  "language_info": {
   "codemirror_mode": {
    "name": "ipython",
    "version": 2
   },
   "file_extension": ".py",
   "mimetype": "text/x-python",
   "name": "python",
   "nbconvert_exporter": "python",
   "pygments_lexer": "ipython2",
   "version": "2.7.3"
  }
 },
 "nbformat": 4,
 "nbformat_minor": 0
}

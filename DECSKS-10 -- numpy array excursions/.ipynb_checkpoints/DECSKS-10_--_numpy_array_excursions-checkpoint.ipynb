{
 "cells": [
  {
   "cell_type": "markdown",
   "metadata": {},
   "source": [
    "# NumPy array excursions\n",
    "\n",
    "The purpose of this notebook is to explore multidimensional NumPy arrays so that DECSKS can manipulate higher order objects instead of passing only 1D arrays in the application of convected scheme (DECSKS.lib.convect.scheme). We aim to better understand the array structures by some index slicing exercises as well as verifying products of higher order objects reproduce the same computations as the 1D array multiplications that are involved in convected scheme."
   ]
  },
  {
   "cell_type": "markdown",
   "metadata": {},
   "source": [
    "The 1D1V version of DECSKS evolves a density function $f = f(t,x,v)\\in \\mathbb{R}^+\\times\\mathbb{R}\\times\\mathbb{R}$, stored as a three-dimensional array $\\underline{\\underline{f}} = \\underline{\\underline{f}}(\\underline{t},\\underline{x},\\underline{v})\\in [0,T]\\times\\mathcal{D}_x\\times\\mathcal{D}_v$\n",
    "\n",
    "where\n",
    "\n",
    "\\begin{eqnarray*}\n",
    "\\underline{t} & = (t^n) = & (t^0, t^1, t^2, \\ldots , t^{N_t})\\\\\n",
    "&& \\\\\n",
    "\\underline{x} & = (x_i) = & (x_0, x_1, x_2, \\ldots , x_{N_x - 1}) \\\\\n",
    "&& \\\\\n",
    "\\underline{v} & = (v_j) = & (v_0, v_1, v_2, \\ldots , v_{N_v - 1}) \n",
    "\\end{eqnarray*}\n",
    "\n",
    "We define spacings on the uniform grids as:\n",
    "\n",
    "$$\\Delta t = \\frac{T}{N_t}, \\qquad \\Delta x = \\frac{L_x}{N_x - 1}, \\qquad \\Delta v = \\frac{L_v}{N_v - 1}$$\n",
    "\n",
    "$T\\in\\mathbb{R}^+$ is the simulation time, $L_x = |\\mathcal{D}_x| = |b_x - a_x|$ and $L_v = |\\mathcal{D}_v| = b_v - a_v$, so that\n",
    "\n",
    "$$t^n = n\\Delta t, \\qquad x_i = a_x + i\\Delta x, \\qquad v_j = a_v + j\\Delta v$$\n",
    "\n",
    "for $\\mathcal{D}_x = [a_x,b_x]$, $\\mathcal{D}_v = [a_v,b_v]$, $a_x,a_v,b_x,b_v\\in\\mathbb{R}$ consistute the $x$ and $v$ grids. In this notebook, we are only interested in understanding the shapes of higher dimensional arrays and how to index them in a way that allows confident access of anything desired. Hence, the contents of the array does not matter inasmuch as the elements of each vector can be traced. We create numpy arrays of strings for easy identification and decide on distinct sizes: $N_x = 5, N_v = 7, N_t = 3$ since it is a rare case that we elect to use the same number of gridpoints in more than one grid. Each vector $\\underline{x}, \\underline{v}, \\underline{t}$ are themselves 1D which altogether constitute a 3D object by straightforward cartesian product. Note, that $N_t$ is the number of timesteps, not the number of time gridpoints, hence we have $N_t+1$ time gridpoints, whereas all other phase space variables we use the definition that $N_{x,v}$ denotes the total number of gridpoints, hence we have the following vectors enumerated per 0-based indexing\n",
    "\n",
    "    x = ['x0', 'x1', 'x2', 'x3', 'x4']\n",
    "    v = ['v0', 'v1', 'v2', 'v3', 'v4', 'v5', 'v6']\n",
    "    t = ['t0', 't1', 't2', 't3']\n",
    "    \n",
    "Construct the arrays:"
   ]
  },
  {
   "cell_type": "code",
   "execution_count": 75,
   "metadata": {
    "collapsed": false
   },
   "outputs": [],
   "source": [
    "import numpy as np\n",
    "\n",
    "x = np.array(['x0', 'x1', 'x2', 'x3', 'x4'])\n",
    "v = np.array(['v0', 'v1', 'v2', 'v3', 'v4', 'v5', 'v6'])\n",
    "t = np.array(['t0', 't1', 't2', 't3'])\n",
    "\n",
    "Nx,Nv = len(x), len(v)\n",
    "Nt = len(t) - 1"
   ]
  },
  {
   "cell_type": "markdown",
   "metadata": {},
   "source": [
    "create a higher order object f = f(t,x,v). In a 1D1V Vlasovian electrostatic plasma, f is density function whose value at each (x,v) gives the density at some time t. Here, layering more physical significant gets in the way of our goal of our indexing exercise. Hence, for clarity we choose f to be the identity function, so that f = f(t,x,v) = (t,x,v) is the 3D object itself. We load densities in a straightforward way, casting each entry as a 3-tuple."
   ]
  },
  {
   "cell_type": "code",
   "execution_count": 76,
   "metadata": {
    "collapsed": false
   },
   "outputs": [],
   "source": [
    "f = np.chararray([Nt+1,Nx,Nv], itemsize = 14)\n",
    "comma = ','\n",
    "delimiter_left = '('\n",
    "delimiter_right = ')'\n",
    "\n",
    "for n in range(Nt+1):\n",
    "    for i in range(Nx):\n",
    "        for j in range(Nv):\n",
    "            entry = delimiter_left + t[n] + comma + x[i] + comma + v[j] + delimiter_right\n",
    "            f[n,i,j] = entry"
   ]
  },
  {
   "cell_type": "markdown",
   "metadata": {},
   "source": [
    "we now do some index slicing to see what kinds of arrays we get. If I try f(t0,x,v) on paper, I would expect to get a 2D array with ordered pairs (x,v) for time zero t0."
   ]
  },
  {
   "cell_type": "code",
   "execution_count": 77,
   "metadata": {
    "collapsed": false
   },
   "outputs": [
    {
     "name": "stdout",
     "output_type": "stream",
     "text": [
      "[['(t0,x0,v0)' '(t0,x0,v1)' '(t0,x0,v2)' '(t0,x0,v3)' '(t0,x0,v4)'\n",
      "  '(t0,x0,v5)' '(t0,x0,v6)']\n",
      " ['(t0,x1,v0)' '(t0,x1,v1)' '(t0,x1,v2)' '(t0,x1,v3)' '(t0,x1,v4)'\n",
      "  '(t0,x1,v5)' '(t0,x1,v6)']\n",
      " ['(t0,x2,v0)' '(t0,x2,v1)' '(t0,x2,v2)' '(t0,x2,v3)' '(t0,x2,v4)'\n",
      "  '(t0,x2,v5)' '(t0,x2,v6)']\n",
      " ['(t0,x3,v0)' '(t0,x3,v1)' '(t0,x3,v2)' '(t0,x3,v3)' '(t0,x3,v4)'\n",
      "  '(t0,x3,v5)' '(t0,x3,v6)']\n",
      " ['(t0,x4,v0)' '(t0,x4,v1)' '(t0,x4,v2)' '(t0,x4,v3)' '(t0,x4,v4)'\n",
      "  '(t0,x4,v5)' '(t0,x4,v6)']]\n"
     ]
    }
   ],
   "source": [
    "print f[0,:,:]"
   ]
  },
  {
   "cell_type": "markdown",
   "metadata": {},
   "source": [
    "This checks out. If I try f(0,x,v1), I would expect to get a 1D array of all x values with velocity v1, at time 0."
   ]
  },
  {
   "cell_type": "code",
   "execution_count": 78,
   "metadata": {
    "collapsed": false
   },
   "outputs": [
    {
     "name": "stdout",
     "output_type": "stream",
     "text": [
      "['(t0,x0,v1)' '(t0,x1,v1)' '(t0,x2,v1)' '(t0,x3,v1)' '(t0,x4,v1)']\n"
     ]
    }
   ],
   "source": [
    "print f[0,:,1]"
   ]
  },
  {
   "cell_type": "markdown",
   "metadata": {},
   "source": [
    "This also checks out. If I try f(t3,x4,v) I would expect to get a 1D array of all v at location x4 at time t3"
   ]
  },
  {
   "cell_type": "code",
   "execution_count": 79,
   "metadata": {
    "collapsed": false
   },
   "outputs": [
    {
     "name": "stdout",
     "output_type": "stream",
     "text": [
      "['(t3,x4,v0)' '(t3,x4,v1)' '(t3,x4,v2)' '(t3,x4,v3)' '(t3,x4,v4)'\n",
      " '(t3,x4,v5)' '(t3,x4,v6)']\n"
     ]
    }
   ],
   "source": [
    "print f[3,4,:]"
   ]
  },
  {
   "cell_type": "markdown",
   "metadata": {},
   "source": [
    "This also checks out. Everything works as expected incidentally. If I try f(t,x2,v6), I expect to get a 1D array of all times correspondent to the pair (x2,v6). This sounds a little silly in this language, in an actual problem this would correspond to the density at (x2,v6) over all times in the simulation."
   ]
  },
  {
   "cell_type": "code",
   "execution_count": 80,
   "metadata": {
    "collapsed": false
   },
   "outputs": [
    {
     "name": "stdout",
     "output_type": "stream",
     "text": [
      "['(t0,x2,v6)' '(t1,x2,v6)' '(t2,x2,v6)' '(t3,x2,v6)']\n"
     ]
    }
   ],
   "source": [
    "print f[:,2,6]"
   ]
  },
  {
   "cell_type": "code",
   "execution_count": 83,
   "metadata": {
    "collapsed": false
   },
   "outputs": [
    {
     "name": "stdout",
     "output_type": "stream",
     "text": [
      "['x0' 'x1' 'x2' 'x3' 'x4']\n",
      "['v0' 'v1' 'v2' 'v3' 'v4' 'v5' 'v6']\n",
      "['t0' 't1' 't2' 't3']\n"
     ]
    }
   ],
   "source": [
    "print x\n",
    "print v\n",
    "print t"
   ]
  },
  {
   "cell_type": "markdown",
   "metadata": {},
   "source": [
    "Next, we try to recast 1D array multiplications with CFL numbers at a given x or v, and try to do it in one sweep as array (matrix) multiplication."
   ]
  },
  {
   "cell_type": "markdown",
   "metadata": {},
   "source": [
    "To examine how array multiplication transpires, we require numerical entries. We set up\n",
    "\n",
    "\\begin{eqnarray*}\n",
    "\\underline{x} & = & (x_0, x_1, x_2, x_3, x_4) = (10, 11, 12, 13, 14) \\\\\n",
    "&& \\\\\n",
    "\\underline{v} & = & (v_0, v_1, v_2, v_3, v_4, v_5, v_6) = (20, 21, 22, 23, 24, 25, 26) \\\\\n",
    "&& \\\\\n",
    "\\underline{t} & = & (t_0, t_1, t_2, t_3) = (0, 1, 2, 3)\n",
    "\\end{eqnarray*}\n",
    "\n",
    "And construct the array f as\n",
    "\n",
    "$$\\underline{\\underline{f}} = \\left\\{\n",
    "\\left(\\begin{array}{ccc ccc c} \n",
    "x_0v_0 & x_0v_1 & x_0v_2 & x_0v_3 & x_0v_4 & x_0v_5 &x_0v_6 \\\\\n",
    "x_1v_0 & x_1v_1 & x_1v_2 & x_1v_3 & x_1v_4 & x_1v_5 &x_1v_6 \\\\\n",
    "x_2v_0 & x_2v_1 & x_2v_2 & x_2v_3 & x_2v_4 & x_2v_5 &x_2v_6 \\\\\n",
    "x_3v_0 & x_3v_1 & x_3v_2 & x_3v_3 & x_3v_4 & x_3v_5 &x_3v_6 \\\\\n",
    "x_4v_0 & x_4v_1 & x_4v_2 & x_4v_3 & x_4v_4 & x_4v_5 &x_4v_6 \n",
    "\\end{array}\n",
    "\\right)_{t = t_0}\\\\\n",
    "\\left(\\begin{array}{ccc ccc c} \n",
    "x_0v_0 & x_0v_1 & x_0v_2 & x_0v_3 & x_0v_4 & x_0v_5 &x_0v_6 \\\\\n",
    "x_1v_0 & x_1v_1 & x_1v_2 & x_1v_3 & x_1v_4 & x_1v_5 &x_1v_6 \\\\\n",
    "x_2v_0 & x_2v_1 & x_2v_2 & x_2v_3 & x_2v_4 & x_2v_5 &x_2v_6 \\\\\n",
    "x_3v_0 & x_3v_1 & x_3v_2 & x_3v_3 & x_3v_4 & x_3v_5 &x_3v_6 \\\\\n",
    "x_4v_0 & x_4v_1 & x_4v_2 & x_4v_3 & x_4v_4 & x_4v_5 &x_4v_6 \n",
    "\\end{array}\n",
    "\\right)_{t = t_1}\\\\\n",
    "\\left(\\begin{array}{ccc ccc c} \n",
    "x_0v_0 & x_0v_1 & x_0v_2 & x_0v_3 & x_0v_4 & x_0v_5 &x_0v_6 \\\\\n",
    "x_1v_0 & x_1v_1 & x_1v_2 & x_1v_3 & x_1v_4 & x_1v_5 &x_1v_6 \\\\\n",
    "x_2v_0 & x_2v_1 & x_2v_2 & x_2v_3 & x_2v_4 & x_2v_5 &x_2v_6 \\\\\n",
    "x_3v_0 & x_3v_1 & x_3v_2 & x_3v_3 & x_3v_4 & x_3v_5 &x_3v_6 \\\\\n",
    "x_4v_0 & x_4v_1 & x_4v_2 & x_4v_3 & x_4v_4 & x_4v_5 &x_4v_6 \n",
    "\\end{array}\n",
    "\\right)_{t = t_2} \\\\\n",
    "\\left(\\begin{array}{ccc ccc c} \n",
    "x_0v_0 & x_0v_1 & x_0v_2 & x_0v_3 & x_0v_4 & x_0v_5 &x_0v_6 \\\\\n",
    "x_1v_0 & x_1v_1 & x_1v_2 & x_1v_3 & x_1v_4 & x_1v_5 &x_1v_6 \\\\\n",
    "x_2v_0 & x_2v_1 & x_2v_2 & x_2v_3 & x_2v_4 & x_2v_5 &x_2v_6 \\\\\n",
    "x_3v_0 & x_3v_1 & x_3v_2 & x_3v_3 & x_3v_4 & x_3v_5 &x_3v_6 \\\\\n",
    "x_4v_0 & x_4v_1 & x_4v_2 & x_4v_3 & x_4v_4 & x_4v_5 &x_4v_6 \n",
    "\\end{array}\n",
    "\\right)_{t = t_3}\n",
    "\\right\\}$$\n",
    "\n",
    "Here, $t$ fulfills the third dimension. To help with our intuition, we can regard $t$ as enumerating \"pages\" of 2D arrays $x_iv_j = x_i(t)v_j(t)$. In DECSKS, we begin with a container f = np.zeros([t.Ngridpoints, x.N, v.N]), and intialize the problem by filling the density at time zero f[0, :, :] $\\equiv \\underline{\\underline{f}}(0,\\underline{x},\\underline{v})$. Time stepping must one-by-one fill in the remaining entries f[1:, :, :] $\\equiv \\underline{\\underline{f}}(\\underline{t} > 0, \\underline{x},\\underline{v})$. Thus, the multiplications we are interested in involve 2D arrays. We pick any $t$ above, and thus examine matrices that look like\n",
    "\n",
    "$$\\underline{\\underline{g}} = \\left(\\begin{array}{ccc ccc c} \n",
    "x_0v_0 & x_0v_1 & x_0v_2 & x_0v_3 & x_0v_4 & x_0v_5 &x_0v_6 \\\\\n",
    "x_1v_0 & x_1v_1 & x_1v_2 & x_1v_3 & x_1v_4 & x_1v_5 &x_1v_6 \\\\\n",
    "x_2v_0 & x_2v_1 & x_2v_2 & x_2v_3 & x_2v_4 & x_2v_5 &x_2v_6 \\\\\n",
    "x_3v_0 & x_3v_1 & x_3v_2 & x_3v_3 & x_3v_4 & x_3v_5 &x_3v_6 \\\\\n",
    "x_4v_0 & x_4v_1 & x_4v_2 & x_4v_3 & x_4v_4 & x_4v_5 &x_4v_6 \n",
    "\\end{array}\n",
    "\\right)$$\n",
    "\n",
    "Which we decide is an object that has been computed as the dyadic $\\underline{x}\\underline{v}$ just so we can keep track easily of the multiplication that transpires. We construct the array g below:"
   ]
  },
  {
   "cell_type": "code",
   "execution_count": 92,
   "metadata": {
    "collapsed": false
   },
   "outputs": [],
   "source": [
    "import numpy as np\n",
    "\n",
    "x = np.array([10, 11, 12, 13, 14])\n",
    "v = np.array([20, 21, 22, 23, 24, 25, 26])\n",
    "\n",
    "g = np.outer(x,v)"
   ]
  },
  {
   "cell_type": "markdown",
   "metadata": {},
   "source": [
    "We check the entries have been computed properly in the following loop:"
   ]
  },
  {
   "cell_type": "code",
   "execution_count": 104,
   "metadata": {
    "collapsed": false
   },
   "outputs": [
    {
     "name": "stdout",
     "output_type": "stream",
     "text": [
      "TRUE: g[0,0] = x[0]v[0] = 10*20 = 200\n",
      "TRUE: g[0,1] = x[0]v[1] = 10*21 = 210\n",
      "TRUE: g[0,2] = x[0]v[2] = 10*22 = 220\n",
      "TRUE: g[0,3] = x[0]v[3] = 10*23 = 230\n",
      "TRUE: g[0,4] = x[0]v[4] = 10*24 = 240\n",
      "TRUE: g[0,5] = x[0]v[5] = 10*25 = 250\n",
      "TRUE: g[0,6] = x[0]v[6] = 10*26 = 260\n",
      "TRUE: g[1,0] = x[1]v[0] = 11*20 = 220\n",
      "TRUE: g[1,1] = x[1]v[1] = 11*21 = 231\n",
      "TRUE: g[1,2] = x[1]v[2] = 11*22 = 242\n",
      "TRUE: g[1,3] = x[1]v[3] = 11*23 = 253\n",
      "TRUE: g[1,4] = x[1]v[4] = 11*24 = 264\n",
      "TRUE: g[1,5] = x[1]v[5] = 11*25 = 275\n",
      "TRUE: g[1,6] = x[1]v[6] = 11*26 = 286\n",
      "TRUE: g[2,0] = x[2]v[0] = 12*20 = 240\n",
      "TRUE: g[2,1] = x[2]v[1] = 12*21 = 252\n",
      "TRUE: g[2,2] = x[2]v[2] = 12*22 = 264\n",
      "TRUE: g[2,3] = x[2]v[3] = 12*23 = 276\n",
      "TRUE: g[2,4] = x[2]v[4] = 12*24 = 288\n",
      "TRUE: g[2,5] = x[2]v[5] = 12*25 = 300\n",
      "TRUE: g[2,6] = x[2]v[6] = 12*26 = 312\n",
      "TRUE: g[3,0] = x[3]v[0] = 13*20 = 260\n",
      "TRUE: g[3,1] = x[3]v[1] = 13*21 = 273\n",
      "TRUE: g[3,2] = x[3]v[2] = 13*22 = 286\n",
      "TRUE: g[3,3] = x[3]v[3] = 13*23 = 299\n",
      "TRUE: g[3,4] = x[3]v[4] = 13*24 = 312\n",
      "TRUE: g[3,5] = x[3]v[5] = 13*25 = 325\n",
      "TRUE: g[3,6] = x[3]v[6] = 13*26 = 338\n",
      "TRUE: g[4,0] = x[4]v[0] = 14*20 = 280\n",
      "TRUE: g[4,1] = x[4]v[1] = 14*21 = 294\n",
      "TRUE: g[4,2] = x[4]v[2] = 14*22 = 308\n",
      "TRUE: g[4,3] = x[4]v[3] = 14*23 = 322\n",
      "TRUE: g[4,4] = x[4]v[4] = 14*24 = 336\n",
      "TRUE: g[4,5] = x[4]v[5] = 14*25 = 350\n",
      "TRUE: g[4,6] = x[4]v[6] = 14*26 = 364\n"
     ]
    }
   ],
   "source": [
    "for i in range(len(x)):\n",
    "    for j in range(len(v)):\n",
    "        entry = x[i]*v[j]\n",
    "        \n",
    "        if g[i,j] == entry:\n",
    "            print \"TRUE: g[%d,%d] = x[%d]v[%d] = %d*%d = %d\" % (i,j, i,j, x[i], v[j], entry)\n",
    "        else:\n",
    "            print \"FALSE: the entry is not the expected product\""
   ]
  },
  {
   "cell_type": "markdown",
   "metadata": {},
   "source": [
    "Thus, we have the following array to work with"
   ]
  },
  {
   "cell_type": "code",
   "execution_count": 103,
   "metadata": {
    "collapsed": false
   },
   "outputs": [
    {
     "name": "stdout",
     "output_type": "stream",
     "text": [
      "g = \n",
      "[[200 210 220 230 240 250 260]\n",
      " [220 231 242 253 264 275 286]\n",
      " [240 252 264 276 288 300 312]\n",
      " [260 273 286 299 312 325 338]\n",
      " [280 294 308 322 336 350 364]]\n",
      "\n",
      " which has dimensions (5, 7)\n"
     ]
    }
   ],
   "source": [
    "print 'g = '\n",
    "print g\n",
    "\n",
    "print '\\n which has dimensions %s' % (str(g.shape))"
   ]
  },
  {
   "cell_type": "markdown",
   "metadata": {},
   "source": [
    "Currently, DECSKS updates every 1D subarray in routines that look like (note, the phase space variables x and v and time variable t are instantiations of class objects that carry with them attriutes that fully characterize them, number of gridpoints, prepoint values, postpoints of all the MCs, domain boundaries, etc. The attribute names below should be clear enough to follow the meaning in the below pseudo-code) :\n",
    "\n",
    "    if convecting in x:\n",
    "        for j in v.prepoints:\n",
    "            x.MCs   = x.generate_Lagrangian_mesh(x.prepointvalues, v.prepointvalues[j], frac*t.width)\n",
    "            g[:,j] = DECSKS.lib.convect.scheme(g[:,j], sim_params, args*)\n",
    "    \n",
    "    elif convecting in v:\n",
    "        compute acceleration a = a(x)\n",
    "        for i in x.indices:\n",
    "            v.MCs   = v.generate_Lagrangian_mesh(v.prepointvalues, a[i], frac*t.width)\n",
    "            g[i,:] = DECSKS.lib.convect.scheme(g[i,:], sim_params, args*)\n",
    "        \n",
    "where a is a self-consistently computed acceleration. We wish to recast the above in terms of something to the effect of:\n",
    "\n",
    "    if convecting in x:\n",
    "        x.MCs   = x.generate_Lagrangian_mesh(x.prepointvalues, v.prepointvalues, frac*t.width)\n",
    "        g = DECSKS.lib.convect.scheme(g, sim_params, args*)\n",
    "    elif convecting in v\n",
    "        compute acceleration a = a(x)\n",
    "        v.MCs   = v.generate_Lagrangian_mesh(v.prepointvalues, frac*t.width)\n",
    "        g = DECSKS.lib.convect.scheme(g, sim_params, args*)\n",
    "    \n",
    "where 2D arrays are passed. and x.MCs and v.MCs should be recasted from 1D arrays to a collection of 1D arrays (i.e. 2D array) that can calculate and store all the MC postpoints for all prepoints in x and v by passing, say instead of v.prepointvalues[j], we pass v.prepointvalues as a whole)."
   ]
  },
  {
   "cell_type": "code",
   "execution_count": 115,
   "metadata": {
    "collapsed": false
   },
   "outputs": [
    {
     "name": "stdout",
     "output_type": "stream",
     "text": [
      "[10 11 12 13 14]\n",
      "[20 21 22 23 24 25 26]\n"
     ]
    }
   ],
   "source": [
    "print x\n",
    "print v"
   ]
  },
  {
   "cell_type": "code",
   "execution_count": 133,
   "metadata": {
    "collapsed": false
   },
   "outputs": [
    {
     "data": {
      "text/plain": [
       "array([[ 10.2 ,  10.21,  10.22,  10.23,  10.24,  10.25,  10.26],\n",
       "       [ 11.2 ,  11.21,  11.22,  11.23,  11.24,  11.25,  11.26],\n",
       "       [ 12.2 ,  12.21,  12.22,  12.23,  12.24,  12.25,  12.26],\n",
       "       [ 13.2 ,  13.21,  13.22,  13.23,  13.24,  13.25,  13.26],\n",
       "       [ 14.2 ,  14.21,  14.22,  14.23,  14.24,  14.25,  14.26]])"
      ]
     },
     "execution_count": 133,
     "metadata": {},
     "output_type": "execute_result"
    }
   ],
   "source": [
    "\n",
    "one = np.ones(len(v))\n",
    "X = np.outer(x,one)\n",
    "\n",
    "X + v*.01"
   ]
  },
  {
   "cell_type": "code",
   "execution_count": 172,
   "metadata": {
    "collapsed": true
   },
   "outputs": [],
   "source": [
    "onet = np.ones([1,len(v)])"
   ]
  },
  {
   "cell_type": "code",
   "execution_count": 173,
   "metadata": {
    "collapsed": false
   },
   "outputs": [
    {
     "data": {
      "text/plain": [
       "(1, 7)"
      ]
     },
     "execution_count": 173,
     "metadata": {},
     "output_type": "execute_result"
    }
   ],
   "source": [
    "onet.shape"
   ]
  },
  {
   "cell_type": "code",
   "execution_count": 175,
   "metadata": {
    "collapsed": false
   },
   "outputs": [
    {
     "data": {
      "text/plain": [
       "1.0"
      ]
     },
     "execution_count": 175,
     "metadata": {},
     "output_type": "execute_result"
    }
   ],
   "source": [
    "onet[0,1]"
   ]
  },
  {
   "cell_type": "code",
   "execution_count": 176,
   "metadata": {
    "collapsed": true
   },
   "outputs": [],
   "source": [
    "onett = np.ones([1,len(x)])"
   ]
  },
  {
   "cell_type": "code",
   "execution_count": 190,
   "metadata": {
    "collapsed": false
   },
   "outputs": [
    {
     "data": {
      "text/plain": [
       "array([[ 10.2 ,  10.21,  10.22,  10.23,  10.24,  10.25,  10.26],\n",
       "       [ 11.2 ,  11.21,  11.22,  11.23,  11.24,  11.25,  11.26],\n",
       "       [ 12.2 ,  12.21,  12.22,  12.23,  12.24,  12.25,  12.26],\n",
       "       [ 13.2 ,  13.21,  13.22,  13.23,  13.24,  13.25,  13.26],\n",
       "       [ 14.2 ,  14.21,  14.22,  14.23,  14.24,  14.25,  14.26]])"
      ]
     },
     "execution_count": 190,
     "metadata": {},
     "output_type": "execute_result"
    }
   ],
   "source": [
    "np.outer(x,np.ones([1,len(v)])) + np.outer(np.ones([len(x),1]),v*.01)"
   ]
  },
  {
   "cell_type": "code",
   "execution_count": 188,
   "metadata": {
    "collapsed": false
   },
   "outputs": [
    {
     "name": "stdout",
     "output_type": "stream",
     "text": [
      "(5,)\n",
      "(5,)\n"
     ]
    }
   ],
   "source": [
    "print np.transpose(x).shape\n",
    "print x.shape"
   ]
  },
  {
   "cell_type": "code",
   "execution_count": 194,
   "metadata": {
    "collapsed": false
   },
   "outputs": [
    {
     "name": "stdout",
     "output_type": "stream",
     "text": [
      "(1, 5)\n",
      "(5, 1)\n"
     ]
    }
   ],
   "source": [
    "z = np.zeros([1,5])\n",
    "print z.shape\n",
    "print np.transpose(z).shape"
   ]
  },
  {
   "cell_type": "code",
   "execution_count": 198,
   "metadata": {
    "collapsed": false
   },
   "outputs": [
    {
     "name": "stdout",
     "output_type": "stream",
     "text": [
      "no\n"
     ]
    }
   ],
   "source": [
    "lst = ['a', 'c', 'd']\n",
    "\n",
    "if 'b' in lst:\n",
    "    print 'yes'\n",
    "else:\n",
    "    print 'no'"
   ]
  },
  {
   "cell_type": "code",
   "execution_count": 199,
   "metadata": {
    "collapsed": true
   },
   "outputs": [],
   "source": [
    "import numpy as np\n",
    "import numpy.ma as ma\n",
    "x = np.array([1, 2, 3, -1, 5])"
   ]
  },
  {
   "cell_type": "code",
   "execution_count": 200,
   "metadata": {
    "collapsed": true
   },
   "outputs": [],
   "source": [
    " mx = ma.masked_array(x, mask=[0, 0, 0, 1, 0])\n"
   ]
  },
  {
   "cell_type": "code",
   "execution_count": 204,
   "metadata": {
    "collapsed": false
   },
   "outputs": [
    {
     "data": {
      "text/plain": [
       "2.75"
      ]
     },
     "execution_count": 204,
     "metadata": {},
     "output_type": "execute_result"
    }
   ],
   "source": [
    "mx.mean()"
   ]
  },
  {
   "cell_type": "code",
   "execution_count": 205,
   "metadata": {
    "collapsed": false
   },
   "outputs": [
    {
     "data": {
      "text/plain": [
       "2.0"
      ]
     },
     "execution_count": 205,
     "metadata": {},
     "output_type": "execute_result"
    }
   ],
   "source": [
    "x.mean()"
   ]
  },
  {
   "cell_type": "code",
   "execution_count": 206,
   "metadata": {
    "collapsed": false
   },
   "outputs": [
    {
     "data": {
      "text/plain": [
       "2.75"
      ]
     },
     "execution_count": 206,
     "metadata": {},
     "output_type": "execute_result"
    }
   ],
   "source": [
    "(1 + 2 + 3 + 5) / 4."
   ]
  },
  {
   "cell_type": "code",
   "execution_count": 207,
   "metadata": {
    "collapsed": false
   },
   "outputs": [
    {
     "data": {
      "text/plain": [
       "2.0"
      ]
     },
     "execution_count": 207,
     "metadata": {},
     "output_type": "execute_result"
    }
   ],
   "source": [
    "(1 + 2 + 3 - 1 + 5) / 5."
   ]
  },
  {
   "cell_type": "code",
   "execution_count": 208,
   "metadata": {
    "collapsed": false
   },
   "outputs": [
    {
     "data": {
      "text/plain": [
       "5"
      ]
     },
     "execution_count": 208,
     "metadata": {},
     "output_type": "execute_result"
    }
   ],
   "source": [
    "len(mx)"
   ]
  },
  {
   "cell_type": "code",
   "execution_count": null,
   "metadata": {
    "collapsed": true
   },
   "outputs": [],
   "source": []
  },
  {
   "cell_type": "code",
   "execution_count": 209,
   "metadata": {
    "collapsed": false
   },
   "outputs": [
    {
     "data": {
      "text/plain": [
       "5"
      ]
     },
     "execution_count": 209,
     "metadata": {},
     "output_type": "execute_result"
    }
   ],
   "source": [
    "len(x)"
   ]
  },
  {
   "cell_type": "code",
   "execution_count": 210,
   "metadata": {
    "collapsed": false
   },
   "outputs": [
    {
     "name": "stdout",
     "output_type": "stream",
     "text": [
      "[1 2 3 -- 5]\n"
     ]
    }
   ],
   "source": [
    "print mx"
   ]
  },
  {
   "cell_type": "code",
   "execution_count": 211,
   "metadata": {
    "collapsed": false
   },
   "outputs": [
    {
     "data": {
      "text/plain": [
       "masked"
      ]
     },
     "execution_count": 211,
     "metadata": {},
     "output_type": "execute_result"
    }
   ],
   "source": [
    "sum(mx)"
   ]
  },
  {
   "cell_type": "code",
   "execution_count": 213,
   "metadata": {
    "collapsed": false
   },
   "outputs": [
    {
     "data": {
      "text/plain": [
       "masked_array(data = [1 2 3 -- 5],\n",
       "             mask = [False False False  True False],\n",
       "       fill_value = 999999)"
      ]
     },
     "execution_count": 213,
     "metadata": {},
     "output_type": "execute_result"
    }
   ],
   "source": [
    "mx"
   ]
  },
  {
   "cell_type": "code",
   "execution_count": 214,
   "metadata": {
    "collapsed": false
   },
   "outputs": [
    {
     "data": {
      "text/plain": [
       "array([ 1,  2,  3, -1,  5])"
      ]
     },
     "execution_count": 214,
     "metadata": {},
     "output_type": "execute_result"
    }
   ],
   "source": [
    "mx.data"
   ]
  },
  {
   "cell_type": "code",
   "execution_count": 220,
   "metadata": {
    "collapsed": false
   },
   "outputs": [
    {
     "data": {
      "text/plain": [
       "-1"
      ]
     },
     "execution_count": 220,
     "metadata": {},
     "output_type": "execute_result"
    }
   ],
   "source": [
    "mx.data[3]"
   ]
  },
  {
   "cell_type": "code",
   "execution_count": 221,
   "metadata": {
    "collapsed": false
   },
   "outputs": [
    {
     "data": {
      "text/plain": [
       "array([ 1,  2,  3, -1,  5])"
      ]
     },
     "execution_count": 221,
     "metadata": {},
     "output_type": "execute_result"
    }
   ],
   "source": [
    "x"
   ]
  },
  {
   "cell_type": "code",
   "execution_count": 223,
   "metadata": {
    "collapsed": false
   },
   "outputs": [],
   "source": [
    "xmask = ma.masked_greater(x,0)"
   ]
  },
  {
   "cell_type": "code",
   "execution_count": 224,
   "metadata": {
    "collapsed": false
   },
   "outputs": [
    {
     "data": {
      "text/plain": [
       "masked_array(data = [-- -- -- -1 --],\n",
       "             mask = [ True  True  True False  True],\n",
       "       fill_value = 999999)"
      ]
     },
     "execution_count": 224,
     "metadata": {},
     "output_type": "execute_result"
    }
   ],
   "source": [
    "xmask"
   ]
  },
  {
   "cell_type": "code",
   "execution_count": 225,
   "metadata": {
    "collapsed": false
   },
   "outputs": [
    {
     "data": {
      "text/plain": [
       "array([ 1,  2,  3, -1,  5])"
      ]
     },
     "execution_count": 225,
     "metadata": {},
     "output_type": "execute_result"
    }
   ],
   "source": [
    "xmask.data"
   ]
  },
  {
   "cell_type": "code",
   "execution_count": 226,
   "metadata": {
    "collapsed": false
   },
   "outputs": [
    {
     "data": {
      "text/plain": [
       "2.0"
      ]
     },
     "execution_count": 226,
     "metadata": {},
     "output_type": "execute_result"
    }
   ],
   "source": [
    "np.floor(2.5)"
   ]
  },
  {
   "cell_type": "code",
   "execution_count": 231,
   "metadata": {
    "collapsed": false
   },
   "outputs": [
    {
     "data": {
      "text/plain": [
       "masked_array(data = [-- -- -- -1.0 --],\n",
       "             mask = [ True  True  True False  True],\n",
       "       fill_value = 1e+20)"
      ]
     },
     "execution_count": 231,
     "metadata": {},
     "output_type": "execute_result"
    }
   ],
   "source": [
    "np.ceil(ma.masked_greater_equal(x,0))"
   ]
  },
  {
   "cell_type": "code",
   "execution_count": 233,
   "metadata": {
    "collapsed": false
   },
   "outputs": [],
   "source": [
    "b = np.floor(ma.masked_less(x,0))"
   ]
  },
  {
   "cell_type": "code",
   "execution_count": 234,
   "metadata": {
    "collapsed": false
   },
   "outputs": [
    {
     "data": {
      "text/plain": [
       "masked_array(data = [1 2 3 -- 5],\n",
       "             mask = [False False False  True False],\n",
       "       fill_value = 999999)"
      ]
     },
     "execution_count": 234,
     "metadata": {},
     "output_type": "execute_result"
    }
   ],
   "source": [
    "b.astype(int)"
   ]
  },
  {
   "cell_type": "code",
   "execution_count": null,
   "metadata": {
    "collapsed": true
   },
   "outputs": [],
   "source": []
  }
 ],
 "metadata": {
  "kernelspec": {
   "display_name": "Python 2",
   "language": "python",
   "name": "python2"
  },
  "language_info": {
   "codemirror_mode": {
    "name": "ipython",
    "version": 2
   },
   "file_extension": ".py",
   "mimetype": "text/x-python",
   "name": "python",
   "nbconvert_exporter": "python",
   "pygments_lexer": "ipython2",
   "version": "2.7.3"
  }
 },
 "nbformat": 4,
 "nbformat_minor": 0
}

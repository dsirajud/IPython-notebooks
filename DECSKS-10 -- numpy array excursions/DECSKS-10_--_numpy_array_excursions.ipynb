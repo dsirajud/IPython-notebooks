{
 "cells": [
  {
   "cell_type": "markdown",
   "metadata": {},
   "source": [
    "# NumPy array excursions\n",
    "\n",
    "The purpose of this notebook is to explore multidimensional NumPy arrays so that DECSKS can manipulate higher order objects instead of passing only 1D arrays in the application of convected scheme (DECSKS.lib.convect.scheme). We aim to better understand the array structures by some index slicing exercises as well as verifying products of higher order objects reproduce the same computations as the 1D array multiplications that are involved in convected scheme."
   ]
  },
  {
   "cell_type": "markdown",
   "metadata": {},
   "source": [
    "The 1D1V version of DECSKS evolves a density function $f = f(t,x,v)\\in \\mathbb{R}^+\\times\\mathbb{R}\\times\\mathbb{R}$, stored as a three-dimensional array $\\underline{\\underline{f}} = \\underline{\\underline{f}}(\\underline{t},\\underline{x},\\underline{v})\\in [0,T]\\times\\mathcal{D}_x\\times\\mathcal{D}_v$\n",
    "\n",
    "where\n",
    "\n",
    "\\begin{eqnarray*}\n",
    "\\underline{t} & = (t^n) = & (t^0, t^1, t^2, \\ldots , t^{N_t})\\\\\n",
    "&& \\\\\n",
    "\\underline{x} & = (x_i) = & (x_0, x_1, x_2, \\ldots , x_{N_x - 1}) \\\\\n",
    "&& \\\\\n",
    "\\underline{v} & = (v_j) = & (v_0, v_1, v_2, \\ldots , v_{N_v - 1}) \n",
    "\\end{eqnarray*}\n",
    "\n",
    "We define spacings on the uniform grids as:\n",
    "\n",
    "$$\\Delta t = \\frac{T}{N_t}, \\qquad \\Delta x = \\frac{L_x}{N_x - 1}, \\qquad \\Delta v = \\frac{L_v}{N_v - 1}$$\n",
    "\n",
    "$T\\in\\mathbb{R}^+$ is the simulation time, $L_x = |\\mathcal{D}_x| = |b_x - a_x|$ and $L_v = |\\mathcal{D}_v| = b_v - a_v$, so that\n",
    "\n",
    "$$t^n = n\\Delta t, \\qquad x_i = a_x + i\\Delta x, \\qquad v_j = a_v + j\\Delta v$$\n",
    "\n",
    "for $\\mathcal{D}_x = [a_x,b_x]$, $\\mathcal{D}_v = [a_v,b_v]$, $a_x,a_v,b_x,b_v\\in\\mathbb{R}$ consistute the $x$ and $v$ grids. In this notebook, we are only interested in understanding the shapes of higher dimensional arrays and how to index them in a way that allows confident access of anything desired. Hence, the contents of the array does not matter inasmuch as the elements of each vector can be traced. We create numpy arrays of strings for easy identification and decide on distinct sizes: $N_x = 5, N_v = 7, N_t = 3$ since it is a rare case that we elect to use the same number of gridpoints in more than one grid. Each vector $\\underline{x}, \\underline{v}, \\underline{t}$ are themselves 1D which altogether constitute a 3D object by straightforward cartesian product. Note, that $N_t$ is the number of timesteps, not the number of time gridpoints, hence we have $N_t+1$ time gridpoints, whereas all other phase space variables we use the definition that $N_{x,v}$ denotes the total number of gridpoints, hence we have the following vectors enumerated per 0-based indexing\n",
    "\n",
    "    x = ['x0', 'x1', 'x2', 'x3', 'x4']\n",
    "    v = ['v0', 'v1', 'v2', 'v3', 'v4', 'v5', 'v6']\n",
    "    t = ['t0', 't1', 't2', 't3']\n",
    "    \n",
    "Construct the arrays:"
   ]
  },
  {
   "cell_type": "code",
   "execution_count": 75,
   "metadata": {
    "collapsed": false
   },
   "outputs": [],
   "source": [
    "import numpy as np\n",
    "\n",
    "x = np.array(['x0', 'x1', 'x2', 'x3', 'x4'])\n",
    "v = np.array(['v0', 'v1', 'v2', 'v3', 'v4', 'v5', 'v6'])\n",
    "t = np.array(['t0', 't1', 't2', 't3'])\n",
    "\n",
    "Nx,Nv = len(x), len(v)\n",
    "Nt = len(t) - 1"
   ]
  },
  {
   "cell_type": "markdown",
   "metadata": {},
   "source": [
    "create a higher order object f = f(t,x,v). In a 1D1V Vlasovian electrostatic plasma, f is density function whose value at each (x,v) gives the density at some time t. Here, layering more physical significant gets in the way of our goal of our indexing exercise. Hence, for clarity we choose f to be the identity function, so that f = f(t,x,v) = (t,x,v) is the 3D object itself. We load densities in a straightforward way, casting each entry as a 3-tuple."
   ]
  },
  {
   "cell_type": "code",
   "execution_count": 76,
   "metadata": {
    "collapsed": false
   },
   "outputs": [],
   "source": [
    "f = np.chararray([Nt+1,Nx,Nv], itemsize = 14)\n",
    "comma = ','\n",
    "delimiter_left = '('\n",
    "delimiter_right = ')'\n",
    "\n",
    "for n in range(Nt+1):\n",
    "    for i in range(Nx):\n",
    "        for j in range(Nv):\n",
    "            entry = delimiter_left + t[n] + comma + x[i] + comma + v[j] + delimiter_right\n",
    "            f[n,i,j] = entry"
   ]
  },
  {
   "cell_type": "markdown",
   "metadata": {},
   "source": [
    "we now do some index slicing to see what kinds of arrays we get. If I try f(t0,x,v) on paper, I would expect to get a 2D array with ordered pairs (x,v) for time zero t0."
   ]
  },
  {
   "cell_type": "code",
   "execution_count": 77,
   "metadata": {
    "collapsed": false
   },
   "outputs": [
    {
     "name": "stdout",
     "output_type": "stream",
     "text": [
      "[['(t0,x0,v0)' '(t0,x0,v1)' '(t0,x0,v2)' '(t0,x0,v3)' '(t0,x0,v4)'\n",
      "  '(t0,x0,v5)' '(t0,x0,v6)']\n",
      " ['(t0,x1,v0)' '(t0,x1,v1)' '(t0,x1,v2)' '(t0,x1,v3)' '(t0,x1,v4)'\n",
      "  '(t0,x1,v5)' '(t0,x1,v6)']\n",
      " ['(t0,x2,v0)' '(t0,x2,v1)' '(t0,x2,v2)' '(t0,x2,v3)' '(t0,x2,v4)'\n",
      "  '(t0,x2,v5)' '(t0,x2,v6)']\n",
      " ['(t0,x3,v0)' '(t0,x3,v1)' '(t0,x3,v2)' '(t0,x3,v3)' '(t0,x3,v4)'\n",
      "  '(t0,x3,v5)' '(t0,x3,v6)']\n",
      " ['(t0,x4,v0)' '(t0,x4,v1)' '(t0,x4,v2)' '(t0,x4,v3)' '(t0,x4,v4)'\n",
      "  '(t0,x4,v5)' '(t0,x4,v6)']]\n"
     ]
    }
   ],
   "source": [
    "print f[0,:,:]"
   ]
  },
  {
   "cell_type": "markdown",
   "metadata": {},
   "source": [
    "This checks out. If I try f(0,x,v1), I would expect to get a 1D array of all x values with velocity v1, at time 0."
   ]
  },
  {
   "cell_type": "code",
   "execution_count": 78,
   "metadata": {
    "collapsed": false
   },
   "outputs": [
    {
     "name": "stdout",
     "output_type": "stream",
     "text": [
      "['(t0,x0,v1)' '(t0,x1,v1)' '(t0,x2,v1)' '(t0,x3,v1)' '(t0,x4,v1)']\n"
     ]
    }
   ],
   "source": [
    "print f[0,:,1]"
   ]
  },
  {
   "cell_type": "markdown",
   "metadata": {},
   "source": [
    "This also checks out. If I try f(t3,x4,v) I would expect to get a 1D array of all v at location x4 at time t3"
   ]
  },
  {
   "cell_type": "code",
   "execution_count": 79,
   "metadata": {
    "collapsed": false
   },
   "outputs": [
    {
     "name": "stdout",
     "output_type": "stream",
     "text": [
      "['(t3,x4,v0)' '(t3,x4,v1)' '(t3,x4,v2)' '(t3,x4,v3)' '(t3,x4,v4)'\n",
      " '(t3,x4,v5)' '(t3,x4,v6)']\n"
     ]
    }
   ],
   "source": [
    "print f[3,4,:]"
   ]
  },
  {
   "cell_type": "markdown",
   "metadata": {},
   "source": [
    "This also checks out. Everything works as expected incidentally. If I try f(t,x2,v6), I expect to get a 1D array of all times correspondent to the pair (x2,v6). This sounds a little silly in this language, in an actual problem this would correspond to the density at (x2,v6) over all times in the simulation."
   ]
  },
  {
   "cell_type": "code",
   "execution_count": 80,
   "metadata": {
    "collapsed": false
   },
   "outputs": [
    {
     "name": "stdout",
     "output_type": "stream",
     "text": [
      "['(t0,x2,v6)' '(t1,x2,v6)' '(t2,x2,v6)' '(t3,x2,v6)']\n"
     ]
    }
   ],
   "source": [
    "print f[:,2,6]"
   ]
  },
  {
   "cell_type": "code",
   "execution_count": 83,
   "metadata": {
    "collapsed": false
   },
   "outputs": [
    {
     "name": "stdout",
     "output_type": "stream",
     "text": [
      "['x0' 'x1' 'x2' 'x3' 'x4']\n",
      "['v0' 'v1' 'v2' 'v3' 'v4' 'v5' 'v6']\n",
      "['t0' 't1' 't2' 't3']\n"
     ]
    }
   ],
   "source": [
    "print x\n",
    "print v\n",
    "print t"
   ]
  },
  {
   "cell_type": "markdown",
   "metadata": {},
   "source": [
    "Next, we try to recast 1D array multiplications with CFL numbers at a given x or v, and try to do it in one sweep as array (matrix) multiplication."
   ]
  },
  {
   "cell_type": "markdown",
   "metadata": {},
   "source": [
    "To examine how array multiplication transpires, we require numerical entries. We set up\n",
    "\n",
    "\\begin{eqnarray*}\n",
    "\\underline{x} & = & (x_0, x_1, x_2, x_3, x_4) = (10, 11, 12, 13, 14) \\\\\n",
    "&& \\\\\n",
    "\\underline{v} & = & (v_0, v_1, v_2, v_3, v_4, v_5, v_6) = (20, 21, 22, 23, 24, 25, 26) \\\\\n",
    "&& \\\\\n",
    "\\underline{t} & = & (t_0, t_1, t_2, t_3) = (0, 1, 2, 3)\n",
    "\\end{eqnarray*}\n",
    "\n",
    "And construct the array f as\n",
    "\n",
    "$$\\underline{\\underline{f}} = \\left\\{\n",
    "\\left(\\begin{array}{ccc ccc c} \n",
    "x_0v_0 & x_0v_1 & x_0v_2 & x_0v_3 & x_0v_4 & x_0v_5 &x_0v_6 \\\\\n",
    "x_1v_0 & x_1v_1 & x_1v_2 & x_1v_3 & x_1v_4 & x_1v_5 &x_1v_6 \\\\\n",
    "x_2v_0 & x_2v_1 & x_2v_2 & x_2v_3 & x_2v_4 & x_2v_5 &x_2v_6 \\\\\n",
    "x_3v_0 & x_3v_1 & x_3v_2 & x_3v_3 & x_3v_4 & x_3v_5 &x_3v_6 \\\\\n",
    "x_4v_0 & x_4v_1 & x_4v_2 & x_4v_3 & x_4v_4 & x_4v_5 &x_4v_6 \n",
    "\\end{array}\n",
    "\\right)_{t = t_0}\\\\\n",
    "\\left(\\begin{array}{ccc ccc c} \n",
    "x_0v_0 & x_0v_1 & x_0v_2 & x_0v_3 & x_0v_4 & x_0v_5 &x_0v_6 \\\\\n",
    "x_1v_0 & x_1v_1 & x_1v_2 & x_1v_3 & x_1v_4 & x_1v_5 &x_1v_6 \\\\\n",
    "x_2v_0 & x_2v_1 & x_2v_2 & x_2v_3 & x_2v_4 & x_2v_5 &x_2v_6 \\\\\n",
    "x_3v_0 & x_3v_1 & x_3v_2 & x_3v_3 & x_3v_4 & x_3v_5 &x_3v_6 \\\\\n",
    "x_4v_0 & x_4v_1 & x_4v_2 & x_4v_3 & x_4v_4 & x_4v_5 &x_4v_6 \n",
    "\\end{array}\n",
    "\\right)_{t = t_1}\\\\\n",
    "\\left(\\begin{array}{ccc ccc c} \n",
    "x_0v_0 & x_0v_1 & x_0v_2 & x_0v_3 & x_0v_4 & x_0v_5 &x_0v_6 \\\\\n",
    "x_1v_0 & x_1v_1 & x_1v_2 & x_1v_3 & x_1v_4 & x_1v_5 &x_1v_6 \\\\\n",
    "x_2v_0 & x_2v_1 & x_2v_2 & x_2v_3 & x_2v_4 & x_2v_5 &x_2v_6 \\\\\n",
    "x_3v_0 & x_3v_1 & x_3v_2 & x_3v_3 & x_3v_4 & x_3v_5 &x_3v_6 \\\\\n",
    "x_4v_0 & x_4v_1 & x_4v_2 & x_4v_3 & x_4v_4 & x_4v_5 &x_4v_6 \n",
    "\\end{array}\n",
    "\\right)_{t = t_2} \\\\\n",
    "\\left(\\begin{array}{ccc ccc c} \n",
    "x_0v_0 & x_0v_1 & x_0v_2 & x_0v_3 & x_0v_4 & x_0v_5 &x_0v_6 \\\\\n",
    "x_1v_0 & x_1v_1 & x_1v_2 & x_1v_3 & x_1v_4 & x_1v_5 &x_1v_6 \\\\\n",
    "x_2v_0 & x_2v_1 & x_2v_2 & x_2v_3 & x_2v_4 & x_2v_5 &x_2v_6 \\\\\n",
    "x_3v_0 & x_3v_1 & x_3v_2 & x_3v_3 & x_3v_4 & x_3v_5 &x_3v_6 \\\\\n",
    "x_4v_0 & x_4v_1 & x_4v_2 & x_4v_3 & x_4v_4 & x_4v_5 &x_4v_6 \n",
    "\\end{array}\n",
    "\\right)_{t = t_3}\n",
    "\\right\\}$$\n",
    "\n",
    "Here, $t$ fulfills the third dimension. To help with our intuition, we can regard $t$ as enumerating \"pages\" of 2D arrays $x_iv_j = x_i(t)v_j(t)$. In DECSKS, we begin with a container f = np.zeros([t.Ngridpoints, x.N, v.N]), and intialize the problem by filling the density at time zero f[0, :, :] $\\equiv \\underline{\\underline{f}}(0,\\underline{x},\\underline{v})$. Time stepping must one-by-one fill in the remaining entries f[1:, :, :] $\\equiv \\underline{\\underline{f}}(\\underline{t} > 0, \\underline{x},\\underline{v})$. Thus, the multiplications we are interested in involve 2D arrays. We pick any $t$ above, and thus examine matrices that look like\n",
    "\n",
    "$$\\underline{\\underline{g}} = \\left(\\begin{array}{ccc ccc c} \n",
    "x_0v_0 & x_0v_1 & x_0v_2 & x_0v_3 & x_0v_4 & x_0v_5 &x_0v_6 \\\\\n",
    "x_1v_0 & x_1v_1 & x_1v_2 & x_1v_3 & x_1v_4 & x_1v_5 &x_1v_6 \\\\\n",
    "x_2v_0 & x_2v_1 & x_2v_2 & x_2v_3 & x_2v_4 & x_2v_5 &x_2v_6 \\\\\n",
    "x_3v_0 & x_3v_1 & x_3v_2 & x_3v_3 & x_3v_4 & x_3v_5 &x_3v_6 \\\\\n",
    "x_4v_0 & x_4v_1 & x_4v_2 & x_4v_3 & x_4v_4 & x_4v_5 &x_4v_6 \n",
    "\\end{array}\n",
    "\\right)$$\n",
    "\n",
    "Which we decide is an object that has been computed as the dyadic $\\underline{x}\\underline{v}$ just so we can keep track easily of the multiplication that transpires. We construct the array g below:"
   ]
  },
  {
   "cell_type": "code",
   "execution_count": 92,
   "metadata": {
    "collapsed": false
   },
   "outputs": [],
   "source": [
    "import numpy as np\n",
    "\n",
    "x = np.array([10, 11, 12, 13, 14])\n",
    "v = np.array([20, 21, 22, 23, 24, 25, 26])\n",
    "\n",
    "g = np.outer(x,v)"
   ]
  },
  {
   "cell_type": "markdown",
   "metadata": {},
   "source": [
    "We check the entries have been computed properly in the following loop:"
   ]
  },
  {
   "cell_type": "code",
   "execution_count": 104,
   "metadata": {
    "collapsed": false
   },
   "outputs": [
    {
     "name": "stdout",
     "output_type": "stream",
     "text": [
      "TRUE: g[0,0] = x[0]v[0] = 10*20 = 200\n",
      "TRUE: g[0,1] = x[0]v[1] = 10*21 = 210\n",
      "TRUE: g[0,2] = x[0]v[2] = 10*22 = 220\n",
      "TRUE: g[0,3] = x[0]v[3] = 10*23 = 230\n",
      "TRUE: g[0,4] = x[0]v[4] = 10*24 = 240\n",
      "TRUE: g[0,5] = x[0]v[5] = 10*25 = 250\n",
      "TRUE: g[0,6] = x[0]v[6] = 10*26 = 260\n",
      "TRUE: g[1,0] = x[1]v[0] = 11*20 = 220\n",
      "TRUE: g[1,1] = x[1]v[1] = 11*21 = 231\n",
      "TRUE: g[1,2] = x[1]v[2] = 11*22 = 242\n",
      "TRUE: g[1,3] = x[1]v[3] = 11*23 = 253\n",
      "TRUE: g[1,4] = x[1]v[4] = 11*24 = 264\n",
      "TRUE: g[1,5] = x[1]v[5] = 11*25 = 275\n",
      "TRUE: g[1,6] = x[1]v[6] = 11*26 = 286\n",
      "TRUE: g[2,0] = x[2]v[0] = 12*20 = 240\n",
      "TRUE: g[2,1] = x[2]v[1] = 12*21 = 252\n",
      "TRUE: g[2,2] = x[2]v[2] = 12*22 = 264\n",
      "TRUE: g[2,3] = x[2]v[3] = 12*23 = 276\n",
      "TRUE: g[2,4] = x[2]v[4] = 12*24 = 288\n",
      "TRUE: g[2,5] = x[2]v[5] = 12*25 = 300\n",
      "TRUE: g[2,6] = x[2]v[6] = 12*26 = 312\n",
      "TRUE: g[3,0] = x[3]v[0] = 13*20 = 260\n",
      "TRUE: g[3,1] = x[3]v[1] = 13*21 = 273\n",
      "TRUE: g[3,2] = x[3]v[2] = 13*22 = 286\n",
      "TRUE: g[3,3] = x[3]v[3] = 13*23 = 299\n",
      "TRUE: g[3,4] = x[3]v[4] = 13*24 = 312\n",
      "TRUE: g[3,5] = x[3]v[5] = 13*25 = 325\n",
      "TRUE: g[3,6] = x[3]v[6] = 13*26 = 338\n",
      "TRUE: g[4,0] = x[4]v[0] = 14*20 = 280\n",
      "TRUE: g[4,1] = x[4]v[1] = 14*21 = 294\n",
      "TRUE: g[4,2] = x[4]v[2] = 14*22 = 308\n",
      "TRUE: g[4,3] = x[4]v[3] = 14*23 = 322\n",
      "TRUE: g[4,4] = x[4]v[4] = 14*24 = 336\n",
      "TRUE: g[4,5] = x[4]v[5] = 14*25 = 350\n",
      "TRUE: g[4,6] = x[4]v[6] = 14*26 = 364\n"
     ]
    }
   ],
   "source": [
    "for i in range(len(x)):\n",
    "    for j in range(len(v)):\n",
    "        entry = x[i]*v[j]\n",
    "        \n",
    "        if g[i,j] == entry:\n",
    "            print \"TRUE: g[%d,%d] = x[%d]v[%d] = %d*%d = %d\" % (i,j, i,j, x[i], v[j], entry)\n",
    "        else:\n",
    "            print \"FALSE: the entry is not the expected product\""
   ]
  },
  {
   "cell_type": "markdown",
   "metadata": {},
   "source": [
    "Thus, we have the following array to work with"
   ]
  },
  {
   "cell_type": "code",
   "execution_count": 103,
   "metadata": {
    "collapsed": false
   },
   "outputs": [
    {
     "name": "stdout",
     "output_type": "stream",
     "text": [
      "g = \n",
      "[[200 210 220 230 240 250 260]\n",
      " [220 231 242 253 264 275 286]\n",
      " [240 252 264 276 288 300 312]\n",
      " [260 273 286 299 312 325 338]\n",
      " [280 294 308 322 336 350 364]]\n",
      "\n",
      " which has dimensions (5, 7)\n"
     ]
    }
   ],
   "source": [
    "print 'g = '\n",
    "print g\n",
    "\n",
    "print '\\n which has dimensions %s' % (str(g.shape))"
   ]
  },
  {
   "cell_type": "markdown",
   "metadata": {},
   "source": [
    "Currently, DECSKS updates every 1D subarray in routines that look like (note, the phase space variables x and v and time variable t are instantiations of class objects that carry with them attriutes that fully characterize them, number of gridpoints, prepoint values, postpoints of all the MCs, domain boundaries, etc. The attribute names below should be clear enough to follow the meaning in the below pseudo-code) :\n",
    "\n",
    "    if convecting in x:\n",
    "        for j in v.prepoints:\n",
    "            x.MCs   = x.generate_Lagrangian_mesh(x.prepointvalues, v.prepointvalues[j], frac*t.width)\n",
    "            g[:,j] = DECSKS.lib.convect.scheme(g[:,j], sim_params, args*)\n",
    "    \n",
    "    elif convecting in v:\n",
    "        compute acceleration a = a(x)\n",
    "        for i in x.indices:\n",
    "            v.MCs   = v.generate_Lagrangian_mesh(v.prepointvalues, a[i], frac*t.width)\n",
    "            g[i,:] = DECSKS.lib.convect.scheme(g[i,:], sim_params, args*)\n",
    "        \n",
    "where a is a self-consistently computed acceleration. We wish to recast the above in terms of something to the effect of:\n",
    "\n",
    "    if convecting in x:\n",
    "        x.MCs   = x.generate_Lagrangian_mesh(x.prepointvalues, v.prepointvalues, frac*t.width)\n",
    "        g = DECSKS.lib.convect.scheme(g, sim_params, args*)\n",
    "    elif convecting in v\n",
    "        compute acceleration a = a(x)\n",
    "        v.MCs   = v.generate_Lagrangian_mesh(v.prepointvalues, frac*t.width)\n",
    "        g = DECSKS.lib.convect.scheme(g, sim_params, args*)\n",
    "    \n",
    "where 2D arrays are passed. and x.MCs and v.MCs should be recasted from 1D arrays to a collection of 1D arrays (i.e. 2D array) that can calculate and store all the MC postpoints for all prepoints in x and v by passing, say instead of v.prepointvalues[j], we pass v.prepointvalues as a whole)."
   ]
  },
  {
   "cell_type": "code",
   "execution_count": 115,
   "metadata": {
    "collapsed": false
   },
   "outputs": [
    {
     "name": "stdout",
     "output_type": "stream",
     "text": [
      "[10 11 12 13 14]\n",
      "[20 21 22 23 24 25 26]\n"
     ]
    }
   ],
   "source": [
    "print x\n",
    "print v"
   ]
  },
  {
   "cell_type": "code",
   "execution_count": 133,
   "metadata": {
    "collapsed": false
   },
   "outputs": [
    {
     "data": {
      "text/plain": [
       "array([[ 10.2 ,  10.21,  10.22,  10.23,  10.24,  10.25,  10.26],\n",
       "       [ 11.2 ,  11.21,  11.22,  11.23,  11.24,  11.25,  11.26],\n",
       "       [ 12.2 ,  12.21,  12.22,  12.23,  12.24,  12.25,  12.26],\n",
       "       [ 13.2 ,  13.21,  13.22,  13.23,  13.24,  13.25,  13.26],\n",
       "       [ 14.2 ,  14.21,  14.22,  14.23,  14.24,  14.25,  14.26]])"
      ]
     },
     "execution_count": 133,
     "metadata": {},
     "output_type": "execute_result"
    }
   ],
   "source": [
    "\n",
    "one = np.ones(len(v))\n",
    "X = np.outer(x,one)\n",
    "\n",
    "X + v*.01"
   ]
  },
  {
   "cell_type": "code",
   "execution_count": 172,
   "metadata": {
    "collapsed": true
   },
   "outputs": [],
   "source": [
    "onet = np.ones([1,len(v)])"
   ]
  },
  {
   "cell_type": "code",
   "execution_count": 173,
   "metadata": {
    "collapsed": false
   },
   "outputs": [
    {
     "data": {
      "text/plain": [
       "(1, 7)"
      ]
     },
     "execution_count": 173,
     "metadata": {},
     "output_type": "execute_result"
    }
   ],
   "source": [
    "onet.shape"
   ]
  },
  {
   "cell_type": "code",
   "execution_count": 175,
   "metadata": {
    "collapsed": false
   },
   "outputs": [
    {
     "data": {
      "text/plain": [
       "1.0"
      ]
     },
     "execution_count": 175,
     "metadata": {},
     "output_type": "execute_result"
    }
   ],
   "source": [
    "onet[0,1]"
   ]
  },
  {
   "cell_type": "code",
   "execution_count": 176,
   "metadata": {
    "collapsed": true
   },
   "outputs": [],
   "source": [
    "onett = np.ones([1,len(x)])"
   ]
  },
  {
   "cell_type": "code",
   "execution_count": 190,
   "metadata": {
    "collapsed": false
   },
   "outputs": [
    {
     "data": {
      "text/plain": [
       "array([[ 10.2 ,  10.21,  10.22,  10.23,  10.24,  10.25,  10.26],\n",
       "       [ 11.2 ,  11.21,  11.22,  11.23,  11.24,  11.25,  11.26],\n",
       "       [ 12.2 ,  12.21,  12.22,  12.23,  12.24,  12.25,  12.26],\n",
       "       [ 13.2 ,  13.21,  13.22,  13.23,  13.24,  13.25,  13.26],\n",
       "       [ 14.2 ,  14.21,  14.22,  14.23,  14.24,  14.25,  14.26]])"
      ]
     },
     "execution_count": 190,
     "metadata": {},
     "output_type": "execute_result"
    }
   ],
   "source": [
    "np.outer(x,np.ones([1,len(v)])) + np.outer(np.ones([len(x),1]),v*.01)"
   ]
  },
  {
   "cell_type": "code",
   "execution_count": 188,
   "metadata": {
    "collapsed": false
   },
   "outputs": [
    {
     "name": "stdout",
     "output_type": "stream",
     "text": [
      "(5,)\n",
      "(5,)\n"
     ]
    }
   ],
   "source": [
    "print np.transpose(x).shape\n",
    "print x.shape"
   ]
  },
  {
   "cell_type": "code",
   "execution_count": 194,
   "metadata": {
    "collapsed": false
   },
   "outputs": [
    {
     "name": "stdout",
     "output_type": "stream",
     "text": [
      "(1, 5)\n",
      "(5, 1)\n"
     ]
    }
   ],
   "source": [
    "z = np.zeros([1,5])\n",
    "print z.shape\n",
    "print np.transpose(z).shape"
   ]
  },
  {
   "cell_type": "code",
   "execution_count": 198,
   "metadata": {
    "collapsed": false
   },
   "outputs": [
    {
     "name": "stdout",
     "output_type": "stream",
     "text": [
      "no\n"
     ]
    }
   ],
   "source": [
    "lst = ['a', 'c', 'd']\n",
    "\n",
    "if 'b' in lst:\n",
    "    print 'yes'\n",
    "else:\n",
    "    print 'no'"
   ]
  },
  {
   "cell_type": "code",
   "execution_count": 253,
   "metadata": {
    "collapsed": true
   },
   "outputs": [],
   "source": [
    "import numpy as np\n",
    "import numpy.ma as ma\n",
    "x = np.array([1, 2, 3, -1, 5])"
   ]
  },
  {
   "cell_type": "code",
   "execution_count": 235,
   "metadata": {
    "collapsed": true
   },
   "outputs": [],
   "source": [
    " mx = ma.masked_array(x, mask=[0, 0, 0, 1, 0])\n",
    "    \n"
   ]
  },
  {
   "cell_type": "code",
   "execution_count": 242,
   "metadata": {
    "collapsed": false
   },
   "outputs": [
    {
     "ename": "NameError",
     "evalue": "name 'index' is not defined",
     "output_type": "error",
     "traceback": [
      "\u001b[1;31m---------------------------------------------------------------------------\u001b[0m",
      "\u001b[1;31mNameError\u001b[0m                                 Traceback (most recent call last)",
      "\u001b[1;32m<ipython-input-242-b8904e6afb62>\u001b[0m in \u001b[0;36m<module>\u001b[1;34m()\u001b[0m\n\u001b[1;32m----> 1\u001b[1;33m \u001b[0mind\u001b[0m \u001b[1;33m=\u001b[0m \u001b[0mindex\u001b[0m\u001b[1;33m(\u001b[0m\u001b[1;33m[\u001b[0m\u001b[0mmx\u001b[0m\u001b[1;33m.\u001b[0m\u001b[0mmask\u001b[0m \u001b[1;33m==\u001b[0m \u001b[0mTrue\u001b[0m\u001b[1;33m]\u001b[0m\u001b[1;33m)\u001b[0m\u001b[1;33m\u001b[0m\u001b[0m\n\u001b[0m",
      "\u001b[1;31mNameError\u001b[0m: name 'index' is not defined"
     ]
    }
   ],
   "source": [
    "ind = index([mx.mask == True])"
   ]
  },
  {
   "cell_type": "code",
   "execution_count": 205,
   "metadata": {
    "collapsed": false
   },
   "outputs": [
    {
     "data": {
      "text/plain": [
       "2.0"
      ]
     },
     "execution_count": 205,
     "metadata": {},
     "output_type": "execute_result"
    }
   ],
   "source": [
    "x.mean()"
   ]
  },
  {
   "cell_type": "code",
   "execution_count": 206,
   "metadata": {
    "collapsed": false
   },
   "outputs": [
    {
     "data": {
      "text/plain": [
       "2.75"
      ]
     },
     "execution_count": 206,
     "metadata": {},
     "output_type": "execute_result"
    }
   ],
   "source": [
    "(1 + 2 + 3 + 5) / 4."
   ]
  },
  {
   "cell_type": "code",
   "execution_count": 207,
   "metadata": {
    "collapsed": false
   },
   "outputs": [
    {
     "data": {
      "text/plain": [
       "2.0"
      ]
     },
     "execution_count": 207,
     "metadata": {},
     "output_type": "execute_result"
    }
   ],
   "source": [
    "(1 + 2 + 3 - 1 + 5) / 5."
   ]
  },
  {
   "cell_type": "code",
   "execution_count": 208,
   "metadata": {
    "collapsed": false
   },
   "outputs": [
    {
     "data": {
      "text/plain": [
       "5"
      ]
     },
     "execution_count": 208,
     "metadata": {},
     "output_type": "execute_result"
    }
   ],
   "source": [
    "len(mx)"
   ]
  },
  {
   "cell_type": "code",
   "execution_count": null,
   "metadata": {
    "collapsed": true
   },
   "outputs": [],
   "source": []
  },
  {
   "cell_type": "code",
   "execution_count": 209,
   "metadata": {
    "collapsed": false
   },
   "outputs": [
    {
     "data": {
      "text/plain": [
       "5"
      ]
     },
     "execution_count": 209,
     "metadata": {},
     "output_type": "execute_result"
    }
   ],
   "source": [
    "len(x)"
   ]
  },
  {
   "cell_type": "code",
   "execution_count": 210,
   "metadata": {
    "collapsed": false
   },
   "outputs": [
    {
     "name": "stdout",
     "output_type": "stream",
     "text": [
      "[1 2 3 -- 5]\n"
     ]
    }
   ],
   "source": [
    "print mx"
   ]
  },
  {
   "cell_type": "code",
   "execution_count": 211,
   "metadata": {
    "collapsed": false
   },
   "outputs": [
    {
     "data": {
      "text/plain": [
       "masked"
      ]
     },
     "execution_count": 211,
     "metadata": {},
     "output_type": "execute_result"
    }
   ],
   "source": [
    "sum(mx)"
   ]
  },
  {
   "cell_type": "code",
   "execution_count": 213,
   "metadata": {
    "collapsed": false
   },
   "outputs": [
    {
     "data": {
      "text/plain": [
       "masked_array(data = [1 2 3 -- 5],\n",
       "             mask = [False False False  True False],\n",
       "       fill_value = 999999)"
      ]
     },
     "execution_count": 213,
     "metadata": {},
     "output_type": "execute_result"
    }
   ],
   "source": [
    "mx"
   ]
  },
  {
   "cell_type": "code",
   "execution_count": 214,
   "metadata": {
    "collapsed": false
   },
   "outputs": [
    {
     "data": {
      "text/plain": [
       "array([ 1,  2,  3, -1,  5])"
      ]
     },
     "execution_count": 214,
     "metadata": {},
     "output_type": "execute_result"
    }
   ],
   "source": [
    "mx.data"
   ]
  },
  {
   "cell_type": "code",
   "execution_count": 220,
   "metadata": {
    "collapsed": false
   },
   "outputs": [
    {
     "data": {
      "text/plain": [
       "-1"
      ]
     },
     "execution_count": 220,
     "metadata": {},
     "output_type": "execute_result"
    }
   ],
   "source": [
    "mx.data[3]"
   ]
  },
  {
   "cell_type": "code",
   "execution_count": 221,
   "metadata": {
    "collapsed": false
   },
   "outputs": [
    {
     "data": {
      "text/plain": [
       "array([ 1,  2,  3, -1,  5])"
      ]
     },
     "execution_count": 221,
     "metadata": {},
     "output_type": "execute_result"
    }
   ],
   "source": [
    "x"
   ]
  },
  {
   "cell_type": "code",
   "execution_count": 223,
   "metadata": {
    "collapsed": false
   },
   "outputs": [],
   "source": [
    "xmask = ma.masked_greater(x,0)"
   ]
  },
  {
   "cell_type": "code",
   "execution_count": 224,
   "metadata": {
    "collapsed": false
   },
   "outputs": [
    {
     "data": {
      "text/plain": [
       "masked_array(data = [-- -- -- -1 --],\n",
       "             mask = [ True  True  True False  True],\n",
       "       fill_value = 999999)"
      ]
     },
     "execution_count": 224,
     "metadata": {},
     "output_type": "execute_result"
    }
   ],
   "source": [
    "xmask"
   ]
  },
  {
   "cell_type": "code",
   "execution_count": 225,
   "metadata": {
    "collapsed": false
   },
   "outputs": [
    {
     "data": {
      "text/plain": [
       "array([ 1,  2,  3, -1,  5])"
      ]
     },
     "execution_count": 225,
     "metadata": {},
     "output_type": "execute_result"
    }
   ],
   "source": [
    "xmask.data"
   ]
  },
  {
   "cell_type": "code",
   "execution_count": 226,
   "metadata": {
    "collapsed": false
   },
   "outputs": [
    {
     "data": {
      "text/plain": [
       "2.0"
      ]
     },
     "execution_count": 226,
     "metadata": {},
     "output_type": "execute_result"
    }
   ],
   "source": [
    "np.floor(2.5)"
   ]
  },
  {
   "cell_type": "code",
   "execution_count": 231,
   "metadata": {
    "collapsed": false
   },
   "outputs": [
    {
     "data": {
      "text/plain": [
       "masked_array(data = [-- -- -- -1.0 --],\n",
       "             mask = [ True  True  True False  True],\n",
       "       fill_value = 1e+20)"
      ]
     },
     "execution_count": 231,
     "metadata": {},
     "output_type": "execute_result"
    }
   ],
   "source": [
    "np.ceil(ma.masked_greater_equal(x,0))"
   ]
  },
  {
   "cell_type": "code",
   "execution_count": 233,
   "metadata": {
    "collapsed": false
   },
   "outputs": [],
   "source": [
    "b = np.floor(ma.masked_less(x,0))"
   ]
  },
  {
   "cell_type": "code",
   "execution_count": 234,
   "metadata": {
    "collapsed": false
   },
   "outputs": [
    {
     "data": {
      "text/plain": [
       "masked_array(data = [1 2 3 -- 5],\n",
       "             mask = [False False False  True False],\n",
       "       fill_value = 999999)"
      ]
     },
     "execution_count": 234,
     "metadata": {},
     "output_type": "execute_result"
    }
   ],
   "source": [
    "b.astype(int)"
   ]
  },
  {
   "cell_type": "code",
   "execution_count": 247,
   "metadata": {
    "collapsed": false
   },
   "outputs": [],
   "source": [
    "indexes = [i for i,x in enumerate(mx.mask) if x == False]"
   ]
  },
  {
   "cell_type": "code",
   "execution_count": 248,
   "metadata": {
    "collapsed": false
   },
   "outputs": [
    {
     "name": "stdout",
     "output_type": "stream",
     "text": [
      "[0, 1, 2, 4]\n"
     ]
    }
   ],
   "source": [
    "print indexes"
   ]
  },
  {
   "cell_type": "code",
   "execution_count": 246,
   "metadata": {
    "collapsed": false
   },
   "outputs": [
    {
     "data": {
      "text/plain": [
       "masked_array(data = [1 2 3 -- 5],\n",
       "             mask = [False False False  True False],\n",
       "       fill_value = 999999)"
      ]
     },
     "execution_count": 246,
     "metadata": {},
     "output_type": "execute_result"
    }
   ],
   "source": [
    "mx"
   ]
  },
  {
   "cell_type": "code",
   "execution_count": 249,
   "metadata": {
    "collapsed": false
   },
   "outputs": [
    {
     "data": {
      "text/plain": [
       "array([5, 6, 7, 8])"
      ]
     },
     "execution_count": 249,
     "metadata": {},
     "output_type": "execute_result"
    }
   ],
   "source": [
    "a"
   ]
  },
  {
   "cell_type": "code",
   "execution_count": 251,
   "metadata": {
    "collapsed": false
   },
   "outputs": [
    {
     "ename": "AttributeError",
     "evalue": "'numpy.ndarray' object has no attribute 'index'",
     "output_type": "error",
     "traceback": [
      "\u001b[1;31m---------------------------------------------------------------------------\u001b[0m",
      "\u001b[1;31mAttributeError\u001b[0m                            Traceback (most recent call last)",
      "\u001b[1;32m<ipython-input-251-4353ea734b14>\u001b[0m in \u001b[0;36m<module>\u001b[1;34m()\u001b[0m\n\u001b[1;32m----> 1\u001b[1;33m \u001b[0ma\u001b[0m\u001b[1;33m[\u001b[0m\u001b[0ma\u001b[0m\u001b[1;33m<\u001b[0m\u001b[1;36m6\u001b[0m\u001b[1;33m]\u001b[0m\u001b[1;33m.\u001b[0m\u001b[0mindex\u001b[0m\u001b[1;33m\u001b[0m\u001b[0m\n\u001b[0m",
      "\u001b[1;31mAttributeError\u001b[0m: 'numpy.ndarray' object has no attribute 'index'"
     ]
    }
   ],
   "source": [
    "a[a<6]"
   ]
  },
  {
   "cell_type": "code",
   "execution_count": 252,
   "metadata": {
    "collapsed": false
   },
   "outputs": [
    {
     "data": {
      "text/plain": [
       "False"
      ]
     },
     "execution_count": 252,
     "metadata": {},
     "output_type": "execute_result"
    }
   ],
   "source": [
    "x"
   ]
  },
  {
   "cell_type": "code",
   "execution_count": 254,
   "metadata": {
    "collapsed": false
   },
   "outputs": [
    {
     "data": {
      "text/plain": [
       "array([ 1,  2,  3, -1,  5])"
      ]
     },
     "execution_count": 254,
     "metadata": {},
     "output_type": "execute_result"
    }
   ],
   "source": [
    "x"
   ]
  },
  {
   "cell_type": "code",
   "execution_count": 255,
   "metadata": {
    "collapsed": true
   },
   "outputs": [],
   "source": [
    "y = np.array([1.2, 2.6, 3.1, -1,7, 5])"
   ]
  },
  {
   "cell_type": "code",
   "execution_count": 256,
   "metadata": {
    "collapsed": false
   },
   "outputs": [
    {
     "data": {
      "text/plain": [
       "array([ 1.2,  2.6,  3.1, -1. ,  7. ,  5. ])"
      ]
     },
     "execution_count": 256,
     "metadata": {},
     "output_type": "execute_result"
    }
   ],
   "source": [
    "y"
   ]
  },
  {
   "cell_type": "code",
   "execution_count": 257,
   "metadata": {
    "collapsed": true
   },
   "outputs": [],
   "source": [
    "nonnegative_y = np.ceil(y[y>=0])"
   ]
  },
  {
   "cell_type": "code",
   "execution_count": 258,
   "metadata": {
    "collapsed": false
   },
   "outputs": [
    {
     "data": {
      "text/plain": [
       "array([ 2.,  3.,  4.,  7.,  5.])"
      ]
     },
     "execution_count": 258,
     "metadata": {},
     "output_type": "execute_result"
    }
   ],
   "source": [
    "nonnegative_y"
   ]
  },
  {
   "cell_type": "code",
   "execution_count": 260,
   "metadata": {
    "collapsed": false
   },
   "outputs": [
    {
     "data": {
      "text/plain": [
       "(array([2, 4, 5]),)"
      ]
     },
     "execution_count": 260,
     "metadata": {},
     "output_type": "execute_result"
    }
   ],
   "source": [
    "np.where(y > 3)"
   ]
  },
  {
   "cell_type": "code",
   "execution_count": 261,
   "metadata": {
    "collapsed": false
   },
   "outputs": [
    {
     "data": {
      "text/plain": [
       "3.1000000000000001"
      ]
     },
     "execution_count": 261,
     "metadata": {},
     "output_type": "execute_result"
    }
   ],
   "source": [
    "y[2]"
   ]
  },
  {
   "cell_type": "code",
   "execution_count": null,
   "metadata": {
    "collapsed": true
   },
   "outputs": [],
   "source": []
  },
  {
   "cell_type": "code",
   "execution_count": 262,
   "metadata": {
    "collapsed": false
   },
   "outputs": [
    {
     "data": {
      "text/plain": [
       "7.0"
      ]
     },
     "execution_count": 262,
     "metadata": {},
     "output_type": "execute_result"
    }
   ],
   "source": [
    "y[4]"
   ]
  },
  {
   "cell_type": "code",
   "execution_count": 263,
   "metadata": {
    "collapsed": false
   },
   "outputs": [
    {
     "data": {
      "text/plain": [
       "5.0"
      ]
     },
     "execution_count": 263,
     "metadata": {},
     "output_type": "execute_result"
    }
   ],
   "source": [
    "y[5]"
   ]
  },
  {
   "cell_type": "code",
   "execution_count": 264,
   "metadata": {
    "collapsed": false
   },
   "outputs": [
    {
     "data": {
      "text/plain": [
       "masked_array(data = [1.0 2.0 3.0 -- 5.0],\n",
       "             mask = [False False False  True False],\n",
       "       fill_value = 1e+20)"
      ]
     },
     "execution_count": 264,
     "metadata": {},
     "output_type": "execute_result"
    }
   ],
   "source": [
    "b"
   ]
  },
  {
   "cell_type": "code",
   "execution_count": 265,
   "metadata": {
    "collapsed": false
   },
   "outputs": [
    {
     "data": {
      "text/plain": [
       "array([ 1.2,  2.6,  3.1, -1. ,  7. ,  5. ])"
      ]
     },
     "execution_count": 265,
     "metadata": {},
     "output_type": "execute_result"
    }
   ],
   "source": [
    "y"
   ]
  },
  {
   "cell_type": "code",
   "execution_count": 268,
   "metadata": {
    "collapsed": false
   },
   "outputs": [],
   "source": [
    "z = y.reshape(2,3)"
   ]
  },
  {
   "cell_type": "code",
   "execution_count": 269,
   "metadata": {
    "collapsed": false
   },
   "outputs": [
    {
     "data": {
      "text/plain": [
       "array([ 1.2,  2.6,  3.1, -1. ,  7. ,  5. ])"
      ]
     },
     "execution_count": 269,
     "metadata": {},
     "output_type": "execute_result"
    }
   ],
   "source": [
    "y"
   ]
  },
  {
   "cell_type": "code",
   "execution_count": 270,
   "metadata": {
    "collapsed": false
   },
   "outputs": [
    {
     "data": {
      "text/plain": [
       "(array([0, 1, 1]), array([2, 1, 2]))"
      ]
     },
     "execution_count": 270,
     "metadata": {},
     "output_type": "execute_result"
    }
   ],
   "source": [
    "np.where(z>3)"
   ]
  },
  {
   "cell_type": "code",
   "execution_count": 271,
   "metadata": {
    "collapsed": false
   },
   "outputs": [
    {
     "data": {
      "text/plain": [
       "array([[ 1.2,  2.6,  3.1],\n",
       "       [-1. ,  7. ,  5. ]])"
      ]
     },
     "execution_count": 271,
     "metadata": {},
     "output_type": "execute_result"
    }
   ],
   "source": [
    "z"
   ]
  },
  {
   "cell_type": "code",
   "execution_count": 272,
   "metadata": {
    "collapsed": false
   },
   "outputs": [
    {
     "data": {
      "text/plain": [
       "array([[ 1.2,  2.6,  3.1],\n",
       "       [-1. ,  7. ,  5. ]])"
      ]
     },
     "execution_count": 272,
     "metadata": {},
     "output_type": "execute_result"
    }
   ],
   "source": [
    "z"
   ]
  },
  {
   "cell_type": "code",
   "execution_count": 280,
   "metadata": {
    "collapsed": false
   },
   "outputs": [],
   "source": [
    "CFL = np.where(z>=0, np.floor(z), np.ceil(z))"
   ]
  },
  {
   "cell_type": "code",
   "execution_count": 277,
   "metadata": {
    "collapsed": false
   },
   "outputs": [
    {
     "data": {
      "text/plain": [
       "array([[ 1.,  2.,  3.],\n",
       "       [-1.,  7.,  5.]])"
      ]
     },
     "execution_count": 277,
     "metadata": {},
     "output_type": "execute_result"
    }
   ],
   "source": [
    "CFL"
   ]
  },
  {
   "cell_type": "code",
   "execution_count": 278,
   "metadata": {
    "collapsed": true
   },
   "outputs": [],
   "source": [
    "z[0,0] = 0"
   ]
  },
  {
   "cell_type": "code",
   "execution_count": 281,
   "metadata": {
    "collapsed": false
   },
   "outputs": [
    {
     "data": {
      "text/plain": [
       "array([[ 0. ,  2.6,  3.1],\n",
       "       [-1. ,  7. ,  5. ]])"
      ]
     },
     "execution_count": 281,
     "metadata": {},
     "output_type": "execute_result"
    }
   ],
   "source": [
    "z"
   ]
  },
  {
   "cell_type": "code",
   "execution_count": 282,
   "metadata": {
    "collapsed": false
   },
   "outputs": [
    {
     "data": {
      "text/plain": [
       "(array([0, 0, 1, 1]), array([1, 2, 1, 2]))"
      ]
     },
     "execution_count": 282,
     "metadata": {},
     "output_type": "execute_result"
    }
   ],
   "source": [
    "np.where(z>0)"
   ]
  },
  {
   "cell_type": "code",
   "execution_count": 1,
   "metadata": {
    "collapsed": true
   },
   "outputs": [],
   "source": [
    "import numpy as np\n",
    "\n",
    "class anything:\n",
    "    def __init__(self, N, a = 0., b = 1.):\n",
    "\n",
    "        self.N = N\n",
    "        self.a = 0.\n",
    "        self.b = 1.\n",
    "        self.L = self.b - self.a\n",
    "        "
   ]
  },
  {
   "cell_type": "code",
   "execution_count": 20,
   "metadata": {
    "collapsed": false
   },
   "outputs": [
    {
     "name": "stdout",
     "output_type": "stream",
     "text": [
      "1000 loops, best of 3: 443 µs per loop\n"
     ]
    }
   ],
   "source": [
    "%%timeit\n",
    "\n",
    "z = anything(N = 1028)\n",
    "\n",
    "xi = np.zeros(z.N)\n",
    "for r in range(z.N):\n",
    "    if r <= z.N/2 :\n",
    "        xi[r] = 2*np.pi*r / z.L\n",
    "    else:\n",
    "        xi[r] = 2*np.pi*(r - z.N) / z.L"
   ]
  },
  {
   "cell_type": "code",
   "execution_count": 21,
   "metadata": {
    "collapsed": false
   },
   "outputs": [
    {
     "name": "stdout",
     "output_type": "stream",
     "text": [
      "(1028,)\n"
     ]
    }
   ],
   "source": [
    "print xi.shape"
   ]
  },
  {
   "cell_type": "code",
   "execution_count": 17,
   "metadata": {
    "collapsed": false
   },
   "outputs": [
    {
     "name": "stdout",
     "output_type": "stream",
     "text": [
      "10000 loops, best of 3: 53.7 µs per loop\n"
     ]
    }
   ],
   "source": [
    "%%timeit\n",
    "\n",
    "z = anything(N = 1028)\n",
    "\n",
    "wave_index = np.arange(z.N)\n",
    "\n",
    "xi = np.where(wave_index <= z.N / 2, 2*np.pi*wave_index / z.L, 2*np.pi*(wave_index - z.N) / z.L)\n"
   ]
  },
  {
   "cell_type": "code",
   "execution_count": 19,
   "metadata": {
    "collapsed": false
   },
   "outputs": [
    {
     "name": "stdout",
     "output_type": "stream",
     "text": [
      "(1028,)\n"
     ]
    }
   ],
   "source": [
    "print xi.shape"
   ]
  },
  {
   "cell_type": "markdown",
   "metadata": {},
   "source": [
    "### numpy.sum vs. numpy.dot"
   ]
  },
  {
   "cell_type": "code",
   "execution_count": 1,
   "metadata": {
    "collapsed": true
   },
   "outputs": [],
   "source": [
    "import numpy as np\n",
    "\n",
    "c = np.arange(21)\n",
    "d = .25\n",
    "\n",
    "one = np.ones_like(c)"
   ]
  },
  {
   "cell_type": "code",
   "execution_count": 9,
   "metadata": {
    "collapsed": false
   },
   "outputs": [
    {
     "name": "stdout",
     "output_type": "stream",
     "text": [
      "The slowest run took 20.45 times longer than the fastest. This could mean that an intermediate result is being cached \n",
      "100000 loops, best of 3: 5.22 µs per loop\n"
     ]
    }
   ],
   "source": [
    "%%timeit\n",
    "c.dot(d*one)"
   ]
  },
  {
   "cell_type": "code",
   "execution_count": 11,
   "metadata": {
    "collapsed": false
   },
   "outputs": [
    {
     "name": "stdout",
     "output_type": "stream",
     "text": [
      "10000 loops, best of 3: 96.9 µs per loop\n"
     ]
    }
   ],
   "source": [
    "%%timeit\n",
    "\n",
    "sum = 0\n",
    "for q in range(21):\n",
    "    sum += c[q]*d"
   ]
  },
  {
   "cell_type": "markdown",
   "metadata": {},
   "source": [
    "<b>numpy.dot is significantly faster than python looping</b>"
   ]
  },
  {
   "cell_type": "markdown",
   "metadata": {},
   "source": [
    "## numpy.inner "
   ]
  },
  {
   "cell_type": "code",
   "execution_count": 3,
   "metadata": {
    "collapsed": false
   },
   "outputs": [],
   "source": [
    "import numpy as np\n",
    "\n",
    "N = 3\n",
    "Nv = 5\n",
    "Nx = 4\n",
    "\n",
    "c = np.arange(N*Nv).reshape(N,Nv)\n",
    "d = np.arange(20,N*Nv*Nx+20).reshape(N,Nx,Nv)"
   ]
  },
  {
   "cell_type": "code",
   "execution_count": 4,
   "metadata": {
    "collapsed": false
   },
   "outputs": [
    {
     "name": "stdout",
     "output_type": "stream",
     "text": [
      "c = \n",
      "[[ 0  1  2  3  4]\n",
      " [ 5  6  7  8  9]\n",
      " [10 11 12 13 14]]\n",
      "d = \n",
      "[[[20 21 22 23 24]\n",
      "  [25 26 27 28 29]\n",
      "  [30 31 32 33 34]\n",
      "  [35 36 37 38 39]]\n",
      "\n",
      " [[40 41 42 43 44]\n",
      "  [45 46 47 48 49]\n",
      "  [50 51 52 53 54]\n",
      "  [55 56 57 58 59]]\n",
      "\n",
      " [[60 61 62 63 64]\n",
      "  [65 66 67 68 69]\n",
      "  [70 71 72 73 74]\n",
      "  [75 76 77 78 79]]]\n"
     ]
    }
   ],
   "source": [
    "print \"c = \"\n",
    "print c\n",
    "print \"d = \"\n",
    "print d"
   ]
  },
  {
   "cell_type": "code",
   "execution_count": 5,
   "metadata": {
    "collapsed": false
   },
   "outputs": [
    {
     "data": {
      "text/plain": [
       "800"
      ]
     },
     "execution_count": 5,
     "metadata": {},
     "output_type": "execute_result"
    }
   ],
   "source": [
    "20*0 + 40*5 + 60*10 # 0,0"
   ]
  },
  {
   "cell_type": "code",
   "execution_count": 6,
   "metadata": {
    "collapsed": false
   },
   "outputs": [
    {
     "data": {
      "text/plain": [
       "875"
      ]
     },
     "execution_count": 6,
     "metadata": {},
     "output_type": "execute_result"
    }
   ],
   "source": [
    "25*0 + 45*5 + 65*10 # 1,0"
   ]
  },
  {
   "cell_type": "code",
   "execution_count": 7,
   "metadata": {
    "collapsed": false
   },
   "outputs": [
    {
     "data": {
      "text/plain": [
       "950"
      ]
     },
     "execution_count": 7,
     "metadata": {},
     "output_type": "execute_result"
    }
   ],
   "source": [
    "30*0 + 50*5 + 70*10 # 2,0"
   ]
  },
  {
   "cell_type": "code",
   "execution_count": 8,
   "metadata": {
    "collapsed": false
   },
   "outputs": [
    {
     "data": {
      "text/plain": [
       "1025"
      ]
     },
     "execution_count": 8,
     "metadata": {},
     "output_type": "execute_result"
    }
   ],
   "source": [
    "35*0 + 55*5 + 75*10 # 3,0"
   ]
  },
  {
   "cell_type": "code",
   "execution_count": 9,
   "metadata": {
    "collapsed": false
   },
   "outputs": [
    {
     "data": {
      "text/plain": [
       "938"
      ]
     },
     "execution_count": 9,
     "metadata": {},
     "output_type": "execute_result"
    }
   ],
   "source": [
    "21*1 + 41*6 + 61*11 # 0,1"
   ]
  },
  {
   "cell_type": "code",
   "execution_count": 19,
   "metadata": {
    "collapsed": false
   },
   "outputs": [
    {
     "name": "stdout",
     "output_type": "stream",
     "text": [
      "[[  800.   938.  1082.  1232.  1388.]\n",
      " [  875.  1028.  1187.  1352.  1523.]\n",
      " [  950.  1118.  1292.  1472.  1658.]\n",
      " [ 1025.  1208.  1397.  1592.  1793.]]\n"
     ]
    }
   ],
   "source": [
    "import numpy as np\n",
    "\n",
    "cd = np.zeros([Nx,Nv])\n",
    "for i in range(Nx):\n",
    "    for j in range(Nv):\n",
    "            cd[i,j] = c[:,j].dot(d[:,i,j])\n",
    "            \n",
    "print cd"
   ]
  },
  {
   "cell_type": "code",
   "execution_count": 28,
   "metadata": {
    "collapsed": false
   },
   "outputs": [
    {
     "name": "stdout",
     "output_type": "stream",
     "text": [
      "[[  800.   938.  1082.  1232.  1388.]\n",
      " [  875.  1028.  1187.  1352.  1523.]\n",
      " [  950.  1118.  1292.  1472.  1658.]\n",
      " [ 1025.  1208.  1397.  1592.  1793.]]\n"
     ]
    }
   ],
   "source": [
    "import numpy as np\n",
    "\n",
    "cd = np.zeros([Nx,Nv])\n",
    "\n",
    "for j in range(Nv):\n",
    "     cd[:,j] = c[:,j].dot(d[:,:,j])\n",
    "    \n",
    "print cd\n",
    "    "
   ]
  },
  {
   "cell_type": "code",
   "execution_count": 17,
   "metadata": {
    "collapsed": false
   },
   "outputs": [
    {
     "data": {
      "text/plain": [
       "array([[ 0.,  0.,  0.,  0.,  0.],\n",
       "       [ 0.,  0.,  0.,  0.,  0.],\n",
       "       [ 0.,  0.,  0.,  0.,  0.],\n",
       "       [ 0.,  0.,  0.,  0.,  0.]])"
      ]
     },
     "execution_count": 17,
     "metadata": {},
     "output_type": "execute_result"
    }
   ],
   "source": [
    "cd"
   ]
  },
  {
   "cell_type": "code",
   "execution_count": 9,
   "metadata": {
    "collapsed": false
   },
   "outputs": [
    {
     "data": {
      "text/plain": [
       "((3, 5), (3, 4, 5))"
      ]
     },
     "execution_count": 9,
     "metadata": {},
     "output_type": "execute_result"
    }
   ],
   "source": [
    "c.shape, d.shape"
   ]
  },
  {
   "cell_type": "code",
   "execution_count": 12,
   "metadata": {
    "collapsed": false
   },
   "outputs": [],
   "source": [
    "CD = np.zeros([Nx,Nv])\n",
    "for j in range(Nv):\n",
    "    CD[:,j] = c[:,j].dot(d[:,:,j])"
   ]
  },
  {
   "cell_type": "code",
   "execution_count": 14,
   "metadata": {
    "collapsed": false
   },
   "outputs": [
    {
     "name": "stdout",
     "output_type": "stream",
     "text": [
      "[[  800.   938.  1082.  1232.  1388.]\n",
      " [  875.  1028.  1187.  1352.  1523.]\n",
      " [  950.  1118.  1292.  1472.  1658.]\n",
      " [ 1025.  1208.  1397.  1592.  1793.]]\n"
     ]
    }
   ],
   "source": [
    "print CD"
   ]
  },
  {
   "cell_type": "code",
   "execution_count": 101,
   "metadata": {
    "collapsed": false
   },
   "outputs": [],
   "source": [
    "cd = np.tensordot(c[:,0], d[:,:,0], axes=(0,0))"
   ]
  },
  {
   "cell_type": "code",
   "execution_count": 98,
   "metadata": {
    "collapsed": true
   },
   "outputs": [],
   "source": [
    "cdotd = c[:,0].dot(d[:,0,0])"
   ]
  },
  {
   "cell_type": "code",
   "execution_count": 99,
   "metadata": {
    "collapsed": false
   },
   "outputs": [
    {
     "name": "stdout",
     "output_type": "stream",
     "text": [
      "800\n"
     ]
    }
   ],
   "source": [
    "print cdotd"
   ]
  },
  {
   "cell_type": "code",
   "execution_count": 102,
   "metadata": {
    "collapsed": false
   },
   "outputs": [
    {
     "name": "stdout",
     "output_type": "stream",
     "text": [
      "[ 800  875  950 1025]\n"
     ]
    }
   ],
   "source": [
    "print cd"
   ]
  },
  {
   "cell_type": "code",
   "execution_count": 97,
   "metadata": {
    "collapsed": false
   },
   "outputs": [
    {
     "name": "stdout",
     "output_type": "stream",
     "text": [
      "(5, 4, 5)\n"
     ]
    }
   ],
   "source": [
    "print cd.shape"
   ]
  },
  {
   "cell_type": "code",
   "execution_count": 42,
   "metadata": {
    "collapsed": true
   },
   "outputs": [],
   "source": [
    "A = np.array(['a', 'b', 'c','d','e','f','g','h','i'], dtype = object).reshape(3,3)"
   ]
  },
  {
   "cell_type": "code",
   "execution_count": 52,
   "metadata": {
    "collapsed": true
   },
   "outputs": [],
   "source": [
    "B = np.arange(1,2+1)"
   ]
  },
  {
   "cell_type": "code",
   "execution_count": 53,
   "metadata": {
    "collapsed": false
   },
   "outputs": [
    {
     "name": "stdout",
     "output_type": "stream",
     "text": [
      "[[a b c]\n",
      " [d e f]\n",
      " [g h i]]\n"
     ]
    }
   ],
   "source": [
    "print A"
   ]
  },
  {
   "cell_type": "code",
   "execution_count": 54,
   "metadata": {
    "collapsed": false
   },
   "outputs": [
    {
     "name": "stdout",
     "output_type": "stream",
     "text": [
      "[1 2]\n"
     ]
    }
   ],
   "source": [
    "print B"
   ]
  },
  {
   "cell_type": "code",
   "execution_count": 56,
   "metadata": {
    "collapsed": false
   },
   "outputs": [],
   "source": [
    "AB = np.tensordot(A,B, axes = 0)"
   ]
  },
  {
   "cell_type": "code",
   "execution_count": 59,
   "metadata": {
    "collapsed": false
   },
   "outputs": [
    {
     "name": "stdout",
     "output_type": "stream",
     "text": [
      "(3, 3, 2) (3, 3) (2,)\n"
     ]
    }
   ],
   "source": [
    "print AB.shape, A.shape, B.shape"
   ]
  },
  {
   "cell_type": "code",
   "execution_count": 58,
   "metadata": {
    "collapsed": false
   },
   "outputs": [
    {
     "name": "stdout",
     "output_type": "stream",
     "text": [
      "[[[a aa]\n",
      "  [b bb]\n",
      "  [c cc]]\n",
      "\n",
      " [[d dd]\n",
      "  [e ee]\n",
      "  [f ff]]\n",
      "\n",
      " [[g gg]\n",
      "  [h hh]\n",
      "  [i ii]]]\n"
     ]
    }
   ],
   "source": [
    "print AB"
   ]
  },
  {
   "cell_type": "code",
   "execution_count": 61,
   "metadata": {
    "collapsed": false
   },
   "outputs": [
    {
     "data": {
      "text/plain": [
       "array([a, b, c], dtype=object)"
      ]
     },
     "execution_count": 61,
     "metadata": {},
     "output_type": "execute_result"
    }
   ],
   "source": [
    "AB[0,:,0]"
   ]
  },
  {
   "cell_type": "code",
   "execution_count": 63,
   "metadata": {
    "collapsed": false
   },
   "outputs": [],
   "source": [
    "BA = np.tensordot(B,A, axes = 0)"
   ]
  },
  {
   "cell_type": "code",
   "execution_count": 69,
   "metadata": {
    "collapsed": false
   },
   "outputs": [
    {
     "name": "stdout",
     "output_type": "stream",
     "text": [
      "[a d g]\n"
     ]
    }
   ],
   "source": [
    "print BA[0,:,0]"
   ]
  },
  {
   "cell_type": "code",
   "execution_count": 70,
   "metadata": {
    "collapsed": false
   },
   "outputs": [
    {
     "name": "stdout",
     "output_type": "stream",
     "text": [
      "[[[a b c]\n",
      "  [d e f]\n",
      "  [g h i]]\n",
      "\n",
      " [[aa bb cc]\n",
      "  [dd ee ff]\n",
      "  [gg hh ii]]]\n"
     ]
    }
   ],
   "source": [
    "print BA"
   ]
  },
  {
   "cell_type": "code",
   "execution_count": 71,
   "metadata": {
    "collapsed": false
   },
   "outputs": [
    {
     "data": {
      "text/plain": [
       "array([a, d, g], dtype=object)"
      ]
     },
     "execution_count": 71,
     "metadata": {},
     "output_type": "execute_result"
    }
   ],
   "source": [
    "B[0]*A[:,0]"
   ]
  },
  {
   "cell_type": "code",
   "execution_count": 72,
   "metadata": {
    "collapsed": false
   },
   "outputs": [
    {
     "data": {
      "text/plain": [
       "array([b, e, h], dtype=object)"
      ]
     },
     "execution_count": 72,
     "metadata": {},
     "output_type": "execute_result"
    }
   ],
   "source": [
    "B[0]*A[:,1]"
   ]
  },
  {
   "cell_type": "code",
   "execution_count": 74,
   "metadata": {
    "collapsed": false
   },
   "outputs": [
    {
     "data": {
      "text/plain": [
       "array([b, e, h], dtype=object)"
      ]
     },
     "execution_count": 74,
     "metadata": {},
     "output_type": "execute_result"
    }
   ],
   "source": [
    "BA[0,:,1]"
   ]
  },
  {
   "cell_type": "code",
   "execution_count": 73,
   "metadata": {
    "collapsed": false
   },
   "outputs": [
    {
     "data": {
      "text/plain": [
       "array([c, f, i], dtype=object)"
      ]
     },
     "execution_count": 73,
     "metadata": {},
     "output_type": "execute_result"
    }
   ],
   "source": [
    "B[0]*A[:,2]"
   ]
  },
  {
   "cell_type": "code",
   "execution_count": 37,
   "metadata": {
    "collapsed": false
   },
   "outputs": [],
   "source": [
    "import numpy as np\n",
    "\n",
    "CFL = np.random.randn(25).reshape(5,5)"
   ]
  },
  {
   "cell_type": "code",
   "execution_count": 38,
   "metadata": {
    "collapsed": false
   },
   "outputs": [
    {
     "name": "stdout",
     "output_type": "stream",
     "text": [
      "[[-0.42273195  0.08891318 -0.30134986 -0.41019624  0.21007889]\n",
      " [-0.68022488  0.64590769  0.30939136  0.94322453 -0.72466147]\n",
      " [ 0.87766269 -1.46644229  0.50089301  0.22964166  0.66403735]\n",
      " [ 0.87328908 -0.85639999  0.1983523  -0.32506426 -0.36472375]\n",
      " [-0.9361809   0.12797658 -0.10994567 -0.39484037  1.1583446 ]]\n"
     ]
    }
   ],
   "source": [
    "print CFL"
   ]
  },
  {
   "cell_type": "code",
   "execution_count": 39,
   "metadata": {
    "collapsed": true
   },
   "outputs": [],
   "source": [
    "Uf = np.random.randn(25).reshape(5,5)"
   ]
  },
  {
   "cell_type": "code",
   "execution_count": 40,
   "metadata": {
    "collapsed": false
   },
   "outputs": [
    {
     "name": "stdout",
     "output_type": "stream",
     "text": [
      "[[ -7.80461384e-01   1.66234401e+00  -3.68889394e-01   1.11225412e+00\n",
      "    1.99723283e+00]\n",
      " [ -1.06112143e+00   6.65008837e-01  -1.97112276e+00  -3.53902514e-01\n",
      "   -8.32016177e-01]\n",
      " [ -1.46869364e+00   4.93447453e-03   1.29943872e-01  -2.61632608e-03\n",
      "    4.21683269e-01]\n",
      " [  1.03496295e+00   1.45094291e+00   1.35367699e+00  -1.08954711e+00\n",
      "    1.09502970e+00]\n",
      " [ -1.12935808e+00   3.36539040e+00   8.16306135e-01  -1.23718620e+00\n",
      "    1.26039257e-01]]\n"
     ]
    }
   ],
   "source": [
    "print Uf"
   ]
  },
  {
   "cell_type": "code",
   "execution_count": 41,
   "metadata": {
    "collapsed": true
   },
   "outputs": [],
   "source": [
    "Uf_limited = np.zeros_like(CFL)\n",
    "\n",
    "for j in range(5):\n",
    "    for i in range(5):\n",
    "        if CFL[i,j] >= 0:\n",
    "            Uf_limited[i,j] = min( [ max([0,Uf[i,j]]), 1.0*CFL[i,j]] )\n",
    "        else: # U < 0\n",
    "            Uf_limited[i,j] = min( [ max([-1.0*CFL[i,j], Uf[i,j]]), 0 ] )"
   ]
  },
  {
   "cell_type": "code",
   "execution_count": 42,
   "metadata": {
    "collapsed": false
   },
   "outputs": [
    {
     "name": "stdout",
     "output_type": "stream",
     "text": [
      "[[ -7.80461384e-01   1.66234401e+00  -3.68889394e-01   1.11225412e+00\n",
      "    1.99723283e+00]\n",
      " [ -1.06112143e+00   6.65008837e-01  -1.97112276e+00  -3.53902514e-01\n",
      "   -8.32016177e-01]\n",
      " [ -1.46869364e+00   4.93447453e-03   1.29943872e-01  -2.61632608e-03\n",
      "    4.21683269e-01]\n",
      " [  1.03496295e+00   1.45094291e+00   1.35367699e+00  -1.08954711e+00\n",
      "    1.09502970e+00]\n",
      " [ -1.12935808e+00   3.36539040e+00   8.16306135e-01  -1.23718620e+00\n",
      "    1.26039257e-01]]\n"
     ]
    }
   ],
   "source": [
    "print Uf"
   ]
  },
  {
   "cell_type": "code",
   "execution_count": 43,
   "metadata": {
    "collapsed": false
   },
   "outputs": [
    {
     "name": "stdout",
     "output_type": "stream",
     "text": [
      "[[-0.42273195  0.08891318 -0.30134986 -0.41019624  0.21007889]\n",
      " [-0.68022488  0.64590769  0.30939136  0.94322453 -0.72466147]\n",
      " [ 0.87766269 -1.46644229  0.50089301  0.22964166  0.66403735]\n",
      " [ 0.87328908 -0.85639999  0.1983523  -0.32506426 -0.36472375]\n",
      " [-0.9361809   0.12797658 -0.10994567 -0.39484037  1.1583446 ]]\n"
     ]
    }
   ],
   "source": [
    "print CFL"
   ]
  },
  {
   "cell_type": "code",
   "execution_count": 44,
   "metadata": {
    "collapsed": false
   },
   "outputs": [
    {
     "name": "stdout",
     "output_type": "stream",
     "text": [
      "[[ 0.          0.08891318  0.          0.          0.21007889]\n",
      " [ 0.          0.64590769  0.          0.          0.        ]\n",
      " [ 0.          0.          0.12994387  0.          0.42168327]\n",
      " [ 0.87328908  0.          0.1983523   0.          0.        ]\n",
      " [ 0.          0.12797658  0.          0.          0.12603926]]\n"
     ]
    }
   ],
   "source": [
    "print Uf_limited"
   ]
  },
  {
   "cell_type": "code",
   "execution_count": 89,
   "metadata": {
    "collapsed": false,
    "scrolled": true
   },
   "outputs": [
    {
     "name": "stdout",
     "output_type": "stream",
     "text": [
      "CFL_mask is\n",
      "[[-- 0.0889131846012 -- -- 0.210078892558]\n",
      " [-- 0.645907694118 0.309391359321 0.943224534033 --]\n",
      " [0.877662688142 -- 0.500893007928 0.229641660646 0.664037347706]\n",
      " [0.873289079256 -- 0.198352304475 -- --]\n",
      " [-- 0.127976581058 -- -- 1.1583446001]]\n",
      "CFL_final_pos is\n",
      "[[-- 0.0889131846012 -- -- 0.210078892558]\n",
      " [-- 0.645907694118 0.0 0.0 --]\n",
      " [0.0 -- 0.129943872251 0.0 0.421683269459]\n",
      " [0.873289079256 -- 0.198352304475 -- --]\n",
      " [-- 0.127976581058 -- -- 0.1260392567]]\n",
      "CFL_mask after np.logical_not is\n",
      "[[-- 0.0889131846012 -- -- 0.210078892558]\n",
      " [-- 0.645907694118 0.309391359321 0.943224534033 --]\n",
      " [0.877662688142 -- 0.500893007928 0.229641660646 0.664037347706]\n",
      " [0.873289079256 -- 0.198352304475 -- --]\n",
      " [-- 0.127976581058 -- -- 1.1583446001]]\n",
      "CFL_final_neg is\n",
      "[[0.0 -- 0.0 0.0 --]\n",
      " [0.0 -- -- -- 0.0]\n",
      " [-- 0.0 -- -- --]\n",
      " [-- 0.0 -- 0.0 0.0]\n",
      " [0.0 -- 0.0 0.0 --]]\n",
      "the final CFL_final is\n",
      "[[ 0.          0.08891318  0.          0.          0.21007889]\n",
      " [ 0.          0.64590769  0.          0.          0.        ]\n",
      " [ 0.          0.          0.12994387  0.          0.42168327]\n",
      " [ 0.87328908  0.          0.1983523   0.          0.        ]\n",
      " [ 0.          0.12797658  0.          0.          0.12603926]]\n"
     ]
    }
   ],
   "source": [
    "import numpy.ma as ma\n",
    "\n",
    "CFL_masked = ma.array(CFL)\n",
    "CFL_masked[CFL_masked < 0] = ma.masked\n",
    "zeros = ma.zeros(CFL_masked.shape)\n",
    "zeros.mask = CFL_masked.mask\n",
    "\n",
    "print \"CFL_mask is\"\n",
    "print CFL_masked\n",
    "\n",
    "# operating only on positive values\n",
    "CFL_final_pos = ma.minimum(ma.maximum(zeros, Uf), 1.0*CFL)\n",
    "\n",
    "print \"CFL_final_pos is\"\n",
    "print CFL_final_pos\n",
    "\n",
    "# mask positives, keep negatives\n",
    "CFL_masked.mask = np.logical_not(CFL_masked.mask)\n",
    "zeros.mask = CFL_masked.mask\n",
    "\n",
    "print \"CFL_mask after np.logical_not is\"\n",
    "print CFL_mask\n",
    "\n",
    "#operating only on negative values\n",
    "CFL_final_neg = ma.minimum(ma.maximum(-1.0*CFL_masked, Uf), zeros)\n",
    "\n",
    "CFL_final = np.zeros_like(CFL)\n",
    "\n",
    "print \"CFL_final_neg is\"\n",
    "print CFL_final_neg\n",
    "\n",
    "CFL_final = np.where(CFL_final_neg.mask == False, CFL_final_neg.data, CFL_final_pos.data)\n",
    "\n",
    "print \"the final CFL_final is\"\n",
    "print CFL_final"
   ]
  },
  {
   "cell_type": "code",
   "execution_count": 3,
   "metadata": {
    "collapsed": false
   },
   "outputs": [],
   "source": [
    "import numpy as np\n",
    "CFL = np.random.randn(768,1536)\n",
    "Uf = np.random.randn(768,1536)"
   ]
  },
  {
   "cell_type": "code",
   "execution_count": 4,
   "metadata": {
    "collapsed": false
   },
   "outputs": [
    {
     "name": "stdout",
     "output_type": "stream",
     "text": [
      "1 loops, best of 3: 327 ms per loop\n"
     ]
    }
   ],
   "source": [
    "%%timeit\n",
    "import numpy.ma as ma\n",
    "import numpy as np\n",
    "\n",
    "CFL_masked = ma.array(CFL)\n",
    "CFL_masked[CFL_masked < 0] = ma.masked\n",
    "zeros = ma.zeros(CFL_masked.shape)\n",
    "zeros.mask = CFL_masked.mask\n",
    "\n",
    "# operating only on positive values\n",
    "CFL_final_pos = ma.minimum(ma.maximum(zeros, Uf), 1.0*CFL)\n",
    "\n",
    "# mask positives, keep negatives\n",
    "CFL_masked.mask = np.logical_not(CFL_masked.mask)\n",
    "zeros.mask = CFL_masked.mask\n",
    "#operating only on negative values\n",
    "CFL_final_neg = ma.minimum(ma.maximum(-1.0*CFL_masked, Uf), zeros)\n",
    "\n",
    "CFL_final = np.zeros_like(CFL)\n",
    "\n",
    "CFL_final = np.where(CFL_final_neg.mask == False, CFL_final_neg.data, CFL_final_pos.data)"
   ]
  },
  {
   "cell_type": "code",
   "execution_count": 5,
   "metadata": {
    "collapsed": false
   },
   "outputs": [
    {
     "name": "stdout",
     "output_type": "stream",
     "text": [
      "1 loops, best of 3: 4.1 s per loop\n"
     ]
    }
   ],
   "source": [
    "%%timeit \n",
    "Uf_limited = np.zeros_like(CFL)\n",
    "for j in range(CFL.shape[1]):\n",
    "    for i in range(CFL.shape[0]):\n",
    "        if CFL[i,j] >= 0:\n",
    "            Uf_limited[i,j] = min( [ max([0,Uf[i,j]]), 1.0*CFL[i,j]] )\n",
    "        else: # U < 0\n",
    "            Uf_limited[i,j] = min( [ max([-1.0*CFL[i,j], Uf[i,j]]), 0 ] )"
   ]
  },
  {
   "cell_type": "code",
   "execution_count": 107,
   "metadata": {
    "collapsed": false
   },
   "outputs": [
    {
     "data": {
      "text/plain": [
       "8.704"
      ]
     },
     "execution_count": 107,
     "metadata": {},
     "output_type": "execute_result"
    }
   ],
   "source": [
    ".340*1536/60"
   ]
  },
  {
   "cell_type": "code",
   "execution_count": 48,
   "metadata": {
    "collapsed": false
   },
   "outputs": [
    {
     "name": "stdout",
     "output_type": "stream",
     "text": [
      "[[-0.42273195  0.08891318 -0.30134986 -0.41019624  0.21007889]\n",
      " [-0.68022488  0.64590769  0.30939136  0.94322453 -0.72466147]\n",
      " [ 0.87766269 -1.46644229  0.50089301  0.22964166  0.66403735]\n",
      " [ 0.87328908 -0.85639999  0.1983523  -0.32506426 -0.36472375]\n",
      " [-0.9361809   0.12797658 -0.10994567 -0.39484037  1.1583446 ]]\n"
     ]
    }
   ],
   "source": []
  },
  {
   "cell_type": "code",
   "execution_count": 62,
   "metadata": {
    "collapsed": false
   },
   "outputs": [
    {
     "data": {
      "text/plain": [
       "array([ 0, -4,  0,  0, -7,  0,  0])"
      ]
     },
     "execution_count": 62,
     "metadata": {},
     "output_type": "execute_result"
    }
   ],
   "source": [
    "a = np.array([2,-4,5,6,-7,3,3])\n",
    "\n",
    "np.minimum(np.zeros_like(a), a)"
   ]
  },
  {
   "cell_type": "code",
   "execution_count": 12,
   "metadata": {
    "collapsed": true
   },
   "outputs": [],
   "source": [
    "import numpy as np\n",
    "import numpy.ma as ma\n",
    "\n",
    "Uf = np.random.randn(768,1536)\n",
    "f_old = np.random.randn(768,1536)\n",
    "CFLfrac = np.random.randn(768, 1536)\n",
    "\n",
    "Uf_looped = np.zeros_like(Uf)\n",
    "Uf_masked = np.zeros_like(Uf)"
   ]
  },
  {
   "cell_type": "code",
   "execution_count": 19,
   "metadata": {
    "collapsed": false
   },
   "outputs": [
    {
     "name": "stdout",
     "output_type": "stream",
     "text": [
      "1 loops, best of 3: 285 ms per loop\n"
     ]
    }
   ],
   "source": [
    "%%timeit\n",
    "\n",
    "# local masked array (ma) copy of CFL.frac used to leave CFL.frac unchanged\n",
    "Uf_ma = ma.array(CFLfrac)\n",
    "\n",
    "# mask negative values, keep positives\n",
    "Uf_ma[CFLfrac < 0] = ma.masked\n",
    "\n",
    "# assign the mask to a zero matrix of same size for pairwise ma.minimum/maximum operations below\n",
    "zeros = ma.zeros(Uf_ma.shape)\n",
    "zeros.mask = Uf_ma.mask\n",
    "\n",
    "# operating only on positive values\n",
    "Uf_pos = ma.minimum(ma.maximum(zeros, Uf), 1.0*f_old)\n",
    "\n",
    "# mask positives, keep negatives\n",
    "Uf_ma.mask = np.logical_not(Uf_ma.mask)\n",
    "zeros.mask = Uf_ma.mask\n",
    "\n",
    "#operating only on negative values\n",
    "Uf_neg = ma.minimum(ma.maximum(-1.0*f_old, Uf), zeros)\n",
    "\n",
    "# combine masked values in a single matrix Uf_final\n",
    "Uf_masked = np.where(Uf_neg.mask == False, Uf_neg.data, Uf_pos.data)"
   ]
  },
  {
   "cell_type": "code",
   "execution_count": 18,
   "metadata": {
    "collapsed": false
   },
   "outputs": [
    {
     "name": "stdout",
     "output_type": "stream",
     "text": [
      "1 loops, best of 3: 3.85 s per loop\n"
     ]
    }
   ],
   "source": [
    "%%timeit\n",
    "\n",
    "for i in range(768):\n",
    "    for j in range(1536):\n",
    "        if CFLfrac[i,j] >= 0:\n",
    "            Uf_looped[i,j] = min( [ max([0,Uf[i,j]]), 1.0*f_old[i,j]] )\n",
    "        else: # U < 0\n",
    "            Uf_looped[i,j] = min( [ max([-1.0*f_old[i,j], Uf[i,j]]), 0 ] )\n"
   ]
  },
  {
   "cell_type": "code",
   "execution_count": 15,
   "metadata": {
    "collapsed": false
   },
   "outputs": [
    {
     "name": "stdout",
     "output_type": "stream",
     "text": [
      "[[-0.88553308  0.         -1.0370018  ..., -2.7049262   0.71222341  0.        ]\n",
      " [ 0.         -0.46244508  0.         ...,  0.         -0.76610589\n",
      "  -1.01759015]\n",
      " [ 0.          0.          0.         ...,  0.30927549 -0.62269486\n",
      "  -1.38868009]\n",
      " ..., \n",
      " [ 0.          0.          0.         ...,  0.          0.         -1.89634589]\n",
      " [-1.01152627  0.51994309  0.         ..., -1.55360964  0.         -0.38993789]\n",
      " [ 0.          0.         -0.96108724 ...,  0.          0.          0.        ]]\n"
     ]
    }
   ],
   "source": [
    "print Uf_masked"
   ]
  },
  {
   "cell_type": "code",
   "execution_count": 17,
   "metadata": {
    "collapsed": false
   },
   "outputs": [
    {
     "name": "stdout",
     "output_type": "stream",
     "text": [
      "[[ True  True  True ...,  True  True  True]\n",
      " [ True  True  True ...,  True  True  True]\n",
      " [ True  True  True ...,  True  True  True]\n",
      " ..., \n",
      " [ True  True  True ...,  True  True  True]\n",
      " [ True  True  True ...,  True  True  True]\n",
      " [ True  True  True ...,  True  True  True]]\n"
     ]
    }
   ],
   "source": [
    "print Uf_looped == Uf_masked"
   ]
  },
  {
   "cell_type": "code",
   "execution_count": 20,
   "metadata": {
    "collapsed": false
   },
   "outputs": [
    {
     "name": "stdout",
     "output_type": "stream",
     "text": [
      "[[-0.88553308  0.         -1.0370018  ..., -2.7049262   0.71222341  0.        ]\n",
      " [ 0.         -0.46244508  0.         ...,  0.         -0.76610589\n",
      "  -1.01759015]\n",
      " [ 0.          0.          0.         ...,  0.30927549 -0.62269486\n",
      "  -1.38868009]\n",
      " ..., \n",
      " [ 0.          0.          0.         ...,  0.          0.         -1.89634589]\n",
      " [-1.01152627  0.51994309  0.         ..., -1.55360964  0.         -0.38993789]\n",
      " [ 0.          0.         -0.96108724 ...,  0.          0.          0.        ]]\n"
     ]
    }
   ],
   "source": [
    "print Uf_masked"
   ]
  },
  {
   "cell_type": "code",
   "execution_count": 21,
   "metadata": {
    "collapsed": false
   },
   "outputs": [
    {
     "name": "stdout",
     "output_type": "stream",
     "text": [
      "[[-0.88553308  0.         -1.0370018  ..., -2.7049262   0.71222341  0.        ]\n",
      " [ 0.         -0.46244508  0.         ...,  0.         -0.76610589\n",
      "  -1.01759015]\n",
      " [ 0.          0.          0.         ...,  0.30927549 -0.62269486\n",
      "  -1.38868009]\n",
      " ..., \n",
      " [ 0.          0.          0.         ...,  0.          0.         -1.89634589]\n",
      " [-1.01152627  0.51994309  0.         ..., -1.55360964  0.         -0.38993789]\n",
      " [ 0.          0.         -0.96108724 ...,  0.          0.          0.        ]]\n"
     ]
    }
   ],
   "source": [
    "print Uf_looped"
   ]
  },
  {
   "cell_type": "code",
   "execution_count": 22,
   "metadata": {
    "collapsed": false
   },
   "outputs": [
    {
     "name": "stdout",
     "output_type": "stream",
     "text": [
      "[[-2.16224416 -1.52292136 -1.21732665 ...,  0.73707302  1.0666574\n",
      "   0.27822448]\n",
      " [-0.17025956  0.64556053 -2.04819017 ...,  1.06146852 -0.76610589\n",
      "  -1.01759015]\n",
      " [ 0.45099407 -1.06445293  0.53029705 ...,  0.30927549  0.40730623\n",
      "  -1.57517373]\n",
      " ..., \n",
      " [-1.05049694  0.23746652 -0.00552269 ..., -1.16439685 -0.99899952\n",
      "   1.11465052]\n",
      " [ 0.00483184  0.51994309 -0.39519637 ..., -0.8617551   0.621127   -0.2432048 ]\n",
      " [-0.18432247 -1.64188282  0.78446744 ..., -0.7719988   0.65521122\n",
      "   0.40078797]]\n"
     ]
    }
   ],
   "source": [
    "print Uf # before reusing the same for different assignment"
   ]
  },
  {
   "cell_type": "code",
   "execution_count": 23,
   "metadata": {
    "collapsed": true
   },
   "outputs": [],
   "source": [
    "# local masked array (ma) copy of CFL.frac used to leave CFL.frac unchanged\n",
    "Uf_ma = ma.array(CFLfrac)\n",
    "\n",
    "# mask negative values, keep positives\n",
    "Uf_ma[CFLfrac < 0] = ma.masked\n",
    "\n",
    "# assign the mask to a zero matrix of same size for pairwise ma.minimum/maximum operations below\n",
    "zeros = ma.zeros(Uf_ma.shape)\n",
    "zeros.mask = Uf_ma.mask\n",
    "\n",
    "# operating only on positive values\n",
    "Uf_pos = ma.minimum(ma.maximum(zeros, Uf), 1.0*f_old)\n",
    "\n",
    "# mask positives, keep negatives\n",
    "Uf_ma.mask = np.logical_not(Uf_ma.mask)\n",
    "zeros.mask = Uf_ma.mask\n",
    "\n",
    "#operating only on negative values\n",
    "Uf_neg = ma.minimum(ma.maximum(-1.0*f_old, Uf), zeros)\n",
    "\n",
    "# combine masked values in a single matrix Uf_final\n",
    "Uf = np.where(Uf_neg.mask == False, Uf_neg.data, Uf_pos.data)"
   ]
  },
  {
   "cell_type": "code",
   "execution_count": 25,
   "metadata": {
    "collapsed": false
   },
   "outputs": [
    {
     "name": "stdout",
     "output_type": "stream",
     "text": [
      "[[ True  True  True ...,  True  True  True]\n",
      " [ True  True  True ...,  True  True  True]\n",
      " [ True  True  True ...,  True  True  True]\n",
      " ..., \n",
      " [ True  True  True ...,  True  True  True]\n",
      " [ True  True  True ...,  True  True  True]\n",
      " [ True  True  True ...,  True  True  True]]\n"
     ]
    }
   ],
   "source": [
    "print Uf == Uf_masked"
   ]
  },
  {
   "cell_type": "code",
   "execution_count": null,
   "metadata": {
    "collapsed": true
   },
   "outputs": [],
   "source": []
  }
 ],
 "metadata": {
  "kernelspec": {
   "display_name": "Python 2",
   "language": "python",
   "name": "python2"
  },
  "language_info": {
   "codemirror_mode": {
    "name": "ipython",
    "version": 2
   },
   "file_extension": ".py",
   "mimetype": "text/x-python",
   "name": "python",
   "nbconvert_exporter": "python",
   "pygments_lexer": "ipython2",
   "version": "2.7.3"
  }
 },
 "nbformat": 4,
 "nbformat_minor": 0
}

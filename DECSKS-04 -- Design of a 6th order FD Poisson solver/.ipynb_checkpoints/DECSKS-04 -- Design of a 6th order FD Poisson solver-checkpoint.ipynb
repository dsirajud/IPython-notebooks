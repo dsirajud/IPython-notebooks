{
 "cells": [
  {
   "cell_type": "markdown",
   "metadata": {},
   "source": [
    "# Design of a 6th order finite difference Poisson solver"
   ]
  },
  {
   "cell_type": "code",
   "execution_count": 3,
   "metadata": {
    "collapsed": true
   },
   "outputs": [],
   "source": [
    "%reload_ext autoreload \n",
    "%autoreload 2 "
   ]
  },
  {
   "cell_type": "markdown",
   "metadata": {},
   "source": [
    "<font color = \"purple\">The following notation is often used for brevity in the following notebook:\n",
    "\n",
    "<ul>\n",
    "<li> DBC = Dirichlet boundary condition\n",
    "<li> NBC = Neumann boundary condition\n",
    "<li> L = Left, e.g. LNBC = left Neumann boundary condition\n",
    "<li> R = right, e.g. RDBC = right Dirichlet boundary condtion\n",
    "</ul>\n",
    "\n",
    "left means a boundary at $x_0$ where $x_0 < x_1 < x_2 < \\ldots < x_{N-1}$, thus $x_{N-1}$ is a right boundary.</font>"
   ]
  },
  {
   "cell_type": "markdown",
   "metadata": {},
   "source": [
    "# A. Motivation: bounded domains"
   ]
  },
  {
   "cell_type": "markdown",
   "metadata": {},
   "source": [
    "Previously, we have provided a prescription to optimize a deterministic semi-Lagrangian strategem apt for the solution to the parabolic partial differential equation \n",
    "\n",
    "$$\\partial_t g + k\\partial_z g = 0, \\qquad \\qquad k\\in\\mathbb{R}, g = g(t,z)$$ \n",
    "\n",
    "to arbitrary order correctness. This procedure requires adding correction terms to incremental updates which in part depend on the accurate computation of $N-1$ derivatives of the state function $g$ to achieve a solution with a local truncation error (LTE) of order $N+1$. \n",
    "\n",
    "For non-open (closed or semi-open) systems, the boundaries break the periodicity and force our hand to consider alternate forms of computing the derivatives, the most obvious candidate being finite difference schemes. In a previous notebook (\"Generation of families of explicit finite difference schemes for derivatives of any order of chosen LTE\"), the details of obtaining arbitrary order accuracy estimates as explict finite differences for any order derivative with any degree of sidedness (e.g. centered, forward, all forward but one point backward, etc.) were worked through. The conclusions were coded into a series of scripts which compute explicit finite difference coefficient tables for the family of schemes for any derivative for user queried LTEs. In the context of DECSKS, these FD tables are used to compute the high order flux corrections to an evolving density that are employed in the remap step. In <code>DECSKS.lib.read</code> we read in the generated files for this particular application where we sample only on-grid points and do not restrict ourselves to the big three types: forward, centered, or backward differencing, but instead strive for mainintaing as centered a stencil as possible, as these give better representations of the function and thus its derivatives than sampling only one side. That application aside, we can also use the coded scripts to discern FD coefficients for any derivative for stencils of any degree of sidedness for any order of accuracy, which is where we find their use in this notebook as we will require high order finite difference coefficients for various derivatives with varying degrees of sidedness in their stencils.\n",
    "\n",
    "We confess at the outset that we do not have motivation to pursue Poisson solvers of too high order, because finite difference based corrections on DECSKS cannot succeed when we get too high (greater than LTE order 10 or so). That is, recall in the notebook <a href = \"../DECSKS-03%20--%20Convergence%20of%20FD%20formulation%20of%20high%20order%20CS/DECSKS-03%20--Convergence%20of%20FD%20formulation%20of%20high%20order%20CS.ipynb\">Convergence of FD formulation of high order CS</a>. There, our pursuit of higher order was shown to not be achievable after a certain point as edge effects precluded higher accuracy. This was shown convincingly to be a consequence of the finite differenced derivatives being unable to converge near the edges (a consequence of the limited information available when at an edge we difference from one side more than the other). Thus, we note our provisional limit in the phase space remapping assignment is perhaps LTE order $O(\\Delta z^{10})$, $z = \\{x,v\\}$.  \n",
    "\n",
    "When addressing more involved physics (e.g. Vlasov, just below), the accuracy of our solution will <i>not</i> be controlled by the order of the CS solver incidentally, but ultimately by the choice of what is ultimately an expensive and lower order time splitting scheme used in the numerical stepthrough (e.g. time splitting schemes of LTE orders 3, 5, 7 are within the means of serial processing; however, pushing for more accurate schemes is both too intensive at this juncture, and it is unclear what a motivating context or test problem would need higher order), so we are not discouraged in the slightest. What we desire is a phase space remapping of an order $O(\\Delta z^{N+1})$ LTE that is high enough to not further pollute the solution with respect to the limitations of the time splitting procedure, which scales with LTEs of order $O(\\Delta t^3)$, $O(\\Delta t^5)$, $O(\\Delta t^7)$, $\\ldots$. Since the CFL numbers are not constant, there is no obvious relationship between the mesh spacing $\\Delta z$ and the time grid spacing $\\Delta t$. \n",
    "\n",
    "<i>(We also point out to the reader that we never say \"order\" on its own as this is ambiguous and language is used both undiligently and inconsistently in literature (whether an \"order $N$\" method means \"correct up to order $N$\" (LTE order = $N+1$), or if someone means an \"order $N$\" method means the LTE is order $N$). Note, that we always say \"LTE order\" or \"global error of order,\" or some variation in order to specify what it is we are speaking of. In this way, the point of bringing this to the reader's attention is that time splitting literature tends to favor labelling methods as $N$th order if they have an LTE of $N+1$ (i.e. the method is termed with the notion that it is correct <i>up to and including order $N$</i>), which is opposite to the preference in most PDE solver literature (an $N$th order method means the LTE itself is of order $N$, i.e. is correct <i>up to and including order $N-1$</i>). In this way, for the popular time splitting leapfrog scheme, it is often abbreviated as LF2, with mention that it is 2nd order, but this means its LTE is order 3. This is the opposite of how we speak of PDE solvers, e.g. a solver being of \"order\" 3 means the LTE is of order 3 in most publishings. Thus, it should be understood there is no conflict with the above LTEs reported for time splitting, e.g. Yoshida 4, aka Y4, has an LTE order of 5, because the convention used in its definition is just incompatible with the PDE solver literature norm. In order to not rely on the reader to \"know\" this common confusion, we make note that we will always specify LTE or GE (global error) when talking of \"order.\"</i>\n",
    "\n",
    "Moving on from an advection equation, we incorporate an acceleration term $a = a(t,x)$. In a plasma context we first consider only electrostatic interactions for cold ions (uniform background $n_0$ defined according to quasineutrality such that $n_e = n_0$) so that $a \\sim E(t,x) = -\\partial_x \\phi(t,x)$. Hence, we consider the <i>Vlasov-Poisson system</i>:\n",
    "\n",
    "$$\\partial_t f + v\\partial_x f + (\\partial_x\\phi) \\partial_v f = 0$$\n",
    "$${}$$\n",
    "$$\\partial_x^2 \\phi = \\int_v dv f(t,x,v) - n_0$$\n",
    "\n",
    "Note, the units have been normalized (see dsirajud/Preliminary-Examination for details) and we take the case of hyrogenic atoms so that the charges are equal but opposite. At this juncture we do not address collisions but instead include only details pertaining to energy exchanges with the field and field particles. For periodic systems, we have benchmarked CS solutions against a two-stream instability and Landau damping test cases that show agreement among several solvers (DG, Eulerian, ...). The above equation can be solved numerically by time-splitting schemes (e.g. leapfrog).\n",
    "\n",
    "For closed systems, <b>we consider CS at least at an LTE of order 6 given at best we aim to use an RKN time splitting scheme with an LTE of 7 (e.g. O11-6). Thus, in order to retain an LTE overall of order 6, we require a Poisson solver to have an LTE order of 6.</b> The subsequent excursions using these tools will likely investigate lower order time splitters as well (LF2, Y4, O6-4), which is of no further potential consequence from the CS solver or the Poisson solver provided we meet this minimum requirement of order 6. "
   ]
  },
  {
   "cell_type": "markdown",
   "metadata": {},
   "source": [
    "# B. Setup"
   ]
  },
  {
   "cell_type": "markdown",
   "metadata": {},
   "source": [
    "## B.1. Motivation for Poisson vs. Gauss solver:"
   ]
  },
  {
   "cell_type": "markdown",
   "metadata": {},
   "source": [
    "It is inviting to consider Gauss' law instead of Poisson's equation:\n",
    "\n",
    "$$\\partial_x E = n_i - n_e$$\n",
    "\n",
    "The author was in fact very cordially invited by this temptation, in order to fuss with one order of derivative less; however, it was found after much convincing (and time spent) that there is not a way to make a 6th order scheme that produces a unique solution. In other words, the assembled matrix system for the above problem, no matter the choice of finite differences:\n",
    "\n",
    "$$\\underline{\\underline{D}} \\underline{E} = \\underline{N}, \\qquad \\qquad \\underline{N} = \\underline{n}_i - \\underline{n}_e$$\n",
    "\n",
    "The matrix $\\underline{\\underline{D}}$ is always singular in the author's experience, in other words ostensibly no such matrix can be found that is diagonally dominant, or it can be said and shown in every such case that $D^{-1}$ does not exist. Humbly, the author notes this is probably why Poisson solvers are so often the topic of interest without any mention of Gauss law solvers for the equivalent plasma physics context (though does note at least one exception that Gauss solvers find footing in finite different solvers using Yee cells). As will be seen below, a Poisson solver can be designed with an appropriate coefficient matrix which produces unique solutions."
   ]
  },
  {
   "cell_type": "markdown",
   "metadata": {},
   "source": [
    "## B.2. Poisson's equation and grid"
   ]
  },
  {
   "cell_type": "markdown",
   "metadata": {},
   "source": [
    "We consider the 1D elliptic equation:\n",
    "\n",
    "$$\\partial_x^2\\phi = n_e - n_0, \\qquad x\\in [a,b], \\qquad \\phi = \\phi(t,x)$$\n",
    "\n",
    "where\n",
    "\n",
    "$$n_e = n_e(t,x) = \\int_v dv f_{\\alpha}(t,x,v)$$\n",
    "\n",
    "The scalar function $\\phi = \\phi (t,x)$is called the electric potential, whose definition is permitted by restricting the Maxwell equations to cases where the magnetic field is not involved. For our immediate plasma context, we define an electron density, $n_e = n_e(t,x)$ and a constant positive ion density $n_0$ (cold background); the constants $a$ and $b$ are arbitrary. The derivation in section C deal with this case to emphasize the details of the method without encumbering the process with extra terms, the result for non-constant ion density is obtained in exactly the same way as shown below, and the result is quoted for convenience, though the details are saved for the reader as the details only differ by a sign.\n",
    "\n",
    "We approximate the continuous functions with grid functions whose cell-centered values correspond to each $x = x_i$, for $i = 0, 1, \\ldots , N-1$, where Pythonic indexing is used, and we will define the domain as $x_0 = a$, $x_{N-1} = b$, with uniform spacing $\\Delta x = L / (N_x - 1)$ for $N_x$ grid points over the domain of size $L = b - a$."
   ]
  },
  {
   "cell_type": "markdown",
   "metadata": {},
   "source": [
    "# C. Derivation of scheme: Dirichlet boundary conditions"
   ]
  },
  {
   "cell_type": "markdown",
   "metadata": {},
   "source": [
    "## C.1. Strategy"
   ]
  },
  {
   "cell_type": "markdown",
   "metadata": {},
   "source": [
    "The idea is to analytically derive high order estimations of $\\partial_x^2 \\phi (x_i)$ (we suppress the time dependence for brevity) whose finite difference operators sample only points on the grid (we evade employing ghost points to retain a general scheme). The solution to the set of $N$ equations provides the solution to $\\phi$ for all $x_i$, $i = 0, 1, \\ldots , N-1$ to $O(\\Delta x^6)$.\n",
    "\n",
    "The finite derivative estimates of $\\partial_x^2\\phi$ are obtained by straightforward Taylor expansion at a grid point $x_{i + k}, \\, k\\in\\mathbb{Z}$ which necessarily incur a local truncation order that scales with $O(\\Delta x^M)$. This FD estimate was obtained by considering <i>one</i> grid point $x_{i+k}$. In any case, this will yield an LTE that scales with $O(\\Delta x^2)$. In order to make the FD estimate higher order, two options are available here:\n",
    "\n",
    "<ol>\n",
    "<li> <u>If there is no PDE</u>: and we consider the pure math problem of raising the LTE of the second derivative then the only manner in which the FD estimate of $\\partial_x^2\\phi (x_i)$ can be increased to higher order is by considering expanding $\\phi (t, x_{i + k})$ for several other $k\\in\\mathbb{Z}$. Doing so, we develop a set of equations, that upon manipulation we have the latitude needed to eliminate orders by Gaussian elimination. This can be repeated for more points, and the algebra can be done so that higher and higher orders are killed off so that we achieve an overall highier LTE. Necessarily, this expands the stencil $\\{k\\}$ of the FD scheme. Such schemes are called explicit. Alternatively, the same result is obtained in recognition that linear combination of derivatives (expressed in terms of differences among the $\\{\\phi (x_{i+k})\\}$ is ultimately what cancels high order terms. So, rather than astutely manipulate the equations as needed, instead the equivalent problem can be cast as an undetermined coefficients problem \n",
    "\n",
    "$$\\sum_k c_k \\phi(x_{i+k}) = O(\\Delta x^M)$$\n",
    "\n",
    "for a desired order $M$ (e.g. $M = 6$). In this way, we Taylor expand the left-hand sides after this statement has already been assembled, and construct order requirements that each order up to but not including the order $M$ vanish. This produces enough equations to solve for the equations uniquely in the explicit case. A second suboption here is to instead not put all the burden on the function $\\phi$ itself at several grid points, but instead to put weights on the derivative itself \n",
    "\n",
    "$$a\\phi '' (x_{i-1}) + b\\phi '' (x_i) + c\\phi '' (x_{i+1}) = e\\phi (x_{i-1}) + h\\phi (x_i) + \\ell\\phi(x_{i+1})$$ \n",
    "\n",
    "so we expand the right-hand side, and arrive at a set of coupled (on $\\phi ''$) order conditions that require the orders $n < M$ vanish accordingly. Such schemes are hence <i>implicit</i>, and do not generally have unique solutions, but families of solutions by judicious choices of one coefficients ($a, b, c, e, h, \\ell$) which give rise to well-known schemes such as the Padé scheme. Implicit schemes are computational more expensive than explicit, hence we do not consider this at the juncture, though later investigations may provide motivation to return to this issue given restricting the stencil size is a admittedly desirable. Hence, implicit schemes are often called <i>compact</i> because of their potential to restrict the stencil size as compared to explicit schemes.\n",
    "$${}$$\n",
    "\n",
    "<li> <u>If there <i>is</i> a PDE</u>: Rather than resorting to consider increasingly more grid points, we exploit the hand we are given by relating the derivative of $\\phi$ appearing in the truncation term to a lower order derivative on the density $n$ which is related by the PDE itself. Differencing the density then raises the LTE upon substitution. <b>we pursue this strategy</b>\n",
    "</ol>"
   ]
  },
  {
   "cell_type": "markdown",
   "metadata": {},
   "source": [
    "## C.2. Designing the scheme"
   ]
  },
  {
   "cell_type": "markdown",
   "metadata": {},
   "source": [
    "For convenience, we repeat the governing equation evaluated at a grid point $x_i$:\n",
    "\n",
    "$$\\partial_x^2 \\phi_i = n_{e,i} - n_0, \\qquad x\\in [a,b]$$\n",
    "\n",
    "Where the increasing sequence $(x_i)_{i=0}^{N-1} = (a = x_0, x_1, x_2, \\ldots, x_{N-2}, x_{N-1} = b)$ represents centroids for a union of cells $C_i$ that constitute the continuous problem space $x\\in [a,b]$. For $N$ grid points $(x_i)$, $i = 0, 1, 2, \\ldots , N-1$ we require $N$ equations."
   ]
  },
  {
   "cell_type": "markdown",
   "metadata": {},
   "source": [
    "### C.2.1. Boundary conditions: 2 equations\n",
    "\n",
    "For now, we consider Dirichlet boundary conditions: \n",
    "\n",
    "<ol>\n",
    "<li> $\\boxed{\\phi (x_0) \\equiv \\phi_0 = \\phi_a}$\n",
    "<li> $\\boxed{\\phi (x_{N-1}) \\equiv \\phi_{N-1} = \\phi_b}$ are specified.\n",
    "</ol>"
   ]
  },
  {
   "cell_type": "markdown",
   "metadata": {},
   "source": [
    "### C.2.2. Finite difference equations: $N-2$ equations total\n",
    "\n",
    "We derive separate representations for the interior nodes vs. the edge nodes given so that the grid sampling requires only points within the domain itself.\n",
    "\n",
    "An FD approximation for the second derivative is obtained as usual by expanding the function evaluated at the grid points $x_{i\\pm 1} = x_i \\pm 1\\cdot\\Delta x$, where the shorthand is used $\\phi_i \\equiv \\phi (x_i)$, and so on.\n",
    "\n",
    "$$\\phi_{i+1} = \\phi_i + \\Delta x \\phi_i^{(1)} + \\frac{(\\Delta x)^2}{2}\\phi_i^{(2)} + \\frac{(\\Delta x)^3}{3!}\\phi_i^{(3)} + \\frac{(\\Delta x)^4}{4!}\\phi_i^{(4)} + \\frac{(\\Delta x)^5}{5!}\\phi_i^{(5)} + \\ldots$$\n",
    "\n",
    "$$\\phi_{i-1} = \\phi_i - \\Delta x \\phi_i^{(1)} + \\frac{(\\Delta x)^2}{2}\\phi_i^{(2)} - \\frac{(\\Delta x)^3}{3!}\\phi_i^{(3)} + \\frac{(\\Delta x)^4}{4!}\\phi_i^{(4)} - \\frac{(\\Delta x)^5}{5!}\\phi_i^{(5)} + \\ldots$$\n",
    "\n",
    "It is clear the addition of the above two equations kill off the first derivative (and incidentally, all odd order derivatives), which allows us to solve for the second derivative as a function of higher order (even) derivatives:\n",
    "\n",
    "$$\\phi_i^{(2)} = \\frac{1}{(\\Delta x)^2}\\left(\\phi_{i+1} - 2\\phi_i + \\phi_{i-1}\\right) - \\frac{2}{4!}(\\Delta x)^2\\phi_i^{(4)} - \\frac{2}{6!}(\\Delta x)^4\\phi_i^{(6)} + O(\\Delta x^6)$$\n",
    "\n",
    "Note, it is important to keep track of the sign of the terms here in order to properly combine them in subsequent steps. In this way, while we can either obtain from literature or otherwise (e.g. with scripts developed in the notebook <a href = \"https://github.com/dsirajud/IPython-notebooks/blob/master/DECSKS-01%20--%20Generation%20of%20families%20of%20explicit%20finite%20difference%20schemes%20for%20derivatives%20of%20any%20order%20of%20chosen%20LTE/DECSKS-01%20--%20Generation%20of%20families%20of%20explicit%20finite%20difference%20schemes%20for%20derivatives%20of%20any%20order%20of%20chosen%20LTE.ipynb\">DECSKS-01</a> come to know the difference coefficients, deriving this method does require us to know the details of the truncated terms as will be seen shortly, so it is unfortunately necessary to carry out the calculations as literature does not provide all the details we require for our purposes.\n",
    "\n",
    "Inserting the FD derivative above into Poisson's equation, we have:\n",
    "\n",
    "$$\\frac{1}{(\\Delta x)^2}\\left(\\phi_{i+1} - 2\\phi_i + \\phi_{i-1}\\right) = n_{e,i} - n_0 + \\frac{2}{4!}(\\Delta x)^2\\phi_i^{(4)} + \\frac{2}{6!}(\\Delta x)^4\\phi_i^{(6)} + O(\\Delta x^6), \\qquad i\\in\\mathbb{N}_1^{N-2}$$\n",
    "\n",
    "where the differencing already restricts the range of indices allowable (for example, inserting $i = 0$ into the above equation requires knowledge of $\\phi_{i-1} = \\phi_{-1}$). The numerical coefficients (i.e. excepting the factor of $(\\Delta x)^{-2}$) are known as <i><b>finite difference coefficients</b></i>. Our goal is to achieve an LTE of order 6 overall. Rather than attempt to eliminate the derivatives $\\partial_x^4 \\phi$ and $\\partial_x^6 \\phi$ by considering other stencil points, we instead replace the derivatives in terms of derivatives on $n$ which we can express in terms of finite differences of low order (hence a smaller stencil as compared to higher derivatives that directly appear, such as $\\partial_x^4\\phi$ and $\\partial_x^6\\phi$). Since these terms are multiplied by the terms $(\\Delta x)^2$ and $(\\Delta x)^4$, we only require an FD scheme for each term to be accurate up to an LTE of $O(\\Delta x^4)$ and $O(\\Delta x^2)$ so that an effective $O(\\Delta x^6)$ is achieved."
   ]
  },
  {
   "cell_type": "markdown",
   "metadata": {},
   "source": [
    "Hence, we see relate:\n",
    "\n",
    "\\begin{eqnarray*}\n",
    "\\partial_x^2\\phi_i & = & n_{ei} - n_0\\\\[1em]\n",
    "\\Rightarrow \\partial_x^4\\phi_i & = & \\partial_x^2 n_{e,i}, \\qquad n_0 = \\text{const} \\\\[1em]\n",
    "\\Rightarrow \\partial_x^6\\phi_i & = &\\partial_x^4 n_{e,i}\n",
    "\\end{eqnarray*}\n",
    "\n",
    "So, the above equation can be written as:\n",
    "\n",
    "$$\\frac{1}{(\\Delta x)^2}\\left(\\phi_{i+1} - 2\\phi_i + \\phi_{i-1}\\right) = (n_{e,i} - n_0) + \\frac{2}{4!}(\\Delta x)^2n_{e,i}^{(2)} + \\frac{2}{6!}(\\Delta x)^4n_{e,i}^{(4)} + O(\\Delta x^6) \\qquad \\qquad (\\, * \\, )$$"
   ]
  },
  {
   "cell_type": "markdown",
   "metadata": {},
   "source": [
    "We then require finite difference estimations with the LTE order requirements:\n",
    "\n",
    "$$LTE[n_{e,i}^{(2)}] = O(\\Delta x^4)$$\n",
    "\n",
    "and\n",
    "\n",
    "$$LTE[n_{e,i}^{(4)}] = O(\\Delta x^2)$$\n",
    "\n",
    "These schemes be obtained from literature (or otherwise derived or generated via script, cf. notebook \"Generation of families of explicit finite difference schemes for derivatives of any order of chosen LTE\", we elect to pursue this in the \"edge nodes\" subsection that follows). \n",
    "\n",
    "The left-hand side produces $N-2$ equations for $i = 1, 2, \\ldots , N-3, N-2$ that couple the equations with the potential function values ranging the entire domain: from $\\phi_{i-1}|_{i = 1} = \\phi_0$ to $\\phi_{i+1}|_{i = N-2} = \\phi_{N-1}$. The right-hand side now requires differencing in the density function, which for both derivatives, independent of scheme handedness (forward, backward, central), involves a 6-point stencil. Since central differencing are generally more accurate (as observed time and time again), we aim to use central difference inasmuch as possible. For the edge nodes, the central scheme would require knowledge of function values outside the grid, thus forward/backward schemes are required. <b>There are then three versions of eq. (*), which differ only in how the right-hand side is casted (central, forward, or backward differencing)</b>, the following subsections develop these versions."
   ]
  },
  {
   "cell_type": "markdown",
   "metadata": {},
   "source": [
    "### C.2.2.1. interior nodes (central differencing)\n",
    "\n",
    "\n",
    "\\begin{eqnarray*}\n",
    "n_{e,i}^{(2)} & = & \\frac{1}{12(\\Delta x^2)}\\left[-n_{e,i-2} + 16n_{e,i-1} - 30n_{e,i} + 16n_{e,i+1} - n_{e,i+2}\\right] + O(\\Delta x^4)\\\\[1em]\n",
    "n_{e,i}^{(4)} & = & \\frac{1}{(\\Delta x)^4}\\left[n_{e,i-2} - 4n_{e,i-1} + 6n_{e,i} - 4n_{e,i+1} + n_{e,i+2}\\right] + O(\\Delta x^2)\n",
    "\\end{eqnarray*}"
   ]
  },
  {
   "cell_type": "markdown",
   "metadata": {},
   "source": [
    "Substituting these into our current result above:\n",
    "\n",
    "\\begin{eqnarray*}\n",
    "\\frac{1}{(\\Delta x)^2}\\left(\\phi_{i+1} - 2\\phi_i + \\phi_{i-1}\\right) & = & n_{e,i} - n_0\\\\[1em]\n",
    "&& + \\frac{2}{4!}(\\Delta x)^2\\left[\\frac{1}{12(\\Delta x^2)}(-n_{i-2} + 16n_{i-1} - 30n_i + 16n_{i+1} - n_{i+2}) + O(\\Delta x^4)\\right] \\\\[1em]\n",
    "&& + \\frac{2}{6!}(\\Delta x)^4\\left[\\frac{1}{(\\Delta x)^4}(n_{i-2} - 4n_{i-1} + 6n_i - 4n_{i+1} + n_{i+2}) + O(\\Delta x^2)\\right] + O(\\Delta x^6)\n",
    "\\end{eqnarray*}"
   ]
  },
  {
   "cell_type": "markdown",
   "metadata": {},
   "source": [
    "collecting terms,\n",
    "\n",
    "\\begin{eqnarray*}\n",
    "\\frac{1}{(\\Delta x)^2}\\left(\\phi_{i+1} - 2\\phi_i + \\phi_{i-1}\\right) & = & -n_0\\\\[1em]\n",
    "&& + n_{e,i-2}\\left(-\\frac{2}{4!\\,12}(1) + \\frac{2}{6!}(1)\\right) \\\\[1em]\n",
    "&& + n_{e,i-1}\\left(\\frac{2}{4!\\,12}(16) - \\frac{2}{6!}(4)\\right) \\\\[1em]\n",
    "&& + n_{e,i}\\left(-\\frac{2}{4!\\,12}(30) + \\frac{2}{6!}(6) + 1\\right) \\\\[1em]\n",
    "&& + n_{e,i+1}\\left(\\frac{2}{4!\\,12}(16) - \\frac{2}{6!}(4)\\right) \\\\[1em]\n",
    "&& + n_{e,i+2}\\left(-\\frac{2}{4!\\,12}(1) + \\frac{2}{6!}(1)\\right) + O(\\Delta x^6)\n",
    "\\end{eqnarray*}"
   ]
  },
  {
   "cell_type": "markdown",
   "metadata": {},
   "source": [
    "or\n",
    "\n",
    "$$\\boxed{\\frac{1}{(\\Delta x)^2}\\left(\\phi_{i+1} - 2\\phi_i + \\phi_{i-1}\\right) = -n_0 - \\frac{1}{240}n_{e,i-2} + \\frac{1}{10}n_{e,i-1} + \\frac{97}{120}n_{e,i} + \\frac{1}{10}n_{e,i+1} - \\frac{1}{240}n_{e,i+2} + O(\\Delta x^6)}$$\n",
    "\n",
    "$$\\underline{\\text{interior nodes equations}}: \\quad i = 2, 3, \\ldots, N-4, N-3$$\n",
    "\n",
    "Where again, the restriction of the grid index is noted so that these equations do not require knowledge of any outside points. Thus, we have $N-4$ equations, 2 Dirichlet boundary conditions ($\\phi_0 = \\phi_a, \\, \\phi_{N-1} = \\phi_b$), totalling $N-2$ equations in $N$ unknowns. The two missing equations are the edge versions at $i = 1$, where the left-hand side requires use of $\\phi_{i-1} = \\phi_0$ and $i = N-2$ which involves $\\phi_{i+1} = \\phi_{N-1}$. This amounts to developing a consistent formulation for the right-hand side.\n",
    "\n",
    "We proceed in the same way but consider forward (backward) differencing for the left (right) edge grid points."
   ]
  },
  {
   "cell_type": "markdown",
   "metadata": {},
   "source": [
    "#### C.2.2.2. Left-edge node ('forward-1' differencing)\n",
    "\n",
    "Considering eq. (*) is valid for $i = 1, 2, \\ldots, N-2$, the left-edge node corresponds to $i = 1$ where the value $\\phi_{i-1} = \\phi_0$ is involved. Thus, for the differencing of $n$ we require using a 'forward-1' scheme, which samples grid points totally forward of the point $i = 1$ and one backward $i = 0$ (hence the nomenclature which has been used in previous in notebooks in abbreviated form (i.e. equivalent to 'forward 1'). We use the following script to generate the family of schemes required for the requisite LTE on $n$ (recall we require $LTE[n_{e,i}^{(2)} = O(\\Delta x^4)$ and $LTE[n_{e,i}^{(4)}] = O(\\Delta x^2)$)"
   ]
  },
  {
   "cell_type": "code",
   "execution_count": 1,
   "metadata": {
    "collapsed": false
   },
   "outputs": [
    {
     "name": "stdout",
     "output_type": "stream",
     "text": [
      "/home/dsirajud/Work/IPython-notebooks/DECSKS-04 -- Design of a 6th order FD Poisson solver/pyfiles/bin\n"
     ]
    }
   ],
   "source": [
    "cd pyfiles/bin/"
   ]
  },
  {
   "cell_type": "code",
   "execution_count": 2,
   "metadata": {
    "collapsed": false
   },
   "outputs": [],
   "source": [
    "import generate_tables_of_finite_difference_schemes_for_a_given_LTE\n",
    "\n",
    "generate_tables_of_finite_difference_schemes_for_a_given_LTE.main(dn = 2, LTE = 4)\n",
    "generate_tables_of_finite_difference_schemes_for_a_given_LTE.main(dn = 4, LTE = 2)"
   ]
  },
  {
   "cell_type": "markdown",
   "metadata": {},
   "source": [
    "These produce the files 'f2_LTE_4_FD_coefficients.dat', and 'f4_LTE_2_FD_coefficients.dat'. Viewing the files, which contain all schemes for all degrees of handedness for the specified derivative order and LTE, we report the forward 1 difference as outputted (note, will likely not be viewed with the given table formatting on static snapshots of this notebook, e.g. nbviewer gists. The curious reader is invited to run the notebook on github dsirajud/IPython-notebooks/Design of ....) and view the files for themselves for verification, or otherwise view the outputs contained within ./pyfiles/etc/ ."
   ]
  },
  {
   "cell_type": "markdown",
   "metadata": {},
   "source": [
    "    -------------------------\n",
    "    f^(2): forward 1\n",
    "    -------------------------\n",
    "    (weights, stencil)\n",
    "    0.83333, -1\n",
    "    -1.25000,  0\n",
    "    -0.33333,  1\n",
    "    1.16667,  2\n",
    "    -0.50000,  3\n",
    "    0.08333,  4\n",
    "    -------------------------"
   ]
  },
  {
   "cell_type": "markdown",
   "metadata": {},
   "source": [
    "    -------------------------\n",
    "    f^(4): forward 1\n",
    "    -------------------------\n",
    "    (weights, stencil)\n",
    "    2.00000, -1\n",
    "    -9.00000,  0\n",
    "    16.00000,  1\n",
    "    -14.00000,  2\n",
    "    6.00000,  3\n",
    "    -1.00000,  4\n",
    "    -------------------------"
   ]
  },
  {
   "cell_type": "markdown",
   "metadata": {},
   "source": [
    "Thus, we record the following schemes where we use the decimal representations outputted above whereafter we case these same numbers using the exact rational representations (the output above is truncated, we typically have access to 22 decimal places, which is sufficient to confidently converge on the exact fraction these numbers correspond to eitheir by inspection or through more intelligent engine lookup (e.g. Wolfram alpha). Also, for those obtainable in literature, we have tripled checked the rational representations are appropriate, though typically these schemes are not as available in literature as their pure forms (forward 0 scheme, etc.).\n",
    "\n",
    "$$n_{e,i}^{(2)} = \\frac{1}{(\\Delta x)^2}[ (0.833\\ldots ) n_{e,i-1} - 1.25 n_{e,i} - 0.\\bar{3} n_{e,i+1} + 1.1\\bar{6}n_{e,i+2} - 0.5n_{e,i+3} + 0.08\\bar{3}n_{e,i+4}] + O(\\Delta x^4)$$\n",
    "\n",
    "or,\n",
    "\n",
    "$$n_{e,i}^{(2)} = \\frac{1}{(\\Delta x)^2}\\left(\\frac{5}{6}n_{e,i-1} - \\frac{5}{4}n_{e,i} - \\frac{1}{3}n_{e,i+1} + 1.1\\bar{6}n_{e,i+2} - \\frac{1}{2}n_{e,i+3} + \\frac{1}{12}\\bar{3}n_{e,i+4}\\right) + O(\\Delta x^4)$$\n",
    "\n",
    "and, for the fourth derivative\n",
    "\n",
    "$$n_{e,i}^{(4)} = \\frac{1}{(\\Delta x)^4}(2n_{e,i-1} - 9 n_{e,i} + 16n_{e,i+1} - 14n_{e,i+2} + 6n_{e,i+3} - n_{e,i+4}) + O(\\Delta x^4)$$\n",
    "\n",
    "Inserting these into eq. (*) and letting $i = 1$, we develop its left-edge node version, correct to an LTE order of 6:\n",
    "\n",
    "\\begin{eqnarray*}\n",
    "\\frac{1}{(\\Delta x)^2}(\\phi_2 - 2\\phi_1 + \\phi_0) & = & n_{e,1}- n_0 \\\\[1em]\n",
    "&& + \\frac{2}{4!}\\left(\\frac{5}{6}n_{e,i-1} - \\frac{5}{4}n_{e,i} - \\frac{1}{3}n_{e,i+1} + 1.1\\bar{6}n_{e,i+2} - \\frac{1}{2}n_{e,i+3} + \\frac{1}{12}\\bar{3}n_{e,i+4}\\right) \\\\[1em]\n",
    "&& + \\frac{2}{6!}(2n_{e,i-1} - 9 n_{e,i} + 16n_{e,i+1} - 14n_{e,i+2} + 6n_{e,i+3} - n_{e,i+4}) + O(\\Delta x^6) \\\\[1.5em]\n",
    "& = & -n_0 \\\\[1em]\n",
    "& & + n_{e,0}\\left[\\frac{2}{4!}\\left(\\frac{5}{6}\\right) + \\frac{2}{6!}(2)\\right] \\\\[1em]\n",
    "& & + n_{e,1}\\left[1 + \\frac{2}{4!}\\left(-\\frac{5}{4}\\right) + \\frac{2}{6!}(-9)\\right] \\\\[1em]\n",
    "& & + n_{e,2}\\left[\\frac{2}{4!}\\left(-\\frac{1}{3}\\right) + \\frac{2}{6!}(16)\\right] \\\\[1em]\n",
    "& & + n_{e,3}\\left[\\frac{2}{4!}(1.1\\bar{6}) + \\frac{2}{6!}(-14)\\right] \\\\[1em]\n",
    "& & + n_{e,4}\\left[\\frac{2}{4!}\\left(-\\frac{1}{2}\\right) + \\frac{2}{6!}(6)\\right] \\\\[1em]\n",
    "& & + n_{e,5}\\left(\\frac{2}{4!}\\left(\\frac{1}{12}\\right) + \\frac{2}{6!}(-1)\\right] \\\\[1em]\n",
    "& & + O(\\Delta x^6)\n",
    "\\end{eqnarray*}\n",
    "\n",
    "or,\n",
    "\n",
    "$$\\boxed{\\frac{1}{(\\Delta x)^2}(\\phi_2 - 2\\phi_1 + \\phi_0) = -n_0 + \\frac{3}{40}n_{e,0} + \\frac{209}{240}n_{e,1} + \\frac{1}{60}n_{e,2} + \\frac{7}{120}n_{e,3} - \\frac{1}{40}n_{e,4} + \\frac{1}{240}n_{e,5} + O(\\Delta x^6)}$$\n",
    "\n",
    "$$\\underline{\\text{left-edge node equation}}$$\n"
   ]
  },
  {
   "cell_type": "markdown",
   "metadata": {},
   "source": [
    "#### C.2.2.3. Right-edge node ('backward+1' differencing)\n",
    "\n",
    "We now consider $i = N-2$ in eq. (*), which requires 'backward+1' schemes for the same derivatives. Reading the generated tables, we record the following difference coefficients for the relevant schemes needed:"
   ]
  },
  {
   "cell_type": "markdown",
   "metadata": {},
   "source": [
    "    -------------------------\n",
    "    f^(2): backward 1\n",
    "    -------------------------\n",
    "    (weights, stencil)\n",
    "    0.08333, -4\n",
    "    -0.50000, -3\n",
    "    1.16667, -2\n",
    "    -0.33333, -1\n",
    "    -1.25000,  0\n",
    "    0.83333,  1\n",
    "    -------------------------\n",
    "    \n",
    "    -------------------------\n",
    "    f^(4): backward 1\n",
    "    -------------------------\n",
    "    (weights, stencil)\n",
    "    -1.00000, -4\n",
    "    6.00000, -3\n",
    "    -14.00000, -2\n",
    "    16.00000, -1\n",
    "    -9.00000,  0\n",
    "    2.00000,  1\n",
    "    -------------------------"
   ]
  },
  {
   "cell_type": "markdown",
   "metadata": {},
   "source": [
    "Note, these are the same weights as in the forward scheme (this trend is true for all even number derivatives, for odd derivatives the weights can be seen to always be equal but opposite). Thus, we skip the decimal transcription and skip to the rational representations as above. Thus, relevant for $i = N-2$, we have:\n",
    "\n",
    "$$n_{e,i}^{(2)} = \\frac{1}{(\\Delta x)^2}\\left(\\frac{5}{6}n_{e,i+1} - \\frac{5}{4}n_{e,i} - \\frac{1}{3}n_{e,i-1} + 1.1\\bar{6}n_{e,i-2} - \\frac{1}{2}n_{e,i-3} + \\frac{1}{12}\\bar{3}n_{e,i-4}\\right) + O(\\Delta x^4)$$\n",
    "\n",
    "and, for the fourth derivative\n",
    "\n",
    "$$n_{e,i}^{(4)} = \\frac{1}{(\\Delta x)^4}(2n_{e,i+1} - 9 n_{e,i} + 16n_{e,i-1} - 14n_{e,i-2} + 6n_{e,i-3} - n_{e,i-4}) + O(\\Delta x^4)$$\n",
    "\n",
    "Inserting these into eq. (*), and writing $i = N-2$:\n",
    "\n",
    "\\begin{eqnarray*}\n",
    "\\frac{1}{(\\Delta x)^2}(\\phi_{N-1} - 2\\phi_{N-2} + \\phi_{N-3}) & = & n_{e,N-2}- n_0 \\\\[1em]\n",
    "&& + \\frac{2}{4!}\\left(\\frac{5}{6}n_{e,N-1} - \\frac{5}{4}n_{e,N-2} - \\frac{1}{3}n_{e,N-3} + 1.1\\bar{6}n_{e,N-4} - \\frac{1}{2}n_{e,N-5} + \\frac{1}{12}\\bar{3}n_{e,N-6}\\right) \\\\[1em]\n",
    "&& + \\frac{2}{6!}(2n_{e,N-1} - 9 n_{e,N-2} + 16n_{e,N-3} - 14n_{e,N-4} + 6n_{e,N-5} - n_{e,N-6}) + O(\\Delta x^6) \\\\[1.5em]\n",
    "& = & -n_0 \\\\[1em]\n",
    "& & + n_{e,N-1}\\left[\\frac{2}{4!}\\left(\\frac{5}{6}\\right) + \\frac{2}{6!}(2)\\right] \\\\[1em]\n",
    "& & + n_{e,N-2}\\left[1 + \\frac{2}{4!}\\left(-\\frac{5}{4}\\right) + \\frac{2}{6!}(-9)\\right] \\\\[1em]\n",
    "& & + n_{e,N-3}\\left[\\frac{2}{4!}\\left(-\\frac{1}{3}\\right) + \\frac{2}{6!}(16)\\right] \\\\[1em]\n",
    "& & + n_{e,N-4}\\left[\\frac{2}{4!}(1.1\\bar{6}) + \\frac{2}{6!}(-14)\\right] \\\\[1em]\n",
    "& & + n_{e,N-5}\\left[\\frac{2}{4!}\\left(-\\frac{1}{2}\\right) + \\frac{2}{6!}(6)\\right] \\\\[1em]\n",
    "& & + n_{e,N-6}\\left(\\frac{2}{4!}\\left(\\frac{1}{12}\\right) + \\frac{2}{6!}(-1)\\right] \\\\[1em]\n",
    "& & + O(\\Delta x^6)\n",
    "\\end{eqnarray*}\n",
    "\n",
    "or,\n",
    "\n",
    "$$\\boxed{\\frac{1}{(\\Delta x)^2}(\\phi_{N-1} - 2\\phi_{N-2} + \\phi_{N-3}) = -n_0 + \\frac{1}{240}n_{e,N-6} - \\frac{1}{40}n_{e,N-5}  + \\frac{1}{60}n_{e,N-3} + \\frac{7}{120}n_{e,N-4} + \\frac{209}{240}n_{e,N-2} + \\frac{3}{40}n_{e,N-1} + O(\\Delta x^6)}$$\n",
    "\n",
    "$$\\underline{\\text{right-edge node equation}}$$\n",
    "\n",
    "We note these coefficients are the same as obtained for the other boundary, but are flipped in order."
   ]
  },
  {
   "cell_type": "markdown",
   "metadata": {},
   "source": [
    "## C.3. Assembling the matrix equation for Dirichlet boundary conditions"
   ]
  },
  {
   "cell_type": "markdown",
   "metadata": {},
   "source": [
    "With the $N-2$ finite difference equations + 2 boundary conditions that are known a priori, we write several equations for various indices $i$ in order to clearly see the matrix take form, where for $i = 1$ ($i = N-2$) we use the left (right) edge versions of the FD equations, and for $i\\in [2, N-3]$ we use the central differencing equation. <b>We factor out $(\\Delta x)^{-2}$ on the left-hand side here since almost every row has such a factor not shown below. We do this for convenience and clean communication, also to limit the number of times the same term must appear</b>:\n",
    "\n",
    "\\begin{eqnarray*}\n",
    "i = 0: & (\\Delta x)^2 \\phi_0& = \\phantom{-}\\phi_a \\\\[1em]\n",
    "i = 1: & \\phi_0 -2\\phi_1 + \\phi_2 & = -n_0 + \\frac{3}{40}n_{e,0} + \\frac{209}{240}n_{e,1} + \\frac{1}{60}n_{e,2} + \\frac{7}{120}n_{e,3} - \\frac{1}{40}n_{e,4} + \\frac{1}{240}n_{e,5} \\\\[1em]\n",
    "i = 2: & \\phi_1 -2\\phi_2 + \\phi_3 & = -n_0 - \\frac{1}{240}n_{e,0} + \\frac{1}{10}n_{e,1} + \\frac{97}{120}n_{e,2} + \\frac{1}{10}n_{e,3} - \\frac{1}{240}n_{e,4} \\\\[1em]\n",
    "i = 3: & \\phi_2 -2\\phi_3 + \\phi_4 & = -n_0 - \\frac{1}{240}n_{e,1} + \\frac{1}{10}n_{e,2} + \\frac{97}{120}n_{e,3} + \\frac{1}{10}n_{e,4} - \\frac{1}{240}n_{e,5} \\\\[2em]\n",
    "\\vdots \\\\[2em]\n",
    "i = N-4: & \\phi_{N-5} -2\\phi_{N-4} + \\phi_{N-3} & = -n_0 - \\frac{1}{240}n_{e,N-6} + \\frac{1}{10}n_{e,N-5} + \\frac{97}{120}n_{e,N-4} + \\frac{1}{10}n_{e,N-3} - \\frac{1}{240}n_{e,N-2} \\\\[1em]\n",
    "i = N-3: & \\phi_{N-4} -2\\phi_{N-3} + \\phi_{N-2} & = -n_0 - \\frac{1}{240}n_{e,N-5} + \\frac{1}{10}n_{e,N-4} + \\frac{97}{120}n_{e,N-3} + \\frac{1}{10}n_{e,N-2} - \\frac{1}{240}n_{e,N-1} \\\\[1em]\n",
    "i = N - 2: & \\phi_{N-3} - 2\\phi_{N-2} + \\phi_{N-1} & = -n_0 + \\frac{1}{240}n_{e,N-6} - \\frac{1}{40}n_{e,N-5} + \\frac{7}{120}n_{e,N-4} + \\frac{1}{60}n_{e,N-3} + \\frac{209}{240}n_{e,N-2} + \\frac{3}{40}n_{e,N-1} \\\\[1em]\n",
    "i = N-1: & (\\Delta x)^2\\phi_{N-1} & = \\phantom{-}\\phi_b\n",
    "\\end{eqnarray*}\n",
    "\n",
    "For example, the top equation is actually \n",
    "\n",
    "$$\\text{row } i = 0: \\quad (\\Delta x)^{-2}[ (\\Delta x)^2 \\phi_0 ]= \\phi_a \\quad \\text{or} \\quad \\phi_0 = \\phi_a, \\qquad \\text{Dirichlet condition at } x = x_0$$\n",
    "\n",
    "The second equation is actually \n",
    "\n",
    "$$\\text{row } i = 1: \\quad(\\Delta x)^{-2}[\\phi_0 -2\\phi_1 + \\phi_2]  = -n_0 + \\frac{3}{40}n_{e,0} + \\frac{209}{240}n_{e,1} + \\frac{1}{60}n_{e,2} + \\frac{7}{120}n_{e,3} - \\frac{1}{40}n_{e,4} + \\frac{1}{240}n_{e,5}$$\n",
    "\n",
    "and so on. The final equation is \n",
    "\n",
    "$$\\text{row } i = N-1: \\quad(\\Delta x)^{-2}[ (\\Delta x)^2 \\phi_{N-1} ]= \\phi_b \\quad \\text{or} \\quad \\phi_{N-1} = \\phi_b, \\qquad \\text{the Dirichlet boundary condition at } x = x_{N-1}$$\n",
    "\n",
    "That is, we are aiming to write a matrix equation as:"
   ]
  },
  {
   "cell_type": "markdown",
   "metadata": {},
   "source": [
    "$$\\partial_x^2\\phi = n_e - n_0 \\qquad \\longrightarrow \\qquad \\frac{1}{(\\Delta x)^2}\\underline{\\underline{D}}\\underline{\\phi} = \\underline{b} \\quad \\text{ or } \\quad \\underline{\\underline{D}}\\underline{\\phi} = (\\Delta x)^2\\underline{b}$$"
   ]
  },
  {
   "cell_type": "markdown",
   "metadata": {},
   "source": [
    "where the differencing matrix $\\underline{\\underline{D}}$ (LH = \"left-hand\"),\n",
    "\n",
    "$$\\underline{\\underline{D}} = \\underline{\\underline{D}}_{N\\times N} = \\left( \\begin{array}{c}\n",
    "i = 0: \\, \\text{Dirichlet BC at } x = x_0 \\text{ LH coefficient: } (\\Delta x)^2\\cdot\\phi_0 \\\\\n",
    "i = 1: \\, \\text{central differencing FD coefficients on  } \\{\\phi_i\\} \\\\\n",
    "i = 2: \\, \\text{central differencing FD coefficients on  } \\{\\phi_i\\} \\\\\n",
    "i = 3: \\, \\text{central differencing FD coefficients on  } \\{\\phi_i\\} \\\\\n",
    "\\vdots \\\\\n",
    "\\vdots \\\\\n",
    "\\vdots \\\\\n",
    "i = N-3: \\, \\text{central differencing FD coefficients on  } \\{\\phi_i\\} \\\\\n",
    "i = N-2: \\, \\text{central differencing FD coefficients on  } \\{\\phi_i\\} \\\\\n",
    "i = N-1: \\, \\text{Dirichlet BC at } x = x_{N-1} \\text{ LH coefficient at: } (\\Delta x)^2\\cdot\\phi_{N-1}\n",
    "\\end{array} \\right)\n",
    "= \\left( \\begin{array}{c c c c c c c c c}\n",
    "(\\Delta x)^2 & 0 & 0 & \\cdots & \\cdots & \\cdots & \\cdots & \\cdots & \\cdots & 0 \\\\\n",
    "1 & -2 & 1 & 0 & \\cdots & \\cdots & \\cdots & \\cdots  & \\cdots & 0 \\\\\n",
    "0 & 1 & -2 & 1 & 0 & \\cdots & \\cdots & \\cdots &  \\cdots & 0 \\\\\n",
    "0 & 0 & 1 & -2 & 1 & 0 & \\cdots & \\cdots & \\cdots & 0\\\\\n",
    "\\vdots & \\vdots & 0 & \\ddots & \\ddots & \\ddots & 0 & \\cdots & \\cdots & 0\\\\\n",
    "\\vdots & \\vdots & \\vdots & 0 & \\ddots & \\ddots & \\ddots & 0 & \\cdots & 0\\\\\n",
    "\\vdots & \\vdots & \\vdots & \\vdots & 0 & \\ddots & \\ddots & \\ddots & 0 & 0 \\\\\n",
    "\\vdots & \\vdots & \\vdots & \\vdots & \\vdots & 0 & 1 & -2 & 1 & 0 \\\\\n",
    "\\vdots & \\vdots & \\vdots & \\vdots & \\vdots & \\vdots & 0 & 1 & -2 & 1 \\\\\n",
    "0 & 0 & 0 & 0 & 0 & 0 & 0 & 0 & 0 & (\\Delta x)^2 \n",
    "\\end{array} \\right)$$"
   ]
  },
  {
   "cell_type": "markdown",
   "metadata": {},
   "source": [
    "The unknown potential vector $\\underline{\\phi}$:\n",
    "\n",
    "$$\\underline{\\phi} = \\underline{\\phi}_{N\\times 1} = (\\phi_0, \\phi_1, \\ldots , \\phi_{N-2}, \\phi_{N-1})^T$$\n",
    "\n",
    "and the vector $\\underline{b}$ on the right-hand side we choose to write as:\n",
    "\n",
    "$$\\underline{b} = (\\underline{\\underline{B}}_e\\underline{n}_e - \\underline{n}_0) + \\underline{\\phi}_{DBC}$$\n",
    "\n",
    "where the auxillary vector $\\underline{\\phi}_{DBC}$ is a 1D vector whose only nonzero entries are at the boundaries $i = 0$ and $i = N-1$, i.e. it is a vector that factors in the boundary conditions. Thus, we have\n",
    "\n",
    "$$\\underline{\\phi}_{DBC} = \\underline{\\phi}_{DBC,N\\times 1} = (\\phi_a, 0, 0, \\ldots, 0, 0, \\phi_b)^T$$\n",
    "\n",
    "The densities:\n",
    "\n",
    "$$\\underline{n}_0 = (0, n_0, n_0, n_0, \\ldots n_0, n_0, 0)_{N\\times 1}$$\n",
    "\n",
    "$$\\underline{n}_e = \\underline{n}_{e,N\\times 1} = (n_{e,0}, n_{e,1}, \\ldots , n_{e,N-2}, n_{e,N-1})^T$$\n",
    "\n",
    "We explain the background density $\\underline{n}_0$ having zeros in the first and final rows in the next paragraph. The matrix $\\underline{\\underline{B}}_e$ has the coefficients as defined above at different grid function values of the density $n_e$. Recall that above, the factors of $(\\Delta x)^s$ $s\\in\\mathbb{N}$ cancelled in the algebra on the $n_e$ terms, thus this matrix contains the rational number coefficients recorded just above.\n",
    "\n",
    "Recall further, that the differencing on the density functions is for rows $i = 1$ to $i = N-2$, these correspond to the differencing on the left-hand side of Poisson's eqwuation for $\\phi_1$ to $\\phi_{N-2}$. The first row ($i = 0$) is the Dirichlet BC, as is the final row $i = N-1$, which are statements like $\\phi_0 = a$ and $\\phi_{N-1} = b$, i.e. independent of density. Thus, in the $i = 0$ and $i = N-1$ rows of the matrix $\\underline{\\underline{B}}_e$ can be set to rows of zeros in order to nix all density terms, and along with the same entries set to zero in the background density $\\underline{n}_0$, we have the resulting equation is $\\phi_0 = \\phi_{DBC,0} = a$ and so on for the final row."
   ]
  },
  {
   "cell_type": "markdown",
   "metadata": {},
   "source": [
    "$$\\underline{\\underline{B}}_e = \\underline{\\underline{B}}_{e,N\\times N} = \\left( \\begin{array}{c}\n",
    "i = 0: \\, \\text{Dirichlet BC equation: } n_e \\text{ not involved} \\ldots = \\underline{0} \\\\\n",
    "i = 1: \\, \\text{left-edge node FD coefficients on } \\{n_{e,j}\\}\\\\\n",
    "i = 2: \\, \\text{interior nodes FD coefficients on }  \\{n_{e,j}\\} \\\\\n",
    "i = 3: \\, \\text{interior nodes FD coefficients on }  \\{n_{e,j}\\} \\\\\n",
    "\\vdots \\\\\n",
    "\\vdots \\\\\n",
    "\\vdots \\\\\n",
    "i = N-3: \\, \\text{interior nodes FD coefficients on }  \\{n_{e,j}\\} \\\\\n",
    "i = N-2: \\, \\text{right-edge node FD coefficients on }  \\{n_{e,j}\\} \\\\\n",
    "i = N-1: \\, \\text{Dirichlet BC equation: } n_e \\text{ not involved} \\ldots = \\underline{0}\n",
    "\\end{array} \\right)\n",
    "$$\n",
    "\n",
    "so"
   ]
  },
  {
   "cell_type": "markdown",
   "metadata": {},
   "source": [
    "$$\\underline{\\underline{B}}_e = \\left( \\begin{array}{c c c c c c c c c c c c c c}\n",
    "0 &  0 &  0 &  0 &  0 &  0 &  0 &  \\cdots &  \\cdots & \\cdots & 0\\\\\n",
    "\\frac{3}{40} & \\frac{209}{240} & \\frac{1}{60} & \\frac{7}{120} & -\\frac{1}{40} & \\frac{1}{240} & 0 & \\cdots & \\cdots & \\cdots & 0\\\\\n",
    "-\\frac{1}{240} & \\frac{1}{10} & \\frac{97}{120} & \\frac{1}{10} & -\\frac{1}{240} & 0 & 0 & \\cdots & \\cdots & \\cdots & 0 \\\\\n",
    " 0 & -\\frac{1}{240} & \\frac{1}{10} & \\frac{97}{120} & \\frac{1}{10} & -\\frac{1}{240} & 0 & \\cdots & \\cdots & \\cdots & 0 \\\\\n",
    "0 & \\ddots & \\ddots & \\ddots & \\ddots & \\ddots & \\ddots & \\ddots & 0 & 0 & 0 \\\\\n",
    "\\vdots & 0  & \\ddots  & \\ddots & \\ddots & \\ddots & \\ddots & \\ddots & \\ddots & 0 & 0\\\\\n",
    "\\vdots & \\vdots & 0 & \\ddots & \\ddots & \\ddots & \\ddots & \\ddots & \\ddots & \\ddots & 0\\\\\n",
    "\\vdots & \\vdots & \\vdots & 0 & \\ddots & -\\frac{1}{240} & \\frac{1}{10} & \\frac{97}{120} & \\frac{1}{10} & -\\frac{1}{240} & 0\\\\\n",
    "\\vdots & \\vdots & \\vdots & \\vdots & 0 &  0 &  -\\frac{1}{240} & \\frac{1}{10} & \\frac{97}{120} & \\frac{1}{10} & -\\frac{1}{240} \\\\\n",
    "\\vdots & \\vdots & \\vdots & \\vdots & 0 & \\frac{1}{240} & -\\frac{1}{40} & \\frac{7}{120} & \\frac{1}{60} & \\frac{209}{240} & \\frac{3}{40} \\\\\n",
    "0 & 0 & 0 & 0 & 0 &  0&   0 &  0 &  0  &  0 &  0\\\\\n",
    "\\end{array} \\right)$$"
   ]
  },
  {
   "cell_type": "markdown",
   "metadata": {},
   "source": [
    "Thus, given this setup,\n",
    "\n",
    "$$\\underline{\\underline{D}}\\underline{\\phi} = (\\Delta x)^2\\underline{b} \\quad \\longrightarrow \\quad \\underline{\\underline{D}}\\underline{\\phi}  = (\\Delta x)^2 [(\\underline{\\underline{B}}_e\\underline{n}_e - \\underline{n}_0) + \\underline{\\phi}_{DBC}]$$\n",
    "\n",
    "the $i = 0$ row is\n",
    "\n",
    "$$(\\Delta x)^2\\phi_0 = (\\Delta x)^2 a \\quad \\Rightarrow \\quad \\Rightarrow \\phi_0 = a$$\n",
    "\n",
    "the $i = N-1$ row is\n",
    "\n",
    "$$(\\Delta x)^2\\phi_{N-1} = (\\Delta x)^2 b \\quad \\Rightarrow \\quad \\Rightarrow \\phi_{N-1} = b$$\n",
    "\n",
    "which are the Dirichlet BC equations. This was the point of disengaging the densisty vector from entering these equations. It also permits us to, if we like, remove the terms of $(\\Delta x)^2$ from the matrix $i = 0$ and $i = N-1$ rows of both $\\underline{\\underline{D}}$ and $(\\Delta x)^2 \\underline{\\phi}_{DBC}$, so that we can write\n",
    "\n",
    "$$\\boxed{\\underline{\\underline{D}}\\underline{\\phi}  = (\\Delta x)^2 (\\underline{\\underline{B}}_e\\underline{n}_e - \\underline{n}_0) + \\underline{\\phi}_{DBC}} \\quad \\text{6th order Dirichlet Poisson matrix problem}$$\n",
    "\n",
    "provided we replace the entries $(\\Delta x)^2 \\rightarrow 1$ in the difference matrix $\\underline{\\underline{D}}$ as \n",
    "\n",
    "$$\\underline{\\underline{D}} = \\underline{\\underline{D}}_{N\\times N}\n",
    "= \\left( \\begin{array}{c c c c c c c c c}\n",
    "1 & 0 & 0 & \\cdots & \\cdots & \\cdots & \\cdots & \\cdots & \\cdots & 0 \\\\\n",
    "1 & -2 & 1 & 0 & \\cdots & \\cdots & \\cdots & \\cdots  & \\cdots & 0 \\\\\n",
    "0 & 1 & -2 & 1 & 0 & \\cdots & \\cdots & \\cdots &  \\cdots & 0 \\\\\n",
    "0 & 0 & 1 & -2 & 1 & 0 & \\cdots & \\cdots & \\cdots & 0\\\\\n",
    "\\vdots & \\vdots & 0 & \\ddots & \\ddots & \\ddots & 0 & \\cdots & \\cdots & 0\\\\\n",
    "\\vdots & \\vdots & \\vdots & 0 & \\ddots & \\ddots & \\ddots & 0 & \\cdots & 0\\\\\n",
    "\\vdots & \\vdots & \\vdots & \\vdots & 0 & \\ddots & \\ddots & \\ddots & 0 & 0 \\\\\n",
    "\\vdots & \\vdots & \\vdots & \\vdots & \\vdots & 0 & 1 & -2 & 1 & 0 \\\\\n",
    "\\vdots & \\vdots & \\vdots & \\vdots & \\vdots & \\vdots & 0 & 1 & -2 & 1 \\\\\n",
    "0 & 0 & 0 & 0 & 0 & 0 & 0 & 0 & 0 & 1\n",
    "\\end{array} \\right)$$\n",
    "\n",
    "Thus, we have a complete picture here of the solver."
   ]
  },
  {
   "cell_type": "markdown",
   "metadata": {},
   "source": [
    "<table \"width = 85%\">\n",
    "<tr><td><b>Solubility</td></tr>\n",
    "<tr><td>\n",
    "The matrix $\\underline{\\underline{D}}$ is not strongly diagonally dominant ($\\sum_{j\\neq i} |d_{ij}| \\ngtr |d_{ii}|$), but weakly diagonally dominant given the equality holds ($\\sum_{j\\neq i} |d_{ij}| = |d_{ii}|$ for all rows $i$ where the strict inequality is true for at least one other row.  Hence, the matrix is invertible (cf. Gershogorin circle theorem, zero is not an eigenvalue) and a unique solution exists. The matrix $\\underline{\\underline{D}}$ is Hermitian, which suggests Cholesky factorization as a means to find its inverse if desired, alternatively (and more commonly) the matrix equation can be solved without the inverse by direct LU factorization (e.g. numpy.linalg.solve).</td></tr>\n",
    "</table>"
   ]
  },
  {
   "cell_type": "markdown",
   "metadata": {},
   "source": [
    "## D. Numerical solution for Dirichlet boundary conditions when $n_i \\neq \\text{const}$\n",
    "\n",
    "Now, suppose the ion density $n_i(t,x)$ evolves alongside $n_e(t,x)$ according to transport equations (e.g. Vlasov equations for each species)\n",
    "\n",
    "$$\\partial_t f_e + v\\partial_x f_e = 0$$\n",
    "\n",
    "$$\\partial_t f_i + (m_e / m_i) v\\partial_x f_i = 0$$\n",
    "\n",
    "which are tied to the field (or potential) equation:\n",
    "\n",
    "$$\\partial_x^2\\phi = n_e - n_i$$\n",
    "\n",
    "where \n",
    "\n",
    "$$n_e = \\int_v dv \\, f_e(t,x,v), \\quad n_i = \\int_v dv \\, f_i(t,x,v)$$\n",
    "\n",
    "or, for compactness we can write\n",
    "\n",
    "$$\\partial_x^2\\phi = n, \\qquad \\qquad n = n_e - n_i$$\n",
    "\n",
    "The numerical solution to Poisson's equation takes the form:\n",
    "\n",
    "$$\\boxed{\\underline{\\underline{D}}\\underline{\\phi} = \\underline{b}}$$\n",
    "\n",
    "Where $\\underline{\\underline{D}}$, $\\underline{\\phi}$ are as defined in section C.3 for the case of Dirichlet boundary conditions (other forms to be included in a section F), but the right-hand side differs in that because the ion density is not constant, $n_i$ is differenced where its finite difference coefficients matrix $\\underline{\\underline{B}}_i = \\underline{\\underline{B}}_e \\equiv \\underline{\\underline{B}}$ as defined above.\n",
    "\n",
    "$$\\underline{b} = (\\Delta x)^2 (\\underline{\\underline{B}}_e\\underline{n}_e - \\underline{\\underline{B}}_i\\underline{n}_i) + \\underline{\\phi}_{DBC}$$\n",
    "\n",
    "or\n",
    "\n",
    "$$\\boxed{\\underline{b} = (\\Delta x)^2 \\underline{\\underline{B}}(\\underline{n}_e - \\underline{n}_i) + \\underline{\\phi}_{DBC}}$$\n",
    "\n",
    "for $\\underline{\\phi}_{DBC}$ as defined above in section C.3., and now $\\underline{n}_i = \\underline{n}_{i,N\\times 1} = (n_{i,0}, n_{i,1}, \\ldots , n_{i,N-2}, n_{i,N-1})^T$\n",
    "\n",
    "Thus, it is a simple matter to move from a constant background ion density to a density which evolves alongside the electron density. We might instead like to cast the source term as one term $\\underline{n} = \\underline{n}_e - \\underline{n}_i$, so that in its most compact form we can write:\n",
    "\n",
    "$$\\boxed{\\underline{\\underline{D}}\\underline{\\phi} =  (\\Delta x)^2 \\underline{\\underline{B}}\\underline{n} + \\underline{\\phi}_{DBC}}$$"
   ]
  },
  {
   "cell_type": "markdown",
   "metadata": {},
   "source": [
    "The following is included as pyfiles/bin/Poisson_solver.py , we report the code here to be self-contained given the code cannot be long:"
   ]
  },
  {
   "cell_type": "markdown",
   "metadata": {},
   "source": [
    "### Poisson_6th.py code"
   ]
  },
  {
   "cell_type": "code",
   "execution_count": 2,
   "metadata": {
    "collapsed": false
   },
   "outputs": [],
   "source": [
    "import numpy as np\n",
    "import matplotlib.pyplot as plt\n",
    "import numpy.linalg as LA\n",
    "\n",
    "def Poisson_6th_LDBC_RDBC(n, Nx = 24, a = 0, b = 1, LBC = 0, RBC = 0):\n",
    "    \"\"\"6th order LTE finite difference Poisson solver for Dirichlet BCs\n",
    "       over the domain x in [a,b]\n",
    "       \n",
    "    inputs:\n",
    "    n -- (ndarray, ndim=1) density in Poisson's equation\n",
    "    Nx -- (int) number of grid points\n",
    "    phi_a -- (float) potential at left endpoint, x = a\n",
    "    phi_b -- (float) potential at right endpoint, x = b\n",
    "    \n",
    "    outputs:\n",
    "    phi -- (ndarray, ndim = 1) numerical solution to potential\n",
    "    \"\"\"\n",
    "    # domain parameters\n",
    "    dx = float(b - a) / (Nx - 1)\n",
    "    \n",
    "    # form the tensor objects involved in the numerical solution\n",
    "    #\n",
    "    #     d^2 phi = n --> D*phi = B*n + phi_BC\n",
    "\n",
    "    # Assemble FD coefficient matrix on phi: D\n",
    "    D = np.zeros([Nx,Nx])\n",
    "    for i in range(Nx):\n",
    "        if i == 0 or i == Nx-1:\n",
    "            D[i,i] = 1\n",
    "        else:\n",
    "            D[i,i-1] = 1\n",
    "            D[i,i] = -2\n",
    "            D[i,i+1] = 1\n",
    "\n",
    "    # Assemble FD coefficient matrix on n: B\n",
    "    B = np.zeros([Nx,Nx])\n",
    "    for i in range(Nx):\n",
    "        # if i == 0: all zeros (to make row DBC equation independent of density n)\n",
    "            \n",
    "        if i == 1:\n",
    "            B[i,i-1] = 3/40.\n",
    "            B[i,i] = 209/240.\n",
    "            B[i,i+1] = 1/60.\n",
    "            B[i,i+2] = 7/120.\n",
    "            B[i,i+3] = -1/40.\n",
    "            B[i,i+4] = 1/240.\n",
    "\n",
    "        elif i == Nx-1:\n",
    "            B[i,i] = 0\n",
    "\n",
    "        elif 1 < i < Nx-2:\n",
    "            B[i,i-2] = -1/240.\n",
    "            B[i,i-1] = 1/10.\n",
    "            B[i,i] = 97/120.\n",
    "            B[i,i+1] = 1/10.\n",
    "            B[i,i+2] = -1/240.\n",
    "\n",
    "        elif i == Nx-2:\n",
    "            B[i,i-4] = 1/240.\n",
    "            B[i,i-3] = -1/40.\n",
    "            B[i,i-2] = 7/120.\n",
    "            B[i,i-1] = 1/60.\n",
    "            B[i,i] = 209/240.\n",
    "            B[i,i+1] = 3/40.\n",
    "            \n",
    "        #elif i == Nx-1: all zeros (to make row DBC equation independent of density n)\n",
    "\n",
    "    # Dirichlet boundary conditions (DBC) vector\n",
    "    phi_DBC = np.zeros(Nx)\n",
    "    phi_DBC[0] = LBC\n",
    "    phi_DBC[-1] = RBC\n",
    "\n",
    "    # label the RHS a b = dx ** 2 * B*n + phi_DBC\n",
    "    b = dx ** 2 * B.dot(n) + phi_DBC\n",
    "\n",
    "    # solve D*phi = b\n",
    "    phi = LA.solve(D,b)\n",
    "\n",
    "    return phi"
   ]
  },
  {
   "cell_type": "markdown",
   "metadata": {},
   "source": [
    "# E. Convergence tests"
   ]
  },
  {
   "cell_type": "markdown",
   "metadata": {},
   "source": [
    "To prove the above scheme is 6th order in LTE, we choose a solution:\n",
    "\n",
    "$$\\phi (x) = \\sin (\\pi^2 x),\\qquad x\\in [0,1]$$\n",
    "\n",
    "Thus, the boundary values are \n",
    "\n",
    "<ol>\n",
    "<li> $\\phi (0) = \\phi_a = 0$\n",
    "<li> $\\phi (1) = \\phi_b = \\sin (\\pi^2)$\n",
    "</ol> \n",
    "\n",
    "Poisson's equation provides the density:\n",
    "\n",
    "$$\\partial_x^2\\phi = n, \\qquad n = n_e - n_i$$\n",
    "\n",
    "as the second derivative of this potential: $\\partial_x^2\\phi = \\partial_x^2[\\sin (\\pi^2 x)] = -\\pi^4 \\sin (\\pi^2 x)$, or $n = -\\pi^4\\sin (\\pi^2 x)$\n",
    "\n",
    "Thus, we assess the performance of the above solver to reproduce the chosen solution from the discrete problem:\n",
    "\n",
    "$$\\delta_x^2\\phi_i = -\\pi^4\\sin (\\pi^2 x_i), \\quad x_i\\in [0,1], \\qquad i = 0, 1, \\ldots , N_x-2, N_x-1$$\n",
    "\n",
    "$$L = 1 - 0, \\Delta x = L / (N_x - 1)$$\n",
    "\n",
    "and measure the accuracy of the solution and computing an observed order of accuracy\n",
    "\n",
    "$$\\text{order} = \\log_2 \\frac{||\\phi_{exact} - \\phi||_{\\ell^2,\\Delta x}}{||\\phi_{exact} - \\phi||_{\\ell^2,\\Delta x/2}}$$\n",
    "\n",
    "over meshes that are progressively halved, so that the the base-2 logarithm gives the order as $\\Delta x \\rightarrow 0$ as usual. Note, the $\\ell^2$ norm is the discrete analog of the $L^2$ norm as usual."
   ]
  },
  {
   "cell_type": "markdown",
   "metadata": {},
   "source": [
    "set up problem domain and exact solution"
   ]
  },
  {
   "cell_type": "code",
   "execution_count": 31,
   "metadata": {
    "collapsed": true
   },
   "outputs": [],
   "source": [
    "import numpy as np\n",
    "\n",
    "# grid setup\n",
    "a = 0.\n",
    "b = 1.\n",
    "L = b - a\n",
    "\n",
    "# the boundary values from phi_exact are seen to be:\n",
    "phi_a = 0\n",
    "phi_b = np.sin(np.pi**2)"
   ]
  },
  {
   "cell_type": "markdown",
   "metadata": {},
   "source": [
    "A convergence routine is stepped through to assess the fidelity and accuracy of the solver. We anticipate the error to drop off with a slope whose absolute value is 6 on a $\\log_2$ plot."
   ]
  },
  {
   "cell_type": "code",
   "execution_count": 33,
   "metadata": {
    "collapsed": false
   },
   "outputs": [
    {
     "name": "stdout",
     "output_type": "stream",
     "text": [
      "Nx12        error = 0.00123197       ----\n",
      "Nx24        error = 2.57342e-06       order = 8.90306\n",
      "Nx48        error = 3.33434e-08       order = 6.27014\n",
      "Nx96        error = 5.07454e-10       order = 6.03798\n",
      "Nx192        error = 7.68437e-12       order = 6.04521\n",
      "Nx384        error = 1.1931e-13       order = 6.00914\n",
      "Nx768        error = 3.31719e-14       order = 1.84668\n",
      "Nx1536        error = 1.73946e-13       order = -2.39061\n",
      "\n",
      "\n"
     ]
    }
   ],
   "source": [
    "%matplotlib inline\n",
    "import matplotlib.pyplot as plt\n",
    "import numpy as np\n",
    "\n",
    "Nx = [12, 24, 48, 96, 192, 384, 768, 1536]\n",
    "num_grids = len(Nx)\n",
    "\n",
    "error_norm = np.zeros(num_grids)\n",
    "orders = np.zeros(num_grids)\n",
    "\n",
    "for grid in range(num_grids):\n",
    "    # grid dependent parameters\n",
    "    dx = L / (Nx[grid] - 1)\n",
    "    x = np.linspace(a, b, Nx[grid]) # spacing dx = (b - a ) / (Nx - 1)\n",
    "    n = -np.pi**4 * np.sin(np.pi**2 * x)\n",
    "\n",
    "    phi = Poisson_6th_LDBC_RDBC(n, Nx = Nx[grid], LBC = phi_a, RBC = phi_b)\n",
    "    phi_exact = np.sin(np.pi**2 * x)\n",
    "    error_norm[grid] = LA.norm(phi_exact - phi,2) * np.sqrt(dx / L)\n",
    "\n",
    "    if grid == 0:\n",
    "        print \"Nx%d        error = %g       ----\" % (Nx[grid], error_norm[grid])\n",
    "    else:\n",
    "        orders[grid] = np.log2(error_norm[grid-1] / error_norm[grid])\n",
    "        print \"Nx%d        error = %g       order = %g\" % (Nx[grid], error_norm[grid], orders[grid])\n",
    "        \n",
    "print '\\n'"
   ]
  },
  {
   "cell_type": "markdown",
   "metadata": {},
   "source": [
    "The scheme shows convergence for a range $48 < N_x \\leq 384$, whereafter the error remains within very acceptable ranges ($10^{-13}$) for most anyone's needs. If we increasingly refine the mesh, as usual we will see the error increases on account of the finite precision of numerical arithmetic, this is expected and usual for finite difference schemes. \n",
    "\n",
    "For example, a mesh characterized by $N_x = 96$ is convergent, which produces a numerical approximation to the solution as follows:"
   ]
  },
  {
   "cell_type": "code",
   "execution_count": 34,
   "metadata": {
    "collapsed": false
   },
   "outputs": [
    {
     "data": {
      "image/png": "[encoded data removed]",
      "text/plain": [
       "<matplotlib.figure.Figure at 0x37313d0>"
      ]
     },
     "metadata": {},
     "output_type": "display_data"
    }
   ],
   "source": [
    "%matplotlib inline\n",
    "import matplotlib.pyplot as plt\n",
    "import numpy as np\n",
    "\n",
    "Nx = 96\n",
    "x = np.linspace(a,b,Nx)\n",
    "\n",
    "n = -np.pi**4 * np.sin(np.pi**2 * x)\n",
    "\n",
    "phi = Poisson_6th_LDBC_RDBC(n, Nx = Nx, LBC = 0, RBC = np.sin(np.pi**2))\n",
    "phi_exact = np.sin(np.pi**2 * x)\n",
    "\n",
    "plt.plot(x, phi_exact, label = 'exact', linewidth = 5)\n",
    "plt.hold('on')\n",
    "plt.plot(x, phi, label = '$N_x = %d$' % Nx, marker = 'o', linewidth = 2)\n",
    "plt.hold('off')\n",
    "\n",
    "plt.xlabel('$x$')\n",
    "plt.ylabel(r'$\\phi = \\phi (x)$')\n",
    "plt.title('6th order FD numerical solution for $\\phi$ from $\\partial_x^2\\phi = n$')\n",
    "\n",
    "plt.legend(loc = 'best')\n",
    "plt.grid('on')"
   ]
  },
  {
   "cell_type": "markdown",
   "metadata": {},
   "source": [
    "# F. Solvers for different boundary conditions"
   ]
  },
  {
   "cell_type": "markdown",
   "metadata": {},
   "source": [
    "## F.1 Periodic boundary conditions (PBCs)\n",
    "\n",
    "We consider the problem:\n",
    "\n",
    "$$\\partial_x^2\\phi = n_e - n_i \\equiv n, \\quad x\\in [a,b]\\subset \\mathbb{R}\\times\\mathbb{R}$$\n",
    "\n",
    "the numerical solution can be modeled as a matrix problem similar to in section C.\n",
    "\n",
    "$$\\frac{1}{(\\Delta x)^2}\\underline{\\underline{D}}\\underline{\\phi} = \\underline{b} \\quad \\Rightarrow \\quad \\underline{\\underline{D}}\\underline{\\phi} = (\\Delta x)^2 \\underline{b} \\qquad (F.1)$$"
   ]
  },
  {
   "cell_type": "markdown",
   "metadata": {},
   "source": [
    "where $\\underline{\\phi} = (\\phi_0, \\phi_1, \\ldots , \\phi_{N - 1})$, and the $N$ gridpoints $x_i$ constitute the mesh $\\mathcal{M}_h = \\{\\cup_i x_i \\,\\colon \\, x_i\\in [a,b]\\, \\forall i \\in \\mathbb{Z}\\}$ in our 0-base indexing. Given the periodicity, the differences equation $(*)$:\n",
    "\n",
    "$$\\frac{1}{(\\Delta x)^2}\\left(\\phi_{i+1} - 2\\phi_i + \\phi_{i-1}\\right) = n_i + \\frac{2}{4!}(\\Delta x)^2n_{i}^{(2)} + \\frac{2}{6!}(\\Delta x)^4n_{i}^{(4)} + O(\\Delta x^6) \\qquad \\qquad (\\, * \\, )$$"
   ]
  },
  {
   "cell_type": "markdown",
   "metadata": {},
   "source": [
    "can be applied for all nodal equations $i$ since off-grid quantities ($\\phi_{-1}, \\phi_N$) are related to on-grid data in a known way. Thus, in the above we do not require \"edge\" versions of finite differences to sidestep off-grid terms in our finite differencing, even for the right-hand side in differencing the density $n$. <b>That is to say, the interior nodes differencing equation at the conclusion of section C.2.2 can be used for all nodes in the domain in the periodic case</b> \n",
    "\n",
    "The aforementioned differenced equation from section C.2.2 is:\n",
    "\n",
    "$$\\frac{1}{(\\Delta x)^2}\\left(\\phi_{i+1} - 2\\phi_i + \\phi_{i-1}\\right) = -\\frac{1}{240}n_{i-2} + \\frac{1}{10}n_{i-1} + \\frac{97}{120}n_{i} + \\frac{1}{10}n_{i+1} - \\frac{1}{240}n_{i+2} + O(\\Delta x^6), \\quad i = 0, 1, \\ldots , N - 1$$\n",
    "\n",
    "For a grid $i = 0, 1, \\ldots , N-1$ ($N$ gridpoints) we understand we require only updating one of the endpoints (say, $i = 0$), the other endpoint is completed at each time step by periodic enforcement (at $i = N-1$). "
   ]
  },
  {
   "cell_type": "markdown",
   "metadata": {},
   "source": [
    "\\begin{eqnarray*}\n",
    "\\phi_{N-1} & = & \\phi_0\\\\\n",
    "\\text{and} &&\\\\\n",
    "n_{N-1} & = & n_0\n",
    "\\end{eqnarray*}\n",
    "\n",
    "Similarly,\n",
    "\n",
    "\\begin{eqnarray*}\n",
    "\\phi_{-1} & = & \\phi_{N-2}\\\\\n",
    "\\phi_{N} & = & \\phi_1\\\\\n",
    "&& \\\\\n",
    "n_{-2} & = & n_{N-3} \\\\\n",
    "n_{-1} & = & n_{N-2} \\\\\n",
    "n_N & = & n_1 \\\\\n",
    "n_{N+1} & = & n_2 \n",
    "\\end{eqnarray*}"
   ]
  },
  {
   "cell_type": "markdown",
   "metadata": {},
   "source": [
    "To clearly discern the forms of the matrices above, we write equations for several gridpoints. The following has $\\underline{\\underline{D}}$ on the left-hand side as the coefficients which act on each grid function value $\\phi_i$, and on the right is the source term $(\\Delta x)^2 \\underline{b} = (\\Delta x)^2 \\underline{\\underline{B}}\\cdot \\underline{n}$ as in eq. $(F.1)$. We will omit the factor of $(\\Delta x)^{2}$ on the right-hand side here for brevity, but will incorporate it in the end\n",
    "\n",
    "\\begin{eqnarray*}\n",
    "i = 0: & \\phi_1 - 2\\phi_0 + \\phi_{N-2} & = -\\frac{1}{240}n_{N-3} + \\frac{1}{10}n_{N-2} + \\frac{97}{120}n_{0} + \\frac{1}{10}n_{1} - \\frac{1}{240}n_{2}  \\\\[1em]\n",
    "i = 1: & \\phi_0 -2\\phi_1 + \\phi_2 & = -\\frac{1}{240}n_{N-2} + \\frac{1}{10}n_{0} + \\frac{97}{120}n_{1} + \\frac{1}{10}n_{2} - \\frac{1}{240}n_{3}  \\\\[1em]\n",
    "i = 2: & \\phi_1 -2\\phi_2 + \\phi_3 & = -\\frac{1}{240}n_{0} + \\frac{1}{10}n_{1} + \\frac{97}{120}n_{2} + \\frac{1}{10}n_{3} - \\frac{1}{240}n_{4} \\\\[1em]\n",
    "i = 3: & \\phi_2 -2\\phi_3 + \\phi_4 & = -\\frac{1}{240}n_{1} + \\frac{1}{10}n_{2} + \\frac{97}{120}n_{3} + \\frac{1}{10}n_{4} - \\frac{1}{240}n_{5} \\\\[2em]\n",
    "\\vdots \\\\[2em]\n",
    "i = N-4: & \\phi_{N-5} -2\\phi_{N-4} + \\phi_{N-3} & = -\\frac{1}{240}n_{N-6} + \\frac{1}{10}n_{N-5} + \\frac{97}{120}n_{N-4} + \\frac{1}{10}n_{N-3} - \\frac{1}{240}n_{N-2} \\\\[1em]\n",
    "i = N-3: & \\phi_{N-4} -2\\phi_{N-3} + \\phi_{N-2} & = -\\frac{1}{240}n_{N-5} + \\frac{1}{10}n_{N-4} + \\frac{97}{120}n_{N-3} + \\frac{1}{10}n_{N-2} - \\frac{1}{240}n_{0} \\\\[1em]\n",
    "i = N - 2: & \\phi_{N-3} - 2\\phi_{N-2} + \\phi_{0} & = -\\frac{1}{240}n_{N-4} + \\frac{1}{10}n_{N-3} + \\frac{97}{120}n_{N-2} + \\frac{1}{10}n_{0} - \\frac{1}{240}n_{1}\n",
    "\\end{eqnarray*}"
   ]
  },
  {
   "cell_type": "markdown",
   "metadata": {},
   "source": [
    "The left-hand side reveals $\\underline{\\underline{D}}$:\n",
    "\n",
    "$$\\underline{\\underline{D}}_{(N-1)\\times (N-1)} = \\left( \\begin{array}{c c c c c c c c c}\n",
    "-2 & 1 & 0 & \\cdots & \\cdots & \\cdots & \\cdots & \\cdots & \\cdots & 1 \\\\\n",
    "1 & -2 & 1 & 0 & \\cdots & \\cdots & \\cdots & \\cdots  & \\cdots & 0 \\\\\n",
    "0 & 1 & -2 & 1 & 0 & \\cdots & \\cdots & \\cdots &  \\cdots & 0 \\\\\n",
    "0 & 0 & 1 & -2 & 1 & 0 & \\cdots & \\cdots & \\cdots & 0\\\\\n",
    "\\vdots & \\vdots & 0 & \\ddots & \\ddots & \\ddots & 0 & \\cdots & \\cdots & 0\\\\\n",
    "\\vdots & \\vdots & \\vdots & 0 & \\ddots & \\ddots & \\ddots & 0 & \\cdots & 0\\\\\n",
    "\\vdots & \\vdots & \\vdots & \\vdots & 0 & \\ddots & \\ddots & \\ddots & 0 & 0 \\\\\n",
    "\\vdots & \\vdots & \\vdots & \\vdots & \\vdots & 0 & 1 & -2 & 1 & 0 \\\\\n",
    "\\vdots & \\vdots & \\vdots & \\vdots & \\vdots & \\vdots & 0 & 1 & -2 & 1 \\\\\n",
    "1 & 0 & 0 & 0 & 0 & 0 & 0 & 0 & 1 & -2\n",
    "\\end{array} \\right)$$"
   ]
  },
  {
   "cell_type": "markdown",
   "metadata": {},
   "source": [
    "which is a <i>circulant</i> matrix, whose eigenvalues $\\lambda_j$ ($j = 0, 1, \\ldots , N-2 $) are given by:\n",
    "\n",
    "$$\\lambda_j = c_0 + c_{N-2}\\omega_j + c_{N-3}\\omega_j^2 + \\ldots + c_1\\omega_j^{N-2}$$\n",
    "\n",
    "where $\\omega_j = \\exp (2\\pi i j / (N-1) )$ is the $j$th root of unity and\n",
    "\n",
    "$$c_j = \\begin{cases}\n",
    "-2 & j = 0\\\\\n",
    "&\\\\\n",
    "1 & j = N-2, 1\\\\\n",
    "& \\\\\n",
    "0 & \\text{else}\n",
    "\\end{cases}\n",
    "$$"
   ]
  },
  {
   "cell_type": "markdown",
   "metadata": {},
   "source": [
    "so that the eigenvalues are \n",
    "\n",
    "$$\\lambda_j = -2 + \\omega_j + \\omega_j^{N-2} = -2 + \\exp \\left(\\frac{2\\pi i j}{N-1}\\right) + \\exp \\left(2\\pi i j\\frac{N - 2}{N - 1}\\right)$$\n",
    "\n",
    "Thus, zero is an eigenvalue ($j = 0$) and the matrix is not invertible, so there are infinitely many solutions to the equation and the solution must be solved through means that do not involve finding an explicit inverse of the matrix. The right-hand side can be casted similar to before:\n",
    "\n",
    "$$\\underline{b}_{(N-1)\\times 1} = \\underline{\\underline{B}}_{(N-1)\\times (N-1)}\\underline{n}_{(N-1)\\times 1}$$\n",
    "\n",
    "then"
   ]
  },
  {
   "cell_type": "markdown",
   "metadata": {},
   "source": [
    "$$\\underline{\\underline{B}}_{(N-1)\\times (N-1)} = \\left( \\begin{array}{c c c c c c c c c c c c c c}\n",
    "\\frac{97}{120} & \\frac{1}{10} & -\\frac{1}{240} & 0 &  0 &  0 &    \\cdots &  0 & -\\frac{1}{240} & \\frac{1}{10}\\\\\n",
    "\\frac{1}{10} & \\frac{97}{120} & \\frac{1}{10} & 0 & \\cdots  & \\cdots & \\cdots & \\cdots & 0 & -\\frac{1}{240}\\\\\n",
    "-\\frac{1}{240} & \\frac{1}{10} & \\frac{97}{120} & \\frac{1}{10} & -\\frac{1}{240} & 0 & \\cdots & \\cdots & \\cdots & 0 \\\\\n",
    "0 & -\\frac{1}{240} & \\frac{1}{10} & \\frac{97}{120} & \\frac{1}{10} & -\\frac{1}{240} & 0 & \\cdots & \\cdots & 0 \\\\\n",
    "\\vdots & 0 & \\ddots & \\ddots & \\ddots & \\ddots & \\ddots & 0 & \\cdots & 0 \\\\\n",
    "\\vdots  & \\vdots  & 0 & \\ddots & \\ddots & \\ddots & \\ddots & \\ddots & 0 & 0\\\\\n",
    "\\vdots & \\vdots & \\vdots & 0 & \\ddots & \\ddots & \\ddots & \\ddots & \\ddots & 0\\\\\n",
    "0 & \\vdots & \\vdots & \\vdots &  0 &  -\\frac{1}{240} & \\frac{1}{10} & \\frac{97}{120} & \\frac{1}{10} & -\\frac{1}{240} \\\\\n",
    "-\\frac{1}{240} & \\vdots & \\vdots & \\vdots & \\vdots & 0 & -\\frac{1}{240} & \\frac{1}{10} & \\frac{97}{120} & \\frac{1}{10} \\\\\n",
    "\\frac{1}{10} & -\\frac{1}{240} & 0 & 0 &  0  & 0 & 0 &  -\\frac{1}{240} &  \\frac{1}{10} &  \\frac{97}{120}  \\\\\n",
    "\\end{array} \\right)$$\n",
    "\n",
    "So, Poisson's equation for a density $n$ for is solved numerically according to the matrix equation in terms of the $N-1$ unknowns $i = 0, 1, \\ldots , N-2$ per eq. $(F.1)$:\n",
    "\n",
    "$$\\underline{\\underline{D}}_{(N-1)\\times (N-1)} \\underline{\\phi}_{(N-1)\\times 1} = (\\Delta x)^2\\underline{\\underline{B}}_{(N-1)\\times (N-1)}\\cdot \\underline{n}$$"
   ]
  },
  {
   "cell_type": "markdown",
   "metadata": {},
   "source": [
    "for, e.g. $\\underline{n} = \\underline{n}_e - \\underline{n}_i$, \n",
    "\n",
    "then we enforce \n",
    "\n",
    "$$\\phi_{N-1} = \\phi_0$$\n",
    "\n",
    "per periodic boundary condition to complete the solution vector for all $N$ gridpoints after each time step. Note that since the potential is periodic, the inhomogeneity $\\underline{\\phi}_{DBC}$ is restricted only inasmuch as the definition $\\phi_0 = \\phi_{N-1}$, thus, we are free to set any value to these. We elect to assign the zero value, so that $\\underline{\\phi}_{DBC} = \\underline{0}$."
   ]
  },
  {
   "cell_type": "markdown",
   "metadata": {},
   "source": [
    "## F.1.1 Convergence test\n",
    "\n",
    "For the trial density: \n",
    "\n",
    "$$n_e - n_0 \\equiv n = -4\\pi^2 \\sin (2\\pi x), \\quad x\\in [0, 1]$$\n",
    "\n",
    "Note, that as discussed before the periodic Poisson problem does not have a solution unless $\\langle n \\rangle = 0$, which is guaranteed by this choice of density. Assert the periodic boundary conditions (PBCs):\n",
    "\n",
    "$$\\phi (0) = \\phi (1)$$\n",
    "\n",
    "the exact solution per $\\partial_x^2\\phi = n$, is found as\n",
    "\n",
    "\\begin{eqnarray*}\n",
    "\\int dx \\frac{\\partial^2 \\phi}{\\partial x^2} & = & -\\int dx \\pi^2 \\sin (2\\pi x)   \\\\\n",
    "&&\\\\\n",
    "\\partial_x\\phi & = & 2\\pi\\cos (2\\pi x) + C \n",
    "\\end{eqnarray*}\n",
    "\n",
    "so\n",
    "\n",
    "\\begin{eqnarray*}\n",
    "\\int dx \\frac{\\partial\\phi}{\\partial x} & = & \\int dx \\left( 2\\pi\\cos (2\\pi x) + C\\right) \\\\\n",
    "\\phi (x) & = & \\sin (2 \\pi x) + Cx + D \\\\\n",
    "\\end{eqnarray*}\n",
    "\n",
    "Applying the boundary condition:\n",
    "\n",
    "$$\\phi (0) = D$$\n",
    "\n",
    "and\n",
    "\n",
    "$$\\phi (1) = C + D$$\n",
    "\n",
    "we have $\\phi (0) = \\phi (1)$ or $D = C + D \\Rightarrow 0 = C$, thus $C = 0$. Thus, we have\n",
    "\n",
    "$$\\phi (x) = \\sin (2\\pi x) + D$$\n",
    "\n",
    "where $D\\in\\mathbb{R}$ admits parameter family of solutions for any $D$. In this situation, we know since $\\langle n \\rangle = 0$, that $\\langle \\phi \\rangle = 0$, i.e. $\\langle \\phi\\rangle = \\langle\\sin (2\\pi x) + D\\rangle = 0 + D$, thus $D = 0$, so the final solution is:\n",
    "\n",
    "$$\\phi (x) = \\sin (2\\pi x)$$\n",
    "\n",
    "This is also the situation in plasmas that we aim to simulate (quasineutrality). We use the above solver to see if the Poisson problem for the above density and periodic BCs can reproduce this solution adequately to the designed convergence rate (order 6)."
   ]
  },
  {
   "cell_type": "markdown",
   "metadata": {},
   "source": [
    "## F.1.2 PBC 6th order Poisson solver code ($n_0 = \\text{const}$)"
   ]
  },
  {
   "cell_type": "markdown",
   "metadata": {},
   "source": [
    "### Poisson_6th_PBC.py"
   ]
  },
  {
   "cell_type": "code",
   "execution_count": 36,
   "metadata": {
    "collapsed": false
   },
   "outputs": [],
   "source": [
    "import numpy as np\n",
    "import matplotlib.pyplot as plt\n",
    "\n",
    "def Poisson_6th_PBC(n, Nx = 24, a = 0, b = 1, LBC = None, RBC = None):\n",
    "    \"\"\"6th order LTE finite difference Poisson solver for Dirichlet BCs\n",
    "\n",
    "    inputs:\n",
    "    n -- (ndarray, ndim=1), len(n) = Nx-1, i.e. size active domain \n",
    "    Nx -- (int) number of grid points\n",
    "    a -- (float) left boundary of x-domain\n",
    "    b -- (float) right boundary of x-domain\n",
    "                          \n",
    "    outputs:\n",
    "    error -- (float) L2 norm\n",
    "    x -- (ndarray, ndim = 1) mesh points (abscissa)\n",
    "    phi -- (ndarray, ndim = 1) numerical solution to potential\n",
    "    phi_exact -- (ndarray, ndim = 1) exact solution (chosen)\n",
    "    \"\"\"\n",
    "    # domain parameters\n",
    "    L = float(b - a)\n",
    "    dx = L / (Nx - 1)    \n",
    "        \n",
    "    # form the tensor objects involved in the numerical solution\n",
    "    #\n",
    "    #     d^2 phi = n --> D*phi = B*n + phi_BC\n",
    "    \n",
    "    # Assemble FD coefficient matrix on phi: D\n",
    "    D = np.zeros([Nx-1,Nx-1])\n",
    "    for i in range(Nx-1):\n",
    "        if i == 0:\n",
    "            D[i,i] = -2\n",
    "            D[i,i+1] = 1\n",
    "            D[i,Nx-2] = 1\n",
    "            \n",
    "        elif i == Nx-2:\n",
    "            D[i,i] = -2\n",
    "            D[i,i-1] = 1\n",
    "            D[i,0] = 1\n",
    "        else:\n",
    "            D[i,i-1] = 1\n",
    "            D[i,i] = -2\n",
    "            D[i,i+1] = 1\n",
    "\n",
    "    # Assemble FD coefficient matrix on n: B\n",
    "    B = np.zeros([Nx-1,Nx-1])\n",
    "    for i in range(Nx-1):\n",
    "        if i == 0:\n",
    "            B[i,Nx-3] = -1/240.\n",
    "            B[i,Nx-2] = 1/10.\n",
    "            B[i,i] = 97/120.\n",
    "            B[i,i+1] = 1/10.\n",
    "            B[i,i+2] = -1/240.\n",
    "\n",
    "        elif i == 1:\n",
    "            B[i,Nx-2] = -1/240.\n",
    "            B[i,i-1] = 1/10.\n",
    "            B[i,i] = 97/120.\n",
    "            B[i,i+1] = 1/10.\n",
    "            B[i,i+2] = -1/240.\n",
    "\n",
    "        elif 1 < i < Nx-3:\n",
    "            B[i,i-2] = -1/240.\n",
    "            B[i,i-1] = 1/10.\n",
    "            B[i,i] = 97/120.\n",
    "            B[i,i+1] = 1/10.\n",
    "            B[i,i+2] = -1/240.\n",
    "\n",
    "        elif i == Nx-3:\n",
    "            B[i,i-2] = -1/240.\n",
    "            B[i,i-1] = 1/10.\n",
    "            B[i,i] = 97/120.\n",
    "            B[i,i+1] = 1/10.\n",
    "            B[i,0] = -1/240.\n",
    "\n",
    "        elif i == Nx-2:\n",
    "            B[i,i-2] = -1/240.\n",
    "            B[i,i-1] = 1/10.\n",
    "            B[i,i] = 97/120.\n",
    "            B[i,0] = 1/10.\n",
    "            B[i,1] = -1/240.\n",
    "\n",
    "    # label the RHS a b = dx ** 2 * B*n, here n[Nx-1] = n[0] not included so len(n) = Nx-1\n",
    "    b = dx ** 2 * B.dot(n)\n",
    "\n",
    "    # solve D*phi = b\n",
    "    phi = LA.solve(D,b)\n",
    "    phi_total = np.zeros(Nx)\n",
    "    phi_total[:Nx-1] = phi\n",
    "    \n",
    "    # periodic BC\n",
    "    phi_total[Nx-1] = phi[0]\n",
    "    \n",
    "    # PBCs do not produce unique solutions but a family of solutions with arbitrary integration constant\n",
    "    # C = phi_avg over active region i = 0, 1, ... , Nx - 2\n",
    "    \n",
    "    phi_avg = np.sum(phi_total[:Nx-1])*dx / L \n",
    "\n",
    "    phi_total -= phi_avg\n",
    "\n",
    "    return phi_total"
   ]
  },
  {
   "cell_type": "markdown",
   "metadata": {},
   "source": [
    "## F.1.2.a Convergence test"
   ]
  },
  {
   "cell_type": "code",
   "execution_count": 37,
   "metadata": {
    "collapsed": false
   },
   "outputs": [
    {
     "data": {
      "image/png": "[encoded data removed]",
      "text/plain": [
       "<matplotlib.figure.Figure at 0x41ad390>"
      ]
     },
     "metadata": {},
     "output_type": "display_data"
    }
   ],
   "source": [
    "%matplotlib inline\n",
    "import matplotlib.pyplot as plt\n",
    "import numpy as np\n",
    "\n",
    "Nx = 512\n",
    "a,b = 0, 1\n",
    "x = np.linspace(a,b,Nx)\n",
    "\n",
    "n = -4*np.pi**2 * np.sin(2*np.pi * x[:Nx-1]) # excepting right endpoint, since n[Nx-1] = n[0]\n",
    "phi_exact = np.sin(2*np.pi*x) # over all x\n",
    "\n",
    "phi = Poisson_6th_PBC(n, Nx = Nx)\n",
    "plt.plot(x, phi_exact, label = 'exact', linewidth = 2)\n",
    "plt.hold('on')\n",
    "plt.plot(x, phi, label = '$N_x = %d$' % Nx, marker = 'o', linewidth = 2)\n",
    "plt.hold('off')\n",
    "\n",
    "plt.xlabel('$x$')\n",
    "plt.ylabel(r'$\\phi = \\phi (x)$')\n",
    "plt.title('6th order PBC FD numerical solution for $\\phi$ from $\\partial_x^2\\phi = n$')\n",
    "\n",
    "plt.legend(loc = 'best')\n",
    "plt.grid('on')"
   ]
  },
  {
   "cell_type": "markdown",
   "metadata": {},
   "source": [
    "Thus, the solve produces a periodic potential correct up to an additive constant. This is expected $\\lambda = 0$ is an eigenvalue and the solution expressed in terms of its eigenbasis $\\phi \\sim \\sum_k v_k e^{\\lambda_k x}$ necessarily has an offset term at $\\lambda_k = 0$ whose value is not uniquely enforced in the above through any boundary value, rather this value is only maintained to be equal to that of the other endpoint one period away from the other. Since this offset is unrestrained, the code chooses to center it about $\\phi = 0$ by subtracting out the average value over the evolved gridpoints $i = 0, 1, \\ldots , N-2$. Note, it is improper to subtract out the average over all gridpoints $i = 0, 1, \\ldots, N-1$, as the final node does not strictly belong to the periodic cell, but is shared with the imagined adjacent cell (a full period spans $i = 0,1, \\ldots , N -2$. That is, a periodic domain is extended over $(-\\infty , \\infty)$ by tesselating these cells and the period is $N - 1$ by construction, not $N$. This was a choice in the bookkeeping so that we can, for example, refer to $N$ nodes rather than $N+1$. The convention where $N+1$ nodes with period $N$ is also widely used throughout literature, perhaps even more often."
   ]
  },
  {
   "cell_type": "markdown",
   "metadata": {},
   "source": [
    "The convergence is shown as before:"
   ]
  },
  {
   "cell_type": "code",
   "execution_count": 38,
   "metadata": {
    "collapsed": false
   },
   "outputs": [
    {
     "name": "stdout",
     "output_type": "stream",
     "text": [
      "Nx24        error = 1.50516e-07       ----\n",
      "Nx48        error = 2.06842e-09       order = 6.18524\n",
      "Nx96        error = 3.03337e-11       order = 6.09147\n",
      "Nx192        error = 4.72383e-13       order = 6.00482\n",
      "Nx384        error = 7.19179e-15       order = 6.03746\n",
      "Nx768        error = 6.00248e-14       order = -3.06114\n",
      "Nx1536        error = 3.88303e-13       order = -2.69355\n",
      "\n",
      "\n"
     ]
    },
    {
     "data": {
      "text/plain": [
       "[<matplotlib.lines.Line2D at 0x47896d0>]"
      ]
     },
     "execution_count": 38,
     "metadata": {},
     "output_type": "execute_result"
    },
    {
     "data": {
      "image/png": "[encoded data removed]",
      "text/plain": [
       "<matplotlib.figure.Figure at 0x4789a50>"
      ]
     },
     "metadata": {},
     "output_type": "display_data"
    }
   ],
   "source": [
    "%matplotlib inline\n",
    "import matplotlib.pyplot as plt\n",
    "import numpy as np\n",
    "import numpy.linalg as LA\n",
    "\n",
    "Nx = [24, 48, 96, 192, 384, 768, 1536]\n",
    "num_grids = len(Nx)\n",
    "\n",
    "error_norm = np.zeros(num_grids)\n",
    "orders = np.zeros(num_grids)\n",
    "\n",
    "for grid in range(num_grids):\n",
    "    # grid dependent parameters\n",
    "    dx = L / (Nx[grid] - 1)\n",
    "    x = np.linspace(a, b, Nx[grid]) # spacing dx = (b - a ) / (Nx - 1)\n",
    "    n = -4*np.pi**2 * np.sin(2*np.pi * x[:Nx[grid]-1])\n",
    "\n",
    "    phi = Poisson_6th_PBC(n, Nx = Nx[grid])\n",
    "    phi_exact = np.sin(2 * np.pi * x)\n",
    "    error_norm[grid] = LA.norm(phi_exact - phi,2) * np.sqrt(dx / L)\n",
    "\n",
    "    if grid == 0:\n",
    "        print \"Nx%d        error = %g       ----\" % (Nx[grid], error_norm[grid])\n",
    "    else:\n",
    "        orders[grid] = np.log2(error_norm[grid-1] / error_norm[grid])\n",
    "        print \"Nx%d        error = %g       order = %g\" % (Nx[grid], error_norm[grid], orders[grid])\n",
    "        \n",
    "print '\\n'\n",
    "\n",
    "plt.plot(x, phi, '-o')\n",
    "plt.hold('on')\n",
    "plt.plot(x,phi_exact)"
   ]
  },
  {
   "cell_type": "markdown",
   "metadata": {},
   "source": [
    "## F.1.3 Periodic conditions applied with the Dirichlet Poisson solver: $\\phi (a) = \\phi (b)$"
   ]
  },
  {
   "cell_type": "markdown",
   "metadata": {},
   "source": [
    "Here, we set the potential to be $\\phi (0) = \\phi (1) = 0$. If we wanted to match the FD solution just above we could enforce $\\phi (0) = \\phi (1) = 0.2$. We re-define the Dirichlet form just below to establish the same density as used above, and test the result:"
   ]
  },
  {
   "cell_type": "code",
   "execution_count": 39,
   "metadata": {
    "collapsed": false
   },
   "outputs": [
    {
     "data": {
      "image/png": "[encoded data removed]",
      "text/plain": [
       "<matplotlib.figure.Figure at 0x47af490>"
      ]
     },
     "metadata": {},
     "output_type": "display_data"
    }
   ],
   "source": [
    "%matplotlib inline\n",
    "import matplotlib.pyplot as plt\n",
    "import numpy as np\n",
    "\n",
    "Nx = 512\n",
    "x = np.linspace(a,b,Nx)\n",
    "n = -4*np.pi**2 * np.sin(2*np.pi * x)\n",
    "\n",
    "phi_exact = np.sin(2*np.pi*x) # over all x\n",
    "phi = Poisson_6th_LDBC_RDBC(n, Nx = Nx, LBC = 0, RBC = 0)\n",
    "\n",
    "plt.plot(x, phi_exact, label = 'exact', linewidth = 2)\n",
    "plt.hold('on')\n",
    "plt.plot(x, phi, label = '$N_x = %d$' % Nx, marker = 'o', linewidth = 2)\n",
    "plt.hold('off')\n",
    "\n",
    "plt.xlabel('$x$')\n",
    "plt.ylabel(r'$\\phi = \\phi (x)$')\n",
    "plt.title('6th order PBC FD numerical solution for $\\phi$ from $\\partial_x^2\\phi = n$')\n",
    "\n",
    "plt.legend(loc = 'best')\n",
    "plt.grid('on')"
   ]
  },
  {
   "cell_type": "markdown",
   "metadata": {},
   "source": [
    "## F.1.3.a Convergence tests"
   ]
  },
  {
   "cell_type": "code",
   "execution_count": 40,
   "metadata": {
    "collapsed": false
   },
   "outputs": [
    {
     "name": "stdout",
     "output_type": "stream",
     "text": [
      "Nx12        error = 1.05336e-05       ----\n",
      "Nx24        error = 1.22653e-07       order = 6.42428\n",
      "Nx48        error = 2.01851e-09       order = 5.92514\n",
      "Nx96        error = 3.02425e-11       order = 6.06057\n",
      "Nx192        error = 4.62274e-13       order = 6.03169\n",
      "Nx384        error = 1.20113e-14       order = 5.26628\n",
      "Nx768        error = 2.2936e-13       order = -4.25515\n",
      "Nx1536        error = 4.06356e-13       order = -0.82513\n",
      "Nx3072        error = 6.4988e-13       order = -0.67743\n",
      "\n",
      "\n"
     ]
    }
   ],
   "source": [
    "%matplotlib inline\n",
    "import matplotlib.pyplot as plt\n",
    "import numpy as np\n",
    "\n",
    "Nx = [12, 24, 48, 96, 192, 384, 768, 1536, 3072]\n",
    "num_grids = len(Nx)\n",
    "\n",
    "error_norm = np.zeros(num_grids)\n",
    "orders = np.zeros(num_grids)\n",
    "\n",
    "for grid in range(num_grids):\n",
    "    # grid dependent parameters\n",
    "    dx = L / (Nx[grid] - 1)\n",
    "    x = np.linspace(a, b, Nx[grid]) # spacing dx = (b - a ) / (Nx - 1)\n",
    "    n = -4 * np.pi ** 2 * np.sin(2 * np.pi * x)\n",
    "\n",
    "    phi = Poisson_6th_LDBC_RDBC(n, Nx = Nx[grid], LBC = 0, RBC = 0)\n",
    "    phi_exact = np.sin(2 * np.pi * x)\n",
    "    error_norm[grid] = LA.norm(phi_exact - phi,2) * np.sqrt(dx / L)\n",
    "\n",
    "    if grid == 0:\n",
    "        print \"Nx%d        error = %g       ----\" % (Nx[grid], error_norm[grid])\n",
    "    else:\n",
    "        orders[grid] = np.log2(error_norm[grid-1] / error_norm[grid])\n",
    "        print \"Nx%d        error = %g       order = %g\" % (Nx[grid], error_norm[grid], orders[grid])\n",
    "        \n",
    "print '\\n'"
   ]
  },
  {
   "cell_type": "markdown",
   "metadata": {},
   "source": [
    "<b>Note</b>: it is obvious that the charge density $n_e - n_i$ must be consistent with the consequences of periodic boundary conditions on the potential. Failure to choose consistent densities $n_e$ and $n_i$ (e.g. choosing initial densities for the start of a simulation where they both evolve self-consistently) will cause the periodic BC solver to fail since, put in one way: subtracting out an \"average\" value does not center the density at zero so that integrating over $x$ does not give zero overall, but an offset persists, and the boundary conditions for $\\phi$ that are purported to be periodic contradict the actual charge densities which are incapable of producing such periodicity in $\\phi$.\n",
    "\n",
    "### Consequences of periodicity and how to choose compatible densities $n_e$ and $n_i$\n",
    "\n",
    "This has been stated above in the development noting that the matrix $\\underline{\\underline{D}}$ is circulant, but to wit consider the general multidimensional case:\n",
    "\n",
    "$$\\Delta \\phi = f$$\n",
    "\n",
    "where $f \\equiv n_e - n_i$ is the source function. Numerically, we discretize the above to arrive at the equation\n",
    "\n",
    "$$D\\phi = b$$\n",
    "\n",
    "where $D$ is a a discretization of the multidimensional Laplacian operator with accompanying Dirichlet boundary and $f$ is discretized straightforwardly. Note, that $A$ is positive definite, hence zero is not an eigenvalue and the matrix is nonsingular. Thus, there exists a solution for any $f$.\n",
    "\n",
    "Now, consider $D$ as the disretization of the Laplacian withi periodic boundary. It was shown above this matrix is circulant, hence zero is an eigenvalue (matrix is positive <i>semi</i> definite), and the matrix is not invertible. There exists a kernel $K$ with solutions $\\phi \\equiv C = \\text{const}$ belonging to the column space of $D$. Thus, $\\text{range } D = K^{\\perp}$ and $D\\phi = f$ has no solution unless $1\\cdot f = 0$, where $1 \\equiv \\underline{1}$ is the vector of all ones. Numerically, this statement is the solubility condition for the periodic Poisson problem. Analytically, it is perhaps easier to see. Consider $\\phi \\in C^2 (\\Omega )$, we have\n",
    "\n",
    "$$\\Delta \\phi = f$$\n",
    "\n",
    "integrating over the domain, \n",
    "\n",
    "$$\\int_{\\Omega} \\Delta \\phi dV = \\int_{\\Omega} f dV$$\n",
    "\n",
    "\n",
    "the left-hand side becomes\n",
    "\n",
    "$$\\int_{\\Omega} \\Delta \\phi dV = \\int_{\\partial\\Omega}\\frac{\\partial \\phi}{\\partial\\vec{n}}dS = 0, \\qquad \\text{for a periodic boundary on } \\phi$$\n",
    "\n",
    "Thus, we have\n",
    "\n",
    "$$0 = \\int_{\\Omega} f dV$$\n",
    "\n",
    "(This is the same as $1\\cdot f = 0$ in the numerical discussion above, i.e. the average value of $f$ must be zero).\n",
    "\n",
    "In 1D over $x\\in [a,b]$, for a source $f = n_e - n_i$ we have\n",
    "\n",
    "$$0 = \\int_a^b dx (n_e(x) - n_i(x))$$\n",
    "\n",
    "#### Case 1: suppose $n_e = n_e(x)$ is chosen, $n_i(x) = \\text{const}$ to be found consistently for periodic BCs$\n",
    "\n",
    "The above gives\n",
    "\n",
    "$$0 = \\int_a^b dx n_e(x) - \\int_a^b dx n_i$$\n",
    "\n",
    "or\n",
    "\n",
    "$$(b - a)n_i = \\int_a^b dx n_e(x) \\quad \\Rightarrow \\quad \\boxed{n_i = \\frac{\\int_a^b dx n_e(x)}{b - a}}$$\n",
    "\n",
    "#### Case 2: suppose $n_e = n_e(x)$ is chosen, $n_i = n_i(x)$ to be selected consistently for periodic BCs$\n",
    "\n",
    "It is easy to see the above requirement amounts to:\n",
    "\n",
    "$$\\int_a^b dx n_i (x) = \\int_a^b dx n_e(x)$$\n",
    "\n",
    "or\n",
    "\n",
    "$$\\langle n_i \\rangle_x = \\langle n_e \\rangle_x$$\n",
    "\n",
    "Which restates what was just said, the average values must be hte same (so that the source $\\langle f\\rangle  = \\langle n_e - n_i\\rangle = 0$. Hence, it does not matter the shape of the functions so long as averages are the same.\n",
    "\n"
   ]
  },
  {
   "cell_type": "markdown",
   "metadata": {},
   "source": [
    "# G. The Neumann-Dirichlet problem\n",
    "\n",
    "Here we consider the conditions such as a Neumann boundary condition (NBC) on the left ($i = 0$), i.e. LNBC, paired with a Dirichlet boundary condition (DBC) on the right ($i = N-1$), i.e. RDBC, or the opposite: LDBC and RNBC. The general problem of two NBCs will be explored thereafter, though it is obvious that a unique solution may not be tractable in that case given the conditions do not uniquely specify one solution."
   ]
  },
  {
   "cell_type": "markdown",
   "metadata": {},
   "source": [
    "## G.1 General remarks on Neumann boundary condition (NBC) setup\n",
    "\n",
    "With the motivation that centered differences provide higher fidelity derivative estimates to smooth functions as compared to sided differences, we note at the edge we can stagger the stencil somewhat beyond the left edge ($i = 0$) to make it \"more\" centered; however, we cannot do this too much to make it completely centered; the more centered we make it the more off-grid (ghost) points in $\\phi_i$ ($i < 0$) are involved, which introduce extra unknowns.\n",
    "\n",
    "At most, it turns out to be possible to include one ghost point easily (but no more) at each boundary we have an NBC at, e.g. at the boundary $i = 0$, if we write the NBC involving the ghost point $i = -1$ ($\\phi_{-1}$), we can eliminate it by writing a statement of Poisson's equation centered at the gridpoint $i = 0$ (i.e. the LHS of $\\partial_x^2\\phi = n$ is $LHS \\sim \\phi_{-1} - 2\\phi_0 + \\phi_1$). Similarly if we had an NBC at the right edge $i = N-1$, we can involve the ghost point $\\phi_N$ in the statement of the NBC at $i = N-1$, and eliminate it by a statement of Poisson's equation at the grid point $N-1$ (i.e. the LHS of $\\partial_x^2\\phi = n$ is $LHS \\sim \\phi_{N-2} - 2\\phi_{N-1} + \\phi_{N}$). \n",
    "\n",
    "If we try to be even more centered by estimating the Neumann condition using more points on the left (e.g. $\\phi_{-2,}, \\phi_{-3}, \\ldots $), we do not have the required extra equations to eliminate these new unknowns so we emphasize again that the most centered we can be for differencing the Neumann condition without using extrapolation is an asymmetry by one grid point (forward-1 scheme for a left boundary or a backward+1 scheme for a right boundary) determine these values. \n",
    "\n",
    "Thus, we summarize the above thoughts:\n",
    "\n",
    "<table \"width = 100%\">\n",
    "<tr><td><b>Requirement 1:</b> Neumann boundary condition</td></td>\n",
    "<tr><td>For a left boundary, estimate the first derivative according to\n",
    "$${}$$\n",
    "$$\\text{LTE}[\\delta_x\\phi_0] = O(\\Delta x^6)$$ \n",
    "$${}$$\n",
    "using an explicit stencil involving $\\{-1,0,1,2, \\ldots \\}$, i.e. a \"forward-1\" scheme.\n",
    "$${}$$\n",
    "or, for a right boundary\n",
    "$${}$$\n",
    "$$\\text{LTE}[\\delta_x\\phi_{N-1}] = O(\\Delta x^6)$$ \n",
    "$${}$$\n",
    "using an explicit stencil involving $\\{\\ldots , N-3, N-2, N-1, N\\}$, i.e. a \"backward+1\" scheme.\n",
    "</td></tr>\n",
    "</table>\n",
    "\n",
    "As concerns the RHS of Poisson's euation (differencing in density, recall that higher order derivatives in $\\phi$ were traded for lower orders in $n$), if we do not wish to use extrapolation methods, we must difference with only on-grid points for density (there exist no additional equations to eliminate ghost points of $n$ like there were for $\\phi$ ghost points). Thus, since introducing a ghost point at either edge for $\\phi$ required an additional Poisson equation centered about each edge node, the RHS of such statements must be sided (differencing density at the $i= 0$ or $i = N-1$ Poisson equation with forward 0 scheme or backward 0 scheme, respectively). Note, we cannot write down a Poisson's equation as it is not generally true that Poisson's equation governs the values of the fictive ghost point values $\\phi_i, i < -1$. The requirement is framed as:\n",
    "\n",
    "<table \"width = 100%\">\n",
    "<tr><td><b>Requirement 2:</b> Differenced Poisson's equation at $i = 0$</td></td>\n",
    "<tr><td>For a left boundary, estimate the density derivatives according to\n",
    "$${}$$\n",
    "$$LTE[n_{0}^{(2)}] = O(\\Delta x^4)$$\n",
    "$${}$$\n",
    "$$LTE[n_{0}^{(4)}] = O(\\Delta x^2)$$\n",
    "$${}$$\n",
    "Using <u>forward 0</u> schemes (completely forward differencing)\n",
    "$${}$$\n",
    "or, for a right boundary, require \n",
    "$${}$$\n",
    "$$LTE[n_{N-1}^{(2)}] = O(\\Delta x^4)$$\n",
    "$${}$$\n",
    "$$LTE[n_{N-1}^{(4)}] = O(\\Delta x^2)$$\n",
    "$${}$$\n",
    "Using <u>backward 0</u> (completely backward differencing).\n",
    "</td></tr>\n",
    "</table>\n"
   ]
  },
  {
   "cell_type": "markdown",
   "metadata": {},
   "source": [
    "# H. LNBC/RDBC solver\n",
    "\n",
    "We consider the boundary conditions:\n",
    "\n",
    "<ol>\n",
    "<li> $\\boxed{\\partial_x\\phi (a) = \\phi_a'}, \\phi_a'\\in \\mathbb{R}$\n",
    "<li> $\\boxed{\\phi (b) \\equiv \\phi_{N-1} = \\phi_b}$ are specified.\n",
    "</ol>\n",
    "\n",
    "for a bounded domain $x\\in [a, b]$.\n",
    "\n",
    "In our context in DECSKS-18 part 3, we use the lower (Neumann) boundary condition in order to enforce a symmetry condition ($\\partial_x \\phi (0) = 0$). We derive the general case here. The latter condition we have some Dirichlet context in mind (e.g. absorbing wall/charge collecting, or even a biased wall at constant potential)"
   ]
  },
  {
   "cell_type": "markdown",
   "metadata": {},
   "source": [
    "We do not have work to do on the upper boundary, as the equations remain the same. As concerns the Neumann (lower) boundary, we require estimating this to adequate accuracy, that is to LTE order $O(\\Delta x^6)$:\n",
    "\n",
    "$$\\text{requirement: } \\qquad \\delta_x \\phi_0 = \\partial_x\\phi_a + O(\\Delta x^6)$$\n",
    "\n",
    "where as usual, $\\delta_x$ is a finite difference operator compared to the continuous analog $\\partial_x$."
   ]
  },
  {
   "cell_type": "markdown",
   "metadata": {},
   "source": [
    "To meet this requirement on the NBC, we generate the finite difference table needed for the first derivative at LTE order 6 and we use the forward-1 scheme"
   ]
  },
  {
   "cell_type": "code",
   "execution_count": 3,
   "metadata": {
    "collapsed": false
   },
   "outputs": [],
   "source": [
    "# wd: pyfiles/bin/\n",
    "\n",
    "import generate_tables_of_finite_difference_schemes_for_a_given_LTE\n",
    "generate_tables_of_finite_difference_schemes_for_a_given_LTE.main(dn = 1, LTE = 6)"
   ]
  },
  {
   "cell_type": "markdown",
   "metadata": {},
   "source": [
    "This produces the file <code>f1_LTE_6_FD_coefficients.dat</code> for all schemes, the relevant scheme for our case is:\n",
    "\n",
    "    f^(1): LTE = O(z^6)\n",
    "    =========================\n",
    "    f^(1): forward 1\n",
    "    -------------------------\n",
    "    (weights, stencil)\n",
    "    -0.16667, -1\n",
    "    -1.28333,  0\n",
    "     2.50000,  1\n",
    "    -1.66667,  2\n",
    "     0.83333,  3\n",
    "    -0.25000,  4\n",
    "     0.03333,  5\n",
    "    -------------------------\n",
    "\n",
    "Or, equivalently we write each weight in $\\mathbb{Q}$ as:\n",
    "\n",
    "$$\\text{stencil} = \\{-1, 0, 1, 2, 3, 4, 5\\}$$\n",
    "$$\\text{weights} = \\{-\\tfrac{1}{6}, -\\tfrac{77}{60}, \\tfrac{5}{2}, -\\tfrac{5}{3}, \\tfrac{5}{6}, -\\tfrac{1}{4}, \\tfrac{1}{30}\\}$$\n",
    "\n",
    "which is used to difference $\\phi_0$ for the first derivative:\n",
    "\n",
    "$$\\phi^{(1)}_0 = \\frac{1}{\\Delta x}\\left(-\\frac{1}{6}\\phi_{-1} - \\frac{77}{60}\\phi_0 + \\frac{5}{2}\\phi_1 - \\frac{5}{3}\\phi_2 + \\frac{5}{6}\\phi_3 - \\frac{1}{4}\\phi_4 + \\frac{1}{30}\\phi_5\\right) + O(\\Delta x^6)$$"
   ]
  },
  {
   "cell_type": "markdown",
   "metadata": {},
   "source": [
    "Invoking the Neumann boundary condition, we have that $\\phi_0^{(1)} = \\phi_a'$, that is,\n",
    "\n",
    "$$\\frac{1}{\\Delta x}\\left(-\\frac{1}{6}\\phi_{-1} - \\frac{77}{60}\\phi_0 + \\frac{5}{2}\\phi_1 - \\frac{5}{3}\\phi_2 + \\frac{5}{6}\\phi_3 - \\frac{1}{4}\\phi_4 + \\frac{1}{30}\\phi_5\\right) = \\phi_a'$$\n",
    "\n",
    "As promised, this differencing produces an off-grid unknown value of $\\phi_{-1}$. Here, we solve for $\\phi_{-1}$, and plan on using its result to elminate its present in the Poisson's equation statement centered at $i = 0$ (see below).\n",
    "\n",
    "Solving for the ghost point:\n",
    "\n",
    "\\begin{eqnarray*}\n",
    "\\frac{1}{6}\\phi_{-1} & = & -\\frac{77}{60}\\phi_0 + \\frac{5}{2}\\phi_1 - \\frac{5}{3}\\phi_2 + \\frac{5}{6}\\phi_3 - \\frac{1}{4}\\phi_4 + \\frac{1}{30}\\phi_5 -(\\Delta x) \\phi_a' \\\\\n",
    "\\end{eqnarray*}\n",
    "\n",
    "or\n",
    "\n",
    "$$\\boxed{\\phi_{-1} =  -\\frac{77}{10}\\phi_0 + 15\\phi_1 - 10\\phi_2 + 5\\phi_3 - \\frac{3}{2}\\phi_4 + \\frac{1}{5}\\phi_5 -6(\\Delta x) \\phi_a'}$$"
   ]
  },
  {
   "cell_type": "markdown",
   "metadata": {},
   "source": [
    "We now investigate the form of Poisson's equation centered at the node $i = 0$, which also will involve $\\phi_{-1}$. The general statement, as usual, is given by a form of eq. $(*)$:\n",
    "\n",
    "$$\\frac{1}{(\\Delta x)^2}\\left(\\phi_{1} - 2\\phi_0 + \\phi_{-1}\\right) = n_{0} + \\frac{2}{4!}(\\Delta x)^2n_{0}^{(2)} + \\frac{2}{6!}(\\Delta x)^4n_{0}^{(4)} + O(\\Delta x^6) \\qquad \\qquad (\\, * \\, )$$\n",
    "\n",
    "Note, here we write $n_{i} \\, (i = 0)$ as the $i$th point of the total density $n$ for generality, that is $n_i = n_{e,i} - n_{i,i}$, it is not to be confused with the ion density itself.\n",
    "\n",
    "Recall on the right-hand side we have traded higher order derivatives of $\\phi$ (wider stencils if explicit differencing) for lower order derivatives in $n$. Noting that we do not have information regarding the density at ghost points, we require sided differences. "
   ]
  },
  {
   "cell_type": "markdown",
   "metadata": {},
   "source": [
    "We do not wish to use extrapolation methods here, hence we need difference the density involving only on-grid locations. We could do this implicitly or explicitly, we choose the latter to reduce considerations here as well as perhaps the more intensive computational solution (which may not be a fair reason, this is a claim made from shallow observation). \n",
    "\n",
    "For the density derivatives, we generate the following forward 0 schemes from the generating scripts:"
   ]
  },
  {
   "cell_type": "code",
   "execution_count": 4,
   "metadata": {
    "collapsed": true
   },
   "outputs": [],
   "source": [
    "# wd: pyfiles/bin/\n",
    "\n",
    "import generate_tables_of_finite_difference_schemes_for_a_given_LTE\n",
    "\n",
    "generate_tables_of_finite_difference_schemes_for_a_given_LTE.main(dn = 2, LTE = 4)\n",
    "generate_tables_of_finite_difference_schemes_for_a_given_LTE.main(dn = 4, LTE = 2)"
   ]
  },
  {
   "cell_type": "markdown",
   "metadata": {},
   "source": [
    "The output creates the data files <code>f2_LTE_4_FD_coefficients.dat</code> and <code>f4_LTE_2_FD_coefficients.dat</code> which give the finite difference coefficients and corresponding stencils of all schemes. The relevant schemes for us include:\n",
    "\n",
    "    =========================\n",
    "    f^(2): LTE = O(z^4)\n",
    "    =========================\n",
    "    \n",
    "    f^(2): forward 0\n",
    "    -------------------------\n",
    "    (weights, stencil)\n",
    "     3.75000,   0\n",
    "    -12.83333,  1\n",
    "     17.83333,  2\n",
    "    -13.00000,  3\n",
    "     5.08333,   4\n",
    "    -0.83333,   5\n",
    "    -------------------------\n",
    "\n",
    "or, \n",
    "\n",
    "$$\\text{stencil} = \\{0, 1, 2, 3, 4, 5\\}$$\n",
    "$$\\text{weights} = \\{\\tfrac{15}{4}, -\\tfrac{77}{6}, \\tfrac{107}{6}, -13, \\tfrac{61}{12}, -\\tfrac{5}{6}\\}$$\n",
    "\n",
    "in terms of $n$, we have\n",
    "\n",
    "$$n_0^{(2)} = \\frac{1}{(\\Delta x)^2}\\left(\\frac{15}{4}n_0 -\\frac{77}{6}n_1 + \\frac{107}{6}n_2 -13n_3 + \\frac{61}{12}n_4 -\\frac{5}{6}n_5\\right)  + O(\\Delta x^4)$$\n",
    "\n",
    "and\n",
    "\n",
    "    =========================\n",
    "    f^(4): LTE = O(z^2)\n",
    "    =========================\n",
    "    \n",
    "    f^(4): forward 0\n",
    "    -------------------------\n",
    "    (weights, stencil)\n",
    "     3.00000,   0\n",
    "    -14.00000,  1\n",
    "     26.00000,  2\n",
    "    -24.00000,  3\n",
    "     11.00000,  4\n",
    "    -2.00000,   5\n",
    "    -------------------------\n",
    "    \n",
    "or, \n",
    "\n",
    "$$\\text{stencil} = \\{0, 1, 2, 3, 4, 5\\}$$\n",
    "$$\\text{weights} = \\{3, -14, 26, -24, 11, -2\\}$$\n",
    "\n",
    "in terms of $n$, we have\n",
    "\n",
    "$$n_0^{(4)} = \\frac{1}{(\\Delta x)^4}\\left(3n_0 -14 n_1 + 26 n_2  - 24 n_3 + 11n_4 -2 n_5\\right) + O(\\Delta x^2)$$\n",
    "\n"
   ]
  },
  {
   "cell_type": "markdown",
   "metadata": {},
   "source": [
    "Putting this altogether in eq. $(*)$\n",
    "\n",
    "$$\\frac{1}{(\\Delta x)^2}\\left(\\phi_{1} - 2\\phi_0 + \\phi_{-1}\\right) = n_{0} + \\frac{2}{4!}(\\Delta x)^2n_{0}^{(2)} + \\frac{2}{6!}(\\Delta x)^4n_{0}^{(4)} + O(\\Delta x^6) \\qquad \\qquad (\\, * , \\,\\text{revisited} )$$"
   ]
  },
  {
   "cell_type": "markdown",
   "metadata": {},
   "source": [
    "we have\n",
    "\n",
    "\\begin{eqnarray*}\n",
    "\\frac{1}{(\\Delta x)^2}\\left(\\phi_{1} - 2\\phi_0 + \\phi_{-1}\\right) & = & n_{0} + \\frac{2}{4!}(\\Delta x)^2n_{0}^{(2)} + \\frac{2}{6!}(\\Delta x)^4n_{0}^{(4)} + O(\\Delta x^6)\\\\\n",
    "&&\\\\\n",
    "& = & n_{0} + \\frac{2}{4!}(\\Delta x)^2\\left\\{\\frac{1}{(\\Delta x)^2}\\left(\\frac{15}{4}n_0 -\\frac{77}{6}n_1 + \\frac{107}{6}n_2 -13n_3 + \\frac{61}{12}n_4 -\\frac{5}{6}n_5\\right)  + O(\\Delta x^4)\\right\\} + \\frac{2}{6!}(\\Delta x)^4\\left\\{\\frac{1}{(\\Delta x)^4}\\left(3n_0 -14 n_1 + 26 n_2  - 24 n_3 + 11n_4 -2 n_5\\right) + O(\\Delta x^2)\\right\\} + O(\\Delta x^6) \\\\\n",
    "&&\\\\\n",
    "& = & n_{0} + \\frac{2}{4!}\\left\\{\\left(\\frac{15}{4}n_0 -\\frac{77}{6}n_1 + \\frac{107}{6}n_2 -13n_3 + \\frac{61}{12}n_4 -\\frac{5}{6}n_5\\right)\\right\\} + \\frac{2}{6!}\\left\\{\\left(3n_0 -14 n_1 + 26 n_2  - 24 n_3 + 11n_4 -2 n_5\\right)\\right\\} + O(\\Delta x^6) \\\\\n",
    "&&\\\\\n",
    "& = & \\left[1 + \\frac{2}{4!}\\left(\\frac{15}{4}\\right) + \\frac{2}{6!}(3)\\right]n_{0} \\\\\n",
    "&& + \\left[\\frac{2}{4!}\\left(-\\frac{77}{6}\\right) + \\frac{2}{6!}(-14)\\right]n_1 \\\\\n",
    "&& + \\left[\\frac{2}{4!}\\left(\\frac{107}{6}\\right) + \\frac{2}{6!}(26)\\right]n_2 \\\\\n",
    "&& + \\left[\\frac{2}{4!}(-13) + \\frac{2}{6!}(-24)\\right]n_3 \\\\\n",
    "&& + \\left]\\frac{2}{4!}\\left(\\frac{61}{12}\\right) + \\frac{2}{6!}(11)\\right]n_4 \\\\\n",
    "&& + \\left[\\frac{2}{4!}\\left(-\\frac{5}{6}\\right) + \\frac{2}{6!}(-2)\\right]n_5 \\\\\n",
    "&& + O(\\Delta x^6)\n",
    "&&\\\\\n",
    "\\frac{1}{(\\Delta x)^2}\\left(\\phi_{1} - 2\\phi_0 + \\phi_{-1}\\right)  & = & \\frac{317}{240}n_0 - \\frac{133}{120}n_1 + \\frac{187}{120}n_2 - \\frac{23}{20}n_3  + \\frac{109}{240}n_4 - \\frac{3}{40}n_5 + O(\\Delta x^6)\n",
    "\\end{eqnarray*}\n",
    "\n",
    "Recalling that\n",
    "\n",
    "$$\\phi_{-1} =  -\\frac{77}{10}\\phi_0 + 15\\phi_1 - 10\\phi_2 + 5\\phi_3 - \\frac{3}{2}\\phi_4 + \\frac{1}{5}\\phi_5 -6(\\Delta x) \\phi_a'$$\n",
    "\n",
    "we eliminate the unknown ghost point by insertion into the above equation:\n",
    "\n",
    "\\begin{eqnarray*}\n",
    "\\frac{1}{(\\Delta x)^2}\\left(\\phi_{1} - 2\\phi_0 + \\phi_{-1}\\right)  & = & \\frac{317}{240}n_0 - \\frac{133}{120}n_1 + \\frac{187}{120}n_2 - \\frac{23}{20}n_3  + \\frac{109}{240}n_4 - \\frac{3}{40}n_5 + O(\\Delta x^6) \\\\\n",
    "&&\\\\\n",
    "\\frac{1}{(\\Delta x)^2}\\left(\\phi_{1} - 2\\phi_0 + \\left[-\\frac{77}{10}\\phi_0 + 15\\phi_1 - 10\\phi_2 + 5\\phi_3 - \\frac{3}{2}\\phi_4 + \\frac{1}{5}\\phi_5 -6(\\Delta x) \\phi_a'\\right]\\right)  & = & \\frac{317}{240}n_0 - \\frac{133}{120}n_1 + \\frac{187}{120}n_2 - \\frac{23}{20}n_3  + \\frac{109}{240}n_4 - \\frac{3}{40}n_5 + O(\\Delta x^6) \\\\ \n",
    "&& \\\\\n",
    "\\frac{1}{(\\Delta x)^2}\\left(-\\frac{97}{10}\\phi_0 + 16\\phi_{1} - 10\\phi_2 + 5\\phi_3 - \\frac{3}{2}\\phi_4 + \\frac{1}{5}\\phi_5 -6(\\Delta x) \\phi_a'\\right)  & = & \\frac{317}{240}n_0 - \\frac{133}{120}n_1 + \\frac{187}{120}n_2 - \\frac{23}{20}n_3  + \\frac{109}{240}n_4 - \\frac{3}{40}n_5 + O(\\Delta x^6) \\\\ \n",
    "\\end{eqnarray*}\n",
    "\n",
    "or\n",
    "\n",
    "$$\\boxed{\\frac{1}{(\\Delta x)^2}\\left(-\\frac{97}{10}\\phi_0 + 16\\phi_{1} - 10\\phi_2 + 5\\phi_3 - \\frac{3}{2}\\phi_4 + \\frac{1}{5}\\phi_5\\right)  =  \\frac{317}{240}n_0 - \\frac{133}{120}n_1 + \\frac{187}{120}n_2 - \\frac{23}{20}n_3  + \\frac{109}{240}n_4 - \\frac{3}{40}n_5 + \\frac{6}{\\Delta x} \\phi_a'}\\qquad \\text{Poisson's equation at } i = 0$$ \n"
   ]
  },
  {
   "cell_type": "markdown",
   "metadata": {},
   "source": [
    "That completes the additional equations required for the Neumann condition. We now move onto assembling the matrix problem."
   ]
  },
  {
   "cell_type": "markdown",
   "metadata": {},
   "source": [
    "## H.1 Assembling the matrix problem (NBC/DBC)"
   ]
  },
  {
   "cell_type": "markdown",
   "metadata": {},
   "source": [
    "With the $N-1$ differenced Poisson's equations (for nodes $i = 0, 1, 2, \\ldots N-2$) + 1 Dirichlet boundary condition that are known a priori, we have $N$ equations for $N$ unknowns ($\\phi_i, \\, i = 0, 1, 2, \\ldots N-1$). We write several equations for various indices $i$ in order to clearly see the matrix take form. We wish to set up the discrete problem as follows:\n",
    "\n",
    "$$\\partial_x^2\\phi = n \\qquad \\longrightarrow \\qquad \\frac{1}{(\\Delta x)^2}\\underline{\\underline{D}}\\underline{\\phi} = \\underline{b} \\quad \\text{ or } \\quad \\underline{\\underline{D}}\\underline{\\phi} = (\\Delta x)^2\\underline{b} \\qquad (H.1)$$"
   ]
  },
  {
   "cell_type": "markdown",
   "metadata": {},
   "source": [
    "The left-hand side ($\\partial_x^2 \\phi \\simeq \\underline{\\underline{D}}\\underline{\\phi})$ has the factor of $(\\Delta x)^2$ brought to the right-hand side. With this understanding, we have the following set of scalar equations to organize: "
   ]
  },
  {
   "cell_type": "markdown",
   "metadata": {},
   "source": [
    "$$-\\frac{97}{10}\\phi_0 + 16\\phi_{1} - 10\\phi_2 + 5\\phi_3 - \\frac{3}{2}\\phi_4 + \\frac{1}{5}\\phi_5  =  (\\Delta x)^2\\left[\\frac{317}{240}n_0 - \\frac{133}{120}n_1 + \\frac{187}{120}n_2 - \\frac{23}{20}n_3  + \\frac{109}{240}n_4 - \\frac{3}{40}n_5\\right] + 6 (\\Delta x) \\phi_a'$$\n",
    "\n",
    "\\begin{eqnarray*}\n",
    "i = 0: & \\phi_{-1} - 2\\phi_0 + \\phi_{1} & = \\phantom{-}(\\Delta x)^2\\left[\\frac{317}{240}n_0 - \\frac{133}{120}n_1 + \\frac{187}{120}n_2 - \\frac{23}{20}n_3  + \\frac{109}{240}n_4 - \\frac{3}{40}n_5\\right] \\\\[1em]\n",
    "i = 1: & \\phi_0 -2\\phi_1 + \\phi_2 & =  \\phantom{-}(\\Delta x)^2\\left[\\frac{3}{40}n_{0} + \\frac{209}{240}n_{1} + \\frac{1}{60}n_{2} + \\frac{7}{120}n_{3} - \\frac{1}{40}n_{4} + \\frac{1}{240}n_{5}\\right] \\\\[1em]\n",
    "i = 2: & \\phi_1 -2\\phi_2 + \\phi_3 & = (\\Delta x)^2\\left[-\\frac{1}{240}n_{0} + \\frac{1}{10}n_{1} + \\frac{97}{120}n_{2} + \\frac{1}{10}n_{3} - \\frac{1}{240}n_{4}\\right] \\\\[1em]\n",
    "i = 3: & \\phi_2 -2\\phi_3 + \\phi_4 & =  (\\Delta x)^2\\left[-\\frac{1}{240}n_{1} + \\frac{1}{10}n_{2} + \\frac{97}{120}n_{3} + \\frac{1}{10}n_{4} - \\frac{1}{240}n_{5}\\right] \\\\[2em]\n",
    "\\vdots \\\\[2em]\n",
    "i = N-4: & \\phi_{N-5} -2\\phi_{N-4} + \\phi_{N-3} & = (\\Delta x)^2\\left[-\\frac{1}{240}n_{N-6} + \\frac{1}{10}n_{N-5} + \\frac{97}{120}n_{N-4} + \\frac{1}{10}n_{N-3} - \\frac{1}{240}n_{N-2}\\right] \\\\[1em]\n",
    "i = N-3: & \\phi_{N-4} -2\\phi_{N-3} + \\phi_{N-2} & = (\\Delta x)^2\\left[-\\frac{1}{240}n_{N-5} + \\frac{1}{10}n_{N-4} + \\frac{97}{120}n_{N-3} + \\frac{1}{10}n_{N-2} - \\frac{1}{240}n_{N-1}\\right] \\\\[1em]\n",
    "i = N - 2: & \\phi_{N-3} - 2\\phi_{N-2} + \\phi_{N-1} & = \\phantom{-}(\\Delta x)^2\\left[\\frac{1}{240}n_{N-6} - \\frac{1}{40}n_{N-5} + \\frac{7}{120}n_{N-4} + \\frac{1}{60}n_{N-3} + \\frac{209}{240}n_{N-2} + \\frac{3}{40}n_{N-1}\\right] \\\\[1em]\n",
    "i = N-1: & (\\Delta x)^2\\phi_{N-1}  & = \\phantom{-}(\\Delta x)^2\\phi_b\n",
    "\\end{eqnarray*}\n"
   ]
  },
  {
   "cell_type": "markdown",
   "metadata": {},
   "source": [
    "We choose to partition the density matrices and the boundary values as follows, by writing:\n",
    "\n",
    "$$\\underline{b} = \\underline{\\underline{B}}_{N\\times N}\\cdot \\underline{n}_{N\\times 1} + \\frac{1}{(\\Delta x)^2} \\underline{\\phi}_{BC}$$\n",
    "\n",
    "So that the above becomes "
   ]
  },
  {
   "cell_type": "markdown",
   "metadata": {},
   "source": [
    "$$\\underline{\\underline{D}}_{N\\times N}\\cdot\\underline{\\phi}_{N\\times 1} = (\\Delta x)^2\\cdot \\underline{\\underline{B}}_{N\\times N}\\cdot \\underline{n}_{N\\times 1} + (\\underline{\\phi}_{BC})_{N\\times 1}$$\n",
    "\n",
    "Notice that reviewing the $i = N-1$ equation allows us to omit the factors of $(\\Delta x)^2$ as they appear on both sides of the equation provided that the matrix $\\underline{\\underline{B}}$ contains a row of zeros for the last row so as to make the $i = N-1$ equation independent of density as above. \n",
    "\n",
    "Along similar reasoning, the $i = 0$ equation shows we can have the first entry of the auxillian $\\underline{\\phi}$ be $6(\\Delta x)\\phi_a'$. Thus, we have form the following objects:"
   ]
  },
  {
   "cell_type": "markdown",
   "metadata": {},
   "source": [
    "Where \n",
    "\n",
    "$$(\\underline{\\phi}_{BC})_{N\\times 1} = [(6(\\Delta x) \\phi_a', 0 , 0, \\ldots , 0 , \\phi_b)^T]_{(N+1)\\times 1}$$\n",
    "\n",
    "the density vector \n",
    "\n",
    "$$\\underline{n}_{N\\times 1} = (n_0, n_1, n_2, \\ldots , n_{N-2}, n_{N-1})^T$$"
   ]
  },
  {
   "cell_type": "markdown",
   "metadata": {},
   "source": [
    "the difference matrix $\\underline{\\underline{D}}$ then takes the form  (LHS = \"left-hand side\"):\n",
    "\n",
    "$$\\underline{\\underline{D}} = \\underline{\\underline{D}}_{N\\times N} = \\left( \\begin{array}{c}\n",
    "i = 0: \\, \\text{central differencing on } \\{\\phi_i\\}  \\text{ with $\\phi_{-1}$ ghost point eliminated by NBC} \\\\\n",
    "i = 1: \\, \\text{central differencing FD coefficients on }  \\{\\phi_i\\}\\\\\n",
    "i = 2: \\, \\text{central differencing FD coefficients on }   \\{\\phi_i\\}\\\\\n",
    "i = 3: \\, \\text{central differencing FD coefficients on }   \\{\\phi_i\\}\\\\\n",
    "\\vdots \\\\\n",
    "\\vdots \\\\\n",
    "\\vdots \\\\\n",
    "i = N-3: \\, \\text{central differencing FD coefficients on }   \\{\\phi_i\\}\\\\\n",
    "i = N-2: \\, \\text{central differencing FD coefficients on }   \\{\\phi_j\\}\\\\\n",
    "i = N-1: \\, \\text{Dirichlet BC LHS coefficient of: } 1\\cdot\\phi_{N-1} = \\phi_b \n",
    "\\end{array} \\right)$$\n",
    "\n",
    "which takes the form,\n",
    "\n",
    " $$\\underline{\\underline{D}} = \\left( \\begin{array}{c c c c c c c c c}\n",
    "-\\frac{97}{10} & 16 & -10 &  5 & -\\frac{3}{2} & \\frac{1}{5} & 0 & \\cdots & 0 \\\\\n",
    "1 & -2 & 1 & 0 & \\cdots & \\cdots & \\cdots & \\cdots  & \\cdots & 0 \\\\\n",
    "0 & 1 & -2 & 1 & 0 & \\cdots & \\cdots & \\cdots &  \\cdots & 0 \\\\\n",
    "0 & 0 & 1 & -2 & 1 & 0 & \\cdots & \\cdots & \\cdots & 0\\\\\n",
    "\\vdots & \\vdots & 0 & \\ddots & \\ddots & \\ddots & 0 & \\cdots & \\cdots & 0\\\\\n",
    "\\vdots & \\vdots & \\vdots & 0 & \\ddots & \\ddots & \\ddots & 0 & \\cdots & 0\\\\\n",
    "\\vdots & \\vdots & \\vdots & \\vdots & 0 & \\ddots & \\ddots & \\ddots & 0 & 0 \\\\\n",
    "\\vdots & \\vdots & \\vdots & \\vdots & \\vdots & 0 & 1 & -2 & 1 & 0 \\\\\n",
    "\\vdots & \\vdots & \\vdots & \\vdots & \\vdots & \\vdots & 0 & 1 & -2 & 1 \\\\\n",
    "0 & 0 & 0 & 0 & 0 & 0 & 0 & 0 & 0 & 1 \n",
    "\\end{array} \\right)$$\n",
    "\n",
    "\n",
    "<table \"width = 85%\">\n",
    "<tr><td><b>Solubility</b></td></tr>\n",
    "<tr><td>\n",
    "The determinant $\\text{det}(\\underline{\\underline{D}}) = -6$ of the matrix $\\underline{\\underline{D}}$ is nonzero and thus invertible, hence a unique solution exists.\n",
    "</td></tr>\n",
    "</table>\n",
    "\n",
    "Similarly, by reviewing the above set of scalar equations, we show the form of the matrix $\\underline{\\underline{B}}_{N\\times N}$:"
   ]
  },
  {
   "cell_type": "markdown",
   "metadata": {},
   "source": [
    "$$\\underline{\\underline{B}} = \\left( \\begin{array}{c}\n",
    "i = 0 \\text{, Neumann boundary condition factored in with auxillary vector, } \\underline{\\phi}_{BC} \\text{ forward 0 differencing scheme on density} \\\\\n",
    "i = 1 \\text{, forward-1 differencing scheme} \\\\\n",
    "i = 2 \\text{, central differencing scheme} \\\\\n",
    "i = 3 \\text{, central differencing scheme} \\\\\n",
    "\\vdots \\\\\n",
    "i = N-3 \\text{, central differencing scheme} \\\\\n",
    "i = N-2 \\text{, backward+1 differencing scheme} \\\\\n",
    "i = N-1 \\text{, Dirichlet boundary condition factored in with auxillary vector, } \\underline{\\phi}_{BC}, \\text{ density not involved } \\ldots = \\underline{0} \\\\\n",
    "\\end{array} \\right)_{(N+1)\\times (N+1)}\n",
    "=  \\left( \\begin{array}{c c c c c c c c c c c c c c}\n",
    "\\frac{317}{240} & -\\frac{133}{120} & \\frac{187}{120} & -\\frac{23}{20}  & \\frac{109}{240}  & - \\frac{3}{40} & 0 & \\cdots & \\cdots  &0 \\\\ \n",
    "\\frac{3}{40} & \\frac{209}{240} & \\frac{1}{60} & \\frac{7}{120} & -\\frac{1}{40} & \\frac{1}{240} & 0 & \\cdots & \\cdots & 0\\\\\n",
    "-\\frac{1}{240} & \\frac{1}{10} & \\frac{97}{120} & \\frac{1}{10} & -\\frac{1}{240} & 0 & 0 & \\cdots  & \\cdots & 0 \\\\\n",
    "0 & -\\frac{1}{240} & \\frac{1}{10} & \\frac{97}{120} & \\frac{1}{10} & -\\frac{1}{240} & 0 & \\cdots & \\cdots & 0 \\\\\n",
    "0 & \\ddots & \\ddots & \\ddots & \\ddots & \\ddots & \\ddots & \\ddots & 0 & 0  \\\\\n",
    "\\vdots & 0  & \\ddots  & \\ddots & \\ddots & \\ddots & \\ddots & \\ddots  & 0 & 0\\\\\n",
    "\\vdots & \\vdots & 0 & \\ddots & \\ddots & \\ddots & \\ddots & \\ddots & \\ddots  & 0\\\\\n",
    "\\vdots & \\vdots & 0 & \\ddots & 0 & -\\frac{1}{240} & \\frac{1}{10} & \\frac{97}{120} & \\frac{1}{10} & -\\frac{1}{240} \\\\\n",
    "\\vdots & \\vdots & \\vdots & 0 & \\frac{1}{240} & -\\frac{1}{40} & \\frac{7}{120} & \\frac{1}{60} & \\frac{209}{240} & \\frac{3}{40} \\\\\n",
    "0 & 0 & 0 & 0 &  0&   0 &  0 &  0  &  0 &  0\\\\\n",
    "\\end{array} \\right)_{N\\times N}$$"
   ]
  },
  {
   "cell_type": "markdown",
   "metadata": {},
   "source": [
    "## H.2 Implementation"
   ]
  },
  {
   "cell_type": "markdown",
   "metadata": {
    "collapsed": true
   },
   "source": [
    "### Poisson_6th_LNBC_RDBC.py\n",
    "\n",
    "At some point we will consolidate these routines. Here, LNBC = Left Neumann boundary condition, RDBC = Right Dirichlet boundary condition"
   ]
  },
  {
   "cell_type": "code",
   "execution_count": 41,
   "metadata": {
    "collapsed": false
   },
   "outputs": [],
   "source": [
    "import numpy as np\n",
    "import numpy.linalg as LA\n",
    "import matplotlib.pyplot as plt\n",
    "\n",
    "def Poisson_6th_LNBC_RDBC(n, Nx = 24, a = 0., b = 1., LBC = 0., RBC = 1.):\n",
    "    \"\"\"6th order LTE finite difference Poisson solver for Dirichlet BCs\n",
    "\n",
    "    inputs:\n",
    "    n -- (ndarray, ndim = 1) density vector\n",
    "    Nx -- (int) number of grid points\n",
    "    a -- (float) left boundary of x-domain\n",
    "    b -- (float) right boundary of x-domain\n",
    "                          \n",
    "    outputs:\n",
    "    x -- (ndarray, ndim = 1) mesh points (abscissa)\n",
    "    phi -- (ndarray, ndim = 1) numerical solution to potential\n",
    "    phi_exact -- (ndarray, ndim = 1) exact solution (chosen)\n",
    "    \"\"\"\n",
    "\n",
    "    L = float(b - a)\n",
    "    dx = L / (Nx - 1)\n",
    "    \n",
    "    # augmented density vector N = (0, n), shape = (N+1,)\n",
    "    \n",
    "    N = np.zeros(Nx)\n",
    "\n",
    "    # assemble differencing matrix\n",
    "   \n",
    "    D = np.zeros((Nx,Nx))\n",
    "    \n",
    "    # LNBC row\n",
    "    D[0,0] = -97/10. \n",
    "    D[0,1] = 16.\n",
    "    D[0,2] = -10\n",
    "    D[0,3] = 5.\n",
    "    D[0,4] = -3/2. \n",
    "    D[0,5] = 1/5.\n",
    "    \n",
    "    # RDBC row\n",
    "    D[-1,-1] = 1.\n",
    "    \n",
    "    # Poisson's equation rows\n",
    "    for i in range(1,Nx-1):\n",
    "        D[i,i-1] = 1\n",
    "        D[i,i] = -2\n",
    "        D[i,i+1] = 1\n",
    "\n",
    "\n",
    "    # Assemble FD coefficient matrix on n: B\n",
    "    B = np.zeros((Nx,Nx))\n",
    "    for i in range(B.shape[0]):\n",
    "        if i == 0:\n",
    "            B[i,i] = 317 / 240.\n",
    "            B[i,i+1] = -133/120.\n",
    "            B[i,i+2] = 187 / 120.\n",
    "            B[i,i+3] = -23 / 20.\n",
    "            B[i,i+4] = 109 / 240.\n",
    "            B[i,i+5] = -3/40.\n",
    "\n",
    "        elif i == 1:\n",
    "\n",
    "            B[i, i-1] = 3 / 40.\n",
    "            B[i, i] = 209 / 240.\n",
    "            B[i,i+1] = 1 / 60.\n",
    "            B[i,i+2] = 7 / 120.\n",
    "            B[i,i+3] = -1 / 40.\n",
    "            B[i,i+4] = 1 / 240.\n",
    "\n",
    "        elif 2 <= i <= Nx-3:\n",
    "\n",
    "            B[i,i-2] = -1/240.\n",
    "            B[i,i-1] = 1/10.\n",
    "            B[i,i] = 97/120.\n",
    "            B[i,i+1] = 1/10.\n",
    "            B[i,i+2] = -1/240.\n",
    "\n",
    "        elif i == Nx-2:\n",
    "\n",
    "            B[i,i+1] = 3 / 40.\n",
    "            B[i,i] = 209 / 240.\n",
    "            B[i,i-1] = 1 / 60.\n",
    "            B[i,i-2] = 7 / 120.\n",
    "            B[i,i-3] = -1 / 40.\n",
    "            B[i,i-4] = 1 / 240.\n",
    "\n",
    "        # else i == Nx-1: row of zeros\n",
    "\n",
    "    phi_BC = np.zeros(Nx)\n",
    "\n",
    "    phi_BC[0] = 6 * dx * LBC\n",
    "    phi_BC[-1] = RBC\n",
    "\n",
    "    b = dx ** 2 * B.dot(n) + phi_BC\n",
    "    phi = LA.solve(D,b)\n",
    "\n",
    "    return phi"
   ]
  },
  {
   "cell_type": "markdown",
   "metadata": {},
   "source": [
    "## H.3 Convergence tests"
   ]
  },
  {
   "cell_type": "markdown",
   "metadata": {},
   "source": [
    "We consdider the Poisson problem,\n",
    "\n",
    "$$\\partial_x^2 \\phi = n, \\qquad n = \\cos (2\\pi x) + x$$\n",
    "\n",
    "where\n",
    "\n",
    "$$\\partial_x\\phi (0) = 0, \\,\\,\\phi (1) = \\frac{1}{6}$$\n",
    "\n",
    "Whose exact solution is\n",
    "\n",
    "$$\\phi_{exact}(x) \\frac{1}{4\\pi^2}\\left[1 - \\cos (2\\pi x)\\right] + \\frac{1}{6}x^3$$\n",
    "\n",
    "For reference, we provide the first derivative:\n",
    "\n",
    "$$\\partial_x\\phi_{exact}(x) = \\frac{1}{2\\pi} \\sin (2\\pi x) + \\frac{1}{2}x^2$$\n",
    "\n",
    "Which can be noticed to satisfy the left edge Neumann condition, whereas the Dirichlet condition is clearly met by the right edge."
   ]
  },
  {
   "cell_type": "code",
   "execution_count": 48,
   "metadata": {
    "collapsed": false,
    "scrolled": false
   },
   "outputs": [
    {
     "data": {
      "text/plain": [
       "<matplotlib.legend.Legend at 0x65b4fd0>"
      ]
     },
     "execution_count": 48,
     "metadata": {},
     "output_type": "execute_result"
    },
    {
     "data": {
      "image/png": "[encoded data removed]",
      "text/plain": [
       "<matplotlib.figure.Figure at 0x4486850>"
      ]
     },
     "metadata": {},
     "output_type": "display_data"
    }
   ],
   "source": [
    "%matplotlib inline\n",
    "import matplotlib.pyplot as plt\n",
    "import numpy as np\n",
    "\n",
    "Nx = 1000\n",
    "a, b = 0., 1.\n",
    "x = np.linspace(a, b, Nx)\n",
    "\n",
    "n = np.cos(2*np.pi * x) + x\n",
    "\n",
    "phi_exact = 1 / (4 * np.pi ** 2) * (1 - np.cos(2*np.pi * x)) + 1 / 6. * x ** 3\n",
    "phi = Poisson_6th_LNBC_RDBC(n, Nx, a, b, LBC = 0., RBC = 1/6.)\n",
    "\n",
    "plt.plot(x, phi_exact, linewidth = 6, label = 'Exact')\n",
    "plt.hold('on')\n",
    "plt.plot(x, phi, linewidth = 6, linestyle = '--', label = 'numerical')\n",
    "plt.hold('off')\n",
    "plt.grid()\n",
    "plt.title(r'$N_x = 1000, \\partial_x^2 \\phi = \\cos (2\\pi x) + x$', fontsize = 20)\n",
    "plt.legend(loc = 'best')"
   ]
  },
  {
   "cell_type": "code",
   "execution_count": 49,
   "metadata": {
    "collapsed": false,
    "scrolled": true
   },
   "outputs": [
    {
     "name": "stdout",
     "output_type": "stream",
     "text": [
      "Nx12        error = 6.60477e-05       ----\n",
      "Nx24        error = 4.63165e-07       order = 7.15584\n",
      "Nx48        error = 3.20388e-09       order = 7.17556\n",
      "Nx96        error = 2.29182e-11       order = 7.12718\n",
      "Nx192        error = 1.69894e-13       order = 7.07572\n",
      "Nx384        error = 3.20751e-15       order = 5.72703\n",
      "Nx768        error = 2.17774e-14       order = -2.76331\n",
      "Nx1536        error = 5.40695e-14       order = -1.31198\n",
      "Nx3072        error = 6.11828e-14       order = -0.178312\n",
      "\n",
      "\n"
     ]
    }
   ],
   "source": [
    "%matplotlib inline\n",
    "import matplotlib.pyplot as plt\n",
    "import numpy as np\n",
    "\n",
    "Nx = [12, 24, 48, 96, 192, 384, 768, 1536, 3072]\n",
    "num_grids = len(Nx)\n",
    "a, b = 0., 1.\n",
    "L = b - a\n",
    "error_norm = np.zeros(num_grids)\n",
    "orders = np.zeros(num_grids)\n",
    "\n",
    "for grid in range(num_grids):\n",
    "    # grid dependent parameters\n",
    "    dx = L / (Nx[grid] - 1)\n",
    "    x = np.linspace(a, b, Nx[grid]) # spacing dx = (b - a ) / (Nx - 1)\n",
    "    n = np.cos(2*np.pi * x) + x\n",
    "    phi = Poisson_6th_LNBC_RDBC(n, Nx[grid], a, b, LBC = 0., RBC = 1/6.)\n",
    "    phi_exact = 1 / (4 * np.pi ** 2) * (1 - np.cos(2*np.pi * x)) + 1 / 6. * x ** 3\n",
    "    error_norm[grid] = LA.norm(phi_exact - phi,2) * np.sqrt(dx / L)\n",
    "\n",
    "    if grid == 0:\n",
    "        print \"Nx%d        error = %g       ----\" % (Nx[grid], error_norm[grid])\n",
    "    else:\n",
    "        orders[grid] = np.log2(error_norm[grid-1] / error_norm[grid])\n",
    "        print \"Nx%d        error = %g       order = %g\" % (Nx[grid], error_norm[grid], orders[grid])\n",
    "        \n",
    "print '\\n'"
   ]
  },
  {
   "cell_type": "markdown",
   "metadata": {},
   "source": [
    "Thus, we recover an order of 7 (somehow).\n",
    "\n",
    "If we were to change the differencing scheme on the Neumann condition to be first order:\n",
    "\n",
    "$$\\partial_x\\phi (0) \\simeq \\frac{\\phi_0 - \\phi_{-1}}{\\Delta x}$$\n",
    "\n",
    "i.e. the stencil is $\\{-1,1\\}$, so that we write in the difference matrix:\n",
    "\n",
    "    D[0,0] = -1 * dx\n",
    "    D[0,1] = 1 * dx\n",
    "    \n",
    "Whose action is on the $\\phi$ vector, i.e. $D_{0,0}\\phi_{-1} + D_{0,1}\\phi_0 + D_{0,2}\\phi_1 + \\ldots$ where $D_{0,j \\neq 0,1} = 0$, we would retrieve significantly less accuracy (obviously, but we would like to juxtapose the difference here):"
   ]
  },
  {
   "cell_type": "markdown",
   "metadata": {},
   "source": [
    "#### Comparison with a first order Neumann boundary"
   ]
  },
  {
   "cell_type": "code",
   "execution_count": 50,
   "metadata": {
    "collapsed": true
   },
   "outputs": [],
   "source": [
    "import numpy as np\n",
    "import numpy.linalg as LA\n",
    "import matplotlib.pyplot as plt\n",
    "\n",
    "def Poisson_1st_LNBC_RDBC(n, Nx = 24, a = 0., b = 1., phi_LNBC = 0., phi_RDBC = 1.):\n",
    "    \"\"\"6th order LTE finite difference Poisson solver for Dirichlet BCs\n",
    "\n",
    "    inputs:\n",
    "    n -- (ndarray, ndim = 1) density vector\n",
    "    Nx -- (int) number of grid points\n",
    "    a -- (float) left boundary of x-domain\n",
    "    b -- (float) right boundary of x-domain\n",
    "                          \n",
    "    outputs:\n",
    "    x -- (ndarray, ndim = 1) mesh points (abscissa)\n",
    "    phi -- (ndarray, ndim = 1) numerical solution to potential\n",
    "    phi_exact -- (ndarray, ndim = 1) exact solution (chosen)\n",
    "    \"\"\"\n",
    "\n",
    "    L = float(b - a)\n",
    "    dx = L / (Nx - 1)\n",
    "    \n",
    "    # augmented density vector N = (0, n), shape = (N+1,)\n",
    "    \n",
    "    N = np.zeros(Nx+1)\n",
    "    N[1:] = n\n",
    "\n",
    "    # assemble differencing matrix\n",
    "    D = np.zeros((Nx+1,Nx+1))\n",
    "    D[0,0] = -1 * dx\n",
    "    D[0,1] = 1 * dx\n",
    "    D[-1,-1] = 1.\n",
    "    \n",
    "    for i in range(1,D.shape[0]-1):\n",
    "        D[i,i-1] = 1\n",
    "        D[i,i] = -2\n",
    "        D[i,i+1] = 1\n",
    "\n",
    "\n",
    "    # Assemble FD coefficient matrix on n: B\n",
    "    B = np.zeros((Nx+1,Nx+1))\n",
    "    for i in range(B.shape[0]):\n",
    "        if i == 1:\n",
    "            B[i,i] = 317 / 240.\n",
    "            B[i,i+1] = -133/120.\n",
    "            B[i,i+2] = 187 / 120.\n",
    "            B[i,i+3] = -23 / 20.\n",
    "            B[i,i+4] = 109 / 240.\n",
    "            B[i,i+5] = -3/40.\n",
    "\n",
    "        elif i == 2:\n",
    "\n",
    "            B[i, i-1] = 3 / 40.\n",
    "            B[i, i] = 209 / 240.\n",
    "            B[i,i+1] = 1 / 60.\n",
    "            B[i,i+2] = 7 / 120.\n",
    "            B[i,i+3] = -1 / 40.\n",
    "            B[i,i+4] = 1 / 240.\n",
    "\n",
    "        elif 3 <= i <= Nx-2:\n",
    "\n",
    "            B[i,i-2] = -1/240.\n",
    "            B[i,i-1] = 1/10.\n",
    "            B[i,i] = 97/120.\n",
    "            B[i,i+1] = 1/10.\n",
    "            B[i,i+2] = -1/240.\n",
    "\n",
    "        elif i == Nx-1:\n",
    "\n",
    "            B[i,i+1] = 3 / 40.\n",
    "            B[i,i] = 209 / 240.\n",
    "            B[i,i-1] = 1 / 60.\n",
    "            B[i,i-2] = 7 / 120.\n",
    "            B[i,i-3] = -1 / 40.\n",
    "            B[i,i-4] = 1 / 240.\n",
    "\n",
    "        # else i == N: row of zeros\n",
    "\n",
    "    phi_BC = np.zeros(Nx+1)\n",
    "\n",
    "    phi_BC[0] = dx * phi_LNBC\n",
    "    phi_BC[-1] = phi_RDBC\n",
    "\n",
    "    b = dx ** 2 * B.dot(N) + phi_BC\n",
    "    phi = LA.solve(D,b)\n",
    "    \n",
    "    # contains values phi_{-1}, phi_0, phi_1, ... , phi_{N-1}, return only on-grid values [0, N-1]\n",
    "\n",
    "    return phi[1:]"
   ]
  },
  {
   "cell_type": "code",
   "execution_count": 51,
   "metadata": {
    "collapsed": false
   },
   "outputs": [
    {
     "name": "stdout",
     "output_type": "stream",
     "text": [
      "Nx12        error = 0.0264694       ----\n",
      "Nx24        error = 0.012692       order = 1.0604\n",
      "Nx48        error = 0.00618641       order = 1.03675\n",
      "Nx96        error = 0.0030508       order = 1.01991\n",
      "Nx192        error = 0.00151454       order = 1.01031\n",
      "Nx384        error = 0.000754523       order = 1.00524\n",
      "Nx768        error = 0.000376571       order = 1.00264\n",
      "Nx1536        error = 0.000188113       order = 1.00133\n",
      "Nx3072        error = 9.40131e-05       order = 1.00066\n",
      "\n",
      "\n"
     ]
    }
   ],
   "source": [
    "%matplotlib inline\n",
    "import matplotlib.pyplot as plt\n",
    "import numpy as np\n",
    "\n",
    "Nx = [12, 24, 48, 96, 192, 384, 768, 1536, 3072]\n",
    "num_grids = len(Nx)\n",
    "a, b = 0., 1.\n",
    "L = b - a\n",
    "error_norm = np.zeros(num_grids)\n",
    "orders = np.zeros(num_grids)\n",
    "\n",
    "for grid in range(num_grids):\n",
    "    # grid dependent parameters\n",
    "    dx = L / (Nx[grid] - 1)\n",
    "    x = np.linspace(a, b, Nx[grid]) # spacing dx = (b - a ) / (Nx - 1)\n",
    "    n = np.cos(2*np.pi * x) + x\n",
    "    phi = Poisson_1st_LNBC_RDBC(n, Nx[grid], a, b, phi_LNBC = 0., phi_RDBC = 1/6.)\n",
    "    phi_exact = 1 / (4 * np.pi ** 2) * (1 - np.cos(2*np.pi * x)) + 1 / 6. * x ** 3\n",
    "    error_norm[grid] = LA.norm(phi_exact - phi,2) * np.sqrt(dx / L)\n",
    "\n",
    "    if grid == 0:\n",
    "        print \"Nx%d        error = %g       ----\" % (Nx[grid], error_norm[grid])\n",
    "    else:\n",
    "        orders[grid] = np.log2(error_norm[grid-1] / error_norm[grid])\n",
    "        print \"Nx%d        error = %g       order = %g\" % (Nx[grid], error_norm[grid], orders[grid])\n",
    "        \n",
    "print '\\n'"
   ]
  },
  {
   "cell_type": "code",
   "execution_count": 53,
   "metadata": {
    "collapsed": false
   },
   "outputs": [
    {
     "data": {
      "text/plain": [
       "<matplotlib.legend.Legend at 0x69d50d0>"
      ]
     },
     "execution_count": 53,
     "metadata": {},
     "output_type": "execute_result"
    },
    {
     "data": {
      "image/png": "[encoded data removed]",
      "text/plain": [
       "<matplotlib.figure.Figure at 0x4c71650>"
      ]
     },
     "metadata": {},
     "output_type": "display_data"
    }
   ],
   "source": [
    "%matplotlib inline\n",
    "import matplotlib.pyplot as plt\n",
    "import numpy as np\n",
    "\n",
    "Nx = 1000\n",
    "a, b = 0., 1.\n",
    "x = np.linspace(a, b, Nx)\n",
    "\n",
    "n = np.cos(2*np.pi * x) + x\n",
    "\n",
    "phi_exact = 1 / (4 * np.pi ** 2) * (1 - np.cos(2*np.pi * x)) + 1 / 6. * x ** 3\n",
    "phi = Poisson_1st_LNBC_RDBC(n, Nx, a, b, phi_LNBC = 0., phi_RDBC = 1/6.)\n",
    "\n",
    "plt.plot(x, phi_exact, linewidth = 6, label = 'Exact')\n",
    "plt.hold('on')\n",
    "plt.plot(x, phi, linewidth = 6, linestyle = '--', label = 'numerical')\n",
    "plt.hold('off')\n",
    "plt.grid()\n",
    "plt.title(r'$N_x = 1000, \\partial_x^2 \\phi = \\cos (2\\pi x) + x$', fontsize = 20)\n",
    "plt.legend(loc = 'best')"
   ]
  },
  {
   "cell_type": "markdown",
   "metadata": {},
   "source": [
    "Which shows a clear difference in errors for each grid size; we need to have as fine a mesh as $N_x = 3072$ on the first order solver to approach an error $\\sim 10^{-5}$ which the 6th order solver achieves with as course a mesh as $N_x < 12$. Thus, the benefit of our high order difference is clear."
   ]
  },
  {
   "cell_type": "markdown",
   "metadata": {},
   "source": [
    "<font color = \"blue\">We now work thorugh several permutations of the above boundary conditions in efforts to afterwards unify them into a single routine</font>"
   ]
  },
  {
   "cell_type": "markdown",
   "metadata": {},
   "source": [
    "# I. LDBC/RNBC solver"
   ]
  },
  {
   "cell_type": "markdown",
   "metadata": {
    "collapsed": true
   },
   "source": [
    "We consider the opposite boundary conditions\n",
    "\n",
    "<ol>\n",
    "<li>$\\boxed{\\phi (x_0) = \\phi_a}$\n",
    "<li>$\\boxed{\\partial_x  \\phi (x_{N-1})  = \\phi_b'}$\n",
    "</ol>\n",
    "\n",
    "The changes require adding a ghost point now pertaining to the value $\\phi_{N}$ (grid values are between $0\\leq i \\leq N-1$). Thus, we also require one more equation which is Poisson's equation at the previously unused gridpoint, $i = N_x-1$, which we require backward+1 differencing at an LTE order 6 for differencing of the potential function, as well as completely backward differencing at the required LTE for each density derivative that shows up."
   ]
  },
  {
   "cell_type": "markdown",
   "metadata": {},
   "source": [
    "### Additional equations involved"
   ]
  },
  {
   "cell_type": "markdown",
   "metadata": {},
   "source": [
    "Recall requirement 1:\n",
    "\n",
    "<table \"width = 100%\">\n",
    "<tr><td><b>Requirement 1:</b> Neumann boundary condition</td></td>\n",
    "<tr><td>Estimate the first derivative according to\n",
    "$${}$$\n",
    "$$\\text{LTE}[\\delta_x\\phi_{N_x-1}] = O(\\Delta x^6)$$ \n",
    "$${}$$\n",
    "using an explicit stencil involving $\\{\\ldots , -2, -1, 0, 1\\}$, i.e. a \"backward+1\" scheme.\n",
    "</td></tr>\n",
    "</table>"
   ]
  },
  {
   "cell_type": "markdown",
   "metadata": {},
   "source": [
    "Which can be produced from the generating scripts:"
   ]
  },
  {
   "cell_type": "code",
   "execution_count": 47,
   "metadata": {
    "collapsed": false
   },
   "outputs": [],
   "source": [
    "# wd: pyfiles/bin/\n",
    "\n",
    "import generate_tables_of_finite_difference_schemes_for_a_given_LTE\n",
    "generate_tables_of_finite_difference_schemes_for_a_given_LTE.main(dn = 1, LTE = 6)"
   ]
  },
  {
   "cell_type": "markdown",
   "metadata": {},
   "source": [
    "We obtain the following table of weights, we paste the previously used forward-1 difference for the LNBC section just above for juxtaposition:\n",
    "\n",
    "    f^(1): LTE = O(z^6)\n",
    "    =========================\n",
    "    f^(1): backward 1\n",
    "    -------------------------\n",
    "    (weights, stencil)\n",
    "    -0.03333, -5\n",
    "    0.25000, -4\n",
    "    -0.83333, -3\n",
    "    1.66667, -2\n",
    "    -2.50000, -1\n",
    "    1.28333,  0\n",
    "    0.16667,  1\n",
    "    -------------------------\n",
    "    f^(1): forward 1\n",
    "    -------------------------\n",
    "    (weights, stencil)\n",
    "    -0.16667, -1\n",
    "    -1.28333,  0\n",
    "    2.50000,  1\n",
    "    -1.66667,  2\n",
    "    0.83333,  3\n",
    "    -0.25000,  4\n",
    "    0.03333,  5\n",
    "    -------------------------\n",
    "    \n",
    "So we can see the backward+1 difference schemes shares the same magnitude of the weights in the forward-1 scheme, just they are in reverse order and the signs themselves are opposite. Thus, we can write down for the backward+1 scheme, which we need for our RNBC case as:\n",
    "\n",
    "Or, equivalently we write each weight in $\\mathbb{Q}$ as:\n",
    "\n",
    "$$\\text{stencil} = \\{-5, -4, -3, -2, -1, 0, 1\\}$$\n",
    "$$\\text{weights} = \\{-\\tfrac{1}{30},\\tfrac{1}{4}, -\\tfrac{5}{6}, \\tfrac{5}{3}, -\\tfrac{5}{2}, \\tfrac{77}{60}, \\tfrac{1}{6}\\}$$"
   ]
  },
  {
   "cell_type": "markdown",
   "metadata": {},
   "source": [
    "which upon enforcing the boundary value $\\phi_b'$ becomes\n",
    "\n",
    "$$\\phi^{(1)}_{N_x-1} = \\frac{1}{\\Delta x}\\left(-\\frac{1}{30}\\phi_{N_x-6} + \\frac{1}{4}\\phi_{N_x-5} - \\frac{5}{6}\\phi_{N_x-4} + \\frac{5}{3}\\phi_{N_x-3} - \\frac{5}{2}\\phi_{N_x-2} + \\frac{77}{60}\\phi_{N_x-1} + \\frac{1}{6}\\phi_{N_x}\\right) = \\phi_b'$$\n",
    "\n",
    "Solving for the off-grid value $\\phi_{N_x}$:\n",
    "\n",
    "$$\\boxed{\\phi_{N_x} = 6(\\Delta x)\\phi_b' + \\frac{1}{5}\\phi_{N_x-6} - \\frac{3}{2}\\phi_{N_x-5} + 5\\phi_{N_x-4} - 10\\phi_{N_x-3} + 15\\phi_{N_x-2} - \\frac{77}{10}\\phi_{N_x-1}}$$"
   ]
  },
  {
   "cell_type": "markdown",
   "metadata": {},
   "source": [
    "Which we will use in the Poisson statement at $i = N_x-1$:\n",
    "\n",
    "$$\\frac{1}{(\\Delta x)^2}\\left(\\phi_{N_x} - 2\\phi_{N_x-1} + \\phi_{N_x-2}\\right) = n_{N_x-1} + \\frac{2}{4!}(\\Delta x)^2n_{N_x-1}^{(2)} + \\frac{2}{6!}(\\Delta x)^4n_{N_x-1}^{(4)} + O(\\Delta x^6) \\qquad \\qquad (\\, * \\, )$$\n",
    "\n",
    "Before eliminating $\\phi_{N_x}$, we discern the right-hand side:\n",
    "\n",
    "<table \"width = 100%\">\n",
    "<tr><td><b>Requirement 2:</b> Differenced Poisson's equation at $i = N_x-1$</td></td>\n",
    "<tr><td>Estimate the density derivatives according to\n",
    "$${}$$\n",
    "$$LTE[n_{N_x-1}^{(2)}] = O(\\Delta x^4)$$\n",
    "$${}$$\n",
    "$$LTE[n_{N_x-1}^{(4)}] = O(\\Delta x^2)$$\n",
    "$${}$$\n",
    "Using <u>backward 0</u> schemes (completely backward differencing)\n",
    "</td></tr>\n",
    "</table>"
   ]
  },
  {
   "cell_type": "markdown",
   "metadata": {},
   "source": [
    "For the differencing on $n$, we generate the tables again for our review:"
   ]
  },
  {
   "cell_type": "code",
   "execution_count": 27,
   "metadata": {
    "collapsed": true
   },
   "outputs": [],
   "source": [
    "# wd: pyfiles/bin/\n",
    "\n",
    "import generate_tables_of_finite_difference_schemes_for_a_given_LTE\n",
    "\n",
    "generate_tables_of_finite_difference_schemes_for_a_given_LTE.main(dn = 2, LTE = 4)\n",
    "generate_tables_of_finite_difference_schemes_for_a_given_LTE.main(dn = 4, LTE = 2)"
   ]
  },
  {
   "cell_type": "markdown",
   "metadata": {},
   "source": [
    "As before, we paste the forward schemes for comparison, which were used in the previous section for a LNBC\n",
    "\n",
    "\n",
    "    f^(2): LTE = O(z^4)\n",
    "    =========================\n",
    "    f^(2): forward 0\n",
    "    -------------------------\n",
    "    (weights, stencil)\n",
    "    3.75000,  0\n",
    "    -12.83333,  1\n",
    "    17.83333,  2\n",
    "    -13.00000,  3\n",
    "    5.08333,  4\n",
    "    -0.83333,  5\n",
    "    -------------------------\n",
    "    f^(2): backward 0\n",
    "    -------------------------\n",
    "    (weights, stencil)\n",
    "    -0.83333, -5\n",
    "    5.08333, -4\n",
    "    -13.00000, -3\n",
    "    17.83333, -2\n",
    "    -12.83333, -1\n",
    "    3.75000,  0\n",
    "    -------------------------\n",
    "        \n",
    "        f^(4): LTE = O(z^2)\n",
    "    =========================\n",
    "    f^(4): forward 0\n",
    "    -------------------------\n",
    "    (weights, stencil)\n",
    "    3.00000,  0\n",
    "    -14.00000,  1\n",
    "    26.00000,  2\n",
    "    -24.00000,  3\n",
    "    11.00000,  4\n",
    "    -2.00000,  5\n",
    "    -------------------------\n",
    "    f^(4): backward 0\n",
    "    -------------------------\n",
    "    (weights, stencil)\n",
    "    -2.00000, -5\n",
    "    11.00000, -4\n",
    "    -24.00000, -3\n",
    "    26.00000, -2\n",
    "    -14.00000, -1\n",
    "    3.00000,  0\n",
    "    -------------------------\n",
    "    \n",
    "Thus, we see the same coefficients are used in both schemes, but they run in reverse, and the same signs are used. This was previously found in other notebooks that the ostensible trend for one scheme vs. its backward scheme is a minus sign to the power of its derivative, i.e. odd derivatives have schemes with coefficients that run backwards and are of opposite sign $(-1)^{2q+1} = -1$, whereas even derivatives have schemes with coefficients that run backwards and are of the same sign $(-1)^{2q} = 1$.\n",
    "\n",
    "Thus, we can write down the stencils and differences straightforwardly as in the previous section. The coefficients for each derivative in eq. $(*)$ above have been worked through in section J, they remain unchanged numerically, \n",
    "\n",
    "$$\\frac{1}{(\\Delta x)^2}\\left(\\phi_{-1} - 2\\phi_0 + \\phi_{1}\\right) = \\frac{317}{240}n_0 - \\frac{133}{120}n_1 + \\frac{187}{120}n_2 - \\frac{23}{20}n_3  + \\frac{109}{240}n_4 - \\frac{3}{40}n_5 + O(\\Delta x^6) \\qquad i = 0 \\quad \\text{from section I}$$\n",
    "\n",
    "we just have them running in the opposite direction (from $i = N_x-1$ down to $i = N_x-6$), there is no changes to the left-hand side's second order difference for $\\phi$ (recall that the terms that appear on the right hande side *are* equivalent representations of $\\phi$ derivatives which have been traded for $n$ derivatives per the PDE):"
   ]
  },
  {
   "cell_type": "markdown",
   "metadata": {},
   "source": [
    "$$\\frac{1}{(\\Delta x)^2}\\left(\\phi_{N_x-2} - 2\\phi_{N_x-1} + \\phi_{N_x}\\right) = \\frac{317}{240}n_{N_x-1} - \\frac{133}{120}n_{N_x-2} + \\frac{187}{120}n_{N_x-3} - \\frac{23}{20}n_{N_x-4}  + \\frac{109}{240}n_{N_x-5} - \\frac{3}{40}n_{N_x-6} + O(\\Delta x^6)$$"
   ]
  },
  {
   "cell_type": "markdown",
   "metadata": {},
   "source": [
    "Using the NBC to eliminate the ghost value $\\phi_{N_x}$:\n",
    "\n",
    "$$\\frac{1}{(\\Delta x)^2}\\left(\\phi_{N_x-2} - 2\\phi_{N_x-1} + \\left[6(\\Delta x)\\phi_b' + \\frac{1}{5}\\phi_{N_x-6} - \\frac{3}{2}\\phi_{N_x-5} + 5\\phi_{N_x-4} - 10\\phi_{N_x-3} + 15\\phi_{N_x-2} - \\frac{77}{10}\\phi_{N_x-1}\\right]\\right) = \\frac{317}{240}n_{N_x-1} - \\frac{133}{120}n_{N_x-2} + \\frac{187}{120}n_{N_x-3} - \\frac{23}{20}n_{N_x-4}  + \\frac{109}{240}n_{N_x-5} - \\frac{3}{40}n_{N_x-6} + O(\\Delta x^6)$$"
   ]
  },
  {
   "cell_type": "markdown",
   "metadata": {},
   "source": [
    "or\n",
    "<table \"width = 95%\">\n",
    "<tr><td>\n",
    "$${}$$\n",
    "$$\\frac{1}{5}\\phi_{N_x-6} - \\frac{3}{2}\\phi_{N_x-5} + 5\\phi_{N_x-4} - 10\\phi_{N_x-3} + 16\\phi_{N_x-2} - \\frac{97}{10}\\phi_{N_x-1} = (\\Delta x)^2\\left(\\frac{317}{240}n_{N_x-1} - \\frac{133}{120}n_{N_x-2} + \\frac{187}{120}n_{N_x-3} - \\frac{23}{20}n_{N_x-4}  + \\frac{109}{240}n_{N_x-5} - \\frac{3}{40}n_{N_x-6}\\right) - 6(\\Delta x)\\phi_b'$$\n",
    "$${}$$\n",
    "</td></tr>\n",
    "</table>"
   ]
  },
  {
   "cell_type": "markdown",
   "metadata": {},
   "source": [
    "## I.1 Assembling the matrix problem (DBC/NBC)"
   ]
  },
  {
   "cell_type": "markdown",
   "metadata": {},
   "source": [
    "We proceed as in section I. With the $N-1$ differenced Poisson's equations (for nodes $i = 1, 2, \\ldots N-1$) + 1 Dirichlet boundary condition that are known a priori at $i = 0$, we have $N$ equations for $N$ unknowns ($\\phi_i, \\, i = 0, 1, 2, \\ldots N-1$). We write several equations for various indices $i$ in order to clearly see the matrix take form. We wish to set up the discrete problem as follows:\n",
    "\n",
    "$$\\partial_x^2\\phi = n \\qquad \\longrightarrow \\qquad \\frac{1}{(\\Delta x)^2}\\underline{\\underline{D}}\\underline{\\phi} = \\underline{b} \\quad \\text{ or } \\quad \\underline{\\underline{D}}\\underline{\\phi} = (\\Delta x)^2\\underline{b} \\qquad (H.1)$$\n",
    "\n",
    "The left-hand side ($\\partial_x^2 \\phi \\simeq \\underline{\\underline{D}}\\underline{\\phi})$ has the factor of $(\\Delta x)^2$ brought to the right-hand side. With this understanding, we have the following set of scalar equations to organize: \n",
    "\n",
    "\\begin{eqnarray*}\n",
    "i = 0: & (\\Delta x)^2\\phi_{0}  & = \\phantom{-}(\\Delta x)^2\\phi_a \\\\[1em]\n",
    "i = 1: & \\phi_0 -2\\phi_1 + \\phi_2 & =  \\phantom{-}(\\Delta x)^2\\left[\\frac{3}{40}n_{0} + \\frac{209}{240}n_{1} + \\frac{1}{60}n_{2} + \\frac{7}{120}n_{3} - \\frac{1}{40}n_{4} + \\frac{1}{240}n_{5}\\right] \\\\[1em]\n",
    "i = 2: & \\phi_1 -2\\phi_2 + \\phi_3 & = (\\Delta x)^2\\left[-\\frac{1}{240}n_{0} + \\frac{1}{10}n_{1} + \\frac{97}{120}n_{2} + \\frac{1}{10}n_{3} - \\frac{1}{240}n_{4}\\right] \\\\[1em]\n",
    "i = 3: & \\phi_2 -2\\phi_3 + \\phi_4 & =  (\\Delta x)^2\\left[-\\frac{1}{240}n_{1} + \\frac{1}{10}n_{2} + \\frac{97}{120}n_{3} + \\frac{1}{10}n_{4} - \\frac{1}{240}n_{5}\\right] \\\\[2em]\n",
    "\\vdots \\\\[2em]\n",
    "i = N-4: & \\phi_{N-5} -2\\phi_{N-4} + \\phi_{N-3} & = (\\Delta x)^2\\left[-\\frac{1}{240}n_{N-6} + \\frac{1}{10}n_{N-5} + \\frac{97}{120}n_{N-4} + \\frac{1}{10}n_{N-3} - \\frac{1}{240}n_{N-2}\\right] \\\\[1em]\n",
    "i = N-3: & \\phi_{N-4} -2\\phi_{N-3} + \\phi_{N-2} & = (\\Delta x)^2\\left[-\\frac{1}{240}n_{N-5} + \\frac{1}{10}n_{N-4} + \\frac{97}{120}n_{N-3} + \\frac{1}{10}n_{N-2} - \\frac{1}{240}n_{N-1}\\right] \\\\[1em]\n",
    "i = N - 2: & \\phi_{N-3} - 2\\phi_{N-2} + \\phi_{N-1} & = \\phantom{-}(\\Delta x)^2\\left[\\frac{1}{240}n_{N-6} - \\frac{1}{40}n_{N-5} + \\frac{7}{120}n_{N-4} + \\frac{1}{60}n_{N-3} + \\frac{209}{240}n_{N-2} + \\frac{3}{40}n_{N-1}\\right]\n",
    "\\end{eqnarray*}\n",
    "\n",
    "and at $i = N-1$:\n",
    "\n",
    "$$\\frac{1}{5}\\phi_{N_x-6} - \\frac{3}{2}\\phi_{N_x-5} + 5\\phi_{N_x-4} - 10\\phi_{N_x-3} + 16\\phi_{N_x-2} - \\frac{97}{10}\\phi_{N_x-1} = (\\Delta x)^2\\left(\\frac{317}{240}n_{N_x-1} - \\frac{133}{120}n_{N_x-2} + \\frac{187}{120}n_{N_x-3} - \\frac{23}{20}n_{N_x-4}  + \\frac{109}{240}n_{N_x-5} - \\frac{3}{40}n_{N_x-6}\\right) - 6(\\Delta x)\\phi_b'$$"
   ]
  },
  {
   "cell_type": "markdown",
   "metadata": {},
   "source": [
    "We choose to partition the density matrices and the boundary values as follows, by writing:\n",
    "\n",
    "$$\\underline{b} = \\underline{\\underline{B}}_{N\\times N}\\cdot \\underline{n}_{N\\times 1} + \\frac{1}{(\\Delta x)^2} \\underline{\\phi}_{BC}$$\n",
    "\n",
    "So that the above becomes \n",
    "\n",
    "$$\\underline{\\underline{D}}_{N\\times N}\\cdot\\underline{\\phi}_{N\\times 1} = (\\Delta x)^2\\cdot \\underline{\\underline{B}}_{N\\times N}\\cdot \\underline{n}_{N\\times 1} + (\\underline{\\phi}_{BC})_{N\\times 1}$$\n",
    "\n",
    "Notice that reviewing the $i = 0$ equation allows us to omit the factors of $(\\Delta x)^2$ as they appear on both sides of the equation provided that the matrix $\\underline{\\underline{B}}$ contains a row of zeros for the first row so as to make the $i = 0$ equation independent of density as above. \n",
    "\n",
    "Along similar reasoning, the $i = N-1$ equation shows we can have the first entry of the auxillian $\\underline{\\phi}$ be $-6(\\Delta x)\\phi_b'$ (note, this is the opposite sign as compared to when we had an NBC at the left boundary). Thus, we have form the following objects:\n",
    "\n",
    "$$(\\underline{\\phi}_{BC})_{N\\times 1} = [(\\phi_a', 0 , 0, \\ldots , 0 , -6(\\Delta x)\\phi_b)^T]_{(N+1)\\times 1}$$\n",
    "\n",
    "the density vector \n",
    "\n",
    "$$\\underline{n}_{N\\times 1} = (n_0, n_1, n_2, \\ldots , n_{N-2}, n_{N-1})^T$$"
   ]
  },
  {
   "cell_type": "markdown",
   "metadata": {},
   "source": [
    "the difference matrix $\\underline{\\underline{D}}$ then takes the form  (LHS = \"left-hand side\"):\n",
    "\n",
    "$$\\underline{\\underline{D}} = \\underline{\\underline{D}}_{N\\times N} = \\left( \\begin{array}{c}\n",
    "i = 0: \\, \\text{Dirichlet BC LHS coefficient of: } 1\\cdot\\phi_{0} = \\phi_a  \\\\\n",
    "i = 1: \\, \\text{central differencing FD coefficients on }  \\{\\phi_i\\}\\\\\n",
    "i = 2: \\, \\text{central differencing FD coefficients on }   \\{\\phi_i\\}\\\\\n",
    "i = 3: \\, \\text{central differencing FD coefficients on }   \\{\\phi_i\\}\\\\\n",
    "\\vdots \\\\\n",
    "\\vdots \\\\\n",
    "\\vdots \\\\\n",
    "i = N-3: \\, \\text{central differencing FD coefficients on }   \\{\\phi_i\\}\\\\\n",
    "i = N-2: \\, \\text{central differencing FD coefficients on }   \\{\\phi_j\\}\\\\\n",
    "i = N-1: \\, \\text{central differencing on } \\{\\phi_i\\}  \\text{ with $\\phi_{N}$ ghost point eliminated by NBC} \\\\\n",
    "\\end{array} \\right)$$\n",
    "\n",
    "which takes the form,"
   ]
  },
  {
   "cell_type": "markdown",
   "metadata": {},
   "source": [
    " $$\\underline{\\underline{D}} = \\left( \\begin{array}{c c c c c c c c c}\n",
    "1 & 0 & 0 & 0 & 0 & 0 & 0 & 0 & 0 & 0 \\\\\n",
    "1 & -2 & 1 & 0 & \\cdots & \\cdots & \\cdots & \\cdots  & \\cdots & 0 \\\\\n",
    "0 & 1 & -2 & 1 & 0 & \\cdots & \\cdots & \\cdots &  \\cdots & 0 \\\\\n",
    "0 & 0 & 1 & -2 & 1 & 0 & \\cdots & \\cdots & \\cdots & 0\\\\\n",
    "\\vdots & \\vdots & 0 & \\ddots & \\ddots & \\ddots & 0 & \\cdots & \\cdots & 0\\\\\n",
    "\\vdots & \\vdots & \\vdots & 0 & \\ddots & \\ddots & \\ddots & 0 & \\cdots & 0\\\\\n",
    "\\vdots & \\vdots & \\vdots & \\vdots & 0 & \\ddots & \\ddots & \\ddots & 0 & 0 \\\\\n",
    "\\vdots & \\vdots & \\vdots & \\vdots & \\vdots & 0 & 1 & -2 & 1 & 0 \\\\\n",
    "\\vdots & \\vdots & \\vdots & \\vdots & \\vdots & \\vdots & 0 & 1 & -2 & 1 \\\\\n",
    "0 & 0 & 0 &  0 & \\frac{1}{5} & -\\frac{3}{2} & 5 & -10 & 16 & -\\frac{97}{10}  \\\\\n",
    "\\end{array} \\right)$$"
   ]
  },
  {
   "cell_type": "markdown",
   "metadata": {},
   "source": [
    "<table \"width = 85%\">\n",
    "<tr><td<font size = 24><b>Solubility</b></font></td></tr>\n",
    "<tr><td>\n",
    "The determinant $\\text{det}(\\underline{\\underline{D}}) = -6$ of the matrix $\\underline{\\underline{D}}$ is nonzero and thus invertible, hence a unique solution exists.\n",
    "</td></tr>\n",
    "</table>\n",
    "\n",
    "Similarly, by reviewing the above set of scalar equations, we show the form of the matrix $\\underline{\\underline{B}}_{N\\times N}$:"
   ]
  },
  {
   "cell_type": "markdown",
   "metadata": {},
   "source": [
    "$$\\underline{\\underline{B}} = \\left( \\begin{array}{c}\n",
    "i = 0 \\text{, Dirichlet boundary condition factored in with auxillary vector, } \\underline{\\phi}_{BC}, \\text{ density not involved } \\ldots = \\underline{0} \\\\\n",
    "i = 1 \\text{, forward-1 differencing scheme} \\\\\n",
    "i = 2 \\text{, central differencing scheme} \\\\\n",
    "i = 3 \\text{, central differencing scheme} \\\\\n",
    "\\vdots \\\\\n",
    "i = N-3 \\text{, central differencing scheme} \\\\\n",
    "i = N-2 \\text{, backward+1 differencing scheme} \\\\\n",
    "i = N-1 \\text{, Neumann boundary condition factored in with auxillary vector, } \\underline{\\phi}_{BC} \\text{ backward 0 differencing scheme on density}\n",
    "\\end{array} \\right)_{(N+1)\\times (N+1)}\n",
    "=  \\left( \\begin{array}{c c c c c c c c c c c c c c}\n",
    "0 & 0 & 0 & 0 &  0&   0 &  0 &  0  &  0 &  0\\\\\n",
    "\\frac{3}{40} & \\frac{209}{240} & \\frac{1}{60} & \\frac{7}{120} & -\\frac{1}{40} & \\frac{1}{240} & 0 & \\cdots & \\cdots & 0\\\\\n",
    "-\\frac{1}{240} & \\frac{1}{10} & \\frac{97}{120} & \\frac{1}{10} & -\\frac{1}{240} & 0 & 0 & \\cdots  & \\cdots & 0 \\\\\n",
    "0 & -\\frac{1}{240} & \\frac{1}{10} & \\frac{97}{120} & \\frac{1}{10} & -\\frac{1}{240} & 0 & \\cdots & \\cdots & 0 \\\\\n",
    "0 & \\ddots & \\ddots & \\ddots & \\ddots & \\ddots & \\ddots & \\ddots & 0 & 0  \\\\\n",
    "\\vdots & 0  & \\ddots  & \\ddots & \\ddots & \\ddots & \\ddots & \\ddots  & 0 & 0\\\\\n",
    "\\vdots & \\vdots & 0 & \\ddots & \\ddots & \\ddots & \\ddots & \\ddots & \\ddots  & 0\\\\\n",
    "\\vdots & \\vdots & 0 & \\ddots & 0 & -\\frac{1}{240} & \\frac{1}{10} & \\frac{97}{120} & \\frac{1}{10} & -\\frac{1}{240} \\\\\n",
    "\\vdots & \\vdots & \\vdots & 0 & \\frac{1}{240} & -\\frac{1}{40} & \\frac{7}{120} & \\frac{1}{60} & \\frac{209}{240} & \\frac{3}{40} \\\\\n",
    "0 & 0 & 0 & 0  & - \\frac{3}{40}  & \\frac{109}{240}  & -\\frac{23}{20} & \\frac{187}{120} & -\\frac{133}{120}  & \\frac{317}{240}\\\\ \n",
    "\\end{array} \\right)_{N\\times N}$$"
   ]
  },
  {
   "cell_type": "markdown",
   "metadata": {},
   "source": [
    "The solution of this matrix problem gives values for $\\phi_0, \\phi_1, \\ldots, \\phi_{N-1}$ for all on-grid values as well as one ghost value $\\phi_N$. In the implementation we return only on grid values $i\\in [0,N-1]$.\n",
    "\n",
    "We now test the above setup:"
   ]
  },
  {
   "cell_type": "markdown",
   "metadata": {},
   "source": [
    "## I.2 Implementation"
   ]
  },
  {
   "cell_type": "markdown",
   "metadata": {},
   "source": [
    "### Poisson_6th_LDBC_RNBC.py"
   ]
  },
  {
   "cell_type": "code",
   "execution_count": 55,
   "metadata": {
    "collapsed": false
   },
   "outputs": [],
   "source": [
    "import numpy as np\n",
    "import numpy.linalg as LA\n",
    "import matplotlib.pyplot as plt\n",
    "\n",
    "def Poisson_6th_LDBC_RNBC(n, Nx = 24, a = 0., b = 1., LBC = 0., RBC = 1.):\n",
    "    \"\"\"6th order LTE finite difference Poisson solver for Dirichlet BCs\n",
    "\n",
    "    inputs:\n",
    "    n -- (ndarray, ndim = 1) density vector\n",
    "    Nx -- (int) number of grid points\n",
    "    a -- (float) left boundary of x-domain\n",
    "    b -- (float) right boundary of x-domain\n",
    "                          \n",
    "    outputs:\n",
    "    phi -- (ndarray, ndim = 1) numerical solution to potential\n",
    "    \"\"\"\n",
    "\n",
    "    L = float(b - a)\n",
    "    dx = L / (Nx - 1)\n",
    "    \n",
    "    # augmented density vector N = (0, n), shape = (N+1,)\n",
    "    \n",
    "    N = np.zeros(Nx)\n",
    "\n",
    "    # assemble differencing matrix\n",
    "   \n",
    "    D = np.zeros((Nx,Nx))\n",
    "    \n",
    "    # RDBC row\n",
    "    D[0,0] = 1.\n",
    "    \n",
    "    # LNBC row\n",
    "    D[-1,-1] = -97/10. \n",
    "    D[-1,-2] = 16.\n",
    "    D[-1,-3] = -10\n",
    "    D[-1,-4] = 5.\n",
    "    D[-1,-5] = -3/2. \n",
    "    D[-1,-6] = 1/5.\n",
    "      \n",
    "    # Poisson's equation rows\n",
    "    for i in range(1,Nx-1):\n",
    "        D[i,i-1] = 1\n",
    "        D[i,i] = -2\n",
    "        D[i,i+1] = 1\n",
    "\n",
    "    # Assemble FD coefficient matrix on n: B\n",
    "    B = np.zeros((Nx,Nx))\n",
    "    for i in range(B.shape[0]):\n",
    "        # i == 0 row contains all zeros\n",
    "\n",
    "        if i == 1:\n",
    "\n",
    "            B[i, i-1] = 3 / 40.\n",
    "            B[i, i] = 209 / 240.\n",
    "            B[i,i+1] = 1 / 60.\n",
    "            B[i,i+2] = 7 / 120.\n",
    "            B[i,i+3] = -1 / 40.\n",
    "            B[i,i+4] = 1 / 240.\n",
    "\n",
    "        elif 2 <= i <= Nx-3:\n",
    "\n",
    "            B[i,i-2] = -1/240.\n",
    "            B[i,i-1] = 1/10.\n",
    "            B[i,i] = 97/120.\n",
    "            B[i,i+1] = 1/10.\n",
    "            B[i,i+2] = -1/240.\n",
    "\n",
    "        elif i == Nx-2:\n",
    "\n",
    "            B[i,i+1] = 3 / 40.\n",
    "            B[i,i] = 209 / 240.\n",
    "            B[i,i-1] = 1 / 60.\n",
    "            B[i,i-2] = 7 / 120.\n",
    "            B[i,i-3] = -1 / 40.\n",
    "            B[i,i-4] = 1 / 240.\n",
    "            \n",
    "        if i == Nx-1:\n",
    "            B[i,i-5] = -3/40.\n",
    "            B[i,i-4] = 109 / 240.\n",
    "            B[i,i-3] = -23 / 20.\n",
    "            B[i,i-2] = 187 / 120.  \n",
    "            B[i,i-1] = -133/120.\n",
    "            B[i,i] = 317 / 240.\n",
    "\n",
    "    phi_BC = np.zeros(Nx)\n",
    "\n",
    "    phi_BC[0] = LBC\n",
    "    phi_BC[-1] = -6 * dx * RBC\n",
    "    b = dx ** 2 * B.dot(n) + phi_BC\n",
    "    phi = LA.solve(D,b)\n",
    "\n",
    "    return phi"
   ]
  },
  {
   "cell_type": "markdown",
   "metadata": {},
   "source": [
    "## I.3 Convergence tests\n",
    "\n",
    "We consdider the flipped Poisson problem as compared to section H\n",
    "\n",
    "$$\\partial_x^2 \\phi = n, \\qquad n = \\cos (2\\pi x) + x$$\n",
    "\n",
    "where\n",
    "\n",
    "$$\\phi (0) = \\frac{1}{6}, \\,\\, \\partial_x\\phi (1) = 0$$\n",
    "\n",
    "Whose exact solution is\n",
    "\n",
    "$$\\phi_{exact}(x) \\frac{1}{4\\pi^2}\\left[1 - \\cos (2\\pi x)\\right] + \\frac{1}{6}(x^3 + 1) - \\frac{1}{2}x$$\n",
    "\n",
    "For reference, we provide the first derivative:\n",
    "\n",
    "$$\\partial_x\\phi_{exact}(x) = \\frac{1}{2\\pi} \\sin (2\\pi x) + \\frac{1}{2}(x^2 - 1)$$\n",
    "\n",
    "Which can be noticed to satisfy the right edge Neumann condition, whereas the Dirichlet condition is clearly met by the left edge.\n"
   ]
  },
  {
   "cell_type": "code",
   "execution_count": 57,
   "metadata": {
    "collapsed": false,
    "scrolled": false
   },
   "outputs": [
    {
     "data": {
      "text/plain": [
       "<matplotlib.legend.Legend at 0x5e485d0>"
      ]
     },
     "execution_count": 57,
     "metadata": {},
     "output_type": "execute_result"
    },
    {
     "data": {
      "image/png": "[encoded data removed]",
      "text/plain": [
       "<matplotlib.figure.Figure at 0x5a17490>"
      ]
     },
     "metadata": {},
     "output_type": "display_data"
    }
   ],
   "source": [
    "%matplotlib inline\n",
    "import matplotlib.pyplot as plt\n",
    "import numpy as np\n",
    "\n",
    "Nx = 20\n",
    "a, b = 0., 1.\n",
    "x = np.linspace(a, b, Nx)\n",
    "\n",
    "n = np.cos(2*np.pi * x) + x\n",
    "\n",
    "phi_exact = 1 / (4 * np.pi ** 2) * (1 - np.cos(2*np.pi * x)) + 1 / 6. * (x ** 3 + 1) - 1/2. * x\n",
    "phi = Poisson_6th_LDBC_RNBC(n, Nx, a, b, LBC = 1/6., RBC = 0)\n",
    "\n",
    "plt.plot(x, phi_exact, linewidth = 6, label = 'Exact')\n",
    "plt.hold('on')\n",
    "plt.plot(x, phi, linewidth = 6, linestyle = '--', label = 'numerical')\n",
    "plt.hold('off')\n",
    "plt.grid()\n",
    "plt.title(r'$N_x = 1000, \\partial_x^2 \\phi = \\cos (2\\pi x) + x$', fontsize = 20)\n",
    "plt.legend(loc = 'best')"
   ]
  },
  {
   "cell_type": "code",
   "execution_count": 58,
   "metadata": {
    "collapsed": false
   },
   "outputs": [
    {
     "name": "stdout",
     "output_type": "stream",
     "text": [
      "Nx12        error = 6.60477e-05       ----\n",
      "Nx24        error = 4.63165e-07       order = 7.15584\n",
      "Nx48        error = 3.20388e-09       order = 7.17556\n",
      "Nx96        error = 2.2927e-11       order = 7.12663\n",
      "Nx192        error = 1.74795e-13       order = 7.03524\n",
      "Nx384        error = 3.78216e-14       order = 2.20838\n",
      "Nx768        error = 7.92467e-14       order = -1.06714\n",
      "Nx1536        error = 4.97852e-13       order = -2.65129\n",
      "Nx3072        error = 7.50344e-13       order = -0.591836\n",
      "\n",
      "\n"
     ]
    }
   ],
   "source": [
    "import numpy as np\n",
    "\n",
    "Nx = [12, 24, 48, 96, 192, 384, 768, 1536, 3072]\n",
    "num_grids = len(Nx)\n",
    "a, b = 0., 1.\n",
    "L = b - a\n",
    "error_norm = np.zeros(num_grids)\n",
    "orders = np.zeros(num_grids)\n",
    "\n",
    "for grid in range(num_grids):\n",
    "    # grid dependent parameters\n",
    "    dx = L / (Nx[grid] - 1)\n",
    "    x = np.linspace(a, b, Nx[grid]) # spacing dx = (b - a ) / (Nx - 1)\n",
    "    n = np.cos(2*np.pi * x) + x\n",
    "    phi = Poisson_6th_LDBC_RNBC(n, Nx[grid], a, b, RBC = 0.,LBC = 1/6.)\n",
    "    phi_exact = 1 / (4 * np.pi ** 2) * (1 - np.cos(2*np.pi * x)) + 1 / 6. * (x ** 3 + 1) - 1/2. * x\n",
    "    error_norm[grid] = LA.norm(phi_exact - phi,2) * np.sqrt(dx / L)\n",
    "\n",
    "    if grid == 0:\n",
    "        print \"Nx%d        error = %g       ----\" % (Nx[grid], error_norm[grid])\n",
    "    else:\n",
    "        orders[grid] = np.log2(error_norm[grid-1] / error_norm[grid])\n",
    "        print \"Nx%d        error = %g       order = %g\" % (Nx[grid], error_norm[grid], orders[grid])\n",
    "        \n",
    "print '\\n'"
   ]
  },
  {
   "cell_type": "markdown",
   "metadata": {},
   "source": [
    "### Convergence test 2\n",
    "\n",
    "We can consider the Poisson problem\n",
    "\n",
    "$$\\partial_x^2 \\phi = n, \\qquad n = \\cos (2\\pi x) + x$$\n",
    "\n",
    "where boundary conditions are not flipped, but chosen so that we get the same exact solution as in section H, i.e.\n",
    "\n",
    "$$\\phi (0) = 0, \\,\\, \\partial_x\\phi (1) = \\frac{1}{2}$$\n",
    "\n",
    "i.e. this produces (as before):\n",
    "\n",
    "$$\\phi_{exact}(x) = \\frac{1}{4\\pi^2}\\left[1 - \\cos (2\\pi x)\\right] + \\frac{1}{6}x^3$$\n",
    "\n",
    "For reference, we provide the first derivative:\n",
    "\n",
    "$$\\partial_x\\phi_{exact}(x) = \\frac{1}{2\\pi} \\sin (2\\pi x) + \\frac{1}{2}x^2$$\n",
    "\n",
    "Which can be noticed to satisfy the right edge Neumann condition, whereas the Dirichlet condition is clearly met by the left edge.\n"
   ]
  },
  {
   "cell_type": "code",
   "execution_count": 60,
   "metadata": {
    "collapsed": false
   },
   "outputs": [
    {
     "data": {
      "text/plain": [
       "<matplotlib.legend.Legend at 0x5836690>"
      ]
     },
     "execution_count": 60,
     "metadata": {},
     "output_type": "execute_result"
    },
    {
     "data": {
      "image/png": "[encoded data removed]",
      "text/plain": [
       "<matplotlib.figure.Figure at 0x4fb8ad0>"
      ]
     },
     "metadata": {},
     "output_type": "display_data"
    }
   ],
   "source": [
    "%matplotlib inline\n",
    "import matplotlib.pyplot as plt\n",
    "import numpy as np\n",
    "\n",
    "Nx = 1000\n",
    "a, b = 0., 1.\n",
    "x = np.linspace(a, b, Nx)\n",
    "\n",
    "n = np.cos(2*np.pi * x) + x\n",
    "\n",
    "phi_exact = 1 / (4 * np.pi ** 2) * (1 - np.cos(2*np.pi * x)) + 1 / 6. * x ** 3\n",
    "phi = Poisson_6th_LDBC_RNBC(n, Nx, a, b, LBC = 0, RBC = 1/2.)\n",
    "\n",
    "plt.plot(x, phi_exact, linewidth = 6, label = 'Exact')\n",
    "plt.hold('on')\n",
    "plt.plot(x, phi, linewidth = 6, linestyle = '--', label = 'numerical')\n",
    "plt.hold('off')\n",
    "plt.grid()\n",
    "plt.title(r'$N_x = 1000, \\partial_x^2 \\phi = \\cos (2\\pi x) + x$', fontsize = 20)\n",
    "plt.legend(loc = 'best')\n"
   ]
  },
  {
   "cell_type": "code",
   "execution_count": 61,
   "metadata": {
    "collapsed": false
   },
   "outputs": [
    {
     "name": "stdout",
     "output_type": "stream",
     "text": [
      "Nx12        error = 6.60477e-05       ----\n",
      "Nx24        error = 4.63165e-07       order = 7.15584\n",
      "Nx48        error = 3.20388e-09       order = 7.17556\n",
      "Nx96        error = 2.29129e-11       order = 7.12752\n",
      "Nx192        error = 1.60795e-13       order = 7.15479\n",
      "Nx384        error = 3.96136e-14       order = 2.02115\n",
      "Nx768        error = 8.48784e-14       order = -1.0994\n",
      "Nx1536        error = 4.59885e-13       order = -2.43781\n",
      "Nx3072        error = 8.50915e-13       order = -0.88774\n",
      "\n",
      "\n"
     ]
    }
   ],
   "source": [
    "import numpy as np\n",
    "\n",
    "Nx = [12, 24, 48, 96, 192, 384, 768, 1536, 3072]\n",
    "num_grids = len(Nx)\n",
    "a, b = 0., 1.\n",
    "L = b - a\n",
    "error_norm = np.zeros(num_grids)\n",
    "orders = np.zeros(num_grids)\n",
    "\n",
    "for grid in range(num_grids):\n",
    "    # grid dependent parameters\n",
    "    dx = L / (Nx[grid] - 1)\n",
    "    x = np.linspace(a, b, Nx[grid]) # spacing dx = (b - a ) / (Nx - 1)\n",
    "    n = np.cos(2*np.pi * x) + x\n",
    "    phi = Poisson_6th_LDBC_RNBC(n, Nx[grid], a, b, LBC = 0., RBC = 1/2.)\n",
    "    phi_exact = 1 / (4 * np.pi ** 2) * (1 - np.cos(2*np.pi * x)) + 1 / 6. * x ** 3\n",
    "    error_norm[grid] = LA.norm(phi_exact - phi,2) * np.sqrt(dx / L)\n",
    "\n",
    "    if grid == 0:\n",
    "        print \"Nx%d        error = %g       ----\" % (Nx[grid], error_norm[grid])\n",
    "    else:\n",
    "        orders[grid] = np.log2(error_norm[grid-1] / error_norm[grid])\n",
    "        print \"Nx%d        error = %g       order = %g\" % (Nx[grid], error_norm[grid], orders[grid])\n",
    "        \n",
    "print '\\n'"
   ]
  },
  {
   "cell_type": "markdown",
   "metadata": {},
   "source": [
    "This also gave us an opportunity to try out the solver for an nonhomogeneous NBC, which checks as shown above in the convergence analysis $\\checkmark$. We can check out a situation where we have both nonhomogeneous just for completeness."
   ]
  },
  {
   "cell_type": "markdown",
   "metadata": {},
   "source": [
    "### Convergence test 3\n",
    "\n",
    "We can consider the Poisson problem\n",
    "\n",
    "$$\\partial_x^2 \\phi = n, \\qquad n = \\cos (2\\pi x) + x$$\n",
    "\n",
    "where boundary conditions are not flipped, but chosen so that we get the same exact solution as in section H, i.e.\n",
    "\n",
    "$$\\phi (0) = 1, \\,\\, \\partial_x\\phi (1) = \\frac{1}{2}$$\n",
    "\n",
    "i.e. this produces (as before):\n",
    "\n",
    "$$\\phi_{exact}(x) = \\frac{1}{4\\pi^2}\\left[1 - \\cos (2\\pi x)\\right] + \\frac{1}{6}x^3 + 1$$\n",
    "\n",
    "For reference, we provide the first derivative:\n",
    "\n",
    "$$\\partial_x\\phi_{exact}(x) = \\frac{1}{2\\pi} \\sin (2\\pi x) + \\frac{1}{2}x^2$$\n",
    "\n",
    "Which can be noticed to satisfy the right edge Neumann condition, whereas the Dirichlet condition is clearly met by the left edge.\n"
   ]
  },
  {
   "cell_type": "code",
   "execution_count": 63,
   "metadata": {
    "collapsed": false
   },
   "outputs": [
    {
     "data": {
      "text/plain": [
       "<matplotlib.legend.Legend at 0x651bd90>"
      ]
     },
     "execution_count": 63,
     "metadata": {},
     "output_type": "execute_result"
    },
    {
     "data": {
      "image/png": "[encoded data removed]",
      "text/plain": [
       "<matplotlib.figure.Figure at 0x63d2c10>"
      ]
     },
     "metadata": {},
     "output_type": "display_data"
    }
   ],
   "source": [
    "%matplotlib inline\n",
    "import matplotlib.pyplot as plt\n",
    "import numpy as np\n",
    "\n",
    "Nx = 1000\n",
    "a, b = 0., 1.\n",
    "x = np.linspace(a, b, Nx)\n",
    "\n",
    "n = np.cos(2*np.pi * x) + x\n",
    "\n",
    "phi_exact = 1 / (4 * np.pi ** 2) * (1 - np.cos(2*np.pi * x)) + 1 / 6. * x ** 3 + 1\n",
    "phi = Poisson_6th_LDBC_RNBC(n, Nx, a, b, LBC = 1., RBC = 1/2.)\n",
    "\n",
    "plt.plot(x, phi_exact, linewidth = 6, label = 'Exact')\n",
    "plt.hold('on')\n",
    "plt.plot(x, phi, linewidth = 6, linestyle = '--', label = 'numerical')\n",
    "plt.hold('off')\n",
    "plt.grid()\n",
    "plt.title(r'$N_x = 1000, \\partial_x^2 \\phi = \\cos (2\\pi x) + x$', fontsize = 20)\n",
    "plt.legend(loc = 'best')\n"
   ]
  },
  {
   "cell_type": "code",
   "execution_count": 64,
   "metadata": {
    "collapsed": false
   },
   "outputs": [
    {
     "name": "stdout",
     "output_type": "stream",
     "text": [
      "Nx12        error = 6.60477e-05       ----\n",
      "Nx24        error = 4.63165e-07       order = 7.15584\n",
      "Nx48        error = 3.20388e-09       order = 7.17556\n",
      "Nx96        error = 2.28874e-11       order = 7.12913\n",
      "Nx192        error = 1.31293e-13       order = 7.44562\n",
      "Nx384        error = 3.42857e-13       order = -1.38482\n",
      "Nx768        error = 3.16572e-13       order = 0.115073\n",
      "Nx1536        error = 3.46431e-12       order = -3.45196\n",
      "Nx3072        error = 9.01397e-12       order = -1.37959\n",
      "\n",
      "\n"
     ]
    }
   ],
   "source": [
    "import numpy as np\n",
    "\n",
    "Nx = [12, 24, 48, 96, 192, 384, 768, 1536, 3072]\n",
    "num_grids = len(Nx)\n",
    "a, b = 0., 1.\n",
    "L = b - a\n",
    "error_norm = np.zeros(num_grids)\n",
    "orders = np.zeros(num_grids)\n",
    "\n",
    "for grid in range(num_grids):\n",
    "    # grid dependent parameters\n",
    "    dx = L / (Nx[grid] - 1)\n",
    "    x = np.linspace(a, b, Nx[grid]) # spacing dx = (b - a ) / (Nx - 1)\n",
    "    n = np.cos(2*np.pi * x) + x\n",
    "    phi = Poisson_6th_LDBC_RNBC(n, Nx[grid], a, b, RBC = 1/2., LBC = 1.)\n",
    "    phi_exact = 1 / (4 * np.pi ** 2) * (1 - np.cos(2*np.pi * x)) + 1 / 6. * x ** 3 + 1\n",
    "    error_norm[grid] = LA.norm(phi_exact - phi,2) * np.sqrt(dx / L)\n",
    "\n",
    "    if grid == 0:\n",
    "        print \"Nx%d        error = %g       ----\" % (Nx[grid], error_norm[grid])\n",
    "    else:\n",
    "        orders[grid] = np.log2(error_norm[grid-1] / error_norm[grid])\n",
    "        print \"Nx%d        error = %g       order = %g\" % (Nx[grid], error_norm[grid], orders[grid])\n",
    "        \n",
    "print '\\n'"
   ]
  },
  {
   "cell_type": "markdown",
   "metadata": {},
   "source": [
    "All good!"
   ]
  },
  {
   "cell_type": "markdown",
   "metadata": {},
   "source": [
    "# J. LNBC/RNBC solvers"
   ]
  },
  {
   "cell_type": "markdown",
   "metadata": {},
   "source": [
    "## J.1 Solubility and well-posedness of the PDE"
   ]
  },
  {
   "cell_type": "markdown",
   "metadata": {},
   "source": [
    "Considering the Poisson problem:\n",
    "\n",
    "$$\\partial_x \\phi (t,x) = \\sum_{\\alpha = e,i} q_{\\alpha}\\int dv_x f_{\\alpha}(t,x,v_x), \\qquad x\\in [a,b]$$\n",
    "\n",
    "We integrate once to reveal a solubility constraint:\n",
    "\n",
    "\\begin{eqnarray*}\n",
    "\\int_a^b dx\\, \\partial_x^2\\phi (t,x)  & = & \\sum_{\\alpha = e,i} q_{\\alpha}\\,\\int_a^b dx \\,\\int dv_x f_{\\alpha}(t,x,v_x) \\\\\n",
    "&&\\\\\n",
    "\\partial_x\\phi (t, b) - \\partial_x\\phi (t,a) & = & \\sum_{\\alpha = e,i} q_{\\alpha}\\,\\int_a^b dx \\,\\int dv_x f_{\\alpha}(t,x,v_x) \n",
    "\\end{eqnarray*}\n",
    "\n",
    "so the relationship that must be met among the first derivatives\n",
    "\n",
    "$$\\boxed{\\partial_x\\phi (t,b) - \\partial_x\\phi (t,a) = \\sum_{\\alpha = e,i} q_{\\alpha}\\,\\int_a^b dx \\,\\int dv_x f_{\\alpha}(t,x,v_x)} \\qquad \\underline{\\text{Solubility constraint on Poisson's equation}}$$"
   ]
  },
  {
   "cell_type": "markdown",
   "metadata": {},
   "source": [
    "For example, in a plasma system we have $n(t,x)$ being collected at thick conducting walls, and have conditions:\n",
    "\n",
    "$$\\partial_x\\phi(t,a) = -\\sigma_{Lw}(t,a)$$\n",
    "$$\\partial_x\\phi(t,b) = \\sigma_{Rw}(t,a)$$\n",
    "\n",
    "where $\\sigma$ is the surface charge density at either the left wall ($Lw$) or right wall ($Rw$). In 1D1V the surface charge density has units of charge, i.e. it is the total charge accumulated at a single point where the walls are and hence sometimes we call this quantity in the specialized case of 1D1V as $Q$ (total charge)."
   ]
  },
  {
   "cell_type": "markdown",
   "metadata": {},
   "source": [
    "Thus, in our test cases below we must mind this condition (this condition is met for quasineutral plasmas for thick conductors, where we are correct in our expectation of the above two boundary values for $\\partial_x\\phi \\equiv -E$, which is shown explicitly in a later section). The interpretation of this constraint is most obvious in special cases, consider Laplace's equation where we have no source term, $\\Delta \\phi = \\vec{\\nabla}\\cdot \\vec{\\Gamma} = 0$ where the flux $\\vec{\\Gamma} = \\vec{\\nabla}\\phi$. More relatably, take the function $\\phi$ to be a temperature-like object, so that the object $\\vec{\\Gamma} = \\vec{\\nabla}\\phi$ is a heat-like flux. If the flux of the flux is zero ($\\vec{\\nabla}\\cdot\\vec{\\Gamma} = 0$), there is no heat-like flow, i.e. the system is at equilibrium (Laplace's equation is a PDE which gives the equilbrium distribution, is the heat equation with $\\partial_t\\rightarrow 0$).\n",
    "\n",
    "If the Neumann boundary conditions are homogeneous, then we have no outflow from the system. In Laplace's equation, the diffusion of the quantity $\\phi$ causes it to spread evenly so that it approaches a constant value $\\phi (t\\rightarrow \\infty, x) = c$; however, any such $c$ also satisfies Laplaces equations along with the boundary conditions. Thus, there are an infinity of solutions.\n",
    "\n",
    "If we have Poisson's equation with homogeneous Neumann boundary conditions, we have no outflow of the quantity $\\phi$; however, we have injection of a source at a rate $n(t,x)$, if this were a temperature it would produce the solution where the temperature keeps rising with no means of escape, there exists no solution.\n",
    "\n",
    "The general trend is that either there is no solution to the two NBC 1D problem, or if the right-hand side of the discrete Poisson problem happens to lie within the column space of the differencing matrix, such ill-posed problems will produce singular matrices in the differencing matrix that approximates the self-adjoint operator $\\partial_x^2$. The way to fix a unique condition is only possible if the above boxed condition is met."
   ]
  },
  {
   "cell_type": "markdown",
   "metadata": {},
   "source": [
    "## J.1.1 Comparison with the Dirichlet problem: uniqueness \n",
    "\n",
    "Consider the equation in 3D:\n",
    "\n",
    "$$\\nabla^2\\phi (\\vec{x}) = f(\\vec{x}), \\quad \\vec{x}\\in V, \\text{ with bounding surface } S$$\n",
    "\n",
    "<u>Proof by contradiciton</u>:\n",
    "\n",
    "Suppose there are two solutions $\\phi_1$ and $\\phi_2$ such that they satisfy the same Dirichlet boundary conditions\n",
    "\n",
    "$$\\phi_1 (\\vec{x}) = \\phi_2 (\\vec{x}), \\quad \\vec{x}\\in S$$\n",
    "\n",
    "and solve the same Poisson equation:\n",
    "\n",
    "$$\\nabla^2\\phi_1 (\\vec{x}) = f(\\vec{x})$$\n",
    "$$\\nabla^2\\phi_2 (\\vec{x}) = f(\\vec{x})$$\n",
    "\n",
    "Subtracting both equations we define $\\Phi = \\phi_1 - \\phi_2$, and notice that the error function $\\Phi$ must satisfy the Laplace equation:\n",
    "\n",
    "$$\\nabla^2\\Phi = 0, \\quad \\vec{x}\\in V$$\n",
    "\n",
    "Since $\\phi1$ and $\\phi_2$ must satisfy the same boundary condition on $S$ to satisfy the Dirichlet problem, we have the corresponding boundary condition on the error function \n",
    "\n",
    "$$\\Phi(\\vec{x}\\in S) = \\phi_1(\\vec{x}\\in S) - \\phi_2(\\vec{x}\\in S) = 0$$\n",
    "\n",
    "One limitation is already clear; the two candidate solutions $\\phi_1(\\vec{x}\\in V)$ and $\\phi_2(\\vec{x}\\in V)$ cannot be different by only a constant $c$ as incidentally this implies that $\\Phi(\\vec{x}) \\equiv 0 \\Rightarrow \\phi_1(\\vec{x}) = \\phi_2(\\vec{x})$, which contradicts the claim in the Dirichlet problem. Thus, if it is possible to have two distinct solutions $\\phi_1$ and $\\phi_2$ that solve the same Poisson problem described by the same Dirichlet boundary conditions, then such a difference would have to be manifest with higher order variation than a constant offset.\n",
    "\n",
    "To make progress, note the the following identity: $\\Phi \\underbrace{(\\nabla^2\\Phi)}_{=\\, 0} = \\vec{\\nabla}\\cdot (\\Phi \\vec{\\nabla}\\Phi) - (\\vec{\\nabla}\\Phi)^2  \\Rightarrow  (\\vec{\\nabla}\\Phi)^2 = \\vec{\\nabla}\\cdot (\\Phi \\vec{\\nabla}\\Phi)$, where the first term is zero due to satisfying Laplace's equation. thus we consider the related integral:\n",
    "\n",
    "$$J = \\int (\\vec{\\nabla}\\Phi)^2 dV = \\int \\vec{\\nabla}\\cdot (\\Phi \\vec{\\nabla}\\Phi) dV = \\oint_S \\hat{n}\\cdot (\\Phi \\vec{\\nabla}\\Phi) dS = 0$$\n",
    "\n",
    "which follows from the boundary condition on $\\Phi (\\vec{x}\\in S) = 0$. This implies $J = \\int dV (\\vec{\\nabla}\\Phi)^2 = 0 \\Rightarrow \\Phi = c$ in $\\vec{x}\\in V$, but it was just discussed that $\\Phi (\\vec{x}) = c$ implies $c = 0$ which means $\\phi_1$ and $\\phi_2$ are the same. Which contradicts the original claim that they were distinct. Thus, we see the solution to the Dirichlet Poisson problem is unique. \n"
   ]
  },
  {
   "cell_type": "markdown",
   "metadata": {},
   "source": [
    "## J.1.2 Non-uniqueness of the Neumann problem\n",
    "\n",
    "Just as before we posit the existence of two unique solutions and discern if such a circumstance is possible. Introduce two candidate solutions of the Poisson problem $\\phi_1(\\vec{x})$ and $\\phi_2(\\vec{x})$ that satisfy the same Neumann boundary condition:\n",
    "\n",
    "$$\\frac{\\partial \\phi_1}{\\partial n} = \\frac{\\partial \\phi_2}{\\partial n}, \\quad \\vec{x}\\in S$$\n",
    "\n",
    "as before we have the error function $\\Phi(\\vec{x}) = \\phi_1(\\vec{x}) - \\phi_2(\\vec{x})$ which satisfies the homogeneous boundary condition\n",
    "\n",
    "$$\\frac{\\partial \\Phi}{\\partial n}  = \\frac{\\partial \\phi_1}{\\partial n} = \\frac{\\partial \\phi_2}{\\partial n} = 0, \\quad \\vec{x}\\in S$$\n",
    "\n",
    "which correspondingly satisfies the Laplace equation  $\\nabla^2\\Phi = 0$. We examine again the related integral and work in the Neumann boundary condition, i.e. consider\n",
    "\n",
    "$$J = \\int (\\vec{\\nabla}\\Phi)^2 dV = \\int \\vec{\\nabla}\\cdot (\\Phi \\vec{\\nabla}\\Phi) dV = \\oint_S \\hat{n}\\cdot (\\Phi \\vec{\\nabla}\\Phi) dS = \\oint_S (\\Phi\\frac{\\partial \\Phi }{\\partial n}) = 0$$\n",
    "\n",
    "where this time it is the Neumann condition that produces the zero result. Recalling that $J = \\int (\\vec{\\nabla}\\Phi)^2 dV$ this implies that $\\vec{\\nabla}\\Phi = 0 \\Rightarrow \\Phi (\\vec{x}) = c$ for $\\vec{x}\\in V$ for $c\\in \\mathbb{R}$. But, note there is no restriction on the function value $\\Phi (\\vec{x}\\in S)$, we rather only require $\\partial\\Phi / \\partial n = 0$ on $S$, thus this time our conclusion $\\Phi = c$ is permissible and we can note $\\Phi = \\phi_1 - \\phi_2 = c$ to have the general relationshiop $\\phi_1(\\vec{x}) = \\phi_2(\\vec{x}) + c$ and by differentiating this equation we still have the condition $\\partial \\phi_1(\\vec{x}\\in S)/ \\partial n = \\partial\\phi_2(\\vec{x}\\in S) / \\partial n$. Thus, the uniqueness condition on the Neumann problem is a non-uniqueness condition, it is possible to have $\\phi_1(\\vec{x}) = \\phi_2(\\vec{x}) + c$. <b>Thus, the Neumann problem has infinitely many solutions.</b>"
   ]
  },
  {
   "cell_type": "markdown",
   "metadata": {},
   "source": [
    "# J.2 The straightforward approach (LNBC/RNBC)\n",
    "\n",
    "Here, we provide the details to try and set up the problem based on the work done in previous sections where now there are two Neumann conditions, one on each edge. <b>We will see the details of this validates the above ideas, it produces a singular matrix which is emblematic of there either being no solution or an infinite number, and we cannot proceed.</b> We end up converging on an equivalent casting of this problem in section J.3 which permits us to solve for NBCs that are consistent for such problems which satisfy the above solubility condition by enforcing Cauchy data at one edge, and then having the other NBC be satisfied as a consequence without direct enforcement. This restricts the problems we can solve, i.e. must satisfy the solubility condition. This will permit us to generate one of the infinite number of solutions for such problems by our selection of the DBC in the Cauchy data set. In our plasma context, since what we are solving for is a potential and what determines the evolution of the plasma particles is a difference in potential, not absolute value, this workaround comes at no consequence and is seen to accomplish the goal nicely.\n",
    "\n",
    "## J.2 setting up the matrix problem\n",
    "\n",
    "Minding the above, suppose have two conditions:\n",
    "\n",
    "we consider the following compatible boundary conditions for the general (non-plasma) context:\n",
    "\n",
    "<ol>\n",
    "<li>$\\boxed{\\partial_x\\phi (x_0) = \\phi_a'}$\n",
    "<li>$\\boxed{\\partial_x \\phi (x_{N-1}) = \\phi_a' + \\int_a^b n(t,x) \\equiv \\phi_b'}$\n",
    "</ol>\n",
    "\n",
    "The set of scalar equations required are a consolidation of those in sections H and I. After this section we will be in a place to generalize or otherwise just have different routines for each case which can be toggled by <code>eval</code> of a string handle generated in a constructor in DECSKS. For such a system, we have the following set of equations"
   ]
  },
  {
   "cell_type": "markdown",
   "metadata": {},
   "source": [
    "at $i = 0$:\n",
    "\n",
    "$$-\\frac{97}{10}\\phi_0 + 16\\phi_{1} - 10\\phi_2 + 5\\phi_3 - \\frac{3}{2}\\phi_4 + \\frac{1}{5}\\phi_5  =  (\\Delta x)^2\\left[\\frac{317}{240}n_0 - \\frac{133}{120}n_1 + \\frac{187}{120}n_2 - \\frac{23}{20}n_3  + \\frac{109}{240}n_4 - \\frac{3}{40}n_5\\right] + 6 (\\Delta x) \\phi_a'$$\n",
    "\n",
    "for $1 \\leq i \\leq N-2$:\n",
    "\n",
    "\\begin{eqnarray*}\n",
    "i = 1: & \\phi_0 -2\\phi_1 + \\phi_2 & =  \\phantom{-}(\\Delta x)^2\\left[\\frac{3}{40}n_{0} + \\frac{209}{240}n_{1} + \\frac{1}{60}n_{2} + \\frac{7}{120}n_{3} - \\frac{1}{40}n_{4} + \\frac{1}{240}n_{5}\\right] \\\\[1em]\n",
    "i = 2: & \\phi_1 -2\\phi_2 + \\phi_3 & = -(\\Delta x)^2\\left[\\frac{1}{240}n_{0} + \\frac{1}{10}n_{1} + \\frac{97}{120}n_{2} + \\frac{1}{10}n_{3} - \\frac{1}{240}n_{4}\\right] \\\\[1em]\n",
    "i = 3: & \\phi_2 -2\\phi_3 + \\phi_4 & =  -(\\Delta x)^2\\left[\\frac{1}{240}n_{1} + \\frac{1}{10}n_{2} + \\frac{97}{120}n_{3} + \\frac{1}{10}n_{4} - \\frac{1}{240}n_{5}\\right] \\\\[2em]\n",
    "\\vdots \\\\[2em]\n",
    "i = N-4: & \\phi_{N-5} -2\\phi_{N-4} + \\phi_{N-3} & = -(\\Delta x)^2\\left[\\frac{1}{240}n_{N-6} + \\frac{1}{10}n_{N-5} + \\frac{97}{120}n_{N-4} + \\frac{1}{10}n_{N-3} - \\frac{1}{240}n_{N-2}\\right] \\\\[1em]\n",
    "i = N-3: & \\phi_{N-4} -2\\phi_{N-3} + \\phi_{N-2} & = -(\\Delta x)^2\\left[\\frac{1}{240}n_{N-5} + \\frac{1}{10}n_{N-4} + \\frac{97}{120}n_{N-3} + \\frac{1}{10}n_{N-2} - \\frac{1}{240}n_{N-1}\\right] \\\\[1em]\n",
    "i = N - 2: & \\phi_{N-3} - 2\\phi_{N-2} + \\phi_{N-1} & = \\phantom{-}(\\Delta x)^2\\left[\\frac{1}{240}n_{N-6} - \\frac{1}{40}n_{N-5} + \\frac{7}{120}n_{N-4} + \\frac{1}{60}n_{N-3} + \\frac{209}{240}n_{N-2} + \\frac{3}{40}n_{N-1}\\right] \\\\[1em]\n",
    "\\end{eqnarray*}\n",
    "\n",
    "and at $i = N-1$:\n",
    "\n",
    "$$\\frac{1}{5}\\phi_{N_x-6} - \\frac{3}{2}\\phi_{N_x-5} + 5\\phi_{N_x-4} - 10\\phi_{N_x-3} + 16\\phi_{N_x-2} - \\frac{97}{10}\\phi_{N_x-1} = (\\Delta x)^2\\left(\\frac{317}{240}n_{N_x-1} - \\frac{133}{120}n_{N_x-2} + \\frac{187}{120}n_{N_x-3} - \\frac{23}{20}n_{N_x-4}  + \\frac{109}{240}n_{N_x-5} - \\frac{3}{40}n_{N_x-6}\\right) - 6(\\Delta x)\\phi_b'$$\n",
    "\n"
   ]
  },
  {
   "cell_type": "markdown",
   "metadata": {},
   "source": [
    "We choose to partition the density matrices and the boundary values as follows, by writing:\n",
    "\n",
    "$$\\underline{b} = \\underline{\\underline{B}}_{N\\times N}\\cdot \\underline{n}_{N\\times 1} + \\frac{1}{(\\Delta x)^2} \\underline{\\phi}_{BC}$$\n",
    "\n",
    "So that the above becomes \n",
    "\n",
    "$$\\underline{\\underline{D}}_{N\\times N}\\cdot\\underline{\\phi}_{N\\times 1} = (\\Delta x)^2\\cdot \\underline{\\underline{B}}_{N\\times N}\\cdot \\underline{n}_{N\\times 1} + (\\underline{\\phi}_{BC})_{N\\times 1}$$\n",
    "\n",
    "Where \n",
    "\n",
    "$$(\\underline{\\phi}_{BC})_{N\\times 1} = [(6(\\Delta x) \\phi_a', 0 , 0, \\ldots , 0 , -6(\\Delta x)\\phi_b')^T]_{N\\times 1}$$\n",
    "\n",
    "the density vector \n",
    "\n",
    "$$\\underline{n}_{N\\times 1} = (n_0, n_1, n_2, \\ldots , n_{N-2}, n_{N-1})^T$$"
   ]
  },
  {
   "cell_type": "markdown",
   "metadata": {},
   "source": [
    "the difference matrix $\\underline{\\underline{D}}$ then takes the form  (LHS = \"left-hand side\"):\n",
    "\n",
    "$$\\underline{\\underline{D}} = \\underline{\\underline{D}}_{N\\times N} = \\left( \\begin{array}{c}\n",
    "i = 0: \\, \\text{central differencing on } \\{\\phi_i\\}  \\text{ with $\\phi_{-1}$ ghost point eliminated by NBC} \\\\\n",
    "i = 1: \\, \\text{central differencing FD coefficients on }  \\{\\phi_i\\}\\\\\n",
    "i = 2: \\, \\text{central differencing FD coefficients on }   \\{\\phi_i\\}\\\\\n",
    "i = 3: \\, \\text{central differencing FD coefficients on }   \\{\\phi_i\\}\\\\\n",
    "\\vdots \\\\\n",
    "\\vdots \\\\\n",
    "\\vdots \\\\\n",
    "i = N-3: \\, \\text{central differencing FD coefficients on }   \\{\\phi_i\\}\\\\\n",
    "i = N-2: \\, \\text{central differencing FD coefficients on }   \\{\\phi_j\\}\\\\\n",
    "i = 0: \\, \\text{central differencing on } \\{\\phi_i\\}  \\text{ with $\\phi_{N}$ ghost point eliminated by NBC} \n",
    "\\end{array} \\right)$$\n",
    "\n",
    "which takes the form,\n",
    "\n",
    " $$\\underline{\\underline{D}} = \\left( \\begin{array}{c c c c c c c c c}\n",
    "-\\frac{97}{10} & 16 & -10 &  5 & -\\frac{3}{2} & \\frac{1}{5} & 0 & \\cdots & 0 \\\\\n",
    "1 & -2 & 1 & 0 & \\cdots & \\cdots & \\cdots & \\cdots  & \\cdots & 0 \\\\\n",
    "0 & 1 & -2 & 1 & 0 & \\cdots & \\cdots & \\cdots &  \\cdots & 0 \\\\\n",
    "0 & 0 & 1 & -2 & 1 & 0 & \\cdots & \\cdots & \\cdots & 0\\\\\n",
    "\\vdots & \\vdots & 0 & \\ddots & \\ddots & \\ddots & 0 & \\cdots & \\cdots & 0\\\\\n",
    "\\vdots & \\vdots & \\vdots & 0 & \\ddots & \\ddots & \\ddots & 0 & \\cdots & 0\\\\\n",
    "\\vdots & \\vdots & \\vdots & \\vdots & 0 & \\ddots & \\ddots & \\ddots & 0 & 0 \\\\\n",
    "\\vdots & \\vdots & \\vdots & \\vdots & \\vdots & 0 & 1 & -2 & 1 & 0 \\\\\n",
    "\\vdots & \\vdots & \\vdots & \\vdots & \\vdots & \\vdots & 0 & 1 & -2 & 1 \\\\\n",
    "0 & 0 & 0 &  0 & \\frac{1}{5} & -\\frac{3}{2} & 5 & -10 & 16 & -\\frac{97}{10}  \\\\\n",
    "\\end{array} \\right)$$\n"
   ]
  },
  {
   "cell_type": "markdown",
   "metadata": {},
   "source": [
    "<table \"width = 85%\">\n",
    "<tr><td><b>Solubility</b></td></tr>\n",
    "<tr><td>\n",
    "The determinant $\\text{det}(\\underline{\\underline{D}}) = 0$ of the matrix $\\underline{\\underline{D}}$. This is not a numerical coincidence but a reflection of the problem not being well-posed (two Neumann boundary conditions). Either there is no solution or there are an infinite number of solutions provided the above solubility constraint is met ont the two NBCs.\n",
    "</td></tr>\n",
    "</table>\n",
    "\n"
   ]
  },
  {
   "cell_type": "markdown",
   "metadata": {},
   "source": [
    "\n",
    "Similarly, by reviewing the above set of scalar equations, we show the form of the matrix $\\underline{\\underline{B}}_{N\\times N}$:\n",
    "\n",
    "$$\\underline{\\underline{B}} = \\left( \\begin{array}{c}\n",
    "i = 0 \\text{, Neumann boundary condition factored in with auxillary vector, } \\underline{\\phi}_{BC} \\text{ forward 0 differencing scheme on density} \\\\\n",
    "i = 1 \\text{, forward-1 differencing scheme} \\\\\n",
    "i = 2 \\text{, central differencing scheme} \\\\\n",
    "i = 3 \\text{, central differencing scheme} \\\\\n",
    "\\vdots \\\\\n",
    "i = N-3 \\text{, central differencing scheme} \\\\\n",
    "i = N-2 \\text{, backward+1 differencing scheme} \\\\\n",
    "i = 0 \\text{, Neumann boundary condition factored in with auxillary vector, } \\underline{\\phi}_{BC} \\text{ backward 0 differencing scheme on density} \n",
    "\\end{array} \\right)_{N\\times N}\n",
    "=  \\left( \\begin{array}{c c c c c c c c c c c c c c}\n",
    "\\frac{317}{240} & -\\frac{133}{120} & \\frac{187}{120} & -\\frac{23}{20}  & \\frac{109}{240}  & - \\frac{3}{40} & 0 & \\cdots & \\cdots  &0 \\\\ \n",
    "\\frac{3}{40} & \\frac{209}{240} & \\frac{1}{60} & \\frac{7}{120} & -\\frac{1}{40} & \\frac{1}{240} & 0 & \\cdots & \\cdots & 0\\\\\n",
    "-\\frac{1}{240} & \\frac{1}{10} & \\frac{97}{120} & \\frac{1}{10} & -\\frac{1}{240} & 0 & 0 & \\cdots  & \\cdots & 0 \\\\\n",
    "0 & -\\frac{1}{240} & \\frac{1}{10} & \\frac{97}{120} & \\frac{1}{10} & -\\frac{1}{240} & 0 & \\cdots & \\cdots & 0 \\\\\n",
    "0 & \\ddots & \\ddots & \\ddots & \\ddots & \\ddots & \\ddots & \\ddots & 0 & 0  \\\\\n",
    "\\vdots & 0  & \\ddots  & \\ddots & \\ddots & \\ddots & \\ddots & \\ddots  & 0 & 0\\\\\n",
    "\\vdots & \\vdots & 0 & \\ddots & \\ddots & \\ddots & \\ddots & \\ddots & \\ddots  & 0\\\\\n",
    "\\vdots & \\vdots & 0 & \\ddots & 0 & -\\frac{1}{240} & \\frac{1}{10} & \\frac{97}{120} & \\frac{1}{10} & -\\frac{1}{240} \\\\\n",
    "\\vdots & \\vdots & \\vdots & 0 & \\frac{1}{240} & -\\frac{1}{40} & \\frac{7}{120} & \\frac{1}{60} & \\frac{209}{240} & \\frac{3}{40} \\\\\n",
    "0 & 0 & 0 & 0  & - \\frac{3}{40}  & \\frac{109}{240}  & -\\frac{23}{20} & \\frac{187}{120} & -\\frac{133}{120}  & \\frac{317}{240}\\\\ \n",
    "\\end{array} \\right)_{N\\times N}$$\n"
   ]
  },
  {
   "cell_type": "markdown",
   "metadata": {},
   "source": [
    "Which completely defines the problem."
   ]
  },
  {
   "cell_type": "markdown",
   "metadata": {},
   "source": [
    "## J.3 Implementation"
   ]
  },
  {
   "cell_type": "markdown",
   "metadata": {},
   "source": [
    "### Poisson_6th_LNBC_RNBC.py"
   ]
  },
  {
   "cell_type": "code",
   "execution_count": 65,
   "metadata": {
    "collapsed": true
   },
   "outputs": [],
   "source": [
    "import numpy as np\n",
    "import numpy.linalg as LA\n",
    "import matplotlib.pyplot as plt\n",
    "\n",
    "def Poisson_6th_LNBC_RNBC(n, Nx = 24, a = 0., b = 1., LBC = 0., RBC = 1.):\n",
    "    \"\"\"6th order LTE finite difference Poisson solver for Dirichlet BCs\n",
    "\n",
    "    inputs:\n",
    "    n -- (ndarray, ndim = 1) density vector\n",
    "    Nx -- (int) number of grid points\n",
    "    a -- (float) left boundary of x-domain\n",
    "    b -- (float) right boundary of x-domain\n",
    "                          \n",
    "    outputs:\n",
    "    phi -- (ndarray, ndim = 1) numerical solution to potential\n",
    "    \"\"\"\n",
    "\n",
    "    L = float(b - a)\n",
    "    dx = L / (Nx - 1)\n",
    "    \n",
    "    # augmented density vector N = (0, n), shape = (N+1,)\n",
    "    \n",
    "    N = np.zeros(Nx)\n",
    "\n",
    "    # assemble differencing matrix\n",
    "   \n",
    "    D = np.zeros((Nx,Nx))\n",
    "    \n",
    "    # LNBC row\n",
    "    D[0,0] = -97/10. \n",
    "    D[0,1] = 16.\n",
    "    D[0,2] = -10\n",
    "    D[0,3] = 5.\n",
    "    D[0,4] = -3/2. \n",
    "    D[0,5] = 1/5.\n",
    "    \n",
    "    # LNBC row\n",
    "    D[-1,-1] = -97/10. \n",
    "    D[-1,-2] = 16.\n",
    "    D[-1,-3] = -10\n",
    "    D[-1,-4] = 5.\n",
    "    D[-1,-5] = -3/2. \n",
    "    D[-1,-6] = 1/5.\n",
    "      \n",
    "    # Poisson's equation rows\n",
    "    for i in range(1,Nx-1):\n",
    "        D[i,i-1] = 1\n",
    "        D[i,i] = -2\n",
    "        D[i,i+1] = 1\n",
    "\n",
    "\n",
    "    # Assemble FD coefficient matrix on n: B\n",
    "    B = np.zeros((Nx,Nx))\n",
    "    for i in range(B.shape[0]):\n",
    "        if i == 0:\n",
    "            B[i,i] = 317 / 240.\n",
    "            B[i,i+1] = -133/120.\n",
    "            B[i,i+2] = 187 / 120.\n",
    "            B[i,i+3] = -23 / 20.\n",
    "            B[i,i+4] = 109 / 240.\n",
    "            B[i,i+5] = -3/40.\n",
    "\n",
    "        if i == 1:\n",
    "            B[i, i-1] = 3 / 40.\n",
    "            B[i, i] = 209 / 240.\n",
    "            B[i,i+1] = 1 / 60.\n",
    "            B[i,i+2] = 7 / 120.\n",
    "            B[i,i+3] = -1 / 40.\n",
    "            B[i,i+4] = 1 / 240.\n",
    "\n",
    "        elif 2 <= i <= Nx-3:\n",
    "            B[i,i-2] = -1/240.\n",
    "            B[i,i-1] = 1/10.\n",
    "            B[i,i] = 97/120.\n",
    "            B[i,i+1] = 1/10.\n",
    "            B[i,i+2] = -1/240.\n",
    "\n",
    "        elif i == Nx-2:\n",
    "            B[i,i+1] = 3 / 40.\n",
    "            B[i,i] = 209 / 240.\n",
    "            B[i,i-1] = 1 / 60.\n",
    "            B[i,i-2] = 7 / 120.\n",
    "            B[i,i-3] = -1 / 40.\n",
    "            B[i,i-4] = 1 / 240.\n",
    "            \n",
    "        if i == Nx-1:\n",
    "            B[i,i-5] = -3/40.\n",
    "            B[i,i-4] = 109 / 240.\n",
    "            B[i,i-3] = -23 / 20.\n",
    "            B[i,i-2] = 187 / 120.  \n",
    "            B[i,i-1] = -133/120.\n",
    "            B[i,i] = 317 / 240.\n",
    " \n",
    "\n",
    "    phi_BC = np.zeros(Nx)\n",
    "\n",
    "    phi_BC[0] = 6 * dx * LBC\n",
    "    phi_BC[-1] = -6 * dx * RBC\n",
    "    b = dx ** 2 * B.dot(n) + phi_BC\n",
    "    phi = LA.solve(D,b)\n",
    "\n",
    "    return phi"
   ]
  },
  {
   "cell_type": "markdown",
   "metadata": {
    "collapsed": true
   },
   "source": [
    "In practice, we cannot apply this algorithm, though we can set it up as shown just above!\n",
    "\n",
    "Instead, we arrive the non-unique solution by exploitng this non-uniqueness. That is, we are free to choose a <b>Dirichlet</b> boundary condition, and for such problems where a solution exists (i.e. which satisfy the solubility condition: $\\partial_x\\phi (b) = \\partial_x \\phi (a) + \\int_a^b dx\\, n(t,x)$), if we specify one Neumann boundary condition, then the other will be fulfilled by consequence. That is, we choose one <b>Cauchy</b> boundary condition at one edge, and understand if the context is appropriate the other Neumann condition will be fulfilled. Thus, we would like to have a scheme that applies the Cauchy data at one boundary. We could just use either the LNBC/RDBC or LDBC/RNBC schemes above if desired, but it is thought of as more natural to assert Cauchy data at one boundary."
   ]
  },
  {
   "cell_type": "markdown",
   "metadata": {},
   "source": [
    "# K. Poisson solver with Cauchy boundary condition at $x = a$ to achieve the effect of two Neumann BCs"
   ]
  },
  {
   "cell_type": "markdown",
   "metadata": {},
   "source": [
    "We cast the problem:\n",
    "\n",
    "<ol>\n",
    "<li>$\\partial_x\\phi (x_0) = \\phi_a'$\n",
    "<li>$\\partial_x \\phi (x_{N-1}) = \\phi_a' + \\int_a^b n(t,x) \\equiv \\phi_b'$\n",
    "</ol>\n",
    "\n",
    "and the equivalent Cauchy problem is given by\n",
    "\n",
    "<ol>\n",
    "<li>$\\boxed{\\phi (x_0) = \\phi_a}$\n",
    "<li>$\\boxed{\\partial_x  \\phi (x_0)  = \\phi_a'}$\n",
    "<li> and $\\partial_x \\phi (x_{N-1}) = \\phi_a' + \\int_a^b n(t,x) \\equiv \\phi_b'$ will not be enforced, but will be satisfied by consequence if this solubility condition is true (e.g. as in quasineutral plasmas)\n",
    "</ol>"
   ]
  },
  {
   "cell_type": "markdown",
   "metadata": {},
   "source": [
    "We proceed as in previous sections. With the $N-1$ differenced Poisson's equations (for nodes $i = 0, 1, 2, \\ldots N-2$) + 1 Dirichlet boundary condition that are known a priori at $i = 0$, we have $N$ equations for $N$ unknowns ($\\phi_i, \\, i = 0, 1, 2, \\ldots N-1$). The ghost value $\\phi_{-1}$ that appears in the differenced $i = 0$ equation has been eliminated using the Neumann boundary condition, hence the stencil is reaches further right than the centered stencil $\\{1,-2,1\\}$ on $\\phi_0$ by the same amount that its reach extends beyond this on the differenced estimation of $\\delta_x\\phi_0 = \\text{LTE}[O(\\Delta x^6)]$. We write several equations for various indices $i$ in order to clearly see the matrix take form. We wish to set up the discrete problem as follows:\n",
    "\n",
    "$$\\partial_x^2\\phi = n \\qquad \\longrightarrow \\qquad \\frac{1}{(\\Delta x)^2}\\underline{\\underline{D}}\\underline{\\phi} = \\underline{b} \\quad \\text{ or } \\quad \\underline{\\underline{D}}\\underline{\\phi} = (\\Delta x)^2\\underline{b} \\qquad (K.1)$$\n",
    "\n",
    "The left-hand side ($\\partial_x^2 \\phi \\simeq \\underline{\\underline{D}}\\underline{\\phi})$ has the factor of $(\\Delta x)^2$ brought to the right-hand side. With this understanding, we have the following set of scalar equations to organize: \n"
   ]
  },
  {
   "cell_type": "markdown",
   "metadata": {},
   "source": [
    "We choose to label the grid points by $i$, and the equation number by $k = 0, 1, \\ldots , N-1$ for our $N$ equations. We differentiate because before each equation $k$ would correspond to each node $i$ with the exception of the first or the last row which we made note of. Here, we will tack on two boundary conditions as the first two equations (first two rows of our matrix system) $k = 0,1,$, but these do not refer to nodes per se. However, equations (rows) $k = 2, 3, \\ldots , N-1$ do correspond to differenced Poisson's equations centered at nodes $i = 0,1,2, \\ldots N-2$, respectively. Note in this matrix problem organization, we have the relationship between the $i$th node equation ($i\\in [0,1,2,\\ldots , N-2]$) being $k = i -1$ if $k\\in [1,2, 3, \\ldots , N-1]$. This just makes obvious which matrix row $k$ contains which nodal equation $i$.\n",
    "\n",
    "$$k = 0 : \\qquad (\\Delta x)^2\\phi_{0}  = \\phantom{-}(\\Delta x)^2\\phi_a$$\n",
    "\n",
    "The $i = 0$ equation is the Neumann boundary condition where the ghost point $\\phi_{-1}$ has been eliminated by using the differenced Poisson's equation at $i = 0$. \n",
    "\n",
    "$$k = 1 : \\qquad -\\frac{97}{10}\\phi_0 + 16\\phi_{1} - 10\\phi_2 + 5\\phi_3 - \\frac{3}{2}\\phi_4 + \\frac{1}{5}\\phi_5  =  (\\Delta x)^2\\left[\\frac{317}{240}n_0 - \\frac{133}{120}n_1 + \\frac{187}{120}n_2 - \\frac{23}{20}n_3  + \\frac{109}{240}n_4 - \\frac{3}{40}n_5\\right] + 6 (\\Delta x) \\phi_a'$$\n",
    "\n",
    "And, for $1\\leq i \\leq N-2$, we\n",
    "\n",
    "\\begin{eqnarray*}\n",
    "i = 1 \\,(k = 2): & \\phi_0 -2\\phi_1 + \\phi_2 & =  \\phantom{-}(\\Delta x)^2\\left[\\frac{3}{40}n_{0} + \\frac{209}{240}n_{1} + \\frac{1}{60}n_{2} + \\frac{7}{120}n_{3} - \\frac{1}{40}n_{4} + \\frac{1}{240}n_{5}\\right] \\\\[1em]\n",
    "i = 2 \\,(k = 3): & \\phi_1 -2\\phi_2 + \\phi_3 & = (\\Delta x)^2\\left[-\\frac{1}{240}n_{0} + \\frac{1}{10}n_{1} + \\frac{97}{120}n_{2} + \\frac{1}{10}n_{3} - \\frac{1}{240}n_{4}\\right] \\\\[1em]\n",
    "i = 3 \\,(k = 4): & \\phi_2 -2\\phi_3 + \\phi_4 & =  (\\Delta x)^2\\left[-\\frac{1}{240}n_{1} + \\frac{1}{10}n_{2} + \\frac{97}{120}n_{3} + \\frac{1}{10}n_{4} - \\frac{1}{240}n_{5}\\right] \\\\[2em]\n",
    "\\vdots \\\\[2em]\n",
    "i = N-4 \\,(k = N-3): & \\phi_{N-5} -2\\phi_{N-4} + \\phi_{N-3} & = (\\Delta x)^2\\left[-\\frac{1}{240}n_{N-6} + \\frac{1}{10}n_{N-5} + \\frac{97}{120}n_{N-4} + \\frac{1}{10}n_{N-3} - \\frac{1}{240}n_{N-2}\\right] \\\\[1em]\n",
    "i = N-3 \\,(k = N-2): & \\phi_{N-4} -2\\phi_{N-3} + \\phi_{N-2} & = (\\Delta x)^2\\left[-\\frac{1}{240}n_{N-5} + \\frac{1}{10}n_{N-4} + \\frac{97}{120}n_{N-3} + \\frac{1}{10}n_{N-2} - \\frac{1}{240}n_{N-1}\\right] \\\\[1em]\n",
    "i = N - 2 \\,(k = N-1): & \\phi_{N-3} - 2\\phi_{N-2} + \\phi_{N-1} & = \\phantom{-}(\\Delta x)^2\\left[\\frac{1}{240}n_{N-6} - \\frac{1}{40}n_{N-5} + \\frac{7}{120}n_{N-4} + \\frac{1}{60}n_{N-3} + \\frac{209}{240}n_{N-2} + \\frac{3}{40}n_{N-1}\\right]\n",
    "\\end{eqnarray*}\n",
    "\n",
    "Which altogether provide the required $N$ equations for $N$ unknowns in the fashion of specifying Cauchy data at $i = 0$, which if the solubility condition for Neumann boundaries are met, then will give the non-unique solution to the double NBC problem, equivalently."
   ]
  },
  {
   "cell_type": "markdown",
   "metadata": {},
   "source": [
    "We choose to partition the density matrices and the boundary values as follows, by writing:\n",
    "\n",
    "$$\\underline{b} = \\underline{\\underline{B}}_{N\\times N}\\cdot \\underline{n}_{N\\times 1} + \\frac{1}{(\\Delta x)^2} \\underline{\\phi}_{BC}$$\n",
    "\n",
    "So that the above becomes \n",
    "\n",
    "$$\\boxed{\\underline{\\underline{D}}_{N\\times N}\\cdot\\underline{\\phi}_{N\\times 1} = (\\Delta x)^2\\cdot \\underline{\\underline{B}}_{N\\times N}\\cdot \\underline{n}_{N\\times 1} + (\\underline{\\phi}_{BC})_{N\\times 1}}$$\n",
    "\n",
    "Notice that reviewing the $k = 0$ equation allows us to omit the factors of $(\\Delta x)^2$ as they appear on both sides of the equation provided that the matrix $\\underline{\\underline{B}}$ contains a row of zeros for the first row so as to make the $k = 0$ equation independent of density as above.  We define the auxillary vector for the boundary terms:\n",
    "\n",
    "$$(\\underline{\\phi}_{BC})_{N\\times 1} = [(\\phi_a, 6(\\Delta x)\\phi_a', 0 , 0, \\ldots , 0 , 0)^T]_{N+\\times 1}$$\n",
    "\n",
    "the density vector \n",
    "\n",
    "$$\\underline{n}_{N\\times 1} = (n_0, n_1, n_2, \\ldots , n_{N-2}, n_{N-1})^T$$"
   ]
  },
  {
   "cell_type": "markdown",
   "metadata": {},
   "source": [
    "\n",
    "the difference matrix $\\underline{\\underline{D}}$ then takes the form  (LHS = \"left-hand side\"):\n",
    "\n",
    "$$\\underline{\\underline{D}} = \\underline{\\underline{D}}_{N\\times N} = \\left( \\begin{array}{c}\n",
    "k = 0: \\, \\text{Dirichlet BC LHS coefficient of: } 1\\cdot\\phi_{0} = \\phi_a  \\\\\n",
    "k = 1: \\, \\text{Neumann BC LHS coefficient of: } \\delta_x\\cdot\\phi_{0} = \\phi_a'  \\\\\n",
    "k = 2: \\, \\text{central differencing FD coefficients on } i = 1, \\,\\, \\{\\phi_i\\}\\\\\n",
    "k = 3: \\, \\text{central differencing FD coefficients on } i = 2, \\,\\,  \\{\\phi_i\\}\\\\\n",
    "\\vdots \\\\\n",
    "\\vdots \\\\\n",
    "\\vdots \\\\\n",
    "k = N-3: \\, \\text{central differencing FD coefficients on } i = N-4, \\,\\,  \\{\\phi_i\\}\\\\\n",
    "k = N-2: \\, \\text{central differencing FD coefficients on } i = N-3, \\,\\,  \\{\\phi_j\\}\\\\\n",
    "k = N-1: \\, \\text{central differencing FD coefficients on } i = N-2, \\,\\,  \\{\\phi_i\\}\n",
    "\\end{array} \\right)$$\n",
    "\n",
    "which takes the form,"
   ]
  },
  {
   "cell_type": "markdown",
   "metadata": {},
   "source": [
    " $$\\underline{\\underline{D}} = \\left( \\begin{array}{c c c c c c c c c}\n",
    "1 & 0 & 0 &  0 & 0 & 0 & 0 & \\cdots & 0 \\\\\n",
    "-\\frac{97}{10} & 16 & -10 &  5 & -\\frac{3}{2} & \\frac{1}{5} & 0 & \\cdots & 0 \\\\\n",
    "1 & -2 & 1 & 0 & \\cdots & \\cdots & \\cdots & \\cdots  & \\cdots & 0 \\\\\n",
    "0 & 1 & -2 & 1 & 0 & \\cdots & \\cdots & \\cdots &  \\cdots & 0 \\\\\n",
    "0 & 0 & 1 & -2 & 1 & 0 & \\cdots & \\cdots & \\cdots & 0\\\\\n",
    "\\vdots & \\vdots & 0 & \\ddots & \\ddots & \\ddots & 0 & \\cdots & \\cdots & 0\\\\\n",
    "\\vdots & \\vdots & \\vdots & 0 & \\ddots & \\ddots & \\ddots & 0 & \\cdots & 0\\\\\n",
    "\\vdots & \\vdots & \\vdots & \\vdots & 0 & \\ddots & \\ddots & \\ddots & 0 & 0 \\\\\n",
    "\\vdots & \\vdots & \\vdots & \\vdots & \\vdots & 0 & 1 & -2 & 1 & 0 \\\\\n",
    "\\vdots & \\vdots & \\vdots & \\vdots & \\vdots & \\vdots & 0 & 1 & -2 & 1 \\\\\n",
    "\\end{array} \\right)$$"
   ]
  },
  {
   "cell_type": "markdown",
   "metadata": {},
   "source": [
    "\n",
    "Similarly, by reviewing the above set of scalar equations, we show the form of the matrix $\\underline{\\underline{B}}_{N\\times N}$:\n",
    "\n",
    "$$\\underline{\\underline{B}} = \\left( \\begin{array}{c}\n",
    "k = 0 \\text{, Dirichlet boundary condition at } i = 0 \\text{ factored in with auxillary vector, } \\underline{\\phi}_{BC} \\ldots \\underline{0} \\\\\n",
    "k = 1 \\text{, Neumann boundary condition at } i = 0 \\text{ factored in with auxillary vector, } \\underline{\\phi}_{BC} \\text{ forward 0 differencing scheme on density} \\\\\n",
    "k = 2 \\text{, forward-1 differencing scheme} \\\\\n",
    "k = 3 \\text{, central differencing scheme} \\\\\n",
    "k = 4 \\text{, central differencing scheme} \\\\\n",
    "\\vdots \\\\\n",
    "k = N-2 \\text{, central differencing scheme} \\\\\n",
    "k = N-1 \\text{, backward+1 differencing scheme} \\\\\n",
    "\\end{array} \\right)_{N\\times N}\n",
    "=  \\left( \\begin{array}{c c c c c c c c c c c c c c}\n",
    "0 & 0 & 0 & 0 & 0 & 0 & 0 & 0 & \\cdots  &0 \\\\ \n",
    "\\frac{317}{240} & -\\frac{133}{120} & \\frac{187}{120} & -\\frac{23}{20}  & \\frac{109}{240}  & - \\frac{3}{40} & 0 & \\cdots & \\cdots  &0 \\\\ \n",
    "\\frac{3}{40} & \\frac{209}{240} & \\frac{1}{60} & \\frac{7}{120} & -\\frac{1}{40} & \\frac{1}{240} & 0 & \\cdots & \\cdots & 0\\\\\n",
    "-\\frac{1}{240} & \\frac{1}{10} & \\frac{97}{120} & \\frac{1}{10} & -\\frac{1}{240} & 0 & 0 & \\cdots  & \\cdots & 0 \\\\\n",
    "0 & -\\frac{1}{240} & \\frac{1}{10} & \\frac{97}{120} & \\frac{1}{10} & -\\frac{1}{240} & 0 & \\cdots & \\cdots & 0 \\\\\n",
    "0 & \\ddots & \\ddots & \\ddots & \\ddots & \\ddots & \\ddots & \\ddots & 0 & 0  \\\\\n",
    "\\vdots & 0  & \\ddots  & \\ddots & \\ddots & \\ddots & \\ddots & \\ddots  & 0 & 0\\\\\n",
    "\\vdots & \\vdots & 0 & \\ddots & \\ddots & \\ddots & \\ddots & \\ddots & \\ddots  & 0\\\\\n",
    "\\vdots & \\vdots & \\vdots & 0 & 0 & -\\frac{1}{240} & \\frac{1}{10} & \\frac{97}{120} & \\frac{1}{10} & -\\frac{1}{240} \\\\\n",
    "\\vdots & \\vdots & \\vdots & 0 & \\frac{1}{240} & -\\frac{1}{40} & \\frac{7}{120} & \\frac{1}{60} & \\frac{209}{240} & \\frac{3}{40} \\\\\n",
    "\\end{array} \\right)_{N\\times N}$$\n"
   ]
  },
  {
   "cell_type": "markdown",
   "metadata": {},
   "source": [
    "## K.2 Implementation"
   ]
  },
  {
   "cell_type": "markdown",
   "metadata": {},
   "source": [
    "### Poisson_LDBC_LNBC_6th.py"
   ]
  },
  {
   "cell_type": "code",
   "execution_count": 68,
   "metadata": {
    "collapsed": true
   },
   "outputs": [],
   "source": [
    "import numpy as np\n",
    "import numpy.linalg as LA\n",
    "import matplotlib.pyplot as plt\n",
    "\n",
    "def Poisson_6th_LDBC_LNBC(n, Nx = 24, a = 0., b = 1., LDBC = 0., LNBC = 1.):\n",
    "    \"\"\"6th order LTE finite difference Poisson solver for two Neumann conditions\n",
    "    for a suitably well-posed problem. The conditions are enforced as Cauchy\n",
    "    data at the left boundary, where the second Neumann condition on the right\n",
    "    hand side will be satisfied by consequence provided the problem meets the\n",
    "    Neumann solubility condition on the Poisson equation\n",
    "\n",
    "    inputs:\n",
    "    n -- (ndarray, ndim = 1) density vector\n",
    "    Nx -- (int) number of grid points\n",
    "    a -- (float) left boundary of x-domain\n",
    "    b -- (float) right boundary of x-domain\n",
    "                          \n",
    "    outputs:\n",
    "    phi -- (ndarray, ndim = 1) numerical solution to potential\n",
    "    \"\"\"\n",
    "\n",
    "    L = float(b - a)\n",
    "    dx = L / (Nx - 1)\n",
    "    \n",
    "    # augmented density vector N = (0, n), shape = (N+1,)\n",
    "    \n",
    "    N = np.zeros(Nx)\n",
    "\n",
    "    # assemble differencing matrix\n",
    "   \n",
    "    D = np.zeros((Nx,Nx))\n",
    "\n",
    "    # LDBC row, (row 0)\n",
    "    D[0,0] = 1.\n",
    "    \n",
    "    # LNBC row, (row 1)\n",
    "    D[1,0] = -97/10. \n",
    "    D[1,1] = 16.\n",
    "    D[1,2] = -10\n",
    "    D[1,3] = 5.\n",
    "    D[1,4] = -3/2. \n",
    "    D[1,5] = 1/5.\n",
    "      \n",
    "    # Poisson's equation rows\n",
    "    for i in range(2,Nx):\n",
    "        D[i,i-2] = 1\n",
    "        D[i,i-1] = -2\n",
    "        D[i,i] = 1\n",
    "\n",
    "\n",
    "    # Assemble FD coefficient matrix on n: B\n",
    "    B = np.zeros((Nx,Nx))\n",
    "    for i in range(1,B.shape[0]):\n",
    "        if i == 1:\n",
    "            B[i,i-1] = 317 / 240.\n",
    "            B[i,i] = -133/120.\n",
    "            B[i,i+1] = 187 / 120.\n",
    "            B[i,i+2] = -23 / 20.\n",
    "            B[i,i+3] = 109 / 240.\n",
    "            B[i,i+4] = -3/40.\n",
    "\n",
    "        if i == 2:\n",
    "            B[i, i-2] = 3 / 40.\n",
    "            B[i, i-1] = 209 / 240.\n",
    "            B[i,i] = 1 / 60.\n",
    "            B[i,i+1] = 7 / 120.\n",
    "            B[i,i+2] = -1 / 40.\n",
    "            B[i,i+3] = 1 / 240.\n",
    "\n",
    "        elif 3 <= i <= Nx-2:\n",
    "            B[i,i-3] = -1/240.\n",
    "            B[i,i-2] = 1/10.\n",
    "            B[i,i-1] = 97/120.\n",
    "            B[i,i] = 1/10.\n",
    "            B[i,i+1] = -1/240.\n",
    "            \n",
    "        elif i == Nx-1:\n",
    "            B[i,i-5] = 1/240.\n",
    "            B[i,i-4] = -1/40.\n",
    "            B[i,i-3] = 7/120.\n",
    "            B[i,i-2] = 1/60.  \n",
    "            B[i,i-1] = 209/240.\n",
    "            B[i,i] = 3/40.\n",
    " \n",
    "\n",
    "    phi_BC = np.zeros(Nx)\n",
    "\n",
    "    phi_BC[0] = LDBC\n",
    "    phi_BC[1] = 6 * dx * LNBC\n",
    "    b = dx ** 2 * B.dot(n) + phi_BC\n",
    "    phi = LA.solve(D,b)\n",
    "\n",
    "    return phi"
   ]
  },
  {
   "cell_type": "markdown",
   "metadata": {},
   "source": [
    "<table \"width = 85%\">\n",
    "<tr><td<font size = 24><b>Solubility</b></font></td></tr>\n",
    "<tr><td>\n",
    "The determinant $\\text{det}(\\underline{\\underline{D}}) = 6$ of the matrix $\\underline{\\underline{D}}$ is nonzero and thus invertible, hence a unique solution exists for this DBC/NBC problem.\n",
    "</td></tr>\n",
    "</table>\n"
   ]
  },
  {
   "cell_type": "markdown",
   "metadata": {},
   "source": [
    "### Convergence test\n",
    "\n",
    "We can consider the Poisson problem\n",
    "\n",
    "$$\\partial_x^2 \\phi = n(x), \\qquad n(x) = \\cos (2\\pi x), \\qquad x\\in [0,1]$$\n",
    "\n",
    "where we enforce the following Cauchy data:\n",
    "\n",
    "$$\\phi (0) = 1, \\,\\, \\partial_x\\phi (0) = \\frac{1}{2}$$\n",
    "\n",
    "Noting that we note that $\\int_0^1 dx\\, n(x) = 0$, we have the following relationship given by the solubility constraint:\n",
    "\n",
    "$$\\partial_x\\phi (1) = \\partial_x\\phi (0) + \\int_0^1 dx\\, n(x) = \\partial_x\\phi (0) = \\frac{1}{2}$$\n",
    "\n",
    "We will analyze the numerical solution vs. the exact solution and should there be sufficient agreement we will be able to agree that the Neumann condition at $x = 1$ must also be met without having to take the numerical solution, then difference it at the edges and see if the derivative value agrees. Additionally, we plot the line of constant slope 1/2, which should be the values of $\\partial_x\\phi$ at either edge, so visually we will have an easy comparison.\n",
    "\n",
    "The exact solution is:\n",
    ";\n",
    "$$\\phi_{exact} (x) = \\frac{1}{4\\pi^2}\\left(1 - \\cos (2\\pi x) \\right) + \\frac{1}{2} x + 1$$\n",
    "\n",
    "For reference, we provide the first derivative:\n",
    "\n",
    "$$\\partial_x\\phi_{exact}(x) = \\frac{1}{2\\pi} \\sin (2\\pi x) + \\frac{1}{2}$$\n",
    "\n",
    "We can see at $x = 0$ and $x = 1$ we have $\\partial_x\\phi = 1/2$ which was what we anticipated would be satisfied above."
   ]
  },
  {
   "cell_type": "code",
   "execution_count": 70,
   "metadata": {
    "collapsed": false
   },
   "outputs": [
    {
     "data": {
      "text/plain": [
       "<matplotlib.legend.Legend at 0x7fb0e90>"
      ]
     },
     "execution_count": 70,
     "metadata": {},
     "output_type": "execute_result"
    },
    {
     "data": {
      "image/png": "[encoded data removed]",
      "text/plain": [
       "<matplotlib.figure.Figure at 0x3462190>"
      ]
     },
     "metadata": {},
     "output_type": "display_data"
    }
   ],
   "source": [
    "%matplotlib inline\n",
    "import matplotlib.pyplot as plt\n",
    "import numpy as np\n",
    "\n",
    "Nx = 1000\n",
    "a, b = 0., 1.\n",
    "x = np.linspace(a, b, Nx)\n",
    "\n",
    "n = np.cos(2*np.pi * x)\n",
    "\n",
    "phi_exact = 1 / (4 * np.pi ** 2) * (1 - np.cos(2*np.pi * x)) + 1/2.*x + 1.\n",
    "\n",
    "phi = Poisson_6th_LDBC_LNBC(n, Nx, a, b, LDBC = 1., LNBC = 1/2.)\n",
    "\n",
    "NBC_line = 1/2.*x + 1\n",
    "\n",
    "plt.plot(x, phi_exact, linewidth = 6, label = 'Exact')\n",
    "plt.hold('on')\n",
    "plt.plot(x, phi, linewidth = 6, linestyle = '--', label = 'numerical')\n",
    "plt.plot(x, NBC_line, linewidth = 6, linestyle = '--', color = 'purple', label = r'line with slope = $1/2$')\n",
    "plt.hold('off')\n",
    "plt.grid()\n",
    "plt.title(r'$N_x = 1000, \\partial_x^2 \\phi = \\cos (2\\pi x)$', fontsize = 20)\n",
    "plt.legend(loc = 'best')\n"
   ]
  },
  {
   "cell_type": "code",
   "execution_count": 72,
   "metadata": {
    "collapsed": false
   },
   "outputs": [
    {
     "name": "stdout",
     "output_type": "stream",
     "text": [
      "Nx12        error = 6.74513e-05       ----\n",
      "Nx24        error = 4.76614e-07       order = 7.14488\n",
      "Nx48        error = 3.34742e-09       order = 7.15363\n",
      "Nx96        error = 2.4824e-11       order = 7.07517\n",
      "Nx192        error = 1.78243e-13       order = 7.12175\n",
      "Nx384        error = 1.37404e-13       order = 0.375416\n",
      "Nx768        error = 3.69313e-13       order = -1.42642\n",
      "Nx1536        error = 4.84432e-13       order = -0.39145\n",
      "Nx3072        error = 9.29766e-13       order = -0.940576\n",
      "\n",
      "\n"
     ]
    }
   ],
   "source": [
    "import numpy as np\n",
    "\n",
    "Nx = [12, 24, 48, 96, 192, 384, 768, 1536, 3072]\n",
    "num_grids = len(Nx)\n",
    "a, b = 0., 1.\n",
    "L = b - a\n",
    "error_norm = np.zeros(num_grids)\n",
    "orders = np.zeros(num_grids)\n",
    "\n",
    "for grid in range(num_grids):\n",
    "    # grid dependent parameters\n",
    "    dx = L / (Nx[grid] - 1)\n",
    "    x = np.linspace(a, b, Nx[grid]) # spacing dx = (b - a ) / (Nx - 1)\n",
    "    n = np.cos(2*np.pi * x)\n",
    "    phi = Poisson_6th_LDBC_LNBC(n, Nx[grid], a, b, LDBC = 1., LNBC = 1/2.)\n",
    "    phi_exact = 1 / (4 * np.pi ** 2) * (1 - np.cos(2*np.pi * x)) + 1 / 2. * x  + 1\n",
    "    error_norm[grid] = LA.norm(phi_exact - phi,2) * np.sqrt(dx / L)\n",
    "\n",
    "    if grid == 0:\n",
    "        print \"Nx%d        error = %g       ----\" % (Nx[grid], error_norm[grid])\n",
    "    else:\n",
    "        orders[grid] = np.log2(error_norm[grid-1] / error_norm[grid])\n",
    "        print \"Nx%d        error = %g       order = %g\" % (Nx[grid], error_norm[grid], orders[grid])\n",
    "        \n",
    "print '\\n'"
   ]
  },
  {
   "cell_type": "markdown",
   "metadata": {},
   "source": [
    "Which also checks out."
   ]
  },
  {
   "cell_type": "markdown",
   "metadata": {},
   "source": [
    "# L. Poisson solver with Cauchy boundary condition at $x = b$ to achieve the effect of two Neumann BCs\n",
    "\n",
    "For the Poisson equation $\\partial_x^2\\phi (t,x) = n(t,x)$, we have the following two Neumann boundary conditions, where we now specify the NBC on the right-edge instead of the left.\n",
    "\n",
    "<ol>\n",
    "<li>$\\partial_x\\phi (x_{N-1}) = \\phi_b'$\n",
    "<li>$\\partial_x \\phi (x_0) = \\phi_b' - \\int_a^b n(t,x) \\equiv \\phi_a'$\n",
    "</ol>\n",
    "\n",
    "and the equivalent Cauchy problem is given by\n",
    "\n",
    "<ol>\n",
    "<li>$\\boxed{\\phi (x_{N-1}) = \\phi_b}$\n",
    "<li>$\\boxed{\\partial_x  \\phi (x_{N-1})  = \\phi_b'}$\n",
    "<li> and $\\partial_x \\phi (x_{0}) = \\phi_b' - \\int_a^b n(t,x) \\equiv \\phi_b'$ will not be enforced, but will be satisfied by consequence if this solubility condition is true (e.g. as in quasineutral plasmas)\n",
    "</ol>"
   ]
  },
  {
   "cell_type": "markdown",
   "metadata": {},
   "source": [
    "We proceed as in previous sections. With the $N-1$ differenced Poisson's equations (for nodes $i = 1, 2, \\ldots N-1$) + 1 Dirichlet boundary condition that are known a priori at $i = N-1$, we have $N$ equations for $N$ unknowns ($\\phi_i, \\, i = 0, 1, 2, \\ldots N-1$). Note the ghost value $\\phi_N$ that appears in the differenced $i = N-1$ equation has been eliminated by using the Neumann condition; hence the stencil on $\\phi_{N-1}$ extends further left than the other rows as this correpsonds to the reach that the sided difference on the Neumann condition that was used to replace this unknown ghost value. \n",
    "\n",
    "We write several equations for various indices $i$ in order to clearly see the matrix take form. We wish to set up the discrete problem as follows:\n",
    "\n",
    "$$\\partial_x^2\\phi = n \\qquad \\longrightarrow \\qquad \\frac{1}{(\\Delta x)^2}\\underline{\\underline{D}}\\underline{\\phi} = \\underline{b} \\quad \\text{ or } \\quad \\underline{\\underline{D}}\\underline{\\phi} = (\\Delta x)^2\\underline{b} \\qquad (L.1)$$\n",
    "\n",
    "The left-hand side ($\\partial_x^2 \\phi \\simeq \\underline{\\underline{D}}\\underline{\\phi})$ has the factor of $(\\Delta x)^2$ brought to the right-hand side. With this understanding, we have the following set of scalar equations to organize: \n",
    "\n",
    "We choose to label the grid points by $i$, and the equation number by $k = 0, 1, \\ldots , N-1$ for our $N$ equations. We differentiate because before each equation $k$ would correspond to each node $i$ with the exception of the first or the last row which we made note of. Here, we will tack on two boundary conditions as the final two equations (final two rows of our matrix system) $k = N-2, N-1,$, but these do not refer to nodes in the same context (though arguably the $N-2$ equation does correspond to the differenced Poisson equation at $i = N-1$, it just has been combined with the Neumann condition so we say perhaps it might be regarded as not exactly the same as the other equations). However, equations (rows) $k = 0, 1,2 , \\ldots , N-3$ do correspond to differenced Poisson's equations centered at nodes $i = 1,2, \\ldots N-2$, respectively. Note in this matrix problem organization, we have the relationship between the $i$th node equation ($i\\in [1,2,\\ldots , N-1]$) being $k = i + 1$ if $k\\in [0,1,2, \\ldots , N-3]$. This just makes obvious which matrix row $k$ contains which nodal equation $i$."
   ]
  },
  {
   "cell_type": "markdown",
   "metadata": {},
   "source": [
    "\n",
    "\n",
    "The $i = 0$ equation is the Neumann boundary condition where the ghost point $\\phi_{-1}$ has been eliminated by using the differenced Poisson's equation at $i = 0$. \n",
    "\n",
    "\n",
    "\n",
    "And, for $1\\leq i \\leq N-3$, we\n",
    "\n",
    "\\begin{eqnarray*}\n",
    "i = 1 \\,(k = 0): & \\phi_0 -2\\phi_1 + \\phi_2 & =  \\phantom{-}(\\Delta x)^2\\left[\\frac{3}{40}n_{0} + \\frac{209}{240}n_{1} + \\frac{1}{60}n_{2} + \\frac{7}{120}n_{3} - \\frac{1}{40}n_{4} + \\frac{1}{240}n_{5}\\right] \\\\[1em]\n",
    "i = 2 \\,(k = 1): & \\phi_1 -2\\phi_2 + \\phi_3 & = (\\Delta x)^2\\left[-\\frac{1}{240}n_{0} + \\frac{1}{10}n_{1} + \\frac{97}{120}n_{2} + \\frac{1}{10}n_{3} - \\frac{1}{240}n_{4}\\right] \\\\[1em]\n",
    "i = 3 \\,(k = 2): & \\phi_2 -2\\phi_3 + \\phi_4 & =  (\\Delta x)^2\\left[-\\frac{1}{240}n_{1} + \\frac{1}{10}n_{2} + \\frac{97}{120}n_{3} + \\frac{1}{10}n_{4} - \\frac{1}{240}n_{5}\\right] \\\\[2em]\n",
    "\\vdots \\\\[2em]\n",
    "i = N-4 \\,(k = N-5): & \\phi_{N-5} -2\\phi_{N-4} + \\phi_{N-3} & = (\\Delta x)^2\\left[-\\frac{1}{240}n_{N-6} + \\frac{1}{10}n_{N-5} + \\frac{97}{120}n_{N-4} + \\frac{1}{10}n_{N-3} - \\frac{1}{240}n_{N-2}\\right] \\\\[1em]\n",
    "i = N-3 \\,(k = N-4): & \\phi_{N-4} -2\\phi_{N-3} + \\phi_{N-2} & = (\\Delta x)^2\\left[-\\frac{1}{240}n_{N-5} + \\frac{1}{10}n_{N-4} + \\frac{97}{120}n_{N-3} + \\frac{1}{10}n_{N-2} - \\frac{1}{240}n_{N-1}\\right] \\\\[1em]\n",
    "i = N - 2 \\,(k = N-3): & \\phi_{N-3} - 2\\phi_{N-2} + \\phi_{N-1} & = \\phantom{-}(\\Delta x)^2\\left[\\frac{1}{240}n_{N-6} - \\frac{1}{40}n_{N-5} + \\frac{7}{120}n_{N-4} + \\frac{1}{60}n_{N-3} + \\frac{209}{240}n_{N-2} + \\frac{3}{40}n_{N-1}\\right]\n",
    "\\end{eqnarray*}\n",
    "\n",
    "and for $k = N-2$:\n",
    "\n",
    "$$\\frac{1}{5}\\phi_{N_x-6} - \\frac{3}{2}\\phi_{N_x-5} + 5\\phi_{N_x-4} - 10\\phi_{N_x-3} + 16\\phi_{N_x-2} - \\frac{97}{10}\\phi_{N_x-1} = (\\Delta x)^2\\left(\\frac{317}{240}n_{N_x-1} - \\frac{133}{120}n_{N_x-2} + \\frac{187}{120}n_{N_x-3} - \\frac{23}{20}n_{N_x-4}  + \\frac{109}{240}n_{N_x-5} - \\frac{3}{40}n_{N_x-6}\\right) - 6(\\Delta x)\\phi_b'$$\n",
    "\n",
    "finally, for $k = N-1$\n",
    "\n",
    "$$\\qquad (\\Delta x)^2\\phi_{0}  = \\phantom{-}(\\Delta x)^2\\phi_b$$\n",
    "\n"
   ]
  },
  {
   "cell_type": "markdown",
   "metadata": {},
   "source": [
    "Which altogether provide the required $N$ equations for $N$ unknowns in the fashion of specifying Cauchy data at $i = 0$, which if the solubility condition for Neumann boundaries are met, then will give the non-unique solution to the double NBC problem, equivalently.\n",
    "\n",
    "We choose to partition the density matrices and the boundary values as follows, by writing:\n",
    "\n",
    "$$\\underline{b} = \\underline{\\underline{B}}_{N\\times N}\\cdot \\underline{n}_{N\\times 1} + \\frac{1}{(\\Delta x)^2} \\underline{\\phi}_{BC}$$\n",
    "\n",
    "So that the above becomes \n",
    "\n",
    "$$\\boxed{\\underline{\\underline{D}}_{N\\times N}\\cdot\\underline{\\phi}_{N\\times 1} = (\\Delta x)^2\\cdot \\underline{\\underline{B}}_{N\\times N}\\cdot \\underline{n}_{N\\times 1} + (\\underline{\\phi}_{BC})_{N\\times 1}}$$\n",
    "\n",
    "Notice that reviewing the $k = 0$ equation allows us to omit the factors of $(\\Delta x)^2$ as they appear on both sides of the equation provided that the matrix $\\underline{\\underline{B}}$ contains a row of zeros for the first row so as to make the $k = 0$ equation independent of density as above.  We define the auxillary vector for the boundary terms:\n",
    "\n",
    "$$(\\underline{\\phi}_{BC})_{N\\times 1} = [(0 , 0, \\ldots , -6(\\Delta x)\\phi_b' , \\phi_b)^T]_{N\\times 1}$$\n",
    "\n",
    "the density vector \n",
    "\n",
    "$$\\underline{n}_{N\\times 1} = (n_0, n_1, n_2, \\ldots , n_{N-2}, n_{N-1})^T$$"
   ]
  },
  {
   "cell_type": "markdown",
   "metadata": {},
   "source": [
    "\n",
    "\n",
    "\n",
    "\n",
    "the difference matrix $\\underline{\\underline{D}}$ then takes the form  (LHS = \"left-hand side\"):\n",
    "\n",
    "$$\\underline{\\underline{D}} = \\underline{\\underline{D}}_{N\\times N} = \\left( \\begin{array}{c}\n",
    "k = 0: \\, \\text{central differencing FD coefficients on } i = 1, \\,\\, \\{\\phi_i\\}\\\\\n",
    "k = 1: \\, \\text{central differencing FD coefficients on } i = 2, \\,\\,  \\{\\phi_i\\}\\\\\n",
    "\\vdots \\\\\n",
    "\\vdots \\\\\n",
    "\\vdots \\\\\n",
    "k = N-5: \\, \\text{central differencing FD coefficients on } i = N-4, \\,\\,  \\{\\phi_i\\}\\\\\n",
    "k = N-4: \\, \\text{central differencing FD coefficients on } i = N-3, \\,\\,  \\{\\phi_j\\}\\\\\n",
    "k = N-3: \\, \\text{central differencing FD coefficients on } i = N-2, \\,\\,  \\{\\phi_i\\} \\\\\n",
    "k = N-2: \\, \\text{Neumann BC LHS coefficient of: } \\delta_x\\cdot\\phi_{N-1} = \\phi_a' \\text{ combined with central FD coefficients on } \\phi_{N-1} \\\\\n",
    "k = N-1: \\, \\text{Dirichlet BC LHS coefficient of: } 1\\cdot\\phi_{N-1} = \\phi_a  \\\\\n",
    "\\end{array} \\right)$$\n"
   ]
  },
  {
   "cell_type": "markdown",
   "metadata": {},
   "source": [
    "which takes the form,\n",
    "\n",
    " $$\\underline{\\underline{D}} = \\left( \\begin{array}{c c c c c c c c c}\n",
    "1 & -2 & 1  & 0 & \\cdots & \\cdots & \\cdots &  \\cdots &  \\cdots & 0 \\\\\n",
    " 0 & 1 & -2 & 1 & 0 & \\cdots &  \\cdots  & \\cdots &  \\cdots &  0 \\\\\n",
    "\\vdots & 0 & 1 & -2 & 1 & 0 & \\cdots &  \\cdots &  \\cdots & 0\\\\\n",
    "\\vdots & \\vdots & 0 & 1 & -2 & 1 & 0 &  \\cdots &  \\cdots & 0\\\\\n",
    "\\vdots & \\vdots & \\vdots & 0 &  1 & -2 & 1 & 0 &  \\cdots  & 0\\\\\n",
    "\\vdots & \\vdots & \\vdots & \\vdots  & 0 & \\ddots & \\ddots &  \\ddots &  0 & 0\\\\\n",
    "\\vdots & \\vdots & \\vdots & \\vdots & \\vdots  & 0 & \\ddots  & \\ddots &  \\ddots &  0\\\\\n",
    "\\vdots & \\vdots & \\vdots & \\vdots & \\vdots &  \\vdots &  0  & 1 & -2 & 1 \\\\\n",
    "0 & 0 & 0 &  0 & 0 & 0 &  0 &  0 &  \\cdots & 1 \\\\\n",
    "0 & 0 & 0 &  0 & \\frac{1}{5} & -\\frac{3}{2} & 5 & -10 & 16 & -\\frac{97}{10}  \\\\\n",
    "\\end{array} \\right)$$\n"
   ]
  },
  {
   "cell_type": "markdown",
   "metadata": {},
   "source": [
    "<table \"width = 85%\">\n",
    "<tr><td<font size = 24><b>Solubility</b></font></td></tr>\n",
    "<tr><td>\n",
    "The determinant $\\text{det}(\\underline{\\underline{D}}) = 6$ of the matrix $\\underline{\\underline{D}}$ is nonzero and thus invertible, hence a unique solution exists for this DBC/NBC problem.\n",
    "</td></tr>\n",
    "</table>"
   ]
  },
  {
   "cell_type": "markdown",
   "metadata": {},
   "source": [
    "Similarly, by reviewing the above set of scalar equations, we show the form of the matrix $\\underline{\\underline{B}}_{N\\times N}$:\n",
    "\n",
    "$$\\underline{\\underline{B}} = \\left( \\begin{array}{c}\n",
    "k = 0 (i=1)\\text{, forward-1 differencing scheme} \\\\\n",
    "k = 1 (i=2)\\text{, central differencing scheme} \\\\\n",
    "k = 2 (i=3)\\text{, central differencing scheme} \\\\\n",
    "\\vdots \\\\\n",
    "k = N-4 (i=N-3)\\text{, central differencing scheme} \\\\\n",
    "k = N-3 (i=N-2)\\text{, backward+1 differencing scheme} \\\\\n",
    "k = N-2 (i=N-1)\\text{, Neumann boundary condition at } i = 0 \\text{ factored in with auxillary vector, } \\underline{\\phi}_{BC} \\text{ forward 0 differencing scheme on density} \\\\\n",
    "k = N-1 \\text{, Dirichlet boundary condition at } i = 0 \\text{ factored in with auxillary vector, } \\underline{\\phi}_{BC} \\ldots \\underline{0} \\\\\n",
    "\\end{array} \\right)_{N\\times N}\n",
    "=  \\left( \\begin{array}{c c c c c c c c c c c c c c}\n",
    "\\frac{3}{40} & \\frac{209}{240} & \\frac{1}{60} & \\frac{7}{120} & -\\frac{1}{40} & \\frac{1}{240} & 0 & \\cdots & \\cdots & 0\\\\\n",
    "-\\frac{1}{240} & \\frac{1}{10} & \\frac{97}{120} & \\frac{1}{10} & -\\frac{1}{240} & 0 & 0 & \\cdots  & \\cdots & 0 \\\\\n",
    "0 & -\\frac{1}{240} & \\frac{1}{10} & \\frac{97}{120} & \\frac{1}{10} & -\\frac{1}{240} & 0 & \\cdots & \\cdots & 0 \\\\\n",
    "0 & \\ddots & \\ddots & \\ddots & \\ddots & \\ddots & \\ddots & \\ddots & 0 & 0  \\\\\n",
    "\\vdots & 0  & \\ddots  & \\ddots & \\ddots & \\ddots & \\ddots & \\ddots  & 0 & 0\\\\\n",
    "\\vdots & \\vdots & 0 & \\ddots & \\ddots & \\ddots & \\ddots & \\ddots & \\ddots  & 0\\\\\n",
    "\\vdots & \\vdots & 0 & \\ddots & 0 & -\\frac{1}{240} & \\frac{1}{10} & \\frac{97}{120} & \\frac{1}{10} & -\\frac{1}{240} \\\\\n",
    "\\vdots & \\vdots & \\vdots & 0 & \\frac{1}{240} & -\\frac{1}{40} & \\frac{7}{120} & \\frac{1}{60} & \\frac{209}{240} & \\frac{3}{40} \\\\\n",
    "0 & 0 & 0 & 0  & - \\frac{3}{40}  & \\frac{109}{240}  & -\\frac{23}{20} & \\frac{187}{120} & -\\frac{133}{120}  & \\frac{317}{240}\\\\ \n",
    "0 & 0 & 0 & \\cdots & 0  & 0 & 0 & 0  & 0 & 0\\\\ \n",
    "\\end{array} \\right)_{N\\times N}$$\n"
   ]
  },
  {
   "cell_type": "markdown",
   "metadata": {},
   "source": [
    "\n",
    "## L.2 Implementation\n",
    "\n",
    "### Poisson_RDBC_RNBC_6th.py"
   ]
  },
  {
   "cell_type": "code",
   "execution_count": 6,
   "metadata": {
    "collapsed": true
   },
   "outputs": [],
   "source": [
    "import numpy as np\n",
    "import numpy.linalg as LA\n",
    "import matplotlib.pyplot as plt\n",
    "\n",
    "def Poisson_6th_RDBC_RNBC(n, Nx = 24, a = 0., b = 1., RDBC = 0., RNBC = 1.):\n",
    "    \"\"\"6th order LTE finite difference Poisson solver for two Neumann conditions\n",
    "    for a suitably well-posed problem. The conditions are enforced as Cauchy\n",
    "    data at the left boundary, where the second Neumann condition on the right\n",
    "    hand side will be satisfied by consequence provided the problem meets the\n",
    "    Neumann solubility condition on the Poisson equation\n",
    "\n",
    "    inputs:\n",
    "    n -- (ndarray, ndim = 1) density vector\n",
    "    Nx -- (int) number of grid points\n",
    "    a -- (float) left boundary of x-domain\n",
    "    b -- (float) right boundary of x-domain\n",
    "                          \n",
    "    outputs:\n",
    "    phi -- (ndarray, ndim = 1) numerical solution to potential\n",
    "    \"\"\"\n",
    "\n",
    "    L = float(b - a)\n",
    "    dx = L / (Nx - 1)\n",
    "    \n",
    "    # augmented density vector N = (0, n), shape = (N+1,)\n",
    "    \n",
    "    N = np.zeros(Nx)\n",
    "\n",
    "    # assemble differencing matrix\n",
    "   \n",
    "    D = np.zeros((Nx,Nx))\n",
    "\n",
    "    # LDBC row, (row 0)\n",
    "    D[-1,-1] = 1.\n",
    "    \n",
    "    # LNBC row, (row 1)\n",
    "    D[-2,-1] = -97/10. \n",
    "    D[-2,-2] = 16.\n",
    "    D[-2,-3] = -10\n",
    "    D[-2,-4] = 5.\n",
    "    D[-2,-5] = -3/2. \n",
    "    D[-2,-6] = 1/5.\n",
    "      \n",
    "    # Poisson's equation rows\n",
    "    for i in range(Nx-2):\n",
    "        D[i,i] = 1\n",
    "        D[i,i+1] = -2\n",
    "        D[i,i+2] = 1\n",
    "\n",
    "\n",
    "    # Assemble FD coefficient matrix on n: B\n",
    "    B = np.zeros((Nx,Nx))\n",
    "    for i in range(B.shape[0]):\n",
    "        if i == 0:\n",
    "            B[i,i] = 3/40.\n",
    "            B[i,i+1] = 209/240.\n",
    "            B[i,i+2] = 1/60.\n",
    "            B[i,i+3] = 7/120.\n",
    "            B[i,i+4] = -1/40.\n",
    "            B[i,i+5] = 1/240.\n",
    "                      \n",
    "        if 1 <= i < Nx-3:\n",
    "            B[i,i-1] = -1/240.\n",
    "            B[i,i] = 1/10.\n",
    "            B[i,i+1] = 97/120.\n",
    "            B[i,i+2] = 1/10.\n",
    "            B[i,i+3] = -1/240.\n",
    "            \n",
    "        elif i == Nx-3:\n",
    "            B[i,i-3] = 1/240.\n",
    "            B[i,i-2] = -1/40.\n",
    "            B[i,i-1] = 7/120.\n",
    "            B[i,i] = 1/60.  \n",
    "            B[i,i+1] = 209/240.\n",
    "            B[i,i+2] = 3/40.\n",
    "            \n",
    "        elif i == Nx-2:\n",
    "            B[i,i+1] = 317 / 240.\n",
    "            B[i,i] = -133/120.\n",
    "            B[i,i-1] = 187 / 120.\n",
    "            B[i,i-2] = -23 / 20.\n",
    "            B[i,i-3] = 109 / 240.\n",
    "            B[i,i-4] = -3/40.\n",
    "            \n",
    "        # elif i == Nx - 1: all zeros\n",
    "\n",
    "\n",
    "    phi_BC = np.zeros(Nx)\n",
    "\n",
    "    phi_BC[-1] = RDBC\n",
    "    phi_BC[-2] = -6 * dx * RNBC\n",
    "    b = dx ** 2 * B.dot(n) + phi_BC\n",
    "    phi = LA.solve(D,b)\n",
    "\n",
    "    return phi"
   ]
  },
  {
   "cell_type": "markdown",
   "metadata": {},
   "source": [
    "### Convergence test\n",
    "\n",
    "We can consider the Poisson problem\n",
    "\n",
    "$$\\partial_x^2 \\phi = n(x), \\qquad n(x) = \\cos (2\\pi x), \\qquad x\\in [0,1]$$\n",
    "\n",
    "where we enforce the following Cauchy data at the right boundary:\n",
    "\n",
    "$$\\phi (1) = 1, \\,\\, \\partial_x\\phi (0) = \\frac{1}{4\\pi^2}$$\n",
    "\n",
    "Noting that we note that $\\int_0^1 dx\\, n(x) = 0$, we have the following relationship given by the solubility constraint:\n",
    "\n",
    "$$\\partial_x\\phi (0) = \\partial_x\\phi (1) - \\int_0^1 dx\\, n(x) = \\partial_x\\phi (1) = \\frac{1}{4\\pi^2}$$\n",
    "\n",
    "We will analyze the numerical solution vs. the exact solution and should there be sufficient agreement we will be able to agree that the Neumann condition at $x = 0$ must also be met without having to take the numerical solution, then difference it at the edges and see if the derivative value agrees. Additionally, we plot the line of constant slope $1/4\\pi^2$, which should be the values of $\\partial_x\\phi$ at either edge, so visually we will have an easy comparison.\n",
    "\n",
    "The exact solution is:\n",
    "\n",
    "$$\\phi_{exact} (x) = \\frac{1}{4\\pi^2}\\left(x - \\cos (2\\pi x) \\right) + 1$$\n",
    "\n",
    "It is easy to see that at $x = 1$, the DBC is uph3eld. For reference, we provide the first derivative:\n",
    "\n",
    "$$\\partial_x\\phi_{exact}(x) = \\frac{1}{4\\pi^2} + \\frac{1}{2\\pi}\\sin (2\\pi x)$$\n",
    "\n",
    "We can see at $x = 1$ the NBC is upheld."
   ]
  },
  {
   "cell_type": "code",
   "execution_count": 8,
   "metadata": {
    "collapsed": false
   },
   "outputs": [
    {
     "data": {
      "text/plain": [
       "<matplotlib.legend.Legend at 0x4a662d0>"
      ]
     },
     "execution_count": 8,
     "metadata": {},
     "output_type": "execute_result"
    },
    {
     "data": {
      "image/png": "[encoded data removed]",
      "text/plain": [
       "<matplotlib.figure.Figure at 0x4453e50>"
      ]
     },
     "metadata": {},
     "output_type": "display_data"
    }
   ],
   "source": [
    "%matplotlib inline\n",
    "import matplotlib.pyplot as plt\n",
    "import numpy as np\n",
    "\n",
    "Nx = 1000\n",
    "a, b = 0., 1.\n",
    "x = np.linspace(a, b, Nx)\n",
    "\n",
    "n = np.cos(2*np.pi * x)\n",
    "\n",
    "phi_exact = 1 / (4 * np.pi ** 2) * (x - np.cos(2*np.pi * x)) + 1.\n",
    "\n",
    "phi = Poisson_6th_RDBC_RNBC(n, Nx, a, b, RDBC = 1., RNBC = 1/(4*np.pi**2))\n",
    "\n",
    "NBC_line = 1/(4*np.pi ** 2) * x + (1 - 1 / (4*np.pi ** 2) * (1 - 0))\n",
    "\n",
    "plt.plot(x, phi_exact, linewidth = 6, label = 'Exact')\n",
    "plt.hold('on')\n",
    "plt.plot(x, phi, linewidth = 6, linestyle = '--', label = 'numerical')\n",
    "plt.plot(x, NBC_line, linewidth = 6, linestyle = '--', color = 'purple', label = r'line with slope = $1/(4\\pi^2)$')\n",
    "plt.hold('off')\n",
    "plt.grid()\n",
    "plt.title(r'$N_x = 1000, \\partial_x^2 \\phi = \\cos (2\\pi x)$', fontsize = 20)\n",
    "plt.legend(loc = 'best')"
   ]
  },
  {
   "cell_type": "markdown",
   "metadata": {},
   "source": [
    "It is a little hard to see that the right Neumann boundary condition (slope) is fulfilled. We show a zoomed in plot below:"
   ]
  },
  {
   "cell_type": "code",
   "execution_count": 11,
   "metadata": {
    "collapsed": false
   },
   "outputs": [
    {
     "data": {
      "image/png": "[encoded data removed]",
      "text/plain": [
       "<IPython.core.display.Image object>"
      ]
     },
     "execution_count": 11,
     "metadata": {},
     "output_type": "execute_result"
    }
   ],
   "source": [
    "from IPython.display import Image\n",
    "Image(filename='./fig/RNBC_closeup.png')"
   ]
  },
  {
   "cell_type": "code",
   "execution_count": 13,
   "metadata": {
    "collapsed": false
   },
   "outputs": [
    {
     "data": {
      "image/png": "[encoded data removed]",
      "text/plain": [
       "<IPython.core.display.Image object>"
      ]
     },
     "execution_count": 13,
     "metadata": {},
     "output_type": "execute_result"
    }
   ],
   "source": [
    "from IPython.display import Image\n",
    "Image(filename='./fig/RDBC_RNBC_full.png')"
   ]
  },
  {
   "cell_type": "code",
   "execution_count": 14,
   "metadata": {
    "collapsed": false,
    "scrolled": true
   },
   "outputs": [
    {
     "name": "stdout",
     "output_type": "stream",
     "text": [
      "Nx12        error = 6.74513e-05       ----\n",
      "Nx24        error = 4.76614e-07       order = 7.14488\n",
      "Nx48        error = 3.34736e-09       order = 7.15365\n",
      "Nx96        error = 2.47655e-11       order = 7.07855\n",
      "Nx192        error = 8.94516e-14       order = 8.11301\n",
      "Nx384        error = 2.50357e-13       order = -1.48481\n",
      "Nx768        error = 7.94629e-13       order = -1.6663\n",
      "Nx1536        error = 3.00376e-12       order = -1.91842\n",
      "Nx3072        error = 5.13882e-12       order = -0.774666\n",
      "\n",
      "\n"
     ]
    }
   ],
   "source": [
    "import numpy as np\n",
    "\n",
    "Nx = [12, 24, 48, 96, 192, 384, 768, 1536, 3072]\n",
    "num_grids = len(Nx)\n",
    "a, b = 0., 1.\n",
    "L = b - a\n",
    "error_norm = np.zeros(num_grids)\n",
    "orders = np.zeros(num_grids)\n",
    "\n",
    "for grid in range(num_grids):\n",
    "    # grid dependent parameters\n",
    "    dx = L / (Nx[grid] - 1)\n",
    "    x = np.linspace(a, b, Nx[grid]) # spacing dx = (b - a ) / (Nx - 1)\n",
    "    n = np.cos(2*np.pi * x)\n",
    "    phi = Poisson_6th_RDBC_RNBC(n, Nx[grid], a, b, RDBC = 1., RNBC = 1/(4*np.pi**2))\n",
    "    phi_exact = 1 / (4 * np.pi ** 2) * (x - np.cos(2*np.pi * x)) + 1.\n",
    "    error_norm[grid] = LA.norm(phi_exact - phi,2) * np.sqrt(dx / L)\n",
    "\n",
    "    if grid == 0:\n",
    "        print \"Nx%d        error = %g       ----\" % (Nx[grid], error_norm[grid])\n",
    "    else:\n",
    "        orders[grid] = np.log2(error_norm[grid-1] / error_norm[grid])\n",
    "        print \"Nx%d        error = %g       order = %g\" % (Nx[grid], error_norm[grid], orders[grid])\n",
    "        \n",
    "print '\\n'\n"
   ]
  },
  {
   "cell_type": "markdown",
   "metadata": {},
   "source": [
    "Which confirms the order of accuracy as being $\\geq O(\\Delta x^6)$ as required."
   ]
  },
  {
   "cell_type": "markdown",
   "metadata": {},
   "source": [
    "# The non-consequence of choosing a reference potential\n",
    "\n",
    "When treating NBC/NBC problems, it was discussed that the equivalent problem can be casted in terms of an NBC/DBC pair, where the unenforced NBC that is neglected in the recast will be fulfilled automatically by virtue of the solubility condition. However, it is arbitrary which boundary where we apply this DBC. We step through an analytical example to show the differences, and then show why it does not matter in the context of quasineutral plasmas where what determines the electrostatic forces is what difference in potential, not its absolute value.\n",
    "\n",
    "Consider the problem,\n",
    "\n",
    "$$\\partial_x^2\\phi = \\cos (2\\pi x), \\qquad x\\in [0,1]$$\n",
    "\n",
    "<ol>\n",
    "<li>$\\partial_x\\phi (0) = a$\n",
    "<li>$\\partial_x\\phi (1) = a$\n",
    "</ol>\n",
    "\n",
    "Recast as the equivalent problems, we consider several options:\n",
    "\n",
    "<u>Option 1</u>\n",
    "\n",
    "<ol>\n",
    "<li>$\\partial_x\\phi (0) = a$\n",
    "<li>$\\phi (0) = 0$\n",
    "</ol>\n",
    "\n",
    "\n",
    "<u>Option 2</u>\n",
    "\n",
    "<ol>\n",
    "<li>$\\partial_x\\phi (0) = a$\n",
    "<li>$\\phi (1) = 0$\n",
    "</ol>\n",
    "\n",
    "\n",
    "<u>Option 3</u>\n",
    "\n",
    "<ol>\n",
    "<li>$\\partial_x\\phi (0) = a$\n",
    "<li>$\\phi (0) = b$\n",
    "</ol>\n",
    "\n",
    "\n",
    "<u>Option 4</u>\n",
    "\n",
    "<ol>\n",
    "<li>$\\partial_x\\phi (0) = a$\n",
    "<li>$\\phi (1) = b'$\n",
    "</ol>\n",
    "\n",
    "\n",
    "<u>Option 5</u>\n",
    "\n",
    "<ol>\n",
    "<li>$\\partial_x\\phi (1) = a$\n",
    "<li>$\\phi (0) = 0$\n",
    "</ol>"
   ]
  },
  {
   "cell_type": "markdown",
   "metadata": {},
   "source": [
    "we solve for the general solution for options 1 - 5 (note that the general solution for all are the same, even nif the NBC is applied as in option 5, at the opposite end of the boundary, this is unique to our problem as the solubility condition requires an equality in both NBCs given the source function integrates to zero): \n",
    "\n",
    "\\begin{eqnarray*}\n",
    "\\partial_x^2\\phi & = & \\cos (2\\pi x) \\\\\n",
    "\\Rightarrow \\partial_x\\phi & = & \\frac{1}{2\\pi} \\sin (2 \\pi x) + A \\\\\n",
    "\\Rightarrow \\partial_x \\phi (0) & = & a  =  0 + A \\quad \\Rightarrow \\quad A = a \\\\\n",
    "\\Rightarrow \\partial_x\\phi (x) & = & \\sin (2 \\pi x) + a \\\\\n",
    "&&\\\\\n",
    "\\Rightarrow \\phi (x) & = & -\\frac{1}{4\\pi^2}\\cos (2\\pi x) + ax + B \\\\\n",
    "\\end{eqnarray*}\n",
    "\n",
    "Enforcing the conditions for options 1 - 5, we have the following solutions labelled by option number:\n",
    "\n",
    "<ol>\n",
    "<li>$\\phi (x)  =  -\\frac{1}{4\\pi^2}\\cos (2\\pi x) + ax + \\frac{1}{4\\pi^2}$\n",
    "<li>$\\phi (x)  =  -\\frac{1}{4\\pi^2}\\cos (2\\pi x) + ax + \\frac{1}{4\\pi^2} - a$\n",
    "<li>$\\phi (x)  =  -\\frac{1}{4\\pi^2}\\cos (2\\pi x) + ax + \\frac{1}{4\\pi^2} + b$\n",
    "<li>$\\phi (x)  =  -\\frac{1}{4\\pi^2}\\cos (2\\pi x) + ax + \\frac{1}{4\\pi^2} + b' - a$\n",
    "<li>$\\phi (x)  = -\\frac{1}{4\\pi^2}\\cos (2\\pi x) + ax + \\frac{1}{4\\pi^2}$\n",
    "</ol>\n",
    "\n",
    "Notice that option 1 and 5 have the exact same solution, as expected.\n",
    "\n",
    "In a plasma, what will matter is the potential difference at a particular point $\\phi (x)$. For example, consider the difference between the potential at $x$ and $x = 0$, we have the following differences $\\Delta \\phi (x) = \\phi (x) - \\phi (0)$ for each option:\n",
    "\n",
    "<ol>\n",
    "<li>$\\Delta \\phi (x)  =  \\left[-\\frac{1}{4\\pi^2}\\cos (2\\pi x) + ax + \\frac{1}{4\\pi^2}\\right] - 0 = -\\frac{1}{4\\pi^2}\\cos (2\\pi x) + ax + \\frac{1}{4\\pi^2}$\n",
    "<li>$\\Delta \\phi (x)  =  \\phi (x) - \\phi (0) = \\left[-\\frac{1}{4\\pi^2}\\cos (2\\pi x) + ax + \\frac{1}{4\\pi^2} - a\\right] - [-\\frac{1}{4\\pi^2} + 0 + \\frac{1}{4\\pi^2} - a] = -\\frac{1}{4\\pi^2}\\cos (2\\pi x) + ax + \\frac{1}{4\\pi^2}$\n",
    "<li>$\\Delta \\phi (x) = \\phi (x) - \\phi (0) =  \\left[-\\frac{1}{4\\pi^2}\\cos (2\\pi x) + ax + \\frac{1}{4\\pi^2} + b\\right] - \\left[-\\frac{1}{4\\pi^2} + 0 + \\frac{1}{4\\pi^2} + b\\right] = -\\frac{1}{4\\pi^2}\\cos (2\\pi x) + ax + \\frac{1}{4\\pi^2}$\n",
    "<li>$\\Delta \\phi (x) = \\phi (x) - 0  =  \\left[-\\frac{1}{4\\pi^2}\\cos (2\\pi x) + ax + \\frac{1}{4\\pi^2} + b' - a\\right] - \\left[-\\frac{1}{4\\pi^2} + 0 + \\frac{1}{4\\pi^2} + b' - a\\right] = -\\frac{1}{4\\pi^2}\\cos (2\\pi x) + ax + \\frac{1}{4\\pi^2}$\n",
    "<li>$\\Delta \\phi (x) = \\phi (x) \\phi (0) = \\left[-\\frac{1}{4\\pi^2}\\cos (2\\pi x) + ax + \\frac{1}{4\\pi^2}\\right] - \\left[-\\frac{1}{4\\pi^2} + 0 + \\frac{1}{4\\pi^2}\\right]= -\\frac{1}{4\\pi^2}\\cos (2\\pi x) + ax + \\frac{1}{4\\pi^2}$\n",
    "</ol>\n",
    "\n"
   ]
  },
  {
   "cell_type": "markdown",
   "metadata": {},
   "source": [
    "Which shows through several example that a choice of reference datum for a potential function will not affect the field at a point $E(x) = -\\partial_x \\phi (x) \\sim \\Delta \\phi (x)$. Thus, the same accelerations in the Vlasov equation $\\vec{a} = q_{\\alpha}\\vec{E} / m_{\\alpha}$ will be felt given the same $E$ is computed no matter our choice of reference. Thus, it does not matter in the transformation of an NBC/NBC problem to NBC/DBC, which boundary has the DBC at the reference potential, or even which NBC we decide to be the \"one\" that we enforce out of the original two: the posed problem will fulfill both NBCs according to the solubility condition. If the unenforced value happens to require $\\partial_x\\phi (x_{\\ell w}) = Q_{\\ell w}(t)$, and we enforce right hand values $\\partial_x\\phi (x_{rw})$, then this will happen for a well-posed problem. If we require $\\partial_x\\phi (x_{\\ell w}) = 0$ (symmetry boundary), and we require $\\partial_x \\phi (x_{rw}) = Q_{rw}(t)$, then either will happen if we enforce one or the other provided that we enforce the corresponding symmetry conditions on the density function as well. So, this is all arbitrary. If we have a DBC/DBC or DBC/NBC problem then we set up the problem obviously, if we have an NBC/NBC problem then we arbitrarily enforce a combination of NBC/DBC values, where we often take the DBC enforcement to be $\\phi = 0$ at the boundary as the reference potential (but as emphasized above and shown in five examples, this does not matter in the end since what matters is $\\Delta \\phi$ in contexts such as electrostatic systems)."
   ]
  },
  {
   "cell_type": "markdown",
   "metadata": {},
   "source": [
    "# M. Application to quasineutral plasma systems\n",
    "\n",
    "We step through an example to verify the Neumann problem is well-posed.\n",
    "\n",
    "## M.1 two charge collecting walls (1D1V) \n",
    "\n",
    "Charge collecting walls is realized as transferring all such charges accounted for in the distribution function $f$ that reach the wall to a total charge density tally $\\sigma (t,x = \\text{const})$, that is, we remove the charges from $f$ that reach the walls (they are absorbed), but keep track of the surplus of charges that accumulate.\n",
    "\n",
    "We shift notation a bit to make clear the role of all objects, the Poisson equation takes the form:\n",
    "\n",
    "$$\\partial_x^2\\phi (t,x) = -\\rho, \\qquad \\rho = q_i n_i - q_e n_e, \\qquad n_{e,i} = \\int dv_x f_{e,i}(t,x,v_x)$$\n",
    "\n",
    "Recall in 1D1V, we work with objects like $f_{\\alpha}(t,x,v_x) = \\int d^2\\vec{x}\\int d^2\\vec{v}_{\\perp} f(t,\\vec{x}, \\vec{v} = \\mathrm{[\\frac{1}{m\\cdot (m/s)}]\\,\\, (SI)}$ or in our normalized units:\n",
    "\n",
    "\n",
    "$$f_{\\alpha}(t,x, v_x) = \\mathrm{\\left[\\frac{1}{(multiples \\,\\,of\\, \\,\\lambda_D) \\cdot (multiples\\,\\, of\\,\\,v_{Te})}\\right]}$$"
   ]
  },
  {
   "cell_type": "markdown",
   "metadata": {},
   "source": [
    "so that \n",
    "\n",
    "$$\\int dv_x f_{\\alpha}(t,x,v_x) = n_{\\alpha}(t,x) = \\mathrm{\\left[\\frac{1}{(multiples\\,\\, of\\,\\, \\lambda_D)}\\right]}$$\n",
    "\n",
    "and recalling that the normalized charge that we usually write as $q_{\\alpha} = \\pm 1$ is technically $q_{\\alpha} / |q_{\\alpha}|$, which is still interpreted the total charge of sign $\\alpha$\n",
    "\n",
    "$$\\rho_{\\alpha}(t,x) = q_{\\alpha}n_{\\alpha}(t,x,v_x) = \\mathrm{\\left[\\frac{total \\,\\,charge}{(Debye\\,\\, length)}\\right]}$$\n",
    "\n",
    "The total particle number of type $\\alpha$:\n",
    "\n",
    "$$N_{\\alpha}(t) = \\int dx \\int dv_x f_{\\alpha}(t,x,v_x) = \\text{total number of particles of type } \\alpha$$\n",
    "\n",
    "The above volumetric count of $N_{\\alpha}(t)$ decreases for $ t> 0$ commensurately with the absorption of all such particles that reach the walls (i.e. the absorption boundary condition $f_{\\alpha}(t,x_w,v_x) = 0$ applies). While the particles are lost to the walls, they are removed from the distribution function but are kept a tally of as wall charge densities (e.g. $\\sigma_{\\ell w}$ and $\\sigma_{rw}$). Thus, it also makes sense to speak about the total number of particles collected at the at the left and right walls ($\\ell w$ and $rw$, respectively):\n",
    "\n",
    "$$N_{\\alpha, \\ell w}(t) = \\text{total number of particles of type } \\alpha \\text{ on left wall}$$\n",
    "$${}$$\n",
    "$$N_{\\alpha, rw}(t) = \\text{total number of particles of type } \\alpha \\text{ on right wall}$$\n",
    "\n",
    "We define these formally soon enough. Thus, we can summarize the situation as follows:\n",
    "\n",
    "$$\\boxed{t = 0}: \\qquad \\qquad  \\qquad \\qquad N_{\\alpha}(t=0) > 0, \\qquad \\text{and} \\qquad N_{\\alpha, \\ell w}(t=0) = N_{\\alpha, rw}(t=0) = 0$$\n",
    "\n",
    "and, at $t > 0$\n",
    "\n",
    "$$\\boxed{t > 0}: \\qquad \\qquad \\qquad 0 \\leq N_{\\alpha}(t) \\leq N_{\\alpha}(t = 0, x, v_x), \\qquad \\text{and} \\qquad N_{\\ell w}(t) \\geq 0, \\quad N_{rw}(t) \\geq 0$$\n",
    "\n",
    "where the particles are lost according to the boundary condition (note: they are not lost, but are kept track of in the simulation by a wall density object):\n",
    "\n",
    "$$f_{\\alpha}(t,x_{\\ell w}, v_x) = f_{\\alpha}(t,x_{rw}, v_x) = 0 \\qquad \\Rightarrow \\qquad \\int dx\\int dv_x f(t,x,v_x) \\leq \\int dv_x \\int dv_x f(0,x,v_x)$$\n",
    "\n",
    "The boundary conditions depend on the surface charge density. For a 1D domain, the charge \"density\" is the total charge distributed over its 0-dimensional surface, which physically corresponds to the total charge at that point. Thus, in 1D we can either refer to the charge density as $Q$ or $\\sigma$, where we sometimes stick with the latter for generality to permit interpretations for higher dimensions."
   ]
  },
  {
   "cell_type": "markdown",
   "metadata": {},
   "source": [
    "The amount of charge reaching each wall is given by (note we are using normalized units as usual; $q_e = -1, q_i = +1$):\n",
    "\n",
    "$$Q_{\\ell w}(t) \\text{ (in 1D1V) } \\equiv \\sigma^{1D}_{\\ell w} (t,x_{\\ell w}) = \\sum_{\\alpha = e,i} \\sigma_{\\alpha, \\ell w} (t,x_{\\ell w}) = \\sum_{\\alpha} q_{\\alpha}\\int_0^t dt' \\int_{-\\infty}^0 dv_x |v_x| f_{\\alpha}(t',x_{\\ell w}, v_x) = \\text{[total charge in 1D]}$$\n",
    "\n",
    "$$Q_{rw}(t) \\text{ (in 1D1V) } \\equiv \\sigma^{1D}_{rw} (t,x_{r w}) = \\sum_{\\alpha = e,i} \\sigma_{\\alpha,rw} (t,x_{r w}) = \\sum_{\\alpha} q_{\\alpha}\\int_0^t dt' \\int_{0}^{\\infty} dv_x |v_x| f_{\\alpha}(t',x_{rw}, v_x) = \\text{[total charge in 1D]}$$"
   ]
  },
  {
   "cell_type": "markdown",
   "metadata": {},
   "source": [
    "We can make some useful definitions here in 1D:\n",
    "\n",
    "<u>1D definitions</u>\n",
    "\n",
    "<ul>\n",
    "<li>$Q(t) = \\text{[total volumetric charge  based on distribution function (particles absorbed by wall are not counted here)]}$\n",
    "$${}$$\n",
    "<li>$Q_{\\alpha , w}(t) = \\text{[total charge absorbed at wall } w \\text{ of type } \\alpha]$\n",
    "$${}$$\n",
    "<li>$Q_{w}(t) = \\sum_{\\alpha} Q_{\\alpha , w}(t) = \\text{[total charge absorbed at wall } w] \\text{, i.e. } Q(0) = Q(t) + Q_{\\ell w}(t) + Q_{rw}(t)$\n",
    "$${}$$\n",
    "<li>$N_{\\alpha,w}(t) = \\frac{Q_{\\alpha, w}(t)}{q_{\\alpha}} = \\text{[total number of particles of type } \\alpha \\text{ at a wall } w]$\n",
    "$${}$$\n",
    "<li>$n_{\\alpha,w}(t,x) = N_{\\alpha, w}\\delta (x - x_w) = \\text{[density of particles of type } \\alpha \\text{ at a wall } w] = \\mathrm{\\left[\\frac{1}{(Debye \\,\\,length)}\\right]}$\n",
    "<li>$\\rho_{\\alpha ,w}(t,x) = q_{\\alpha}N_{\\alpha, w}\\delta (x - x_w) = Q_{\\alpha , w}\\delta (x - x_w) = \\text{[charge density of particles of type } \\alpha \\text{ at a wall } w] = \\mathrm{\\left[\\frac{charge}{(Debye \\,\\,length)}\\right]}$\n",
    "</ul>\n"
   ]
  },
  {
   "cell_type": "markdown",
   "metadata": {},
   "source": [
    "i.e. all charges that reach the wall are absorbed (removed from $f_{\\alpha}$) and stored in cumulative charge density objects $\\sigma_{\\ell w}, \\sigma_{rw}$ (or if we like we can call them $Q_{\\ell w}$, $Q_{rw}$). This implies the conservation of particle number $N_{\\alpha}$:\n",
    "\n",
    "$$\\langle N_{\\alpha}\\rangle  = \\int dx \\int dv_x f_{\\alpha}(0,x,v_x) = \\int dx \\int dv_x f_{\\alpha}(t,x,v_x) + N_{\\alpha, \\ell w}(t) + N_{\\alpha, rw}(t)$$\n",
    "\n",
    "and conservation of charge over the entire domain $\\langle Q \\rangle$:\n",
    "\n",
    "$$\\langle Q \\rangle  = \\int dx \\rho (0,x,v_x)  = \\sum_{\\alpha} q_{\\alpha} \\int dx \\int dv_x f_{\\alpha}(0,x,v_x) = Q(0) =  \\int dx \\rho (t,x) + \\int dx \\rho_{\\ell w}(t,x) + \\int dx \\rho_{r w}(t,x) = Q(t) + Q_{\\ell w}(t) + Q_{r w}(t) = 0$$\n",
    "\n",
    "From the last equality, we arrive at the conclusion: $Q(t) = -[Q_{\\ell w}(t) + Q_{rw}(t)]$, that is, we start with zero net charge at time $t = 0$, and any nonzero charge that develops in the bulk $Q(t)$ is equal to exactly the amount that is absorbed by the two walls. In terms of the charge densities:\n",
    "\n",
    "$$\\int dx \\rho (t,x) = -\\left[\\int dx \\rho_{\\ell w}(t,x) + \\int dx \\rho_{r w}(t,x)\\right]$$"
   ]
  },
  {
   "cell_type": "markdown",
   "metadata": {},
   "source": [
    "If we have two charged walls, we have two Neumann conditions. That is, we should have for a domain $x\\in [x_{\\ell w},x_{rw}]$ the following boundary conditions on the distribution function:\n",
    "\n",
    "$$f(t,x_{\\ell w}, v_x) = 0$$\n",
    "$$f(t,x_{r w}, v_x) = 0$$"
   ]
  },
  {
   "cell_type": "markdown",
   "metadata": {},
   "source": [
    "On the potential, we step routinely through the electric field of a thick conductor (infinite in $y$ and $z$) at a coordinate whose surface is marked by a coordinate $x = x_{\\ell w}$. The electric field emanates in the $\\hat{x}$ direction for $\\sigma > 0$, and the field is zero inside the conductor. We integrate Gauss' law, which leaves only one non-zero contribution \n",
    "\n",
    "\\begin{eqnarray*}\n",
    "\\vec{\\nabla}\\cdot\\vec{E} & = & \\sigma \\\\\n",
    "&& \\\\\n",
    "\\Rightarrow \\oint_A \\vec{E}\\cdot\\hat{n}dA & = & \\int \\sigma dA \\\\\n",
    "&&\\\\\n",
    "\\oint_A |E(x_{\\ell w})| \\hat{x}\\cdot\\hat{x}dA & = & \\int \\sigma dA \\\\\n",
    "&&\\\\\n",
    "|E (x_{\\ell w})| A & = & \\sigma_{\\ell w} A \\\\\n",
    "|E (x_{\\ell w})| & = & \\sigma_{\\ell w} \\qquad \\text{ or } \\qquad \\vec{E}(x_{\\ell w}) = \\sigma_{\\ell w} \\hat{x}\n",
    "\\end{eqnarray*}\n",
    "\n",
    "At the right-wall, we have thick conductor and the field points in $-\\hat{x}$, hence repeating the above produces\n",
    "\n",
    "$$|E (x_{rw})| = \\sigma_{rw}, \\qquad \\text{ or } \\qquad \\vec{E}(x_{rw}) = -\\sigma_{rw}\\hat{x}$$"
   ]
  },
  {
   "cell_type": "markdown",
   "metadata": {},
   "source": [
    "In terms of $\\partial_x\\phi = -E$, and noting the surface charge density $\\sigma_{\\ell w\\text{ or } rw}$ in 1D is the total charge $Q_{\\ell w}, Q_{rw}$ we have the following condition:\n",
    "\n",
    "$$\\partial_x\\phi (x_{\\ell w}) = -Q_{\\ell w}(t) = -\\int dx \\rho_{\\ell w}(t,x)$$\n",
    "\n",
    "and\n",
    "\n",
    "$$\\partial_x\\phi (x_{rw}) = Q_{rw}(t) = \\int dx \\rho_{rw}(t,x)$$"
   ]
  },
  {
   "cell_type": "markdown",
   "metadata": {},
   "source": [
    "It is obvious the solubility condition is met at time $t = 0$:\n",
    "\n",
    "\\begin{eqnarray*}\n",
    "\\underbrace{\\partial_x\\phi (x_{rw})}_{=\\, Q_{\\ell w}(0)} & = & \\underbrace{\\partial_x\\phi (x_{\\ell w})}_{=\\, Q_{rw}(0)} - \\underbrace{\\int dx \\rho (0,x)}_{=\\, 0} \\\\\n",
    "-\\underbrace{Q_{\\ell w}(0)}_{=\\, 0} & = & \\underbrace{Q_{x_{\\ell w}}}_{=\\, 0} + 0\\\\\n",
    "0 & = &0 \\qquad \\checkmark\n",
    "\\end{eqnarray*}\n",
    "\n",
    "Since at the initial time there is zero charge collected on the plates."
   ]
  },
  {
   "cell_type": "markdown",
   "metadata": {},
   "source": [
    "At time $t > 0$:\n",
    "\n",
    "<ul>\n",
    "<li>$\\partial_x\\phi (x_{\\ell w}) = -Q_{\\ell w}(t), \\qquad |Q_{\\ell w}(t)| \\geq 0$\n",
    "$${}$$\n",
    "<li>$\\partial_x\\phi (x_{\\ell w}) = +Q_{r w}(t), \\qquad |Q_{rw}(t)| \\geq 0$\n",
    "</ul>"
   ]
  },
  {
   "cell_type": "markdown",
   "metadata": {},
   "source": [
    "We see if the solubility condition is met:\n",
    "\n",
    "\\begin{eqnarray*}\n",
    "\\partial_x\\phi (x_{rw}) & \\stackrel{?}{=} &  \\partial_x\\phi (x_{\\ell w}) -\\int_{x_{\\ell w}}^{x_{rw}} dx\\rho (t,x) \\\\\n",
    "&& \\\\\n",
    "& = &  \\partial_x\\phi (x_{\\ell w}) - \\left\\{-\\left[\\int dx \\rho_{\\ell w}(t) + \\int dx \\rho_{r w}(t)\\right]\\right\\} \\\\\n",
    "&&\\\\\n",
    "& = &  \\partial_x\\phi (x_{\\ell w}) + \\underbrace{\\int_{x_{\\ell w}}^{x_{rw}} dx \\rho_{\\ell w}(t,x)}_{Q_{\\ell w}(t)} + \\underbrace{\\int_{x_{\\ell w}}^{x_{rw}} dx \\rho_{\\alpha , r w}(t,x)}_{Q_{rw}(t)} \\\\\n",
    "&&\\\\\n",
    "\\partial_x\\phi (x_{rw}) & \\stackrel{?}{=} &  \\partial_x\\phi (x_{\\ell w}) + Q_{\\ell w}(t) + Q_{rw}(t) \\\\\n",
    "&&\\\\\n",
    "\\partial_x\\phi (x_{rw}) - Q_{rw}(t) & \\stackrel{?}{=} &  \\partial_x\\phi (x_{\\ell w}) - Q_{\\ell w}(t) \\\\\n",
    "\\end{eqnarray*}\n",
    "\n",
    "If we assert the boundary conditions listed above:\n",
    "\n",
    "\\begin{eqnarray*}\n",
    "Q_{rw}(t) - Q_{rw}(t) & \\stackrel{?}{=} &  -Q_{\\ell w}(t) - Q_{\\ell w}(t) \\\\\n",
    "&&\\\\\n",
    "0 & = & 0 \\quad \\checkmark\n",
    "\\end{eqnarray*}\n",
    "\n",
    "Which showns the solubility condiotion is true for times $t\\geq 0$ in this context."
   ]
  },
  {
   "cell_type": "markdown",
   "metadata": {},
   "source": [
    "Or, perhaps shown more obviously if we do not unfold the integral. We start with the condition:\n",
    "\n",
    "$$\\partial_x\\phi (x_{rw})  \\stackrel{?}{=}  \\partial_x\\phi (x_{\\ell w}) -\\int_{x_{\\ell w}}^{x_{rw}} dx\\rho (t,x)$$\n",
    "\n",
    "Then assert boundary conditions, and use our above definitions\n",
    "\n",
    "\\begin{eqnarray*}\n",
    "\\partial_x\\phi (x_{rw}) & \\stackrel{?}{=} &  \\partial_x\\phi (x_{\\ell w}) -\\int_{x_{\\ell w}}^{x_{rw}} dx\\rho (t,x) \\\\\n",
    "&& \\\\\n",
    "Q_{rw} & \\stackrel{?}{=} &  -Q_{\\ell w} - Q(t) \\\\\n",
    "&& \\\\\n",
    "\\underbrace{Q(t) + Q_{\\ell w} + Q_{rw}(t)}_{=\\, Q(0)} & \\stackrel{?}{=} &  0\\\\\n",
    "Q(0) & = & 0 \\quad \\checkmark\n",
    "\\end{eqnarray*}\n",
    "\n",
    "which is the statement of charge conservation, $Q(0) = 0 = Q(t) + Q_{\\ell w}(t) + Q_{rw}(t)$, thus the solubility condition is met for all times $t\\geq 0$ for our quasineutral plasma context."
   ]
  },
  {
   "cell_type": "markdown",
   "metadata": {},
   "source": [
    "Since we cannot specify two Neumann boundary conditions, we recast the problem as an equivalent problem enforced by a single Cauchy boundary condition:\n",
    "\n",
    "<u>Equivalent boundary conditions on the two charged plate problem</u>\n",
    "\n",
    "<ul>\n",
    "<li>$\\partial_x\\phi (x_{\\ell w}) = -Q_{\\ell w}(t)$\n",
    "$${}$$\n",
    "<li>$\\phi (x_{\\ell w}) = \\phi_{ref}$ or $\\phi (x_{rw}) = \\phi_{ref}$\n",
    "</ul>\n",
    "\n",
    "Where $\\phi_{ref}$ is some reference potential, it can often be regarded most conveniently as taken to be zero so that the value at any $x$, $\\phi (x) = \\phi(x) - \\phi_{ref} \\equiv \\Delta \\phi$."
   ]
  },
  {
   "cell_type": "markdown",
   "metadata": {},
   "source": [
    "## M.2 Symmetry at left boundary + charged plate on right\n",
    "\n",
    "(Note: DECSKS does not have a right symmetry boundary option, the user should reconsider their test problem in order to make the left side the symmetry boundary if desired or otherwise step through the many changes that would be required to add on the required functionality for a right symmetry bound).\n",
    "\n",
    "<font color = \"purple\">See DECSKS-18 part 3 for more details on how a symmetry boundary works</font>. In brief, a symmetry boundary condition simulates a half-density $f(t,x,v_x)\\colon x\\in \\mathcal{D}_x=[0,x_{rw}]$ which is made to be representative of a full distribution $f_{total}(t,X,v_x) = f^C(t,x^C,v_x)\\cup f(t,x,v_x)$ where the other half of the domain is set up to be the mirror circumstance across the mirror or \"symmetry boundary\" at $x = 0$, defined so that $f^C(t,x^C,v_x)\\colon x^C\\in\\mathcal{D}_x^C=[x_{\\ell w}, 0]$ so that the spatial domain of $f_{total}$ is $X\\in\\mathcal{D}_X=\\mathcal{D}_x\\cup\\mathcal{D}_x^C= [x_{\\ell w}, x_{rw}]$. Of course, our symmetry situation requires that $x_{\\ell w} = -x_{rw}$. The scripting $C$ denotes \"complement\" domain, which is the language used in DECSKS-18 part 3, where the details of this are exhaustively worked through. Each half distribution $f$ and $f^C$ are only nonzero (or otherwise defined at all) inside their own domains. The symmetry boundary condition is then accomplished so that all such exiting particles from $f$ in the right-half of the total distribution $f_{total}$ are matched with corresponding entering partner particles of oppositely directed velocity from the complement density $f^C$ which exists in the left-half. In this way, the effect of a full distribution is reduced to a boundary condition, so that we can simulate a grid half as large and still recover equivalent information.\n",
    "\n",
    "For the total distribution, the boundaries of symmetry and a charged plate condition are fundamentally Neumann conditions. Thus, we have the problem\n",
    "\n",
    "$$\\partial_x^2\\phi = \\sum_{\\alpha}q_{\\alpha}\\int dv_x f_{\\alpha}(t,x,v_x), \\qquad x\\in [0,x_{rw}]$$\n",
    "\n",
    "where the right conductor is as the position $x_{rw} > 0$, and the symmetry boundary is at $x = 0$. The true domain is $X\\in [x_{\\ell w}, x_{rw}]$ where $x_{\\ell} = -x_{rw}$, but symmetry permits us to analyze the half-domain, provided our boundary conditions physically represent this situation, i.e. we require the following\n",
    "\n",
    "<ul>\n",
    "<li>$\\partial_x\\phi (0) = 0$\n",
    "$${}$$\n",
    "<li>$\\partial_x\\phi (x_{r w}) = +Q_{r w}(t)$\n",
    "</ul>\n",
    "\n",
    "where $Q_{rw}(t)$ is the time-dependent wall charge accumulated on the right boundary at $x_{rw}$ (i.e. $\\vec{E} = -Q_{rw}(t)\\hat{x}, \\phi = -E$. The nuance here is that we only simulate half the domain (as described above). We ascribe a length for the full domain as $2L = |\\mathcal{D}_x\\cup\\mathcal{D}_x^C| = x_{\\ell w} - x_{rw}$, and refer to the affiliated quantities with succinct subscripts $2L$ (e.g. $f_{2L}\\colon x\\in [x_{\\ell w}, x_{rw}] $) in favor of the just previously used \"$total$\" subscript and total configuration variable $X$; these quantities are labelled as compared to the simulated domain which is exactly half the size: $|\\mathcal{D}_x| = L$. The simulated domain quantities are labelled in suit with the signature $L$ (e.g. $f_L\\colon x\\in [0, x_{rw}]$) or are left unscripted (e.g. $f_L \\equiv f$, $Q_{L,rw} \\equiv Q_{rw}$). Note, quantities affiliated with the half-domain do not have definitions outside of this domain (or, all such quantities can be defined as having zero value outside the half domain if desired).\n",
    "\n",
    "Thus over the full domain we have the relationship $Q_{2L}(0) = Q_{2L}(t) + Q_{2L,rw}(t) + Q_{2L, \\ell w}(t)$ at any time $t$, where $Q_{2L}(t) = \\int dx \\rho_{2L} (t,x) = \\sum_{\\alpha}q_{\\alpha}\\int dx \\int dv_x f_{2L}(t,x,v_x)$, which $Q_{2L}(t) \\leq Q_{2L}(0)$ given that charges are lost to wall absorption (but, are tallied in wall charge density objects so they are not truly \"lost\"):\n",
    "\n",
    "\n",
    "$$f_{2L}(t,x_{r w}, v_x) = 0$$\n",
    "$$f_{2L}(t,x_{\\ell w}, v_x) = 0$$\n",
    "\n",
    "In the full domain, we have $f_{2L}(t,x_{\\ell w}, v_x) = 0$, but this is not enforced on the half distribution $f$ since it reaches beyond its simulation domain. It is instead fulfilled by virtue of absorber condition on the right-wall ($f(t,x_{rw}, v_x) = 0$) in tandem with the symmetry condition at $x = 0$, which matches every exiting particle through the symmetry plane with its partner that is entering from \"the other side\" ($x\\in [x_{\\ell w}, 0]$), where if such particles reach the right wall, they are absorbed. Since the same is designed to be happening on the left wall, we notice by construction that $Q_{\\ell w}(t) = Q_{rw}(t)$ and that it can only be the case that $Q_{2L,\\ell w} = Q_{\\ell w}$ or $Q_{2L,rw} = Q_{rw}$, hence, and that all particles are being accounted for by such a symmetry condition as well as the effect of the charged wall on the left-side accordingly, and the wall charges are equivalent to the charges accumulated had we simulated the total domain $2L$.  \n",
    "\n",
    "We frame the required symmetry condition as having matched phase space fluxes $\\gamma = v_xf(t,x,v_x)$, and on the wall we have an absorber condition:\n",
    "\n",
    "$$\\gamma (t,0, v_x < 0) = \\gamma (t,0, v_x \\geq 0)$$\n",
    "\n",
    "Now, over the full domain we have for in our quasineutral circumstance (i.e. at time $t = 0$ we have $Q(0) = 0$), thus $Q_{2L}(t) = -(Q_{2L, \\ell w}(t) + Q_{2L, rw}(t))$.\n",
    "\n",
    "Over just the simulated domain, by symmetry we track exactly half the charge, that is: $Q(t) = \\frac{1}{2}Q_{2L}(t) = \\frac{1}{2}(-Q_{2L,rw}(t) - Q_{2L, \\ell w}(t))= -\\frac{1}{2}(2 Q_{2L, rw}(t)) = -Q_{rw}(t)$, where we recall that $Q_{rw}(t) = Q_{2L, rw}(t)$ since the symmetry boundary condition factors all particles from the full domain $x\\in [x_{\\ell}, x_{rw}]$, hence the wall charges are the same by construction. Thus, we have $Q(t) = -Q_{rw}(t)$.\n",
    "\n",
    "We need to enforce the left-boundary condition ($\\partial_x\\phi (0) = 0$) to ensure the symmetry condition is met, we thus examine the solubility condition and see if the expected wall charge above produces the expected $\\partial_x\\phi (x_{rw})$ result from electrostatics:\n",
    "\n",
    "\\begin{eqnarray*}\n",
    "\\partial_x\\phi (x_{rw}) & \\stackrel{?}{=} &  \\partial_x\\phi (0) - \\int_{0}^{x_{rw}} dx\\rho (t,x) \\\\\n",
    "&& \\\\\n",
    "\\partial_x\\phi (x_{rw}) & \\stackrel{?}{=} &  0 - Q(t) \\\\\n",
    "&& \\\\\n",
    "\\partial_x\\phi (x_{rw}) & \\stackrel{?}{=} &  - Q(t) \\\\\n",
    "\\end{eqnarray*}\n",
    "\n",
    "Recall that $Q(t) = -Q_{rw}(t)$, we see that\n",
    "\n",
    "$$\\partial_x\\phi (x_{rw}) =  Q_{rw}(t) \\quad \\checkmark$$\n",
    "\n",
    "Which proves that enforcing the boundary condition $\\partial_x\\phi (0) = 0$ along with the density boundary conditions creates the situation where the value of the derivative on the potential is exactly equal to the field produced by a thick conducting wall with surface charge $Q_{rw}$. Since this condition is fulfilled automatically, we then are free to choose a second boundary condition in order to create a consistent, well-posed problem, e.g. a DBC at either boundary at some reference potential.\n",
    "\n",
    "Note, that we could have instead enforced the charged wall condition and the symmetry condition would be fulfilled automatically (i.e. enforce $\\partial_x \\phi (x_{rw}) = Q_{rw}(t)$):\n",
    "\n",
    "\\begin{eqnarray*}\n",
    "\\partial_x\\phi (x_{rw}) & \\stackrel{?}{=} &  \\partial_x\\phi (0) - \\int_{0}^{x_{rw}} dx\\rho (t,x) \\\\\n",
    "&& \\\\\n",
    "    Q_{rw}(t) & \\stackrel{?}{=} &  \\partial_x\\phi (0) - \\underbrace{Q(t)}_{=\\, -Q_{rw}(t), \\text{ see above}} \\\\\n",
    "&& \\\\\n",
    "  Q_{rw}(t)& \\stackrel{?}{=} &  \\partial_x\\phi (0) + Q_{rw}(t) \\\\\n",
    "\\end{eqnarray*}\n",
    "\n",
    "or $\\partial_x\\phi (0) = 0$.\n",
    "\n",
    "So, it clearly does not matter which NBC is actively enforced, the solubility condition will fulfill whatever the other value would be. Thus, it is in the hands of the user to ensure they provide a well-posed problem so that the expected and required NBCs are fulfilled (note that such a result where there is a homogeneous NBC at the left boundary can only happen provided there are corresponding symmetry conditions on the density function)."
   ]
  },
  {
   "cell_type": "markdown",
   "metadata": {},
   "source": [
    "\n",
    "<u>Equivalent boundary conditions on the left symmetry - right charged plate problem</u>\n",
    "\n",
    "<ul>\n",
    "<li>$\\partial_x\\phi (x_{\\ell w}) = 0$\n",
    "$${}$$\n",
    "<li>$\\phi (x_{\\ell w}) = \\phi_{ref}$ or $\\phi (x_{r w}) = \\phi_{ref}$\n",
    "</ul>\n",
    "\n",
    "or\n",
    "\n",
    "<ul>\n",
    "<li>$\\partial_x\\phi (x_{r w}) = Q_{rw}(t)$\n",
    "$${}$$\n",
    "<li>$\\phi (x_{\\ell w}) = \\phi_{ref}$ or $\\phi (x_{r w}) = \\phi_{ref}$\n",
    "</ul>\n",
    "\n",
    "Where $\\phi_{ref}$ is some reference potential, it can often be regarded most conveniently as taken to be zero so that the value at any $x$, $\\phi (x) = \\phi(x) - \\phi_{ref} \\equiv \\Delta \\phi$. Or, we could \n",
    "\n",
    "The only sticking point when we code this is to remember we must permit inputs from the user in the input deck <code>params.dat</code> so that the simulation underestands that while you are specificying a DBC (reference potential), if a self-consistent potential is being computed per the accumulated charge on the wall, if this is not enforced but let to be fulfilled automatically, an instruction will need to be sent out to DECSKS upon reading the input deck to let it know to keep track of a wall charge density object. It may not be necessary for the calculation (e.g. if the symmetry boundary condition on $\\partial_x\\phi (0)$ is enforced instead so that the LNBC_RDBC or LNBC_LDBC solver is called instead of one involving RNBC) of the field, but it is natural to store an object like this for later diagnostics and plotting."
   ]
  },
  {
   "cell_type": "markdown",
   "metadata": {},
   "source": [
    "# N. Boundary condition recipes\n",
    "\n",
    "We present some recipes for producing simulations of common interest. The usual initialisms DBC and NBC are used to mean Dirichlet and Neumann boundary conditions, respectively.\n",
    "\n",
    "<b><u>General guidelines</u></b>\n",
    "\n",
    "<ul>\n",
    "<li>DBCs hold the potential $\\phi$ at constant values, e.g. $\\phi (0) = 0$ grounds an electrode.\n",
    "<li>symmetry requires an NBC, $\\partial_x \\phi (0) = 0$ (DECSKS does not have a symmetry option coded for the upper boundary)\n",
    "<li>a self-consistent wall potential is a NBC, $\\partial_x\\phi (x_{\\ell w}) = -Q_{\\ell w}(t)$, or $\\partial_x\\phi (x_{rw}) = +Q_{rw}(t)$.\n",
    "<li>Two NBCs cannot be applied to a single problem as it is not well-posed. Instead, users must reconsider their setup and apply a DBC/NBC setup that equivalently produces the expected second NBC that is not enforced, but rather is fulfilled by virtue of the solublity condition). There are several permutations that produce equivalent results involving which NBC is enforced and which boundary the DBC is enforced at.\n",
    "</ul>"
   ]
  },
  {
   "cell_type": "markdown",
   "metadata": {},
   "source": [
    "<b><u>Specific setups</u></b>\n",
    "\n",
    "Here, we use language such as 'left' and 'right' to mean lower and upper bounds on an abscissa (configuration) variable. This stems from considering the $x$ variable, but for higher dimensions generalizes the same way (though the natural interpretations of 'left' and 'right' may then be out of context, the intentions are clear).\n",
    "\n",
    "<ol>\n",
    "<li> Left wall biased (DBC) - Right wall biased (DBC)\n",
    "$${}$$\n",
    "<ul>\n",
    "<li>$\\phi (x_{\\ell w}) = \\phi_a$\n",
    "<li>$\\phi (x_{rw}) = \\phi_b$\n",
    "</ul>\n",
    "$${}$$\n",
    "where $\\phi_a, \\phi_b \\in \\mathbb{R}$, setting a value to zero grounds that electrode.\n",
    "$${}$$\n",
    "<li> Left symmetry boundary (NBC) - Right wall biased (DBC)\n",
    "$${}$$\n",
    "<ul>\n",
    "<li>$\\partial_x\\phi (x_{\\ell w}) = 0$\n",
    "<li>$\\phi (x_{rw}) = \\phi_b$\n",
    "</ul>\n",
    "$${}$$\n",
    "where $\\phi_b \\in \\mathbb{R}$. <b>Along with a symmetry boundary condition on $f$</b>, this achieves the same effect as if a domain twice this size was simulated with the same boundary condition on the extended left side at $x = x_{\\ell w} = -x_{rw}$ as is applied on the right here.\n",
    "$${}$$\n",
    "<li> Left symmetry boundary (NBC) - Right charged wall (NBC) -- represented as an equivalent DBC/NBC pair \n",
    "$${}$$\n",
    "<ul>\n",
    "<li>$\\partial_x\\phi (x_{\\ell w}) = 0$\n",
    "<li>$\\phi (x_{\\ell w}) = \\phi_{ref}$ or $\\phi (x_{r w}) = \\phi_{ref}$\n",
    "</ul>\n",
    "$${}$$\n",
    "or\n",
    "$${}$$\n",
    "<ul>\n",
    "<li>$\\partial_x\\phi (x_{r w}) = Q_{rw}(t)$\n",
    "<li>$\\phi (x_{\\ell w}) = \\phi_{ref}$ or $\\phi (x_{r w}) = \\phi_{ref}$\n",
    "</ul>\n",
    "$${}$$\n",
    "where $\\phi_{ref} \\in \\mathbb{R}$ is some reference value, it is convenient to choose $\\phi_{ref} = 0$ so that $\\phi (x) \\equiv \\Delta \\phi = \\phi(x) - \\phi (x_{\\ell w})$. <b>When equipped with the symmetry conditions on the density $f_{\\alpha}$</b>, both Neumann conditions will be fulfilled by consequence of the solubility condition and only one need be enforced (note that two NBCs cannot be enforced as this is not a well-posed problem).\n",
    "$${}$$\n",
    "<li> Left charged wall (DBC) - Right wall biased (DBC)\n",
    "$${}$$\n",
    "<ul>\n",
    "<li>$\\partial_x\\phi (x_{\\ell w}) = -Q_{\\ell w}(t)$\n",
    "<li>$\\phi (x_{rw}) = \\phi_b$\n",
    "</ul>\n",
    "$${}$$\n",
    "where $\\phi_b \\in \\mathbb{R}$.\n",
    "$${}$$\n",
    "<li> Left wall biased (DBC) - Right charged wall (NBC)\n",
    "$${}$$\n",
    "<ul>\n",
    "<li>$\\phi (x_{\\ell w}) = \\phi_a$\n",
    "<li>$\\partial_x\\phi (x_{r w}) = Q_{r w}(t)$\n",
    "</ul>\n",
    "$${}$$\n",
    "where $\\phi_a \\in \\mathbb{R}$.\n",
    "$${}$$\n",
    "<li> Left charged wall (NBC) - Right charged wall (NBC) -- represented as an equivalent DBC/NBC pair\n",
    "$${}$$\n",
    "<ul>\n",
    "<li>$\\partial_x\\phi (x_{\\ell w}) = -Q_{\\ell w}(t)$\n",
    "<li>$\\phi (x_{\\ell w}) = \\phi_{ref}$\n",
    "</ul>\n",
    "$${}$$\n",
    "or, with $\\phi (x_{rw})) = \\phi_{ref}$. Equivalently the reverse produces compatible results:\n",
    "$${}$$\n",
    "<ul>\n",
    "<li>$\\partial_x\\phi (x_{r w}) = Q_{r w}(t)$\n",
    "<li>$\\phi (x_{r w}) = \\phi_{ref}$\n",
    "</ul>\n",
    "$${}$$\n",
    "or, with $\\phi (x_{\\ell w}) = 0$, where $\\phi_{ref} \\in \\mathbb{R}$ is some reference value, it is convenient to choose $\\phi_{ref} = 0$ so that $\\phi (x) \\equiv \\Delta \\phi = \\phi(x) - \\phi (x_{\\ell w})$.\n",
    "$${}$$\n",
    "</ol>"
   ]
  },
  {
   "cell_type": "markdown",
   "metadata": {},
   "source": [
    "# Conclusions\n",
    "\n",
    "This notebook outlined the design and tested the implementation a class of 6th order finite difference 1D Poisson solvers subject categorized by which boundary conditions they employ:\n",
    "\n",
    "    (1) Periodic boundary conditions\n",
    "    (2) Dirichlet boundaries on both edges\n",
    "    (3) Dirichlet/Neumann boundaries\n",
    "    (4) Neumann/Neumann boundary conditions enforced by Cauchy data at either the left or right edge \n",
    "    \n",
    "In our quasineutral plasma context, we have natural applications of each.\n",
    "\n",
    "     (1) Periodic BCs pertain to infinite (periodic) plasmas\n",
    "     (2) Dirichlet BCs can be used to enforce walls held at constant potential\n",
    "     (3) Neumann BCs can be used for a symmetry boundary condition (DECSKS only supports a left-handed symmetry\n",
    "         boundary), and for self-consistently computed the potential based on the charge collected on the boundary\n",
    "         surface."
   ]
  }
 ],
 "metadata": {
  "kernelspec": {
   "display_name": "Python 2",
   "language": "python",
   "name": "python2"
  },
  "language_info": {
   "codemirror_mode": {
    "name": "ipython",
    "version": 2
   },
   "file_extension": ".py",
   "mimetype": "text/x-python",
   "name": "python",
   "nbconvert_exporter": "python",
   "pygments_lexer": "ipython2",
   "version": "2.7.3"
  }
 },
 "nbformat": 4,
 "nbformat_minor": 0
}

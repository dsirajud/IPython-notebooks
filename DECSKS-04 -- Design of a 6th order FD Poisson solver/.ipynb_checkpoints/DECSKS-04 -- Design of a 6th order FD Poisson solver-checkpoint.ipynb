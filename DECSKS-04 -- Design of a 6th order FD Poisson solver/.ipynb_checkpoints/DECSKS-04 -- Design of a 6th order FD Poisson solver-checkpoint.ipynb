{
 "cells": [
  {
   "cell_type": "markdown",
   "metadata": {},
   "source": [
    "# Design of a 6th order finite difference Poisson solver"
   ]
  },
  {
   "cell_type": "code",
   "execution_count": 3,
   "metadata": {
    "collapsed": true
   },
   "outputs": [],
   "source": [
    "%reload_ext autoreload \n",
    "%autoreload 2 "
   ]
  },
  {
   "cell_type": "markdown",
   "metadata": {},
   "source": [
    "# A. Motivation: bounded domains"
   ]
  },
  {
   "cell_type": "markdown",
   "metadata": {},
   "source": [
    "Previously, we have provided a prescription to optimize a deterministic semi-Lagrangian strategem (convected scheme, CS) apt for the solution to the parabolic partial differential equation \n",
    "\n",
    "$$\\partial_t g + k\\partial_z g = 0, \\qquad \\qquad k\\in\\mathbb{R}, g = g(t,z)$$ \n",
    "\n",
    "to arbitrary order correctness. This procedure requires adding correction terms to incremental updates which in part depend on the accurate computation of $N-1$ derivatives of the state function $g$ to achieve a solution with a local truncation error (LTE) of order $N+1$. \n",
    "\n",
    "For non-open (closed or semi-open) systems, the boundaries break the periodicity and force our hand to consider alternate forms of computing the derivatives, the most obvious candidate being finite difference schemes. In a previous notebook (\"Generation of families of explicit finite difference schemes for derivatives of any order of chosen LTE\"), a series of scripts were developed to compute explicit finite difference coefficient tables for the family of schemes for any derivative for user queried LTEs. These files can be read in and stored as a matrix which produces the derivative of the post-multiplied function that can be efficiently accomplished as a vectorized operation using NumPy arrays. Efforts were made to follow the maxim for the differencing to remain \"as centered as reasonably achievable\" (ACARA, H/T to the radiation dosimetry mnemonic, 'ALARA'), a principle that permits grid sampling for FD computations in the interior to be the most-centered scheme available whereas near the edge nodes the construction of the matrix employs schemes only with as much deviation from centered as is required to stay within the domain (see the aformentioned notebook for details). \n",
    "\n",
    "In the notebook <a href = \"../DECSKS-03%20--%20Convergence%20of%20FD%20formulation%20of%20high%20order%20CS/DECSKS-03%20--Convergence%20of%20FD%20formulation%20of%20high%20order%20CS.ipynb\">Convergence of FD formulation of high order CS</a>, it was shown for a test density that we can correct CS solutions to advection equations up to order $O(\\Delta z^{10})$. Recall, trying to pursue higher order is not achievable where the source of this problem was convincingly demonstrated to be an effect of the many FD derivatives required beyond this order failed to simultaneously converge for a given mesh (one or more fall into non-convergent zones, so the requisite LTE is not achieved). Thus, we note our provisional limit in the phase space remapping assignment is perhaps LTE order $O(\\Delta z^{10})$, $z = \\{x,v\\}$.  \n",
    "\n",
    "When addressing more involved physics (e.g. Vlasov, just below), the accuracy of our solution will <i>not</i> be controlled by the order of the CS solver incidentally, but ultimately by the choice of what is ultimately an expensive and lower order time splitting scheme used in the numerical stepthrough (e.g. time splitting schemes of LTE orders 3, 5, 7 are within the means of serial processing; however, pushing for more accurate schemes is both too intensive at this juncture, and it is unclear what a motivating context or test problem would need higher order), so we are not discouraged in the slightest. What we desire is a phase space remapping of an order $O(\\Delta z^{N+1})$ LTE that is high enough to not further pollute the solution with respect to the limitations of the time splitting procedure, which scales with LTEs of order $O(\\Delta t^3)$, $O(\\Delta t^5)$, $O(\\Delta t^7)$, $\\ldots$. Since the CFL numbers are not constant, there is no obvious relationship between the mesh spacing $\\Delta z$ and the time grid spacing $\\Delta t$. \n",
    "\n",
    "<i>(We also point out to the reader that we never say \"order\" on its own as this is ambiguous and language is used both undiligently and inconsistently in literature (whether an \"order $N$\" method means \"correct up to order $N$\" (LTE order = $N+1$), or if someone means an \"order $N$\" method means the LTE is order $N$). Note, that we always say \"LTE order\" or \"global error of order,\" or some variation in order to specify what it is we are speaking of. In this way, the point of bringing this to the reader's attention is that time splitting literature tends to favor labelling methods as $N$th order if they have an LTE of $N+1$ (i.e. the method is termed with the notion that it is correct <i>up to and including order $N$</i>), which is opposite to the preference in most PDE solver literature (an $N$th order method means the LTE itself is of order $N$, i.e. is correct <i>up to and including order $N-1$</i>). In this way, for the popular time splitting leapfrog scheme, it is often abbreviated as LF2, with mention that it is 2nd order, but this means its LTE is order 3. This is the opposite of how we speak of PDE solvers, e.g. a solver being of \"order\" 3 means the LTE is of order 3 in most publishings. Thus, it should be understood there is no conflict with the above LTEs reported for time splitting, e.g. Yoshida 4, aka Y4, has an LTE order of 5, because the convention used in its definition is just incompatible with the PDE solver literature norm. In order to not rely on the reader to \"know\" this common confusion, we make note that we will always specify LTE or GE (global error) when talking of \"order.\"</i>\n",
    "\n",
    "Moving on from an advection equation, we incorporate an acceleration term $a = a(t,x)$. In a plasma context we first consider only electrostatic interactions for cold ions (uniform background $n_0$ defined according to quasineutrality such that $n_e = n_0$) so that $a \\sim E(t,x) = -\\partial_x \\phi(t,x)$. Hence, we consider the <i>Vlasov-Poisson system</i>:\n",
    "\n",
    "$$\\partial_t f + v\\partial_x f + (\\partial_x\\phi) \\partial_v f = 0$$\n",
    "$${}$$\n",
    "$$\\partial_x^2 \\phi = \\int_v dv f(t,x,v) - n_0$$\n",
    "\n",
    "Note, the units have been normalized (see dsirajud/Preliminary-Examination for details) and we take the case of hyrogenic atoms so that the charges are equal but opposite. At this juncture we do not address collisions but instead include only details pertaining to energy exchanges with the field and field particles. For periodic systems, we have benchmarked CS solutions against a two-stream instability and Landau damping test cases that show agreement among several solvers (DG, Eulerian, ...). The above equation can be solved numerically by time-splitting schemes (e.g. leapfrog).\n",
    "\n",
    "For closed systems, <b>we consider CS at least at an LTE of order 6 given at best we aim to use an RKN time splitting scheme with an LTE of 7 (e.g. O11-6). Thus, in order to retain an LTE overall of order 6, we require a Poisson solver to have an LTE order of 6.</b> The subsequent excursions using these tools will likely investigate lower order time splitters as well (LF2, Y4, O6-4), which is of no further potential consequence from the CS solver or the Poisson solver provided we meet this minimum requirement of order 6. "
   ]
  },
  {
   "cell_type": "markdown",
   "metadata": {},
   "source": [
    "# B. Setup"
   ]
  },
  {
   "cell_type": "markdown",
   "metadata": {},
   "source": [
    "## B.1. Motivation for Poisson vs. Gauss solver:"
   ]
  },
  {
   "cell_type": "markdown",
   "metadata": {},
   "source": [
    "It is inviting to consider Gauss' law instead of Poisson's equation:\n",
    "\n",
    "$$\\partial_x E = n_i - n_e$$\n",
    "\n",
    "The author was in fact very cordially invited by this temptation, in order to fuss with one order of derivative less; however, it was found after much convincing (and time spent) that there is not a way to make a 6th order scheme that produces a unique solution. In other words, the assembled matrix system for the above problem, no matter the choice of finite differences:\n",
    "\n",
    "$$\\underline{\\underline{D}} \\underline{E} = \\underline{N}, \\qquad \\qquad \\underline{N} = \\underline{n}_i - \\underline{n}_e$$\n",
    "\n",
    "The matrix $\\underline{\\underline{D}}$ is always singular in the author's experience, in other words ostensibly no such matrix can be found that is diagonally dominant, or it can be said and shown in every such case that $D^{-1}$ does not exist. Humbly, the author notes this is probably why Poisson solvers are so often the topic of interest without any mention of Gauss law solvers for the equivalent plasma physics context (though does note at least one exception that Gauss solvers find footing in finite different solvers using Yee cells). As will be seen below, a Poisson solver can be designed with an appropriate coefficient matrix which produces unique solutions."
   ]
  },
  {
   "cell_type": "markdown",
   "metadata": {},
   "source": [
    "## B.2. Poisson's equation and grid"
   ]
  },
  {
   "cell_type": "markdown",
   "metadata": {},
   "source": [
    "We consider the 1D elliptic equation:\n",
    "\n",
    "$$\\partial_x^2\\phi = n_e - n_0, \\qquad x\\in [a,b], \\qquad \\phi = \\phi(t,x)$$\n",
    "\n",
    "where\n",
    "\n",
    "$$n_e = n_e(t,x) = \\int_v dv f_{\\alpha}(t,x,v)$$\n",
    "\n",
    "The scalar function $\\phi = \\phi (t,x)$is called the electric potential, whose definition is permitted by restricting the Maxwell equations to cases where the magnetic field is not involved. For our immediate plasma context, we define an electron density, $n_e = n_e(t,x)$ and a constant positive ion density $n_0$ (cold background); the constants $a$ and $b$ are arbitrary. The derivation in section C deal with this case to emphasize the details of the method without encumbering the process with extra terms, the result for non-constant ion density is obtained in exactly the same way as shown below, and the result is quoted for convenience, though the details are saved for the reader as the details only differ by a sign.\n",
    "\n",
    "We approximate the continuous functions with grid functions whose cell-centered values correspond to each $x = x_i$, for $i = 0, 1, \\ldots , N-1$, where Pythonic indexing is used, and we will define the domain as $x_0 = a$, $x_{N-1} = b$, with uniform spacing $\\Delta x = L / (N_x - 1)$ for $N_x$ grid points over the domain of size $L = b - a$."
   ]
  },
  {
   "cell_type": "markdown",
   "metadata": {},
   "source": [
    "# C. Derivation of scheme: Dirichlet boundary conditions"
   ]
  },
  {
   "cell_type": "markdown",
   "metadata": {},
   "source": [
    "## C.1. Strategy"
   ]
  },
  {
   "cell_type": "markdown",
   "metadata": {},
   "source": [
    "The idea is to analytically derive high order estimations of $\\partial_x^2 \\phi (x_i)$ (we suppress the time dependence for brevity) whose finite difference operators sample only points on the grid (we evade employing ghost points to retain a general scheme). The solution to the set of $N$ equations provides the solution to $\\phi$ for all $x_i$, $i = 0, 1, \\ldots , N-1$ to $O(\\Delta x^6)$.\n",
    "\n",
    "The finite derivative estimates of $\\partial_x^2\\phi$ are obtained by straightforward Taylor expansion at a grid point $x_{i + k}, \\, k\\in\\mathbb{Z}$ which necessarily incur a local truncation order that scales with $O(\\Delta x^M)$. This FD estimate was obtained by considering <i>one</i> grid point $x_{i+k}$. In any case, this will yield an LTE that scales with $O(\\Delta x^2)$. In order to make the FD estimate higher order, two options are available here:\n",
    "\n",
    "<ol>\n",
    "<li> <u>If there is no PDE</u>: and we consider the pure math problem of raising the LTE of the second derivative then the only manner in which the FD estimate of $\\partial_x^2\\phi (x_i)$ can be increased to higher order is by considering expanding $\\phi (t, x_{i + k})$ for several other $k\\in\\mathbb{Z}$. Doing so, we develop a set of equations, that upon manipulation we have the latitude needed to eliminate orders by Gaussian elimination. This can be repeated for more points, and the algebra can be done so that higher and higher orders are killed off so that we achieve an overall highier LTE. Necessarily, this expands the stencil $\\{k\\}$ of the FD scheme. Such schemes are called explicit. Alternatively, the same result is obtained in recognition that linear combination of derivatives (expressed in terms of differences among the $\\{\\phi (x_{i+k})\\}$ is ultimately what cancels high order terms. So, rather than astutely manipulate the equations as needed, instead the equivalent problem can be cast as an undetermined coefficients problem \n",
    "\n",
    "$$\\sum_k c_k \\phi(x_{i+k}) = O(\\Delta x^M)$$\n",
    "\n",
    "for a desired order $M$ (e.g. $M = 6$). In this way, we Taylor expand the left-hand sides after this statement has already been assembled, and construct order requirements that each order up to but not including the order $M$ vanish. This produces enough equations to solve for the equations uniquely in the explicit case. A second suboption here is to instead not put all the burden on the function $\\phi$ itself at several grid points, but instead to put weights on the derivative itself \n",
    "\n",
    "$$a\\phi '' (x_{i-1}) + b\\phi '' (x_i) + c\\phi '' (x_{i+1}) = e\\phi (x_{i-1}) + h\\phi (x_i) + \\ell\\phi(x_{i+1})$$ \n",
    "\n",
    "so we expand the right-hand side, and arrive at a set of coupled (on $\\phi ''$) order conditions that require the orders $n < M$ vanish accordingly. Such schemes are hence <i>implicit</i>, and do not generally have unique solutions, but families of solutions by judicious choices of one coefficients ($a, b, c, e, h, \\ell$) which give rise to well-known schemes such as the Padé scheme. Implicit schemes are computational more expensive than explicit, hence we do not consider this at the juncture, though later investigations may provide motivation to return to this issue given restricting the stencil size is a admittedly desirable. Hence, implicit schemes are often called <i>compact</i> because of their potential to restrict the stencil size as compared to explicit schemes.\n",
    "$${}$$\n",
    "\n",
    "<li> <u>If there <i>is</i> a PDE</u>: Rather than resorting to consider increasingly more grid points, we exploit the hand we are given by relating the derivative of $\\phi$ appearing in the truncation term to a lower order derivative on the density $n$ which is related by the PDE itself. Differencing the density then raises the LTE upon substitution. <b>we pursue this strategy</b>\n",
    "</ol>"
   ]
  },
  {
   "cell_type": "markdown",
   "metadata": {},
   "source": [
    "## C.2. Designing the scheme"
   ]
  },
  {
   "cell_type": "markdown",
   "metadata": {},
   "source": [
    "For convenience, we repeat the governing equation evaluated at a grid point $x_i$:\n",
    "\n",
    "$$\\partial_x^2 \\phi_i = n_{e,i} - n_0, \\qquad x\\in [a,b]$$\n",
    "\n",
    "Where the increasing sequence $(x_i)_{i=0}^{N-1} = (a = x_0, x_1, x_2, \\ldots, x_{N-2}, x_{N-1} = b)$ represents centroids for a union of cells $C_i$ that constitute the continuous problem space $x\\in [a,b]$. For $N$ grid points $(x_i)$, $i = 0, 1, 2, \\ldots , N-1$ we require $N$ equations."
   ]
  },
  {
   "cell_type": "markdown",
   "metadata": {},
   "source": [
    "### C.2.1. Boundary conditions: 2 equations\n",
    "\n",
    "For now, we consider Dirichlet boundary conditions: \n",
    "\n",
    "<ol>\n",
    "<li> $\\boxed{\\phi (x_0) \\equiv \\phi_0 = \\phi_a}$\n",
    "<li> $\\boxed{\\phi (x_{N-1}) \\equiv \\phi_{N-1} = \\phi_b}$ are specified.\n",
    "</ol>"
   ]
  },
  {
   "cell_type": "markdown",
   "metadata": {},
   "source": [
    "### C.2.2. Finite difference equations: $N-2$ equations total\n",
    "\n",
    "We derive separate representations for the interior nodes vs. the edge nodes given so that the grid sampling requires only points within the domain itself.\n",
    "\n",
    "An FD approximation for the second derivative is obtained as usual by expanding the function evaluated at the grid points $x_{i\\pm 1} = x_i \\pm 1\\cdot\\Delta x$, where the shorthand is used $\\phi_i \\equiv \\phi (x_i)$, and so on.\n",
    "\n",
    "$$\\phi_{i+1} = \\phi_i + \\Delta x \\phi_i^{(1)} + \\frac{(\\Delta x)^2}{2}\\phi_i^{(2)} + \\frac{(\\Delta x)^3}{3!}\\phi_i^{(3)} + \\frac{(\\Delta x)^4}{4!}\\phi_i^{(4)} + \\frac{(\\Delta x)^5}{5!}\\phi_i^{(5)} + \\ldots$$\n",
    "\n",
    "$$\\phi_{i-1} = \\phi_i - \\Delta x \\phi_i^{(1)} + \\frac{(\\Delta x)^2}{2}\\phi_i^{(2)} - \\frac{(\\Delta x)^3}{3!}\\phi_i^{(3)} + \\frac{(\\Delta x)^4}{4!}\\phi_i^{(4)} - \\frac{(\\Delta x)^5}{5!}\\phi_i^{(5)} + \\ldots$$\n",
    "\n",
    "It is clear the addition of the above two equations kill off the first derivative (and incidentally, all odd order derivatives), which allows us to solve for the second derivative as a function of higher order (even) derivatives:\n",
    "\n",
    "$$\\phi_i^{(2)} = \\frac{1}{(\\Delta x)^2}\\left(\\phi_{i+1} - 2\\phi_i + \\phi_{i-1}\\right) - \\frac{2}{4!}(\\Delta x)^2\\phi_i^{(4)} - \\frac{2}{6!}(\\Delta x)^4\\phi_i^{(6)} + O(\\Delta x^6)$$\n",
    "\n",
    "Note, it is important to keep track of the sign of the terms here in order to properly combine them in subsequent steps. In this way, while we can either obtain from literature or otherwise (e.g. with scripts developed in the notebook <a href = \"https://github.com/dsirajud/IPython-notebooks/blob/master/DECSKS-01%20--%20Generation%20of%20families%20of%20explicit%20finite%20difference%20schemes%20for%20derivatives%20of%20any%20order%20of%20chosen%20LTE/DECSKS-01%20--%20Generation%20of%20families%20of%20explicit%20finite%20difference%20schemes%20for%20derivatives%20of%20any%20order%20of%20chosen%20LTE.ipynb\">DECSKS-01</a> come to know the difference coefficients, deriving this method does require us to know the details of the truncated terms as will be seen shortly, so it is unfortunately necessary to carry out the calculations as literature does not provide all the details we require for our purposes.\n",
    "\n",
    "Inserting the FD derivative above into Poisson's equation, we have:\n",
    "\n",
    "$$\\frac{1}{(\\Delta x)^2}\\left(\\phi_{i+1} - 2\\phi_i + \\phi_{i-1}\\right) = n_{e,i} - n_0 + \\frac{2}{4!}(\\Delta x)^2\\phi_i^{(4)} + \\frac{2}{6!}(\\Delta x)^4\\phi_i^{(6)} + O(\\Delta x^6), \\qquad i\\in\\mathbb{N}_1^{N-2}$$\n",
    "\n",
    "where the differencing already restricts the range of indices allowable (for example, inserting $i = 0$ into the above equation requires knowledge of $\\phi_{i-1} = \\phi_{-1}$). The numerical coefficients (i.e. excepting the factor of $(\\Delta x)^{-2}$) are known as <i><b>finite difference coefficients</b></i>. Our goal is to achieve an LTE of order 6 overall. Rather than attempt to eliminate the derivatives $\\partial_x^4 \\phi$ and $\\partial_x^6 \\phi$ by considering other stencil points, we instead replace the derivatives in terms of derivatives on $n$ which we can express in terms of finite differences of low order (hence a smaller stencil as compared to higher derivatives that directly appear, such as $\\partial_x^4\\phi$ and $\\partial_x^6\\phi$). Since these terms are multiplied by the terms $(\\Delta x)^2$ and $(\\Delta x)^4$, we only require an FD scheme for each term to be accurate up to an LTE of $O(\\Delta x^4)$ and $O(\\Delta x^2)$ so that an effective $O(\\Delta x^6)$ is achieved."
   ]
  },
  {
   "cell_type": "markdown",
   "metadata": {},
   "source": [
    "Hence, we see relate:\n",
    "\n",
    "\\begin{eqnarray*}\n",
    "\\partial_x^2\\phi_i & = & n_{ei} - n_0\\\\[1em]\n",
    "\\Rightarrow \\partial_x^4\\phi_i & = & \\partial_x^2 n_{e,i}, \\qquad n_0 = \\text{const} \\\\[1em]\n",
    "\\Rightarrow \\partial_x^6\\phi_i & = &\\partial_x^4 n_{e,i}\n",
    "\\end{eqnarray*}\n",
    "\n",
    "So, the above equation can be written as:\n",
    "\n",
    "$$\\frac{1}{(\\Delta x)^2}\\left(\\phi_{i+1} - 2\\phi_i + \\phi_{i-1}\\right) = (n_{e,i} - n_0) + \\frac{2}{4!}(\\Delta x)^2n_{e,i}^{(2)} + \\frac{2}{6!}(\\Delta x)^4n_{e,i}^{(4)} + O(\\Delta x^6) \\qquad \\qquad (\\, * \\, )$$"
   ]
  },
  {
   "cell_type": "markdown",
   "metadata": {},
   "source": [
    "We then require finite difference estimations with the LTE order requirements:\n",
    "\n",
    "$$LTE[n_{e,i}^{(2)}] = O(\\Delta x^4)$$\n",
    "\n",
    "and\n",
    "\n",
    "$$LTE[n_{e,i}^{(4)}] = O(\\Delta x^2)$$\n",
    "\n",
    "These schemes be obtained from literature (or otherwise derived or generated via script, cf. notebook \"Generation of families of explicit finite difference schemes for derivatives of any order of chosen LTE\", we elect to pursue this in the \"edge nodes\" subsection that follows). \n",
    "\n",
    "The left-hand side produces $N-2$ equations for $i = 1, 2, \\ldots , N-3, N-2$ that couple the equations with the potential function values ranging the entire domain: from $\\phi_{i-1}|_{i = 1} = \\phi_0$ to $\\phi_{i+1}|_{i = N-2} = \\phi_{N-1}$. The right-hand side now requires differencing in the density function, which for both derivatives, independent of scheme handedness (forward, backward, central), involves a 6-point stencil. Since central differencing are generally more accurate (as observed time and time again), we aim to use central difference inasmuch as possible. For the edge nodes, the central scheme would require knowledge of function values outside the grid, thus forward/backward schemes are required. <b>There are then three versions of eq. (*), which differ only in how the right-hand side is casted (central, forward, or backward differencing)</b>, the following subsections develop these versions."
   ]
  },
  {
   "cell_type": "markdown",
   "metadata": {},
   "source": [
    "### C.2.2.1. interior nodes (central differencing)\n",
    "\n",
    "\n",
    "\\begin{eqnarray*}\n",
    "n_{e,i}^{(2)} & = & \\frac{1}{12(\\Delta x^2)}\\left[-n_{e,i-2} + 16n_{e,i-1} - 30n_{e,i} + 16n_{e,i+1} - n_{e,i+2}\\right] + O(\\Delta x^4)\\\\[1em]\n",
    "n_{e,i}^{(4)} & = & \\frac{1}{(\\Delta x)^4}\\left[n_{e,i-2} - 4n_{e,i-1} + 6n_{e,i} - 4n_{e,i+1} + n_{e,i+2}\\right] + O(\\Delta x^2)\n",
    "\\end{eqnarray*}"
   ]
  },
  {
   "cell_type": "markdown",
   "metadata": {},
   "source": [
    "Substituting these into our current result above:\n",
    "\n",
    "\\begin{eqnarray*}\n",
    "\\frac{1}{(\\Delta x)^2}\\left(\\phi_{i+1} - 2\\phi_i + \\phi_{i-1}\\right) & = & n_{e,i} - n_0\\\\[1em]\n",
    "&& + \\frac{2}{4!}(\\Delta x)^2\\left[\\frac{1}{12(\\Delta x^2)}(-n_{i-2} + 16n_{i-1} - 30n_i + 16n_{i+1} - n_{i+2}) + O(\\Delta x^4)\\right] \\\\[1em]\n",
    "&& + \\frac{2}{6!}(\\Delta x)^4\\left[\\frac{1}{(\\Delta x)^4}(n_{i-2} - 4n_{i-1} + 6n_i - 4n_{i+1} + n_{i+2}) + O(\\Delta x^2)\\right] + O(\\Delta x^6)\n",
    "\\end{eqnarray*}"
   ]
  },
  {
   "cell_type": "markdown",
   "metadata": {},
   "source": [
    "collecting terms,\n",
    "\n",
    "\\begin{eqnarray*}\n",
    "\\frac{1}{(\\Delta x)^2}\\left(\\phi_{i+1} - 2\\phi_i + \\phi_{i-1}\\right) & = & -n_0\\\\[1em]\n",
    "&& + n_{e,i-2}\\left(-\\frac{2}{4!\\,12}(1) + \\frac{2}{6!}(1)\\right) \\\\[1em]\n",
    "&& + n_{e,i-1}\\left(\\frac{2}{4!\\,12}(16) - \\frac{2}{6!}(4)\\right) \\\\[1em]\n",
    "&& + n_{e,i}\\left(-\\frac{2}{4!\\,12}(30) + \\frac{2}{6!}(6) + 1\\right) \\\\[1em]\n",
    "&& + n_{e,i+1}\\left(\\frac{2}{4!\\,12}(16) - \\frac{2}{6!}(4)\\right) \\\\[1em]\n",
    "&& + n_{e,i+2}\\left(-\\frac{2}{4!\\,12}(1) + \\frac{2}{6!}(1)\\right) + O(\\Delta x^6)\n",
    "\\end{eqnarray*}"
   ]
  },
  {
   "cell_type": "markdown",
   "metadata": {},
   "source": [
    "or\n",
    "\n",
    "$$\\boxed{\\frac{1}{(\\Delta x)^2}\\left(\\phi_{i+1} - 2\\phi_i + \\phi_{i-1}\\right) = -n_0 - \\frac{1}{240}n_{e,i-2} + \\frac{1}{10}n_{e,i-1} + \\frac{97}{120}n_{e,i} + \\frac{1}{10}n_{e,i+1} - \\frac{1}{240}n_{e,i+2} + O(\\Delta x^6)}$$\n",
    "\n",
    "$$\\underline{\\text{interior nodes equations}}: \\quad i = 2, 3, \\ldots, N-4, N-3$$\n",
    "\n",
    "Where again, the restriction of the grid index is noted so that these equations do not require knowledge of any outside points. Thus, we have $N-4$ equations, 2 Dirichlet boundary conditions ($\\phi_0 = \\phi_a, \\, \\phi_{N-1} = \\phi_b$), totalling $N-2$ equations in $N$ unknowns. The two missing equations are the edge versions at $i = 1$, where the left-hand side requires use of $\\phi_{i-1} = \\phi_0$ and $i = N-2$ which involves $\\phi_{i+1} = \\phi_{N-1}$. This amounts to developing a consistent formulation for the right-hand side.\n",
    "\n",
    "We proceed in the same way but consider forward (backward) differencing for the left (right) edge grid points."
   ]
  },
  {
   "cell_type": "markdown",
   "metadata": {},
   "source": [
    "#### C.2.2.2. Left-edge node ('forward-1' differencing)\n",
    "\n",
    "Considering eq. (*) is valid for $i = 1, 2, \\ldots, N-2$, the left-edge node corresponds to $i = 1$ where the value $\\phi_{i-1} = \\phi_0$ is involved. Thus, for the differencing of $n$ we require using a 'forward-1' scheme, which samples grid points totally forward of the point $i = 1$ and one backward $i = 0$ (hence the nomenclature which has been used in previous in notebooks in abbreviated form (i.e. equivalent to 'forward 1'). We use the following script to generate the family of schemes required for the requisite LTE on $n$ (recall we require $LTE[n_{e,i}^{(2)} = O(\\Delta x^4)$ and $LTE[n_{e,i}^{(4)}] = O(\\Delta x^2)$)"
   ]
  },
  {
   "cell_type": "code",
   "execution_count": 4,
   "metadata": {
    "collapsed": false
   },
   "outputs": [
    {
     "name": "stdout",
     "output_type": "stream",
     "text": [
      "/home/dsirajud/Work/IPython-notebooks/DECSKS-04 -- Design of a 6th order FD Poisson solver/pyfiles/bin\n"
     ]
    }
   ],
   "source": [
    "cd pyfiles/bin/"
   ]
  },
  {
   "cell_type": "code",
   "execution_count": 5,
   "metadata": {
    "collapsed": false
   },
   "outputs": [],
   "source": [
    "import generate_tables_of_finite_difference_schemes_for_a_given_LTE\n",
    "\n",
    "generate_tables_of_finite_difference_schemes_for_a_given_LTE.main(dn = 2, LTE = 4)\n",
    "generate_tables_of_finite_difference_schemes_for_a_given_LTE.main(dn = 4, LTE = 2)"
   ]
  },
  {
   "cell_type": "markdown",
   "metadata": {},
   "source": [
    "These produce the files 'f2_LTE_4_FD_coefficients.dat', and 'f4_LTE_2_FD_coefficients.dat'. Viewing the files, which contain all schemes for all degrees of handedness for the specified derivative order and LTE, we report the forward 1 difference as outputted (note, will likely not be viewed with the given table formatting on static snapshots of this notebook, e.g. nbviewer gists. The curious reader is invited to run the notebook on github dsirajud/IPython-notebooks/Design of ....) and view the files for themselves for verification, or otherwise view the outputs contained within ./pyfiles/etc/ ."
   ]
  },
  {
   "cell_type": "markdown",
   "metadata": {},
   "source": [
    "    -------------------------\n",
    "    f^(2): forward 1\n",
    "    -------------------------\n",
    "    (weights, stencil)\n",
    "    0.83333, -1\n",
    "    -1.25000,  0\n",
    "    -0.33333,  1\n",
    "    1.16667,  2\n",
    "    -0.50000,  3\n",
    "    0.08333,  4\n",
    "    -------------------------"
   ]
  },
  {
   "cell_type": "markdown",
   "metadata": {},
   "source": [
    "    -------------------------\n",
    "    f^(4): forward 1\n",
    "    -------------------------\n",
    "    (weights, stencil)\n",
    "    2.00000, -1\n",
    "    -9.00000,  0\n",
    "    16.00000,  1\n",
    "    -14.00000,  2\n",
    "    6.00000,  3\n",
    "    -1.00000,  4\n",
    "    -------------------------"
   ]
  },
  {
   "cell_type": "markdown",
   "metadata": {},
   "source": [
    "Thus, we record the following schemes where we use the decimal representations outputted above whereafter we case these same numbers using the exact rational representations (the output above is truncated, we typically have access to 22 decimal places, which is sufficient to confidently converge on the exact fraction these numbers correspond to eitheir by inspection or through more intelligent engine lookup (e.g. Wolfram alpha). Also, for those obtainable in literature, we have tripled checked the rational representations are appropriate, though typically these schemes are not as available in literature as their pure forms (forward 0 scheme, etc.).\n",
    "\n",
    "$$n_{e,i}^{(2)} = \\frac{1}{(\\Delta x)^2}[ (0.833\\ldots ) n_{e,i-1} - 1.25 n_{e,i} - 0.\\bar{3} n_{e,i+1} + 1.1\\bar{6}n_{e,i+2} - 0.5n_{e,i+3} + 0.08\\bar{3}n_{e,i+4}] + O(\\Delta x^4)$$\n",
    "\n",
    "or,\n",
    "\n",
    "$$n_{e,i}^{(2)} = \\frac{1}{(\\Delta x)^2}\\left(\\frac{5}{6}n_{e,i-1} - \\frac{5}{4}n_{e,i} - \\frac{1}{3}n_{e,i+1} + 1.1\\bar{6}n_{e,i+2} - \\frac{1}{2}n_{e,i+3} + \\frac{1}{12}\\bar{3}n_{e,i+4}\\right) + O(\\Delta x^4)$$\n",
    "\n",
    "and, for the fourth derivative\n",
    "\n",
    "$$n_{e,i}^{(4)} = \\frac{1}{(\\Delta x)^4}(2n_{e,i-1} - 9 n_{e,i} + 16n_{e,i+1} - 14n_{e,i+2} + 6n_{e,i+3} - n_{e,i+4}) + O(\\Delta x^4)$$\n",
    "\n",
    "Inserting these into eq. (*) and letting $i = 1$, we develop its left-edge node version, correct to an LTE order of 6:\n",
    "\n",
    "\\begin{eqnarray*}\n",
    "\\frac{1}{(\\Delta x)^2}(\\phi_2 - 2\\phi_1 + \\phi_0) & = & n_{e,1}- n_0 \\\\[1em]\n",
    "&& + \\frac{2}{4!}\\left(\\frac{5}{6}n_{e,i-1} - \\frac{5}{4}n_{e,i} - \\frac{1}{3}n_{e,i+1} + 1.1\\bar{6}n_{e,i+2} - \\frac{1}{2}n_{e,i+3} + \\frac{1}{12}\\bar{3}n_{e,i+4}\\right) \\\\[1em]\n",
    "&& + \\frac{2}{6!}(2n_{e,i-1} - 9 n_{e,i} + 16n_{e,i+1} - 14n_{e,i+2} + 6n_{e,i+3} - n_{e,i+4}) + O(\\Delta x^6) \\\\[1.5em]\n",
    "& = & -n_0 \\\\[1em]\n",
    "& & + n_{e,0}\\left[\\frac{2}{4!}\\left(\\frac{5}{6}\\right) + \\frac{2}{6!}(2)\\right] \\\\[1em]\n",
    "& & + n_{e,1}\\left[1 + \\frac{2}{4!}\\left(-\\frac{5}{4}\\right) + \\frac{2}{6!}(-9)\\right] \\\\[1em]\n",
    "& & + n_{e,2}\\left[\\frac{2}{4!}\\left(-\\frac{1}{3}\\right) + \\frac{2}{6!}(16)\\right] \\\\[1em]\n",
    "& & + n_{e,3}\\left[\\frac{2}{4!}(1.1\\bar{6}) + \\frac{2}{6!}(-14)\\right] \\\\[1em]\n",
    "& & + n_{e,4}\\left[\\frac{2}{4!}\\left(-\\frac{1}{2}\\right) + \\frac{2}{6!}(6)\\right] \\\\[1em]\n",
    "& & + n_{e,5}\\left(\\frac{2}{4!}\\left(\\frac{1}{12}\\right) + \\frac{2}{6!}(-1)\\right] \\\\[1em]\n",
    "& & + O(\\Delta x^6)\n",
    "\\end{eqnarray*}\n",
    "\n",
    "or,\n",
    "\n",
    "$$\\boxed{\\frac{1}{(\\Delta x)^2}(\\phi_2 - 2\\phi_1 + \\phi_0) = -n_0 + \\frac{3}{40}n_{e,0} + \\frac{209}{240}n_{e,1} + \\frac{1}{60}n_{e,2} + \\frac{7}{120}n_{e,3} - \\frac{1}{40}n_{e,4} + \\frac{1}{240}n_{e,5} + O(\\Delta x^6)}$$\n",
    "\n",
    "$$\\underline{\\text{left-edge node equation}}$$\n"
   ]
  },
  {
   "cell_type": "markdown",
   "metadata": {},
   "source": [
    "#### C.2.2.3. Right-edge node ('backward+1' differencing)\n",
    "\n",
    "We now consider $i = N-2$ in eq. (*), which requires 'backward+1' schemes for the same derivatives. Reading the generated tables, we record the following difference coefficients for the relevant schemes needed:"
   ]
  },
  {
   "cell_type": "markdown",
   "metadata": {},
   "source": [
    "    -------------------------\n",
    "    f^(2): backward 1\n",
    "    -------------------------\n",
    "    (weights, stencil)\n",
    "    0.08333, -4\n",
    "    -0.50000, -3\n",
    "    1.16667, -2\n",
    "    -0.33333, -1\n",
    "    -1.25000,  0\n",
    "    0.83333,  1\n",
    "    -------------------------\n",
    "    \n",
    "    -------------------------\n",
    "    f^(4): backward 1\n",
    "    -------------------------\n",
    "    (weights, stencil)\n",
    "    -1.00000, -4\n",
    "    6.00000, -3\n",
    "    -14.00000, -2\n",
    "    16.00000, -1\n",
    "    -9.00000,  0\n",
    "    2.00000,  1\n",
    "    -------------------------"
   ]
  },
  {
   "cell_type": "markdown",
   "metadata": {},
   "source": [
    "Note, these are the same weights as in the forward scheme (this trend is true for all even number derivatives, for odd derivatives the weights can be seen to always be equal but opposite). Thus, we skip the decimal transcription and skip to the rational representations as above. Thus, relevant for $i = N-2$, we have:\n",
    "\n",
    "$$n_{e,i}^{(2)} = \\frac{1}{(\\Delta x)^2}\\left(\\frac{5}{6}n_{e,i+1} - \\frac{5}{4}n_{e,i} - \\frac{1}{3}n_{e,i-1} + 1.1\\bar{6}n_{e,i-2} - \\frac{1}{2}n_{e,i-3} + \\frac{1}{12}\\bar{3}n_{e,i-4}\\right) + O(\\Delta x^4)$$\n",
    "\n",
    "and, for the fourth derivative\n",
    "\n",
    "$$n_{e,i}^{(4)} = \\frac{1}{(\\Delta x)^4}(2n_{e,i+1} - 9 n_{e,i} + 16n_{e,i-1} - 14n_{e,i-2} + 6n_{e,i-3} - n_{e,i-4}) + O(\\Delta x^4)$$\n",
    "\n",
    "Inserting these into eq. (*), and writing $i = N-2$:\n",
    "\n",
    "\\begin{eqnarray*}\n",
    "\\frac{1}{(\\Delta x)^2}(\\phi_{N-1} - 2\\phi_{N-2} + \\phi_{N-3}) & = & n_{e,N-2}- n_0 \\\\[1em]\n",
    "&& + \\frac{2}{4!}\\left(\\frac{5}{6}n_{e,N-1} - \\frac{5}{4}n_{e,N-2} - \\frac{1}{3}n_{e,N-3} + 1.1\\bar{6}n_{e,N-4} - \\frac{1}{2}n_{e,N-5} + \\frac{1}{12}\\bar{3}n_{e,N-6}\\right) \\\\[1em]\n",
    "&& + \\frac{2}{6!}(2n_{e,N-1} - 9 n_{e,N-2} + 16n_{e,N-3} - 14n_{e,N-4} + 6n_{e,N-5} - n_{e,N-6}) + O(\\Delta x^6) \\\\[1.5em]\n",
    "& = & -n_0 \\\\[1em]\n",
    "& & + n_{e,N-1}\\left[\\frac{2}{4!}\\left(\\frac{5}{6}\\right) + \\frac{2}{6!}(2)\\right] \\\\[1em]\n",
    "& & + n_{e,N-2}\\left[1 + \\frac{2}{4!}\\left(-\\frac{5}{4}\\right) + \\frac{2}{6!}(-9)\\right] \\\\[1em]\n",
    "& & + n_{e,N-3}\\left[\\frac{2}{4!}\\left(-\\frac{1}{3}\\right) + \\frac{2}{6!}(16)\\right] \\\\[1em]\n",
    "& & + n_{e,N-4}\\left[\\frac{2}{4!}(1.1\\bar{6}) + \\frac{2}{6!}(-14)\\right] \\\\[1em]\n",
    "& & + n_{e,N-5}\\left[\\frac{2}{4!}\\left(-\\frac{1}{2}\\right) + \\frac{2}{6!}(6)\\right] \\\\[1em]\n",
    "& & + n_{e,N-6}\\left(\\frac{2}{4!}\\left(\\frac{1}{12}\\right) + \\frac{2}{6!}(-1)\\right] \\\\[1em]\n",
    "& & + O(\\Delta x^6)\n",
    "\\end{eqnarray*}\n",
    "\n",
    "or,\n",
    "\n",
    "$$\\boxed{\\frac{1}{(\\Delta x)^2}(\\phi_{N-1} - 2\\phi_{N-2} + \\phi_{N-3}) = -n_0 + \\frac{1}{240}n_{e,N-6} - \\frac{1}{40}n_{e,N-5}  + \\frac{1}{60}n_{e,N-3} + \\frac{7}{120}n_{e,N-4} + \\frac{209}{240}n_{e,N-2} + \\frac{3}{40}n_{e,N-1} + O(\\Delta x^6)}$$\n",
    "\n",
    "$$\\underline{\\text{right-edge node equation}}$$\n",
    "\n",
    "We note these coefficients are the same as obtained for the other boundary, but are flipped in order."
   ]
  },
  {
   "cell_type": "markdown",
   "metadata": {},
   "source": [
    "## C.3. Assembling the matrix equation for Dirichlet boundary conditions"
   ]
  },
  {
   "cell_type": "markdown",
   "metadata": {},
   "source": [
    "With the $N-2$ finite difference equations + 2 boundary conditions that are known a priori, we write several equations for various indices $i$ in order to clearly see the matrix take form, where for $i = 1$ ($i = N-2$) we use the left (right) edge versions of the FD equations, and for $i\\in [2, N-3]$ we use the central differencing equation. We omit the multiplicative prefactor $(\\Delta x)^{-2}$ on the left-hand side and incorporate it in the end.\n",
    "\n",
    "\\begin{eqnarray*}\n",
    "i = 0: & \\phi_0 & = \\phantom{-}\\phi_a \\\\[1em]\n",
    "i = 1: & \\phi_0 -2\\phi_1 + \\phi_2 & = -n_0 + \\frac{3}{40}n_{e,0} + \\frac{209}{240}n_{e,1} + \\frac{1}{60}n_{e,2} + \\frac{7}{120}n_{e,3} - \\frac{1}{40}n_{e,4} + \\frac{1}{240}n_{e,5} \\\\[1em]\n",
    "i = 2: & \\phi_1 -2\\phi_2 + \\phi_3 & = -n_0 - \\frac{1}{240}n_{e,0} + \\frac{1}{10}n_{e,1} + \\frac{97}{120}n_{e,2} + \\frac{1}{10}n_{e,3} - \\frac{1}{240}n_{e,4} \\\\[1em]\n",
    "i = 3: & \\phi_2 -2\\phi_3 + \\phi_4 & = -n_0 - \\frac{1}{240}n_{e,1} + \\frac{1}{10}n_{e,2} + \\frac{97}{120}n_{e,3} + \\frac{1}{10}n_{e,4} - \\frac{1}{240}n_{e,5} \\\\[2em]\n",
    "\\vdots \\\\[2em]\n",
    "i = N-4: & \\phi_{N-5} -2\\phi_{N-4} + \\phi_{N-3} & = -n_0 - \\frac{1}{240}n_{e,N-6} + \\frac{1}{10}n_{e,N-5} + \\frac{97}{120}n_{e,N-4} + \\frac{1}{10}n_{e,N-3} - \\frac{1}{240}n_{e,N-2} \\\\[1em]\n",
    "i = N-3: & \\phi_{N-4} -2\\phi_{N-3} + \\phi_{N-2} & = -n_0 - \\frac{1}{240}n_{e,N-5} + \\frac{1}{10}n_{e,N-4} + \\frac{97}{120}n_{e,N-3} + \\frac{1}{10}n_{e,N-2} - \\frac{1}{240}n_{e,N-1} \\\\[1em]\n",
    "i = N - 2: & \\phi_{N-3} - 2\\phi_{N-2} + \\phi_{N-1} & = -n_0 + \\frac{1}{240}n_{e,N-6} - \\frac{1}{40}n_{e,N-5} + \\frac{7}{120}n_{e,N-4} + \\frac{1}{60}n_{e,N-3} + \\frac{209}{240}n_{e,N-2} + \\frac{3}{40}n_{e,N-1} \\\\[1em]\n",
    "i = N-1: & \\phi_{N-1} & = \\phantom{-}\\phi_b\n",
    "\\end{eqnarray*}\n",
    "\n",
    "A matrix equation can be written down as:\n",
    "\n",
    "$$\\partial_x^2\\phi = n_e - n_0 \\qquad \\longrightarrow \\qquad \\boxed{\\underline{\\underline{D}}\\underline{\\phi} = \\underline{b}}$$\n",
    "\n",
    "where the differencing matrix $\\underline{\\underline{D}}$ (LH = \"left-hand\"),\n",
    "\n",
    "$$\\underline{\\underline{D}} = \\underline{\\underline{D}}_{N\\times N} = \\left( \\begin{array}{c}\n",
    "i = 0: \\, \\text{Dirichlet BC LH coefficient: } 1\\cdot\\phi_0 = \\phi_a \\\\\n",
    "i = 1: \\, \\text{left-edge node FD coefficients on }  \\{\\phi_j\\}\\\\\n",
    "i = 2: \\, \\text{interior nodes FD coefficients on }  \\{\\phi_j\\}\\\\\n",
    "i = 3: \\, \\text{interior nodes FD coefficients on }  \\{\\phi_j\\}\\\\\n",
    "\\vdots \\\\\n",
    "\\vdots \\\\\n",
    "\\vdots \\\\\n",
    "i = N-3: \\, \\text{interior nodes FD coefficients on }  \\{\\phi_j\\}\\\\\n",
    "i = N-2: \\, \\text{right-edge node FD coefficients on }  \\{\\phi_j\\}\\\\\n",
    "i = N-1: \\, \\text{Dirichlet BC LH coefficient: } 1\\cdot\\phi_{N-1} = \\phi_b \n",
    "\\end{array} \\right)\n",
    "= \\left( \\begin{array}{c c c c c c c c c}\n",
    "1 & 0 & 0 & \\cdots & \\cdots & \\cdots & \\cdots & \\cdots & \\cdots & 0 \\\\\n",
    "1 & -2 & 1 & 0 & \\cdots & \\cdots & \\cdots & \\cdots  & \\cdots & 0 \\\\\n",
    "0 & 1 & -2 & 1 & 0 & \\cdots & \\cdots & \\cdots &  \\cdots & 0 \\\\\n",
    "0 & 0 & 1 & -2 & 1 & 0 & \\cdots & \\cdots & \\cdots & 0\\\\\n",
    "\\vdots & \\vdots & 0 & \\ddots & \\ddots & \\ddots & 0 & \\cdots & \\cdots & 0\\\\\n",
    "\\vdots & \\vdots & \\vdots & 0 & \\ddots & \\ddots & \\ddots & 0 & \\cdots & 0\\\\\n",
    "\\vdots & \\vdots & \\vdots & \\vdots & 0 & \\ddots & \\ddots & \\ddots & 0 & 0 \\\\\n",
    "\\vdots & \\vdots & \\vdots & \\vdots & \\vdots & 0 & 1 & -2 & 1 & 0 \\\\\n",
    "\\vdots & \\vdots & \\vdots & \\vdots & \\vdots & \\vdots & 0 & 1 & -2 & 1 \\\\\n",
    "0 & 0 & 0 & 0 & 0 & 0 & 0 & 0 & 0 & 1 \n",
    "\\end{array} \\right)$$\n",
    "\n",
    "The matrix $\\underline{\\underline{D}}$ is not strongly diagonally dominant ($\\sum_{j\\neq i} |d_{ij}| \\ngtr |d_{ii}|$), but weakly diagonally dominant given the equality holds ($\\sum_{j\\neq i} |d_{ij}| = |d_{ii}|$ for all rows $i$ where the strict inequality is true for at least one other row.  Hence, the matrix is invertible (cf. Gershogorin circle theorem) and a unique solution exists. The unknown potential vector $\\underline{\\phi}$:\n",
    "\n",
    "$$\\underline{\\phi} = \\underline{\\phi}_{N\\times 1} = (\\phi_0, \\phi_1, \\ldots , \\phi_{N-2}, \\phi_{N-1})^T$$\n",
    "\n",
    "and the vector $\\underline{b}$ on the right-hand side is written as (for Dirichlet boundaries conditions [DBC]) as a sum of several terms:\n",
    "\n",
    "$$\\underline{b} = (\\Delta x)^2 (\\underline{\\underline{B}}_e\\underline{n}_e - \\underline{n}_0) + \\underline{\\phi}_{DBC}$$\n",
    "\n",
    "where\n",
    "\n",
    "$$\\underline{\\phi}_{DBC} = \\underline{\\phi}_{DBC,N\\times 1} = (\\phi_a, 0, 0, \\ldots, 0, 0, \\phi_b)^T$$\n",
    "\n",
    "and the densities:\n",
    "\n",
    "$$\\underline{n}_0 = n_0\\underline{1}_{N\\times 1}$$\n",
    "\n",
    "$$\\underline{n}_e = \\underline{n}_{e,N\\times 1} = (n_{e,0}, n_{e,1}, \\ldots , n_{e,N-2}, n_{e,N-1})^T$$\n",
    "\n",
    "\n",
    "$$\\underline{\\underline{B}}_e = \\underline{\\underline{B}}_{e,N\\times N} = \\left( \\begin{array}{c}\n",
    "i = 0: \\, \\text{Dirichlet BC equation: } n_e \\text{ not involved} \\ldots = \\underline{0} \\\\\n",
    "i = 1: \\, \\text{left-edge node FD coefficients on } \\{n_{e,j}\\}\\\\\n",
    "i = 2: \\, \\text{interior nodes FD coefficients on }  \\{n_{e,j}\\} \\\\\n",
    "i = 3: \\, \\text{interior nodes FD coefficients on }  \\{n_{e,j}\\} \\\\\n",
    "\\vdots \\\\\n",
    "\\vdots \\\\\n",
    "\\vdots \\\\\n",
    "i = N-3: \\, \\text{interior nodes FD coefficients on }  \\{n_{e,j}\\} \\\\\n",
    "i = N-2: \\, \\text{right-edge node FD coefficients on }  \\{n_{e,j}\\} \\\\\n",
    "i = N-1: \\, \\text{Dirichlet BC equation: } n_e \\text{ not involved} \\ldots = \\underline{0}\n",
    "\\end{array} \\right)\n",
    "$$\n",
    "\n",
    "so"
   ]
  },
  {
   "cell_type": "markdown",
   "metadata": {},
   "source": [
    "$$\\underline{\\underline{B}}_e = \\left( \\begin{array}{c c c c c c c c c c c c c c}\n",
    "0 &  0 &  0 &  0 &  0 &  0 &  0 &  \\cdots &  \\cdots & \\cdots & 0\\\\\n",
    "\\frac{3}{40} & \\frac{209}{240} & \\frac{1}{60} & \\frac{7}{120} & -\\frac{1}{40} & \\frac{1}{240} & 0 & \\cdots & \\cdots & \\cdots & 0\\\\\n",
    "-\\frac{1}{240} & \\frac{1}{10} & \\frac{97}{120} & \\frac{1}{10} & -\\frac{1}{240} & 0 & 0 & \\cdots & \\cdots & \\cdots & 0 \\\\\n",
    " 0 & -\\frac{1}{240} & \\frac{1}{10} & \\frac{97}{120} & \\frac{1}{10} & -\\frac{1}{240} & 0 & \\cdots & \\cdots & \\cdots & 0 \\\\\n",
    "0 & \\ddots & \\ddots & \\ddots & \\ddots & \\ddots & \\ddots & \\ddots & 0 & 0 & 0 \\\\\n",
    "\\vdots & 0  & \\ddots  & \\ddots & \\ddots & \\ddots & \\ddots & \\ddots & \\ddots & 0 & 0\\\\\n",
    "\\vdots & \\vdots & 0 & \\ddots & \\ddots & \\ddots & \\ddots & \\ddots & \\ddots & \\ddots & 0\\\\\n",
    "\\vdots & \\vdots & \\vdots & 0 & \\ddots & -\\frac{1}{240} & \\frac{1}{10} & \\frac{97}{120} & \\frac{1}{10} & -\\frac{1}{240} & 0\\\\\n",
    "\\vdots & \\vdots & \\vdots & \\vdots & 0 &  0 &  -\\frac{1}{240} & \\frac{1}{10} & \\frac{97}{120} & \\frac{1}{10} & -\\frac{1}{240} \\\\\n",
    "\\vdots & \\vdots & \\vdots & \\vdots & 0 & \\frac{1}{240} & -\\frac{1}{40} & \\frac{7}{120} & \\frac{1}{60} & \\frac{209}{240} & \\frac{3}{40} \\\\\n",
    "0 & 0 & 0 & 0 & 0 &  0&   0 &  0 &  0  &  0 &  0\\\\\n",
    "\\end{array} \\right)$$\n",
    "\n",
    "The matrix $\\underline{\\underline{D}}$ is clearly Hermitian, which by reflex suggests Cholesky factorization as a means to find its inverse if desired, alternatively (and more commonly) the matrix equation can be solved without the inverse by direct LU factorization (e.g. numpy.linalg.solve)."
   ]
  },
  {
   "cell_type": "markdown",
   "metadata": {},
   "source": [
    "## D. Numerical solution for Dirichlet boundary conditions when $n_i \\neq \\text{const}$\n",
    "\n",
    "Now, suppose the ion density $n_i(t,x)$ evolves alongside $n_e(t,x)$ according to transport equations (e.g. Vlasov equations for each species)\n",
    "\n",
    "$$\\partial_t f_e + v\\partial_x f_e = 0$$\n",
    "\n",
    "$$\\partial_t f_i + (m_e / m_i) v\\partial_x f_i = 0$$\n",
    "\n",
    "which are tied to the field (or potential) equation:\n",
    "\n",
    "$$\\partial_x^2\\phi = n_e - n_i$$\n",
    "\n",
    "where \n",
    "\n",
    "$$n_e = \\int_v dv \\, f_e(t,x,v), \\quad n_i = \\int_v dv \\, f_i(t,x,v)$$\n",
    "\n",
    "or, for compactness we can write\n",
    "\n",
    "$$\\partial_x^2\\phi = n, \\qquad \\qquad n = n_e - n_i$$\n",
    "\n",
    "The numerical solution to Poisson's equation takes the form:\n",
    "\n",
    "$$\\boxed{\\underline{\\underline{D}}\\underline{\\phi} = \\underline{b}}$$\n",
    "\n",
    "Where $\\underline{\\underline{D}}$, $\\underline{\\phi}$ are as defined in section C.3 for the case of Dirichlet boundary conditions (other forms to be included in a section F), but the right-hand side differs in that because the ion density is not constant, $n_i$ is differenced where its finite difference coefficients matrix $\\underline{\\underline{B}}_i = \\underline{\\underline{B}}_e \\equiv \\underline{\\underline{B}}$ as defined above.\n",
    "\n",
    "$$\\underline{b} = (\\Delta x)^2 (\\underline{\\underline{B}}_e\\underline{n}_e - \\underline{\\underline{B}}_i\\underline{n}_i) + \\underline{\\phi}_{DBC}$$\n",
    "\n",
    "or\n",
    "\n",
    "$$\\boxed{\\underline{b} = (\\Delta x)^2 \\underline{\\underline{B}}(\\underline{n}_e - \\underline{n}_i) + \\underline{\\phi}_{DBC}}$$\n",
    "\n",
    "for $\\underline{\\phi}_{DBC}$ as defined above in section C.3., and now $\\underline{n}_i = \\underline{n}_{i,N\\times 1} = (n_{i,0}, n_{i,1}, \\ldots , n_{i,N-2}, n_{i,N-1})^T$\n",
    "\n",
    "Thus, it is a simple matter to move from a constant background ion density to a density which evolves alongside the electron density."
   ]
  },
  {
   "cell_type": "markdown",
   "metadata": {},
   "source": [
    "The following is included as pyfiles/bin/Poisson_solver.py , we report the code here to be self-contained given the code cannot be long:"
   ]
  },
  {
   "cell_type": "markdown",
   "metadata": {},
   "source": [
    "### Poisson_6th.py code"
   ]
  },
  {
   "cell_type": "code",
   "execution_count": 6,
   "metadata": {
    "collapsed": false
   },
   "outputs": [],
   "source": [
    "import numpy as np\n",
    "import matplotlib.pyplot as plt\n",
    "import numpy.linalg as LA\n",
    "\n",
    "def Poisson_6th(n, Nx = 24, a = 0, b = 1, phi_a = 0, phi_b = 0):\n",
    "    \"\"\"6th order LTE finite difference Poisson solver for Dirichlet BCs\n",
    "       over the domain x in [a,b]\n",
    "       \n",
    "    inputs:\n",
    "    n -- (ndarray, ndim=1) density in Poisson's equation\n",
    "    Nx -- (int) number of grid points\n",
    "    phi_a -- (float) potential at left endpoint, x = a\n",
    "    phi_b -- (float) potential at right endpoint, x = b\n",
    "    \n",
    "    outputs:\n",
    "    phi -- (ndarray, ndim = 1) numerical solution to potential\n",
    "    \"\"\"\n",
    "    # domain parameters\n",
    "    dx = float(b - a) / (Nx - 1)\n",
    "    \n",
    "    # form the tensor objects involved in the numerical solution\n",
    "    #\n",
    "    #     d^2 phi = n --> D*phi = B*n + phi_BC\n",
    "\n",
    "    # Assemble FD coefficient matrix on phi: D\n",
    "    D = np.zeros([Nx,Nx])\n",
    "    for i in range(Nx):\n",
    "        if i == 0 or i == Nx-1:\n",
    "            D[i,i] = 1\n",
    "        else:\n",
    "            D[i,i-1] = 1\n",
    "            D[i,i] = -2\n",
    "            D[i,i+1] = 1\n",
    "\n",
    "    # Assemble FD coefficient matrix on n: B\n",
    "    B = np.zeros([Nx,Nx])\n",
    "    for i in range(Nx):\n",
    "        if i == 0:\n",
    "            B[i,i] = 0\n",
    "\n",
    "        elif i == 1:\n",
    "            B[i,i-1] = 3/40.\n",
    "            B[i,i] = 209/240.\n",
    "            B[i,i+1] = 1/60.\n",
    "            B[i,i+2] = 7/120.\n",
    "            B[i,i+3] = -1/40.\n",
    "            B[i,i+4] = 1/240.\n",
    "\n",
    "        elif i == Nx-1:\n",
    "            B[i,i] = 0\n",
    "\n",
    "        elif 1 < i < Nx-2:\n",
    "            B[i,i-2] = -1/240.\n",
    "            B[i,i-1] = 1/10.\n",
    "            B[i,i] = 97/120.\n",
    "            B[i,i+1] = 1/10.\n",
    "            B[i,i+2] = -1/240.\n",
    "\n",
    "        elif i == Nx-2:\n",
    "            B[i,i-4] = 1/240.\n",
    "            B[i,i-3] = -1/40.\n",
    "            B[i,i-2] = 7/120.\n",
    "            B[i,i-1] = 1/60.\n",
    "            B[i,i] = 209/240.\n",
    "            B[i,i+1] = 3/40.\n",
    "\n",
    "    # Dirichlet boundary conditions (DBC) vector\n",
    "    phi_DBC = np.zeros(Nx)\n",
    "    phi_DBC[0] = phi_a\n",
    "    phi_DBC[-1] = phi_b\n",
    "\n",
    "    # label the RHS a b = dx ** 2 * B*n + phi_DBC\n",
    "    b = dx ** 2 * B.dot(n) + phi_DBC\n",
    "\n",
    "    # solve D*phi = b\n",
    "    phi = LA.solve(D,b)\n",
    "\n",
    "    return phi"
   ]
  },
  {
   "cell_type": "markdown",
   "metadata": {},
   "source": [
    "# E. Convergence tests"
   ]
  },
  {
   "cell_type": "markdown",
   "metadata": {},
   "source": [
    "To prove the above scheme is 6th order in LTE, we choose a solution:\n",
    "\n",
    "$$\\phi (x) = \\sin (\\pi^2 x),\\qquad x\\in [0,1]$$\n",
    "\n",
    "Thus, the boundary values are \n",
    "\n",
    "<ol>\n",
    "<li> $\\phi (0) = \\phi_a = 0$\n",
    "<li> $\\phi (1) = \\phi_b = \\sin (\\pi^2)$\n",
    "</ol> \n",
    "\n",
    "Poisson's equation provides the density:\n",
    "\n",
    "$$\\partial_x^2\\phi = n, \\qquad n = n_e - n_i$$\n",
    "\n",
    "as the second derivative of this potential: $\\partial_x^2\\phi = \\partial_x^2[\\sin (\\pi^2 x)] = -\\pi^4 \\sin (\\pi^2 x)$, or $n = -\\pi^4\\sin (\\pi^2 x)$\n",
    "\n",
    "Thus, we assess the performance of the above solver to reproduce the chosen solution from the discrete problem:\n",
    "\n",
    "$$\\delta_x^2\\phi_i = -\\pi^4\\sin (\\pi^2 x_i), \\quad x_i\\in [0,1], \\qquad i = 0, 1, \\ldots , N_x-2, N_x-1$$\n",
    "\n",
    "$$L = 1 - 0, \\Delta x = L / (N_x - 1)$$\n",
    "\n",
    "and measure the accuracy of the solution and computing an observed order of accuracy\n",
    "\n",
    "$$\\text{order} = \\log_2 \\frac{||\\phi_{exact} - \\phi||_{\\ell^2,\\Delta x}}{||\\phi_{exact} - \\phi||_{\\ell^2,\\Delta x/2}}$$\n",
    "\n",
    "over meshes that are progressively halved, so that the the base-2 logarithm gives the order as $\\Delta x \\rightarrow 0$ as usual. Note, the $\\ell^2$ norm is the discrete analog of the $L^2$ norm as usual."
   ]
  },
  {
   "cell_type": "markdown",
   "metadata": {},
   "source": [
    "set up problem domain and exact solution"
   ]
  },
  {
   "cell_type": "code",
   "execution_count": 7,
   "metadata": {
    "collapsed": true
   },
   "outputs": [],
   "source": [
    "import numpy as np\n",
    "\n",
    "# grid setup\n",
    "a = 0.\n",
    "b = 1.\n",
    "L = b - a\n",
    "\n",
    "# the boundary values from phi_exact are seen to be:\n",
    "phi_a = 0\n",
    "phi_b = np.sin(np.pi**2)"
   ]
  },
  {
   "cell_type": "markdown",
   "metadata": {},
   "source": [
    "A convergence routine is stepped through to assess the fidelity and accuracy of the solver. We anticipate the error to drop off with a slope whose absolute value is 6 on a $\\log_2$ plot."
   ]
  },
  {
   "cell_type": "code",
   "execution_count": 8,
   "metadata": {
    "collapsed": false
   },
   "outputs": [
    {
     "name": "stdout",
     "output_type": "stream",
     "text": [
      "Nx12        error = 0.00123197       ----\n",
      "Nx24        error = 2.57342e-06       order = 8.90306\n",
      "Nx48        error = 3.33434e-08       order = 6.27014\n",
      "Nx96        error = 5.07454e-10       order = 6.03798\n",
      "Nx192        error = 7.68437e-12       order = 6.04521\n",
      "Nx384        error = 1.1931e-13       order = 6.00914\n",
      "Nx768        error = 3.31719e-14       order = 1.84668\n",
      "Nx1536        error = 1.73946e-13       order = -2.39061\n",
      "\n",
      "\n"
     ]
    }
   ],
   "source": [
    "%matplotlib inline\n",
    "import matplotlib.pyplot as plt\n",
    "import numpy as np\n",
    "\n",
    "Nx = [12, 24, 48, 96, 192, 384, 768, 1536]\n",
    "num_grids = len(Nx)\n",
    "\n",
    "error_norm = np.zeros(num_grids)\n",
    "orders = np.zeros(num_grids)\n",
    "\n",
    "for grid in range(num_grids):\n",
    "    # grid dependent parameters\n",
    "    dx = L / (Nx[grid] - 1)\n",
    "    x = np.linspace(a, b, Nx[grid]) # spacing dx = (b - a ) / (Nx - 1)\n",
    "    n = -np.pi**4 * np.sin(np.pi**2 * x)\n",
    "\n",
    "    phi = Poisson_6th(n, Nx = Nx[grid], phi_a = phi_a, phi_b = phi_b)\n",
    "    phi_exact = np.sin(np.pi**2 * x)\n",
    "    error_norm[grid] = LA.norm(phi_exact - phi,2) * np.sqrt(dx / L)\n",
    "\n",
    "    if grid == 0:\n",
    "        print \"Nx%d        error = %g       ----\" % (Nx[grid], error_norm[grid])\n",
    "    else:\n",
    "        orders[grid] = np.log2(error_norm[grid-1] / error_norm[grid])\n",
    "        print \"Nx%d        error = %g       order = %g\" % (Nx[grid], error_norm[grid], orders[grid])\n",
    "        \n",
    "print '\\n'"
   ]
  },
  {
   "cell_type": "markdown",
   "metadata": {},
   "source": [
    "The scheme shows convergence for a range $48 < N_x \\leq 384$, whereafter the error remains within very acceptable ranges ($10^{-13}$) for most anyone's needs. If we increasingly refine the mesh, as usual we will see the error increases on account of the finite precision of numerical arithmetic, this is expected and usual for finite difference schemes. \n",
    "\n",
    "For example, a mesh characterized by $N_x = 96$ is convergent, which produces a numerical approximation to the solution as follows:"
   ]
  },
  {
   "cell_type": "code",
   "execution_count": 9,
   "metadata": {
    "collapsed": false
   },
   "outputs": [
    {
     "data": {
      "image/png": "[encoded data removed]",
      "text/plain": [
       "<matplotlib.figure.Figure at 0x3cafed0>"
      ]
     },
     "metadata": {},
     "output_type": "display_data"
    }
   ],
   "source": [
    "%matplotlib inline\n",
    "import matplotlib.pyplot as plt\n",
    "import numpy as np\n",
    "\n",
    "Nx = 96\n",
    "x = np.linspace(a,b,Nx)\n",
    "\n",
    "n = -np.pi**4 * np.sin(np.pi**2 * x)\n",
    "\n",
    "phi = Poisson_6th(n, Nx = Nx, phi_a = 0, phi_b = np.sin(np.pi**2))\n",
    "phi_exact = np.sin(np.pi**2 * x)\n",
    "\n",
    "plt.plot(x, phi_exact, label = 'exact', linewidth = 5)\n",
    "plt.hold('on')\n",
    "plt.plot(x, phi, label = '$N_x = %d$' % Nx, marker = 'o', linewidth = 2)\n",
    "plt.hold('off')\n",
    "\n",
    "plt.xlabel('$x$')\n",
    "plt.ylabel(r'$\\phi = \\phi (x)$')\n",
    "plt.title('6th order FD numerical solution for $\\phi$ from $\\partial_x^2\\phi = n$')\n",
    "\n",
    "plt.legend(loc = 'best')\n",
    "plt.grid('on')"
   ]
  },
  {
   "cell_type": "markdown",
   "metadata": {},
   "source": [
    "# F. Solvers for different boundary conditions (constant background $n_0$)"
   ]
  },
  {
   "cell_type": "markdown",
   "metadata": {},
   "source": [
    "## F.1 Periodic boundary conditions (PBCs)\n",
    "\n",
    "We consider the problem:\n",
    "\n",
    "$$\\partial_x^2\\phi = n_e - n_i, \\quad x\\in [a,b]\\subset \\mathbb{R}\\times\\mathbb{R}$$\n",
    "\n",
    "the numerical solution can be modeled as a matrix problem similar to in section C.\n",
    "\n",
    "$$\\underline{\\underline{D}}\\underline{\\phi} = \\underline{b}$$\n",
    "\n",
    "where $\\underline{\\phi} = (\\phi_0, \\phi_1, \\ldots , \\phi_{N - 1})$, and the $N$ gridpoints $x_i$ constitute the mesh $\\mathcal{M}_h = \\{\\cup_i x_i \\,\\colon \\, x_i\\in [a,b]\\, \\forall i \\in \\mathbb{Z}\\}$ in our 0-base indexing. Given the periodicity, the differences equation $(*)$:\n",
    "\n",
    "$$\\frac{1}{(\\Delta x)^2}\\left(\\phi_{i+1} - 2\\phi_i + \\phi_{i-1}\\right) = n_i + \\frac{2}{4!}(\\Delta x)^2n_{e,i}^{(2)} + \\frac{2}{6!}(\\Delta x)^4n_{e,i}^{(4)} + O(\\Delta x^6) \\qquad \\qquad (\\, * \\, )$$\n",
    "\n",
    "can be applied for all nodal equations $i$ since off-grid quantities ($\\phi_{-1}, \\phi_N$) are related to on-grid data in a known way. Thus, in the above we do not require \"edge\" versions of finite differences to sidestep off-grid terms in our finite differencing, even for the right-hand side in differencing the density $n$. <b>That is to say, the interior nodes differencing equation at the conclusion of section C.2.2 can be used for all nodes in the domain in the periodic case</b> \n",
    "\n",
    "The aforementioned differenced equation from section C.2.2 is:\n",
    "\n",
    "$$\\frac{1}{(\\Delta x)^2}\\left(\\phi_{i+1} - 2\\phi_i + \\phi_{i-1}\\right) = -n_0 - \\frac{1}{240}n_{e,i-2} + \\frac{1}{10}n_{e,i-1} + \\frac{97}{120}n_{e,i} + \\frac{1}{10}n_{e,i+1} - \\frac{1}{240}n_{e,i+2} + O(\\Delta x^6), \\quad i = 0, 1, \\ldots , N - 1$$\n",
    "\n",
    "For a grid $i = 0, 1, \\ldots , N-1$ ($N$ gridpoints) we understand we require only updating one of the endpoints (say, $i = 0$), the other endpoint is completed at each time step by periodic enforcement (at $i = N-1$). \n",
    "\n",
    "\\begin{eqnarray*}\n",
    "\\phi_{N-1} & = & \\phi_0\\\\\n",
    "\\text{and} &&\\\\\n",
    "n_{N-1} & = & n_0\n",
    "\\end{eqnarray*}\n",
    "\n",
    "Similarly,\n",
    "\n",
    "\\begin{eqnarray*}\n",
    "\\phi_{-1} & = & \\phi_{N-2}\\\\\n",
    "\\phi_{N} & = & \\phi_1\\\\\n",
    "&& \\\\\n",
    "n_{-2} & = & n_{N-3} \\\\\n",
    "n_{-1} & = & n_{N-2} \\\\\n",
    "n_N & = & n_1 \\\\\n",
    "n_{N+1} & = & n_2 \n",
    "\\end{eqnarray*}\n",
    "\n",
    "To clearly discern the forms of the matrices above, we write equations for several gridpoints. We omit the multiplicative prefactor $(\\Delta x)^{-2}$ on the left-hand side and incorporate it in the end.\n",
    "\n",
    "\\begin{eqnarray*}\n",
    "i = 0: & \\phi_1 - 2\\phi_0 + \\phi_{N-2} & = -n_0 - \\frac{1}{240}n_{e,N-3} + \\frac{1}{10}n_{e,N-2} + \\frac{97}{120}n_{e,0} + \\frac{1}{10}n_{e,1} - \\frac{1}{240}n_{e,2}  \\\\[1em]\n",
    "i = 1: & \\phi_0 -2\\phi_1 + \\phi_2 & = -n_0 - \\frac{1}{240}n_{e,N-2} + \\frac{1}{10}n_{e,0} + \\frac{97}{120}n_{e,1} + \\frac{1}{10}n_{e,2} - \\frac{1}{240}n_{e,3}  \\\\[1em]\n",
    "i = 2: & \\phi_1 -2\\phi_2 + \\phi_3 & = -n_0 - \\frac{1}{240}n_{e,0} + \\frac{1}{10}n_{e,1} + \\frac{97}{120}n_{e,2} + \\frac{1}{10}n_{e,3} - \\frac{1}{240}n_{e,4} \\\\[1em]\n",
    "i = 3: & \\phi_2 -2\\phi_3 + \\phi_4 & = -n_0 - \\frac{1}{240}n_{e,1} + \\frac{1}{10}n_{e,2} + \\frac{97}{120}n_{e,3} + \\frac{1}{10}n_{e,4} - \\frac{1}{240}n_{e,5} \\\\[2em]\n",
    "\\vdots \\\\[2em]\n",
    "i = N-4: & \\phi_{N-5} -2\\phi_{N-4} + \\phi_{N-3} & = -n_0 - \\frac{1}{240}n_{e,N-6} + \\frac{1}{10}n_{e,N-5} + \\frac{97}{120}n_{e,N-4} + \\frac{1}{10}n_{e,N-3} - \\frac{1}{240}n_{e,N-2} \\\\[1em]\n",
    "i = N-3: & \\phi_{N-4} -2\\phi_{N-3} + \\phi_{N-2} & = -n_0 - \\frac{1}{240}n_{e,N-5} + \\frac{1}{10}n_{e,N-4} + \\frac{97}{120}n_{e,N-3} + \\frac{1}{10}n_{e,N-2} - \\frac{1}{240}n_{e,0} \\\\[1em]\n",
    "i = N - 2: & \\phi_{N-3} - 2\\phi_{N-2} + \\phi_{0} & = -n_0 - \\frac{1}{240}n_{e,N-4} + \\frac{1}{10}n_{e,N-3} + \\frac{97}{120}n_{e,N-2} + \\frac{1}{10}n_{e,0} - \\frac{1}{240}n_{e,1}\n",
    "\\end{eqnarray*}\n",
    "\n",
    "The left-hand side reveals $\\underline{\\underline{D}}$:\n",
    "\n",
    "$$\\underline{\\underline{D}}_{(N-1)\\times (N-1)} = \\left( \\begin{array}{c c c c c c c c c}\n",
    "-2 & 1 & 0 & \\cdots & \\cdots & \\cdots & \\cdots & \\cdots & \\cdots & 1 \\\\\n",
    "1 & -2 & 1 & 0 & \\cdots & \\cdots & \\cdots & \\cdots  & \\cdots & 0 \\\\\n",
    "0 & 1 & -2 & 1 & 0 & \\cdots & \\cdots & \\cdots &  \\cdots & 0 \\\\\n",
    "0 & 0 & 1 & -2 & 1 & 0 & \\cdots & \\cdots & \\cdots & 0\\\\\n",
    "\\vdots & \\vdots & 0 & \\ddots & \\ddots & \\ddots & 0 & \\cdots & \\cdots & 0\\\\\n",
    "\\vdots & \\vdots & \\vdots & 0 & \\ddots & \\ddots & \\ddots & 0 & \\cdots & 0\\\\\n",
    "\\vdots & \\vdots & \\vdots & \\vdots & 0 & \\ddots & \\ddots & \\ddots & 0 & 0 \\\\\n",
    "\\vdots & \\vdots & \\vdots & \\vdots & \\vdots & 0 & 1 & -2 & 1 & 0 \\\\\n",
    "\\vdots & \\vdots & \\vdots & \\vdots & \\vdots & \\vdots & 0 & 1 & -2 & 1 \\\\\n",
    "1 & 0 & 0 & 0 & 0 & 0 & 0 & 0 & 1 & -2\n",
    "\\end{array} \\right)$$\n",
    "\n",
    "which is a <i>circulant</i> matrix, whose eigenvalues $\\lambda_j$ ($j = 0, 1, \\ldots , N-2 $) are given by:\n",
    "\n",
    "$$\\lambda_j = c_0 + c_{N-2}\\omega_j + c_{N-3}\\omega_j^2 + \\ldots + c_1\\omega_j^{N-2}$$\n",
    "\n",
    "where $\\omega_j = \\exp (2\\pi i j / (N-1) )$ is the $j$th root of unity and\n",
    "\n",
    "$$c_j = \\begin{cases}\n",
    "-2 & j = 0\\\\\n",
    "&\\\\\n",
    "1 & j = N-2, 1\\\\\n",
    "& \\\\\n",
    "0 & \\text{else}\n",
    "\\end{cases}\n",
    "$$\n",
    "\n",
    "so that the eigenvalues are \n",
    "\n",
    "$$\\lambda_j = -2 + \\omega_j + \\omega_j^{N-2} = -2 + \\exp \\left(\\frac{2\\pi i j}{N-1}\\right) + \\exp \\left(2\\pi i j\\frac{N - 2}{N - 1}\\right)$$\n",
    "\n",
    "Thus, zero is an eigenvalue ($j = 0$) and the matrix is not invertible, so there are infinitely many solutions to the equation and the solution must be solved through means that do not involve finding an explicit inverse of the matrix. The right-hand side can be casted similar to before:\n",
    "\n",
    "$$\\underline{b}_{(N-1)\\times 1} = \\underline{\\underline{B}}_{e,(N-1)\\times (N-1)}\\underline{n}_{e,(N-1)\\times 1} - \\underline{n}_{0,(N-1)\\times 1}, \\qquad \\underline{n}_0 = \\underline{1}_{(N-1)\\times 1}n_0$$\n",
    "\n",
    "then\n",
    "\n",
    "$$\\underline{\\underline{B}}_{e,(N-1)\\times (N-1)} = \\left( \\begin{array}{c c c c c c c c c c c c c c}\n",
    "\\frac{97}{120} & \\frac{1}{10} & -\\frac{1}{240} & 0 &  0 &  0 &    \\cdots &  0 & -\\frac{1}{240} & \\frac{1}{10}\\\\\n",
    "\\frac{1}{10} & \\frac{97}{120} & \\frac{1}{10} & 0 & \\cdots  & \\cdots & \\cdots & \\cdots & 0 & -\\frac{1}{240}\\\\\n",
    "-\\frac{1}{240} & \\frac{1}{10} & \\frac{97}{120} & \\frac{1}{10} & -\\frac{1}{240} & 0 & \\cdots & \\cdots & \\cdots & 0 \\\\\n",
    "0 & -\\frac{1}{240} & \\frac{1}{10} & \\frac{97}{120} & \\frac{1}{10} & -\\frac{1}{240} & 0 & \\cdots & \\cdots & 0 \\\\\n",
    "\\vdots & 0 & \\ddots & \\ddots & \\ddots & \\ddots & \\ddots & 0 & \\cdots & 0 \\\\\n",
    "\\vdots  & \\vdots  & 0 & \\ddots & \\ddots & \\ddots & \\ddots & \\ddots & 0 & 0\\\\\n",
    "\\vdots & \\vdots & \\vdots & 0 & \\ddots & \\ddots & \\ddots & \\ddots & \\ddots & 0\\\\\n",
    "0 & \\vdots & \\vdots & \\vdots &  0 &  -\\frac{1}{240} & \\frac{1}{10} & \\frac{97}{120} & \\frac{1}{10} & -\\frac{1}{240} \\\\\n",
    "-\\frac{1}{240} & \\vdots & \\vdots & \\vdots & \\vdots & 0 & -\\frac{1}{240} & \\frac{1}{10} & \\frac{97}{120} & \\frac{1}{10} \\\\\n",
    "\\frac{1}{10} & -\\frac{1}{240} & 0 & 0 &  0  & 0 & 0 &  -\\frac{1}{240} &  \\frac{1}{10} &  \\frac{97}{120}  \\\\\n",
    "\\end{array} \\right)$$\n",
    "\n",
    "So, Poisson's equation for a constant background density $n_0$ and an evolved density $n_e$ for electrons is solved numerically according to the matrix equation in terms of the $N-1$ unknowns $i = 0, 1, \\ldots , N-2$:\n",
    "\n",
    "$$\\underline{\\underline{D}}_{(N-1)\\times (N-1)} \\underline{\\phi}_{(N-1)\\times 1} = (\\Delta x)^2\\underline{\\underline{B}}_{e,(N-1)\\times (N-1)}\\cdot \\underline{n}_e - (\\Delta x)^2\\underline{n_0}$$\n",
    "\n",
    "and then enforcing\n",
    "\n",
    "$$\\phi_{N-1} = \\phi_0$$\n",
    "\n",
    "per periodic boundary condition to complete the solution vector for all $N$ gridpoints. Note that since the potential is periodic, the inhomogeneity $\\underline{\\phi}_{DBC}$ is restricted only inasmuch as the definition $\\phi_0 = \\phi_{N-1}$, thus, we are free to set any value to these. We elect to assign the zero value, so that $\\underline{\\phi}_{DBC} = \\underline{0}$."
   ]
  },
  {
   "cell_type": "markdown",
   "metadata": {},
   "source": [
    "## F.1.1 Convergence test\n",
    "\n",
    "For the trial density: \n",
    "\n",
    "$$n_e - n_0 \\equiv n = -4\\pi^2 \\sin (2\\pi x), \\quad x\\in [0, 1]$$\n",
    "\n",
    "Note, that as discussed before the periodic Poisson problem does not have a solution unless $\\langle n \\rangle = 0$, which is guaranteed by this choice of density. Assert the periodic boundary conditions (PBCs):\n",
    "\n",
    "$$\\phi (0) = \\phi (1)$$\n",
    "\n",
    "the exact solution per $\\partial_x^2\\phi = n$, is found as\n",
    "\n",
    "\\begin{eqnarray*}\n",
    "\\int dx \\frac{\\partial^2 \\phi}{\\partial x^2} & = & -\\int dx \\pi^2 \\sin (2\\pi x)   \\\\\n",
    "&&\\\\\n",
    "\\partial_x\\phi & = & 2\\pi\\cos (2\\pi x) + C \n",
    "\\end{eqnarray*}\n",
    "\n",
    "so\n",
    "\n",
    "\\begin{eqnarray*}\n",
    "\\int dx \\frac{\\partial\\phi}{\\partial x} & = & \\int dx \\left( 2\\pi\\cos (2\\pi x) + C\\right) \\\\\n",
    "\\phi (x) & = & \\sin (2 \\pi x) + Cx + D \\\\\n",
    "\\end{eqnarray*}\n",
    "\n",
    "Applying the boundary condition:\n",
    "\n",
    "$$\\phi (0) = D$$\n",
    "\n",
    "and\n",
    "\n",
    "$$\\phi (1) = C + D$$\n",
    "\n",
    "we have $\\phi (0) = \\phi (1)$ or $D = C + D \\Rightarrow 0 = C$, thus $C = 0$. Thus, we have\n",
    "\n",
    "$$\\phi (x) = \\sin (2\\pi x) + D$$\n",
    "\n",
    "where $D\\in\\mathbb{R}$ admits parameter family of solutions for any $D$. In this situation, we know since $\\langle n \\rangle = 0$, that $\\langle \\phi \\rangle = 0$, i.e. $\\langle \\phi\\rangle = \\langle\\sin (2\\pi x) + D\\rangle = 0 + D$, thus $D = 0$, so the final solution is:\n",
    "\n",
    "$$\\phi (x) = \\sin (2\\pi x)$$\n",
    "\n",
    "This is also the situation in plasmas that we aim to simulate (quasineutrality). We use the above solver to see if the Poisson problem for the above density and periodic BCs can reproduce this solution adequately to the designed convergence rate (order 6)."
   ]
  },
  {
   "cell_type": "markdown",
   "metadata": {},
   "source": [
    "## F.1.2 PBC 6th order Poisson solver code ($n_0 = \\text{const}$)"
   ]
  },
  {
   "cell_type": "markdown",
   "metadata": {},
   "source": [
    "### Poisson_PBC_6th.py"
   ]
  },
  {
   "cell_type": "code",
   "execution_count": 69,
   "metadata": {
    "collapsed": false
   },
   "outputs": [],
   "source": [
    "import numpy as np\n",
    "import matplotlib.pyplot as plt\n",
    "\n",
    "def Poisson_PBC_6th(n, Nx = 24, a = 0, b = 1):\n",
    "    \"\"\"6th order LTE finite difference Poisson solver for Dirichlet BCs\n",
    "\n",
    "    inputs:\n",
    "    n -- (ndarray, ndim=1), len(n) = Nx-1, i.e. size active domain \n",
    "    Nx -- (int) number of grid points\n",
    "    a -- (float) left boundary of x-domain\n",
    "    b -- (float) right boundary of x-domain\n",
    "                          \n",
    "    outputs:\n",
    "    error -- (float) L2 norm\n",
    "    x -- (ndarray, ndim = 1) mesh points (abscissa)\n",
    "    phi -- (ndarray, ndim = 1) numerical solution to potential\n",
    "    phi_exact -- (ndarray, ndim = 1) exact solution (chosen)\n",
    "    \"\"\"\n",
    "    # domain parameters\n",
    "    L = float(b - a)\n",
    "    dx = L / (Nx - 1)    \n",
    "        \n",
    "    # form the tensor objects involved in the numerical solution\n",
    "    #\n",
    "    #     d^2 phi = n --> D*phi = B*n + phi_BC\n",
    "    \n",
    "    # Assemble FD coefficient matrix on phi: D\n",
    "    D = np.zeros([Nx-1,Nx-1])\n",
    "    for i in range(Nx-1):\n",
    "        if i == 0:\n",
    "            D[i,i] = -2\n",
    "            D[i,i+1] = 1\n",
    "            D[i,Nx-2] = 1\n",
    "            \n",
    "        elif i == Nx-2:\n",
    "            D[i,i] = -2\n",
    "            D[i,i-1] = 1\n",
    "            D[i,0] = 1\n",
    "        else:\n",
    "            D[i,i-1] = 1\n",
    "            D[i,i] = -2\n",
    "            D[i,i+1] = 1\n",
    "\n",
    "    # Assemble FD coefficient matrix on n: B\n",
    "    B = np.zeros([Nx-1,Nx-1])\n",
    "    for i in range(Nx-1):\n",
    "        if i == 0:\n",
    "            B[i,Nx-3] = -1/240.\n",
    "            B[i,Nx-2] = 1/10.\n",
    "            B[i,i] = 97/120.\n",
    "            B[i,i+1] = 1/10.\n",
    "            B[i,i+2] = -1/240.\n",
    "\n",
    "        elif i == 1:\n",
    "            B[i,Nx-2] = -1/240.\n",
    "            B[i,i-1] = 1/10.\n",
    "            B[i,i] = 97/120.\n",
    "            B[i,i+1] = 1/10.\n",
    "            B[i,i+2] = -1/240.\n",
    "\n",
    "        elif 1 < i < Nx-3:\n",
    "            B[i,i-2] = -1/240.\n",
    "            B[i,i-1] = 1/10.\n",
    "            B[i,i] = 97/120.\n",
    "            B[i,i+1] = 1/10.\n",
    "            B[i,i+2] = -1/240.\n",
    "\n",
    "        elif i == Nx-3:\n",
    "            B[i,i-2] = -1/240.\n",
    "            B[i,i-1] = 1/10.\n",
    "            B[i,i] = 97/120.\n",
    "            B[i,i+1] = 1/10.\n",
    "            B[i,0] = -1/240.\n",
    "\n",
    "        elif i == Nx-2:\n",
    "            B[i,i-2] = -1/240.\n",
    "            B[i,i-1] = 1/10.\n",
    "            B[i,i] = 97/120.\n",
    "            B[i,0] = 1/10.\n",
    "            B[i,1] = -1/240.\n",
    "\n",
    "    # label the RHS a b = dx ** 2 * B*n, here n[Nx-1] = n[0] not included so len(n) = Nx-1\n",
    "    b = dx ** 2 * B.dot(n)\n",
    "\n",
    "    # solve D*phi = b\n",
    "    phi = LA.solve(D,b)\n",
    "    phi_total = np.zeros(Nx)\n",
    "    phi_total[:Nx-1] = phi\n",
    "    \n",
    "    # periodic BC\n",
    "    phi_total[Nx-1] = phi[0]\n",
    "    \n",
    "    # PBCs do not produce unique solutions but a family of solutions with arbitrary integration constant\n",
    "    # C = phi_avg over active region i = 0, 1, ... , Nx - 2\n",
    "    \n",
    "    phi_avg = np.sum(phi_total[:Nx-1])*dx / L \n",
    "\n",
    "    phi_total -= phi_avg\n",
    "\n",
    "    return phi_total"
   ]
  },
  {
   "cell_type": "markdown",
   "metadata": {},
   "source": [
    "## F.1.2.a Convergence test"
   ]
  },
  {
   "cell_type": "code",
   "execution_count": 70,
   "metadata": {
    "collapsed": false
   },
   "outputs": [
    {
     "data": {
      "image/png": "[encoded data removed]",
      "text/plain": [
       "<matplotlib.figure.Figure at 0x78b0bd0>"
      ]
     },
     "metadata": {},
     "output_type": "display_data"
    }
   ],
   "source": [
    "%matplotlib inline\n",
    "import matplotlib.pyplot as plt\n",
    "import numpy as np\n",
    "\n",
    "Nx = 512\n",
    "a,b = 0, 1\n",
    "x = np.linspace(a,b,Nx)\n",
    "\n",
    "n = -4*np.pi**2 * np.sin(2*np.pi * x[:Nx-1]) # excepting right endpoint, since n[Nx-1] = n[0]\n",
    "phi_exact = np.sin(2*np.pi*x) # over all x\n",
    "\n",
    "phi = Poisson_PBC_6th(n, Nx = Nx)\n",
    "plt.plot(x, phi_exact, label = 'exact', linewidth = 2)\n",
    "plt.hold('on')\n",
    "plt.plot(x, phi, label = '$N_x = %d$' % Nx, marker = 'o', linewidth = 2)\n",
    "plt.hold('off')\n",
    "\n",
    "plt.xlabel('$x$')\n",
    "plt.ylabel(r'$\\phi = \\phi (x)$')\n",
    "plt.title('6th order PBC FD numerical solution for $\\phi$ from $\\partial_x^2\\phi = n$')\n",
    "\n",
    "plt.legend(loc = 'best')\n",
    "plt.grid('on')"
   ]
  },
  {
   "cell_type": "markdown",
   "metadata": {},
   "source": [
    "Thus, the solve produces a periodic potential correct up to an additive constant. This is expected $\\lambda = 0$ is an eigenvalue and the solution expressed in terms of its eigenbasis $\\phi \\sim \\sum_k v_k e^{\\lambda_k x}$ necessarily has an offset term at $\\lambda_k = 0$ whose value is not uniquely enforced in the above through any boundary value, rather this value is only maintained to be equal to that of the other endpoint one period away from the other. Since this offset is unrestrained, the code chooses to center it about $\\phi = 0$ by subtracting out the average value over the evolved gridpoints $i = 0, 1, \\ldots , N-2$. Note, it is improper to subtract out the average over all gridpoints $i = 0, 1, \\ldots, N-1$, as the final node does not strictly belong to the periodic cell, but is shared with the imagined adjacent cell (a full period spans $i = 0,1, \\ldots , N -2$. That is, a periodic domain is extended over $(-\\infty , \\infty)$ by tesselating these cells and the period is $N - 1$ by construction, not $N$. This was a choice in the bookkeeping so that we can, for example, refer to $N$ nodes rather than $N+1$. The convention where $N+1$ nodes with period $N$ is also widely used throughout literature, perhaps even more often."
   ]
  },
  {
   "cell_type": "markdown",
   "metadata": {},
   "source": [
    "The convergence is shown as before:"
   ]
  },
  {
   "cell_type": "code",
   "execution_count": 71,
   "metadata": {
    "collapsed": false
   },
   "outputs": [
    {
     "name": "stdout",
     "output_type": "stream",
     "text": [
      "Nx24        error = 1.50516e-07       ----\n",
      "Nx48        error = 2.06842e-09       order = 6.18524\n",
      "Nx96        error = 3.03337e-11       order = 6.09147\n",
      "Nx192        error = 4.72383e-13       order = 6.00482\n",
      "Nx384        error = 7.19179e-15       order = 6.03746\n",
      "Nx768        error = 6.00248e-14       order = -3.06114\n",
      "Nx1536        error = 3.88303e-13       order = -2.69355\n",
      "\n",
      "\n"
     ]
    },
    {
     "data": {
      "text/plain": [
       "[<matplotlib.lines.Line2D at 0x47df050>]"
      ]
     },
     "execution_count": 71,
     "metadata": {},
     "output_type": "execute_result"
    },
    {
     "data": {
      "image/png": "[encoded data removed]",
      "text/plain": [
       "<matplotlib.figure.Figure at 0x4d11d50>"
      ]
     },
     "metadata": {},
     "output_type": "display_data"
    }
   ],
   "source": [
    "%matplotlib inline\n",
    "import matplotlib.pyplot as plt\n",
    "import numpy as np\n",
    "import numpy.linalg as LA\n",
    "\n",
    "Nx = [24, 48, 96, 192, 384, 768, 1536]\n",
    "num_grids = len(Nx)\n",
    "\n",
    "error_norm = np.zeros(num_grids)\n",
    "orders = np.zeros(num_grids)\n",
    "\n",
    "for grid in range(num_grids):\n",
    "    # grid dependent parameters\n",
    "    dx = L / (Nx[grid] - 1)\n",
    "    x = np.linspace(a, b, Nx[grid]) # spacing dx = (b - a ) / (Nx - 1)\n",
    "    n = -4*np.pi**2 * np.sin(2*np.pi * x[:Nx[grid]-1])\n",
    "\n",
    "    phi = Poisson_PBC_6th(n, Nx = Nx[grid])\n",
    "    phi_exact = np.sin(2 * np.pi * x)\n",
    "    error_norm[grid] = LA.norm(phi_exact - phi,2) * np.sqrt(dx / L)\n",
    "\n",
    "    if grid == 0:\n",
    "        print \"Nx%d        error = %g       ----\" % (Nx[grid], error_norm[grid])\n",
    "    else:\n",
    "        orders[grid] = np.log2(error_norm[grid-1] / error_norm[grid])\n",
    "        print \"Nx%d        error = %g       order = %g\" % (Nx[grid], error_norm[grid], orders[grid])\n",
    "        \n",
    "print '\\n'\n",
    "\n",
    "plt.plot(x, phi, '-o')\n",
    "plt.hold('on')\n",
    "plt.plot(x,phi_exact)"
   ]
  },
  {
   "cell_type": "markdown",
   "metadata": {},
   "source": [
    "## F.1.3 Periodic conditions applied with the Dirichlet Poisson solver: $\\phi (a) = \\phi (b)$"
   ]
  },
  {
   "cell_type": "markdown",
   "metadata": {},
   "source": [
    "Here, we set the potential to be $\\phi (0) = \\phi (1) = 0$. If we wanted to match the FD solution just above we could enforce $\\phi (0) = \\phi (1) = 0.2$. We re-define the Dirichlet form just below to establish the same density as used above, and test the result:"
   ]
  },
  {
   "cell_type": "code",
   "execution_count": 48,
   "metadata": {
    "collapsed": false
   },
   "outputs": [
    {
     "data": {
      "image/png": "[encoded data removed]",
      "text/plain": [
       "<matplotlib.figure.Figure at 0x4c95ad0>"
      ]
     },
     "metadata": {},
     "output_type": "display_data"
    }
   ],
   "source": [
    "%matplotlib inline\n",
    "import matplotlib.pyplot as plt\n",
    "import numpy as np\n",
    "\n",
    "Nx = 512\n",
    "x = np.linspace(a,b,Nx)\n",
    "n = -4*np.pi**2 * np.sin(2*np.pi * x)\n",
    "\n",
    "phi_exact = np.sin(2*np.pi*x) # over all x\n",
    "phi = Poisson_6th(n, Nx = Nx, phi_a = 0, phi_b = 0)\n",
    "\n",
    "plt.plot(x, phi_exact, label = 'exact', linewidth = 2)\n",
    "plt.hold('on')\n",
    "plt.plot(x, phi, label = '$N_x = %d$' % Nx, marker = 'o', linewidth = 2)\n",
    "plt.hold('off')\n",
    "\n",
    "plt.xlabel('$x$')\n",
    "plt.ylabel(r'$\\phi = \\phi (x)$')\n",
    "plt.title('6th order PBC FD numerical solution for $\\phi$ from $\\partial_x^2\\phi = n$')\n",
    "\n",
    "plt.legend(loc = 'best')\n",
    "plt.grid('on')"
   ]
  },
  {
   "cell_type": "markdown",
   "metadata": {},
   "source": [
    "## F.1.3.a Convergence tests"
   ]
  },
  {
   "cell_type": "code",
   "execution_count": 49,
   "metadata": {
    "collapsed": false
   },
   "outputs": [
    {
     "name": "stdout",
     "output_type": "stream",
     "text": [
      "Nx12        error = 1.05336e-05       ----\n",
      "Nx24        error = 1.22653e-07       order = 6.42428\n",
      "Nx48        error = 2.01851e-09       order = 5.92514\n",
      "Nx96        error = 3.02425e-11       order = 6.06057\n",
      "Nx192        error = 4.62274e-13       order = 6.03169\n",
      "Nx384        error = 1.20113e-14       order = 5.26628\n",
      "Nx768        error = 2.2936e-13       order = -4.25515\n",
      "Nx1536        error = 4.06356e-13       order = -0.82513\n",
      "Nx3072        error = 6.4988e-13       order = -0.67743\n",
      "\n",
      "\n"
     ]
    }
   ],
   "source": [
    "%matplotlib inline\n",
    "import matplotlib.pyplot as plt\n",
    "import numpy as np\n",
    "\n",
    "Nx = [12, 24, 48, 96, 192, 384, 768, 1536, 3072]\n",
    "num_grids = len(Nx)\n",
    "\n",
    "error_norm = np.zeros(num_grids)\n",
    "orders = np.zeros(num_grids)\n",
    "\n",
    "for grid in range(num_grids):\n",
    "    # grid dependent parameters\n",
    "    dx = L / (Nx[grid] - 1)\n",
    "    x = np.linspace(a, b, Nx[grid]) # spacing dx = (b - a ) / (Nx - 1)\n",
    "    n = -4 * np.pi ** 2 * np.sin(2 * np.pi * x)\n",
    "\n",
    "    phi = Poisson_6th(n, Nx = Nx[grid], phi_a = 0, phi_b = 0)\n",
    "    phi_exact = np.sin(2 * np.pi * x)\n",
    "    error_norm[grid] = LA.norm(phi_exact - phi,2) * np.sqrt(dx / L)\n",
    "\n",
    "    if grid == 0:\n",
    "        print \"Nx%d        error = %g       ----\" % (Nx[grid], error_norm[grid])\n",
    "    else:\n",
    "        orders[grid] = np.log2(error_norm[grid-1] / error_norm[grid])\n",
    "        print \"Nx%d        error = %g       order = %g\" % (Nx[grid], error_norm[grid], orders[grid])\n",
    "        \n",
    "print '\\n'"
   ]
  },
  {
   "cell_type": "markdown",
   "metadata": {},
   "source": [
    "# G. Solvers for different boundary conditions (non-constant background $n_i = n_i(x)$)"
   ]
  },
  {
   "cell_type": "markdown",
   "metadata": {},
   "source": [
    "## F.1 Periodic boundary conditions (PBCs)\n",
    "\n",
    "We consider the problem:\n",
    "\n",
    "$$\\partial_x^2\\phi = n_e - n_i, \\quad x\\in [a,b]\\subset \\mathbb{R}\\times\\mathbb{R}$$\n",
    "\n",
    "the numerical solution can be modeled as a matrix problem similar to in section C.\n",
    "\n",
    "$$\\underline{\\underline{D}}\\underline{\\phi} = \\underline{b}$$\n",
    "\n",
    "where $\\underline{\\phi} = (\\phi_0, \\phi_1, \\ldots , \\phi_{N - 1})$, and the $N$ gridpoints $x_i$ constitute the mesh $\\mathcal{M}_h = \\{\\cup_i x_i \\,\\colon \\, x_i\\in [a,b]\\, \\forall i \\in \\mathbb{Z}\\}$ in our 0-base indexing. Given the periodicity, the difference equation $(*)$ becomes\n",
    "\n",
    "$$\\frac{1}{(\\Delta x)^2}\\left(\\phi_{i+1} - 2\\phi_i + \\phi_{i-1}\\right) = (n_{e,i} - n_{i,i}) + \\frac{2}{4!}(\\Delta x)^2(n_{e,i}^{(2)} - n_{i,i}^{(2)}) + \\frac{2}{6!}(\\Delta x)^4(n_{e,i}^{(4)} - n_{i,i}^{(4)}) + O(\\Delta x^6) \\qquad \\qquad (\\, * \\, )$$\n",
    "\n",
    "Note the second subscript labels grid index with $i$, while the first labels the charge species ($e$ or $i$, this should not be confusing given the comma separation and notice).\n",
    "\n",
    "This can be applied for all nodal equations $i$ since off-grid quantities ($\\phi_{-1}, \\phi_N$) are related to on-grid data in a known way. Thus, in the above we do not require \"edge\" versions of finite differences to sidestep off-grid terms in our finite differencing, even for the right-hand side in differencing the density $n$. <b>That is to say, the interior nodes differencing equation at the conclusion of section C.2.2 can be used for all nodes in the domain in the periodic case</b> "
   ]
  },
  {
   "cell_type": "markdown",
   "metadata": {},
   "source": [
    "The aforementioned differenced equation from section C.2.2 is:\n",
    "\n",
    "$$\\frac{1}{(\\Delta x)^2}\\left(\\phi_{i+1} - 2\\phi_i + \\phi_{i-1}\\right) =  -\\frac{1}{240}(n_{e,i-2} - n_{i,i-2}) + \\frac{1}{10}(n_{e,i-1} - n_{i,i-1}) + \\frac{97}{120}(n_{e,i} - n_{i,i}) + \\frac{1}{10}(n_{e,i+1} - n_{i,i+1}) - \\frac{1}{240}(n_{e,i+2} - n_{i,i+2}) + O(\\Delta x^6), \\quad i = 0, 1, \\ldots , N - 1$$"
   ]
  },
  {
   "cell_type": "markdown",
   "metadata": {},
   "source": [
    "For a grid $i = 0, 1, \\ldots , N-1$ ($N$ gridpoints) we understand we require only updating one of the endpoints (say, $i = 0$), the other endpoint is completed at each time step by periodic enforcement (at $i = N-1$). \n",
    "\n",
    "\\begin{eqnarray*}\n",
    "\\phi_{N-1} & = & \\phi_0\\\\\n",
    "\\text{and} &&\\\\\n",
    "n_{N-1} & = & n_0\n",
    "\\end{eqnarray*}\n",
    "\n",
    "Similarly,\n",
    "\n",
    "\\begin{eqnarray*}\n",
    "\\phi_{-1} & = & \\phi_{N-2}\\\\\n",
    "\\phi_{N} & = & \\phi_1\\\\\n",
    "&& \\\\\n",
    "n_{-2} & = & n_{N-3} \\\\\n",
    "n_{-1} & = & n_{N-2} \\\\\n",
    "n_N & = & n_1 \\\\\n",
    "n_{N+1} & = & n_2 \n",
    "\\end{eqnarray*}"
   ]
  },
  {
   "cell_type": "markdown",
   "metadata": {},
   "source": [
    "To clearly discern the forms of the matrices above, we write equations for several gridpoints. We omit the multiplicative prefactor $(\\Delta x)^{-2}$ on the left-hand side and incorporate it in the end.\n",
    "\n",
    "\\begin{eqnarray*}\n",
    "i = 0: & \\phi_1 - 2\\phi_0 + \\phi_{N-2} & = -\\frac{1}{240}(n_{e,N-3} - n_{i,N-3}) + \\frac{1}{10}(n_{e,N-2} - n_{e,N-2}) + \\frac{97}{120}(n_{e,0} - n_{i,0}) + \\frac{1}{10}(n_{e,1} - n_{i,1}) - \\frac{1}{240}(n_{e,2} - n_{i,2})  \\\\[1em]\n",
    "i = 1: & \\phi_0 -2\\phi_1 + \\phi_2 & =  -\\frac{1}{240}(n_{e,N-2} - n_{i,N-2}) + \\frac{1}{10}(n_{e,0} - n_{i,0})+ \\frac{97}{120}(n_{e,1} - n_{i,1}) + \\frac{1}{10}(n_{e,2} - n_{i,2}) - \\frac{1}{240}(n_{e,3} - n_{i,3})  \\\\[1em]\n",
    "i = 2: & \\phi_1 -2\\phi_2 + \\phi_3 & =  -\\frac{1}{240}(n_{e,0} - n_{i,0}) + \\frac{1}{10}(n_{e,1} - n_{i,1}) + \\frac{97}{120}(n_{e,2} - n_{i,2}) + \\frac{1}{10}(n_{e,3} - n_{i,3}) - \\frac{1}{240}(n_{e,4} - n_{i,4}) \\\\[1em]\n",
    "i = 3: & \\phi_2 -2\\phi_3 + \\phi_4 & =  -\\frac{1}{240}(n_{e,1} - n_{i,1}) + \\frac{1}{10}(n_{e,2} - n_{i,2}) + \\frac{97}{120}(n_{e,3} - n_{i,3}) + \\frac{1}{10}(n_{e,4} - n_{i,4}) - \\frac{1}{240}(n_{e,5} - n_{i,5}) \\\\[2em]\n",
    "\\vdots \\\\[2em]\n",
    "i = N-4: & \\phi_{N-5} -2\\phi_{N-4} + \\phi_{N-3} & =  -\\frac{1}{240}(n_{e,N-6} - n_{i,N-6}) + \\frac{1}{10}(n_{e,N-5} - n_{i,N-5}) + \\frac{97}{120}(n_{e,N-4} - n_{i,N-4}) + \\frac{1}{10}(n_{e,N-3} - n_{i,N-3}) - \\frac{1}{240}(n_{e,N-2} - n_{i,N-2}) \\\\[1em]\n",
    "i = N-3: & \\phi_{N-4} -2\\phi_{N-3} + \\phi_{N-2} & =  -\\frac{1}{240}(n_{e,N-5} - n_{i,N-5}) + \\frac{1}{10}(n_{e,N-4} - n_{i,N-4}) + \\frac{97}{120}(n_{e,N-3} - n_{i,N-3}) + \\frac{1}{10}(n_{e,N-2} - n_{i,N-2}) - \\frac{1}{240}(n_{e,0} - n_{i,0}) \\\\[1em]\n",
    "i = N - 2: & \\phi_{N-3} - 2\\phi_{N-2} + \\phi_{0} & =  -\\frac{1}{240}(n_{e,N-4} - n_{i,N-4}) + \\frac{1}{10}(n_{e,N-3} - n_{i,N-3}) + \\frac{97}{120}(n_{e,N-2} - n_{i,N-2}) + \\frac{1}{10}n_{e,0} - \\frac{1}{240}(n_{e,1} - n_{i,1})\n",
    "\\end{eqnarray*}"
   ]
  },
  {
   "cell_type": "markdown",
   "metadata": {},
   "source": [
    "The left-hand side reveals $\\underline{\\underline{D}}$ the same as before:\n",
    "\n",
    "$$\\underline{\\underline{D}}_{(N-1)\\times (N-1)} = \\left( \\begin{array}{c c c c c c c c c}\n",
    "-2 & 1 & 0 & \\cdots & \\cdots & \\cdots & \\cdots & \\cdots & \\cdots & 1 \\\\\n",
    "1 & -2 & 1 & 0 & \\cdots & \\cdots & \\cdots & \\cdots  & \\cdots & 0 \\\\\n",
    "0 & 1 & -2 & 1 & 0 & \\cdots & \\cdots & \\cdots &  \\cdots & 0 \\\\\n",
    "0 & 0 & 1 & -2 & 1 & 0 & \\cdots & \\cdots & \\cdots & 0\\\\\n",
    "\\vdots & \\vdots & 0 & \\ddots & \\ddots & \\ddots & 0 & \\cdots & \\cdots & 0\\\\\n",
    "\\vdots & \\vdots & \\vdots & 0 & \\ddots & \\ddots & \\ddots & 0 & \\cdots & 0\\\\\n",
    "\\vdots & \\vdots & \\vdots & \\vdots & 0 & \\ddots & \\ddots & \\ddots & 0 & 0 \\\\\n",
    "\\vdots & \\vdots & \\vdots & \\vdots & \\vdots & 0 & 1 & -2 & 1 & 0 \\\\\n",
    "\\vdots & \\vdots & \\vdots & \\vdots & \\vdots & \\vdots & 0 & 1 & -2 & 1 \\\\\n",
    "1 & 0 & 0 & 0 & 0 & 0 & 0 & 0 & 1 & -2\n",
    "\\end{array} \\right)$$\n",
    "\n",
    "which is again a <i>circulant</i> matrix, where zero is an eigenvalue ($j = 0$) and the matrix is not invertible, so there are infinitely many solutions to the equation and the solution must be solved through means that do not involve finding an explicit inverse of the matrix. The right-hand side can be casted similar to before:"
   ]
  },
  {
   "cell_type": "markdown",
   "metadata": {},
   "source": [
    "$$\\underline{b}_{(N-1)\\times 1} = \\underline{\\underline{B}}_{(N-1)\\times (N-1)}(\\underline{n}_{e,(N-1)\\times 1} - \\underline{n}_{i,(N-1)\\times 1})$$"
   ]
  },
  {
   "cell_type": "markdown",
   "metadata": {},
   "source": [
    "where\n",
    "\n",
    "$$\\underline{\\underline{B}}_{(N-1)\\times (N-1)} = \\left( \\begin{array}{c c c c c c c c c c c c c c}\n",
    "\\frac{97}{120} & \\frac{1}{10} & -\\frac{1}{240} & 0 &  0 &  0 &    \\cdots &  0 & -\\frac{1}{240} & \\frac{1}{10}\\\\\n",
    "\\frac{1}{10} & \\frac{97}{120} & \\frac{1}{10} & 0 & \\cdots  & \\cdots & \\cdots & \\cdots & 0 & -\\frac{1}{240}\\\\\n",
    "-\\frac{1}{240} & \\frac{1}{10} & \\frac{97}{120} & \\frac{1}{10} & -\\frac{1}{240} & 0 & \\cdots & \\cdots & \\cdots & 0 \\\\\n",
    "0 & -\\frac{1}{240} & \\frac{1}{10} & \\frac{97}{120} & \\frac{1}{10} & -\\frac{1}{240} & 0 & \\cdots & \\cdots & 0 \\\\\n",
    "\\vdots & 0 & \\ddots & \\ddots & \\ddots & \\ddots & \\ddots & 0 & \\cdots & 0 \\\\\n",
    "\\vdots  & \\vdots  & 0 & \\ddots & \\ddots & \\ddots & \\ddots & \\ddots & 0 & 0\\\\\n",
    "\\vdots & \\vdots & \\vdots & 0 & \\ddots & \\ddots & \\ddots & \\ddots & \\ddots & 0\\\\\n",
    "0 & \\vdots & \\vdots & \\vdots &  0 &  -\\frac{1}{240} & \\frac{1}{10} & \\frac{97}{120} & \\frac{1}{10} & -\\frac{1}{240} \\\\\n",
    "-\\frac{1}{240} & \\vdots & \\vdots & \\vdots & \\vdots & 0 & -\\frac{1}{240} & \\frac{1}{10} & \\frac{97}{120} & \\frac{1}{10} \\\\\n",
    "\\frac{1}{10} & -\\frac{1}{240} & 0 & 0 &  0  & 0 & 0 &  -\\frac{1}{240} &  \\frac{1}{10} &  \\frac{97}{120}  \\\\\n",
    "\\end{array} \\right)$$"
   ]
  },
  {
   "cell_type": "markdown",
   "metadata": {},
   "source": [
    "So, Poisson's equation for two species being evolved (non-constant background) is solved numerically according to the matrix equation in terms of the $N-1$ unknowns $i = 0, 1, \\ldots , N-2$:\n",
    "\n",
    "$$\\underline{\\underline{D}}_{(N-1)\\times (N-1)} \\underline{\\phi}_{(N-1)\\times 1} = (\\Delta x)^2\\underline{\\underline{B}}_{(N-1)\\times (N-1)}\\cdot (\\underline{n}_e - \\underline{n_i})$$\n",
    "\n",
    "and then enforcing\n",
    "\n",
    "$$\\phi_{N-1} = \\phi_0$$\n",
    "\n",
    "per periodic boundary condition to complete the solution vector for all $N$ gridpoints.\n",
    "\n",
    "<b>Note</b>: it is obvious that the charge density $n_e - n_i$ must be consistent with the consequences of periodic boundary conditions on the potential. Failure to choose consistent densities $n_e$ and $n_i$ (e.g. choosing initial densities for the start of a simulation where they both evolve self-consistently) will cause the periodic BC solver to fail since, put in one way: subtracting out an \"average\" value does not center the density at zero so that integrating over $x$ does not give zero overall, but an offset persists, and the boundary conditions for $\\phi$ that are purported to be periodic contradict the actual charge densities which are incapable of producing such periodicity in $\\phi$.\n",
    "\n",
    "### Consequences of periodicity and how to choose compatible densities $n_e$ and $n_i$\n",
    "\n",
    "This has been stated above in the development noting that the matrix $\\underline{\\underline{D}}$ is circulant, but to wit consider the general multidimensional case:\n",
    "\n",
    "$$\\Delta \\phi = f$$\n",
    "\n",
    "where $f \\equiv n_e - n_i$ is the source function. Numerically, we discretize the above to arrive at the equation\n",
    "\n",
    "$$D\\phi = b$$\n",
    "\n",
    "where $D$ is a a discretization of the multidimensional Laplacian operator with accompanying Dirichlet boundary and $f$ is discretized straightforwardly. Note, that $A$ is positive definite, hence zero is not an eigenvalue and the matrix is nonsingular. Thus, there exists a solution for any $f$.\n",
    "\n",
    "Now, consider $D$ as the disretization of the Laplacian withi periodic boundary. It was shown above this matrix is circulant, hence zero is an eigenvalue (matrix is positive <i>semi</i> definite), and the matrix is not invertible. There exists a kernel $K$ with solutions $\\phi \\equiv C = \\text{const}$ belonging to the column space of $D$. Thus, $\\text{range } D = K^{\\perp}$ and $D\\phi = f$ has no solution unless $1\\cdot f = 0$, where $1 \\equiv \\underline{1}$ is the vector of all ones. Numerically, this statement is the solubility condition for the periodic Poisson problem. Analytically, it is perhaps easier to see. Consider $\\phi \\in C^2 (\\Omega )$, we have\n",
    "\n",
    "$$\\Delta \\phi = f$$\n",
    "\n",
    "integrating over the domain, \n",
    "\n",
    "$$\\int_{\\Omega} \\Delta \\phi dV = \\int_{\\Omega} f dV$$\n",
    "\n",
    "\n",
    "the left-hand side becomes\n",
    "\n",
    "$$\\int_{\\Omega} \\Delta \\phi dV = \\int_{\\partial\\Omega}\\frac{\\partial \\phi}{\\partial\\vec{n}}dS = 0, \\qquad \\text{for a periodic boundary on } \\phi$$\n",
    "\n",
    "Thus, we have\n",
    "\n",
    "$$0 = \\int_{\\Omega} f dV$$\n",
    "\n",
    "(This is the same as $1\\cdot f = 0$ in the numerical discussion above, i.e. the average value of $f$ must be zero).\n",
    "\n",
    "In 1D over $x\\in [a,b]$, for a source $f = n_e - n_i$ we have\n",
    "\n",
    "$$0 = \\int_a^b dx (n_e(x) - n_i(x))$$\n",
    "\n",
    "#### Case 1: suppose $n_e = n_e(x)$ is chosen, $n_i(x) = \\text{const}$ to be found consistently for periodic BCs$\n",
    "\n",
    "The above gives\n",
    "\n",
    "$$0 = \\int_a^b dx n_e(x) - \\int_a^b dx n_i$$\n",
    "\n",
    "or\n",
    "\n",
    "$$(b - a)n_i = \\int_a^b dx n_e(x) \\quad \\Rightarrow \\quad \\boxed{n_i = \\frac{\\int_a^b dx n_e(x)}{b - a}}$$\n",
    "\n",
    "#### Case 2: suppose $n_e = n_e(x)$ is chosen, $n_i = n_i(x)$ to be selected consistently for periodic BCs$\n",
    "\n",
    "It is easy to see the above requirement amounts to:\n",
    "\n",
    "$$\\int_a^b dx n_i (x) = \\int_a^b dx n_e(x)$$\n",
    "\n",
    "or\n",
    "\n",
    "$$\\langle n_i \\rangle_x = \\langle n_e \\rangle_x$$\n",
    "\n",
    "Which restates what was just said, the average values must be hte same (so that the source $\\langle f\\rangle  = \\langle n_e - n_i\\rangle = 0$. Hence, it does not matter the shape of the functions so long as averages are the same.\n",
    "\n"
   ]
  },
  {
   "cell_type": "code",
   "execution_count": null,
   "metadata": {
    "collapsed": true
   },
   "outputs": [],
   "source": []
  },
  {
   "cell_type": "markdown",
   "metadata": {},
   "source": [
    "# G. Conclusions 1\n",
    "\n",
    "<i><u>Conclusions</u></i>: A finite difference solver for Poisson's equation ($\\partial_x^2 \\phi = n$) was developed. The scheme increases the LTE order of the second derivative on $\\phi$ by replacing the higher order derivatives of $\\phi$ that appear (in formerly truncated terms) with lower order, and differenced, derivatives of the density $n$ by resusing the original PDE. The case for Dirichlet boundary conditions were considered and an implementation was designed for both a cold ion (constant) background density $n_i$ alongside the evolving electron density $n_e$ (i.e. $n = n_e - n_i$, the \"minus\" sign in Poisson's equation is already accounted for here)."
   ]
  },
  {
   "cell_type": "markdown",
   "metadata": {},
   "source": [
    "# H. The Neumann-Dirichlet problem\n",
    "\n",
    "Here we consider the following analytical boundary conditions:"
   ]
  },
  {
   "cell_type": "markdown",
   "metadata": {},
   "source": [
    "### H.1 Boundary conditions\n",
    "\n",
    "<ol>\n",
    "<li> $\\boxed{\\partial_x\\phi (x_0) = \\phi_0'}, \\phi_0'\\in \\mathbb{R}$\n",
    "<li> $\\boxed{\\phi (x_{N-1}) \\equiv \\phi_{N-1} = \\phi_b}$ are specified.\n",
    "</ol>\n",
    "\n",
    "In our context in DECSKS-18 part 3, we use the lower (Neumann) boundary condition in order to enforce a symmetry condition ($\\partial_x \\phi (0) = 0$). We derive the general case here. The latter condition we have some Dirichlet context in mind (e.g. absorbing wall/charge collecting, or even a biased wall at constant potential)"
   ]
  },
  {
   "cell_type": "markdown",
   "metadata": {},
   "source": [
    "We do not have work to do on the upper boundary, as the equations remain the same. As concerns the Neumann (lower) boundary, we require estimating this to adequate accuracy, that is to LTE order $O(\\Delta x^6)$, in suit with the entire scheme. This may require ghost points given the differencing here happens at the edge and have been  <a href = \"../DECSKS-03%20--%20Convergence%20of%20FD%20formulation%20of%20high%20order%20CS/DECSKS-03%20--Convergence%20of%20FD%20formulation%20of%20high%20order%20CS.ipynb\">previously seen</a> to provide improper representations of the derivatives.\n",
    "\n",
    "For immediate example of how the condition can be incorporated, the following naive idea (low order) can be done\n",
    "\n",
    "$$\\text{naive idea: } \\qquad \\frac{\\phi_1 - \\phi_0}{\\Delta x} = \\partial_x\\phi_a + O(\\Delta x)$$\n",
    "\n",
    "for a first order estimate. We require a 6th order estimation here:\n",
    "\n",
    "$$\\text{requirement: } \\qquad \\delta_x \\phi_0 = \\partial_x\\phi_a + O(\\Delta x^6)$$\n",
    "\n",
    "where as usual, $\\delta_x$ is a finite difference operator compared to the continuous analog $\\partial_x$."
   ]
  },
  {
   "cell_type": "markdown",
   "metadata": {},
   "source": [
    "## H.2. explicit on-grid differencing (no ghost points)\n",
    "\n",
    "As above, we reuse the PDE in order to translate differences in $\\phi$ in terms of lower derivatives on $n$, which allows contracting the stencil slightly to obitain the same order of accuracy.\n",
    "\n"
   ]
  }
 ],
 "metadata": {
  "kernelspec": {
   "display_name": "Python 2",
   "language": "python",
   "name": "python2"
  },
  "language_info": {
   "codemirror_mode": {
    "name": "ipython",
    "version": 2
   },
   "file_extension": ".py",
   "mimetype": "text/x-python",
   "name": "python",
   "nbconvert_exporter": "python",
   "pygments_lexer": "ipython2",
   "version": "2.7.3"
  }
 },
 "nbformat": 4,
 "nbformat_minor": 0
}

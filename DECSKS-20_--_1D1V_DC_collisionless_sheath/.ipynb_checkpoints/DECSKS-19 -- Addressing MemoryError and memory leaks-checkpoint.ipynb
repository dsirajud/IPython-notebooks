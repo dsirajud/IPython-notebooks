{
 "cells": [
  {
   "cell_type": "markdown",
   "metadata": {},
   "source": [
    "# DECSKS-19: Addressing MemoryError and memory leaks"
   ]
  },
  {
   "cell_type": "markdown",
   "metadata": {},
   "source": [
    "Currently, a memory limitation is easy to reach in DECSKS. For example, the following setup will do it:\n",
    "\n",
    "    Nx = 512\n",
    "    Nvx = 1024\n",
    "    Nt = 2721\n",
    "    \n",
    "This tries to allocate memory for the 3-dimensional array <code>f</code>\n",
    "\n",
    "    f.shape = (Nt+1, Nx, Nvx)\n",
    "\n",
    "with the call\n",
    "\n",
    "    f = np.zeros((Nt +1, Nx, Nvx))\n",
    "    \n",
    "this allocates"
   ]
  },
  {
   "cell_type": "code",
   "execution_count": 31,
   "metadata": {
    "collapsed": false
   },
   "outputs": [
    {
     "name": "stdout",
     "output_type": "stream",
     "text": [
      "1.42711e+09 contiguous memory blocks for the array\n"
     ]
    }
   ],
   "source": [
    "Nx, Nvx, Nt = 512, 1024, 2721\n",
    "\n",
    "print \"%g contiguous memory blocks for the array\" % (Nx*Nvx*(Nt + 1))"
   ]
  },
  {
   "cell_type": "markdown",
   "metadata": {},
   "source": [
    "    Traceback (most recent call last):\n",
    "      File \"./main.py\", line 53, in <module>\n",
    "            fe, fi = DECSKS.lib.density.setup(sim_params, t, x, vx)\n",
    "          File \"/home/dsirajud/Work/IPython-notebooks/DECSKS-18-- 1D1V_two_species_boundary_problems_--_part_2/v2.0/DECSKS/../DECSKS/lib/density.py\", line 37, in setup\n",
    "        fe = np.zeros([t.Ngridpoints, z1.Ngridpoints, z2.Ngridpoints])\n",
    "    MemoryError"
   ]
  },
  {
   "cell_type": "markdown",
   "metadata": {},
   "source": [
    "The amount of space requested cannot be granted. If we had say <code>Nt = 2720</code> for example, there is no MemoryError. These errors occur in Python when Python either runs out of available RAM or when it is requested to use more memory than the RAM it is alocated as being allowed to use. On 32-bit systems, this tends to be 2 GB of RAM maximum per application. \n",
    "\n",
    "The memory size of the maximum allowable array size based on our tests above is (recall, it is <code>Nt + 1</code> blocks reserved given we include time zero)\n",
    "\n",
    "    max array size permissible = (2721, 512, 1024)\n",
    "    \n",
    "    too large array size       = (2722, 512, 1024)\n",
    "    \n",
    "As computed above, the too large array size produces <code>1.42711e+09</code> blocks of contiguous memory needed. For an ndarray of floats, we require 8 bytes per <code>float64</code>"
   ]
  },
  {
   "cell_type": "code",
   "execution_count": 32,
   "metadata": {
    "collapsed": false
   },
   "outputs": [
    {
     "name": "stdout",
     "output_type": "stream",
     "text": [
      "11.4169 GB requested for a too large array\n"
     ]
    }
   ],
   "source": [
    "print \"%g GB requested for a too large array\" % (8*(1.42711e9)*(1e-9))"
   ]
  },
  {
   "cell_type": "markdown",
   "metadata": {},
   "source": [
    "It is uncertain why Python can still allocate memory more than the maximum 8 GB on this computer, but nonetheless the problem here we wish to emphasize is that we do not need to keep a history of the density functions, <u>we only need to keep the current density and the previous so that the remapping can take place</u>. If we wish to write data to a file we can do that or make plots we can do that from data files or during the simulation, but there is no need to keep an array with a time dimension as we have done. When we move onto simulating time steps in excess of 12,000 steps this will clearly not do. <b>Hence, in this notebook we remove the time entry in the density containers, so that f.shape = (x.N, vx.N), rather than f.shape = (t.N + 1, x.N, vx.N)</b>. This will give us access to longer time problems without having to track down memory leaks and so on. Though this is still of interest and should be looked into at a later date."
   ]
  },
  {
   "cell_type": "markdown",
   "metadata": {},
   "source": [
    "Thus, \n",
    "\n",
    "# Objective\n",
    "\n",
    "the goal of this notebook is to take\n",
    "\n",
    "    f.shape (t.N + 1, x.N, vx.N) --> f.shape (x.N, vx.N)\n",
    "\n",
    "That is all."
   ]
  },
  {
   "cell_type": "code",
   "execution_count": null,
   "metadata": {
    "collapsed": true
   },
   "outputs": [],
   "source": []
  },
  {
   "cell_type": "code",
   "execution_count": null,
   "metadata": {
    "collapsed": true
   },
   "outputs": [],
   "source": []
  }
 ],
 "metadata": {
  "kernelspec": {
   "display_name": "Python 2",
   "language": "python",
   "name": "python2"
  },
  "language_info": {
   "codemirror_mode": {
    "name": "ipython",
    "version": 2
   },
   "file_extension": ".py",
   "mimetype": "text/x-python",
   "name": "python",
   "nbconvert_exporter": "python",
   "pygments_lexer": "ipython2",
   "version": "2.7.3"
  }
 },
 "nbformat": 4,
 "nbformat_minor": 0
}

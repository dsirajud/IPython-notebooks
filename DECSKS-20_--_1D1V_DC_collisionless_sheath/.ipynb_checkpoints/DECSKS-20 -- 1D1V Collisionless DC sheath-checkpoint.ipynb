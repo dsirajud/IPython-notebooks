{
 "cells": [
  {
   "cell_type": "markdown",
   "metadata": {},
   "source": [
    "# DECSKS-20: 1D1V Collisionless DC sheath problem"
   ]
  },
  {
   "cell_type": "markdown",
   "metadata": {},
   "source": [
    "We consider the Vlasov equations (see DECSKS-14 for normalizations)\n",
    "\n",
    "$$\\partial_t f_e + v_x\\partial_x f_e + \\partial_x\\phi \\partial_{v_x} f_e = 0, \\qquad\\qquad x\\in [0, L], v_x\\in [-V, V], t\\in [0,T], \\qquad L,T,V\\in\\mathbb{R}$$\n",
    "\n",
    "$$\\partial_t f_i + v_x\\partial_x f_i - \\frac{1}{\\mu}\\partial_x\\phi \\partial_{v_x} f_i = 0 \\qquad \\qquad x\\in [0, L], v_x\\in [-V, V], t\\in [0,T], \\qquad L,V,T\\in\\mathbb{R}, \\quad \\mu = m_i / m_e$$\n",
    "\n",
    "where $f_e = f_e(t,x,v_x)$ and $f_i = f_i(t,x,v_x)$. The evolutione quations are coupled by Poisson's equation:\n",
    "\n",
    "$$\\partial_x^2\\phi = \\int dv (f_e(t,x,v_x) - f_i(t,x,v_x))$$\n",
    "\n",
    "# Setup\n",
    "\n",
    "We set up an equivalent setup to Guclu [reported in 2], which itself compared with that from Kolobov [1]. Note that Kolobov normalized in terms of ionic quantities, whereas we normalize in terms of the electron quantities (same as [2]), hence we follow the parameters given in [2]. We simulate hydrogenic and deuterium plasmas, so that $\\mu = m_i / m_e \\simeq 1836.1526738$ or $\\mu \\simeq 3671.5$ ($\\mathrm{^2H}$-Deuterium), respectively. We reserve specifying the temperature ratio $\\tau = T_i / T_e$  for each simulation presented as we may investigate different cases.\n",
    "\n",
    "The general scenario is summarily: we simulate the sheath region of the edge of a plasma system whose domain begins from a wall on the left and extends rightward into the bulk region of a plasma.\n",
    "\n",
    "Specifically, a conducting electrode is set at $x = 0$ whose potential is determined self-consistently by the charge that reaches it from the bulk plasma (i.e. a floating wall). We extend the spatial domain from $x\\in [0, L]$, where $x = L$ is sufficiently far away (e.g. $L \\sim 20\\lambda_D$) so that plasma parameters are approximately constant (i.e. recall in the sheath region we witness significant gradients in temperature, density, potential, etc.). To represent the bulk charged particles incoming from the right side at $x = L$ we source drift maxwellian distributions at the $x = L$ plane as a boundary condition on the distribution functions.\n",
    "\n",
    "In more detail, we have:\n",
    "\n",
    "<u>Initial conditions</u>\n",
    "<ul>\n",
    "<li>$f_e(0,x,v_x) = \\frac{1}{\\sqrt{2\\pi}}\\exp\\left(-\\frac{v^2}{2}\\right)$\n",
    "<li>$f_i(0,x,v_x) = \\frac{1}{\\sqrt{2\\pi\\tau / \\mu}}\\exp\\left(-\\frac{v^2}{2\\tau / \\mu}\\right)$\n",
    "</ul>"
   ]
  },
  {
   "cell_type": "markdown",
   "metadata": {},
   "source": [
    "<u>Boundary conditions: distribution functions</u>\n",
    "<ul>\n",
    "<li>$f_e(t,0,v_x) = f_i(t,0,v_x) = 0$\n",
    "$${}$$\n",
    "<li>$f_e(t,L,v_x) = \\begin{cases}\n",
    "\\frac{1}{\\sqrt{2\\pi}}\\exp\\left(-\\frac{v^2}{2}\\right) & v_x < 0 \\\\\n",
    "0 & \\text{else}\n",
    "\\end{cases}\n",
    "$\n",
    "$${}$$\n",
    "<li>$f_e(t,L,v_x) = \\begin{cases}\n",
    "\\frac{1}{\\sqrt{2\\pi\\tau / \\mu}}\\exp\\left(-\\frac{(v + c_s)^2}{2\\tau / \\mu}\\right) & v_x < 0 \\\\\n",
    "0 & \\text{else}\n",
    "\\end{cases}\n",
    "$\n",
    "</ul>\n",
    "\n",
    "where we ecall from DECSKS-14 that $c_s$ is the normalized sound speed (which is $\\tilde{c}_s$ here):\n",
    "\n",
    "$$c_s = \\frac{\\tilde{c}_s}{v_{Te}} =  \\frac{\\sqrt{T_e/m_i}}{v_{Te}} = \\sqrt{\\frac{T_e}{m_e}\\frac{m_e}{m_i}}\\cdot\\frac{1}{v_{Te}} = \\frac{1}{\\sqrt{\\mu}}$$"
   ]
  },
  {
   "cell_type": "markdown",
   "metadata": {},
   "source": [
    "<u>Boundary conditions: Potential</u>\n",
    "<ol>\n",
    "<li>\n",
    "Neumann left boundary condition: $\\partial_x \\phi (0) = -Q(t)$\n",
    "$${}$$\n",
    "<li>\n",
    "Dirichlet right boundary condition: $\\phi(L) = \\phi_{ref} = 0$\n",
    "</ol>\n",
    "\n",
    "where $Q(t) \\equiv \\sigma (x = 0,t) = \\int_0^t dt' \\int_{v_x < 0} dv_x\\, v_x (f_i(t',0,v_x) - f_e(t',0,v_x))$ (cf. DECSKS-18 part 2 [first sections] and DECSKS-4 section M). Thus, DECSKS will converge on selecting a <code>LNBC_RDBC</code> Poisson solve (see DECSKS-04 for solver details; see DECSKS-18 part 2 for implementation and DECSKS decision making intelligence in <code>lib.read</code>).\n",
    "\n",
    "Note that setting $\\phi_{ref} = $ is arbitary (of course), the plasma evolution in the Lorentz term $\\sim \\partial_x\\phi$ in the Vlasov equation is a derivative relationship."
   ]
  },
  {
   "cell_type": "markdown",
   "metadata": {},
   "source": [
    "## s20-01\n",
    "\n",
    "We simulate the above system according to the following specifications:\n",
    "\n",
    "<u>Plasma parameters</u>\n",
    "\n",
    "<ul>\n",
    "<li>$\\mu = \\frac{m_i}{m_e} = 3671.5 \\, (\\mathrm{^2H-Deuterium})$\n",
    "<li>$\\tau = \\frac{T_i}{T_e} = \\frac{1}{30}$\n",
    "</ul>\n",
    "\n",
    "\n",
    "<u>Domain</u>\n",
    "\n",
    "<ul>\n",
    "<li>$x\\in [0, L], \\qquad L = 20$\n",
    "<li>$v\\in [-V, V], \\qquad V = 6$\n",
    "<li>$t\\in [0, T], \\qquad T = 2000\\cdot 2\\pi$\n",
    "</ul>\n",
    "\n",
    "<u>Grid</u>\n",
    "<ul>\n",
    "<li>$N_x = 240$ $\\Rightarrow \\Delta x = 1/12$\n",
    "<li>$N_{vx} = 300$ $\\Rightarrow \\Delta v_x = 1/25$\n",
    "<li>$N_t = 62832$ steps $\\Rightarrow \\Delta t = 0.2$\n",
    "</ul>\n",
    "\n",
    "<u>Domain / Grid</u>\n",
    "<ul>\n",
    "<li>$\\Delta x = \\frac{L}{N_x} = 1/12$\n",
    "<li>$\\Delta v_x = \\frac{2V}{N_{vx}} = 1/25$\n",
    "<li>$\\Delta v_x = \\frac{T}{N_{t}} = 0.2$\n",
    "</ul>\n",
    "\n",
    "\n",
    "\n",
    "<u>Solvers</u>\n",
    "<ul>\n",
    "<li>advection solver $x$: $\\mathrm{LTE} = O(\\Delta x^8)$ (finite difference based)\n",
    "<li>advection solver $v_x$: $\\mathrm{LTE} = O(\\Delta v_x^8)$ (finite difference based)\n",
    "<li>Poisson solver for $\\phi$: $\\mathrm{LTE} = O(\\Delta x^6)$ (finite difference based)\n",
    "<li>time splitting: $\\mathrm{LTE} = O(\\Delta t^3)$ (Strang/LF2 splitting)\n",
    "</ul>"
   ]
  },
  {
   "cell_type": "markdown",
   "metadata": {},
   "source": [
    "# References\n",
    "\n",
    "[1] Kolobov, V.I., Arslanbekov, R.R. Towards adaptive kinetic-fluid simulations of weakly ionized plasmas. Journal of Computational Physics <b>231</b> (2012) 839-869\n",
    "\n",
    "[2] Christleib, A. et. al. Test Problems for Vlasov-Poisson. Oct. 15, 2014. Slides."
   ]
  },
  {
   "cell_type": "code",
   "execution_count": null,
   "metadata": {
    "collapsed": true
   },
   "outputs": [],
   "source": []
  }
 ],
 "metadata": {
  "kernelspec": {
   "display_name": "Python 2",
   "language": "python",
   "name": "python2"
  },
  "language_info": {
   "codemirror_mode": {
    "name": "ipython",
    "version": 2
   },
   "file_extension": ".py",
   "mimetype": "text/x-python",
   "name": "python",
   "nbconvert_exporter": "python",
   "pygments_lexer": "ipython2",
   "version": "2.7.3"
  }
 },
 "nbformat": 4,
 "nbformat_minor": 0
}

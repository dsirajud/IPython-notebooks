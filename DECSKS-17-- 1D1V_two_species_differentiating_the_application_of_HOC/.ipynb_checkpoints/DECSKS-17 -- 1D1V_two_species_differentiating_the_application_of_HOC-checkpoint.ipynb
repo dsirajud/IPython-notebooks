{
 "cells": [
  {
   "cell_type": "markdown",
   "metadata": {},
   "source": [
    "# Code upgrade summary\n",
    "\n",
    "We extend the changes from <a href = \"http://www.github.com/dsirajud/IPython-notebooks/DECSKS-16 -- 1D1V_one_species_differentiating_the_application_of_HOC/DECSKS-16 -- 1D1V_one_species_differentiating_the_application_of_HOC.ipynb\">DECSKS-16</a> which was for one species evolution to the code update from <a href = \"http://www.github.com/dsirajud/IPython-notebook/DECSKS-14 -- Two_species_Vlasov_simulations/DECSKS-14 -- Two_species_Vlasov_simulations.ipynb\">DECSKS-14</a>. Thus, the code upgrade in this folder represents a 1D1V DECSKS-2.0 Vlasov-Poisson two species evolution where it is possible to choose high order correction methods on each phase space variable x, vx, rather than having both be the same."
   ]
  }
 ],
 "metadata": {
  "kernelspec": {
   "display_name": "Python 2",
   "language": "python",
   "name": "python2"
  },
  "language_info": {
   "codemirror_mode": {
    "name": "ipython",
    "version": 2
   },
   "file_extension": ".py",
   "mimetype": "text/x-python",
   "name": "python",
   "nbconvert_exporter": "python",
   "pygments_lexer": "ipython2",
   "version": "2.7.3"
  }
 },
 "nbformat": 4,
 "nbformat_minor": 0
}

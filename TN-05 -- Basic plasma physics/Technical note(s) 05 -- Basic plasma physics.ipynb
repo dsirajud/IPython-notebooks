{
 "cells": [
  {
   "cell_type": "markdown",
   "metadata": {},
   "source": [
    "# Basic plasma physics\n",
    "\n",
    "#### Note: in the following, we do not belabor with exhaustive symbol definitions. In the event that a symbol is not defined, it will be a standard symbol that is used almost uniformly in plasma physics literature and can most likely be located by the reader by consulting with an article on \"plasma parameters.\""
   ]
  },
  {
   "cell_type": "markdown",
   "metadata": {},
   "source": [
    "## 1. Adiabatic response and characteristic shielding length\n",
    "\n",
    "The Debye length $\\lambda_D$ is an $e$-folding length (or radius) in the electric field strength of a charged particle that develops in plasma systems. Oppositely charged particles within interaction distance of a test charge are influenced by its field and respond to the electrostatic forces accordingly. The net effect is for these particles to aggregate around a test charge so that the electric field is <i>screened out</i> for distances on the order of a Debye length. The plasma remains globally neutral and at zero potential (for length scales $L \\gg \\lambda_D$), yet on length scales comparable to a Debye length ($L \\sim \\lambda_D$) the field of a particle can be detected.\n",
    "\n",
    "The effect can be obtained from considering a test charge $q$ in a plasma with charge density distribution that is produces as a response of this test charge, $\\rho_{resp}$, so that the total charge density is $\\rho (\\vec{x}) = q\\delta (\\vec{x} - \\vec{x}_T) + \\rho_{resp}(\\vec{x})$. We are interested in the pure electrostatic effect of shielding, of which the required information is communicated by Poisson's equation:\n",
    "\n",
    "$$\\nabla^2 \\phi = q\\delta (\\vec{x} - \\vec{x}_T) + \\rho_{resp}(\\vec{x})$$\n",
    "\n",
    "Without loss of generality, we suppose the plasma is infinite in extent and Fourier transform the above equation according to the transform pair:\n",
    "\n",
    "$$\\mathcal{F}f(k) = \\int_{-\\infty}^{\\infty} d^3\\vec{x} e^{-2\\pi i \\vec{k}\\cdot\\vec{x}} f(x)$$\n",
    "\n",
    "$$\\mathcal{F}^{-1}[\\mathcal{F}f](x) = \\frac{1}{(2\\pi)^3}\\int_{-\\infty}^{\\infty} d^3\\vec{k} e^{2\\pi i \\vec{k}\\cdot\\vec{x}} \\mathcal{F}f(k)$$\n",
    "\n",
    "The above becomes\n",
    "\n",
    "$$k^2 \\mathcal{F}\\phi = q e^{-2\\pi i \\vec{k}\\cdot \\vec{x}_T} + \\mathcal{F}\\rho_{resp}$$\n",
    "\n",
    "Noting that\n",
    "\n",
    "$$\\rho_{resp} = \\sum_{\\alpha = e,i} n_{\\alpha}q_{\\alpha} = e(Z_i n_i - n_e)$$\n",
    "\n",
    "we require an additional relationship. Consider the Lorentz force law for a species $\\alpha$:\n",
    "\n",
    "$$q_{\\alpha}\\vec{E} + q_{\\alpha}\\vec{v}\\times \\vec{B} - \\vec{\\nabla}p  = m\\frac{d\\vec{v}}{dt}$$\n",
    "\n",
    "For the case of electrostatics, $\\vec{B} = 0$. We are intereted in the plasma response, "
   ]
  },
  {
   "cell_type": "code",
   "execution_count": null,
   "metadata": {
    "collapsed": true
   },
   "outputs": [],
   "source": []
  }
 ],
 "metadata": {
  "kernelspec": {
   "display_name": "Python 2",
   "language": "python",
   "name": "python2"
  },
  "language_info": {
   "codemirror_mode": {
    "name": "ipython",
    "version": 2
   },
   "file_extension": ".py",
   "mimetype": "text/x-python",
   "name": "python",
   "nbconvert_exporter": "python",
   "pygments_lexer": "ipython2",
   "version": "2.7.3"
  }
 },
 "nbformat": 4,
 "nbformat_minor": 0
}

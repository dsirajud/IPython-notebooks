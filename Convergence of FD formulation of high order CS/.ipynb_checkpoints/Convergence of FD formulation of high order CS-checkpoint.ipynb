{
 "cells": [
  {
   "cell_type": "markdown",
   "metadata": {},
   "source": [
    "#Convergnce of finite difference formulation of high order convected scheme"
   ]
  },
  {
   "cell_type": "markdown",
   "metadata": {},
   "source": [
    "We examine test cases of 1D0V advection (i.e. 1D in configuration, and \"0-dimensional\" in velocity as the velocity is chosen and is not a phase space variable). That is, we solve"
   ]
  },
  {
   "cell_type": "markdown",
   "metadata": {},
   "source": [
    "$$\\frac{\\partial f}{\\partial t} + v\\frac{\\partial f}{\\partial x} = 0$$"
   ]
  },
  {
   "cell_type": "markdown",
   "metadata": {},
   "source": [
    "for the domain $x\\in [-0.5, 1.5]$, $t\\in [0, 1.0]$, and the velocity $v$ is to be chosen. The exact solution at any time $t$ is given by $f(t,x) = f(0, x - vt)$ for any sign of $v$."
   ]
  },
  {
   "cell_type": "markdown",
   "metadata": {},
   "source": [
    "For the convergence analysis of high order CS, we use an asymmetric, infinitely differentiable function for an initial condition that is the superposition of three Gaussian bells:\n",
    "\n",
    "$$f(t = 0, x) \\equiv f_0(x) = \\tfrac{3}{4} \\exp(-\\left(\\tfrac{x + 0.25}{0.03}\\right)^2) + \\exp(-\\left(\\tfrac{x}{0.06}\\right)^2) + \\tfrac{1}{2}\\exp(-(\\tfrac{x - 0.25}{0.1}^2)$$ "
   ]
  },
  {
   "cell_type": "markdown",
   "metadata": {},
   "source": [
    "whose derivatives are given by $(n\\in\\mathbb{Z}_1)$: \n",
    "\n",
    "$$f^{(n)}(x) = \\tfrac{1}{2}\\left(-\\tfrac{2}{0.03}\\tfrac{x + 0.25}{0.03}\\right)^n \\exp(-\\left(\\tfrac{x + 0.25}{0.03}\\right)^2) + \\tfrac{1}{4}\\left(-\\tfrac{2}{0.1}\\tfrac{x + 0.15}{0.1}\\right)^n\\exp(-\\left(\\tfrac{x + 0.2}{0.03}\\right)^2) + \\left(-\\tfrac{2}{0.06}\\tfrac{x}{0.06}\\right)^n\\exp(-\\left(\\tfrac{x}{0.06}\\right)^2) + \\tfrac{1}{2}\\left(-\\tfrac{2}{0.03}\\tfrac{x - 0.2}{0.03}\\right)^n\\exp(-\\left(\\tfrac{x - 0.2}{0.03}\\right)^2) + \\tfrac{1}{2}\\left(-\\tfrac{2}{0.03}\\tfrac{x - 0.25}{0.03}\\right)^n\\exp(-(\\tfrac{x - 0.25}{0.03}^2) $$"
   ]
  },
  {
   "cell_type": "markdown",
   "metadata": {},
   "source": [
    "The idea behind the construction of such a function for the test case is that it has sufficient variability on both longer and shorter wavelengths so that higher order solvers might be able to show visually (as well as by the numbers) that it produces more accurate as compared to lower order solvers of the same kind."
   ]
  },
  {
   "cell_type": "markdown",
   "metadata": {},
   "source": [
    "## Convergence of matrix finite difference formulation of derivative"
   ]
  },
  {
   "cell_type": "markdown",
   "metadata": {},
   "source": [
    "We first analyze the function in centered position given above, and is repeated here for convenience:\n",
    "\n",
    "$$f(t = 0, x) \\equiv f_0(x) = \\tfrac{1}{2} \\exp(-\\left(\\tfrac{x + 0.25}{0.03}\\right)^2) + \\tfrac{1}{4}\\exp(-\\left(\\tfrac{x + 0.15}{0.1}\\right)^2) + \\exp(-\\left(\\tfrac{x}{0.06}\\right)^2) + \\tfrac{1}{2}\\exp(-\\left(\\tfrac{x - 0.2}{0.03}\\right)^2) + \\tfrac{1}{2}\\exp(-(\\tfrac{x - 0.25}{0.03}^2)$$ "
   ]
  },
  {
   "cell_type": "code",
   "execution_count": 10,
   "metadata": {
    "collapsed": false
   },
   "outputs": [
    {
     "data": {
      "text/plain": [
       "<matplotlib.text.Text at 0x4735f50>"
      ]
     },
     "execution_count": 10,
     "metadata": {},
     "output_type": "execute_result"
    },
    {
     "data": {
      "image/png": "[encoded data removed]",
      "text/plain": [
       "<matplotlib.figure.Figure at 0x430ad50>"
      ]
     },
     "metadata": {},
     "output_type": "display_data"
    }
   ],
   "source": [
    "%matplotlib inline\n",
    "import numpy as np\n",
    "import matplotlib.pyplot as plt\n",
    "\n",
    "x = np.linspace(-0.5,1.5,1000)\n",
    "f = 0.75*np.exp(-((x + 0.25) / 0.03)**2) + \\\n",
    "       np.exp(-(x / 0.06)**2) + \\\n",
    "      0.5*np.exp(-((x - 0.25) / 0.1)**2)\n",
    "\n",
    "plt.plot(x,f,'-b', linewidth = 2)\n",
    "plt.grid()\n",
    "plt.xlabel('$x$', fontsize = 14)\n",
    "plt.ylabel('$y$', fontsize = 14)"
   ]
  },
  {
   "cell_type": "markdown",
   "metadata": {},
   "source": []
  },
  {
   "cell_type": "markdown",
   "metadata": {},
   "source": [
    "## Review of high order convected scheme (CS) [brief]"
   ]
  },
  {
   "cell_type": "markdown",
   "metadata": {},
   "source": [
    "In order to correct the numerical solution $f_{CS}(t^{n+1},x_i) = f_{i,CS}^{n+1} \\equiv f_i^{n+1}$ at a given time step (cf. prelim document), we require adding contributions from all such high order pre-fluxes $[Uf]_{i'}^{n}$ transmitted from prepoints $\\{i'\\}$ that reach within a cell distance $\\Delta x$ of a point $i$ (which the author enjoys referring to as pre-efflux -> 'preffluxes' (/preˈfləks/) so that a portion of the density packet is appropriated to the cell center $i$. Following this prescription produces the approximate CS solution: at a time $t^{n+1}$\n",
    "\n",
    "$$f_{exact}(t^{n+1},x_i) = f_i^{n+1} + O(\\Delta x^{N+1})$$\n",
    "\n",
    "where the local truncation error (LTE) is $O(\\Delta x^{N+1})$, and corresponding global error (GE) at the end of simulation as $O(\\Delta x^N)$. If convected scheme is employed in its raw form, its local truncation error is $O(\\Delta x^2)$. A means of achieving higher order of local truncation error is provided by considering the CS update statement at a position $i$ at the time $t^{n+1}$ as contributions from all such locations that are convected from prepoint cells ($\\{k\\}$ or $\\{i'\\}$ equipped with velocities $\\{v_k\\}$ and $\\{v_{i'}\\}$) to within a cell spacing of the center $i$ (fractions of the density packets are allocated to all contiguous cells from its exact postpoint location). There is no error in pushing density packets an integral number of cells, hence the only source of error in convected scheme that can be corrected to higher order comes from the remap assignment involving the fractional CFL number $\\alpha = \\text{CFL} - \\text{frac}[v\\Delta t / \\Delta x]$ which we refer to as the corrected fraction $U$ defined such that $U = \\alpha + O(\\Delta x^{N+1})$ to higher order whose form is to be seeked. For the asserted uniform density profile for each packet, we have the general total update statement where the integer push from the $\\text{CFL}$ number pushes prepoints $\\{k, i'\\}$ to within one cell spacing of the grid point $i$ (either to $i$ or to $i \\pm 1$), and the signed fractional component in the partition of the CFL number, $\\alpha$ (or $U$) is defined with a convention such that this fractional (normalized) distance $U$ is such that it will not push a packet at a location $\\{i, i\\pm 1\\}$ outside of one cell spacing $\\Delta x$ of the grid center $i$. In high order CS, \n",
    "\n",
    "$$f_i^{n+1} = \\pm \\sum_{k: k\\to i\\mp1}U_{k}^n f_{k}^n + \\sum_{i' : i'\\to i} (1 \\mp U_{i'}^n) f_{i'}^n$$\n",
    "\n",
    "where $U_{\\ell},\\, (\\ell = i', k)$ labels the originating grid point's fractional CFL number (in classical CS, we swap $U$ with $\\alpha$). If $v > 0\\, (U > 0)$, choosing the top sign produces the appropriate update statement, and vice versa. The above is an update statement for all cells with arbitrary velocities ($\\partial_t f + v(t,x) \\partial_x f = 0$). Alternatively, each cell can be viewed to solve its own 1D constant speed advection equation ($\\partial_t f_{\\ell} + v_{\\ell}\\partial_x f_{\\ell} = 0$) where $f_{\\ell}$ a density function for all $x$ with compact support that is only nonzero at the cell $x_{\\ell} \\pm \\Delta x$, and thus the total solution is the assembly of each solution for each density packet $\\ell$, i.e. \n",
    "\n",
    "$$\\sum_{\\ell} \\partial_t f_{\\ell} + v_{\\ell}\\partial_x f_{\\ell} = 0 \\rightarrow \\partial_t f + v(t,x) \\partial_x f = 0,$$ \n",
    "\n",
    "which follows from our partition $\\sum_{\\ell} f_{\\ell} = f$. Thus, rather than viewing the update as a sum over all cells that are advected to contiguous cells of a cell center of interest $i$, we can consider one cell at a time for an incremental update and discern a relevant correction for the one-cell update which can be combined with corrected one-cell updates for all cells to assemble the total solution. Equivalently, we can always identify pairs of cells that map to contiguous cells (even if one maps zeros, so there is not conflict with an odd number of gridpoints). Choosing to pursue this option allows for some convenient cancellation of terms that are not transparent in the one-cell update statement so we elect to analyze one such pair $\\{k,i'\\}$ so that the above total statement collapses to the simple statement:\n",
    "\n",
    "$$f_i^{n+1} = \\pm U_{i \\mp 1}^n f_{i \\mp 1}^n + (1 \\mp U_i^n) f_i^n$$\n",
    "\n",
    "Thus, correcting this update for one pair to higher order permits us to correct the total solution by summing over all pairs. To that end, we assert the density at $(t^n, x_i)$ is known exactly, i.e. $f_i^n = f_{exact}(t^n,x_i) \\equiv f(t,x)$. Labeling this time and position without sub/superscripts to emphasize it is analytically exact, we expand the above to obtain:\n",
    "\n",
    "$$f^{n+1}_{i} =  f(t,x) + \\sum_{p = 1}^{N}\\frac{(\\mp\\Delta x)^p}{p!}\\frac{\\partial^p(Uf)}{\\partial x^p}\\biggr|_{(t,x)} + \\mathcal{O}(\\Delta x^{N+1}) \\qquad \\qquad \\text{(*)}$$\n",
    "\n",
    "where again, choosing the top sign corresponds to $v > 0 \\, (U > 0)$. The (normalized) flux $[Uf]$ is modelled as a power series with to be determined coefficient functions $\\beta_q = \\beta_q(\\alpha )$ which after much algebra can be shown to be recorded as the following:\n",
    "\n",
    "$$[Uf]_{i'}^n = \\sum_{q = 0}^{N-1} c_q d^n_{i,q}$$\n",
    "\n",
    "where,\n",
    "\n",
    "$$c_q = (-1)^q\\beta_q(\\alpha )$$\n",
    "\n",
    "$$d_{i,q}^n = (\\Delta x)^q \\frac{\\partial^q f^n}{\\partial x^q}$$\n",
    "\n",
    "so that,\n",
    "\n",
    "$$[Uf]_{i'}^n \\sim \\sum_{q = 0}^{N-1}(\\Delta x)^q \\frac{\\partial^q f^n}{\\partial x^q}$$\n",
    "\n",
    "Comparing the above formulation for the flux $[Uf]$ and eq. $\\text{(*)}$, \n",
    "\n",
    "$$f^{n+1}_{i} \\sim f(t,x) + \\frac{(\\mp\\Delta x)^1}{1!}\\frac{\\partial^1}{\\partial x^1}\\left(f(t,x) + \\sum_{q = 1}^{N-1}(\\Delta x)^q \\frac{\\partial^q f^n}{\\partial x^q} \\right) + \\frac{(\\mp\\Delta x)^2}{2!}\\frac{\\partial^2}{\\partial x^2}\\left(f(t,x) + \\sum_{q = 1}^{N-1}(\\Delta x)^q \\frac{\\partial^q f^n}{\\partial x^q} \\right)  + \\ldots + \\frac{(\\mp\\Delta x)^N}{N!}\\frac{\\partial^N}{\\partial x^N}\\left(f(t,x) + \\sum_{q = 1}^{N-1}(\\Delta x)^q \\frac{\\partial^q f^n}{\\partial x^q} \\right) + \\mathcal{O}(\\Delta x^{N+1})$$\n",
    "\n",
    "\n",
    "\n",
    "it is clear that the ultimate criteria that needs to be met so that the CS solution for the density $f$ is accurate with a local truncation error of $O(\\Delta x^{N+1}$ is that this sum over $p$ and $q$ has each term to have an LTE of $O(\\Delta x^{N+1}$. Since the outer sum over $p\\in \\mathbb{N}_1^N$ multiplies each series over $q$ (the flux expansion $[Uf]$) by at least $p = 1$, $(\\Delta x)^1$, this reduces the restriction on the accuracy by exactly one, so that each flux $[Uf]$ must have an LTE of $O(\\Delta x^N)$, which is guaranteed then to be of order $O(\\Delta x^{N+1})$ overall. \n",
    "\n",
    "Thus, we have the requirement\n",
    "\n",
    "$$\\text{LTE}[d_{i,\\ell}^n]_{\\ell\\geq 1} = \\text{LTE}\\left[ (\\Delta x)^{\\ell} \\frac{\\partial^{\\ell} f^n}{\\partial x^q} \\right] = O(\\Delta x^N) \\Rightarrow \\boxed{\\text{LTE}\\left[\\frac{\\partial^{\\ell} f}{\\partial x^{\\ell}}\\right] = O(\\Delta x^{N - \\ell})}$$\n",
    "\n",
    "The reader is invited to review the preliminary document at dsirajud/Preliminary-examination/ for more details.\n",
    "\n",
    "The coefficients $\\{c_q\\}$ are constants that are limited by the precision on a computer, whereas the derivative coefficients $d_{i,q}^n$ are limited by the order of accuracy of the derivatives. <u>It is a central conclusion in the corrective prescription for high order CS, that this order requirement for the derivatives (and a means of computing them to this order of accuracy) is needed in order to correct the method up to the desired order in theory. In practice, we regard from experience that different derivates are convergent for different ranges in resolutions of meshes. It is thought these numerical limitations of convergence in derivatives may preclude CS from being corrected up to higher order in practice, or at least proven. Investigating this latter concern is the goal of this notebook.</u>"
   ]
  },
  {
   "cell_type": "markdown",
   "metadata": {},
   "source": [
    "## Goals of this notebook"
   ]
  },
  {
   "cell_type": "markdown",
   "metadata": {},
   "source": [
    "To investigate the convergence of high order CS using finite differences for the derivative estimates above, we proceed in two directions in order to isolate what seems to be a problem in the method performing as high as predicted."
   ]
  },
  {
   "cell_type": "markdown",
   "metadata": {},
   "source": [
    "\n",
    "\n",
    "<li> Advection of the density profile does not encounter edges throughout the simulation, i.e. $v$ sufficiently small over simulation time $t\\in [0, 1.0]$. In this way, we avoid \"edge effects\" where the finite difference scheme deviates from the as-central-as-possible scheme used in the interior nodes and thus consider the singular goal of testing how possible it is to verify convergence of various orders $N$ when essentially only one scheme is being applied for the differencing rather than a collection, since the derivatives far from the profile center are negligibly small.</li>\n",
    "<li> Advection of the density profile <i>does</i> encounter the edges and is advected to the other side of the domain by the application of periodic BCs. Note: the periodic BCs are not applied on the derivatives, but only on the particle pusher in the CS algorithm: DECSKS.lib.convect.advection_step. Thus, this second test is to examine what effect the mixing of finite difference schemes has on maintaining CS of higher order and to what extent it is possible to correct CS without running into, e.g. numerical error buildup precluding higher orders from being accessible. The optimal mesh spacing that exists for each derivative (cf. IPython-notebooks/Convergence of FD calculations of derivatives/Convergence of FD calculations of derivatives.ipynb) is different, and with higher order derivatives needed the range of mesh sizes such that every derivative converges may not be possible.</li>\n",
    "</ol>"
   ]
  },
  {
   "cell_type": "code",
   "execution_count": null,
   "metadata": {
    "collapsed": true
   },
   "outputs": [],
   "source": []
  }
 ],
 "metadata": {
  "kernelspec": {
   "display_name": "Python 2",
   "language": "python",
   "name": "python2"
  },
  "language_info": {
   "codemirror_mode": {
    "name": "ipython",
    "version": 2
   },
   "file_extension": ".py",
   "mimetype": "text/x-python",
   "name": "python",
   "nbconvert_exporter": "python",
   "pygments_lexer": "ipython2",
   "version": "2.7.3"
  }
 },
 "nbformat": 4,
 "nbformat_minor": 0
}

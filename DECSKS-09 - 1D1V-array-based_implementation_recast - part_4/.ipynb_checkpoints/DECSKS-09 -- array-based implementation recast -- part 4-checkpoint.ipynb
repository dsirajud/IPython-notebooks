{
 "cells": [
  {
   "cell_type": "markdown",
   "metadata": {},
   "source": [
    "# Recasting field solvers for 1D1V stepthrough"
   ]
  },
  {
   "cell_type": "markdown",
   "metadata": {},
   "source": [
    "## <font color = \"red\">DECSKS-1.2 lib.fieldsolvers.Gauss</font>"
   ]
  },
  {
   "cell_type": "code",
   "execution_count": null,
   "metadata": {
    "collapsed": true
   },
   "outputs": [],
   "source": [
    "def Gauss(ni, f, x, v, n):\n",
    "    \"\"\"Computes self-consistent electric field E by solving Poisson's equation\n",
    "    using FFT/IFFT.\n",
    "\n",
    "    inputs:\n",
    "    ni -- (float) uniform background density of ions,\n",
    "                  in the future can take an input fi, to compute ni\n",
    "    f -- (ndarray, dim=2) electron density fe(x,v,n) at time step t^n\n",
    "                          used to compute ne(x,n) at time step t^n\n",
    "    x -- (instance) spatial variable\n",
    "    v -- (instance) velocity variable\n",
    "    n -- (int) time step number, t^n\n",
    "\n",
    "\n",
    "    outputs:\n",
    "    E -- (ndarray,dim=1) electric field, E(x) at time t^n\n",
    "    \"\"\"\n",
    "    ne = DECSKS.lib.density.single_integration(f[n,:x.N,:v.N], of = x, wrt = v)\n",
    "\n",
    "    xi    = np.zeros(x.N)\n",
    "    E_hat = np.zeros(x.N, dtype = complex) # container\n",
    "\n",
    "\n",
    "    # define wave indices\n",
    "    for r in range(x.N):\n",
    "        if r <= x.N/2 :\n",
    "            xi[r] = 2*np.pi*r / x.L\n",
    "        else:\n",
    "            xi[r] = 2*np.pi*(r - x.N) / x.L\n",
    "\n",
    "    # total charge density, n(x), len(n) = Nx\n",
    "\n",
    "    n = ni - ne\n",
    "\n",
    "    N = np.fft.fft(n)\n",
    "    A    = max(N)\n",
    "    eps   = 2.0e-15\n",
    "    xi_min = A*eps\n",
    "    for r in range(x.N):\n",
    "        if np.abs(N[r]) < xi_min:\n",
    "            N[r] = 0\n",
    "\n",
    "    # E_hat[0] = 0 from periodic BCs, i.e. because N[0] = 0, quasineutrality\n",
    "    # equivalently, E_hat[0] is the DC field, of which there is none in\n",
    "    # a quasineutral system of charged particles, only flucutations are present\n",
    "    # E_hat[0] = 0 already from E_hat vector initialization\n",
    "\n",
    "    for each in range(1,len(xi)):\n",
    "\n",
    "        E_hat[each] = 1 / (1j*xi[each]) * N[each]         # Electric field in Fourier space\n",
    "\n",
    "\n",
    "    E = np.real(np.fft.ifft(E_hat))    # Electric field in configurational space\n",
    "    E = np.outer(E, np.ones([1, v.N]))\n",
    "\n",
    "    return E\n"
   ]
  },
  {
   "cell_type": "markdown",
   "metadata": {},
   "source": [
    "Note: the single_integration function is a one-liner. We only implemented it for clarity in execution, it takes the following form"
   ]
  },
  {
   "cell_type": "markdown",
   "metadata": {},
   "source": [
    "### lib.density.single_integration \n",
    "\n",
    "(note this is in lib.density because it was used there \"first\", we will just copy the function to lib.fieldsolvers for obvious affiliation lib.fieldsolvers.single_integration"
   ]
  },
  {
   "cell_type": "code",
   "execution_count": null,
   "metadata": {
    "collapsed": true
   },
   "outputs": [],
   "source": [
    "def single_integration(f, of = None, wrt = None):\n",
    "    \"\"\"integrates once a single variable or two variable\n",
    "    function, i.e. computes integral f(z,wrt) d(wrt) = f(z),\n",
    "    or integral f(wrt) d(wrt) = F. For the case of a two\n",
    "    variable function, 'of' is the unintegrated variable\n",
    "    such that f is a function 'of' that variable after it was\n",
    "    integrated with respect to the variable 'wrt'.\n",
    "\n",
    "    inputs:\n",
    "    f -- (ndarray, ndim = 1,2) density at a given time\n",
    "    of -- (instance) phase space variable\n",
    "    wrt -- (instance) phase space variable, integration var\n",
    "\n",
    "    outputs:\n",
    "    F -- (ndarray, ndim = 1 or float) integrated result\n",
    "    \"\"\"\n",
    "    z = of\n",
    "    if z is not None:\n",
    "        F = np.zeros(z.N)\n",
    "        for i in z.prepoints:\n",
    "            F[i] = riemann_sum(f[i,:],wrt)\n",
    "    elif z is None:\n",
    "        F = sum(f)*wrt.width\n",
    "    return F\n",
    "\n",
    "def riemann_sum(f, wrt):\n",
    "    \"\"\"Computes integral f(wrt) d(wrt) when spacing wrt.width\n",
    "    is uniform on mesh\n",
    "\n",
    "    inputs:\n",
    "    f -- (ndarray, ndim = 1) 1D array\n",
    "    wrt -- (instance) phase space variable\n",
    "\n",
    "    outputs:\n",
    "    ne -- (float) integrated result\n",
    "     \"\"\"\n",
    "    ne = sum(f)*wrt.width\n",
    "    return ne\n",
    "\n",
    "    # if non-uniform spacing:\n",
    "    #z = wrt\n",
    "    #ne = 0\n",
    "    #for i in range(z.N):\n",
    "    #    ne += f[i]*z.width\n"
   ]
  },
  {
   "cell_type": "markdown",
   "metadata": {},
   "source": [
    "<font color = \"red\">NOTE, an actual unwise (terrible) decision that was made has just been realized here upon looking at the above paste. That is, we should not be using the sum function in riemann_sum, this can be 100+ times slower than numpy.sum when operating on larger ndarrays. This was likely a modest bottleneck in our previous implementation (v1.2), further we should be addressing numpy.sum about the relevant axis in order to contract the pythonic looping and inherit the expediency.</font>"
   ]
  },
  {
   "cell_type": "markdown",
   "metadata": {},
   "source": [
    "### <font color = \"green\">lib.fieldsolvers.single_integration</font>"
   ]
  },
  {
   "cell_type": "code",
   "execution_count": null,
   "metadata": {
    "collapsed": true
   },
   "outputs": [],
   "source": [
    "def single_integration(f, of = None, wrt = None):\n",
    "    \"\"\"integrates once a single variable or two variable\n",
    "    function, i.e. computes integral f(z,wrt) d(wrt) = f(z),\n",
    "    or integral f(wrt) d(wrt) = F. For the case of a two\n",
    "    variable function, 'of' is the unintegrated variable\n",
    "    such that f is a function 'of' that variable after it was\n",
    "    integrated with respect to the variable 'wrt'. Momentarily\n",
    "    writing of = z, the returned integrated function would \n",
    "    then be F = F(z). If of = None, then the return is\n",
    "    F = sum(F)*wrt.width = constant.\n",
    "    \n",
    "    Note: there is no need for conditional checks here,\n",
    "    if we wish to integrate along rows we specificy axis = 0\n",
    "    in numpy.sum. If the density passed is 1D, axis = 0 still\n",
    "    adds up all the entries as needed.\n",
    "\n",
    "    inputs:\n",
    "    f -- (ndarray, ndim = 1,2) density at a given time\n",
    "    of -- (instance) phase space variable\n",
    "    wrt -- (instance) phase space variable, integration var\n",
    "\n",
    "    outputs:\n",
    "    F -- (ndarray, ndim = 1 or float) integrated result\n",
    "    \"\"\"\n",
    "    \n",
    "    return np.sum(f, axis = 0)*wrt.width\n",
    "  "
   ]
  },
  {
   "cell_type": "markdown",
   "metadata": {},
   "source": [
    "<b>We note that the function riemann_sum() is not needed</b>"
   ]
  },
  {
   "cell_type": "markdown",
   "metadata": {},
   "source": [
    "The function E = E(x) is a 1D function, no further changes are needed to the Fourier Gauss solver but one generalization to map its values to a 2D grid so each value is matched to every [i,j]. Actually, the acceleration ax depends on the electric field, which itself is an instance with similar attributes to x, vx. In lib.split we have the following initialization:"
   ]
  },
  {
   "cell_type": "code",
   "execution_count": null,
   "metadata": {
    "collapsed": true
   },
   "outputs": [],
   "source": [
    "            elif coeff[s] == 'b': # advect v\n",
    "                Ex = DECSKS.lib.fieldsolvers.Gauss(sim_params['ni'], f, x, vx, n-1, sim_params) # calculate accelerations at time zero (n-1)\n",
    "                ax = DECSKS.lib.domain.Setup(sim_params, 'a', 'x')\n",
    "                ax.prepointvaluemesh = -Ex"
   ]
  },
  {
   "cell_type": "markdown",
   "metadata": {},
   "source": [
    "For the current Vlasov equation, one species, where many units are normalized to particular plasma parameters (time is incremented in inverse electron plasma frequencies, E is normalized by the electron inertia and so on). Now,\n",
    "\n",
    "    ax.prepointvaluemesh.shape = (x.N, v.N)\n",
    "    \n",
    "and\n",
    "\n",
    "    Ex.shape = (x.N,)\n",
    "    \n",
    "since Ex = Ex(x), the values are constant for every row, hence we can generate the relevant 2D matrix Ex that gives the electric field at every point [i,j] by the following:\n",
    "\n",
    "$$\\underline{E}_{x,N_x\\times 1} \\longrightarrow \\underline{\\underline{E}}_{x,N_x\\times N_v} = \\underline{E}_{x,N_x\\times 1} \\otimes\\underline{1}_{N_v\\times 1}$$\n",
    "\n",
    "or\n",
    "\n",
    "\n",
    "$$\\left(\\begin{array}{c}\n",
    "E_0\\\\\n",
    "E_1\\\\\n",
    "\\vdots \\\\\n",
    "E_{N_x-1}\n",
    "\\end{array}\\right)_{N_x\\times 1} \\otimes (1, 1, \\ldots , 1)_{N_v\\times 1} = \\left(\\begin{array}{cccc}\n",
    "E_0 & E_0 & \\ldots & E_0 \\\\\n",
    "E_1 & E_1 & \\ldots & E_1 \\\\\n",
    "\\vdots & \\vdots & \\ldots & \\vdots \\\\\n",
    "E_{N_x - 1} & E_{N_x - 1} & \\ldots & E_{N_x-1}\\end{array}\\right)_{N_x\\times N_v} = -\\underline{\\underline{a}}_x$$"
   ]
  },
  {
   "cell_type": "markdown",
   "metadata": {},
   "source": [
    "The original Gauss solver is naive in its means of computing. We can do better. The following revision is appropriate, and to render it a consistent with this 1D1V stepthrough in DECSKS-v2.0, we include the aforementioned outer product at the conclusion for the function return."
   ]
  },
  {
   "cell_type": "markdown",
   "metadata": {},
   "source": [
    "### <font color = \"green\">lib.fieldsolvers.Gauss1D1V</font>"
   ]
  },
  {
   "cell_type": "code",
   "execution_count": null,
   "metadata": {
    "collapsed": true
   },
   "outputs": [],
   "source": [
    "def Gauss1D1V(ni, f, x, vx, n, sim_params):\n",
    "    \"\"\"Computes self-consistent electric field E by solving Gauss' law\n",
    "    using FFT/IFFT.\n",
    "\n",
    "    inputs:\n",
    "    ni -- (float) uniform background density of ions,\n",
    "                  in the future can take an input fi, to compute ni\n",
    "    f -- (ndarray, dim=2) electron density fe(x,v,n) at time step t^n\n",
    "                          used to compute ne(x,n) at time step t^n\n",
    "    x -- (instance) spatial variable\n",
    "    vx -- (instance) velocity variable\n",
    "    n -- (int) time step number, t^n\n",
    "    sim_params -- (dict) simulation parameters dictionary\n",
    "        sim_params['xi'] -- (ndarray, ndim=1) wave number vector over x\n",
    "\n",
    "    outputs:\n",
    "    E -- (ndarray,dim=2) electric field, E(x,y) = E(x) at time t^n for all (i,j)\n",
    "    \"\"\"\n",
    "    f = DECSKS.lib.convect.extract_active_grid(sim_params, f[n,:,:])\n",
    "    ne = single_integration(f, of = x, wrt = vx)\n",
    "    n_total = ni - ne\n",
    "\n",
    "    Fn_total = np.fft.fft(n_total) # transformed density\n",
    "    FE = np.zeros(ne.shape, dtype = complex)\n",
    "\n",
    "    FE[1:] = 1 / (1j * sim_params['xi']['x'][1:]) * Fn_total[1:]\n",
    "    # implicit here is that FE[0] = 0, i.e. we solved for only the fluctuating\n",
    "    # portion of the field. If the boundary conditions are *not* periodic\n",
    "    # then some adjustment will need to be factored in (cf. notebook\n",
    "    # DECSKS-05 for discussion on how to do this)\n",
    "\n",
    "    # extend for all [i,j]\n",
    "    E = np.outer(E, np.ones([1, vx.N]))\n",
    "\n",
    "    return E"
   ]
  },
  {
   "cell_type": "markdown",
   "metadata": {},
   "source": [
    "Note, as used above, we have taken some measures to store the wave number vector xi in sim_params['xi'] already. We also modify the original 1D lib.fieldsolvers.Gauss function, but do not show the result here as it is identical with the exception of the final outer product."
   ]
  },
  {
   "cell_type": "markdown",
   "metadata": {},
   "source": [
    "## Remaining field solver: lib.fieldsolvers.Poisson_PBC_6th_1D1V"
   ]
  },
  {
   "cell_type": "markdown",
   "metadata": {
    "collapsed": true
   },
   "source": [
    "The remaining field solvers are generalized exactly the same. That is, we only need to append an outer product of exactly the same sort as above to each of these 1D solutions in order to map them to all [i,j] in the 2D implementation."
   ]
  },
  {
   "cell_type": "markdown",
   "metadata": {},
   "source": [
    "<b>We note that the 6th order Poisson FD solve on periodic boundary conditions assembles the same matrix every time substep. As usual, we decide to store this in sim_params as a subdictionary sim_params['Poisson_6th_FD_solver'] where the matrices are accessed as sim_params['Poisson_6th_FD_solver']['D'], and sim_params['Poisson_6th_FD_solver']['B'], see notebook DECSKS-04 for details on what is contained in these matrices and where they come from."
   ]
  },
  {
   "cell_type": "code",
   "execution_count": null,
   "metadata": {
    "collapsed": true
   },
   "outputs": [],
   "source": [
    "def Poisson_PBC_6th(ni, f,\n",
    "                x, v, n,\n",
    "                sim_params):\n",
    "    \"\"\"6th order LTE finite difference Poisson solver for periodic BCs\n",
    "\n",
    "    inputs:\n",
    "    ni -- (float) uniform background density of ions,\n",
    "                  in the future can take an input fi, to compute ni\n",
    "    f -- (ndarray, dim=2) electron density fe(x,v,n) at time step t^n\n",
    "                          used to compute ne(x,n) at time step t^n\n",
    "    x -- (instance) spatial variable\n",
    "    v -- (instance) velocity variable\n",
    "    n -- (int) time step number, t^n\n",
    "\n",
    "\n",
    "    outputs:\n",
    "    phi -- (ndarray,dim=1) scalar potential, phi(x) at time t^n,\n",
    "           for i = 0, 1, ... , x.N - 1, one full period\n",
    "    \"\"\"\n",
    "\n",
    "    # charge densities\n",
    "    ne = DECSKS.lib.density.single_integration(f[n,:x.N,:v.N], of = x, wrt = v)\n",
    "    n = ne - ni\n",
    "\n",
    "    # form the tensor objects involved in the numerical solution\n",
    "    #\n",
    "    #     d^2 phi = n --> D*phi = B*n + phi_BC\n",
    "\n",
    "    # label the RHS as b = dx ** 2 * B*n\n",
    "    b = x.width ** 2 * sim_params['Poisson_6th_order_PBC_FD_solver_matrices']['B'].dot(n)\n",
    "\n",
    "    # solve D*phi = b\n",
    "    phi = LA.solve(sim_params['Poisson_6th_order_PBC_FD_solver_matrices']['D'], b)\n",
    "\n",
    "    # PBCs do not produce unique solutions but a family of solutions with arbitrary integration constant\n",
    "    # that corresponds to a DC offset phi_avg, recenter so that phi_avg = 0\n",
    "\n",
    "    phi_avg = np.sum(phi) * x.width / x.L\n",
    "    phi -= phi_avg\n",
    "\n",
    "    return phi\n",
    "\n",
    "def Poisson_PBC_6th_1D1V(ni, f,\n",
    "                x, v, n,\n",
    "                sim_params):\n",
    "    \"\"\"6th order LTE finite difference Poisson solver for periodic BCs\n",
    "\n",
    "    inputs:\n",
    "    ni -- (float) uniform background density of ions,\n",
    "                  in the future can take an input fi, to compute ni\n",
    "    f -- (ndarray, dim=2) electron density fe(x,v,n) at time step t^n\n",
    "                          used to compute ne(x,n) at time step t^n\n",
    "    x -- (instance) spatial variable\n",
    "    v -- (instance) velocity variable\n",
    "    n -- (int) time step number, t^n\n",
    "\n",
    "\n",
    "    outputs:\n",
    "    phi -- (ndarray,dim=2) scalar potential, phi(x,v) = phi(x) at time t^n,\n",
    "           for i = 0, 1, ... , x.N - 1, one full period\n",
    "    \"\"\"\n",
    "\n",
    "    # charge densities\n",
    "    ne = DECSKS.lib.density.single_integration(f[n,:x.N,:v.N], of = x, wrt = v)\n",
    "    n = ne - ni\n",
    "\n",
    "    # form the tensor objects involved in the numerical solution\n",
    "    #\n",
    "    #     d^2 phi = n --> D*phi = B*n + phi_BC\n",
    "\n",
    "    # label the RHS as b = dx ** 2 * B*n\n",
    "    b = x.width ** 2 * sim_params['Poisson_6th_order_PBC_FD_solver_matrices']['B'].dot(n)\n",
    "\n",
    "    # solve D*phi = b\n",
    "    phi = LA.solve(sim_params['Poisson_6th_order_PBC_FD_solver_matrices']['D'], b)\n",
    "\n",
    "    # PBCs do not produce unique solutions but a family of solutions with arbitrary integration constant\n",
    "    # that corresponds to a DC offset phi_avg, recenter so that phi_avg = 0\n",
    "\n",
    "    phi_avg = np.sum(phi) * x.width / x.L\n",
    "    phi -= phi_avg\n",
    "\n",
    "    phi = np.outer(phi, np.ones[1,v.N])\n",
    "\n",
    "    return phi"
   ]
  }
 ],
 "metadata": {
  "kernelspec": {
   "display_name": "Python 2",
   "language": "python",
   "name": "python2"
  },
  "language_info": {
   "codemirror_mode": {
    "name": "ipython",
    "version": 2
   },
   "file_extension": ".py",
   "mimetype": "text/x-python",
   "name": "python",
   "nbconvert_exporter": "python",
   "pygments_lexer": "ipython2",
   "version": "2.7.3"
  }
 },
 "nbformat": 4,
 "nbformat_minor": 0
}

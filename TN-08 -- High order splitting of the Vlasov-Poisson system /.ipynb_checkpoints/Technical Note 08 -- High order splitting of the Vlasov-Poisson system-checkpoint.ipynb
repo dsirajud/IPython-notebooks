{
 "cells": [
  {
   "cell_type": "markdown",
   "metadata": {},
   "source": [
    "# High order splitting of the Vlasov-Poisson system"
   ]
  },
  {
   "cell_type": "markdown",
   "metadata": {},
   "source": [
    "In this document we step through some of the proofs outlined in Crouseilles et al. [2015, arXiv] pertaining to the Poisson structure of the Vlasov-Poisson system as well as show some other properties [ http://www-m16.ma.tum.de/foswiki/pub/M16/Allgemeines/NumMethVlasov/Num-Meth-Vlasov-Notes.pdf ]. We form the appropriate bracket objects which present equivalent formulations of the system, demonstrate they have properties identical to Lie bracket operators and thus are housed under a classical Lie algebra. With this demonstration, we inherit significant properites associated with the underlying algebra and Poisson structure, permitting us to begin making large steps towards the end goal of splitting the system and discerning high order compositions of integrators for reduced equations."
   ]
  },
  {
   "cell_type": "markdown",
   "metadata": {},
   "source": [
    "The Vlasov equation is a hyperbolic partial differential equation where field quantities $E$ and $B$ evolve by Maxwell's equations.\n",
    "\n",
    "$$\\partial_t f + \\vec{v}\\cdot \\vec{\\nabla}_xf + (\\vec{E} + \\vec{v}\\times\\vec{B})\\cdot \\vec{\\nabla}_v f = 0$$\n",
    "\n",
    "or in indicial notation, a cross product is written as\n",
    "\n",
    "$$\\vec{v}\\times\\vec{c} = e_{ijk}v_jc_k\\vec{e}_i$$\n",
    "\n",
    "$e_{ijk}$ is the permutation symbol, i.e. the Levi-Civita pseudotensor (+1 for even permutations of (1,2,3), -1 for odd permutations, and 0 for equal indices). Then the magnetic term can be written indicially as:\n",
    "\n",
    "$$\\vec{v}\\times\\vec{B}\\cdot \\vec{\\nabla}_v = e_{ijk}v_jB_k\\partial_i$$"
   ]
  },
  {
   "cell_type": "markdown",
   "metadata": {},
   "source": [
    "[Aside, random proof]: Next, note that for a constant vector $\\vec{c}$ and non-constant vector $\\vec{v}$, we have\n",
    "\n",
    "$$\\vec{\\nabla}\\cdot(\\vec{v}\\times\\vec{c}) = \\vec{e}_{\\ell}\\partial_{\\ell}\\cdot (e_{ijk}v_jc_k\\vec{e}_i) =  (e_{ijk}\\partial_i v_{j})c_k = (e_{ijk}\\partial_iv_j\\vec{e}_k)\\cdot \\vec{c} = (\\vec{\\nabla}\\times\\vec{v})\\cdot\\vec{c}$$\n",
    "\n",
    "Thus,\n",
    "\n",
    "$$\\vec{\\nabla}\\times\\vec{v} = e_{ijk}\\partial_iv_{j}\\vec{e}_k$$\n"
   ]
  },
  {
   "cell_type": "markdown",
   "metadata": {},
   "source": [
    "So the above can be written as:\n",
    "\n",
    "$$\\partial_t f + v_i \\partial_{x_i}f + (E_i + e_{ijk}v_jB_k\\partial_{v_i})f = 0$$"
   ]
  },
  {
   "cell_type": "markdown",
   "metadata": {},
   "source": [
    "Note, another way of writing the above is to form the field \n",
    "\n",
    "$$\\vec{\\vec{A}} = \\left(\\begin{array}{c}\n",
    "\\vec{v} \\\\\n",
    "\\vec{E} + \\vec{v}\\times\\vec{B}\\end{array}\\right) = \\vec{v}\\hat{e}_{z_1} + (\\vec{E} + \\vec{v}\\times\\vec{B})\\hat{e}_{z_2}$$\n",
    "\n",
    "and forming the phase space del operator $\\vec{\\nabla}_{x,v}\\cdot = \\vec{\\nabla}_x\\hat{e}_{z_1} + \\vec{\\nabla}_v\\hat{e}_{z_2}$, we see that \n",
    "\n",
    "\\begin{eqnarray}\n",
    "\\vec{\\nabla}_{x,v}\\cdot \\vec{\\vec{A}} & = & (\\vec{\\nabla}_x\\hat{e}_{z_1} + \\vec{\\nabla}_v\\hat{e}_{z_2})\\cdot (\\vec{v}\\hat{e}_{z_1} + (\\vec{E} + \\vec{v}\\times\\vec{B})\\hat{e}_{z_2} ) \\\\\n",
    "&&\\\\\n",
    "& = & \\vec{\\nabla}_x\\cdot\\vec{v} + \\vec{\\nabla}_v\\cdot (\\vec{E} + \\vec{v}\\times\\vec{B}) \\\\\n",
    "&&\\\\\n",
    "& = & \\vec{\\nabla}_x\\cdot\\vec{v} + \\vec{\\nabla}_v\\cdot\\vec{E} + \\vec{\\nabla}_v\\cdot\\vec{v}\\times\\vec{B} \\\\\n",
    "&&\\\\\n",
    "& = & 0 + \\partial_{v_i}E_i + e_{ijk}\\partial_{v_i}v_jB_k \\qquad \\text{from above, setting } \\vec{c} = \\vec{B}\\\\\n",
    "&&\\\\\n",
    "& = & \\underbrace{\\partial_{v_i}E_i}_{0, E \\neq E(v_i)} + e_{ijk}B_k\\underbrace{\\partial_{v_i}v_j}_{0, \\text{since } i\\neq j}\n",
    "&&\\\\\n",
    "\\vec{\\nabla}_{x,v}\\cdot \\vec{\\vec{A}} & = & 0\n",
    "\\end{eqnarray}\n",
    "\n",
    "Also note $\\vec{\\nabla}_{x,v}\\cdot (\\vec{\\vec{A}}f) = f\\vec{\\nabla}_{x,v}\\cdot \\vec{\\vec{A}}  + \\vec{\\vec{A}}\\cdot\\vec{\\nabla}_{x,v}f = 0 +  \\vec{\\vec{A}}\\cdot\\vec{\\nabla}_{x,v}f =  \\vec{\\vec{A}}\\cdot\\vec{\\nabla}_{x,v} f$\n",
    "\n",
    "So, the Vlasov equation can be written in conservative form:\n",
    "\n",
    "$$\\partial_t f + \\vec{\\nabla}_{x,v}\\cdot (\\vec{\\vec{A}}f) = 0$$\n",
    "\n",
    "\n",
    "The Vlasov-Poisson system takes the form\n",
    "\n",
    "$$\\partial_t f + v \\cdot \\partial_x f - \\partial_x\\phi(f) \\cdot \\partial_vf = 0$$\n",
    "\n",
    "or\n",
    "\n",
    "$$\\partial_t f + v_i\\partial_{x_i} f - \\partial_{x_i}\\phi(f) \\cdot \\partial_vf = 0$$\n"
   ]
  },
  {
   "cell_type": "markdown",
   "metadata": {},
   "source": [
    "$$f = f(t,x,v)\\in \\mathbb{R}^+\\times \\mathbb{T}^d\\times\\mathbb{R}^d, \\quad d = 1,2,3$$\n",
    "\n",
    "$$\\mathbb{T}^d = \\mathbb{R}^d / (2\\pi \\mathbb{Z}^d)$$\n",
    "\n",
    "and the potential $\\phi$ obeys a Poisson's equation:\n",
    "\n",
    "$$\\Delta_x \\phi(f)(x) = -\\left[\\int_{\\mathbb{R}^d}f(x,v)dv - \\frac{1}{(2\\pi)^d}\\int_{\\mathbb{T}^d\\times\\mathbb{R}^d} f(x,v) dxdv\\right]$$\n",
    "\n",
    "for a background density $n_0 = \\frac{1}{(2\\pi)^d}\\int_{\\mathbb{T}^d\\times\\mathbb{R}^d} f(x,v) dxdv$. Alternatively, we can invert the Laplacian operator $\\Delta_x = \\partial_{x_i}\\cdot\\partial_{x_i}, i = 0,1,2,\\ldots$ where we use Einstein sum notation :\n",
    "\n",
    "$$\\phi (f)(x) = -\\Delta_x^{-1}\\left[\\int_{\\mathbb{R}^d} f(x,v)dv - \\frac{1}{(2\\pi)^d}\\int_{\\mathbb{T}^d\\times\\mathbb{R}^d} f(x,v) dxdv\\right]$$"
   ]
  },
  {
   "cell_type": "markdown",
   "metadata": {},
   "source": [
    "If we like we may instead cast terms in the electric field $E$: $E(f) = -\\partial_x\\phi (f)$. The Hamiltonian associated with the Vlasov"
   ]
  },
  {
   "cell_type": "markdown",
   "metadata": {},
   "source": []
  },
  {
   "cell_type": "code",
   "execution_count": null,
   "metadata": {
    "collapsed": true
   },
   "outputs": [],
   "source": []
  },
  {
   "cell_type": "code",
   "execution_count": null,
   "metadata": {
    "collapsed": true
   },
   "outputs": [],
   "source": []
  }
 ],
 "metadata": {
  "kernelspec": {
   "display_name": "Python 2",
   "language": "python",
   "name": "python2"
  },
  "language_info": {
   "codemirror_mode": {
    "name": "ipython",
    "version": 2
   },
   "file_extension": ".py",
   "mimetype": "text/x-python",
   "name": "python",
   "nbconvert_exporter": "python",
   "pygments_lexer": "ipython2",
   "version": "2.7.3"
  }
 },
 "nbformat": 4,
 "nbformat_minor": 0
}

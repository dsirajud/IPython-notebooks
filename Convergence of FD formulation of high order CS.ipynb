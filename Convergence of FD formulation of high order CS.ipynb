{
 "cells": [
  {
   "cell_type": "markdown",
   "metadata": {},
   "source": [
    "#Convergence of explicit finite difference formulations demonstrated on derivatives"
   ]
  },
  {
   "cell_type": "markdown",
   "metadata": {},
   "source": [
    "We consider an infinitely differentiable function that is the superposition of five Gaussian bells:\n",
    "\n",
    "$$f(x) = \\tfrac{1}{2} \\exp(-\\left(\\tfrac{x + 0.25}{0.03}\\right)^2) + \\tfrac{1}{2}\\exp(-\\left(\\tfrac{x + 0.2}{0.03}\\right)^2) + \\exp(-\\left(\\tfrac{x}{0.06}\\right)^2) + \\tfrac{1}{2}\\exp(-\\left(\\tfrac{x - 0.2}{0.03}\\right)^2) + \\tfrac{1}{2}\\exp(-(\\tfrac{x - 0.25}{0.03}^2)$$ "
   ]
  },
  {
   "cell_type": "code",
   "execution_count": 14,
   "metadata": {
    "collapsed": false
   },
   "outputs": [
    {
     "data": {
      "text/plain": [
       "<matplotlib.text.Text at 0x54898d0>"
      ]
     },
     "execution_count": 14,
     "metadata": {},
     "output_type": "execute_result"
    },
    {
     "data": {
      "image/png": "[encoded data removed]",
      "text/plain": [
       "<matplotlib.figure.Figure at 0x416df10>"
      ]
     },
     "metadata": {},
     "output_type": "display_data"
    }
   ],
   "source": [
    "%matplotlib inline\n",
    "import numpy as np\n",
    "\n",
    "x = np.linspace(-0.5,1.5,1000)\n",
    "f = 0.5*np.exp(-((x + 0.25) / 0.03)**2) + 0.5*np.exp(-((x + 0.2) / 0.03)**2) + np.exp(-(x / 0.06)**2) + 0.5*np.exp(-((x - 0.2) / 0.03)**2) + 0.5*np.exp(-((x - 0.25) / 0.03)**2)\n",
    "\n",
    "plt.plot(x,f,'-b', linewidth = 2)\n",
    "plt.grid()\n",
    "plt.xlabel('$x$', fontsize = 14)\n",
    "plt.ylabel('$y$', fontsize = 14)"
   ]
  },
  {
   "cell_type": "markdown",
   "metadata": {},
   "source": [
    "whose derivatives are given by $(q\\in\\mathbb{Z}_1)$: \n",
    "\n",
    "$$f^{(n)}(x) = \\tfrac{1}{2}\\left(-\\tfrac{2}{0.03}\\tfrac{x + 0.25}{0.03}\\right)^n \\exp(-\\left(\\tfrac{x + 0.25}{0.03}\\right)^2) + \\tfrac{1}{2}\\left(-\\tfrac{2}{0.03}\\tfrac{x + 0.2}{0.03}\\right)^n\\exp(-\\left(\\tfrac{x + 0.2}{0.03}\\right)^2) + \\left(-\\tfrac{2}{0.06}\\tfrac{x}{0.06}\\right)^n\\exp(-\\left(\\tfrac{x}{0.06}\\right)^2) + \\tfrac{1}{2}\\left(-\\tfrac{2}{0.03}\\tfrac{x - 0.2}{0.03}\\right)^n\\exp(-\\left(\\tfrac{x - 0.2}{0.03}\\right)^2) + \\tfrac{1}{2}\\left(-\\tfrac{2}{0.03}\\tfrac{x - 0.25}{0.03}\\right)^n\\exp(-(\\tfrac{x - 0.25}{0.03}^2) $$"
   ]
  },
  {
   "cell_type": "code",
   "execution_count": 1,
   "metadata": {
    "collapsed": false
   },
   "outputs": [
    {
     "data": {
      "text/latex": [
       "\n",
       "we can suggest that $a = \\sqrt{b^2 + c^2}$, and also try an equation array\n",
       "\n",
       "\\begin{eqnarray}\n",
       "a & = & b \\\\\n",
       "c & = & \\frac{c}{d}\n",
       "\\end{eqnarray}"
      ],
      "text/plain": [
       "<IPython.core.display.Latex object>"
      ]
     },
     "metadata": {},
     "output_type": "display_data"
    }
   ],
   "source": [
    "%%latex\n",
    "\n",
    "we can suggest that $a = \\sqrt{b^2 + c^2}$, and also try an equation array\n",
    "\n",
    "\\begin{eqnarray}\n",
    "a & = & b \\\\\n",
    "c & = & \\frac{c}{d}\n",
    "\\end{eqnarray}"
   ]
  },
  {
   "cell_type": "code",
   "execution_count": null,
   "metadata": {
    "collapsed": true
   },
   "outputs": [],
   "source": []
  }
 ],
 "metadata": {
  "kernelspec": {
   "display_name": "Python 2",
   "language": "python",
   "name": "python2"
  },
  "language_info": {
   "codemirror_mode": {
    "name": "ipython",
    "version": 2
   },
   "file_extension": ".py",
   "mimetype": "text/x-python",
   "name": "python",
   "nbconvert_exporter": "python",
   "pygments_lexer": "ipython2",
   "version": "2.7.3"
  }
 },
 "nbformat": 4,
 "nbformat_minor": 0
}

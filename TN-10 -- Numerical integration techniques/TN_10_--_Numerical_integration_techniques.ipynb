{
 "cells": [
  {
   "cell_type": "markdown",
   "metadata": {},
   "source": [
    "# Numerical integration techniques"
   ]
  },
  {
   "cell_type": "markdown",
   "metadata": {},
   "source": [
    "In this notebook we step through several techniques common in estimating the value of the integral: $\\int_a^b f(x) dx$."
   ]
  },
  {
   "cell_type": "markdown",
   "metadata": {},
   "source": [
    "## Midpoint rule"
   ]
  },
  {
   "cell_type": "markdown",
   "metadata": {},
   "source": [
    "Consider the equivalent representation: $\\int_a^b f(x)dx = \\sum_i \\int_{x_i}^{x_i + \\Delta x} f(x) dx$ for $i = 0, 1, 2, \\ldots, N-1$, where $x_0 = a$ and $x_{N-1} = b$, then if we discern how to integrate the constituent integral:\n",
    "\n",
    "$$\\int_{x_i}^{x_i+\\Delta x} f(x)dx$$\n",
    "\n",
    "we can sum up all such consitutents to get an estimate for the total. Expand the function about the lower bound in each sub-interval, \n",
    "\n",
    "$$f(x) = f(x_i) + f'(x_i)(\\Delta x)f + f''(x_i)(\\Delta x)^2 + \\ldots$$\n",
    "\n",
    "then the integral over the subinterval is:\n",
    "\n",
    "\\begin{eqnarray*}\n",
    "\\int_{x_i}^{x_i+\\Delta x} f(x)dx & = &  \\int_{x_i}^{x_i+\\Delta x} \\left(f(x_i) + f'(x_i)(\\Delta x) + f''(x_i)(\\Delta x)^2 + \\ldots\\right)dx \\\\\n",
    "&&\\\\\n",
    "& = & \\left(f(x_i) + f'(x_i)(\\Delta x) + f''(x_i)(\\Delta x)^2 + \\ldots\\right)\\Delta x \\\\\n",
    "&  & \\\\\n",
    "& =  & \\frac{1}{2}f(x_i) + \\frac{1}{2}f(x_i) + f'(x_i)(\\Delta x) + f''(x_i)(\\Delta x)^2 + \\ldots\\right)\\Delta x \\\\\n",
    "\\end{eqnarray*}\n"
   ]
  },
  {
   "cell_type": "code",
   "execution_count": null,
   "metadata": {
    "collapsed": true
   },
   "outputs": [],
   "source": [
    "D"
   ]
  }
 ],
 "metadata": {
  "kernelspec": {
   "display_name": "Python 2",
   "language": "python",
   "name": "python2"
  },
  "language_info": {
   "codemirror_mode": {
    "name": "ipython",
    "version": 2
   },
   "file_extension": ".py",
   "mimetype": "text/x-python",
   "name": "python",
   "nbconvert_exporter": "python",
   "pygments_lexer": "ipython2",
   "version": "2.7.3"
  }
 },
 "nbformat": 4,
 "nbformat_minor": 0
}

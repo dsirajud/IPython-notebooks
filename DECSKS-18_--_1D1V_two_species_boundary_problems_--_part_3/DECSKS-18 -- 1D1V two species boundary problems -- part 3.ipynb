{
 "cells": [
  {
   "cell_type": "markdown",
   "metadata": {},
   "source": [
    "# DECSKS-18: 1D1V two species Vlasov-Poisson boundary problems part 3 \n",
    "## - symmetry boundary condition -\n",
    "\n",
    "In this notebook we continue DECSKS-18 part 2, (we have transplanted the code improvements from DECSKS-19, which is just cleanup) and add on functionality for a symmetry boundary condition, and make steps towards implementing the option of having continually sourced particles that persists beyond the initial condition. We continue the same numbering, hence we begin with objective 4."
   ]
  },
  {
   "cell_type": "markdown",
   "metadata": {},
   "source": [
    "# Objective 4: numerical boundary condition (symmetry)"
   ]
  },
  {
   "cell_type": "markdown",
   "metadata": {},
   "source": [
    "A numerical condition can be used to reduce the simulated domain in half provided there is symmetry that can be exploited. Suppose the situation is that there are two walls at a distance $x = \\pm L$ from a center $x = 0$ with identical boundary conditions at either edge $x = \\pm L$. Instead of simulating the full domain $x\\in [-L,L]$ , and enforcing the two boundary conditions at each wall ($x = \\pm L$), we can simulate the domain $x\\in [0, L]$ where we replace the wall condition at $x = -L$ with a <i>symmetry boundary condition</i> at $x = 0$. <font color = \"magenta\">We henceforth refer to this simulated domain $\\mathcal{D}_x = [0,L]$ as simply the <i>domain</i>, and we refer to the unsimulated domain $[-L, 0]$ as a <i>complement domain</i> $\\mathcal{D}_x^C$</font>. A symmetry boundary condition communicates the effect of the density in the complement domain to the simulated domain so that simulating the domain with this condition gives a full picture of the \"both sides\" ($[-L,0]$ and $[0,L]$) as the interaction is factored in consistently. Such conditions are referred to as <i>numerical</i> boundary conditions."
   ]
  },
  {
   "cell_type": "markdown",
   "metadata": {},
   "source": [
    "The form a symmetry boundary condition takes is now discussed. \n",
    "\n",
    "Such a condition enforces symmetry about $x = 0$, thus we can consider two half density functions $f$ and $f^C$ belonging to their respective domains, which together constitute the full density $f_{total}$ over the union of both domains:\n",
    "\n",
    "$$f_{total}(t,x,v_x)\\colon x\\in [-L,L] = \\mathcal{D}_x\\cup\\mathcal{D}_x^C, v_x\\in\\mathcal{D}_v$$\n",
    "\n",
    "where the half densities are defined in:\n",
    "\n",
    "$$f(t,x,v_x)\\colon x\\in\\mathcal{D}_x = [0,L], v_x\\in\\mathcal{D}_v$$\n",
    "\n",
    "$$f^C(t,x,v_x)\\colon x\\in\\mathcal{D}_x^C = [-L,0], v_x\\in\\mathcal{D}_v$$\n",
    "\n",
    "note that the velocity domain needs to be identical, else we would be introducing an asymmetry. The density definitions are such that $f = 0$ in $\\mathcal{D}_x^C$ and $f^C = 0$ in $\\mathcal{D}_x$. For clarity, thus the aforementioned total density \n",
    "\n",
    "$$f_{total}(t,x,v_x) = \\begin{cases}\n",
    "f(t,x, v_x) & x\\in [0, L] \\\\\n",
    "& \\\\\n",
    "f^C(t, x, v_x) & x\\in [-L,0] \\\\\n",
    "& \\\\\n",
    "0 & \\text{otherwise}\n",
    "\\end{cases}\\qquad \\qquad \\qquad\\qquad (a)\n",
    "$$\n",
    "\n",
    "it is clear from the asserted symmetry that\n",
    "\n",
    "$$f_{total}(t,x,v_x) = f_{total}(t,-x,v_x), \\qquad \\text{symmetry about } x = 0, x\\in [-L, L]$$\n",
    "\n",
    "For $x\\in [0,L]$, we have $-x\\in [-L,0]$, hence in terms of the half distributions $f$ and $f_C$ we have the corresponding equality:\n",
    "\n",
    "$$\\boxed{f(t,x,v_x) = f^C(t,-x,v_x)}, \\qquad \\text{symmetry about } x = 0, \\qquad \\qquad (b)$$\n",
    "\n",
    "We obtain this in more drawn out analysis by considering the definition $(a)$. If we consider $f_{total}$ at $x\\in [0,L]$, then $f_{total}(t,x,v_x) = f(t,x,v_x)$. We then notice that $f_{total}$ at $-x\\in [-L, 0]$ is $f_{total}(t,-x,v_x) = f^C(t,-x, v_x)$. Then, we demand symmetry about $x = 0$, which requires the condition $(b)$ to hold.\n",
    "\n",
    "Finally, note that the general condition $(b)$ contains continuity at $x = 0$."
   ]
  },
  {
   "cell_type": "markdown",
   "metadata": {},
   "source": [
    "To cement a boundary condition that we can actually apply, we consider the following. For each particle that exits $x\\in [0,L]$ with velocity $v_x < 0$, there exists a particle with equal but opposite velocity $v_x > 0$ entering $x\\in [0,L]$ that originated from the \"other side\" (i.e. the complement domain $x\\in [-L, 0]$). That is, we consider what are often called \"ghost\" particles (this author prefers the more indicative name \"partner particles\" or more endearingly, \"friend particles\"). All such exiting particles will have a partner particle that enter the simulated domain as they exit, thus this <i>friendly flux</i> (I'm joking, I won't be continuing to use terms like this) constitutes a source term of incoming particles for the simulated domain $x\\in [0, L]$. We observe the source strength of this term is given by a continuity equation at $x = 0$:\n",
    "\n",
    "$$(\\Gamma^+_{\\ell,(i,e)})(0) + (\\Gamma^-_{r,(i,e)})(0) = 0, \\qquad \\qquad \\text{symmetry boundary condition on flux}$$\n",
    "\n",
    "where momentarily we use signatures $\\ell$ and $r$ indicate domains on the left (complement domain, $[-L,0]$) and right (domain, $[L,0]$), respectively as it is more obvious. Equivalently, we have\n",
    "\n",
    "\n",
    "$$\\boxed{\\Gamma^{-}_{\\ell (i,e)}(0) = -\\Gamma^{+}_{r,(i,e)}(0)}, \\qquad \\text{symmetry boundary condition on flux}$$"
   ]
  },
  {
   "cell_type": "markdown",
   "metadata": {},
   "source": [
    "where\n",
    "\n",
    "$$\\Gamma^{\\pm}_{i,e} = \\Gamma^{\\pm}_{i,e}(x) =  n_{(i,e)}(x)v_{x,(i,e)}$$\n",
    "\n",
    "Note, we use delimiters $()$ to indicate an ordered tuple, i.e. we either choose $i$ on both quantities or $e$ on both. \n",
    "\n",
    "This is a true criterion, yet it is overly strict for the purposes of our implementation. We do not need to integrate to make this enforcement (i.e. to find the density $n_{e,i}$ in practice), we only need to replace each exiting density packet $f(t,x, v_x)$ with the density packet from the complement distribution $f^C(t,-x,-v_x)$. Thus, the weaker, yet equivalent, condition must be enforced:\n",
    "\n",
    "<table>\n",
    "<tr><td><b>Symmetry condition requirement (weak condition)</b>: in terms of $f$ and $f^C$</td></tr>\n",
    "<tr><td>\n",
    "$$\\text{for all prepoints } (x^{n}\\in\\mathcal{D}_x, v^n_x\\in\\mathcal{D}_v)\\colon f(x^n,v^n _x) \\mapsto f(x^{n+1},v_x^n) \\text{ where } x^{n+1} = (x^n + v^n_x \\Delta t) \\in \\mathcal{D}_x^C \\text{ over the time } t^n\\mapsto t^{n+1}, \\text{then increment } f(t^{n+1}, -x^{n+1},-v^n_x) +\\hspace{-.3em}= f^C(t^n, -x^n, -v_x^n)$$\n",
    "</td></tr>\n",
    "</table>\n",
    "\n",
    "The final equality is a statement that the partner particle at $f(x^n, v^n_x)$ heading leftward ($v_x^n < 0$) (which exists in $t^n \\rightarrow t^{n+1}$) is the rightward movie ($-v_x^n > 0$) partner from the complement distribution $f^C$ at the image location $-x^n$ at that same originating time $t^n$.  Here, $x^{n+1} < 0$, $v_x < 0$, and since we do not direclty work with a density $f^C$, we require translating $f^C$ to $f$ in order to apply the statement above. We obtain this translation by considering the symmetry condition (eq. $(b)$), recall:\n",
    "\n",
    "$$f(t,x,v_x) = f^C(t,-x,v_x), \\qquad \\text{symmetry about } x = 0, \\qquad \\qquad (b, \\text{ revisited})$$\n",
    "\n",
    "Thus, we equate\n",
    "\n",
    "$$f^C(t^n, -x^n, -v^n_x) = f(t^n, x^n, -v^n_x)$$\n",
    "\n",
    "so that, for all such qualifying prepoints, we realize we must increment:\n",
    "\n",
    "$$f(t^{n+1}, -x^{n+1},-v^n_x) +\\hspace{-.3em}= f(t^n, x^n, -v^n_x)$$\n",
    "\n",
    "Summarily:\n",
    "\n",
    "<table>\n",
    "<tr><td><b>Symmetry condition requirement (weak condition)</b>: in terms of only $f$</td></tr>\n",
    "<tr><td>\n",
    "$$\\text{for all prepoints } (x^{n}\\in\\mathcal{D}_x, v^n_x\\in\\mathcal{D}_v)\\colon f(x^n,v^n _x) \\mapsto f(x^{n+1},v_x^n) \\text{ where } x^{n+1} = (x^n + v^n_x \\Delta t) \\in \\mathcal{D}_x^C \\text{ over the time } t^n\\mapsto t^{n+1}, \\text{then increment } f(t^{n+1}, -x^{n+1},-v^n_x) +\\hspace{-.3em}= f(t^n, x^n, -v_x^n)$$\n",
    "</td></tr>\n",
    "</table>\n",
    "\n",
    "This then is seen to provide the prescription which replaces all exiting particles with its partner particles that enter ($v_x \\rightarrow -v_x$). Note that if the advection of a prepoint $x^n$ is pushed by a large enough speed $v_x$ such that it is pushed so far that it is pushed beyond $x = -L$ in the complement domain $\\mathcal{D}_x^C$, then the symmetry prescription above still is valid, but a boundary condition will need to be applied to its partner particle's postpoint location (which corersponds to a particle from the complement domain entering the domain and hitting the <i>right</i> wall). Thus, some wall boundary condition will need to be applied.\n",
    "\n",
    "In more drawn out terms we provide the implementation as:"
   ]
  },
  {
   "cell_type": "markdown",
   "metadata": {
    "collapsed": true
   },
   "source": [
    "<table>\n",
    "<tr><td>Symmetry boundary condition implementation</td></tr>\n",
    "<tr><td>\n",
    "If a particle exits the domain thereby entering the complement domain, yet stays away from the edge (note in the domain, the wall is at grid location $i = N_x - 1$, hence in the complement domain the wall is at the fictitious (off-grid) location $i = -(N_x - 1)$), then we replace the particle whose postpoint $k$ lies within the complement domain, with a partner particle at its image location $-k$ which <i>is</i> in the domain.\n",
    "$${}$$\n",
    "$$f_{i,e}(x_i, v_{x,j}) \\mapsto x_k\\colon k\\in [-(N_x-2), -(Nx - 3), \\ldots , 2, 1, 0) \\qquad \\text{then replace with } f_{i,e}(x_{-k}, -v_{x,j})$$\n",
    "$${}$$\n",
    "Else, if the particle exits the simulated domain, entering the unsimulated domain and its velocity is sufficient to push it to or beyond the wall ($i = -(N_x - 1)$) on the left-half , then apply the wall boundary condition (e.g. charge collection and perfect absorber).\n",
    "$${}$$\n",
    "$$f_{i,e}(x_i, v_{x,j}) \\mapsto x_k\\colon k\\in\\mathbb{Z}\\colon k \\leq -(N_x-1) \\qquad \\text{apply wall boundary condition at right wall with } v_{x,j} \\rightarrow -v_{x,j}$$\n",
    "</td></tr></table>\n",
    "\n",
    "where $v_{x,j} < 0$ in the above implementation."
   ]
  },
  {
   "cell_type": "markdown",
   "metadata": {},
   "source": [
    "implementing this into DECSKS, we permit specification in each boundary conditino in <code>etc/params.dat</code>, e.g.\n",
    "\n",
    "    #=============================================================================#\n",
    "    #     Input file : 1D1V DECSKS for the two-species Vlasov-Poisson system\n",
    "    #=============================================================================#\n",
    "                                                                                  \n",
    "    Simulation specifications are not case insensitive, except 'None' and values, e.g. np.pi\n",
    "    \n",
    "    Domain specifications (used in lib.domain.Setup):\n",
    "    =================================================\n",
    "    Requirements for value entry:\n",
    "    \n",
    "    (1) Enter the number of cells as int or None\n",
    "    (2) Enter the dimensions as float or None\n",
    "    (3) if needed, use numpy prefix as np, e.g. np.pi\n",
    "    -------------------------------------------------------------------------------\n",
    "    \n",
    "    Number of grid points, x = 240\n",
    "    lower boundary value ax = -10.\n",
    "    upper boundary value bx = 10.\n",
    "    lower boundary condition = symmetric\n",
    "    upper boundary condition = absorbing\n",
    "    \n",
    "an option <code>'symmetric'</code> to indicate a symmetry boundary condition. "
   ]
  },
  {
   "cell_type": "markdown",
   "metadata": {},
   "source": [
    "Next, the boundary condition is toggled by <code>eval</code> a general handle <code>sim_params['boundarycondition_function_handle']</code>\n",
    "\n",
    "    # lib.read excerpt \n",
    "\n",
    "    boundarycondition_function_handle_prefix = 'DECSKS.lib.boundaryconditions'\n",
    "\n",
    "    # create a dictionary for every phase space variable simulated\n",
    "    boundarycondition_function_handle = {}\n",
    "\n",
    "    for var in phasespace_vars:\n",
    "        boundarycondition_function_handle[var] = \".\".join(\n",
    "            (boundarycondition_function_handle_prefix, BC[var]['type']))\n",
    "\n",
    "which indicates if the density is sent for evaluation under\n",
    "\n",
    "<code>lib.boundaryconditions.periodic</code> or <code>lib.boundaryconditions.nonperiodic</code> \n",
    "\n",
    "orchestrators. In <code>lib.boundaryconditions.nonperiodic</code> since a symmetry condition can only be present in nonperiodic systems."
   ]
  },
  {
   "cell_type": "code",
   "execution_count": null,
   "metadata": {
    "collapsed": true
   },
   "outputs": [],
   "source": [
    "def nonperiodic(f_old,\n",
    "                Uf,\n",
    "                z,\n",
    "                vz,\n",
    "                sim_params,\n",
    "                charge,\n",
    "                k = 0\n",
    "                ):\n",
    "    \"\"\"orchestrates applying nonperiodic boundary conditions\n",
    "    to the array w with total active grid points Nw. Nonperiodic\n",
    "    boundary conditions require handling both left and right\n",
    "    boundaries\n",
    "\n",
    "    inputs:\n",
    "    f_old -- (ndarray, ndim=2) density array\n",
    "    z -- (instance) phase space variable being evolved\n",
    "\n",
    "    outputs:\n",
    "    f_old -- (ndarray, ndim=2) density with both left and right\n",
    "             nonperiodic BCs enforced\n",
    "    Uf -- (ndarray, ndim=2) high order fluxes with both left and right\n",
    "             nonperiodic BCs enforced\n",
    "\n",
    "\n",
    "    z returned (no changes) for symmetry with periodic routine above\n",
    "    \"\"\"\n",
    "    # lower boundary\n",
    "    f_old, Uf = eval(sim_params['BC'][z.str]['lower'] +\n",
    "                           '_lower_boundary')(f_old, Uf,\n",
    "                                              z.postpointmesh[k,:,:], z, vz,\n",
    "                                              sim_params, charge)\n",
    "\n",
    "    # upper boundary\n",
    "    f_old, Uf = eval(sim_params['BC'][z.str]['upper'] +\n",
    "                           '_upper_boundary')(f_old, Uf,\n",
    "                                              z.postpointmesh[k,:,:], z, vz,\n",
    "                                              sim_params, charge)\n"
   ]
  },
  {
   "cell_type": "markdown",
   "metadata": {},
   "source": [
    "Thus, the concatenated handle <code>sim_params['BC'][z.str]['lower'] + _lower_boundary'</code> or <code>sim_params['BC'][z.str]['lower'] + _upper_boundary'</code> will be assembled as\n",
    "\n",
    "    sim_params['BC'][z.str]['lower'] = 'symmetric_lower_boundary' \n",
    "    \n",
    "    or \n",
    "    \n",
    "    sim_params['BC'][z.str]['upper'] = 'symmetric_upper_boundary'\n",
    "    \n"
   ]
  },
  {
   "cell_type": "markdown",
   "metadata": {},
   "source": [
    "Hence, we code the routines <code>lib.boundaryconditions.symmetric_lower_boundary</code> and <code>lib.boundarycondition.symmetric_upper_boundary</code>."
   ]
  },
  {
   "cell_type": "markdown",
   "metadata": {},
   "source": [
    "We describe a complication here by sufficing to say that the efficient means of remapping is done through matrix addition which does not have access to an increment operator <code>+=</code>, hence in our remapping, e.g. in <code>lib.convect.remap_assignment</code>:\n",
    "\n",
    "    f_neg[ z.postpointmesh[0,:,:], vz.prepointmesh ] = f_old_ma + Uf_ma\n",
    "    \n",
    "if there are shared postpoints in <code>z.postpointmesh[0,:,:]</code> the right-hand side will not assign all such prepoints to each the same postpoints, only the last one \"read-in\" during the indexing process. Thus, we have previously made efforts to, for example, zero out any exiting particles and periodizing the postpoints to (1) ensure no two postpoints are shared to prevent densities from being overwritten, and (2) so that the postpoints they do map to have a contribution of zero added on.\n",
    "\n",
    "Here, there are two problems produced by trying to take $x_k \\rightarrow -x_k$ and $v_x \\rightarrow -v_x$. One problem is we have overlapping postpoints. This is not a physical problem, but a conflict in how the implementation is set up. The second problem is that our velocity dependence is embedded in a flux $Uf$, hence it is not immediately obvious if taking $Uf \\rightarrow -Uf$ is compatible (though it is suspected to be). We step through the analysis in a simple example to figure out the details of what needs to be changed or not.\n",
    "\n"
   ]
  },
  {
   "cell_type": "markdown",
   "metadata": {},
   "source": [
    "### small example to show complications in a symmetric BC and to discern the solution"
   ]
  },
  {
   "cell_type": "markdown",
   "metadata": {},
   "source": [
    "We will consider the left boundary as being a symmetric boundary condition. <b>In this example, we ignore application of any boundary condition to the right boundary as it is superfluous given our focus.</b>\n",
    "\n",
    "Suppose we have an $N_x \\times N_{vx} = 5 \\times 5$ grid. We start at prepoint values that we access by the ndarrays <code>x.prepointmesh</code>, <code>vx.prepointmesh</code>\n",
    "\n",
    "$$(\\mathrm{x.prepointmesh}, \\mathrm{vx.prepointmesh}) = \\left[\\left(\\begin{array}{cccc}\n",
    "0 & 0 & 0 & 0 \\\\\n",
    "1 & 1 & 1 & 1 \\\\\n",
    "2 & 2 & 2 & 2 \\\\\n",
    "3 & 3 & 3 & 3\\\\\n",
    "4 & 4 & 4  & 4\n",
    "\\end{array}\\right), \\left(\\begin{array}{ccc}\n",
    "0 & 1 & 2 & 3\\\\\n",
    "0 & 1 & 2 & 3\\\\\n",
    "0 & 1 & 2 & 3\\\\\n",
    "0 & 1 & 2 & 3\\\\\n",
    "0 & 1 & 2 & 3\n",
    "\\end{array}\\right)\\right]$$\n",
    "\n",
    "we read this as (i.e. the way python reads this slicing):\n",
    "\n",
    "$$\\underline{\\underline{(x,v_x)}} =  \\left[\\left(\\begin{array}{ccccc}\n",
    "(0,0) & (0,1) & (0,2) & (0,3) & (0,4) \\\\\n",
    "(1,0) & (1,1) & (1,2) & (1,3) & (1,4) \\\\\n",
    "(2,0) & (2,1) & (2,2) & (2,3) & (2,4)\\\\\n",
    "(3,0) & (3,1) & (3,2) & (3,3) & (3,4) \\\\\n",
    "(4,0) & (4,1) & (4,2) & (4,3) & (4,4)\n",
    "\\end{array}\\right)\\right]$$"
   ]
  },
  {
   "cell_type": "markdown",
   "metadata": {},
   "source": [
    "Suppose the velocity grid is\n",
    "\n",
    "$$\\mathrm{vx.gridvalues} = \\left(\\begin{array}{ccc}\n",
    "-2 & -1 & 0 & 1 & 2\\\\\n",
    "-2 & -1 & 0 & 1 & 2\\\\\n",
    "-2 & -1 & 0 & 1 & 2\\\\\n",
    "-2 & -1 & 0 & 1 & 2\\\\\n",
    "-2 & -1 & 0 & 1 & 2\n",
    "\\end{array}\\right)$$\n",
    "\n",
    "take the time step as $\\Delta t = 1$, each $i$ is pushed by an integral number $\\lfloor\\mathcal{C}_{j}\\rfloor = \\lfloor v_j\\Delta t / \\Delta x\\rfloor = v_j\\in\\mathbb{Z}$ where for convenience we take $\\Delta x = 1$, and we mean the floor function $\\lfloor\\cdot\\rfloor$ that rounds towards zero, not $-\\infty$ (note that Python/NumPy does this latter definition). In the final step, our specific case of integral velocities allows us to remove the floor function given it is redundant.\n",
    "\n",
    "The following postpoints are produced in $x$:\n",
    "\n",
    "$$(\\mathrm{x.postpointmesh}, \\mathrm{vx.prepointmesh}) = \\left[\\left(\\begin{array}{ccccc}\n",
    "\\boxed{(-2,0)} & \\boxed{(-1,1)} & (0,2) & (1,3) & (2,4) \\\\\n",
    "\\boxed{(-1,0)} & (0,1) & (1,2) & (2,3) & (3,4) \\\\\n",
    "(0,0) & (1,1) & (2,2) & (3,3) & (4,4)\\\\\n",
    "(1,0) & (2,1) & (3,2) & (4,3) & (5,4) \\\\\n",
    "(2,0) & (3,1) & (4,2) & (5,3) & (6,4)\n",
    "\\end{array}\\right)\\right]$$\n",
    "\n",
    "The boxed entries have spatial indices $i < 0$ which have exited the system. We need to apply the symmetry boundary condition by replacing them with their partner particle at $i\\mapsto -i$. Of course, on the right-hand boundary we see indices overstepping their bounds. Handling this is done by a choice of boundary condition on the right. We do not fuss with it here given it detracts from the issue at hand."
   ]
  },
  {
   "cell_type": "markdown",
   "metadata": {},
   "source": [
    "Applying the symmetry condition at $x = 0\\, (i = 0)$, we take $i \\mapsto -i$\n",
    "\n",
    "$$(\\mathrm{x.postpointmesh}, \\mathrm{vx.prepointmesh})_{i\\mapsto -i} = \\left[\\left(\\begin{array}{ccccc}\n",
    "\\boxed{(2,0)} & \\boxed{(1,1)} & (0,2) & (1,3) & (2,4) \\\\\n",
    "\\boxed{(1,0)} & (0,1) & (1,2) & (2,3) & (3,4) \\\\\n",
    "(0,0) & (1,1) & (2,2) & (3,3) & (4,4)\\\\\n",
    "(1,0) & (2,1) & (3,2) & (4,3) & (5,4) \\\\\n",
    "(2,0) & (3,1) & (4,2) & (5,3) & (6,4)\n",
    "\\end{array}\\right)\\right]$$\n",
    "\n"
   ]
  },
  {
   "cell_type": "markdown",
   "metadata": {},
   "source": [
    "We also need to take $v_x \\mapsto -v_x$, note this is not in general the same as $j \\mapsto -j$, in fact $-j$ does not exist an an index given that $j\\in\\mathbb{N}$. Here, we can look at the actual velocity prepointmesh to understand what is the oppositely signed, but equal magnitude of each index. Recall,\n",
    "\n",
    "$$\\mathrm{vx.gridvalues} = \\left(\\begin{array}{ccc}\n",
    "-2 & -1 & 0 & 1 & 2\\\\\n",
    "-2 & -1 & 0 & 1 & 2\\\\\n",
    "-2 & -1 & 0 & 1 & 2\\\\\n",
    "-2 & -1 & 0 & 1 & 2\\\\\n",
    "-2 & -1 & 0 & 1 & 2\n",
    "\\end{array}\\right),  \\mathrm{vx.prepointmesh}) = \\left(\\begin{array}{ccc}\n",
    "0 & 1 & 2 & 3\\\\\n",
    "0 & 1 & 2 & 3\\\\\n",
    "0 & 1 & 2 & 3\\\\\n",
    "0 & 1 & 2 & 3\\\\\n",
    "0 & 1 & 2 & 3\n",
    "\\end{array}\\right)$$"
   ]
  },
  {
   "cell_type": "markdown",
   "metadata": {},
   "source": [
    "Thus we see the mapping for $j\\in [0,1,2,3,4]$\n",
    "\n",
    "$$j = 0 \\mapsto 4 (v_0 = -2 \\mapsto v_4 = 2)$$\n",
    "$$j = 1 \\mapsto 3 (v_1 = -1 \\mapsto v_3 = 1)$$\n",
    "$$j = 2 \\mapsto 2 (v_2 = 0 \\mapsto v_2 = 0)$$\n",
    "$$j = 3 \\mapsto 1 (v_3 = 1 \\mapsto v_4 = -1)$$\n",
    "$$j = 4 \\mapsto 0 (v_4 = 2 \\mapsto v_4 = -2)$$\n",
    "\n",
    "The rule here is obvious for special cases. For example, if we have a symmetric velocity grid, then $j \\mapsto N_{vx} - j$ works. In other cases, the next best option must be employed, i.e. suppose we have more negative velocities than positive so the grid is not symmetric. Then we take $j \\mapsto \\max (N_{vx} - j)$.\n",
    "\n",
    "Note, only negative velocites at the left numerical boundary would need to be taken to their corresponding positive velocities. At the left numerical boundary, we do not alter the positive (rightward) velocities (such prepoint velocities would never cause the particles to exit on the left anyway). If we had a right numerical boundary, we would need to consider the positive velocities. Hence, the rule for symmetric velocity grids would be $j \\mapsto j - N_{vx}$ (<font color = \"red\">TODO: this is not correct, think about it more if desired</font>). All mappings are shown for completeness.\n",
    "\n",
    "Our postpoint mesh after applying the symmetry condition gives:\n",
    "\n",
    "$$(\\mathrm{x.postpointmesh}, \\mathrm{vx.prepointmesh})_{i\\mapsto -i, j \\mapsto N_{vx} - j} = \\left[\\left(\\begin{array}{ccccc}\n",
    "\\color{blue}{\\boxed{(2,0)}} & \\color{red}{\\boxed{(1,3)}} & (0,2) & \\color{red}{(1,3)} & (2,4) \\\\\n",
    "\\color{green}{\\boxed{(1,0)}} & (0,1) & (1,2) & (2,3) & (3,4) \\\\\n",
    "(0,0) & (1,1) & (2,2) & (3,3) & (4,4)\\\\\n",
    "\\color{green}{(1,0)} & (2,1) & (3,2) & (4,3) & (5,4) \\\\\n",
    "\\color{blue}{(2,0)} & (3,1) & (4,2) & (5,3) & (6,4)\n",
    "\\end{array}\\right)\\right]$$"
   ]
  },
  {
   "cell_type": "markdown",
   "metadata": {},
   "source": [
    "<b>Problem</b>: We have shared postpoints (highlighted above in colors). If we call <code>lib.convect.remap_assignment</code> both densities which have postpoints of (1,3) will not be assigned to (1,3), only the last one read-in same with (2,0), and (1,0).\n",
    "\n",
    "<b>Solution</b>: siphon off the entries which the symmetry condition had to be applied to into a matrix whose other entries are zero. Then we work with two matrices, the matrix with BCs applied to them, and the other which contains all other prepoints except those. We can remap thesem to separate containers, add them together and return the sum so that all shared postpoint densities are totalled accordingly."
   ]
  },
  {
   "cell_type": "markdown",
   "metadata": {},
   "source": [
    "According to the above postpoint and prepoint meshes, we wish to remap a density <code>f</code> (recall our grid is $N_x \\times N_{vx} = 5 \\times 5$) with entries:\n",
    "\n",
    "$$\\mathrm{f} = \\left(\\begin{array}{ccccc}\n",
    "f_{0,0} & f_{0,1} & f_{0,2} & f_{0,3} & f_{0,4} \\\\\n",
    "f_{1,0} & f_{1,1} & f_{1,2} & f_{1,3} & f_{1,4}\\\\\n",
    "f_{2,0} & f_{2,1} & f_{2,2} & f_{2,3} & f_{2,4}\\\\\n",
    "f_{3,0} & f_{3,1} & f_{3,2} & f_{3,3} & f_{3,4}\\\\\n",
    "f_{4,0} & f_{4,1} & f_{4,2} & f_{4,3} & f_{4,4}\n",
    "\\end{array}\\right)$$\n",
    "\n",
    "We know from the above analysis, the following (boxed) densities have postpoints which require the symmetry boundary condition (cf. postpointmesh above):\n",
    "\n",
    "$$\\mathrm{f} = \\left(\\begin{array}{ccccc}\n",
    "\\boxed{f_{0,0}} & \\boxed{f_{0,1}} & f_{0,2} & f_{0,3} & f_{0,4} \\\\\n",
    "\\boxed{f_{1,0}} & f_{1,1} & f_{1,2} & f_{1,3} & f_{1,4}\\\\\n",
    "f_{2,0} & f_{2,1} & f_{2,2} & f_{2,3} & f_{2,4}\\\\\n",
    "f_{3,0} & f_{3,1} & f_{3,2} & f_{3,3} & f_{3,4}\\\\\n",
    "f_{4,0} & f_{4,1} & f_{4,2} & f_{4,3} & f_{4,4}\n",
    "\\end{array}\\right)$$\n",
    "\n",
    "Further, we note these share postpoints with the following prepoint densities (pairs are colored, cf. postpointmesh with symmetry boundary condition applied above):\n",
    "\n",
    "$$\\mathrm{f} = \\left(\\begin{array}{ccccc}\n",
    "\\color{blue}{\\boxed{f_{0,0}}} & \\color{red}{\\boxed{f_{0,1}}} & f_{0,2} & \\color{red}{f_{0,3}} & f_{0,4} \\\\\n",
    "\\color{green}{\\boxed{f_{1,0}}} & f_{1,1} & f_{1,2} & f_{1,3} & f_{1,4}\\\\\n",
    "f_{2,0} & f_{2,1} & f_{2,2} & f_{2,3} & f_{2,4}\\\\\n",
    "\\color{green}{f_{3,0}} & f_{3,1} & f_{3,2} & f_{3,3} & f_{3,4}\\\\\n",
    "\\color{blue}{f_{4,0}} & f_{4,1} & f_{4,2} & f_{4,3} & f_{4,4}\n",
    "\\end{array}\\right)$$\n",
    "\n",
    "We extract the symmetry boundary condition entries into a density <code>f_C</code> (i.e. all particles from the \"complement\" domain $x\\in [-L,0] = [0,L]^C$), so that we end up with two arrays:\n",
    "\n",
    "$$\\mathrm{f_C} = \\left(\\begin{array}{ccccc}\n",
    "\\color{blue}{\\boxed{f_{0,0}}} & \\color{red}{\\boxed{f_{0,1}}} & 0 & 0 & 0\\\\\n",
    "\\color{green}{\\boxed{f_{1,0}}} & 0 & 0 & 0 & 0\\\\\n",
    "0 & 0 & 0 & 0 & 0\\\\\n",
    "0 & 0 & 0 & 0 & 0\\\\\n",
    "0 & 0 & 0 & 0 & 0 \\\\\n",
    "0 & 0 & 0 & 0 & 0\n",
    "\\end{array}\\right), \\qquad \\mathrm{f} = \\left(\\begin{array}{ccccc}\n",
    "0 & 0 & f_{0,2} & \\color{red}{f_{0,3}} & f_{0,4} \\\\\n",
    "0 & f_{1,1} & f_{1,2} & f_{1,3} & f_{1,4}\\\\\n",
    "f_{2,0} & f_{2,1} & f_{2,2} & f_{2,3} & f_{2,4}\\\\\n",
    "\\color{green}{f_{3,0}} & f_{3,1} & f_{3,2} & f_{3,3} & f_{3,4}\\\\\n",
    "\\color{blue}{f_{4,0}} & f_{4,1} & f_{4,2} & f_{4,3} & f_{4,4}\n",
    "\\end{array}\\right)$$\n"
   ]
  },
  {
   "cell_type": "markdown",
   "metadata": {},
   "source": [
    "Now all shared postpoints are isolated. The corresponding flux arrays are required in <code>lib.convect.remap_assignment</code> (i.e. f_new[k1] = f +/- Uf or f_new[k2] = +/- Uf).\n",
    "\n",
    "For the original density <code>f</code>, it is straightforward: we zero out the exiting entries as above:\n",
    "\n",
    "$$\\mathrm{Uf} = \\left(\\begin{array}{ccccc}\n",
    "0 & 0 & [Uf]_{0,2} & \\color{red}{[Uf]_{0,3}} & [Uf]_{0,4} \\\\\n",
    "0 & [Uf]_{1,1} & [Uf]_{1,2} & [Uf]_{1,3} & [Uf]_{1,4}\\\\\n",
    "[Uf]_{2,0} & [Uf]_{2,1} & [Uf]_{2,2} & [Uf]_{2,3} & [Uf]_{2,4}\\\\\n",
    "\\color{green}{[Uf]_{3,0}} & [Uf]_{3,1} & [Uf]_{3,2} & [Uf]_{3,3} & [Uf]_{3,4}\\\\\n",
    "\\color{blue}{[Uf]_{4,0}} & [Uf]_{4,1} & [Uf]_{4,2} & [Uf]_{4,3} & [Uf]_{4,4}\n",
    "\\end{array}\\right)$$\n",
    "\n",
    "This is identical to an absorber condition at this point. We then periodize the postpointmesh pertaining to this so that the addition can be done at non-shared postpoints between any two densities, and the zeroed out entries are added as zero contribution to the final density."
   ]
  },
  {
   "cell_type": "markdown",
   "metadata": {},
   "source": [
    "For <code>f_C</code>, we do need to discern a comptaible object <code>Uf_C</code> given the velocity has flipped sign and this quantity now describes the complement density flux.\n",
    "\n",
    "To understand how the dependence enters, recall that <code>Uf = f_old + const*(qth derivative)*beta_q(z.CFL.frac)</code> , and <code>z.CFL.frac = z.CFL.numbers - z.CFL.int</code> where <code>z.CFL.numbers = vz.gridvalues * t.width / x.width</code>\n",
    "\n",
    "hence <code>z.CFL.frac</code> inside <code>Uf</code> depends on the velocity $v_z$ (here, as usual, $v_z$ is a generalized velocity for a phase space variable $z = \\{x, v_x\\}$). Thus, while we know the postpoints from a symmetry condition on a lower boundary are prescribed by:\n",
    "\n",
    "$$(i,j) \\mapsto (-i, N_{vx} - j), \\qquad \\text{symmetry boundary condition, lower boundary}$$\n",
    "\n",
    "The value of $Uf$ needs to be computed consistently given that $v_x \\mapsto -v_x$ where in this case $v_x < 0$ to exit out the lower boundary. "
   ]
  },
  {
   "cell_type": "markdown",
   "metadata": {},
   "source": [
    "Recall that (here, $i$ and $j$ are not tied to \"$x$\" and \"$v_x$\", but are used as indices for rows and columns in general.\n",
    "\n",
    "$$[Uf]_{i,j} = \\sum\\limits_{q = 0}^{N-1} c_{q,i}d^{(q)}_{i,j}$$\n",
    "\n",
    "at each $i,j$. The dependence on $v_z$ is contained in the correctors $c_{q,i}$\n",
    "\n",
    "$$\\underline{\\underline{c}}_{x\\,\\text{or } v_x} = \\left(\\begin{array}{cccccccc}\n",
    "(-1)^0\\beta_0^{,0} & (-1)^0\\beta_0^{,1} & \\cdots & \\cdots & \\cdots & (-1)^0\\beta_0^{,N_v-2}  & (-1)^0\\beta_0^{,N_v-1} \\\\\n",
    "(-1)^1\\beta_1^{,0} & (-1)^1\\beta_1^{,1} & \\cdots & \\cdots & \\cdots & (-1)^1\\beta_1^{,N_v-2} & (-1)^1\\beta_1^{,N_v-1} \\\\\n",
    "(-1)^2\\beta_2^{,0} & (-1)^2\\beta_2^{,1} & \\cdots & \\cdots & \\cdots & (-1)^2\\beta_2^{,N_v-2} & (-1)^2\\beta_2^{,N_v-1} \\\\\n",
    "\\vdots  & \\vdots & &  &  & \\vdots & \\vdots \\\\\n",
    "\\vdots & \\vdots & &  &  & \\vdots & \\vdots \\\\\n",
    "(-1)^{N-2}\\beta_{N-2}^{,0} & (-1)^{N-2}\\beta_{N-2}^{,1} & \\cdots & \\cdots & \\cdots & (-1)^{N-2}\\beta_{N-2}^{,N_v-2} & (-1)^{N-2}\\beta_{N-2}^{,N_v -1}\\\\\n",
    "(-1)^{N-1}\\beta_{N-1}^{,0} & (-1)^{N-1}\\beta_{N-1}^{,1} & \\cdots & \\cdots & \\cdots & (-1)^{N-1}\\beta_{N-1}^{,N_v-2} & (-1)^{N-1}\\beta_{N-1}^{,N_v-1} \\\\\n",
    "\\end{array}\\right)_{N\\times (N_{vx} \\text{ or } N_x)}\n",
    "$$\n",
    "\n",
    "For example, if positions $x$ are being convected then the dimension of the right-hand side is $N\\times N_{vx}$, and vice versa for velocities $v_x$."
   ]
  },
  {
   "cell_type": "markdown",
   "metadata": {},
   "source": [
    "also\n",
    "\n",
    "$$d_{i,j}^{(dn)} = \\left.(\\Delta x)^{dn} \\frac{\\partial^{dn}f}{\\partial x}\\right\\rvert_{i,j}, \\qquad d_{i,j}^{(0)} = f_{i,j} \\qquad \\text{for } f(t,x,v_x)\\colon x\\in\\mathcal{D}_x = [0,L] $$\n",
    "\n",
    "When we are talking about particles that are entering from the symmetric (yet unsimulated) domain (<b>hereafter referred to as the complement domain $\\mathcal{D}_x^C = [-L, 0]$</b>) we have the corresponding definition for a phase space variable $z = \\{x, v_x\\}$:\n",
    "$${}$$\n",
    "\n",
    "$$(d_{i,j}^{(dn)})^C = \\left.(\\Delta z)^{dn} \\frac{\\partial^{dn} f^C}{\\partial z^{dn}}\\right\\rvert_{i,j}, \\qquad (d_{i,j}^{(0)})^C = f^C_{i,j} = f_{-i,j}\\qquad \\text{for } f^C(t,x,v_x)\\colon x\\in\\mathcal{D}^C_x = [-L,0] $$\n"
   ]
  },
  {
   "cell_type": "markdown",
   "metadata": {},
   "source": [
    "Note, it is clear that if we have a symmetric evolution (symmetry about the $v_x$ axis, of which the ordinate is enumerated by index $j$), the re-entering partner particles are given by $f_{partner}(i,j) = f(-i, N_{vx} - j)$. This is because we need to map reverse the velocity direction in order to label the correct parter particle that is heading the opposite direction. In general, for any point $(x,v_x)$, the symmetry about $v_x$ (ordinate), means\n",
    "\n",
    "$$f^C(t,x,v_x) = f(t,-x,v_x)$$\n",
    "\n",
    "It just so happens that need to choose $v_x \\mapsto -v_x$ for the partner particles, hence in the above statement when speaking of the density on one side vs. the other (i.e. the complement), we only examine the mirror $x$ location to find the identical density.\n",
    "\n",
    "To discern the relationship for higher order derivatives, we take successive partial derivatives. Thus, we see that:\n",
    "\n",
    "$$\\frac{\\partial^{dn} f^C}{\\partial x^{dn}} = (-1)^{dn}\\frac{\\partial^{dn} f}{\\partial x^{dn}} \\, \\qquad dn = 0, 1, 2, \\ldots $$\n",
    "\n",
    "and,\n",
    "\n",
    "$$\\frac{\\partial^{dn} f^C}{\\partial v_x^{dn}} = \\frac{\\partial^{dn} f}{\\partial v_x^{dn}} \\, \\qquad dn = 0, 1, 2, \\ldots $$"
   ]
  },
  {
   "cell_type": "markdown",
   "metadata": {},
   "source": [
    "then,\n",
    "\n",
    "$$(d_{i,j}^{(dn)})^C = \\left.(\\Delta x)^{dn} \\frac{\\partial^{dn} f^C}{\\partial x^{dn}}\\right\\rvert_{i,j}, \\qquad (d_{i,j}^{(0)})^C = f^C_{i,j} = f_{exiting}(-i, N_{vx} - j)\\qquad \\text{for } f(t,x,v_x)\\colon x\\in\\mathcal{D}^C_x = [-L,0] $$"
   ]
  }
 ],
 "metadata": {
  "kernelspec": {
   "display_name": "Python 2",
   "language": "python",
   "name": "python2"
  },
  "language_info": {
   "codemirror_mode": {
    "name": "ipython",
    "version": 2
   },
   "file_extension": ".py",
   "mimetype": "text/x-python",
   "name": "python",
   "nbconvert_exporter": "python",
   "pygments_lexer": "ipython2",
   "version": "2.7.3"
  }
 },
 "nbformat": 4,
 "nbformat_minor": 0
}

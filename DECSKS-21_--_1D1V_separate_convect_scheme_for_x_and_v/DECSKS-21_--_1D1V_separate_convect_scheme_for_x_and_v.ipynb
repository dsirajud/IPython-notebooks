{
 "cells": [
  {
   "cell_type": "markdown",
   "metadata": {},
   "source": [
    "# DECSKS-21: 1D1V separate convect scheme for $x$ and $v_x$"
   ]
  },
  {
   "cell_type": "markdown",
   "metadata": {},
   "source": [
    "## Summary of notebook goals\n",
    "\n",
    "The current DECSKS implementation relies on small but distinct object handling of $x$ vs. $v_x$. This is accomplished using the same methods where the appropriate pathway is determined by logical statements.\n",
    "\n",
    "To remove these logical constructs, we instead in this notebook just code separate orchestrator functions (and all else that require distinct stepthrough based on the phase space advecting variable). We also move towards discerning how to handle the computation of CFL numbers for $x$ before the simulation starts since each time substep is tied to a grid (uniform spacing $\\Delta x$, and known time substep $\\text{frac}_s\\Delta t$, and these CFL numbers (hence the correctors $\\underline{\\underline{c}}_x$ do not change from one full time step to the next. It is more efficient to calculate these beforehand, and access them as needed rather than recompute them every full time step. Note that $\\underline{\\underline{c}}_{v_x}$ depend on self-consistent accelerations, hence are not tied to a grid and will be different at every time substep. Thus, these must still be computed."
   ]
  },
  {
   "cell_type": "code",
   "execution_count": null,
   "metadata": {
    "collapsed": true
   },
   "outputs": [],
   "source": []
  }
 ],
 "metadata": {
  "kernelspec": {
   "display_name": "Python 2",
   "language": "python",
   "name": "python2"
  },
  "language_info": {
   "codemirror_mode": {
    "name": "ipython",
    "version": 2
   },
   "file_extension": ".py",
   "mimetype": "text/x-python",
   "name": "python",
   "nbconvert_exporter": "python",
   "pygments_lexer": "ipython2",
   "version": "2.7.3"
  }
 },
 "nbformat": 4,
 "nbformat_minor": 0
}

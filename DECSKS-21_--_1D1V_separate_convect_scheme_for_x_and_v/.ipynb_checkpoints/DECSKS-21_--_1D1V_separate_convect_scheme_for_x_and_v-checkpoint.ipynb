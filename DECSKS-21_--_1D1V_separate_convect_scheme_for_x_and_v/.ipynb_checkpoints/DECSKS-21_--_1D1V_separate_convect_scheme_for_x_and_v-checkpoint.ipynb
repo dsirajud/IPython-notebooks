{
 "cells": [
  {
   "cell_type": "markdown",
   "metadata": {},
   "source": [
    "# DECSKS-21: 1D1V separate convect scheme for $x$ and $v_x$"
   ]
  },
  {
   "cell_type": "markdown",
   "metadata": {},
   "source": [
    "## Summary of notebook goals\n",
    "\n",
    "We take the DECSKS version used in notebooks DECSKS-01 to DECSKS-18 part 1, DECSKS-19, and decide to create separate lib.convect routines for $x$ (<code>lib.convect_configuration</code>) vs. $v_x$ (<code>lib.convect_velocity</code>). Note this does not include DECSKS-18 part 2 which is an extended pure python version of DECSKS to include several additional boundary conditions on the electrostatic potential phi nad has some significant reorganization (e.g. input decks params.dat and params_boundaryconditions.dat have been introduced and the lib.read method that reads in the inputs and stores them in the sim_params dict object is changed accordingly and extended), and does not include DECSKS-18 part 3 which is a combination of DECSKS-22 and this notebook DECSKS-21, includes separate convect schemes for $x$ and $v_x$ and has Cython routines. The versions we are dealing with here are the pure python versions (relies on numpy backbone).\n",
    "\n",
    "We also move towards discerning how to handle the computation of CFL numbers for $x$ before the simulation starts since each time substep is tied to a grid (unifo\n",
    "rm spacing $\\Delta x$, and known time substep $\\text{frac}_s\\Delta t$, and these CFL numbers (hence the correctors $\\underline{\\underline{c}}_x$ do not change from one full time step to the next. It is more efficient to calculate these beforehand, and access them as needed rather than recompute them every full time step. Note that $\\underline{\\underline{c}}_{v_x}$ depend on self-consistent accelerations, hence are not tied to a grid and will be different at every time substep. Thus, these must still be computed."
   ]
  },
  {
   "cell_type": "markdown",
   "metadata": {},
   "source": [
    "## Conclusions\n",
    "\n",
    "The above goals have all been carried out and finalized in DECSKS stored in this folder."
   ]
  }
 ],
 "metadata": {
  "kernelspec": {
   "display_name": "Python 2",
   "language": "python",
   "name": "python2"
  },
  "language_info": {
   "codemirror_mode": {
    "name": "ipython",
    "version": 2
   },
   "file_extension": ".py",
   "mimetype": "text/x-python",
   "name": "python",
   "nbconvert_exporter": "python",
   "pygments_lexer": "ipython2",
   "version": "2.7.3"
  }
 },
 "nbformat": 4,
 "nbformat_minor": 0
}

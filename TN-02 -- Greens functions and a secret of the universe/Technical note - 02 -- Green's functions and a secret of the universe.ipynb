{
 "cells": [
  {
   "cell_type": "markdown",
   "metadata": {},
   "source": [
    "# Green's functions and a secret of the universe"
   ]
  },
  {
   "cell_type": "markdown",
   "metadata": {},
   "source": [
    "In this note, we give a simple example per Osgood [1] where the solution of a partial differential equation (PDE) is seen to be a Fourier series whereafter we introduce some notation to make transparent that the solution of the PDE takes the general form of a convolution with a kernel (Green's function) with the initial data:\n",
    "\n",
    "$$u(x,t) = \\int_{y\\in\\mathcal{D}_x} dy G(x-y, t)f(y) dy$$\n",
    "\n",
    "where $G$ is the Green's function, $f(y) = u(x,0)$ is the initial data, and $u = u(x,t)$ is the solution to the partial differential equation. As Osgood suggests, the fact that in general the solution to a PDE takes this general form \"is kind of a secret of the universe [that I'm letting you in on].\" The motivation for this notebook is the author's observation that even among engineering graduate students, it is not unusual to be the only one in a room who actually knows what a Green's function is (same with Hamiltonians, action integrals, Lagrange multipliers and calculus of variations, but we save those for other notebooks!). Green's functions solutions is a powerful technique that should be more common knowledge than it is. It seems the notion of Green's functions is more supposed on the part of the instructor in graduate courses than it is lectured about, which creates a gap in education."
   ]
  },
  {
   "cell_type": "markdown",
   "metadata": {},
   "source": [
    "# A. Example setup: the heat equation\n",
    "\n",
    "Consider the heat equation over the infinite domain\n",
    "\n",
    "$$\\partial_t u = \\alpha\\partial_x^2 u, \\qquad x\\in\\mathbb{R}, \\, t\\in\\mathbb{R}^+$$\n",
    "\n",
    "where $\\alpha\\in\\mathbb{R}^+$, $u = u(t,x)$ is 1-periodic, that is, we enforce the following boundary condition and suppose a measurement is taken at the initial time so that we have an initial condition:\n",
    "\n",
    "\\begin{eqnarray*}\n",
    "\\text{periodic boundary condition: } & &  u(t,x + 1) = u(t, x) \\\\\n",
    "&& \\\\\n",
    "\\text{initial condition: } && u(0,x) = f(x)\n",
    "\\end{eqnarray*}"
   ]
  },
  {
   "cell_type": "markdown",
   "metadata": {},
   "source": [
    "# B. Solution as a Fourier series\n",
    "\n",
    "The statement of the boundary condition is telling, the solution $u$ is periodic in $x$, that is it is expressible as a Fourier series (an infinite trigonometric series), since any time dependence would tarnish the symmetry in the $x$-periodicity the time dependence cannot be involved in the trigonometric basis functions ($\\sim \\exp (2\\pi i k x)$), but instead must be contained within an auxilliary term $c_k = c_k(t)$. Given the aforementioned insights, we can use the most powerful technique in all of physics (or math), that is, we can just write down the solution:\n",
    "\n",
    "$$u(t,x) = \\sum_{k = -\\infty}^{\\infty} c_k(t) e^{2\\pi i k x}$$\n",
    "\n",
    "The question remains of what the form of the coefficient functions $c_k(t)$ have. To this end, we substitute this equation back into the original PDE ($\\partial_t u = \\alpha\\partial_x^2 u$):\n",
    "\n",
    "\\begin{eqnarray*}\n",
    "\\sum_{k = -\\infty}^{\\infty} \\frac{\\partial c_k}{\\partial t}e^{2\\pi i k x}  & = & \\alpha\\sum_{k = -\\infty}^{\\infty} (2\\pi i k)^2 c_k e^{2\\pi i k x}  \\\\\n",
    "\\sum_{k = -\\infty}^{\\infty} \\frac{\\partial c_k}{\\partial t}e^{2\\pi i k x}  & = & \\sum_{k = -\\infty}^{\\infty} - 4\\pi^2 \\alpha k^2 c_k e^{2\\pi i k x}\n",
    "\\end{eqnarray*}\n",
    "\n",
    "This relationship holds for each $k$, thus the following equality is obvious\n",
    "\n",
    "\\begin{eqnarray*}\n",
    "\\frac{\\partial c_k}{\\partial t}  & = & - 4\\pi^2 \\alpha k^2 c_k  \\\\\n",
    "&& \\\\\n",
    "\\Rightarrow c_k(t) = c_k(0) e^{- 4\\pi^2 \\alpha k^2t}\n",
    "\\end{eqnarray*}\n",
    "\n",
    "where the coefficients $c_k(0)$ depend on each $k$ in general.\n",
    "\n",
    "thus, the solution is \n",
    "\n",
    "$$u(t,x) = \\sum_{k = -\\infty}^{\\infty} c_k(0) e^{- 4\\pi^2 \\alpha k^2 t} e^{2\\pi i k x}$$\n",
    "\n",
    "To find the form of the coefficients, we examine the initial condition:\n",
    "\n",
    "\\begin{eqnarray*}\n",
    "u(0,x) = f(x) & = & \\sum_{k = -\\infty}^{\\infty} c_k(0) e^{2\\pi i k x} \\qquad \\qquad (*)\n",
    "\\end{eqnarray*}\n",
    "\n",
    "But, this summation is recognizable, that is, it looks like:\n",
    "\n",
    "$$g(x) = \\sum_{k = -\\infty}^{\\infty} \\mathcal{F}[g](k)e^{2\\pi i k x}$$\n",
    "\n",
    "which is a <i>Fourier series</i> itself whose coefficients $\\mathcal{F}[g](k)$ are given by the Fourier transform!\n",
    "\n",
    "$$\\mathcal{F}[g](k) = \\int_0^1 dx g(x) e^{-2\\pi i k x}$$\n",
    "\n",
    "Thus, in eq. $(*)$, the coefficients $c_k(0)$ play the same role and hence are analogously computable:\n",
    "\n",
    "$$c_k(0) = \\int_0^1 dx f(x) e^{-2\\pi i k x}$$\n",
    "\n",
    "Note, the insight above saved the little work required to prove the statement (i.e. one can multiply eq. $(*)$ by a complex exponential $\\exp (-2\\pi i m x)$, and integrate to prove the same result given orthonormality. Pursuing this end does not appear any more rigorous than the above given this still involves an astute observation plucked out of mathematical nowhere followed by proving the idea works a posteriori. Here, from experience we can claim it is well-known that this stepthrough produces the transform definition above which correspond exactly to the coefficients $c_k(0)$.\n",
    "\n",
    "Thus, we can quote the solution\n",
    "\n",
    "$$\\boxed{u(t,x) = \\sum_{k = -\\infty}^{\\infty} c_k(0) e^{- 4\\pi^2 \\alpha k^2 t} e^{2\\pi i k x}} \\quad \\text{where } c_k(0) = \\int_0^1 dy f(y) e^{-2\\pi i k y}$$\n",
    "\n",
    "where the dummy variable $y$ has been introduced to avoid confusion in redundant notation."
   ]
  },
  {
   "cell_type": "markdown",
   "metadata": {},
   "source": [
    "# C. Solution as a convolution by identification of the Green's function\n",
    "\n",
    "We write the consolidated solution from section B as a starting point and group terms in a suggestive way:\n",
    "\n",
    "\\begin{eqnarray*}\n",
    "u(t,x) & = & \\sum_{k = -\\infty}^{\\infty} \\int_0^1 dy f(y) e^{-2\\pi i k y} e^{- 4\\pi^2 \\alpha k^2 t} e^{2\\pi i k x} \\\\\n",
    "& = &  \\int_0^1 dy f(y) \\underbrace{\\left( \\sum_{k = -\\infty}^{\\infty}  e^{2\\pi i k (x - y)} e^{- 4\\pi^2 \\alpha k^2 t}\\right)}_{=\\, G(x-y, t)}\n",
    "\\end{eqnarray*}\n",
    "\n",
    "or\n",
    "\n",
    "$$\\boxed{u(t,x) = \\int_0^1 dy f(y) G(x-y,t)}, \\qquad \\text{where } G(w,t) = \\sum_{k = -\\infty}^{\\infty}  e^{2\\pi i k w} e^{- 4\\pi^2 \\alpha k^2 t}$$\n",
    "\n",
    "The function $G$ is called the Green's function (or the fundamental solution, in mathematics we call this a kernel).\n",
    "\n",
    "It is a general statement that the solution to PDEs can be expressed as the convolution:\n",
    "\n",
    "$$u(t,x) = \\int_{y\\in\\mathcal{D}_x} dy f(y) G(x-y), t) \\qquad \\qquad (***)$$\n",
    "\n",
    "for some kernel $G$."
   ]
  },
  {
   "cell_type": "markdown",
   "metadata": {},
   "source": [
    "# D. Inverse procedure: finding the Green's function\n",
    "\n",
    "It was shown above that the solution to a PDE naturally took the form of a Fourier series, and that we may alternatively cast this solution as a convolution of the initial data with a kernel commonly called the Green's function for the problem. In this way, we obtained the form of the Green's function and identified it after the solution had already been found. There is not a use for doing that labelling aside from the education of seeing how a Green's function is present whether or not we pursued that technique or not. In practice, we are faced the problem of finding a solution to a PDE or ODE, and desire its solution. One way of doing this is motivated by the idea shown in Section C where if we had the Green's function, we could simply integrate eq. $(***)$, and be done. Thus, this inverse procedure is where we often find ourselves: needing the Green's function to find the solution $u$, rather than caring about knowing the solution $u$ and identifying the Green's function.\n",
    "\n",
    "To find the Green's function, we seek some governing equation that dictates the form the Green's function takes. For a simple example, consider an ODE with differential operator of arbitrary, but linear, form $\\mathcal{L}$\n",
    "\n",
    "$$\\mathcal{L} u = f(x), \\qquad \\qquad u = u(x), \\, \\mathcal{L} = a(x) + b(x)\\partial_x + c(x)\\partial_x^2 + d(x)\\partial_x^3 + \\ldots$$\n",
    "\n",
    "The form of the Green's function is uncovered by the following stepthrough. First, we multiply the above ODE with the seeked function $G = G(x,y)$. Note, we swap labels of $x$ for $y$ in the above PDE so that $\\mathcal{L}$ acts on $y$, and integrating over this dummy variable $y$ so that the seeked result depends exclusively on $x$:\n",
    "\n",
    "$$\\int_{y\\in\\mathcal{D}_y} dy G(x,y) \\mathcal{L} u(y) = \\int_{y\\in\\mathcal{D}_x} dy f(y)$$\n",
    "\n",
    "The game is then played by employing integration by parts as many times as needed to interchange the differentiation from acting on $u$ to acting on $G$. In general, this produces boundary terms (i.e. in the statement $\\int u dv = uv|_{\\partial S} - \\int v du$, the term $uv|_{\\partial S}$ is a boundary term; in general the form of the boundary terms that appear have all to do with what $\\mathcal{L}$ looks like). Notwithstanding, the general result after this stepthrough is always of the following form:\n",
    "\n",
    "$$\\int_{y\\in\\mathcal{D}_x} dx  u(y)\\mathcal{L}G(x,y)  = \\int_{y\\in\\mathcal{D}_x} dy G(x,y) f(y) + \\text{boundary terms}\\qquad \\qquad (**)$$\n",
    "\n",
    "It is clear that for periodic functions like in the heat equation example of section B, the boundary terms vanish given they are all equal. In general, we keep the boundary terms given they do not vanish in most cases. \n",
    "\n",
    "The above reveals the form of $G$, that is, if on the left-hand side we have\n",
    "\n",
    "$$\\mathcal{L}G(x,y) = \\delta (x - y)$$\n",
    "\n",
    "Then\n",
    "\n",
    "$$\\text{Left hand side} = \\int_{y\\in\\mathcal{D}_x} dx  u(y)\\mathcal{L}G(x,y) = \\int_{y\\in\\mathcal{D}_x} dx  u(y) \\delta (x - y) = u(x) $$\n",
    "\n",
    "so that the solution is expressible from eq. $(**)$ as\n",
    "\n",
    "$$\\boxed{u(x) = \\int_{y\\in\\mathcal{D}_x} dy G(x,y) f(y) + \\text{boundary terms}}\\qquad \\text{where } \\mathcal{L}G(x,y) = \\delta (x - y)$$\n",
    "\n",
    "Thus, the ODE $\\mathcal{L}G(x,y) = \\delta (x - y)$ can be solved in principle to find $G$, then the above integration can be performed in order to find the solution."
   ]
  },
  {
   "cell_type": "markdown",
   "metadata": {},
   "source": [
    "# References\n",
    "\n",
    "[1] Lecture 5 | The Fourier Transforms and its Applications. Stanford University. Osgood, B. https://youtu.be/X5qRpgfQld4"
   ]
  }
 ],
 "metadata": {
  "kernelspec": {
   "display_name": "Python 2",
   "language": "python",
   "name": "python2"
  },
  "language_info": {
   "codemirror_mode": {
    "name": "ipython",
    "version": 2
   },
   "file_extension": ".py",
   "mimetype": "text/x-python",
   "name": "python",
   "nbconvert_exporter": "python",
   "pygments_lexer": "ipython2",
   "version": "2.7.3"
  }
 },
 "nbformat": 4,
 "nbformat_minor": 0
}

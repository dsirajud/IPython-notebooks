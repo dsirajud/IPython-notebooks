{
 "cells": [
  {
   "cell_type": "markdown",
   "metadata": {},
   "source": [
    "In this example, the grid velocities \n",
    "\n",
    "    array([-2. , -1.2, -0.4,  0.4,  1.2,  2. ])\n",
    "\n",
    "enumerated in j as:\n",
    "\n",
    "    array([0, 1, 2, 3, 4, 5])\n",
    "    \n",
    "Choosing $\\Delta t = \\Delta x$ so that CFL number $\\mathcal{C}_j = v_j$\n",
    "    \n",
    "x values are [0,L], x = 0 is the symmetry boundary. We have indices i labelling x as\n",
    "\n",
    "    array([0, 1, 2, 3, 4])"
   ]
  },
  {
   "cell_type": "markdown",
   "metadata": {},
   "source": [
    "After one time step we predict the following particles exit:\n",
    "    \n",
    "    the exiting x-prepoints in the domain are:\n",
    "    [0 0 1]\n",
    "    \n",
    "    the corresponding partners have x-prepoints at i-> -i\n",
    "    [ 0  0 -1]\n",
    "    \n",
    "    the x and vx prepoints for the partners are the duples (i*, j*):\n",
    "    (0, 5)\n",
    "    (0, 4)\n",
    "    (-1, 5)"
   ]
  },
  {
   "cell_type": "markdown",
   "metadata": {},
   "source": [
    "Thus, we require three derivatives at the above partner particles' prepoints.\n",
    "\n",
    "We know from symmetry that at each point $(x_i, v_{xj})$:\n",
    "\n",
    "$$f^C(x_i, v_{xj}) = f(-x_i, -v_{xj})$$\n",
    "\n",
    "In general,\n",
    "\n",
    "$$f^C(x, v_x) = f(-x, -v_x)$$\n",
    "\n",
    "Here we are considering a partner prepoint in the complement domain $x < 0 (x\\notin\\mathcal{D}_x),v_x\\in\\mathcal{D}_v > 0$. Differentiating this we have\n",
    "\n",
    "$$\\frac{\\partial^{dn}f^C(x,v_x)}{\\partial x^{dn}} = (-1)^{dn}\\frac{\\partial^{dn}f(-x,-v_x)}{\\partial x^{dn}}$$"
   ]
  },
  {
   "cell_type": "markdown",
   "metadata": {},
   "source": [
    "We have the prepoints $(x,v_x)$ above, for example, at $(x_{-1}, v_{x,5})$\n",
    "\n",
    "$$\\left.\\frac{\\partial^{dn}f^C(x,v_x)}{\\partial x^{dn}}\\right\\rvert_{(x_{-1},v_{x,5})} = (-1)^{dn}\\left.\\frac{\\partial^{dn}f(-x,-v_x)}{\\partial x^{dn}}\\right\\rvert_{(x_{-1},v_{x,5})}$$\n",
    "\n",
    "or, noting $-x_{-1} = x_1$, and $-v_{x,5} = v_{x,N_{vx}-1-5} = v_{x,0}$, we have the equivalence\n",
    "\n",
    "$$\\left.\\frac{\\partial^{dn}f^C(x,v_x)}{\\partial x^{dn}}\\right\\rvert_{(x_{-1},v_{x,5})} = (-1)^{dn}\\left.\\frac{\\partial^{dn}f(x,v_x)}{\\partial x^{dn}}\\right\\rvert_{(x_{1},v_{x,0})}$$\n",
    "\n",
    "or indicially,\n",
    "\n",
    "$$\\left.\\frac{\\partial^{dn}f^C(x_i,v_{x,j})}{\\partial x^{dn}}\\right\\rvert_{(-1,5)} = (-1)^{dn}\\left.\\frac{\\partial^{dn}f(x_i,v_{x,j})}{\\partial x^{dn}}\\right\\rvert_{(1,0)}$$\n",
    "\n",
    "in general, denote each entering partner prepoint in the complement domain as $(i^*, j^*)$ and its exiting partner with the corresponding indices $(i,j)$, then we have the general relation:\n",
    "\n",
    "$$\\left.\\frac{\\partial^{dn}f^C(x_i,v_{x,j})}{\\partial x^{dn}}\\right\\rvert_{(i^*,j^*)} = (-1)^{dn}\\left.\\frac{\\partial^{dn}f(x_i,v_{x,j})}{\\partial x^{dn}}\\right\\rvert_{(i,j)}$$\n",
    "\n",
    "where for a left symmetry boundary, we have\n",
    "\n",
    "$$i^* = -i$$\n",
    "$$j^* = N_{vx} - 1 - j$$\n",
    "\n",
    "or in the most convenient form:\n",
    "\n",
    "$$(d_{i^*,j^*}^{(dn)})^C = (-1)^{dn}d_{i,j}^{(dn)}$$\n",
    "\n",
    "in the implementation, we assemble pairs $(i^*, j^*)$ in the array <code>partner_prepoints</code>, and the exiting prepoints $(i,j)$ in <code>exiting_prepoints</code>. Thus, we can access the needed derivatives easily.\n",
    "\n",
    "A perspective that is useful here, rather than focusing on the partners entering, but on the exiting particles. That is, we \"reposition\" an exiting particle from $(i,j)$ to a postpoint positions $(k_1, j')$ and $(k_2, j')$ where $j' = N_{vx} - 1- j, k_1 = i + S, k_2 = i + S + 1$ ($v_x > 0$ for entering particles). We map the denseity $f(i,j)$, and compute a high order fraction $Uf \\sim cd$, where we use <code>c[:, vx.N - 1 - j]</code> and <code>(-1) ** dn * d[dn,i,j]</code> which can be accomplished nicely as <code>(-np.ones(sim_params['N'])) ** np.arange(sim_params['N']) * d[:,i,j]</code>.\n",
    "\n",
    "We now consider the question of equivalent between the complement fluxes and the fluxes already computed on-grid. It is obvious already, but we will show they are not \"reusable\" as is, and instead must be computed to some extent.\n",
    "\n",
    "$$[Uf]^C_{i^*,j^*}  = \\sum_{q} c^C_{q,j^*} (d_{i^*,j^*}^{(q)})^C$$\n",
    "\n",
    "where\n",
    "\n",
    "$$c^C_{q,j^*} = c_{q,j}, \\quad j \\text{ and } j^* \\text{ are partners}$$\n",
    "\n",
    "$$(d_{i^*,j^*}^{(q)})^C = (-1)^q d_{i,j}^{(q)}$$"
   ]
  },
  {
   "cell_type": "markdown",
   "metadata": {},
   "source": [
    "Collecting the results:\n",
    "\n",
    "$$[Uf]^C_{i^*,j^*}  = \\sum_{q} (-1)^q c_{q,j} (d_{i,j}^{(q)}) = \\underbrace{c_{0,j} (d_{i,j}^{(0)})}_{f_{i,j}} + (-1) c_{1,j} (d_{i,j}^{(1)}) +  c_{2,j} (d_{i,j}^{(2)}) + (-1)^3 c_{3,j} (d_{i,j}^{(3)})  +  \\ldots $$\n",
    "\n",
    "comparing with \n",
    "\n",
    "$$[Uf]_{i,j}  = \\sum_{q}  c_{q,j} (d_{i,j}^{(q)}) = \\underbrace{c_{0,j} (d_{i,j}^{(0)})}_{f_{i,j}} + c_{1,j} (d_{i,j}^{(1)}) +  c_{2,j} (d_{i,j}^{(2)}) + c_{3,j} (d_{i,j}^{(3)})  +  \\ldots $$\n",
    "\n",
    "Which shows that $[Uf]_{i^*,j^*}^C \\neq [Uf]_{i,j} \\neq -[Uf]_{i,j}$ or anything relatable in a simple way to the fluxes. <b>We cannot \"translate\" one flux into a complement flux</b>. Thus, we have to compute the complement fluxes using $c$ and $d$ according the above prescription. \n",
    "\n",
    "However, it is reassuring we do not need to recompute derivatives or correctors <code>c</code>, we can access the required values dictated by the partnership and compute the flux terms for only those partners that enter. In general, this number can be a fraction of the full density. Even in the extreme case where all particles from $f$ exit the domain as all particles from $f^C$ enter, we will not be computing parameters for the \"full grid\" evenstill. The fluxes from $f$ will be zeroed out, and only the complement fluxes will be computed. Thus, the savings in computational cost is still clear."
   ]
  }
 ],
 "metadata": {
  "kernelspec": {
   "display_name": "Python 2",
   "language": "python",
   "name": "python2"
  },
  "language_info": {
   "codemirror_mode": {
    "name": "ipython",
    "version": 2
   },
   "file_extension": ".py",
   "mimetype": "text/x-python",
   "name": "python",
   "nbconvert_exporter": "python",
   "pygments_lexer": "ipython2",
   "version": "2.7.3"
  }
 },
 "nbformat": 4,
 "nbformat_minor": 0
}

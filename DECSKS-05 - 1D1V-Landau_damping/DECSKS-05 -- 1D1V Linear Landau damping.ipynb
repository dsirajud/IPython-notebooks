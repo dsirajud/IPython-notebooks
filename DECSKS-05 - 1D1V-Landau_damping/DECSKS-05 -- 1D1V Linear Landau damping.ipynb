{
 "cells": [
  {
   "cell_type": "markdown",
   "metadata": {},
   "source": [
    "# 1D1V Linear Landau damping"
   ]
  },
  {
   "cell_type": "markdown",
   "metadata": {},
   "source": [
    "## A. Motivation and primer\n",
    "\n",
    "Linear Landau damping is a basic benchmark for any 1D1V Vlasov solver, and is obtained from Vlasov-Poisson system [1]:\n",
    "\n",
    "$$\\frac{\\partial f}{\\partial t} + v\\frac{\\partial f}{\\partial x} + \\frac{qE}{m}\\frac{\\partial f}{\\partial v} = 0$$\n",
    "\n",
    "$$\\frac{\\partial^2 \\phi}{\\partial x^2} = -n, \\qquad n = \\int_v dv\\, f(t,x,v)$$\n",
    "\n",
    "Without making any explicit assertions at this point, we decompose all quantities $q = \\langle q \\rangle + \\tilde{q}_1 + \\tilde{q}_2 + \\ldots$, so that higher enumerated terms represent the 1, 2, $\\ldots$ order terms that correct the mean value to its observed value. Inserting these models for quantities above, and considering the case wherethere exists no mean field $\\langle E \\rangle = 0$, it is easy to show that the first order equations:\n",
    "\n",
    "$$\\frac{\\partial f_1}{\\partial t} + v\\frac{\\partial f_1}{\\partial x} + \\frac{qE_1}{m}\\frac{\\partial f_0}{\\partial v} = 0$$\n",
    "\n",
    "$$\\frac{\\partial^2 \\phi}{\\partial x^2} = -\\frac{e}{\\epsilon_0} n_1 = -\\frac{e}{\\epsilon_0}\\int_v dv\\, f_1(t,x,v)$$\n",
    "\n",
    "Fourier-Laplace transforming ($\\sim \\exp (ikx - i\\omega t$)) leads to the following constraint:\n",
    "\n",
    "$$1 = \\frac{\\omega_p^2}{k^2}\\int dv \\frac{\\partial f_0}{\\partial v}\\frac{1}{v - \\omega / k}$$\n",
    "\n",
    "or\n",
    "\n",
    "$$\\epsilon (k,\\omega ) = 0, \\quad \\text{where } \\epsilon(k, \\omega ) = 1 - \\frac{\\omega_p^2}{k^2}\\int dv \\frac{\\partial f_0}{\\partial v}\\frac{1}{v - \\omega / k}$$\n",
    "\n",
    "is the dielectric constant for the (cold) plasma. The integral can be integrated by parts [1], whereupon the boundary term vanishes ($f \\rightarrow 0$ as $x\\rightarrow \\pm\\infty$), leaving an integral $\\sim \\int dv (v - \\omega / k)^{-2}$. For a phase speed $\\omega / k \\gg v$, where $v$ is the peculiar velocity of plasma particles, the term can be expanded in the corresponding small parameter $v / (\\omega / k)$, and retaining (again) only terms up to first order, produces (in the enforced case where $\\text{Im}[\\omega ] \\ll \\text{Re}[\\omega ]$ that [1, p.7],\n",
    "\n",
    "$$\\gamma \\equiv \\text{Im}[\\omega ] = \\frac{\\pi}{2}\\frac{\\omega_p^3}{k^2}\\left(\\frac{\\partial f_0}{\\partial v}\\right)_{v = \\omega / k}$$ \n",
    "\n",
    "where the common notation $\\omega = \\omega_r + i\\gamma $ has been used to denote real and imaginary parts of the wave frequency. Recall this was derived for the case of the wave speed $\\omega / k$ being much greater than the thermal velocity, hence for physical distriutions we are in a tail of a distribution. If an initial density $f_0$ is known, then this <i>damping constant</i>, $\\text{Im}[\\omega ] \\equiv \\gamma$ can be calculated, which can be observed most physically in the decay in the electric field energy, $W_E = \\frac{\\epsilon_0}{2}|E|^2$.\n",
    "\n",
    "$$E = E_0 e^{-i\\omega t} = \\hat{E}e^{-i\\omega_r t} e^{i\\gamma t}$$\n",
    "\n",
    "Hence, $W_E = (\\epsilon_0 / 2)|E|^2 = (\\epsilon_0 / 2) E^* E$\n",
    "\n",
    "$$W_E = |E_0|^2 \\left(e^{-i\\omega_r t}e^{\\gamma t}\\right)\\left(e^{+i\\omega_r t}e^{\\gamma t}\\right) = |E_0|^2 \\underbrace{|e^{0}|}_{=\\, 1} \\,\\,e^{2\\gamma t}$$\n",
    "\n",
    "or\n",
    "\n",
    "$$\\frac{W_E}{|E_0|^2} = e^{2\\gamma t}$$\n",
    "\n",
    "thus, we have the linear equation in log-space:\n",
    "\n",
    "$$\\ln \\frac{W_E}{|E_0|^2} = 2 \\gamma t$$\n",
    "\n",
    "where the slope $2\\gamma$ can be measured from experimental data or from numerical simulation. For the test density:\n",
    "\n",
    "$$f_0(x,v) = \\frac{1}{\\sqrt{2\\pi}}(1 + \\epsilon\\cos (k x))e^{-v^2 / 2}, \\quad \\epsilon = 0.01, k = 0.5$$\n",
    "\n",
    "The above linear estimate provides $\\gamma \\simeq 0.153349$. The aim of this notebook is to verify this damping rate is consistent (inasmuch as the linear theory can agree) with the simulation, and to further establish confidence by examining a selection of the infinite invariants the Vlasov-Poisson structure has (note that any Casimir $C = C(f)$ is an invariant, e.g. the set of $L^p$ norms are invariants which are themselves an infinite set). This follows from the solution existing on a Poisson manifold."
   ]
  },
  {
   "cell_type": "markdown",
   "metadata": {},
   "source": [
    "# References\n",
    "\n",
    "[1] http://www.physics.sfsu.edu/~lea/courses/grad/vlasov.PDF\n",
    "[2] http://www.math.ist.utl.pt/~jnatar/MG-03/Marsden/ms_book_ch10.pdf"
   ]
  },
  {
   "cell_type": "code",
   "execution_count": null,
   "metadata": {
    "collapsed": true
   },
   "outputs": [],
   "source": []
  }
 ],
 "metadata": {
  "kernelspec": {
   "display_name": "Python 2",
   "language": "python",
   "name": "python2"
  },
  "language_info": {
   "codemirror_mode": {
    "name": "ipython",
    "version": 2
   },
   "file_extension": ".py",
   "mimetype": "text/x-python",
   "name": "python",
   "nbconvert_exporter": "python",
   "pygments_lexer": "ipython2",
   "version": "2.7.3"
  }
 },
 "nbformat": 4,
 "nbformat_minor": 0
}

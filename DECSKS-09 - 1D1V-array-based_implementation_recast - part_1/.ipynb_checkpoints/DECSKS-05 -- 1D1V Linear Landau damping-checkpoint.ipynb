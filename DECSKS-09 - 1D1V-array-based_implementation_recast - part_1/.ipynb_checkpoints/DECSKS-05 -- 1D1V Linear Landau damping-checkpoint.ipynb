{
 "cells": [
  {
   "cell_type": "markdown",
   "metadata": {},
   "source": [
    "# 1D1V Linear Landau damping"
   ]
  },
  {
   "cell_type": "markdown",
   "metadata": {},
   "source": [
    "## A. Motivation and primer\n",
    "\n",
    "Landau damping is the collisionless damping of the electric field in a plasma that transpires by consequence of particles electrostatically exchanging energy with their self-consistent electric potential wave. Linear Landau damping is a basic benchmark for any 1D1V Vlasov solver, and is obtained from Vlasov-Poisson system:\n",
    "\n",
    "$$\\frac{\\partial f}{\\partial t} + v\\frac{\\partial f}{\\partial x} - \\frac{eE}{m}\\frac{\\partial f}{\\partial v} = 0$$\n",
    "\n",
    "$$\\frac{\\partial^2 \\phi}{\\partial x^2} = -\\frac{e}{\\epsilon_0}(n_i - n_e), \\qquad n_{\\alpha} = \\int_v dv\\, f_{\\alpha}(t,x,v), \\,\\,E = -\\partial_x \\phi$$\n",
    "\n",
    "Where, for convenience, we consider the case of singly charged positive ions in Poisson's equation, it will be motivated shortly that the electron equation is all that is required to create the damping effect in a <i>cold</i> plasma. Without making any explicit assertions at this point, we elect to partition all dependent quantities as $w = \\langle w \\rangle + \\varepsilon w_1 + \\varepsilon^2 w_2 + \\ldots$ for a small parameter $\\varepsilon$ that is physically identified as having a size proportional to the ratio of the average characteristic displacement from equilibrium (Debye length, $\\lambda_D$) to the system size $L$ ($\\varepsilon \\sim \\lambda_D / L$). Thus, higher enumerated terms represent the 1, 2, $\\ldots$ order terms that correct the mean value to its observed value. Considering the circumstance where no mean field $\\langle E \\rangle = 0$ exists for this cold quasineutral plasma $\\langle n_i \\rangle - \\langle n_e \\rangle = 0$, so that any electric field $E = \\varepsilon E_1 + \\varepsilon^2 E_2 + \\ldots$ (equivalently, any potential $\\phi = \\varepsilon \\phi_1 + \\varepsilon^2 \\phi_2 + \\ldots$) that develops is exclusively the result of self-consistent fluctuations among the charge species density. Given the ratio $m_i / m_e \\simeq 1436$, it is correct to assert it is the electrons that dominate first order perturbations (first order), hence we can write $n_e = \\langle n_e\\rangle +  n_{e1} + n_{e2} + \\ldots$ and $n_i = \\langle n_i \\rangle + \\varepsilon n_{i1} + \\varepsilon^2 n_{i2} + \\ldots$ where $|n_{i1}| \\ll |n_{e1}|$, hence, to first order, Poisson's equation becomes (where for brevity we label $n_{e1} \\equiv n_1, and $\\langle f \\rangle \\equiv f_0)$:\n",
    "\n",
    "$$O(\\varepsilon ): \\qquad \\qquad \\frac{\\partial^2\\phi}{\\partial x^2} = +\\frac{e}{\\epsilon_0}n_1 = \\frac{e}{\\epsilon_0}\\int_v dv f_1(t,x,v)$$\n",
    "\n",
    "note the order unity equation is a statement of charge neutrality. Inserting the perturbation models defined just above into the Vlasov equation, the order unity equation produces equation of charge continuity, whereas the first order equation provides:\n",
    "\n",
    "$$O(\\varepsilon ): \\qquad \\qquad \\qquad \\frac{\\partial f_1}{\\partial t} + v\\frac{\\partial f_1}{\\partial x} + \\frac{qE_1}{m}\\frac{\\partial f_0}{\\partial v} = 0$$\n",
    "\n",
    "\n",
    "Fourier-Laplace transforming ($\\sim \\exp (ikx - i\\omega t$)), solving for $f_1$ in order to eliminate it in Poisson's equation leads to the following constraint [1]:\n",
    "\n",
    "$$\\phi = \\left(\\frac{\\omega_p^2}{k^2}\\int dv \\frac{\\partial \\hat{f}_0}{\\partial v}\\frac{1}{v - \\omega / k}\\right)\\phi$$\n",
    "\n",
    "where $$\\qquad \\omega_p^2 = \\langle n_e \\rangle e^2 / (m_e\\epsilon_0), \\quad \\hat{f}_0 = f_0 / \\langle n_e \\rangle$$\n",
    "\n",
    "which for compatibility requires:\n",
    "\n",
    "$$1 = \\frac{\\omega_p^2}{k^2}\\int dv \\frac{\\partial \\hat{f}_0}{\\partial v}\\frac{1}{v - \\omega / k}$$\n",
    "\n",
    "or\n",
    "\n",
    "$$\\epsilon (k,\\omega ) = 0, \\quad \\text{where } \\epsilon(k, \\omega ) = 1 - \\frac{\\omega_p^2}{k^2}\\int dv \\frac{\\partial \\hat{f}_0}{\\partial v}\\frac{1}{v - \\omega / k}$$\n",
    "\n",
    "is the dielectric constant for the (cold) plasma. The integral can be integrated by parts [1], whereupon the boundary term vanishes ($f \\rightarrow 0$ as $x\\rightarrow \\pm\\infty$), leaving an integral $\\sim \\int dv (v - \\omega / k)^{-2}$. For a phase speed $\\omega / k \\gg v$, where $v$ is the peculiar velocity of plasma particles, the term can be expanded in the corresponding small parameter $v / (\\omega / k)$, and retaining (again) only terms up to first order, produces (in the enforced case where $\\text{Im}[\\omega ] \\ll \\text{Re}[\\omega ]$, this turns out to be correspondent to the requirement $k\\lambda_D \\ll 1$, i.e. the wave length of the field is much larger than the typical particle displacement) that [1, p.7],\n",
    "\n",
    "$$\\gamma \\equiv \\text{Im}[\\omega ] = \\frac{\\pi}{2}\\frac{\\omega_p^3}{k^2}\\left(\\frac{\\partial \\hat{f}_0}{\\partial v}\\right)_{v = \\omega / k}$$ \n",
    "\n",
    "where the common notation $\\omega = \\omega_r + i\\gamma $ has been used to denote real and imaginary parts of the wave frequency. Recall this was derived for the case of the wave speed $\\omega / k$ being much greater than the thermal velocity, hence for physical distributions (e.g. Maxwellian) we are in a region of very small, but <i>negative</i> slope $\\partial \\hat{f}_0 / dv$, thus we anticipate $\\gamma < 0$  and that the (electric potential)  wave $\\sim e^{+\\gamma t}$ decays; this is <i>Landau damping</i>. It is a statement that even a plasma in thermodynamic equilibrium (i.e. it can be shown that the unique function that describes this state can only be the Maxwellian distribution) has an electric field that is damped out globally in time. It is notable that the observation of this damping appears to similar to dissipation that it is a proclivity to incorrectly regard there is some loss of energy; however, the Vlasov-Poisson system has a Hamiltonian which is constant in time. Thus, if the velocities are reversed at any point in time, the initial conditions will be \"recovered\" at some point whereafter the wave \"decays\" away just the same [3].\n",
    "\n",
    "If an initial density $\\hat{f}_0$ is known, then this <i>damping constant</i>, $\\text{Im}[\\omega ] \\equiv \\gamma$ can be calculated, which can be observed most physically in the decay in the electric field energy, $W_E = \\frac{\\epsilon_0}{2}|E|^2$.\n",
    "\n",
    "$$E = E_0 e^{-i\\omega t} = \\hat{E}e^{-i\\omega_r t} e^{i\\gamma t}$$\n",
    "\n",
    "Hence, $W_E = (\\epsilon_0 / 2)|E|^2 = (\\epsilon_0 / 2) E^* E$\n",
    "\n",
    "$$W_E = |E_0|^2 \\left(e^{-i\\omega_r t}e^{\\gamma t}\\right)\\left(e^{+i\\omega_r t}e^{\\gamma t}\\right) = |E_0|^2 \\underbrace{|e^{0}|}_{=\\, 1} \\,\\,e^{2\\gamma t}$$\n",
    "\n",
    "or\n",
    "\n",
    "$$\\frac{W_E}{|E_0|^2} = e^{2\\gamma t}$$\n",
    "\n",
    "thus, we have the linear equation in log-space:\n",
    "\n",
    "$$\\ln \\frac{W_E}{|E_0|^2} = 2 \\gamma t$$\n",
    "\n",
    "where the slope $2\\gamma$ can be measured from experimental data or from numerical simulation. "
   ]
  },
  {
   "cell_type": "markdown",
   "metadata": {},
   "source": [
    "# B. Goals of this notebook\n",
    "\n",
    "In this notebook, we use the test density [4]:\n",
    "\n",
    "$$\\hat{f}_0(x,v) = \\frac{1}{\\sqrt{2\\pi}}(1 + \\epsilon\\cos (k x))e^{-v^2 / 2}, \\quad \\epsilon = 0.01, k = 0.5$$\n",
    "\n",
    "on the solution to the Vlasov-Poisson system:\n",
    "\n",
    "$$\\frac{\\partial f}{\\partial t} + v\\frac{\\partial f}{\\partial x} - \\frac{eE}{m}\\frac{\\partial f}{\\partial v} = 0, \\quad x\\in [-2\\pi, 2\\pi ], v\\in [-7, 7]$$\n",
    "\n",
    "$$\\frac{\\partial^2 \\phi}{\\partial x^2} = -\\frac{e}{\\epsilon_0}(n_i - n_0), \\qquad n_{\\alpha} = \\int_v dv\\, f_{\\alpha}(t,x,v), \\,\\,E = -\\partial_x \\phi$$\n",
    "\n",
    "\n",
    "The above linear estimate provides $\\gamma \\simeq -0.153349$. It is aimed to verify this damping rate is consistent (inasmuch as the linear theory can agree) with the simulation, and to further establish confidence by examining a selection of the infinite invariants the Vlasov-Poisson structure has (note that any Casimir $C = C(f)$ is an invariant, e.g. the set of $L^p$ norms are invariants which are themselves an infinite set). This follows from the solution existing on a Poisson manifold. The following invariants $I$ will be tracked for the distribution function $f = f(t^n,x_i,v_j) \\equiv f^n_{i,j}$ [4]:\n",
    "\n",
    "<ol>\n",
    "<li> $\\ell^1$ norm: $I_v = \\sum_{ i,j}|f_{i,j}^n|\\Delta x \\Delta v$\n",
    "<li> $\\ell^2$ norm: $I_2 = \\sqrt{\\sum_{i,j}(f_{i,j}^n)^2\\Delta x \\Delta v}$\n",
    "<li> Total energy $I_W$\n",
    "\n",
    "<ol> Recall the number density is given by $n(t^n,x_i) \\equiv n_i^n = \\sum_j f_{i,j}^n \\Delta v = n_i^n$, we can cast the energy in two ways:\n",
    "<li> in terms of the electric potential $\\{\\phi_i^n\\}$: $I_W = \\sum_{i}\\left(\\frac{1}{2}n_i^n v_j^2\\right)\\Delta x - \\sum_in_i^n\\phi \\Delta x$\n",
    "<li> in terms of the electric field $\\{E_i^n\\}$: $I_W = \\sum_{i}\\left(\\frac{1}{2}n_i^n v_j^2\\right)\\Delta x + \\sum_i \\frac{1}{2}n_i|E_i^n|^2$\n",
    "</ol>\n",
    "<li> Entropy: $I_S = \\sum_{i,j}f_{i,j}^n \\ln (f_{i,j}^n + \\varepsilon ) \\Delta x \\Delta v$\n",
    "</ol>\n",
    "\n",
    "where to evade numerical overflow we include a small offset $\\varepsilon \\sim 10^{-308}$ (i.e. eps = sys.float_info.min in Python).\n",
    "\n",
    "The damping of the electric field will be gleaned from the electrostatic portion of the total energy:\n",
    "\n",
    "$$W_E^n = -\\sum_i e\\phi_i^n = \\sum_i \\frac{1}{2}|E_{i}^n|^2 \\Delta x$$\n",
    "\n",
    "in our normalized units. In the FD formulation of DECSKS, we solve for $\\phi$ making the potential versions for apt for our purposes, whereas the Fourier solver already implemented solves for the electric field."
   ]
  },
  {
   "cell_type": "markdown",
   "metadata": {},
   "source": [
    "# C. Fourier-based CS solutions ($FN$ methods)"
   ]
  },
  {
   "cell_type": "markdown",
   "metadata": {},
   "source": [
    "Here, we use a Fourier-based calculation for the higher order corrections on convected scheme as well as a Fourier based"
   ]
  },
  {
   "cell_type": "markdown",
   "metadata": {},
   "source": [
    "# References\n",
    "\n",
    "[1] http://www.physics.sfsu.edu/~lea/courses/grad/vlasov.PDF\n",
    "\n",
    "[2] http://www.math.ist.utl.pt/~jnatar/MG-03/Marsden/ms_book_ch10.pdf\n",
    "\n",
    "[3] http://farside.ph.utexas.edu/teaching/plasma/Plasmahtml/node85.html\n",
    "\n",
    "[4] Y. Güçlü, A.J. Christlieb and W.N.G. Hitchon, Arbitrarily high order Convected Scheme solution of the Vlasov-Poisson system (2013)."
   ]
  },
  {
   "cell_type": "code",
   "execution_count": null,
   "metadata": {
    "collapsed": true
   },
   "outputs": [],
   "source": []
  }
 ],
 "metadata": {
  "kernelspec": {
   "display_name": "Python 2",
   "language": "python",
   "name": "python2"
  },
  "language_info": {
   "codemirror_mode": {
    "name": "ipython",
    "version": 2
   },
   "file_extension": ".py",
   "mimetype": "text/x-python",
   "name": "python",
   "nbconvert_exporter": "python",
   "pygments_lexer": "ipython2",
   "version": "2.7.3"
  }
 },
 "nbformat": 4,
 "nbformat_minor": 0
}

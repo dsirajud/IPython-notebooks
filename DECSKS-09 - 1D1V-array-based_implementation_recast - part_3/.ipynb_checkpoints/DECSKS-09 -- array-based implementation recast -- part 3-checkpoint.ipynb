{
 "cells": [
  {
   "cell_type": "markdown",
   "metadata": {},
   "source": [
    "# Extensions to $v$-advection"
   ]
  },
  {
   "cell_type": "markdown",
   "metadata": {},
   "source": [
    "A v-advection begins with the orchestrator routine lib.split:"
   ]
  },
  {
   "cell_type": "code",
   "execution_count": null,
   "metadata": {
    "collapsed": true
   },
   "outputs": [],
   "source": [
    "            elif coeff[s] == 'b': # advect v\n",
    "                Ex = DECSKS.lib.fieldsolvers.Gauss(sim_params['ni'], f, x, vx, n-1, sim_params) # calculate accelerations at time zero (n-1)\n",
    "                ax = DECSKS.lib.domain.Setup(sim_params, 'a', 'x')\n",
    "                ax.prepointvaluemesh = -Ex\n",
    " \n",
    "                vx.CFL.compute_numbers(vx, ax, split_coeff*t.width)\n",
    "                f[n,:,:] = DECSKS.lib.convect.scheme(\n",
    "                    f[n-1,:,:],\n",
    "                    n,\n",
    "                    sim_params,\n",
    "                    z = vx,\n",
    "                    vz = ax)"
   ]
  },
  {
   "cell_type": "markdown",
   "metadata": {},
   "source": [
    "The electric field calculation has been compatibilized in the notebook DECSKS-09 part 4., the instance <code>ax</code> takes the form\n",
    "\n",
    "$$\\text{ax} = \\underline{\\underline{a}}_x = \\left(\\begin{array}{cccc}\n",
    "a_0 & a_0 & \\ldots & a_0 \\\\\n",
    "a_1 & a_1 & \\ldots & a_1 \\\\\n",
    "\\vdots & \\vdots & & \\vdots \\\\\n",
    "a_{N_x-1} & a_{N_x-1} & & a_{N_x-1}\\end{array}\\right)$$"
   ]
  },
  {
   "cell_type": "markdown",
   "metadata": {},
   "source": [
    "i.e. each velocity cell is advected along its row with the computed <code>ax</code>."
   ]
  },
  {
   "cell_type": "markdown",
   "metadata": {},
   "source": [
    "The CFL computation precedes the call to the lib.convect.scheme method:"
   ]
  },
  {
   "cell_type": "markdown",
   "metadata": {},
   "source": [
    "    vx.CFL.compute_numbers(vx, ax, split_coeff*t.width)"
   ]
  },
  {
   "cell_type": "markdown",
   "metadata": {},
   "source": [
    "Which takes the form:"
   ]
  },
  {
   "cell_type": "code",
   "execution_count": null,
   "metadata": {
    "collapsed": true
   },
   "outputs": [],
   "source": [
    "    def compute_numbers(self, z, vz, dt):\n",
    "        \"\"\"Calculates the CFL numbers and corresponding integer and fractional\n",
    "        parts for each col of z.prepointmesh and stores in the 2D stack\n",
    "\n",
    "            z.CFL.compute_numbers(z,vz,dt)\n",
    "\n",
    "        note that each number corresponds to advection in 1D for each 1D problem\n",
    "        whose subdomain is the column, and whose column space constitutes the entire\n",
    "        grid.\n",
    "\n",
    "        Hence, we implement the indicial displacement of each gridpoint according\n",
    "        to the velocity values in each column by shifting from prepoints\n",
    "\n",
    "            (i,j) --> (i,j+ CFL.numbers[j])\n",
    "\n",
    "        where the index i is not explicitly referenced given it is obvious.n\n",
    "\n",
    "        inputs:\n",
    "        self -- (lib.domain.CourantNumber instance) CFL instance with attribute containers\n",
    "                containers CFL.numbers, CFL.int, CFL.frac.\n",
    "\n",
    "                NOTE: the method is an attribute belonging to the subinstance z.CFL\n",
    "                hence, self refers to z.CFL, not z.\n",
    "\n",
    "        z -- (lib.domain.Setup instance) phasespace instance being advected\n",
    "        vz -- (lib.domain.Setup instance) velocity for self, e.g. vx, ..., ax, ..\n",
    "        dt -- (float) width of time step, can be a fraction of t.width for split\n",
    "              methods\n",
    "\n",
    "        outputs:\n",
    "        None -- updates attributes\n",
    "        \"\"\"\n",
    "        self.numbers = vz.prepointvaluemesh * dt / z.width\n",
    "\n",
    "        # if >= 0 , self.int = floor(self.numbers), else ceil(self.numbers)\n",
    "        # i.e. the sign of CFL.frac agrees with the sign of vz\n",
    "        self.int = np.where(self.numbers >=0, np.floor(self.numbers),\n",
    "                            np.ceil(self.numbers)).astype(int)\n",
    "\n",
    "        # remaining portion is the fractional CFL number\n",
    "        self.frac = self.numbers - self.int\n",
    "\n",
    "        # format dtype as int\n",
    "        self.int = np.array(self.int, dtype = int)"
   ]
  },
  {
   "cell_type": "markdown",
   "metadata": {},
   "source": [
    "No change is needed since here, <code>vz = ax</code> and <code>z = x</code>, the appropriate numbers are computed from the calculation:\n",
    "\n",
    "        self.numbers = vz.prepointvaluemesh * dt / z.width\n",
    "        \n",
    "This gives the CFL numbers (and int and frac parts) the same form as <code>ax</code> above."
   ]
  },
  {
   "cell_type": "markdown",
   "metadata": {},
   "source": [
    "Next, the function lib.convect.scheme is stepped into:"
   ]
  },
  {
   "cell_type": "code",
   "execution_count": null,
   "metadata": {
    "collapsed": true
   },
   "outputs": [],
   "source": [
    "def scheme(\n",
    "    f_initial,\n",
    "    n,\n",
    "    sim_params,\n",
    "    z,\n",
    "    vz\n",
    "    ):\n",
    "    \"\"\"Solves a collection of 1D advection (in z) equations by convected scheme\n",
    "    and stacks the results in a 2D matrix\n",
    "\n",
    "    inputs:\n",
    "    f_initial -- (ndarray, ndim = 2) f[n-1,:,:] if first\n",
    "             substep in a splitting algorithm or if none\n",
    "             else, f[n,:,:]\n",
    "    n -- (int) time step            \n",
    "    sim_params -- (dict) simulation parameters\n",
    "    z -- (instance) phase space variable\n",
    "    vz -- (instance) generalized velocity for z\n",
    "\n",
    "\n",
    "    outputs:\n",
    "    f_final -- (ndarray, ndim = 1 or 2) f[n,:] or f[n,:,:] updated\n",
    "               after all steps have been completed\n",
    "    \"\"\"\n",
    "\n",
    "    # (0) INITIALIZE FINAL DENSITY CONTAINER AND EXTRACT EVOLVED GRID\n",
    "    f_final = np.zeros(f_initial.shape)\n",
    "    f_initial = DECSKS.lib.convect.extract_active_grid(sim_params, f_initial)\n",
    "\n",
    "    # (1) PUSH MOVING CELLS an integer number of cells\n",
    "    z.postpointmesh = advection_step(z)\n",
    "\n",
    "    # (*) APPLY BOUNDARY CONDITIONS\n",
    "    z.postpointmesh = DECSKS.lib.boundaryconditions.periodic(z.postpointmesh, z.N)\n",
    "\n",
    "    # (2) REMAP DENSITY TO GRID AND APPLY BCs IF NEEDED\n",
    "    f_remapped = remap_step(\n",
    "                       sim_params,\n",
    "                       f_initial,\n",
    "                       n,\n",
    "                       z,\n",
    "                       vz\n",
    "                       )\n",
    "\n",
    "    # (3) COLLISION STEP (NOT YET IMPLEMENTED)\n",
    "    # f_new = DECSKS.lib.collisions.collisiontype(f_old, z, n)\n",
    "\n",
    "    # (4) RETURN FINAL DESTINY (density*)\n",
    "    f_final = finalize_density(sim_params, f_remapped, f_final)\n"
   ]
  },
  {
   "cell_type": "markdown",
   "metadata": {},
   "source": [
    "Stepping through key lines:\n",
    "\n",
    "    L28: f_initial = DECSKS.lib.convect.extract_active_grid(sim_params, f_initial)\n",
    "    \n",
    "extracts a density function with shape f.shape = (x.N, v.N)\n",
    "\n",
    "    L31: z.postpointmesh = advection_step(z)\n",
    "    \n",
    "calls the lib.convect.advection_step method:"
   ]
  },
  {
   "cell_type": "code",
   "execution_count": null,
   "metadata": {
    "collapsed": true
   },
   "outputs": [],
   "source": [
    "def advection_step(z):\n",
    "    \"\"\"Pushes each z.prepointmesh (index) value by the advection *along each\n",
    "    column j* (i.e. constant vz.prepointvaluemesh)\n",
    "    as prescribed by its generalized velocity vz.prepointmeshvalues[:,j].\n",
    "\n",
    "    This is computed in one calculation by:\n",
    "\n",
    "        vz.prepointmeshvalues * dt / z.width = CFL.numbers\n",
    "\n",
    "    the integer part, CFL.int, is pushed here. The residual fraction\n",
    "    CFL.frac is remapped according to remap_step(*args) in step (2) in\n",
    "    the orchestrator routine, scheme(*args), above.\n",
    "\n",
    "    inputs:\n",
    "    z -- (instance) phase space variable equipped with (among other attributes)\n",
    "\n",
    "            z.prepointmesh -- (ndarray, ndim=2) initial [i,j] prepoint indices of all MCs\n",
    "\n",
    "            z.CFL -- (instance) contains CFL numbers, int and frac parts\n",
    "                z.CFL.numbers -- (ndarray, ndim=2, dtype=float64)\n",
    "                z.CFL.int -- (ndarray, ndim=2, dtype=int) integer part of CFL numbers\n",
    "                z.CFL.frac -- (ndarray, ndim=2, dtype=float64) fractional part\n",
    "\n",
    "    outputs:\n",
    "    z -- (instance) phase space variable updated with postpointmesh attribute (BCs not applied)\n",
    "\n",
    "        updated attr:\n",
    "        z.postpointmesh -- (ndarray, ndim=3, dtype=int), shape = (2, x.N, v.N) matrix containing each pair\n",
    "                           k[:,i,j] of postpoints for each prepoint [i,j]\n",
    "\n",
    "\n",
    "    NOTE: Boundary conditions NOT applied at this point\n",
    "\n",
    "    USAGE NOTE: the map z.postpointmesh[k,i,j] for k = 0 or 1 gives the postpoint\n",
    "      of the advecting index, it does not give the relevant postpoint duple\n",
    "      in phase space:\n",
    "\n",
    "          (z.postpointmesh[k,i,j], j) [for x advection]\n",
    "\n",
    "      or\n",
    "\n",
    "          (i, z.postpointmesh[k,i,j]) [for v advection]\n",
    "\n",
    "      but instead just gives that value z.postpointmesh[k,i,j] of the index\n",
    "      that changes. Hence, the remap procedure must be encoded with an\n",
    "      understanding of which index is updated in order to complete the push.\n",
    "\n",
    "      It then makes sense to speak in terms such as:\n",
    "\n",
    "          z.postpointmesh[0,i,j] + 1 is a contiguous gridpoint to\n",
    "                       the index z.postpointmesh[0,i,j] in the positive\n",
    "                       direction\n",
    "\n",
    "          z.postpointmesh[0,i,j] - 1 is a contiguous gridpoint to\n",
    "                       the index z.postpointmesh[0,i,j] in the negative\n",
    "                       direction\n",
    "\n",
    "      since we are speaking of one index, not a duple as concerns the postpointmesh\n",
    "      object\n",
    "    \"\"\"\n",
    "    z.postpointmesh[0,:,:] = z.prepointmesh + z.CFL.int\n",
    "    z.postpointmesh[1,:,:] = np.sign(z.CFL.frac).astype(int) + z.postpointmesh[0,:,:]\n",
    "\n",
    "    return z.postpointmesh"
   ]
  },
  {
   "cell_type": "markdown",
   "metadata": {},
   "source": [
    "This also is computed consistently with vx as the advecting variable. Next,\n",
    "\n",
    "    L36: z.postpointmesh = DECSKS.lib.boundaryconditions.periodic(z.postpointmesh, z.N)\n",
    "    \n",
    "the method has the following implementation:"
   ]
  },
  {
   "cell_type": "code",
   "execution_count": null,
   "metadata": {
    "collapsed": true
   },
   "outputs": [],
   "source": [
    "def periodic(w, Nw):\n",
    "    \"\"\"Applies periodic boundary conditions to\n",
    "    postpoints\n",
    "\n",
    "    inputs:\n",
    "    w -- (ndarray, ndim=arbitrary) array whose indices are to be\n",
    "         kept in range 0, 1, ... , S-1 per periodic BCs\n",
    "    S -- (int) supremum value in the modular arithematic operation\n",
    "         for example, S = z.N restricts indices between 0, 1, ... , z.N\n",
    "\n",
    "    outputs:\n",
    "    Array with periodic BCs enforced according to bound on attribute4 S.N\n",
    "    \"\"\"\n",
    "\n",
    "    return np.mod(w, Nw)\n"
   ]
  },
  {
   "cell_type": "markdown",
   "metadata": {},
   "source": [
    "This is also computed consistently. Finally, we have the remap step of the algorithm:"
   ]
  },
  {
   "cell_type": "markdown",
   "metadata": {},
   "source": [
    "    # (2) REMAP DENSITY TO GRID\n",
    "    f_remapped = remap_step(\n",
    "                       sim_params,\n",
    "                       f_initial,\n",
    "                       n,\n",
    "                       z,\n",
    "                       vz\n",
    "                       )"
   ]
  },
  {
   "cell_type": "markdown",
   "metadata": {},
   "source": [
    "The remap_step is a top-level conductor for calling many methods that are used to compute the high order fluxes and eventually to remap the density packets to contiguous gridpoints appropriately."
   ]
  },
  {
   "cell_type": "code",
   "execution_count": null,
   "metadata": {
    "collapsed": true
   },
   "outputs": [],
   "source": [
    "def remap_step(\n",
    "        sim_params,\n",
    "        f_old,\n",
    "        n,\n",
    "        z,\n",
    "        vz\n",
    "        ):\n",
    "    \"\"\"Orchestrates remapping of all advected moving cells to the grid,\n",
    "    the flowchart of methods being used is the following:\n",
    "\n",
    "    f_final = convect.remap_step(\n",
    "               sim_params,\n",
    "                f_old,\n",
    "                n,\n",
    "                z,\n",
    "                vz\n",
    "                )\n",
    "\n",
    "                | |\n",
    "               \\   /\n",
    "                \\ /\n",
    "\n",
    "    Uf = convect.flux(    ->   c = HOC.correctors(sim_params, z, vz)\n",
    "        sim_params,\n",
    "        f_old,           ->   d = derivatives.method(f, z, vz, sim_params)\n",
    "        z, vz\n",
    "        )                <-   Uf = sum over q (c[q,:]*d[q,:,:])\n",
    "\n",
    "\n",
    "                | |\n",
    "               \\   /\n",
    "                \\ /\n",
    "\n",
    "\n",
    "   remap the appropriate proportion to the nearest neighbor gridpoints\n",
    "   f_k1 = convect.remap_assignment(\n",
    "                            f_old,\n",
    "                            Uf,\n",
    "                            z.postpointmesh[0,:,:],\n",
    "                            z,\n",
    "                            vz,\n",
    "                            index = 'nearest'\n",
    "                            )\n",
    "\n",
    "\n",
    "   remap the remaining proportion to the appropriate contiguous gridpoint\n",
    "   f_k2 = convect.remap_assignment(\n",
    "                            f_old,\n",
    "                            Uf,\n",
    "                            z.postpointmesh[1,:,:],\n",
    "                            z,\n",
    "                            vz,\n",
    "                            index = 'contiguous'\n",
    "                            )\n",
    "\n",
    "   return f_remapped = f_k1 + f_k2\n",
    "\n",
    "                | |\n",
    "               \\   /\n",
    "                \\ /\n",
    "\n",
    "\n",
    "   f_final = convect.finalize_density(\n",
    "                            sim_params,\n",
    "                            f_remapped,\n",
    "                            f_final # initialized container of zeros\n",
    "                            )\n",
    "\n",
    "    inputs:\n",
    "    sim_params -- (dict) simulation parameters\n",
    "    f_old -- (ndarray, dim=2) density from previous time step, full grid\n",
    "    n  -- (int) current time step\n",
    "    z -- (instance) phase space variable\n",
    "    vz -- (instance) generalized velocity variable for phase space variable z\n",
    "\n",
    "    outputs:\n",
    "    f_remapped -- (ndarray, dim=2) density with all MCs remapped at final postpoints\n",
    "                     according to remap rule\n",
    "\n",
    "    NOTE: we carry assemble the new density as a sum of two\n",
    "    2D matrices f_k1 and f_k2 which themselves are the associated\n",
    "    mappings to the postpoints k1 (nearest neighbor grid index to\n",
    "    exact non-integral postpoint), and k2 (contiguous grid index\n",
    "    to k1 based on the sign of advection), we use k here for brevity\n",
    "    but the postpoint pairs are stored in z.postpointmesh[:,i,j] for\n",
    "    each [i,j]\n",
    "\n",
    "    The reason a partition is necessary is that a mapping such as\n",
    "\n",
    "        f_new[k, vz.prepointmesh] += f_old\n",
    "\n",
    "    does not increment each element, but instead overwrites leaving\n",
    "    only the final assignment to a particular gridpoint rather than\n",
    "    adds on top of it. Thus, the separation of k1 and k2 into\n",
    "    different containers f_k1 and f_k2 permit non-overlapping\n",
    "    assignments in each individually since every z is pushed by the same\n",
    "    vz for a given row (column), so overlapping assignments are not\n",
    "    possible for each index separately. The sum gives the appropriate ]\n",
    "    total density f_new.\n",
    "    \"\"\"\n",
    "\n",
    "    # compute high order fluxes\n",
    "    Uf = flux(\n",
    "        sim_params,\n",
    "        f_old,\n",
    "        z, vz\n",
    "        )\n",
    "\n",
    "    # remap to nearest neighbor cell center\n",
    "    f_k1 = remap_assignment(\n",
    "        f_old,\n",
    "        Uf,\n",
    "        z.postpointmesh[0,:,:],\n",
    "        z,\n",
    "        vz,\n",
    "        index = 'nearest'    # remaps to nearest neighbor index\n",
    "        )\n",
    "\n",
    "    # remap to contiguous cell center\n",
    "    f_k2 = remap_assignment(\n",
    "        f_old,\n",
    "        Uf,\n",
    "        z.postpointmesh[1,:,:],\n",
    "        z,\n",
    "        vz,\n",
    "        index = 'contiguous'    # remaps to contiguous neighbor of above\n",
    "        )\n",
    "\n",
    "    f_remapped = f_k1 + f_k2\n",
    "\n",
    "    # global check on L1 norm\n",
    "    DECSKS.lib.density.global_conservation_check(sim_params, f_remapped, n)\n",
    "\n",
    "    return f_remapped"
   ]
  },
  {
   "cell_type": "markdown",
   "metadata": {},
   "source": [
    "At line 103 of convect.remap_step, the flux function is called:\n",
    "\n",
    "             # compute high order fluxes\n",
    "    L103:    Uf = flux(\n",
    "                sim_params,\n",
    "                f_old,\n",
    "                z, vz\n",
    "                )\n",
    "which has the following implementation:"
   ]
  },
  {
   "cell_type": "code",
   "execution_count": null,
   "metadata": {
    "collapsed": true
   },
   "outputs": [],
   "source": [
    "def flux(\n",
    "        sim_params,\n",
    "        f_old,\n",
    "        z, vz\n",
    "        ):\n",
    "    \"\"\"Computes fluxes Uf for all z.prepointmesh\n",
    "\n",
    "    inputs:\n",
    "    f_old -- (ndarray, dim=2) density from previous time (sub)step\n",
    "    CFL -- (instance) CFL number\n",
    "    z -- (instance) phase space variable\n",
    "    sim_params -- (dict) simulation parameters\n",
    "\n",
    "    outputs:\n",
    "    Uf -- (ndarray, dim=2) Normalized fluxes for every z.prepoints[i]\n",
    "\n",
    "           where for each [i,j]:\n",
    "\n",
    "               Uf[i,j] = sum c[q,j]*d[q,i,j] over q = 0, 1, ... N-1\n",
    "    \"\"\"\n",
    "\n",
    "    c = DECSKS.lib.HOC.correctors(sim_params, z, vz)\n",
    "\n",
    "    # evaluate derivatives q = 0, 1, 2, ... N-1 (zeroeth is density itself)\n",
    "\n",
    "    # calls lib.derivatives.fd or lib.derivatives.fourier based on the\n",
    "    # HOC specified in etc/params.dat, sim_params['derivative_method']\n",
    "    # contains the related function handle as a string\n",
    "    d = eval(sim_params['derivative_method'])(f_old, z, vz, sim_params)\n",
    "\n",
    "    # compute high order fluxes column-by-column\n",
    "    Uf = np.zeros(f_old.shape)\n",
    "    for j in range(vz.N):\n",
    "        Uf[:,j] = c[:,j].dot(d[:,:,j])\n",
    "\n",
    "    # enforce flux limiter to ensure positivity and restrict numerical overflow\n",
    "    Uf = flux_limiter(f_old, Uf, z)\n",
    "\n",
    "    return Uf\n"
   ]
  },
  {
   "cell_type": "markdown",
   "metadata": {},
   "source": [
    "We have\n",
    "\n",
    "    L22:     c = DECSKS.lib.HOC.correctors(sim_params, z, vz)\n",
    "\n",
    "where,"
   ]
  },
  {
   "cell_type": "code",
   "execution_count": null,
   "metadata": {
    "collapsed": true
   },
   "outputs": [],
   "source": [
    "def correctors(sim_params, z, vz):\n",
    "    \"\"\"computes the correction coefficients c for every [i,j]\n",
    "\n",
    "    inputs:\n",
    "    sim_params -- (dict) simulation parameters\n",
    "\n",
    "    outputs:\n",
    "    c -- (ndarray, ndim=2) correction coefficients\n",
    "         with shape = (N, z_notadv.N)\n",
    "         where z_notadv means the not advecting phase\n",
    "         space variable in the scope of a 2D advection\n",
    "         implementation\n",
    "\n",
    "         per DECSKS-09 notation, the tensor c is given by\n",
    "\n",
    "             c = I_alternating.dot(B)\n",
    "\n",
    "        where I_alternating.shape = (N,N), and the entries\n",
    "\n",
    "             I_alternating[i,i] = (-1) ** i\n",
    "             I_alternating[i,j] = 0 for all i != j\n",
    "\n",
    "        and the matrix B.shape = (N,vz.N) is the vectors\n",
    "        of beta correctors (shape = (N,1)) for each value\n",
    "        of vz.prepointvaluemesh[:,j]\n",
    "    \"\"\"\n",
    "    Beta_func_handle = \"%s%s\" % (\"Beta_matrix_\", z.str[0])\n",
    "\n",
    "    B = eval(Beta_func_handle)(sim_params, z, vz)\n",
    "    c = sim_params['I_alternating'].dot(B)\n",
    "    return c\n"
   ]
  },
  {
   "cell_type": "markdown",
   "metadata": {},
   "source": [
    "The computation of <code>c</code> is accomplished as (above written for x-advection). <b>For x-advection</b> we had:\n",
    "\n",
    "$$\\underline{\\underline{c}}_{x,N_x\\times N_v} = \\underline{\\underline{I}}^{\\pm}\\cdot \\underline{\\underline{B}}_x$$\n"
   ]
  },
  {
   "cell_type": "markdown",
   "metadata": {},
   "source": [
    "<b>Recall</b>, for the case of $x$ moving cells in advected, we have $\\alpha = \\alpha_j$, thus $\\beta^{(i,j)}_p = \\beta^{,j}_p$ for all $i$ and we save $N_x$ computations by constancy in $i$ at each $j$ (as well as storage). For every $j$ ($v_j$), we can find the associated $N$ correctors $\\{\\beta^{,j}\\}$ that corresponds to all $x_i$ at that velocity as the solution to:\n",
    "\n",
    "$$\\left(\\begin{array}{c}\n",
    "\\beta^{,j}_0 \\\\\n",
    "\\beta^{,j}_1 \\\\\n",
    "\\beta^{,j}_2 \\\\\n",
    "\\beta^{,j}_3 \\\\\n",
    "\\vdots \\\\\n",
    "\\vdots \\\\\n",
    "\\beta^{,j}_{N-3} \\\\\n",
    "\\beta^{,j}_{N-2} \\\\\n",
    "\\beta^{,j}_{N-1} \n",
    "\\end{array}\\right)_{N\\times 1} = \\left(\\begin{array}{ccc c ccc}\n",
    "\\phantom{\\pm}\\frac{B_0}{0!} & \\phantom{\\pm}0 & \\cdots & \\cdots & \\cdots & \\cdots & \\cdots & \\cdots & 0\\\\\n",
    "\\pm \\frac{B_1}{1!} & \\phantom{\\pm}\\frac{B_0}{0!} & 0 & \\cdots & \\cdots & \\cdots & \\cdots & \\cdots & 0 \\\\\n",
    "\\phantom{\\pm}\\frac{B_2}{2!} & \\pm \\frac{B_1}{1!} & \\phantom{\\pm}\\frac{B_0}{0!} & 0 & \\cdots &  \\cdots & \\cdots &  \\cdots & 0 \\\\\n",
    " \\phantom{\\pm}\\frac{B_3}{3!}& \\phantom{\\pm}\\frac{B_2}{2!} & \\pm \\frac{B_1}{1!} & \\frac{B_0}{0!} & 0 &  \\cdots & \\cdots  &  \\cdots &0 \\\\\n",
    "\\phantom{\\pm}\\vdots & \\phantom{\\pm}\\vdots & \\ddots & \\ddots & \\ddots & \\ddots &  & & 0\\\\\n",
    "\\phantom{\\pm}\\vdots & \\phantom{\\pm}\\vdots &  & \\ddots & \\ddots & \\ddots & \\ddots & & 0 \\\\\n",
    "\\phantom{\\pm}\\frac{B_{N-3}}{(N-3)!} & \\phantom{\\pm}\\frac{B_{N-4}}{(N-4)!} & \\cdots & \\cdots & \\ddots & \\pm \\frac{B_1}{1!} & \\phantom{\\pm}\\frac{B_0}{0!} & 0 & 0\\\\\n",
    "\\phantom{\\pm}\\frac{B_{N-2}}{(N-2)!} & \\phantom{\\pm}\\frac{B_{N-3}}{(N-3)!} & \\cdots  & \\cdots & \\cdots & \\phantom{\\pm}\\frac{B_2}{2!} & \\pm \\frac{B_1}{1!} & \\frac{B_0}{0!} & 0\\\\\n",
    "\\phantom{\\pm}\\frac{B_{N-1}}{(N-1)!} & \\phantom{\\pm}\\frac{B_{N-2}}{(N-2)!} & \\cdots & \\cdots & \\cdots & \\phantom{\\pm}\\frac{B_3}{3!} & \\phantom{\\pm}\\frac{B_2}{2!} & \\pm \\frac{B_1}{1!} & \\frac{B_0}{0!}\\\\\n",
    "\\end{array}\\right)_{N\\times N} \\left(\\begin{array}{c}\n",
    "\\frac{\\alpha_{,j}^1}{1!} \\\\\n",
    "\\frac{\\alpha_{,j}^2}{2!} \\\\\n",
    "\\frac{\\alpha_{,j}^3}{3!}\\\\\n",
    "\\vdots \\\\\n",
    "\\vdots \\\\\n",
    "\\frac{\\alpha_{,j}^{N-2}}{(N-2)!}\\\\\n",
    "\\frac{\\alpha_{,j}^{N-1}}{(N-1)!} \\\\\n",
    "\\frac{\\alpha_{,j}^N}{N!}\n",
    "\\end{array}\n",
    "\\right)_{N\\times 1}, \\qquad \\text{x advection} \\qquad \\text{for all } j\\in [0,1,\\ldots , N_v - 1]$$\n"
   ]
  },
  {
   "cell_type": "markdown",
   "metadata": {},
   "source": [
    "For $v$-advection, we have $\\alpha = \\alpha (x_i)$ (correspondingly $\\beta = \\beta (x_i)$), so the according changeovers required are $\\alpha_{,j} \\rightarrow \\alpha_i$, where the entries are constant for each column entry in a given row (before we had each row being constant for each column). There is not a way to get around a transpose, either we commute the dot product ordering so that in the v-advection case we have $\\underline{\\underline{\\tilde{\\alpha}}}_v\\cdot \\underline{\\underline{A}}^T = \\underline{\\underline{B}}_v$, or we transpose the alpha matrix $\\underline{\\underline{\\alpha}}_v$."
   ]
  },
  {
   "cell_type": "markdown",
   "metadata": {},
   "source": [
    "A test of the transpose operation from numpy shows the following sort of time expense"
   ]
  },
  {
   "cell_type": "code",
   "execution_count": 1,
   "metadata": {
    "collapsed": true
   },
   "outputs": [],
   "source": [
    "import numpy as np\n",
    "A = np.random.randn(768, 1536)"
   ]
  },
  {
   "cell_type": "code",
   "execution_count": 2,
   "metadata": {
    "collapsed": false
   },
   "outputs": [
    {
     "name": "stdout",
     "output_type": "stream",
     "text": [
      "The slowest run took 30.03 times longer than the fastest. This could mean that an intermediate result is being cached \n",
      "1000000 loops, best of 3: 397 ns per loop\n"
     ]
    }
   ],
   "source": [
    "%%timeit\n",
    "\n",
    "np.transpose(A)"
   ]
  },
  {
   "cell_type": "markdown",
   "metadata": {},
   "source": [
    "So even for large grids, this operation is not of substantial cost."
   ]
  },
  {
   "cell_type": "markdown",
   "metadata": {},
   "source": [
    "To visualize the transposition, first recall the $\\alpha$ tensor for $v$-advection takes the form:\n",
    "\n",
    "$$\\underline{\\underline{\\alpha}}_v = (\\alpha_i)_v = \\left(\\begin{array}{ccccc}\n",
    "\\alpha_{0} & \\alpha_{0} & \\cdots & \\alpha_{0} & \\alpha_{0} \\\\\n",
    "\\alpha_{1} & \\alpha_{1} & \\cdots & \\alpha_{1} & \\alpha_{1} \\\\\n",
    "\\vdots & \\vdots && \\vdots & \\vdots \\\\\n",
    "\\alpha_{N_x-2} & \\alpha_{N_x-2} & \\cdots & \\alpha_{N_x-2} & \\alpha_{N_x-2} \\\\\n",
    "\\alpha_{N_x-1} & \\alpha_{N_x-1} & \\cdots & \\alpha_{N_x-1} & \\alpha_{N_x-1} \\\\\n",
    "\\end{array}\n",
    "\\right)_{N_x\\times N_v} \\qquad \\text{for } v \\text{ advection}$$\n",
    "\n",
    "The transpose ($\\underline{\\underline{\\alpha}}^T = (\\alpha^T_v)_{i,j} = (\\alpha_v)_{j,i}$) we recover a similar looking result to the case of $x$-advection, where we \n",
    "drop the signature $v$ for brevity in notation, "
   ]
  },
  {
   "cell_type": "markdown",
   "metadata": {},
   "source": [
    "$$\\underline{\\underline{\\alpha}}^T = (\\alpha_{,j}^T) = \\left(\\begin{array}{ccccc}\n",
    "\\alpha_{,0} & \\alpha_{,1} & \\cdots & \\alpha_{,N_x- 2} & \\alpha_{,N_x-1} \\\\\n",
    "\\alpha_{,0} & \\alpha_{,1} & \\cdots & \\alpha_{,N_x- 2} & \\alpha_{,N_x-1} \\\\\n",
    "\\vdots & \\vdots & & \\vdots & \\vdots \\\\\n",
    "\\alpha_{,0} & \\alpha_{,1} & \\cdots & \\alpha_{,N_x- 2} & \\alpha_{,N_x-1} \\\\\n",
    "\\alpha_{,0} & \\alpha_{,1} & \\cdots & \\alpha_{,N_x- 2} & \\alpha_{,N_x-1} \\\\\n",
    "\\end{array}\n",
    "\\right)_{N_v \\times N_x} \\qquad \\text{for } v \\text{ advection}$$"
   ]
  },
  {
   "cell_type": "markdown",
   "metadata": {},
   "source": [
    "Thus, each $\\alpha_i$ which is constant in each row is transferred to being constant in each column $j$ and represented as $\\alpha^T_{,j}$ just as for x-advection.\n",
    "\n",
    "$$\\left(\\begin{array}{c}\n",
    "\\beta^{i}_0 \\\\\n",
    "\\beta^{i}_1 \\\\\n",
    "\\beta^{i}_2 \\\\\n",
    "\\beta^{i}_3 \\\\\n",
    "\\vdots \\\\\n",
    "\\vdots \\\\\n",
    "\\beta^{i}_{N-3} \\\\\n",
    "\\beta^{i}_{N-2} \\\\\n",
    "\\beta^{i}_{N-1} \n",
    "\\end{array}\\right)_{N\\times 1} = \\left(\\begin{array}{ccc c ccc}\n",
    "\\phantom{\\pm}\\frac{B_0}{0!} & \\phantom{\\pm}0 & \\cdots & \\cdots & \\cdots & \\cdots & \\cdots & \\cdots & 0\\\\\n",
    "\\pm \\frac{B_1}{1!} & \\phantom{\\pm}\\frac{B_0}{0!} & 0 & \\cdots & \\cdots & \\cdots & \\cdots & \\cdots & 0 \\\\\n",
    "\\phantom{\\pm}\\frac{B_2}{2!} & \\pm \\frac{B_1}{1!} & \\phantom{\\pm}\\frac{B_0}{0!} & 0 & \\cdots &  \\cdots & \\cdots &  \\cdots & 0 \\\\\n",
    " \\phantom{\\pm}\\frac{B_3}{3!}& \\phantom{\\pm}\\frac{B_2}{2!} & \\pm \\frac{B_1}{1!} & \\frac{B_0}{0!} & 0 &  \\cdots & \\cdots  &  \\cdots &0 \\\\\n",
    "\\phantom{\\pm}\\vdots & \\phantom{\\pm}\\vdots & \\ddots & \\ddots & \\ddots & \\ddots &  & & 0\\\\\n",
    "\\phantom{\\pm}\\vdots & \\phantom{\\pm}\\vdots &  & \\ddots & \\ddots & \\ddots & \\ddots & & 0 \\\\\n",
    "\\phantom{\\pm}\\frac{B_{N-3}}{(N-3)!} & \\phantom{\\pm}\\frac{B_{N-4}}{(N-4)!} & \\cdots & \\cdots & \\ddots & \\pm \\frac{B_1}{1!} & \\phantom{\\pm}\\frac{B_0}{0!} & 0 & 0\\\\\n",
    "\\phantom{\\pm}\\frac{B_{N-2}}{(N-2)!} & \\phantom{\\pm}\\frac{B_{N-3}}{(N-3)!} & \\cdots  & \\cdots & \\cdots & \\phantom{\\pm}\\frac{B_2}{2!} & \\pm \\frac{B_1}{1!} & \\frac{B_0}{0!} & 0\\\\\n",
    "\\phantom{\\pm}\\frac{B_{N-1}}{(N-1)!} & \\phantom{\\pm}\\frac{B_{N-2}}{(N-2)!} & \\cdots & \\cdots & \\cdots & \\phantom{\\pm}\\frac{B_3}{3!} & \\phantom{\\pm}\\frac{B_2}{2!} & \\pm \\frac{B_1}{1!} & \\frac{B_0}{0!}\\\\\n",
    "\\end{array}\\right)_{N\\times N} \\left(\\begin{array}{c}\n",
    "\\frac{(\\alpha^T_{,j})^1}{1!} \\\\\n",
    "\\frac{(\\alpha^T_{,j})^2}{2!} \\\\\n",
    "\\frac{(\\alpha^T_{,j})^3}{3!}\\\\\n",
    "\\vdots \\\\\n",
    "\\vdots \\\\\n",
    "\\frac{(\\alpha^T_{,j})^{N-2}}{(N-2)!}\\\\\n",
    "\\frac{(\\alpha^T_{,j})^{N-1}}{(N-1)!} \\\\\n",
    "\\frac{(\\alpha^T_{,j})^N}{N!}\n",
    "\\end{array}\n",
    "\\right)_{N\\times 1}, \\qquad \\text{v advection} \\qquad \\text{for all } i\\in [0,1,\\ldots , N_x - 1]$$"
   ]
  },
  {
   "cell_type": "markdown",
   "metadata": {},
   "source": [
    "This reproduces the model used in $x$-advection, so we can then assemble the $\\tilde{\\alpha}$ tensor as"
   ]
  },
  {
   "cell_type": "markdown",
   "metadata": {},
   "source": [
    "To compute the scaled vector $\\underline{\\tilde{\\alpha}}_{i} = (\\underline{\\tilde{\\alpha}}_{i})_{N\\times 1}$, we use numpy vectorized computations:\n",
    "\n",
    "    import scipy\n",
    "    import numpy as np\n",
    "    \n",
    "    alpha_tilde_i = CFL.frac[:,0] ** np.arange(1,N+1) / scipy.misc.factorial(np.arange(1,N+1))\n",
    "    \n",
    "<b>we can take any j = 0, 1, ..., vx.N as every row has constant CFL.frac $\\equiv \\alpha$. Hence all rows are identical</b> (cf. above matrix for $\\underline{\\underline{\\alpha}}$), here arbitrarily take i = 0. In pseudo-math/code, we are computing:\n",
    "\n",
    "$$(\\underline{\\tilde{\\alpha}_{i}})_{N\\times 1} = \\frac{\\alpha_j^{(1, 2, \\ldots , N)}}{(1, 2, \\ldots , N)!}, \\qquad i\\in [0,1,\\ldots , N_x - 1]$$\n",
    "\n",
    "Which computes by efficient vectorized computation, the following in proper mathematics:\n",
    "\n",
    "$$\\tilde{\\alpha}_{i} = \\frac{\\alpha_i^p}{p!} \\quad \\text{where } p\\in [1,2,\\ldots , N]$$\n",
    "\n",
    "for some $i$. We can do this for all i, then transpose. Alternatively, we can be do this as before with the whole tensor $\\underline{\\underline{\\alpha}}$. We can decide now that we will take a transpose at this point.\n",
    "\n",
    "    alpha = np.transpose(alpha)    # alpha.shape = (v.N, x.N) now \n",
    "    \n",
    "i.e.\n",
    "\n",
    "$$\\underline{\\underline{\\alpha}} \\rightarrow \\underline{\\underline{\\alpha}}^T$$\n",
    "\n",
    "where we reuse the same label in the code without mention of it being a transpose, this is normal practice.\n",
    "\n",
    "We then slice indices 0, 1, 2, ..., N - 1, in the x-advection development this was labelled with a hat diacritic:\n",
    "\n",
    "$$\\underline{\\underline{\\hat{\\alpha}}}^T = \\underline{\\underline{\\alpha}}^T_{N\\times N_x} = \\text{alpha[:N,:]}$$\n",
    "\n",
    "this is permissible since there is no loss of information: every row of the transpose is identical. Note, what we need is to raise each row by a power p and divide by the factorial of that same p, where p is the row number for the transpose (same as for x-advection).\n",
    "\n",
    "We generate the index matrix $\\underline{\\underline{N}}$ using the ndarray $\\underline{N}_{N\\times 1} = (1, \\ldots , N)^T$. Here we have $N_x$ columns, hence we assemble:\n",
    "\n",
    "$$\\underline{\\underline{N}}_{N\\times N_x} =  \\underline{N}_{N\\times 1} \\otimes \\underline{1}_{1\\times N_x} = \\left(\\begin{array}{ccccc}\n",
    "1 & 1 & \\cdots & 1 & 1 \\\\\n",
    "2 & 2 & \\cdots & 2 & 2 \\\\\n",
    "\\vdots & \\vdots & & \\vdots & \\vdots \\\\\n",
    "N-1 & N-1 & \\cdots & N-1 & N-1 \\\\\n",
    "N & N & \\cdots & N & N \\\\\n",
    "\\end{array}\n",
    "\\right)_{N\\times N_x}$$\n",
    "\n",
    "\n",
    "\n",
    "\n",
    "\n",
    "    "
   ]
  },
  {
   "cell_type": "markdown",
   "metadata": {},
   "source": [
    "We then also define just as before:\n",
    "\n",
    "$$(\\underline{\\underline{N}}!)_{N\\times N_x} = \\left(\\begin{array}{ccccc}\n",
    "1! & 1! & \\cdots & 1! & 1! \\\\\n",
    "2! & 2! & \\cdots & 2! & 2! \\\\\n",
    "\\vdots & \\vdots & & \\vdots & \\vdots \\\\\n",
    "(N-1)! & (N-1)! & \\cdots & (N-1)! & (N-1)! \\\\\n",
    "N! & N! & \\cdots & N! & N! \\\\\n",
    "\\end{array}\n",
    "\\right)$$"
   ]
  },
  {
   "cell_type": "markdown",
   "metadata": {},
   "source": [
    "So that the overall matrix $\\underline{\\underline{\\tilde{\\alpha}}}_v^T$ can be generated as before:\n",
    "\n",
    "$$\\underline{\\underline{\\tilde{\\alpha}}}_v^T = \\frac{(\\underline{\\underline{\\hat{\\alpha}}}^T)^{\\underline{\\underline{N}}}}{\\underline{\\underline{N}}!}, \\qquad \\qquad \\text{where } \\underline{\\underline{\\hat{\\alpha}}} = \\underline{\\underline{\\alpha}}_{N\\times N_v} = (\\alpha_{i,j})_{i\\in [0,1,\\ldots N-1], j\\in [0,1,\\ldots , N_v-1]}$$\n"
   ]
  },
  {
   "cell_type": "markdown",
   "metadata": {},
   "source": [
    "Again, the masked implementation will be the most efficient."
   ]
  },
  {
   "cell_type": "markdown",
   "metadata": {},
   "source": [
    "### Masked array computation of $\\underline{\\underline{B}}_v = (\\underline{\\beta}^{i})_{i=0}^{N_x-1}$, for $\\underline{\\beta} = \\underline{\\beta}_{N\\times 1}$"
   ]
  },
  {
   "cell_type": "markdown",
   "metadata": {},
   "source": [
    "$$\\underline{\\underline{B}}_{v,\\text{positive columns}} \\equiv \\underline{\\underline{B}}^+_v = \\underline{\\underline{A}}^+\\cdot \\underline{\\underline{\\tilde{\\alpha}}}^T_{\\text{masked}}$$\n",
    "\n",
    "$$\\underline{\\underline{B}}_{v,\\text{negative columns}}\\equiv \\underline{\\underline{B}}^-_v = \\underline{\\underline{A}}^-\\cdot \\underline{\\underline{\\tilde{\\alpha}}}^T_{(\\neg\\text{masked})}$$\n",
    "\n",
    "where \n",
    "\n",
    "$$\\underline{\\underline{\\tilde{\\alpha}}}^T_{\\text{masked}} = (\\alpha_{i,j}) \\, \\colon \\, \\alpha_{i,j} \\geq 0$$\n",
    "\n",
    "$$\\underline{\\underline{\\tilde{\\alpha}}}^T_{\\neg\\text{masked}} = (\\alpha_{i,j}) \\, \\colon \\, \\alpha_{i,j} < 0$$\n",
    "\n",
    "and"
   ]
  },
  {
   "cell_type": "markdown",
   "metadata": {},
   "source": [
    "$$\n",
    "\\underline{\\underline{B}}_v = (B_{ij})_v = \\left\\{\\begin{array}{ll}\n",
    "            (B_v)^+_{ij} & \\quad \\alpha_{ij} \\geq 0 \\\\\n",
    "            & \\\\\n",
    "            (B_v)^-_{ij} & \\quad \\text{else}\n",
    "        \\end{array}\n",
    "    \\right.\n",
    "$$\n",
    "\n",
    "\n",
    "where we have just computed:\n",
    "\n",
    "\n",
    "$$\\underline{\\underline{B}}_v = \\left[(\\underline{\\beta}_0)_{N\\times 1}, \\phantom{a} (\\underline{\\beta}_1)_{N\\times 1}, \\phantom{a} \\ldots \\phantom{a} , \\phantom{a} (\\underline{\\beta}_{N_x-1})_{N\\times 1}\\right]_{N\\times N_x}$$\n",
    "\n",
    "It then follows just as before that since $c_q = (-1)^q\\beta_q(\\alpha )$, we have:\n",
    "\n",
    "\n",
    "$$\\underline{\\underline{I}}^{\\pm}_{N\\times N}\\cdot\\underline{\\underline{B}}_v  = \\left(\\begin{array}{cccccccc}\n",
    "(-1)^0 & 0 & \\cdots & \\cdots & \\cdots & \\cdots  & 0 \\\\\n",
    "0 & (-1)^1 & 0  & \\cdots & \\cdots & \\cdots & 0 \\\\\n",
    "\\vdots & 0 & (-1)^2 & 0 & \\cdots & \\cdots &  0 \\\\\n",
    "\\vdots & \\vdots & 0 & (-1)^3 & 0 & \\cdots &  0 \\\\\n",
    "\\vdots & \\vdots & \\vdots & \\ddots & \\ddots & \\ddots & \\vdots \\\\\n",
    "\\vdots & \\vdots & \\vdots & \\vdots & 0 & (-1)^{N-2} & 0\\\\\n",
    "\\vdots & \\vdots & \\vdots & \\vdots & \\vdots & 0 & (-1)^{N-1}\\\\\n",
    "\\end{array}\\right)\\cdot\\left(\\begin{array}{cccccccc}\n",
    "\\beta_0^{,0} & \\beta_0^{,1} & \\cdots & \\cdots & \\cdots & \\beta_0^{,N_v-2}  & \\beta_0^{,N_v-1} \\\\\n",
    "\\beta_1^{,0} & \\beta_1^{,1} & \\cdots & \\cdots & \\cdots & \\beta_1^{,N_v-2} & \\beta_1^{,N_v-1} \\\\\n",
    "\\beta_2^{,0} & \\beta_2^{,1} & \\cdots & \\cdots & \\cdots & \\beta_2^{,N_v-2} &  \\beta_2^{,N_v-1} \\\\\n",
    "\\vdots  & \\vdots & &  &  & \\vdots & \\vdots \\\\\n",
    "\\vdots & \\vdots & &  &  & \\vdots & \\vdots \\\\\n",
    "\\beta_{N-2}^{,0} & \\beta_{N-2}^{,1} & \\cdots & \\cdots & \\cdots & \\beta_{N-2}^{,N_v-2} & \\beta_{N-2}^{,N_v -1}\\\\\n",
    "\\beta_{N-1}^{,0} & \\beta_{N-1}^{,1} & \\cdots & \\cdots & \\cdots & \\beta_{N-1}^{,N_v-2} & \\beta_{N-1}^{,N_v-1} \\\\\n",
    "\\end{array}\\right) =  \\left(\\begin{array}{cccccccc}\n",
    "(-1)^0\\beta_0^{,0} & (-1)^0\\beta_0^{,1} & \\cdots & \\cdots & \\cdots & (-1)^0\\beta_0^{,N_v-2}  & (-1)^0\\beta_0^{,N_v-1} \\\\\n",
    "(-1)^1\\beta_1^{,0} & (-1)^1\\beta_1^{,1} & \\cdots & \\cdots & \\cdots & (-1)^1\\beta_1^{,N_v-2} & (-1)^1\\beta_1^{,N_v-1} \\\\\n",
    "(-1)^2\\beta_2^{,0} & (-1)^2\\beta_2^{,1} & \\cdots & \\cdots & \\cdots & (-1)^2\\beta_2^{,N_v-2} & (-1)^2\\beta_2^{,N_v-1} \\\\\n",
    "\\vdots  & \\vdots & &  &  & \\vdots & \\vdots \\\\\n",
    "\\vdots & \\vdots & &  &  & \\vdots & \\vdots \\\\\n",
    "(-1)^{N-2}\\beta_{N-2}^{,0} & (-1)^{N-2}\\beta_{N-2}^{,1} & \\cdots & \\cdots & \\cdots & (-1)^{N-2}\\beta_{N-2}^{,N_v-2} & (-1)^{N-2}\\beta_{N-2}^{,N_v -1}\\\\\n",
    "(-1)^{N-1}\\beta_{N-1}^{,0} & (-1)^{N-1}\\beta_{N-1}^{,1} & \\cdots & \\cdots & \\cdots & (-1)^{N-1}\\beta_{N-1}^{,N_v-2} & (-1)^{N-1}\\beta_{N-1}^{,N_v-1} \\\\\n",
    "\\end{array}\\right)_{N\\times N_x} = \\underline{\\underline{c}}_v\n",
    "$$"
   ]
  },
  {
   "cell_type": "markdown",
   "metadata": {
    "collapsed": true
   },
   "source": [
    "## Summary of $\\underline{\\underline{c}}$ calculations\n",
    "\n",
    "Thus, we have\n",
    "\n",
    "#### x-advection:\n",
    "\n",
    "$$\\underline{\\underline{c}}_x = \\underline{\\underline{I}}_{N\\times N}^{\\pm}\\cdot \\underline{\\underline{B}}_x$$\n",
    "\n",
    "where\n",
    "<table style = \"width:75%\"><tr><td>\n",
    "$$\n",
    "\\underline{\\underline{B}}_x = (B_{ij})_x = \\left\\{\\begin{array}{ll}\n",
    "            \\left(\\underline{\\underline{A}}^+\\cdot \\underline{\\underline{\\tilde{\\alpha_x}}}\\right)_{ij} & \\quad (\\alpha_x)_{ij} \\geq 0 \\\\\n",
    "            & \\\\\n",
    "            \\left(\\underline{\\underline{A}}^-\\cdot \\underline{\\underline{\\tilde{\\alpha_x}}}\\right)_{ij} & \\quad \\text{else}\n",
    "        \\end{array}\n",
    "    \\right.\n",
    "$$\n",
    "\n",
    "$$\\underline{\\underline{\\tilde{\\alpha}}}_x = \\frac{(\\underline{\\underline{\\hat{\\alpha_x}}})^{\\underline{\\underline{N}}}}{\\underline{\\underline{N}}!}, \\qquad \\qquad \\text{where } \\underline{\\underline{\\hat{\\alpha}}} = \\underline{\\underline{\\alpha_x}}_{N\\times N_v} = (\\alpha_{i,j})_{i\\in [0,1,\\ldots N-1], j\\in [0,1,\\ldots , N_v-1]}$$\n",
    "</td></tr></table>\n",
    "\n",
    "#### v-advection:\n",
    "\n",
    "$$\\underline{\\underline{c}}_v = \\underline{\\underline{I}}_{N\\times N}^{\\pm}\\cdot \\underline{\\underline{B}}_v$$\n",
    "\n",
    "<table style = \"width:75%\">\n",
    "<tr><td>\n",
    "$$\n",
    "\\underline{\\underline{B}}_v = (B_{ij})_v = \\left\\{\\begin{array}{ll}\n",
    "            \\left(\\underline{\\underline{A}}^+\\cdot \\underline{\\underline{\\tilde{\\alpha_v}}}^T\\right)_{ij} & \\quad (\\alpha^T_v)_{ij} \\geq 0 \\\\\n",
    "            & \\\\\n",
    "            \\left(\\underline{\\underline{A}}^-\\cdot \\underline{\\underline{\\tilde{\\alpha_v}}}^T\\right)_{ij} & \\quad \\text{else}\n",
    "        \\end{array}\n",
    "    \\right.\n",
    "$$\n",
    "\n",
    "$$\\underline{\\underline{\\tilde{\\alpha}}}_v^T = \\frac{(\\underline{\\underline{\\hat{\\alpha}}}^T)^{\\underline{\\underline{N}}}}{\\underline{\\underline{N}}!}, \\qquad \\qquad \\text{where } \\underline{\\underline{\\hat{\\alpha}}} = \\underline{\\underline{\\alpha}}_{N\\times N_v} = (\\alpha_{i,j})_{i\\in [0,1,\\ldots N-1], j\\in [0,1,\\ldots , N_v-1]}$$\n",
    "</td></tr></table>\n",
    "\n",
    "#### Common matrices\n",
    "\n",
    "$$\\underline{\\underline{I}}^{\\pm}_{N\\times N} = \\left(\\begin{array}{cccccccc}\n",
    "1 & 0 & \\cdots & \\cdots & \\cdots & \\cdots  & 0 \\\\\n",
    "0 & -1 & 0  & \\cdots & \\cdots & \\cdots & 0 \\\\\n",
    "\\vdots & 0 & 1 & 0 & \\cdots & \\cdots &  0 \\\\\n",
    "\\vdots & \\vdots & 0 & -1 & 0 & \\cdots &  0 \\\\\n",
    "\\vdots & \\vdots & \\vdots & \\ddots & \\ddots & \\ddots & \\vdots \\\\\n",
    "\\vdots & \\vdots & \\vdots & \\vdots & 0 & (-1)^{N-2} & 0\\\\\n",
    "\\vdots & \\vdots & \\vdots & \\vdots & \\vdots & 0 & (-1)^{N-1}\\\\\n",
    "\\end{array}\\right)$$\n",
    "\n",
    "$$\\underline{N}_{N\\times 1} = (1, 2, \\ldots , N)^T, \\qquad \\text{N.B. not }(0,N-1]$$ \n",
    "\n",
    "$$\\underline{\\underline{N}}_{N\\times N_x} =  \\underline{N}_{N\\times 1} \\otimes \\underline{1}_{1\\times N_x} = \\left(\\begin{array}{ccccc}\n",
    "1 & 1 & \\cdots & 1 & 1 \\\\\n",
    "2 & 2 & \\cdots & 2 & 2 \\\\\n",
    "\\vdots & \\vdots & & \\vdots & \\vdots \\\\\n",
    "N-1 & N-1 & \\cdots & N-1 & N-1 \\\\\n",
    "N & N & \\cdots & N & N \\\\\n",
    "\\end{array}\n",
    "\\right)_{N\\times N_x}$$\n"
   ]
  },
  {
   "cell_type": "markdown",
   "metadata": {},
   "source": [
    "Whether or not we should transpose this back to be of shape (x.N, vx.N) will be determined by the natural shape that d takes given the implementation, we examine this below."
   ]
  },
  {
   "cell_type": "markdown",
   "metadata": {},
   "source": [
    "## Assembling $\\underline{\\underline{d}}_{N\\times N_x\\times N_v}$ for $v$-advection"
   ]
  },
  {
   "cell_type": "markdown",
   "metadata": {},
   "source": [
    "### Spectral derivatives\n",
    "\n",
    "Formerly, we had the function:"
   ]
  },
  {
   "cell_type": "markdown",
   "metadata": {},
   "source": [
    "### <font color = \"magenta\">lib.derivatives.fourier</font> (general)"
   ]
  },
  {
   "cell_type": "code",
   "execution_count": null,
   "metadata": {
    "collapsed": true
   },
   "outputs": [],
   "source": [
    "def fourier(f_old, z, vz, sim_params):\n",
    "    \"\"\"Orchestrates the computation of sim_params['N'] - 1 fourier\n",
    "    derivatives and stores these in a matrix of derivative\n",
    "    coefficients d. The zeroeth entry contains the zereoth\n",
    "    derivative, i.e. the density itself\n",
    "\n",
    "    inputs:\n",
    "    f_old -- (ndarray, ndim=2) density from previous time substep\n",
    "    z -- (instance) phase space variable being advected, here\n",
    "         we are taking d/dz\n",
    "\n",
    "    vz -- (instance) generalized velocity for z\n",
    "    sim_params -- (dict) simulation parameters dictionary\n",
    "\n",
    "    outputs:\n",
    "    d -- (ndarray, ndim=3), shape = (N, x.N, v.N), the\n",
    "         entry d[q,i,j] gives the qth derivative coefficient\n",
    "         at a point [i,j]\n",
    "    \"\"\"\n",
    "    d = np.zeros([sim_params['N'], z.N, vz.N])\n",
    "\n",
    "    # zeroeth derivative coefficient is the density itself\n",
    "    d[0,:,:] = f_old\n",
    "\n",
    "    # if corrections indicated in etc/params.dat, need higher order terms\n",
    "    if sim_params['N'] > 1:\n",
    "        d[1:,:,:] = trigonometric3D(f_old, z, sim_params)\n",
    "\n",
    "    return d"
   ]
  },
  {
   "cell_type": "markdown",
   "metadata": {},
   "source": [
    "The initialization:\n",
    "\n",
    "    d = np.zeros([sim_params['N'], z.N, vz.N])\n",
    "\n",
    "creates a tensor d.shape = (N, x.N, vx.N) for x-advection (z = x, vz = vx), and for v-advection (z = vx, vz = ax, note ax.N = x.N) it creates a tensor of shape d.shape = (N, vx.N, x.N)\n",
    "\n",
    "The next line presents a potential conflict:\n",
    "\n",
    "    d[0,:,:] = f_old\n",
    "    \n",
    "if f_old has not been transposed, then we have dimensions not aligned given for v-advection, f_old.shape = (x.N, vx.N),k and d[0,:,:].shape = (vx.N, x.N) from the above. <b>if the passed density f_old has the transposed shape, we have no consequence here.</b>\n",
    "\n",
    "i.e. if early on, in lib.convect.scheme, we modify it to have the transposition.\n",
    "\n",
    "there is some inconsistency either way, either we transpose f_old early on (and also transpose z.prepointmesh, z.postpointmesh), or we make a special function for v advection and change the one line above so that\n",
    "\n",
    "    d = np.zeros([sim_params['N'], vz.N, z.N])\n",
    "    \n",
    "Then the above statement d[0,:,:] = f_old is consistent, but then transforming along the axes in trigonometric3D below is reversed for v-advection. This is necessarily becoming entangled, we provide the x-advection function below for reference, but start from the ground up thereafter to develop the appropriate object handling:"
   ]
  },
  {
   "cell_type": "markdown",
   "metadata": {},
   "source": [
    "### <font color = \"magenta\">lib.derivatives.trigonometric3D</font> (x advection)"
   ]
  },
  {
   "cell_type": "code",
   "execution_count": null,
   "metadata": {
    "collapsed": true
   },
   "outputs": [],
   "source": [
    "def trigonometric3D(f, z, sim_params):\n",
    "    \"\"\"Computes derivatives of density for derivative coeffs d in FN methods\n",
    "\n",
    "    inputs:\n",
    "    f -- (ndarray, ndim=2) density at a given time step\n",
    "    sim_params['Xi']['x' or 'vx'] -- (ndarray, ndim=3) Xi = (1j*dz*xi) ** [[[1,2,3,...,N-1]]], where xi.shape (x.N, v.N)\n",
    "          is assembled in sim_params in lib.read as np.outer(dz * xi, np.ones((1,v.N))).\n",
    "\n",
    "    outputs:\n",
    "    d -- (ndarray, ndim=3) d[q,i,j], gives the qth derivative for each point (i,j)\n",
    "          for q >= 1, the zeroeth derivative d[0,:,:] = f_old is assigned prior to this function call\n",
    "          i.e. the assignment is for d[1:, :, :] below, d[1:,:,:].shape = (N-1, x.N, v.N)\n",
    "    \"\"\"\n",
    "\n",
    "    # need to specify the axis in numpy v1.11.0.dev0+fe64f97, has opposite default axis\n",
    "    # as prior versions!\n",
    "    Ff = np.fft.fft(f, axis = 0) # or for v-advection if rows are maintained can toggle axis = 1\n",
    "\n",
    "    D = sim_params['Xi'][z.str] * Ff\n",
    "\n",
    "    d = np.real(np.fft.ifft(D, axis = 1)) # or for v-advection if rows are maintained can toggle axis = 2 here\n",
    "    return d"
   ]
  },
  {
   "cell_type": "markdown",
   "metadata": {},
   "source": [
    "### <font color = \"green\">DECSKS-v2.0 lib.derivative.trigometric3D_v</font> (new function)"
   ]
  },
  {
   "cell_type": "markdown",
   "metadata": {},
   "source": [
    "Let's prepare for column-wise differentation (for every row) on an object f with shape (x.N, vx.N).\n",
    "\n",
    "We require the wave numbes as numerous as the number of physical velocity gridpoints, $N_v$, i.e.\n",
    "\n",
    "$$\\underline{\\xi} = (\\xi_0, \\xi_1, \\ldots , \\xi_{N_v-1})_{N_v\\times 1}$$\n",
    "\n",
    "Every row is identical, hence we compute the outer product\n",
    "\n",
    "$$\\underline{\\underline{\\xi}} = \\underline{1}_{N_x\\times 1} \\otimes \\underline{\\xi}_{N_v\\times 1} = \\left( \\begin{array}{ccc}\n",
    "\\xi_0 & \\xi_1 & \\xi_{N_v-1} \\\\\n",
    "\\xi_0 & \\xi_1 & \\xi_{N_v-1} \\\\\n",
    "\\vdots & \\vdots & \\vdots \\\\\n",
    "\\xi_0 & \\xi_1 & \\xi_{N_v-1}  \\end{array} \\right)_{N_x\\times N_v}$$\n",
    "\n",
    "To compute the derivative, we can assemble the object $\\underline{\\underline{\\Xi}}_{N\\times N_x\\times N_v} = (\\Xi_{nm\\ell}) = (j\\Delta v \\xi_{\\forall m, \\ell})^{(n)}$ for $n\\in [0,N), m\\in [0, N_x), \\ell\\in [0, N_v)$, where $n,m, \\ell \\in \\mathbb{N}$. Note, the subscript notation $\\forall m, \\ell$ means the entries $\\Xi_{nm\\ell}$ are different for each $\\ell$, and all rows $m$ are identical for that given $n$. "
   ]
  },
  {
   "cell_type": "markdown",
   "metadata": {},
   "source": [
    "$$\\underline{\\underline{\\Xi}} = (\\Xi_{n,m,\\ell}) = (j\\Delta v\\xi_{\\forall m,\\ell})^{n}\\left\\{\\left( \\begin{array}{ccc}\n",
    "1 & 1 & 1 \\\\\n",
    "1 & 1 & 1 \\\\\n",
    "\\vdots & \\vdots & \\vdots \\\\\n",
    "1 & 1 & 1 \\end{array} \\right)_{n = 0, N_x\\times N_v}\n",
    "\\\\ \n",
    "\\left( \\begin{array}{ccc}\\\n",
    "(j\\Delta v\\xi_0)^1 & (j\\Delta v\\xi_1)^1 & (j\\Delta v\\xi_{N_v-1})^1 \\\\\n",
    "(j\\Delta v\\xi_0)^1 & (j\\Delta v\\xi_1)^1 & (j\\Delta v\\xi_{N_v-1})^1 \\\\\n",
    "\\vdots & \\vdots & \\vdots \\\\\n",
    "(j\\Delta v\\xi_0)^1 & (j\\Delta v\\xi_1)^1 & (j\\Delta v\\xi_{N_v-1})^1 \\end{array} \\right)_{n = 1, N_x\\times N_v}\n",
    "\\\\ \n",
    "\\left( \\begin{array}{ccc}\\\n",
    "(j\\Delta v\\xi_0)^2 & (j\\Delta v\\xi_1)^2 & (j\\Delta v\\xi_{N_v-1})^2 \\\\\n",
    "(j\\Delta v\\xi_0)^2 & (j\\Delta v\\xi_1)^2 & (j\\Delta v\\xi_{N_v-1})^2 \\\\\n",
    "\\vdots & \\vdots & \\vdots \\\\\n",
    "(j\\Delta v\\xi_0)^2 & (j\\Delta v\\xi_1)^2 & (j\\Delta v\\xi_{N_v-1})^2 \\end{array} \\right)_{n = 1, N_x\\times N_v} \\\\\n",
    "\\vdots \\\\\n",
    "\\left( \\begin{array}{ccc}\\\n",
    "(j\\Delta v\\xi_0)^{N-1} & (j\\Delta v\\xi_1)^{N-1} & (j\\Delta v\\xi_{N_v-1})^{N-1} \\\\\n",
    "(j\\Delta v\\xi_0)^{N-1} & (j\\Delta v\\xi_1)^{N-1} & (j\\Delta v\\xi_{N_v-1})^{N-1} \\\\\n",
    "\\vdots & \\vdots & \\vdots \\\\\n",
    "(j\\Delta v\\xi_0)^{N-1} & (j\\Delta v\\xi_1)^{N-1} & (j\\Delta v\\xi_{N_v-1})^{N-1} \\end{array} \\right)_{n = 1, N_x\\times N_v}\n",
    "\\right\\}\n",
    "$$\n",
    "\n",
    "The matrix can be assembled efficiently in numpy:\n",
    "\n",
    "\n",
    "$$\\underline{\\underline{\\Xi}}_{N\\times N_x\\times N_v} = (\\text{j}\\Delta v \\underline{\\underline{\\xi}}_{N_x\\times N_v})^{[0, 1, \\ldots , N-1]}$$\n",
    "\n",
    "i.e.\n",
    "\n",
    "    N_xi = active_dims[1] # for sim_params['Xi']['x'], N_xi = active_dims[0]\n",
    "    wave_index = np.arange(N_xi)\n",
    "    xi = np.where(wave_index <= N_xi / 2,\n",
    "              2*np.pi*wave_index / L,\n",
    "              2*np.pi*(wave_index - N_xi) / L)\n",
    "\n",
    "    xi_2D = np.outer(np.ones([1,x.N], xi))\n",
    "    dn = np.arange(1,N).reshape(N-1, 1, 1)\n",
    "    Xi = (1j * vx.width * xi) ** dn\n",
    "    \n",
    "    "
   ]
  },
  {
   "cell_type": "markdown",
   "metadata": {},
   "source": [
    "At this point, one option is to find $\\mathcal{F}f$ along rows,\n",
    "\n",
    "    Ff = np.fft.fft(f, axis = 1)\n",
    "    \n",
    "here, f.shape = (x.N, vx.N) in our perspective. We then could seek the transformed derivative coefficients $\\mathcal{F}d \\equiv$<code>D</code> as (suppose as planned, we stoore this matrix Xi in sim_params['Xi']['v']\n",
    "\n",
    "    D = sim_params['Xi'][z.str[0]]\n",
    "    \n",
    "Where now, the stored object D.shape = (N, x.N, vx.N). The inverse is then taken as\n",
    "\n",
    "    d = np.fft.ifft(D, axis = 2)\n",
    "    \n",
    "Note, different axes are toggled each time as compared to the x-advection stepthrough.\n",
    "\n",
    "### Alternate: transpose the density f\n",
    "\n",
    "If f = np.transpose(f) so that f.shape = (vx.N, x.N), then we can plan on having sim_params['Xi']['v'].shape = (vx.N, x.N) by transpose operation prior to the start of the simulation as assembled in lib.read.assemble_spectral_derivative_operator, then the same code can be used:\n",
    "\n",
    "    Ff = np.fft.fft(f, axis = 0)\n",
    "    \n",
    "here, f.shape = (x.N, vx.N) in our perspective. We then could seek the transformed derivative coefficients $\\mathcal{F}d \\equiv$<code>D</code> as (suppose as planned, we stoore this matrix Xi in sim_params['Xi']['v']\n",
    "\n",
    "    D = sim_params['Xi'][z.str[0]]\n",
    "    \n",
    "Where now, the stored object D.shape = (N, x.N, vx.N). The inverse is then taken as\n",
    "\n",
    "    d = np.fft.ifft(D, axis = 1)\n",
    "    \n",
    "Since the axes have been transposed."
   ]
  },
  {
   "cell_type": "code",
   "execution_count": 6,
   "metadata": {
    "collapsed": false
   },
   "outputs": [
    {
     "data": {
      "text/plain": [
       "array([[ 0.,  1.,  2.,  3.,  4.],\n",
       "       [ 0.,  1.,  2.,  3.,  4.]])"
      ]
     },
     "execution_count": 6,
     "metadata": {},
     "output_type": "execute_result"
    }
   ],
   "source": [
    "import numpy as np\n",
    "\n",
    "Nx = 2\n",
    "Nv = 5\n",
    "\n",
    "A = np.arange(Nv)\n",
    "\n",
    "\n",
    "np.outer(np.ones(Nx), A)"
   ]
  },
  {
   "cell_type": "markdown",
   "metadata": {},
   "source": [
    "## Computing $[Uf]_{i,j} = \\sum_q c_{(i,j)}d_{(i,j)}^{(q)}$"
   ]
  },
  {
   "cell_type": "markdown",
   "metadata": {},
   "source": [
    "Suppose we have both d and c. How to compute the high order flux [Uf]? \n",
    "\n",
    "For x-advection, we have in lib.convect.flux:\n",
    "\n",
    "    for j in range(vz.N):\n",
    "        Uf[:,j] = c[:,j].dot(d[:,:,j])\n",
    "        \n",
    "There, z = x, and vz = vx.\n",
    "\n",
    "For v-advection, we have z = vx, and vz = ax. <b>The above still works provided that the shape of Uf is the transpose of the above (x.N, v.N)</b>, so that Uf.shape = (vx.N, ax.N), and ax.N = x.N already. The shape of Uf is initialized just prior in lib.convect.flux as\n",
    "\n",
    "        Uf = np.zeros(f_old.shape)\n",
    "        \n",
    "Thus, if we have f_old.shape in this case to be (vx.N, x.N), then we can reuse all of this. The natural place to do this is at the start of the substep in lib.convect.scheme\n",
    "\n",
    "    # (0) INITIALIZE FINAL DENSITY CONTAINER AND EXTRACT EVOLVED GRID\n",
    "    f_final = np.zeros(f_initial.shape)\n",
    "    f_initial = DECSKS.lib.convect.extract_active_grid(sim_params, f_initial)\n",
    "    \n",
    "we can add a conditional check:\n",
    "\n",
    "    if z.str[0] == 'v': # if the phase space variable being evolved is a physical velocity\n",
    "        f_initial = np.transpose(f_initial)\n",
    "        \n",
    "This isn't an expensive check. Otherwise, we could develop a separate flux function lib.convect.flux_v and lib.convect.flux_x, and toggle an evaluation of the string that corresponds to the function handle flux_handle = \"\".join(lib.convect.flux_, 'v') or flux_handle = \"\".join(lib.convect.flux_, 'x'), then call with \n",
    "\n",
    "    eval(flux_handle)(*args)\n",
    "    \n",
    "then inside that function we explicitly and confidently take\n",
    "\n",
    "    Uf = np.zeros(f_old.T.shape)\n",
    "    \n"
   ]
  },
  {
   "cell_type": "markdown",
   "metadata": {},
   "source": [
    "<font color = \"red\">It seems too entangled to take tranposes if z.str = 'v' and happens in too many places. Plan on transposing f, z.prepointmesh, z.postpointmesh, and so on in order to use the same methods</font>, tranpose back after before the return."
   ]
  },
  {
   "cell_type": "markdown",
   "metadata": {},
   "source": [
    "## v-advection decision: transpose f early on"
   ]
  },
  {
   "cell_type": "markdown",
   "metadata": {},
   "source": [
    "Tracing through the code to see how this affects everything...."
   ]
  },
  {
   "cell_type": "markdown",
   "metadata": {},
   "source": [
    "### lib.convect.scheme"
   ]
  },
  {
   "cell_type": "code",
   "execution_count": null,
   "metadata": {
    "collapsed": true
   },
   "outputs": [],
   "source": [
    "def scheme(\n",
    "    f_initial,\n",
    "    n,\n",
    "    sim_params,\n",
    "    z,\n",
    "    vz\n",
    "    ):\n",
    "    \"\"\"Solves a collection of 1D advection (in z) equations by convected scheme\n",
    "    and stacks the results in a 2D matrix\n",
    "\n",
    "    inputs:\n",
    "    f_initial -- (ndarray, ndim = 2) f[n-1,:,:] if first\n",
    "             substep in a splitting algorithm or if none\n",
    "             else, f[n,:,:]\n",
    "    n -- (int) time step\n",
    "    sim_params -- (dict) simulation parameters\n",
    "    z -- (instance) phase space variable\n",
    "    vz -- (instance) generalized velocity for z\n",
    "\n",
    "\n",
    "    outputs:\n",
    "    f_final -- (ndarray, ndim = 1 or 2) f[n,:] or f[n,:,:] updated\n",
    "               after all steps have been completed\n",
    "    \"\"\"\n",
    "\n",
    "    # (0) INITIALIZE FINAL DENSITY CONTAINER AND EXTRACT EVOLVED GRID\n",
    "    f_final = np.zeros(f_initial.shape)\n",
    "    f_initial = DECSKS.lib.convect.extract_active_grid(sim_params, f_initial)\n",
    "\n",
    "    # (1) PUSH MOVING CELLS an integer number of cells\n",
    "    z.postpointmesh = advection_step(z)\n",
    "    # NOTE: this can be done without vz, as all sign information\n",
    "    # is stored in z.CFL.frac.\n",
    "\n",
    "    # (*) APPLY BOUNDARY CONDITIONS\n",
    "    z.postpointmesh = DECSKS.lib.boundaryconditions.periodic(z.postpointmesh, z.N)\n",
    "\n",
    "    # (2) REMAP DENSITY TO GRID\n",
    "    f_remapped = remap_step(\n",
    "                       sim_params,\n",
    "                       f_initial,\n",
    "                       n,\n",
    "                       z,\n",
    "                       vz\n",
    "                       )\n",
    "\n",
    "    # (3) COLLISION STEP (NOT YET IMPLEMENTED)\n",
    "    # f_new = DECSKS.lib.collisions.collisiontype(f_old, z, n)\n",
    "\n",
    "    # (4) RETURN FINAL DESTINY (density*)\n",
    "    f_final = finalize_density(sim_params, f_remapped, f_final)\n",
    "\n",
    "    return f_final\n"
   ]
  },
  {
   "cell_type": "markdown",
   "metadata": {},
   "source": [
    "We can put this inside the function lib.convect.extract_active_grid, but this makes the function handle misleading. Since we require tranpose a few objects, we create a new method for the case if z.str[0] == 'v', lib.domain.velocity_advection"
   ]
  },
  {
   "cell_type": "markdown",
   "metadata": {},
   "source": [
    "### lib.convect.extract_active_grid"
   ]
  },
  {
   "cell_type": "markdown",
   "metadata": {},
   "source": [
    "We note in moving forward in lib.convect.scheme that z.postpointmesh is still of dimensions (x.N, vx.N). The next line\n",
    "\n",
    "    # (1) PUSH MOVING CELLS an integer number of cells\n",
    "    z.postpointmesh = advection_step(z)\n"
   ]
  },
  {
   "cell_type": "markdown",
   "metadata": {},
   "source": [
    "### lib.convect.advection_step"
   ]
  },
  {
   "cell_type": "code",
   "execution_count": null,
   "metadata": {
    "collapsed": true
   },
   "outputs": [],
   "source": [
    "def advection_step(z):\n",
    "    \"\"\"Pushes each z.prepointmesh (index) value by the advection *along each\n",
    "    column j* (i.e. constant vz.prepointvaluemesh)\n",
    "    as prescribed by its generalized velocity vz.prepointmeshvalues[:,j].\n",
    "\n",
    "    This is computed in one calculation by:\n",
    "\n",
    "        vz.prepointmeshvalues * dt / z.width = CFL.numbers\n",
    "\n",
    "    the integer part, CFL.int, is pushed here. The residual fraction\n",
    "    CFL.frac is remapped according to remap_step(*args) in step (2) in\n",
    "    the orchestrator routine, scheme(*args), above.\n",
    "\n",
    "    inputs:\n",
    "    z -- (instance) phase space variable equipped with (among other attributes)\n",
    "\n",
    "            z.prepointmesh -- (ndarray, ndim=2) initial [i,j] prepoint indices of all MCs\n",
    "\n",
    "            z.CFL -- (instance) contains CFL numbers, int and frac parts\n",
    "                z.CFL.numbers -- (ndarray, ndim=2, dtype=float64)\n",
    "                z.CFL.int -- (ndarray, ndim=2, dtype=int) integer part of CFL numbers\n",
    "                z.CFL.frac -- (ndarray, ndim=2, dtype=float64) fractional part\n",
    "\n",
    "    outputs:\n",
    "    z -- (instance) phase space variable updated with postpointmesh attribute (BCs not applied)\n",
    "\n",
    "        updated attr:\n",
    "        z.postpointmesh -- (ndarray, ndim=3, dtype=int), shape = (2, x.N, v.N) matrix containing each pair\n",
    "                           k[:,i,j] of postpoints for each prepoint [i,j]\n",
    "\n",
    "\n",
    "    NOTE: Boundary conditions NOT applied at this point\n",
    "\n",
    "    USAGE NOTE: the map z.postpointmesh[k,i,j] for k = 0 or 1 gives the postpoint\n",
    "      of the advecting index, it does not give the relevant postpoint duple\n",
    "      in phase space:\n",
    "\n",
    "          (z.postpointmesh[k,i,j], j) [for x advection]\n",
    "\n",
    "      or\n",
    "\n",
    "          (i, z.postpointmesh[k,i,j]) [for v advection]\n",
    "\n",
    "      but instead just gives that value z.postpointmesh[k,i,j] of the index\n",
    "      that changes. Hence, the remap procedure must be encoded with an\n",
    "      understanding of which index is updated in order to complete the push.\n",
    "\n",
    "      It then makes sense to speak in terms such as:\n",
    "\n",
    "          z.postpointmesh[0,i,j] + 1 is a contiguous gridpoint to\n",
    "                       the index z.postpointmesh[0,i,j] in the positive\n",
    "                       direction\n",
    "\n",
    "          z.postpointmesh[0,i,j] - 1 is a contiguous gridpoint to\n",
    "                       the index z.postpointmesh[0,i,j] in the negative\n",
    "                       direction\n",
    "\n",
    "      since we are speaking of one index, not a duple as concerns the postpointmesh\n",
    "      object\n",
    "    \"\"\"\n",
    "    z.postpointmesh[0,:,:] = z.prepointmesh + z.CFL.int\n",
    "    z.postpointmesh[1,:,:] = np.sign(z.CFL.frac).astype(int) + z.postpointmesh[0,:,:]\n",
    "\n",
    "    return z.postpointmesh"
   ]
  },
  {
   "cell_type": "markdown",
   "metadata": {},
   "source": [
    "All these objects are compatible in dimensions. The attribute z.CFL.int and z.CFL.frac are computed, and so happen to have generalized velocities (for v-advection) that vary in rows, not columns, but this is what is needed here. All the points are updated accordingly. We can return a tranposed object if needed. We also require the tranpose of z.CFL.frac for the computation of the correctors c. <b>It might be more natural to create the velocity variables wiht the tranposed dimensions rather than initialize (x.N, vx.N) and transpose as needed. </b>\n",
    "\n",
    "initializing:\n",
    "\n",
    "    vx.CFL.numbers.shape = (vx.N, x.N)\n",
    "    \n",
    "then automatically creates the objects:\n",
    "\n",
    "    vx.CFL.int\n",
    "    vx.CFL.frac\n",
    "    \n",
    "to be of the same shape. \n",
    "\n",
    "<b><font color = \"red\">(TODO) We may consider this later</font></b>, for now we implement an obvious stepthrough by forming the same objects and tranposing as needed."
   ]
  },
  {
   "cell_type": "markdown",
   "metadata": {},
   "source": [
    "We add the following function call in lib.convect.scheme on lines L30-31:"
   ]
  },
  {
   "cell_type": "code",
   "execution_count": null,
   "metadata": {
    "collapsed": true
   },
   "outputs": [],
   "source": [
    "def scheme(\n",
    "    f_initial,\n",
    "    n,\n",
    "    sim_params,\n",
    "    z,\n",
    "    vz\n",
    "    ):\n",
    "    \"\"\"Solves a collection of 1D advection (in z) equations by convected scheme\n",
    "    and stacks the results in a 2D matrix\n",
    "\n",
    "    inputs:\n",
    "    f_initial -- (ndarray, ndim = 2) f[n-1,:,:] if first\n",
    "             substep in a splitting algorithm or if none\n",
    "             else, f[n,:,:]\n",
    "    n -- (int) time step\n",
    "    sim_params -- (dict) simulation parameters\n",
    "    z -- (instance) phase space variable\n",
    "    vz -- (instance) generalized velocity for z\n",
    "\n",
    "\n",
    "    outputs:\n",
    "    f_final -- (ndarray, ndim = 1 or 2) f[n,:] or f[n,:,:] updated\n",
    "               after all steps have been completed\n",
    "    \"\"\"\n",
    "\n",
    "    # (0) INITIALIZE FINAL DENSITY CONTAINER AND EXTRACT EVOLVED GRID\n",
    "    f_final = np.zeros(f_initial.shape)\n",
    "    f_initial = extract_active_grid(f_initial, z, sim_params)\n",
    "\n",
    "    if z.str[0] == 'v':\n",
    "        f_initial, z = lib.domain.velocity_advection_prep(f_initial, z)\n",
    "\n",
    "    # (1) PUSH MOVING CELLS an integer number of cells\n",
    "    z.postpointmesh = advection_step(z)\n",
    "\n",
    "    # (*) APPLY BOUNDARY CONDITIONS\n",
    "    z.postpointmesh = DECSKS.lib.boundaryconditions.periodic(z.postpointmesh, z.N)\n",
    "\n",
    "    # (2) REMAP DENSITY TO GRID\n",
    "    f_remapped = remap_step(\n",
    "                       sim_params,\n",
    "                       f_initial,\n",
    "                       n,\n",
    "                       z,\n",
    "                       vz\n",
    "                       )\n",
    "\n",
    "    # (3) COLLISION STEP (NOT YET IMPLEMENTED)\n",
    "    # f_new = DECSKS.lib.collisions.collisiontype(f_old, z, n)\n",
    "\n",
    "    # (4) RETURN FINAL DESTINY (density*)\n",
    "    f_final = finalize_density(sim_params, f_remapped, f_final)\n",
    "\n",
    "    return f_final"
   ]
  },
  {
   "cell_type": "markdown",
   "metadata": {},
   "source": [
    "and the associated function:"
   ]
  },
  {
   "cell_type": "markdown",
   "metadata": {},
   "source": [
    "### lib.domain.velocity_advection_prep"
   ]
  },
  {
   "cell_type": "code",
   "execution_count": null,
   "metadata": {
    "collapsed": true
   },
   "outputs": [],
   "source": [
    "def velocity_advection_prep(f_initial, z):\n",
    "    \"\"\"\n",
    "    When advecting physical velocity variables, the implementation\n",
    "    requires several transpositions. This method performs those\n",
    "    operations\n",
    "\n",
    "    inputs:\n",
    "    f_initial -- (ndarray, ndim=2) shape = (x.N, vx.N)\n",
    "    z -- (instance) phase space variable being evolved\n",
    "\n",
    "        z.prepointmesh -- (ndarray, ndim=2)\n",
    "        z.postpointmesh -- (ndarray, ndim=3), shape = (2, x.N, vx.N)\n",
    "\n",
    "        z.CFL.frac -- (ndarray, ndim=2) shape = (x.N, vx.N)\n",
    "        z.CFL.int -- (ndarray, ndim=2) shape = (x.N, vx.N)\n",
    "\n",
    "    outputs:\n",
    "\n",
    "    f_initial -- (ndarray, ndim=2) shape = (vx.N, x.N)\n",
    "    z -- (instance) phase space variable being evolved\n",
    "\n",
    "        z.prepointmesh -- (ndarray, ndim=2) shape = (vx.N, x.N)\n",
    "        z.postpointmesh -- (ndarray, ndim=3), shape = (2, vx.N, x.N)\n",
    "\n",
    "        z.CFL.frac -- (ndarray, ndim=2) shape = (vx.N, x.N)\n",
    "        z.CFL.int -- (ndarray, ndim=2) shape = (vx.N, x.N)\n",
    "\n",
    "\n",
    "    reverting to the appropriate dimensions for f_initial --> f_final\n",
    "    is done at the final step of lib.convect in the function call\n",
    "    lib.convect.finalize_density (also, where periodic BCs are applied\n",
    "    if specified)\n",
    "    \"\"\"\n",
    "\n",
    "    f_initial = np.transpose(f_initial)\n",
    "\n",
    "    z.prepointmesh = np.transpose(z.postpointmesh)\n",
    "    z.postpointmesh = np.transpose(z.postpointmesh, (0,2,1))\n",
    "\n",
    "    z.CFL.frac = np.transpose(z.CFL.frac)\n",
    "    z.CFL.int = np.transpose(z.CFL.int)\n",
    "\n",
    "    return f_initial, z"
   ]
  },
  {
   "cell_type": "markdown",
   "metadata": {},
   "source": [
    "Everything is handled properly, the next line to be concerned about is"
   ]
  },
  {
   "cell_type": "code",
   "execution_count": null,
   "metadata": {
    "collapsed": true
   },
   "outputs": [],
   "source": [
    "    # (2) REMAP DENSITY TO GRID\n",
    "    f_remapped = remap_step(\n",
    "                       sim_params,\n",
    "                       f_initial,\n",
    "                       n,\n",
    "                       z,\n",
    "                       vz\n",
    "                       )"
   ]
  },
  {
   "cell_type": "markdown",
   "metadata": {},
   "source": [
    "which steps into lib.convect.flux:"
   ]
  },
  {
   "cell_type": "code",
   "execution_count": null,
   "metadata": {
    "collapsed": true
   },
   "outputs": [],
   "source": [
    "    Uf = flux(\n",
    "        sim_params,\n",
    "        f_old,\n",
    "        z, vz\n",
    "        )"
   ]
  },
  {
   "cell_type": "markdown",
   "metadata": {},
   "source": [
    "Calling all correctors! Calling all correctors!"
   ]
  },
  {
   "cell_type": "code",
   "execution_count": null,
   "metadata": {
    "collapsed": true
   },
   "outputs": [],
   "source": [
    "## excerpt from lib.convect.flux\n",
    "\n",
    "    c = DECSKS.lib.HOC.correctors(sim_params, z, vz)\n",
    "\n",
    "    # evaluate derivatives q = 0, 1, 2, ... N-1 (zeroeth is density itself)\n",
    "\n",
    "    # calls lib.derivatives.fd or lib.derivatives.fourier based on the\n",
    "    # HOC specified in etc/params.dat, sim_params['derivative_method']\n",
    "    # contains the related function handle as a string\n",
    "    d = eval(sim_params['derivative_method'])(f_old, z, vz, sim_params)\n",
    "\n",
    "    # compute high order fluxes column-by-column\n",
    "    Uf = np.zeros(f_old.shape)\n",
    "    for j in range(vz.N):\n",
    "        Uf[:,j] = c[:,j].dot(d[:,:,j])"
   ]
  },
  {
   "cell_type": "code",
   "execution_count": null,
   "metadata": {
    "collapsed": true
   },
   "outputs": [],
   "source": [
    "## excerpt from lib.HOC.correctors\n",
    "\n",
    "    Beta_func_handle = \"%s%s\" % (\"Beta_matrix_\", z.str[0])\n",
    "\n",
    "    B = eval(Beta_func_handle)(sim_params, z, vz)\n",
    "    c = sim_params['I_alternating'].dot(B)\n",
    "    return c"
   ]
  },
  {
   "cell_type": "markdown",
   "metadata": {},
   "source": [
    "It looks like we do not require two Beta_matrix versions for x and v given our previous transpositions."
   ]
  },
  {
   "cell_type": "code",
   "execution_count": 17,
   "metadata": {
    "collapsed": true
   },
   "outputs": [],
   "source": [
    "def Beta_matrix(sim_params, z, vz):\n",
    "    \"\"\"constructs the B matrix, whose columns are\n",
    "    the beta vectors (shape = N x 1) for each value\n",
    "    of the generalized velocity for the advecting\n",
    "    variable z.\n",
    "\n",
    "    See DECSKS-09 part 1 for details of this calculation\n",
    "\n",
    "    inputs:\n",
    "    sim_params -- (dict) simulation parameters\n",
    "    z.CFL.frac -- (ndarray, ndim=2) contains the fractional CFL numbers\n",
    "                  for every [i,j]\n",
    "    \"\"\"\n",
    "\n",
    "    # local copies of A matrices\n",
    "    A_neg = sim_params['A_matrix']['-1']\n",
    "    A_pos = sim_params['A_matrix']['1']\n",
    "\n",
    "    N_arr = np.outer(np.arange(1,sim_params['N']+1), np.ones([1,vz.N]))\n",
    "\n",
    "    # for broadcasting operations below to an N x vz.N array\n",
    "    # we require an identically dimensioned matrix. Hence, we slice the rows up to N values.\n",
    "    # There is no loss of information here given that every row entry in the z.CFL.frac matrix\n",
    "    # is constant, given z.CFL.frac = z.CFL.frac (vz.prepointvaluemesh)\n",
    "\n",
    "    # Naming per DECSKS-09 notebook:\n",
    "    #\n",
    "    #        alpha = z.CFL.frac, shape: (z.N, vz.N)\n",
    "    #        alpha_hat = truncatedilde[q,j] = alpha_hat ** q,q = 0, 1, ... N-1\n",
    "    #\n",
    "\n",
    "    alpha_hat = z.CFL.frac[:sim_params['N'],:z.CFL.frac.shape[1]]\n",
    "    alpha_tilde = ma.array(alpha_hat ** N_arr / scipy.misc.factorial(N_arr))\n",
    "\n",
    "    mask_neg = (alpha_hat < 0)\n",
    "    mask_pos = np.logical_not(mask_neg)\n",
    "\n",
    "    # mask out negative values, leave only positives (>= 0)\n",
    "    alpha_tilde.mask = mask_neg\n",
    "\n",
    "    # operate on only positive vlaues (>= 0)\n",
    "    beta_pos = ma.dot(A_pos, alpha_tilde)\n",
    "\n",
    "    # mask out positive (>= 0), leave only negatives\n",
    "    alpha_tilde.mask = mask_pos\n",
    "\n",
    "    # operate on only negative values\n",
    "    beta_neg = ma.dot(A_neg, alpha_tilde)\n",
    "\n",
    "    # consolidate all columns in a single matrix\n",
    "    B = np.zeros([sim_params['N'], sim_params['N' + vz.str]])\n",
    "\n",
    "    # wherever beta_neg.mask is False (i.e. unmasked value), assign beta_neg, otherwise beta_pos\n",
    "    B = np.where(mask_neg == True, beta_neg.data, beta_pos.data)\n",
    "\n",
    "    return B"
   ]
  },
  {
   "cell_type": "markdown",
   "metadata": {},
   "source": [
    "this works up until the second before last line:\n",
    "\n",
    "    # consolidate all columns in a single matrix\n",
    "    B = np.zeros([sim_params['N'], sim_params['N' + vz.str]])\n",
    "\n",
    "This was an unnecessary implementation anyway, we could have toggled the second dimension limit by access vz.N. This is like the above because it was from a time when the velocity vz was not being passed around like it is now so we didn't have direct access and instead appealed to the dictinoary sim_params to consttruct the proper dimensions. So, we can change the above"
   ]
  },
  {
   "cell_type": "code",
   "execution_count": null,
   "metadata": {
    "collapsed": true
   },
   "outputs": [],
   "source": [
    "## bottom of lib.HOC.Beta_matrix\n",
    "\n",
    "    # consolidate all columns in a single matrix\n",
    "    B = np.zeros([sim_params['N'], vz.N])\n",
    "\n",
    "    # wherever beta_neg.mask is False (i.e. unmasked value), assign beta_neg, otherwise beta_pos\n",
    "    B = np.where(mask_neg == True, beta_neg.data, beta_pos.data)\n",
    "\n",
    "    return B"
   ]
  },
  {
   "cell_type": "markdown",
   "metadata": {},
   "source": [
    "Then B.shape = (N, x.N) as needed for the v-advection case, and we return to the parent function to compute:\n",
    "\n",
    "    c = sim_params['I_alternating'].dot(B)\n",
    "    \n",
    "Where I_alternating.shape = (N,N), and gives c with c.shape = (N, x.N) as needed. <b>Since the same Beta_matrix function can be used for both x and v advection, we remove the generic function call eval(Beta_function_handle) above, and instead just call the function directly in lib.HOC.correctors\n"
   ]
  },
  {
   "cell_type": "code",
   "execution_count": null,
   "metadata": {
    "collapsed": true
   },
   "outputs": [],
   "source": [
    "    B = Beta_matrix(sim_params, z, vz)\n",
    "    c = sim_params['I_alternating'].dot(B)\n",
    "    return c"
   ]
  },
  {
   "cell_type": "markdown",
   "metadata": {},
   "source": [
    "We then return to lib.convect.flux to compute\n",
    "\n",
    "    # calls lib.derivatives.fd or lib.derivatives.fourier based on the\n",
    "    # HOC specified in etc/params.dat, sim_params['derivative_method']\n",
    "    # contains the related function handle as a string\n",
    "    d = eval(sim_params['derivative_method'])(f_old, z, vz, sim_params)\n",
    "    \n",
    "Let's take the case of the function handle being lib.derivatives.fourier"
   ]
  },
  {
   "cell_type": "code",
   "execution_count": null,
   "metadata": {
    "collapsed": true
   },
   "outputs": [],
   "source": [
    "def fourier(f_old, z, vz, sim_params):\n",
    "    \"\"\"Orchestrates the computation of sim_params['N'] - 1 fourier\n",
    "    derivatives and stores these in a matrix of derivative\n",
    "    coefficients d. The zeroeth entry contains the zereoth\n",
    "    derivative, i.e. the density itself\n",
    "\n",
    "    inputs:\n",
    "    f_old -- (ndarray, ndim=2) density from previous time substep\n",
    "    z -- (instance) phase space variable being advected, here\n",
    "         we are taking d/dz\n",
    "\n",
    "    vz -- (instance) generalized velocity for z\n",
    "    sim_params -- (dict) simulation parameters dictionary\n",
    "\n",
    "    outputs:\n",
    "    d -- (ndarray, ndim=3), shape = (N, x.N, v.N), the\n",
    "         entry d[q,i,j] gives the qth derivative coefficient\n",
    "         at a point [i,j]\n",
    "    \"\"\"\n",
    "    d = np.zeros([sim_params['N'], z.N, vz.N])\n",
    "\n",
    "    # zeroeth derivative coefficient is the density itself\n",
    "    d[0,:,:] = f_old\n",
    "\n",
    "    # if corrections indicated in etc/params.dat, need higher order terms\n",
    "    if sim_params['N'] > 1:\n",
    "        d[1:,:,:] = trigonometric3D(f_old, z, sim_params)\n",
    "\n",
    "    return d\n"
   ]
  },
  {
   "cell_type": "markdown",
   "metadata": {},
   "source": [
    "This initializes d\n",
    "\n",
    "    d = np.zeros([sim_params['N'], z.N, vz.N])\n",
    "\n",
    "with d.shape = (N, vx.N, x.N), also consistent with our formulation thus far. Then, we take\n",
    "\n",
    "    d[0,:,:] = f_old\n",
    "    \n",
    "since f_old.shape = (vx.N, x.N) by transposition from the outset, the dimensions are aligned accordingly.\n",
    "\n",
    "if corrections are desired, then the derivatives need to be computed, calling lib.derivatives.trigonometric3D:\n"
   ]
  },
  {
   "cell_type": "code",
   "execution_count": null,
   "metadata": {
    "collapsed": true
   },
   "outputs": [],
   "source": [
    "def trigonometric3D(f, z, sim_params):\n",
    "    \"\"\"Computes derivatives of density for derivative coeffs d in FN methods\n",
    "\n",
    "    inputs:\n",
    "    f -- (ndarray, ndim=2) density at a given time step\n",
    "    sim_params['Xi']['x' or 'vx'] -- (ndarray, ndim=3) Xi = (1j*dz*xi) ** [[[1,2,3,...,N-1]]], where xi.shape (x.N, v.N)\n",
    "          is assembled in sim_params in lib.read as np.outer(dz * xi, np.ones((1,v.N))).\n",
    "\n",
    "    outputs:\n",
    "    d -- (ndarray, ndim=3) d[q,i,j], gives the qth derivative for each point (i,j)\n",
    "          for q >= 1, the zeroeth derivative d[0,:,:] = f_old is assigned prior to this function call\n",
    "          i.e. the assignment is for d[1:, :, :] below, d[1:,:,:].shape = (N-1, x.N, v.N)\n",
    "    \"\"\"\n",
    "\n",
    "    # need to specify the axis in numpy v1.11.0.dev0+fe64f97, has opposite default axis\n",
    "    # as prior versions!\n",
    "    Ff = np.fft.fft(f, axis = 0) # or for v-advection if rows are maintained can toggle axis = 1\n",
    "\n",
    "    D = sim_params['Xi'][z.str] * Ff    # selects the Xi matrix based on 'x' or 'vx'\n",
    "\n",
    "    d = np.real(np.fft.ifft(D, axis = 1)) # or for v-advection if rows are maintained can toggle axis = 2 here\n",
    "    return d"
   ]
  },
  {
   "cell_type": "markdown",
   "metadata": {},
   "source": [
    "We transform f along axis = 0, i.e. rows. In v-advection, the acceleration varies with row formerly, but upon transposition they vary with column. Thus, each column is a 1D advection problem in vz = ax, hence the direction of differentiation is along the rows, which is appropriately chosen above in the computation of \n",
    "\n",
    "    Ff = np.fft.fft(f, axis = 0)\n",
    "    \n",
    "then we multiply by the relevant Xi matrix according to vx or x. The next line needs to compute the numpy point-wise multiplication \n",
    "\n",
    "    D = sim_params['Xi']['vx'] * Ff\n",
    "    \n",
    "Thus, these two objects need to be the same shape. <font color = \"red\">this is a change from above</font> we note we must modify the provisional construction for Xi by returning the transpose to the key/value sim_params['Xi']['vx'] so that its shape is (vx.N, x.N) as needed, since Ff.shape = (vx.N, x.N), and f.shape = (vx.N, x.N)\n",
    "\n"
   ]
  },
  {
   "cell_type": "code",
   "execution_count": null,
   "metadata": {
    "collapsed": true
   },
   "outputs": [],
   "source": [
    "## lib.read.assemble_spectral_derivative_operator excerpt (bottom)\n",
    "\n",
    "    # for v advection variables, we construct the case for 1D1V:\n",
    "\n",
    "    N_xi, Nrows = active_dims[1], active_dims[0]\n",
    "\n",
    "    wave_index = np.arange(N_xi)\n",
    "    xi = np.where(wave_index <= N_xi / 2,\n",
    "              2*np.pi*wave_index / Lvx,\n",
    "              2*np.pi*(wave_index - N_xi) / Lvx)\n",
    "\n",
    "    xi_2D = np.outer(np.ones(N_rows), xi) # wavenumbers enumerated by row, copies in Nv columns\n",
    "\n",
    "    xi_2D = np.transpose (xi_2D) # dimensions are (vx.N, x.N) now to match v-advection cases\n",
    "    dn = np.arange(1,N).reshape(N-1,1,1)\n",
    "    Xi['vx'] = (1j * width * xi_2D) ** dn\n",
    "\n",
    "    return Xi, xi"
   ]
  },
  {
   "cell_type": "markdown",
   "metadata": {},
   "source": [
    "We also note that we need to manage two wave number vectors xi, we can stuff these into their own dictionary just like we did for Xi. The whole method then takes the form:"
   ]
  },
  {
   "cell_type": "markdown",
   "metadata": {},
   "source": [
    "### lib.read.assemble_spectral_derivative_operator"
   ]
  },
  {
   "cell_type": "code",
   "execution_count": null,
   "metadata": {
    "collapsed": true
   },
   "outputs": [],
   "source": [
    "def assemble_spectral_derivative_operator(total_dims, active_dims,\n",
    "                                          ax, bx, avx, bvx,\n",
    "                                          N):\n",
    "    \"\"\"Returns a dictionary Xi with key/value pairs:\n",
    "\n",
    "        Xi['x'] -- (ndarray, ndim=3, dtype=complex)\n",
    "        Xi['vx'] -- (ndarray, ndim=3, dtype=complex)\n",
    "\n",
    "    Each of these matrices correspond to a matrix with entries\n",
    "\n",
    "      $$Xi = ((Xi)_{q,i,j}) = 1j * (\\Delta z \\xi_{i,j})^q$$\n",
    "\n",
    "    USAGE NOTE: computing Xi * Ff, where Ff is numpy.fft.fft(f)\n",
    "    and f.shape = (x.N, vx.N) produces the Fourier transform\n",
    "    of the derivative coefficients $F[d] \\equiv D$, where\n",
    "    D[q,i,j] corresponds to the qth order derivative coefficient\n",
    "    at a phase space location [i,j]. The method\n",
    "    lib.derivatives.trigonometric3D takes the row-wise inverse\n",
    "    transform so that the tensor d[q,i,j] is generated.\n",
    "    \"\"\"\n",
    "\n",
    "    Xi = {}\n",
    "    xi = {}\n",
    "\n",
    "    Lx = float(bx - ax)\n",
    "    xwidth = float((bx - ax) / (total_dims[0] - 1))\n",
    "\n",
    "    Lvx = float(bvx - avx)\n",
    "    vxwidth = float((bvx - avx) / (total_dims[1] - 1))\n",
    "\n",
    "    # TODO x-differentiation, haven't figured out what v-differentaition looks like yet\n",
    "    N_xi, N_cols = active_dims[0], active_dims[1]\n",
    "\n",
    "    # for v-differentiation, number of wavenumbers N_xi = active_dims[1], N_rows (or\n",
    "    # N_cols if we do transpose operations) = active_dims[0]\n",
    "\n",
    "    wave_index = np.arange(N_xi)\n",
    "    xi = np.where(wave_index <= N_xi / 2,\n",
    "              2*np.pi*wave_index / Lx,\n",
    "              2*np.pi*(wave_index - N_xi) / Lx)\n",
    "\n",
    "    xi['x'] = xi\n",
    "    xi_2D = np.outer(xi, np.ones(N_cols)) # wavenumbers enumerated by row, copies in Nv columns\n",
    "\n",
    "    dn = np.arange(1,N).reshape(N-1,1,1)\n",
    "    Xi['x'] = (1j * width * xi_2D) ** dn\n",
    "\n",
    "    # if other configuration variables involved, i.e. 'y', 'z', will need to develop these as well\n",
    "\n",
    "    # for v advection variables, we construct the case for 1D1V:\n",
    "\n",
    "    N_xi, Nrows = active_dims[1], active_dims[0]\n",
    "\n",
    "    wave_index = np.arange(N_xi)\n",
    "    xi = np.where(wave_index <= N_xi / 2,\n",
    "              2*np.pi*wave_index / Lvx,\n",
    "              2*np.pi*(wave_index - N_xi) / Lvx)\n",
    "\n",
    "    xi['vx'] = xi\n",
    "    xi_2D = np.outer(np.ones(N_rows), xi) # wavenumbers enumerated by row, copies in Nv columns\n",
    "\n",
    "    xi_2D = np.transpose (xi_2D) # dimensions are (vx.N, x.N) now to match v-advection cases\n",
    "    dn = np.arange(1,N).reshape(N-1,1,1)\n",
    "    Xi['vx'] = (1j * width * xi_2D) ** dn\n",
    "\n",
    "    return Xi, xi"
   ]
  },
  {
   "cell_type": "markdown",
   "metadata": {},
   "source": [
    "Returning then to lib.derivatives.trigonometric3D, we compute\n",
    "\n",
    "    D = sim_params['Xi'][z.str] * Ff    # selects the Xi matrix based on 'x' or 'vx'\n",
    "\n",
    "Without issue with the aforementioned changes.\n",
    "\n",
    "The final two lines\n",
    "\n",
    "    d = np.real(np.fft.ifft(D, axis = 1)) \n",
    "    return d\n",
    "\n",
    "This is computed along the rows of each (i.e. the matrix is three dimensional), which is the direction of the transpose that is needed."
   ]
  },
  {
   "cell_type": "markdown",
   "metadata": {},
   "source": [
    "We then step back into lib.convect.flux after a long trip to compute:\n",
    "\n",
    "    # compute high order fluxes column-by-column\n",
    "    Uf = np.zeros(f_old.shape)\n",
    "    for j in range(vz.N):\n",
    "        Uf[:,j] = c[:,j].dot(d[:,:,j])\n",
    "        \n",
    " Uf is initialized with shape Uf.shape = (vx.N, x.N) as needed, then we loop through columns and perform the required dot products. This is consistent.\n",
    " \n",
    "The function is thrown to be caught by the receiver of the limiter:\n",
    "\n",
    "    # enforce flux limiter to ensure positivity and restrict numerical overflow\n",
    "    Uf = flux_limiter(f_old, Uf, z)\n",
    "\n",
    "    return Uf\n",
    "    \n",
    "All good!\n",
    "\n"
   ]
  },
  {
   "cell_type": "markdown",
   "metadata": {},
   "source": [
    "### still to verify works with lib.derivatives.fd"
   ]
  },
  {
   "cell_type": "markdown",
   "metadata": {},
   "source": [
    "Stepping back into lib.convect.remap_step, we call the remap_assignment method:\n",
    "\n",
    "    # remap to nearest neighbor cell center\n",
    "    f_k1 = remap_assignment(\n",
    "        f_old,\n",
    "        Uf,\n",
    "        z.postpointmesh[0,:,:],\n",
    "        z,\n",
    "        vz,\n",
    "        index = 'nearest'    # remaps to nearest neighbor index\n",
    "        )\n",
    "\n",
    "    # remap to contiguous cell center\n",
    "    f_k2 = remap_assignment(\n",
    "        f_old,\n",
    "        Uf,\n",
    "        z.postpointmesh[1,:,:],\n",
    "        z,\n",
    "        vz,\n",
    "        index = 'contiguous'    # remaps to contiguous neighbor of above\n",
    "        )\n",
    "\n",
    "    f_remapped = f_k1 + f_k2\n",
    "    \n",
    "Note, <b>vz is passed through a lot of functions here and prior to this point. It should be noted that as far as the advection is concerned, the values on vz have already been used. We pass around vz in these routines only to access the dimension vz.N, below we see we actually have to access vz.prepointmesh in order to slice appropriately. <font color = \"red\">We should go back to lib.split and transpose the acceleration or otherwise change the instantiation in lib.domain.Setup ----- Actually, we just append this line to the velocity_advection_prep method</b>:\n",
    "\n",
    "    vz.prepointmesh = np.transpose(vz.prepointmesh)\n",
    "\n",
    "And, that is that. This requires including it in the argument and function return. This is done as well (not shown here as the changes are clear)."
   ]
  },
  {
   "cell_type": "code",
   "execution_count": null,
   "metadata": {
    "collapsed": true
   },
   "outputs": [],
   "source": [
    "def remap_assignment(\n",
    "        f_old,\n",
    "        Uf,\n",
    "        zpostpointmesh,\n",
    "        z,\n",
    "        vz,\n",
    "        index = 'nearest'\n",
    "        ):\n",
    "    \"\"\"Remaps the z.N MCs to Eulerian mesh at indices k1 and k2\n",
    "\n",
    "    inputs:\n",
    "    f_old -- (ndarray, dim=1) density from previous time step\n",
    "    Uf -- (ndarray, dim=1) the normalized flux used in the CS update\n",
    "    z -- (instance) phase space variable whose MCs are convected\n",
    "    n -- (int) current time step\n",
    "\n",
    "    outputs:\n",
    "    f_new -- (ndarray, dim=1) density with f_old remapped to\n",
    "             according to the mapping\n",
    "\n",
    "            [z.prepointmesh, vz.prepointmesh] --> [k, vz.prepointmesh]\n",
    "\n",
    "    \"\"\"\n",
    "    mask_neg =  (z.CFL.frac < 0)\n",
    "    mask_pos = np.logical_not(mask_neg)\n",
    "\n",
    "    f_old_ma = ma.array(f_old)\n",
    "    f_pos, f_neg = ma.zeros(f_old.shape), ma.zeros(f_old.shape)\n",
    "\n",
    "    Uf_ma = ma.array(Uf)\n",
    "\n",
    "    if index == 'nearest':\n",
    "        # mask out negative values\n",
    "        f_old_ma.mask = mask_neg\n",
    "        Uf_ma.mask = mask_neg\n",
    "\n",
    "        f_pos[ zpostpointmesh, vz.prepointmesh ] = f_old_ma - Uf_ma\n",
    "\n",
    "        # mask out all positive values\n",
    "        f_old_ma.mask = mask_pos\n",
    "        Uf_ma.mask = mask_pos\n",
    "\n",
    "        f_neg[ zpostpointmesh, vz.prepointmesh ] = f_old_ma + Uf_ma\n",
    "\n",
    "    elif index == 'contiguous':\n",
    "        # mask out negative values\n",
    "        f_old_ma.mask = mask_neg\n",
    "        Uf_ma.mask = mask_neg\n",
    "\n",
    "        f_pos[ zpostpointmesh, vz.prepointmesh ] = Uf_ma\n",
    "\n",
    "        # mask out all positive values\n",
    "        f_old_ma.mask = mask_pos\n",
    "        Uf_ma.mask = mask_pos\n",
    "\n",
    "        f_neg[ zpostpointmesh, vz.prepointmesh ] = -Uf_ma\n",
    "\n",
    "    # \"wherever there is negative data, assign f_neg, else assign f_pos\n",
    "    f_new = np.where(mask_neg == True, f_neg.data, f_pos.data)\n",
    "\n",
    "    return f_new\n"
   ]
  },
  {
   "cell_type": "markdown",
   "metadata": {},
   "source": [
    "With the required transposition of the prepointmesh values for the consistent index slicing alongside z.prepointmesh (shape = (vx.N, x.N)"
   ]
  },
  {
   "cell_type": "markdown",
   "metadata": {},
   "source": [
    "Returning to lib.convect.remap_step, we then step into:\n",
    "\n",
    "\n",
    "    f_remapped = f_k1 + f_k2\n",
    "    \n",
    "    # global check on density conservation\n",
    "    DECSKS.lib.density.global_conservation_check(sim_params, f_remapped, n)\n",
    "\n",
    "    return f_remapped\n",
    "\n",
    "of which peeking in to the function reveals consistent object handling. This is returned to the object f_remapped in the orchestrator routine lib.convect.scheme.\n",
    "\n",
    "Finally, inside lib.convect.scheme we finalize the density:\n",
    "\n",
    "    # (4) RETURN FINAL DESTINY (density*)\n",
    "    f_final = finalize_density(sim_params, f_remapped, f_final)"
   ]
  },
  {
   "cell_type": "markdown",
   "metadata": {},
   "source": [
    "We add an if clause to catch v-advection cases and transpose them back to the appropriate dimensinos (x.N, vx.N)."
   ]
  },
  {
   "cell_type": "code",
   "execution_count": null,
   "metadata": {
    "collapsed": true
   },
   "outputs": [],
   "source": [
    "def finalize_density(sim_params, f_remapped, f_final):\n",
    "    \"\"\"\n",
    "    returns a final density. For all but PBCs, f_new = f_final since\n",
    "    our setup is such that (z1.N, z2.N) moving cells are evolved.\n",
    "\n",
    "    The bookkeeping is such that, e.g. in 1D\n",
    "\n",
    "          non-periodic BCs : z.N = z.Ngridpoints\n",
    "\n",
    "          periodic BCs     : z.N = z.Ngridpoints - 1\n",
    "                             f[z.Ngridpoints-1] = f[0] by periodicity\n",
    "\n",
    "    We use the associated generalization to two dimensions, e.g.\n",
    "\n",
    "          non-periodic BCs: z1.N = z1.Ngridpoints\n",
    "                            z2.N = z2.Ngridpoints\n",
    "\n",
    "                            hence f_final = f_new\n",
    "\n",
    "          periodic BCs     : z.N = z.Ngridpoints - 1\n",
    "                             f_final[z1.Ngridpoints - 1, :] = f_new[0,:]\n",
    "                             f_final[:, z2.Ngridpoints - 1] = f_new[:,0]\n",
    "  \"\"\"\n",
    "    # TODO currently assuming that both dimensions are periodic, need to generalize\n",
    "    # this in the future\n",
    "\n",
    "    # assign all active grid points to grid values on f_final\n",
    "    f_final[:f_remapped.shape[0], :f_remapped.shape[1]] = f_remapped\n",
    "\n",
    "    f_final[f_remapped.shape[0]+1,:] = f_remapped[0,:]\n",
    "    f_final[:, f_remapped.shape[1] + 1] = f_remapped[:,0]\n",
    "\n",
    "    # TODO consider if you have to do this\n",
    "\n",
    "    if z.str[0] == 'v':\n",
    "        f_final = np.transpose(f_final)\n",
    "\n",
    "    return f_final"
   ]
  },
  {
   "cell_type": "markdown",
   "metadata": {},
   "source": [
    "OK! Lastly, check out lib.derivatives.fd"
   ]
  },
  {
   "cell_type": "markdown",
   "metadata": {},
   "source": [
    "### lib.derivatives.fd"
   ]
  },
  {
   "cell_type": "code",
   "execution_count": null,
   "metadata": {
    "collapsed": true
   },
   "outputs": [],
   "source": [
    "def fd(f, z, vz, sim_params):\n",
    "    \"\"\"computes the derivative coefficient tensor d (shape = (N, z.N, z.N)).\n",
    "\n",
    "    Note, the below is difficult to read but has been adopted to not needlessly store local\n",
    "    copies of large arrays. The dictionary Wz = sim_params['W'][z.str] (shape = (N, x.N, v.N))\n",
    "    contains each Wz[dn,:,:] 2D array of difference coefficients for the dn-th derivative.\n",
    "\n",
    "    The np.dot product can lumber signnificantly for large enough arrays (100x+ slower) if no care is taken.\n",
    "    Here, we bypass the internal looping (hence, reshaping) mechanics by manually reshaping it\n",
    "    once and performing the dot product by falling back on the 2D GEMM routine.\n",
    "\n",
    "    this implementation was chosen based on consult of the stackoverflow community:\n",
    "\n",
    "        http://stackoverflow.com/questions/33004551/\n",
    "            why-is-b-numpy-dota-x-so-much-slower-looping-through-doing-bi-numpy\n",
    "\n",
    "    inputs:\n",
    "    f -- (ndarray, ndim=2) density from previous time substep, \n",
    "         shape = (x.N, vx.N) if advecting in configuration\n",
    "         shape = (vx.N, x.N) if advecting in velocity\n",
    "         \n",
    "    z -- (instance) phase space variable being advected, here\n",
    "         we are taking d/dz\n",
    "\n",
    "    vz -- (instance) generalized velocity for z\n",
    "    sim_params -- (dict) simulation parameters dictionary\n",
    "\n",
    "    outputs:\n",
    "    d -- (ndarray, ndim=3), shape = (N, z.N, vz.N), the\n",
    "         entry d[q,i,j] gives the qth derivative coefficient\n",
    "         at a point [i,j]\n",
    "\n",
    "         for x-advection, the ordering is [q, x[i,j], vx[i,j]]\n",
    "         for v-advection, the ordering is [q, vx[i,j], x[i,j]] (transpose in axes (0,2,1))\n",
    "\n",
    "    \"\"\"\n",
    "    d = np.zeros([sim_params['N'], z.N, vz.N])\n",
    "    dim1, dim2, dim3 = d.shape\n",
    "    # zeroeth derivative coefficient is the density itself\n",
    "    d[0,:,:] = f\n",
    "\n",
    "    # if corrections indicated in etc/params.dat, need higher order terms\n",
    "    if sim_params['N'] > 1:\n",
    "        d[1:,:,:] = np.dot( sim_params['W'][z.str][1,:,:].reshape(-1,sim_params['W'][z.str].shape[-1]), f).reshape(\n",
    "            sim_params['W'][z.str].shape[0] - 1, # we are computing derivatives 1, 2, ... , first index 0 not included\n",
    "            sim_params['W'][z.str].shape[1],\n",
    "            sim_params['W'][z.str].shape[2])\n",
    "\n",
    "    return d"
   ]
  },
  {
   "cell_type": "markdown",
   "metadata": {},
   "source": [
    "This all handled accordingly, the differentiation occurs over the rows for each column where rows span the vx[:,j] dimension which all i are characterized by common ax[i,j] since the transpose has been taken "
   ]
  },
  {
   "cell_type": "markdown",
   "metadata": {},
   "source": [
    "#### Finalizing changes to allow for totally FD implementation"
   ]
  },
  {
   "cell_type": "markdown",
   "metadata": {},
   "source": [
    "What remains is the small modifications needed in the lib.split routine where accelerations are calculated. In finite difference formulations, we developed a 6th order Poisson solver for phi (not Gauss solver for E). These small changes need to be traced through as far as they go to see that everything is consistent. We label here a scheme lib.split_fd for clarity, but may decide to change the label later. We can also easily call this routine once at the start of simulation without explicit reference, but by doing something like\n",
    "\n",
    "    eval(split_function_handle)(*args)\n",
    "    \n",
    "where \n",
    "\n",
    "    split_function_handle = '_'.join(('DECSKS.lib.split', HOC.lower()))\n",
    "    split_function_handle = '.'.join((split_function_handle, 'scheme'))\n",
    "\n",
    "i.e.\n",
    "\n",
    "    split_function_handle = \"split_fd\"\n",
    "\n",
    "or\n",
    "\n",
    "    split_function_handle = \"split_fourier\"\n",
    "    \n",
    "Hence, we relabel lib.split to these two names in order to call DECSKS.lib.split_fd.scheme or DECSKS.lib.split_fourier.scheme according to the input file specifications."
   ]
  }
 ],
 "metadata": {
  "kernelspec": {
   "display_name": "Python 2",
   "language": "python",
   "name": "python2"
  },
  "language_info": {
   "codemirror_mode": {
    "name": "ipython",
    "version": 2
   },
   "file_extension": ".py",
   "mimetype": "text/x-python",
   "name": "python",
   "nbconvert_exporter": "python",
   "pygments_lexer": "ipython2",
   "version": "2.7.3"
  }
 },
 "nbformat": 4,
 "nbformat_minor": 0
}

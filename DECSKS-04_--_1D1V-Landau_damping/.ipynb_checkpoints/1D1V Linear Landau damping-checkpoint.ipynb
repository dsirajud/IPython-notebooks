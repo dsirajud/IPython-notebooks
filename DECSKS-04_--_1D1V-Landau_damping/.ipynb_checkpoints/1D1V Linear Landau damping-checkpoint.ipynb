{
 "cells": [
  {
   "cell_type": "markdown",
   "metadata": {},
   "source": [
    "# 1D1V Linear Landau damping"
   ]
  },
  {
   "cell_type": "markdown",
   "metadata": {},
   "source": [
    "## A. Motivation and primer\n",
    "\n",
    "Linear Landau damping is a basic benchmark for any 1D1V Vlasov solver. Linear Landau damping is obtained from linearizing the Vlasov-Poisson system:\n",
    "\n",
    "$$\\partial_t f + v\\partial_x f = 0$$\n",
    "\n",
    "$$\\partial_x^2\\phi = n_e - n_0$$\n",
    "\n",
    "where we model $n_0$ as a constant background ion density defined so that $n_0 = n_e = \\int_v dv\\, f(t,x,v)$ for all time, which for the current context of hydrogenic plasmas ($Z_i = 1$), is an assertion of charge neutrality. Linearization is a procedure whereupon the plasma evolution equations are Fourier transformed in order to seek plane wave solutions ($\\sim e^{ikx}$)\n"
   ]
  },
  {
   "cell_type": "code",
   "execution_count": null,
   "metadata": {
    "collapsed": true
   },
   "outputs": [],
   "source": []
  }
 ],
 "metadata": {
  "kernelspec": {
   "display_name": "Python 2",
   "language": "python",
   "name": "python2"
  },
  "language_info": {
   "codemirror_mode": {
    "name": "ipython",
    "version": 2
   },
   "file_extension": ".py",
   "mimetype": "text/x-python",
   "name": "python",
   "nbconvert_exporter": "python",
   "pygments_lexer": "ipython2",
   "version": "2.7.3"
  }
 },
 "nbformat": 4,
 "nbformat_minor": 0
}

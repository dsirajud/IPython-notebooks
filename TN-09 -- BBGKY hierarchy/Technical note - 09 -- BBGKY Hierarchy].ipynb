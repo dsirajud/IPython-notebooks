{
 "cells": [
  {
   "cell_type": "markdown",
   "metadata": {},
   "source": [
    "# Bogoliubov-Born-Green-Kirkwood-Yvon (BBGKY) Hierarchy"
   ]
  },
  {
   "cell_type": "markdown",
   "metadata": {},
   "source": [
    "Begin by defining a 6-dimensional phase space quantity $X_i = X_i(t)$ pertaining to any of $i\\in\\mathbb{N}_1^N$ particles' positions in phase space $X_i = (\\vec{x}_i, \\vec{v}_i)= \\sum_{\\ell = 1}^3 (x_{\\ell} \\hat{x}_{\\ell} + v_{\\ell} \\hat{v_x}_{\\ell})$. Here, $(\\vec{x}_i, \\vec{v}_i)\\in\\mathbb{R}^3\\times\\mathbb{R}^3$, hence the collection of all $N$ particles constitute a $6N$-dimensional phase space. For further convenience, define a 6N-dimensional differential volume element  $d\\Gamma = \\prod_{i=1}^N d^6X_i$ at any time $t$. We can also write for brevity at time $t = 0$, $d\\Gamma_0 = \\prod_{i=1}^N d^6X_i(0)$. Each particle evolves according to the characteristics:\n",
    "\n",
    "$$\\frac{d\\vec{x}_i(t)}{dt} = \\vec{v}_i (t), \\qquad \\frac{d\\vec{v}_i}{dt} = \\frac{q}{m}\\vec{E}_i(t) \\qquad \\vec{E}_i(t) = \\vec{E}(t,\\vec{x}_i)$$\n",
    "\n",
    "We can then define the probablity density function $D_N$ for all $N$ particles such that \n",
    "\n",
    "$$D_N(X_1, X_2, \\ldots , X_N)d\\Gamma = D_N(X_1(0), X_2(0), \\ldots X_N(0)) d\\Gamma_0$$\n",
    "\n",
    "is constant in time since no particles are destroyed or created. Since no coordinate transformation has occured it is clear that\n",
    "\n",
    "$$d\\Gamma = d\\Gamma_0 \\qquad \\text{symplecticity of the probability space}$$\n",
    "\n",
    "Thus, \n",
    "\n",
    "$$D_N = D_N(0)$$\n",
    "\n",
    "Differentiating this with time:\n",
    "\n",
    "\\begin{eqnarray*}\n",
    "\\frac{d}{dt}\\left[D_N(X_1, X_2, \\ldots X_N)\\right] & = & \\frac{d}{dt}\\left[D_N(X_1(0), X_2(0), \\ldots X_N(0)\\right]\\\\\n",
    "\\left(\\frac{\\partial}{\\partial t} + \\sum_i \\frac{\\partial X_i}{\\partial t}\\frac{\\partial }{\\partial X_i}\\right) D_N & = & 0 \\\\\n",
    "\\end{eqnarray*}\n",
    "\n",
    "Now,\n",
    "\n",
    "$$\\frac{dX_i}{dt} = \\frac{d}{dt}(\\vec{x}_i + \\vec{v}_i) = \\dot{\\vec{x}}_i + \\dot{\\vec{v}}_i = \\vec{v}_i + \\frac{q}{m}\\vec{E}_i$$\n",
    "\n",
    "Then, the above becomes\n",
    "\n",
    "$$\\left(\\frac{\\partial}{\\partial t} + \\sum_i \\left(\\vec{v}_i\\cdot\\frac{\\partial}{\\partial\\vec{x}_i}  + \\frac{q}{m}\\vec{E}_i\\cdot \\frac{\\partial}{\\partial\\vec{v}_i}\\right)\\right) D_N  =  0$$\n",
    "\n"
   ]
  },
  {
   "cell_type": "markdown",
   "metadata": {},
   "source": [
    "Writing $\\vec{E}_i = -\\frac{\\partial}{\\partial\\vec{x}_i}\\phi_i = -\\frac{\\partial}{\\partial\\vec{x}_i}\\sum_{j\\neq i} \\phi_{ij} = -\\frac{\\partial}{\\partial\\vec{x}_i}\\sum_{j\\neq i} \\frac{q_j}{|x_i - x_j|}$, Liouville's equation is equivalent to\n",
    "\n",
    "$$\\left(\\frac{\\partial}{\\partial t} + \\sum_i \\left(\\vec{v}_i\\cdot\\frac{\\partial}{\\partial\\vec{x}_i}  - \\frac{q}{m}\\frac{\\partial\\phi_i}{\\partial\\vec{x}_i}\\cdot \\frac{\\partial}{\\partial\\vec{v}_i}\\right)\\right)D_N = \\frac{d}{dt}D_N = 0$$\n",
    "\n",
    "If we introduce the one-particle Hamiltonian $\\mathcal{H}_i$:\n",
    "\n",
    "$$\\mathcal{H}_i = \\frac{p_i^2}{2m} + q_i\\phi_i$$\n",
    "\n",
    "Note that,\n",
    "\n",
    "$$\\frac{\\partial\\mathcal{H}_i}{\\partial\\vec{p}_i} = \\frac{1}{2m}\\frac{\\partial}{\\partial\\vec{p}_i}(\\vec{p}_i\\cdot\\vec{p}_i) = \\frac{2\\vec{p}_i\\cdot\\frac{\\partial\\vec{p}_i}{\\partial\\vec{p}_i}}{2m} =  \\frac{2\\vec{p}_i\\cdot\\vec{\\vec{I}}}{2m}  =  \\frac{2\\vec{p}_i}{2m} = \\frac{2m\\vec{v}_i}{2m} = \\vec{v}_i $$\n",
    "\n",
    "and\n",
    "\n",
    "$$\\frac{\\partial\\mathcal{H}_i}{\\partial\\vec{x}_i} = q_i \\frac{\\partial\\phi_i}{\\partial\\vec{x}_i}$$\n",
    "\n",
    "Then, the Poisson bracket formulation follows naturally:\n",
    "\n",
    "$$\\frac{\\partial}{\\partial t} + \\sum_i \\{D_N, \\mathcal{H}_i\\} = 0$$\n",
    "\n",
    "where the bracket \n",
    "\n",
    "$$\\{D_N, \\mathcal{H}_i\\} = \\frac{\\partial \\mathcal{H}_i}{\\partial \\vec{x}_i}\\cdot \\frac{\\partial D_N}{\\partial \\vec{p}_i} - \\frac{\\partial\\mathcal{H}_i}{\\partial \\vec{p}_i}\\frac{\\partial D_N}{\\partial \\vec{x}_i}$$"
   ]
  },
  {
   "cell_type": "markdown",
   "metadata": {},
   "source": [
    "$$\\frac{\\partial\\mathcal{H}_i}{\\partial\\vec{p}_i} = \\frac{1}{2m}\\frac{\\partial}{\\partial\\vec{p}_i}(\\vec{p}_i\\cdot\\vec{p}_i) = \\frac{2\\vec{p}_i\\cdot\\frac{\\partial\\vec{p}_i}{\\partial\\vec{p}_i}}{2m} =  \\frac{2\\vec{p}_i\\cdot\\vec{\\vec{I}}}{2m}  =  \\frac{2\\vec{p}_i}{2m} = \\frac{2m\\vec{v}_i}{2m} = \\vec{v}_i $$\n",
    "\n",
    "$$\\frac{\\partial\\mathcal{H}_i}{\\partial\\vec{x}_i} = q_i \\frac{\\partial\\phi_i}{\\partial\\vec{x}_i}$$"
   ]
  },
  {
   "cell_type": "markdown",
   "metadata": {},
   "source": []
  }
 ],
 "metadata": {
  "kernelspec": {
   "display_name": "Python 2",
   "language": "python",
   "name": "python2"
  },
  "language_info": {
   "codemirror_mode": {
    "name": "ipython",
    "version": 2
   },
   "file_extension": ".py",
   "mimetype": "text/x-python",
   "name": "python",
   "nbconvert_exporter": "python",
   "pygments_lexer": "ipython2",
   "version": "2.7.3"
  }
 },
 "nbformat": 4,
 "nbformat_minor": 0
}

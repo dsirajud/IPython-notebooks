{
 "cells": [
  {
   "cell_type": "markdown",
   "metadata": {},
   "source": [
    "# CPython extensions for ufuncs\n",
    "\n",
    "We proceed in steps and personal education to discern build up from first learning how to incorporate C into Python and using the Python API for "
   ]
  },
  {
   "cell_type": "markdown",
   "metadata": {},
   "source": [
    "In this notebook, we make efforts to prototype a ufunc for Python 2.7 by using CPython and the Python API. From readings, we require the following ingredient list:\n",
    "\n",
    "### Bare minimum requirements for Python to run a C program\n",
    "\n",
    "#### 1. Include Python API and required libraries\n",
    "\n",
    "    #include <Python.h> \n",
    "    \n",
    "    /* links the Python API as well as accompanying C libraries: <code>stdlib.h, stdio.h, errno.h</code>, do not include spaces, only included here to sidestep markdown interpreter from striking the text. */"
   ]
  },
  {
   "cell_type": "markdown",
   "metadata": {},
   "source": [
    "#### 2. Function declaration\n",
    "\n",
    "    static PyObject * mod_fun (PyObject * self, PyObject * args);"
   ]
  },
  {
   "cell_type": "markdown",
   "metadata": {},
   "source": [
    "#### 3. Methods table\n",
    "\n",
    "    static PyMethodDef ModMethods[] = {\n",
    "        {\"funcname\", // e.g. \"logit\"\n",
    "         mod_fun,    // links to above function declaration\n",
    "         METH_VARARGS,\n",
    "         \"<docstring>\"},\n",
    "         {NULL, NULL, 0, NULL}\n",
    "         }\n",
    "         \n",
    "    // third entry with value 0 indicates legacy PyParser is used."
   ]
  },
  {
   "cell_type": "markdown",
   "metadata": {},
   "source": [
    "#### 4. Function definition\n",
    "\n",
    "    Static PyObject * mod_func (PyObject * self, PyObject * args)\n",
    "    {\n",
    "    \n",
    "    // declarations for local vars needed. Suppose there are 3 arguments, then need var1, var2, var3\n",
    "    \n",
    "    // unpack args to local vars, for the case of 3 local vars\n",
    "    if (!PyArg_ParseTuple(args, \"ttt\", &var1, &var2, &var3)\n",
    "    {\n",
    "    return NULL;\n",
    "    }\n",
    "    \n",
    "    /* each t is a cast for each parsed argument from the tuple args. t = i, d, etc., i = integer, d = double, etc.      * The parser returns True if no errors are encountered. If there is an error in input, NULL is returned \n",
    "     * and an error is thrown. The function works in C and generates C objects.\n",
    "     */\n",
    "     \n",
    "     // Convert C returns to PyObjects\n",
    "     \n",
    "     return Py_BuildValue(\"t\", &var1); // func returns PyObject *, can we returnr PyObject ** for multiple args?\n",
    "     \n",
    "     // if NoneType is returned, must use PyINCREF to generate NoneType object\n",
    "     "
   ]
  },
  {
   "cell_type": "markdown",
   "metadata": {},
   "source": [
    "#### 5. Pass methods table to interpreter in initialization function (must be called initmod())\n",
    "\n",
    "    PyMODINIT_FUNC\n",
    "    {\n",
    "        (void) Py_InitModule(\"mod\", ModMethods);\n",
    "    }\n",
    "    "
   ]
  },
  {
   "cell_type": "markdown",
   "metadata": {},
   "source": [
    "#### 6. Compile and link manually or create a setup.py \"Makefile\" to build.    "
   ]
  },
  {
   "cell_type": "markdown",
   "metadata": {},
   "source": [
    "### <font color = \"blue\">Objective 1: create a Python-C \"test\" module with function $\\text{expsin}(x) = e^{2x} + \\sin(x)$</font>"
   ]
  },
  {
   "cell_type": "markdown",
   "metadata": {},
   "source": [
    "#### testmodule.c"
   ]
  },
  {
   "cell_type": "code",
   "execution_count": null,
   "metadata": {
    "collapsed": true
   },
   "outputs": [],
   "source": [
    "// 1. Include Python API and required libraries\n",
    "#include <Python.h>\n",
    "#include <math.h>\n",
    "\n",
    "/*\n",
    " * testmodule.c\n",
    " * This is the C code for a non-numpy Python extension to\n",
    " * define the expsin function, where expsin(p) = exp(2*x) + sin(x).\n",
    " * This function will not work on numpy arrays automatically.\n",
    " * numpy.vectorize must be called in python to generate\n",
    " * a numpy-friendly function.\n",
    " *\n",
    " * Details explaining the Python-C API can be found under\n",
    " * 'Extending and Embedding' and 'Python/C API' at\n",
    " * docs.python.org .\n",
    " */\n",
    "\n",
    "\n",
    "// 2. Function declaration\n",
    "\n",
    "static PyObject * test_expsin (PyObject * self, PyObject * args);\n",
    "\n",
    "// 3. Methods table\n",
    "static PyMethodDef TestMethods[] = {\n",
    "  {\"expsin\",\n",
    "   test_expsin,\n",
    "   METH_VARARGS,\n",
    "   \"returns the the value expsin(p) = exp(2*x) + sin(x)\"},\n",
    "  {NULL, NULL, 0, NULL}\n",
    "\n",
    "};\n",
    "\n",
    "// 4. Function definition\n",
    "\n",
    "  static PyObject * test_expsin (PyObject * self, PyObject * args)\n",
    "  {\n",
    "\n",
    "    double p;\n",
    "\n",
    "    if (!PyArg_ParseTuple(args, \"d\", &p))\n",
    "\treturn NULL;\n",
    "\n",
    "    p = exp(2*p) + sin(p);\n",
    "\n",
    "    return Py_BuildValue (\"d\", p);\n",
    "\t\n",
    "  }\n",
    "\n",
    "\n",
    "// 5. Initialization function \n",
    "\n",
    "PyMODINIT_FUNC\n",
    "inittest(void)\n",
    "{\n",
    "  PyObject * m;\n",
    "  m = Py_InitModule(\"test\", TestMethods);\n",
    "  if (m == NULL) \n",
    "    return;\n",
    "}"
   ]
  },
  {
   "cell_type": "markdown",
   "metadata": {},
   "source": [
    "#### setup.py (\"Makefile\")"
   ]
  },
  {
   "cell_type": "code",
   "execution_count": null,
   "metadata": {
    "collapsed": true
   },
   "outputs": [],
   "source": []
  },
  {
   "cell_type": "code",
   "execution_count": null,
   "metadata": {
    "collapsed": true
   },
   "outputs": [],
   "source": [
    "\"\"\"\n",
    "    setup.py file for testmodule.c\n",
    "\n",
    "    Calling\n",
    "    $python setup.py build_ext --inplace\n",
    "    will build the extension library in the current file.\n",
    "    \n",
    "    See the distutils section of\n",
    "    'Extending and Embedding the Python Interpreter'\n",
    "    at docs.python.org for more information.\n",
    "\"\"\"\n",
    "\n",
    "\n",
    "from distutils.core import setup, Extension\n",
    "\n",
    "module1 = Extension('test', sources=['testmodule.c'],\n",
    "                        include_dirs=['/usr/local/lib'])\n",
    "\n",
    "# Extension ( 'nameofextension to be .so, if in lib/, then lib.test', sources=['filepath'])\n",
    "\n",
    "setup(name = 'test',\n",
    "        version='1.0',\n",
    "        description='This is my test package',\n",
    "        ext_modules = [module1])\n"
   ]
  },
  {
   "cell_type": "markdown",
   "metadata": {},
   "source": [
    "This works for single doubles. We need to extend this to work on numpy arrays."
   ]
  },
  {
   "cell_type": "markdown",
   "metadata": {},
   "source": [
    "### <font color = \"blue\">Objective 2: create a ufunc for one dtype (double)</font>"
   ]
  },
  {
   "cell_type": "markdown",
   "metadata": {},
   "source": [
    "#### testmodule.c"
   ]
  },
  {
   "cell_type": "code",
   "execution_count": null,
   "metadata": {
    "collapsed": true
   },
   "outputs": [],
   "source": [
    "// 1. Include Python API and required libraries\n",
    "#include \"Python.h\"\n",
    "#include \"math.h\"\n",
    "#include \"numpy/ndarraytypes.h\"\n",
    "#include \"numpy/ufuncobject.h\"\n",
    "#include \"numpy/npy_3kcompat.h\"\n",
    "\n",
    "/*\n",
    " * testmodule.c\n",
    " * This is the C code for creating your own\n",
    " * Numpy ufunc for a expsin function.\n",
    " *\n",
    " * In this code we only define the ufunc for\n",
    " * a single dtype. The computations that must\n",
    " * be replaced to create a ufunc for\n",
    " * a different function are marked with BEGIN\n",
    " * and END.\n",
    " *\n",
    " * Details explaining the Python-C API can be found under\n",
    " * 'Extending and Embedding' and 'Python/C API' at\n",
    " * docs.python.org .\n",
    " */\n",
    "\n",
    "// 3. Methods table\n",
    "static PyMethodDef TestMethods[] = {\n",
    "    {NULL, NULL, 0, NULL}\n",
    "};\n",
    "\n",
    "\n",
    "/* The loop definition must precede the PyMODINIT_FUNC. */\n",
    "static void double_expsin(char **args, npy_intp *dimensions,\n",
    "                            npy_intp* steps, void* data)\n",
    "{\n",
    "    npy_intp i;\n",
    "    npy_intp n = dimensions[0];\n",
    "    printf(\"n = %d\\n\", dimensions[0]);\n",
    "\n",
    "    char * in = args[0], char * out = args[1];\n",
    "    npy_intp in_step = steps[0], out_step = steps[1];\n",
    "    double tmp;\n",
    "\n",
    "    for (i = 0; i < n; i++) {\n",
    "        /*BEGIN main ufunc computation*/\n",
    "        tmp = *(double *)in;\n",
    "\t*((double *)out)  = exp(2*tmp) + sin(tmp);\n",
    "        printf(\"*out = %f\\n\", *(double *)out);\n",
    "        /*END main ufunc computation*/\n",
    "\n",
    "        in += in_step; // this is incremementing the pointer lol\n",
    "        out += out_step;\n",
    "\n",
    "        printf(\"*in = %f\", *(double *)in);\n",
    "    }\n",
    "}\n",
    "\n",
    "\n",
    "/*This a pointer to the above function*/\n",
    "PyUFuncGenericFunction funcs[1] = {&double_expsin};\n",
    "\n",
    "/* These are the input and return dtypes of expsin.*/\n",
    "static char types[2] = {NPY_DOUBLE, NPY_DOUBLE};\n",
    "\n",
    "/* This is extra parameters, if any, needed to compute the function eval. */\n",
    "static void *data[1] = {NULL};\n",
    "\n",
    "PyMODINIT_FUNC initnpufunc(void)\n",
    "{\n",
    "    PyObject *m, *expsin, *d;\n",
    "\n",
    "\n",
    "    m = Py_InitModule(\"npufunc\", TestMethods);\n",
    "    if (m == NULL) {\n",
    "        return;\n",
    "    }\n",
    "\n",
    "    import_array();\n",
    "    import_umath();\n",
    "\n",
    "    expsin = PyUFunc_FromFuncAndData(funcs, data, types, 1, 1, 1,\n",
    "                                    PyUFunc_None, \"expsin\",\n",
    "                                    \"expsin_docstring\", 0);\n",
    "\n",
    "    d = PyModule_GetDict(m);\n",
    "\n",
    "    PyDict_SetItemString(d, \"expsin\", expsin);\n",
    "    Py_DECREF(expsin);\n",
    "}\n"
   ]
  },
  {
   "cell_type": "markdown",
   "metadata": {},
   "source": [
    "#### setup.py"
   ]
  },
  {
   "cell_type": "code",
   "execution_count": null,
   "metadata": {
    "collapsed": true
   },
   "outputs": [],
   "source": [
    "\"\"\"\n",
    "    setup.py file for logit.c\n",
    "    Note that since this is a numpy extension\n",
    "    we use numpy.distutils instead of\n",
    "    distutils from the python standard library.\n",
    "\n",
    "    Calling\n",
    "    $python setup.py build_ext --inplace\n",
    "    will build the extension library in the current file.\n",
    "\n",
    "    Calling\n",
    "    $python setup.py build\n",
    "    will build a file that looks like ./build/lib*, where\n",
    "    lib* is a file that begins with lib. The library will\n",
    "    be in this file and end with a C library extension,\n",
    "    such as .so\n",
    "\n",
    "    Calling\n",
    "    $python setup.py install\n",
    "    will install the module in your site-packages file.\n",
    "\n",
    "    See the distutils section of\n",
    "    'Extending and Embedding the Python Interpreter'\n",
    "    at docs.python.org  and the documentation\n",
    "    on numpy.distutils for more information.\n",
    "\"\"\"\n",
    "def configuration(parent_package='', top_path=None):\n",
    "    import numpy\n",
    "    from numpy.distutils.misc_util import Configuration\n",
    "\n",
    "    config = Configuration('npufunc_directory',\n",
    "                           parent_package,\n",
    "                           top_path)\n",
    "    config.add_extension('npufunc', ['testmodule.c'])\n",
    "\n",
    "    return config\n",
    "\n",
    "if __name__ == \"__main__\":\n",
    "    from numpy.distutils.core import setup\n",
    "    setup(configuration=configuration)\n"
   ]
  },
  {
   "cell_type": "markdown",
   "metadata": {},
   "source": [
    "### <font color = \"blue\">Objective 3: create a ufunc for multiple dtypes (double, float, half float, ...)</font>\n",
    "\n",
    "The construction amounts to using the same skeleton as in Objective 2, and to also include alternative versions for each dtype. No #if directives or anything needs to be defined."
   ]
  },
  {
   "cell_type": "markdown",
   "metadata": {},
   "source": [
    "#### testmodule.c"
   ]
  },
  {
   "cell_type": "code",
   "execution_count": null,
   "metadata": {
    "collapsed": true
   },
   "outputs": [],
   "source": [
    "// 1. Include Python API and required libraries\n",
    "#include \"Python.h\"\n",
    "#include \"math.h\"\n",
    "#include \"numpy/ndarraytypes.h\"\n",
    "#include \"numpy/ufuncobject.h\"\n",
    "#include \"numpy/halffloat.h\"\n",
    "\n",
    "/*\n",
    " * testmodule.c\n",
    " * This is the C code for creating your own\n",
    " * Numpy ufunc for a expsin function.\n",
    " *\n",
    " * Each function of the form type_expsin defines the\n",
    " * expsin function for a different numpy dtype. Each\n",
    " * of these functions must be modified when you\n",
    " * create your own ufunc. The computations that must\n",
    " * be replaced to create a ufunc for\n",
    " * a different funciton are marked with BEGIN\n",
    " * and END.\n",
    " *\n",
    " * Details explaining the Python-C API can be found under\n",
    " * 'Extending and Embedding' and 'Python/C API' at\n",
    " * docs.python.org .\n",
    " *\n",
    " */\n",
    "\n",
    "// 3. Methods table\n",
    "static PyMethodDef TestMethods[] = {\n",
    "    {NULL, NULL, 0, NULL}\n",
    "};\n",
    "\n",
    "\n",
    "/* The loop definition must precede the PyMODINIT_FUNC. */\n",
    "static void long_double_expsin(char **args, npy_intp *dimensions,\n",
    "                            npy_intp* steps, void* data)\n",
    "{\n",
    "    npy_intp i;\n",
    "    npy_intp n = dimensions[0];\n",
    "    char * in = args[0];\n",
    "    char * out = args[1];\n",
    "    npy_intp in_step = steps[0]; \n",
    "    npy_intp out_step = steps[1];\n",
    "    \n",
    "    long double tmp;\n",
    "\n",
    "    for (i = 0; i < n; i++) {\n",
    "        /*BEGIN main ufunc computation*/\n",
    "        tmp = *(long double *)in;\n",
    "\t*((long double *)out)  = exp(2*tmp) + sin(tmp);\n",
    "        /*END main ufunc computation*/\n",
    "\n",
    "        in += in_step; \n",
    "        out += out_step;\n",
    "    }\n",
    "}\n",
    "\n",
    "static void double_expsin(char **args, npy_intp *dimensions,\n",
    "                            npy_intp* steps, void* data)\n",
    "{\n",
    "    npy_intp i;\n",
    "    npy_intp n = dimensions[0];\n",
    "    char * in = args[0];\n",
    "    char * out = args[1];\n",
    "    npy_intp in_step = steps[0]; \n",
    "    npy_intp out_step = steps[1];\n",
    "    \n",
    "    double tmp;\n",
    "\n",
    "    for (i = 0; i < n; i++) {\n",
    "        /*BEGIN main ufunc computation*/\n",
    "        tmp = *(double *)in;\n",
    "\t*((double *)out)  = exp(2*tmp) + sin(tmp);\n",
    "        /*END main ufunc computation*/\n",
    "\n",
    "        in += in_step; \n",
    "        out += out_step;\n",
    "    }\n",
    "}\n",
    "\n",
    "static void float_expsin(char **args, npy_intp *dimensions,\n",
    "                            npy_intp* steps, void* data)\n",
    "{\n",
    "    npy_intp i;\n",
    "    npy_intp n = dimensions[0];\n",
    "    char * in = args[0];\n",
    "    char * out = args[1];\n",
    "    npy_intp in_step = steps[0]; \n",
    "    npy_intp out_step = steps[1];\n",
    "    \n",
    "    float tmp;\n",
    "\n",
    "    for (i = 0; i < n; i++) {\n",
    "        /*BEGIN main ufunc computation*/\n",
    "        tmp = *(float *)in;\n",
    "\t*((float *)out)  = exp(2*tmp) + sin(tmp);\n",
    "        /*END main ufunc computation*/\n",
    "\n",
    "        in += in_step; \n",
    "        out += out_step;\n",
    "    }\n",
    "}\n",
    "\n",
    "static void half_float_expsin(char **args, npy_intp *dimensions,\n",
    "                            npy_intp* steps, void* data)\n",
    "{\n",
    "    npy_intp i;\n",
    "    npy_intp n = dimensions[0];\n",
    "    char * in = args[0];\n",
    "    char * out = args[1];\n",
    "    npy_intp in_step = steps[0]; \n",
    "    npy_intp out_step = steps[1];\n",
    "    \n",
    "    float tmp;\n",
    "\n",
    "    for (i = 0; i < n; i++) {\n",
    "        /*BEGIN main ufunc computation*/\n",
    "        tmp = *(npy_half *)in;\n",
    "        tmp = npy_half_to_float(tmp);\n",
    "\ttmp  = exp(2*tmp) + sin(tmp);\n",
    "        *((npy_half *)out) = npy_float_to_half(tmp);\n",
    "        /*END main ufunc computation*/\n",
    "\n",
    "        in += in_step; \n",
    "        out += out_step;\n",
    "    }\n",
    "}\n",
    "\n",
    "\n",
    "/*This a pointer to the above function*/\n",
    "PyUFuncGenericFunction funcs[4] = {&long_double_expsin,\n",
    "\t\t\t\t     &double_expsin,\n",
    "\t\t\t\t     &float_expsin,\n",
    "\t\t\t\t     &half_float_expsin};\n",
    "\n",
    "/* These are the input and return dtypes of expsin.*/\n",
    "static char types[8] = {NPY_LONGDOUBLE, NPY_LONGDOUBLE,\n",
    "\t\t\t  NPY_DOUBLE, NPY_DOUBLE,\n",
    "\t\t\t  NPY_FLOAT, NPY_FLOAT,\n",
    "\t\t\t  NPY_HALF, NPY_HALF};\n",
    "\n",
    "/* This is extra parameters, if any, needed to compute the function eval. */\n",
    "static void *data[4] = {NULL,\n",
    "\t\t\t  NULL,\n",
    "\t\t\t  NULL,\n",
    "\t\t\t  NULL};\n",
    "\n",
    "PyMODINIT_FUNC initnpufunc(void)\n",
    "{\n",
    "    PyObject *m, *expsin, *d;\n",
    "\n",
    "\n",
    "    m = Py_InitModule(\"npufunc\", TestMethods);\n",
    "    if (m == NULL) {\n",
    "        return;\n",
    "    }\n",
    "\n",
    "    import_array();\n",
    "    import_umath();\n",
    "\n",
    "    expsin = PyUFunc_FromFuncAndData(funcs, data, types, 4, 1, 1,\n",
    "                                    PyUFunc_None, \"expsin\",\n",
    "                                    \"expsin_docstring\", 0);\n",
    "\n",
    "// ntypes = 4 varieties of this ufunc (4 dtypes)\n",
    "\n",
    "    d = PyModule_GetDict(m);\n",
    "\n",
    "    PyDict_SetItemString(d, \"expsin\", expsin);\n",
    "    Py_DECREF(expsin);\n",
    "}\n"
   ]
  },
  {
   "cell_type": "markdown",
   "metadata": {},
   "source": [
    "#### setup.py"
   ]
  },
  {
   "cell_type": "code",
   "execution_count": null,
   "metadata": {
    "collapsed": true
   },
   "outputs": [],
   "source": [
    "\"\"\"\n",
    "    setup.py file for logit.c\n",
    "    Note that since this is a numpy extension\n",
    "    we use numpy.distutils instead of\n",
    "    distutils from the python standard library.\n",
    "\n",
    "    Calling\n",
    "    $python setup.py build_ext --inplace\n",
    "    will build the extension library in the current file.\n",
    "\n",
    "    Calling\n",
    "    $python setup.py build\n",
    "    will build a file that looks like ./build/lib*, where\n",
    "    lib* is a file that begins with lib. The library will\n",
    "    be in this file and end with a C library extension,\n",
    "    such as .so\n",
    "\n",
    "    Calling\n",
    "    $python setup.py install\n",
    "    will install the module in your site-packages file.\n",
    "\n",
    "    See the distutils section of\n",
    "    'Extending and Embedding the Python Interpreter'\n",
    "    at docs.python.org  and the documentation\n",
    "    on numpy.distutils for more information.\n",
    "\"\"\"\n",
    "\n",
    "\n",
    "def configuration(parent_package='', top_path=None):\n",
    "    import numpy\n",
    "    from numpy.distutils.misc_util import Configuration\n",
    "    from numpy.distutils.misc_util import get_info\n",
    "\n",
    "    #Necessary for the half-float d-type.\n",
    "    info = get_info('npymath')\n",
    "\n",
    "    config = Configuration('npufunc_directory',\n",
    "                            parent_package,\n",
    "                            top_path)\n",
    "    config.add_extension('npufunc',\n",
    "                            ['testmodule.c'],\n",
    "                            extra_info=info)\n",
    "\n",
    "    return config\n",
    "\n",
    "if __name__ == \"__main__\":\n",
    "    from numpy.distutils.core import setup\n",
    "    setup(configuration=configuration)"
   ]
  },
  {
   "cell_type": "markdown",
   "metadata": {},
   "source": [
    "## <font color = \"magenta\">Timeit comparison</font>\n",
    "\n",
    "Let's compare the ufunc above with the naive extension from objective 1 (i.e. we have manipulated Python to accept a C program, but it does exactly what the Python version does so there is no efficiency increase). First, note that the objective 1 fuction expsin works only on scalars. We can use a numpy.vectorize to force it to accept numpy arrays (note: this is not fancy, it <i>is</i> just (Python) looping through every single element). The function generates the trivial script needed to do this without us having to code it."
   ]
  },
  {
   "cell_type": "markdown",
   "metadata": {},
   "source": [
    "### Timeit: Objective 1 function\n",
    "\n",
    "move into working directory"
   ]
  },
  {
   "cell_type": "code",
   "execution_count": 1,
   "metadata": {
    "collapsed": false
   },
   "outputs": [
    {
     "name": "stdout",
     "output_type": "stream",
     "text": [
      "/home/dsirajud/Work/IPython-notebooks/TN-06 -- CPython extensions as ufuncs/pyfiles/objective_1\n"
     ]
    }
   ],
   "source": [
    "cd pyfiles/objective_1/"
   ]
  },
  {
   "cell_type": "code",
   "execution_count": 6,
   "metadata": {
    "collapsed": false
   },
   "outputs": [
    {
     "name": "stdout",
     "output_type": "stream",
     "text": [
      "running build_ext\n",
      "building 'test' extension\n",
      "creating build\n",
      "creating build/temp.linux-x86_64-2.7\n",
      "gcc -pthread -fno-strict-aliasing -DNDEBUG -g -fwrapv -O2 -Wall -Wstrict-prototypes -fPIC -I/usr/local/lib -I/usr/include/python2.7 -c testmodule.c -o build/temp.linux-x86_64-2.7/testmodule.o\n",
      "gcc -pthread -shared -Wl,-O1 -Wl,-Bsymbolic-functions -Wl,-Bsymbolic-functions -Wl,-z,relro build/temp.linux-x86_64-2.7/testmodule.o -o /home/dsirajud/Work/IPython-notebooks/TN-06 -- CPython extensions as ufuncs/pyfiles/objective_1/test.so\n"
     ]
    }
   ],
   "source": [
    "run setup build_ext --inplace"
   ]
  },
  {
   "cell_type": "markdown",
   "metadata": {},
   "source": [
    "Which generates the importable python extension module test.so, i.e."
   ]
  },
  {
   "cell_type": "code",
   "execution_count": 7,
   "metadata": {
    "collapsed": false
   },
   "outputs": [
    {
     "name": "stdout",
     "output_type": "stream",
     "text": [
      "\u001b[0m\u001b[01;34mbuild\u001b[0m/  setup.py  testmodule.c  \u001b[01;32mtest.so\u001b[0m*\r\n"
     ]
    }
   ],
   "source": [
    "ls"
   ]
  },
  {
   "cell_type": "code",
   "execution_count": 2,
   "metadata": {
    "collapsed": false
   },
   "outputs": [
    {
     "name": "stdout",
     "output_type": "stream",
     "text": [
      "The slowest run took 8.06 times longer than the fastest. This could mean that an intermediate result is being cached \n",
      "1 loops, best of 3: 155 ms per loop\n"
     ]
    }
   ],
   "source": [
    "%%timeit\n",
    "import numpy as np\n",
    "import test\n",
    "\n",
    "a = np.linspace(0,1,1000000).reshape(1000,1000)\n",
    "expsin = np.vectorize(test.expsin)\n",
    "\n",
    "expsin(a)\n"
   ]
  },
  {
   "cell_type": "markdown",
   "metadata": {},
   "source": [
    "### Timeit: Objective 3 function (ufunc)\n",
    "\n",
    "move into working directory"
   ]
  },
  {
   "cell_type": "code",
   "execution_count": 3,
   "metadata": {
    "collapsed": false
   },
   "outputs": [
    {
     "name": "stdout",
     "output_type": "stream",
     "text": [
      "/home/dsirajud/Work/IPython-notebooks/TN-06 -- CPython extensions as ufuncs/pyfiles/objective_3\n"
     ]
    }
   ],
   "source": [
    "cd ../objective_3/"
   ]
  },
  {
   "cell_type": "code",
   "execution_count": 11,
   "metadata": {
    "collapsed": false
   },
   "outputs": [
    {
     "name": "stdout",
     "output_type": "stream",
     "text": [
      "running build_ext\n",
      "running build_src\n",
      "build_src\n",
      "building extension \"npufunc_directory.npufunc\" sources\n",
      "build_src: building npy-pkg config files\n",
      "customize UnixCCompiler\n",
      "customize UnixCCompiler using build_ext\n",
      "building 'npufunc_directory.npufunc' extension\n",
      "compiling C sources\n",
      "C compiler: gcc -pthread -fno-strict-aliasing -DNDEBUG -g -fwrapv -O2 -Wall -Wstrict-prototypes -fPIC\n",
      "\n",
      "creating build\n",
      "creating build/temp.linux-x86_64-2.7\n",
      "compile options: '-I/usr/lib/python2.7/dist-packages/numpy/core/include -I/usr/lib/python2.7/dist-packages/numpy/core/include -I/usr/include/python2.7 -c'\n",
      "gcc: testmodule.c\n",
      "creating npufunc_directory\n",
      "gcc -pthread -shared -Wl,-O1 -Wl,-Bsymbolic-functions -Wl,-Bsymbolic-functions -Wl,-z,relro build/temp.linux-x86_64-2.7/testmodule.o -L/usr/lib/python2.7/dist-packages/numpy/core/lib -lnpymath -lm -o npufunc_directory/npufunc.so\n",
      "running scons\n"
     ]
    },
    {
     "name": "stderr",
     "output_type": "stream",
     "text": [
      "Warning: distutils distribution has been initialized, it may be too late to add an extension npufunc"
     ]
    }
   ],
   "source": [
    "run setup build_ext --inplace"
   ]
  },
  {
   "cell_type": "markdown",
   "metadata": {},
   "source": [
    "Which generates the importable python extension module npufunc.so contained (as we specify in setup.py in a separate directory npufunc_directory/), i.e."
   ]
  },
  {
   "cell_type": "code",
   "execution_count": 12,
   "metadata": {
    "collapsed": false
   },
   "outputs": [
    {
     "name": "stdout",
     "output_type": "stream",
     "text": [
      "\u001b[0m\u001b[01;34mbuild\u001b[0m/  \u001b[01;34mnpufunc_directory\u001b[0m/  setup.py  testmodule.c\r\n"
     ]
    }
   ],
   "source": [
    "ls"
   ]
  },
  {
   "cell_type": "code",
   "execution_count": 13,
   "metadata": {
    "collapsed": false
   },
   "outputs": [
    {
     "name": "stdout",
     "output_type": "stream",
     "text": [
      "\u001b[0m\u001b[01;32mnpufunc.so\u001b[0m*\r\n"
     ]
    }
   ],
   "source": [
    "ls npufunc_directory/"
   ]
  },
  {
   "cell_type": "code",
   "execution_count": 4,
   "metadata": {
    "collapsed": false
   },
   "outputs": [
    {
     "name": "stdout",
     "output_type": "stream",
     "text": [
      "/home/dsirajud/Work/IPython-notebooks/TN-06 -- CPython extensions as ufuncs/pyfiles/objective_3/npufunc_directory\n"
     ]
    }
   ],
   "source": [
    "cd npufunc_directory/"
   ]
  },
  {
   "cell_type": "code",
   "execution_count": 5,
   "metadata": {
    "collapsed": false
   },
   "outputs": [
    {
     "name": "stdout",
     "output_type": "stream",
     "text": [
      "10 loops, best of 3: 43.7 ms per loop\n"
     ]
    }
   ],
   "source": [
    "%%timeit\n",
    "import numpy as np\n",
    "import npufunc\n",
    "\n",
    "a = np.linspace(0,1,1000000).reshape(1000,1000)\n",
    "\n",
    "npufunc.expsin(a)\n"
   ]
  },
  {
   "cell_type": "markdown",
   "metadata": {},
   "source": [
    "## <font color = \"blue\">Conclusion</font>"
   ]
  },
  {
   "cell_type": "markdown",
   "metadata": {
    "collapsed": true
   },
   "source": [
    "so we see a speed increase by a factor of:"
   ]
  },
  {
   "cell_type": "code",
   "execution_count": 7,
   "metadata": {
    "collapsed": false
   },
   "outputs": [
    {
     "data": {
      "text/plain": [
       "3.5469107551487413"
      ]
     },
     "execution_count": 7,
     "metadata": {},
     "output_type": "execute_result"
    }
   ],
   "source": [
    "155 / 43.7"
   ]
  },
  {
   "cell_type": "markdown",
   "metadata": {},
   "source": [
    "which is a typical speedup that we can expect (a factor of 3 seems to be a usual floor to transferring to C from a previous Python implementation)."
   ]
  },
  {
   "cell_type": "markdown",
   "metadata": {
    "collapsed": true
   },
   "source": [
    "In this notebook, we have assembled in easy steps a python ufunc that is a precompiled C program which Python accepts and executes. In particular, the scope of ufuncs are on numpy arrays, which perform element-wise computations much faster than the interpretive execution raw Python must do."
   ]
  }
 ],
 "metadata": {
  "kernelspec": {
   "display_name": "Python 2",
   "language": "python",
   "name": "python2"
  },
  "language_info": {
   "codemirror_mode": {
    "name": "ipython",
    "version": 2
   },
   "file_extension": ".py",
   "mimetype": "text/x-python",
   "name": "python",
   "nbconvert_exporter": "python",
   "pygments_lexer": "ipython2",
   "version": "2.7.3"
  }
 },
 "nbformat": 4,
 "nbformat_minor": 0
}

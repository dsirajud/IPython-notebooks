{
 "cells": [
  {
   "cell_type": "markdown",
   "metadata": {},
   "source": [
    "# DECSKS-18: 1D1V two species Vlasov-Poisson boundary problems\n",
    "\n",
    "## Objectives\n",
    "\n",
    "In this notebook we take steps to add functionality to DECSKS to handle non-periodic boundary conditions. In particular, we make steps to set up Dirichlet problems in the $x$ direction, while in $v_x$ we keep periodic boundaries. A to-do list includes:\n",
    "\n",
    "<ol>\n",
    "<li> Include a Dirichlet finite difference Poisson solver for electric potential $\\phi$ calculation (cf. <a href = \"https://github.com/dsirajud/IPython-notebooks/blob/master/DECSKS-04%20--%20Design%20of%20a%206th%20order%20FD%20Poisson%20solver/DECSKS-04%20--%20Design%20of%20a%206th%20order%20FD%20Poisson%20solver.ipynb\">DECSKS-04</a>); already coded and benchmarked.\n",
    "<li> <u>Extension</u>: the routine <code>lib.convect.finalize_density</code> must be modified to handle mixed boundary conditions so that the correct sized density container is returned after each runthrough of <code>lib.convect.scheme</code>. This step can either be done generally, or we may suffice to just code the routine in this version to expect Dirichlet boundaries in $x$, and periodic boundaries in $v_x$.\n",
    "<li> <u>Addition</u>: a routine <code>lib.boundaryconditions.Dirichlet</code> will be added to the package <code>lib.boundaryconditions</code>.\n",
    "<li> <u>Extension</u> (to be completed after the above are settled): a subroutine <code>lib.boundarycondtions.Dirichlet.chargedwall</code> will be included so that the potential can be calculated based on the charge density reaching the wall at each time substep.\n",
    "</ol>"
   ]
  }
 ],
 "metadata": {
  "kernelspec": {
   "display_name": "Python 2",
   "language": "python",
   "name": "python2"
  },
  "language_info": {
   "codemirror_mode": {
    "name": "ipython",
    "version": 2
   },
   "file_extension": ".py",
   "mimetype": "text/x-python",
   "name": "python",
   "nbconvert_exporter": "python",
   "pygments_lexer": "ipython2",
   "version": "2.7.3"
  }
 },
 "nbformat": 4,
 "nbformat_minor": 0
}

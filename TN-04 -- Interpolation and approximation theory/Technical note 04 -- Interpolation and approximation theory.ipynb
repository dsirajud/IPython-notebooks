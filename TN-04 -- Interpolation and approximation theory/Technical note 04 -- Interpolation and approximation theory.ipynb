{
 "cells": [
  {
   "cell_type": "markdown",
   "metadata": {},
   "source": [
    "# Approximation theory\n",
    "\n",
    "we quote the following for motivation: \"For every predefined table of interpolation nodes there is a continuous function for which the sequence of interpolation polynomials on those nodes diverges.[6] For every continuous function there is a table of nodes on which the interpolation process converges.[citation needed] Chebyshev interpolation (i.e., on Chebyshev nodes) converges uniformly for every absolutely continuous function.\"\n",
    "\n",
    "That is, we seek a function $P(x)$ that interpolates a function $f$ of $x$ over a domain $\\mathcal{D}$ using representative sample points (nodes) $x_i$ in the domain which the function $P$ is designed to agree with exactly. That The approximation theory problem is to find such a function that minimizes a measure of the error, e.g.\n",
    "\n",
    "$$\\min_{x\\in\\mathcal{D}}||P(x) - f(x)||$$\n",
    "\n",
    "e.g. if we wish to minimize the maximum error, we use the $L^{\\infty}$ norm to a small number $\\varepsilon$,\n",
    "\n",
    "$$\\min_{x\\in\\mathcal{D}}\\left\\{ \\max_{x\\in\\mathcal{D}} |P(x) - f(x)|\\right\\} = \\varepsilon$$\n",
    "\n",
    "It is a fundamental result of approximation theory that a polynomial, for example, of degree $N$, $P_N$ can interpolate $N+1$ points exactly. In the course of finding such a polynomial, an <b>optimal polynomial</b> of degree $N$, $P_N$, is such a function that can interpolate $N+1$ points and which is said to <b>level</b>, i.e. it's error curve oscillates betwen $\\pm \\varepsilon$, $\\varepsilon\\in\\mathbb{R}$ and has $N+2$ extrema. It this latter point that gives rise to <b>Runge's phenomenon</b>, a phenomenon whereby increasing the number of points (hence, the order of the polynomial $N$) on a uniformly spaced grid decreases the agreement with the actual function due to oscillating between the $N+2$ extrema. These tend to \"accumulate\" near the node edges, so that a ringing phenomenon is observed at the edges of the domain."
   ]
  },
  {
   "cell_type": "markdown",
   "metadata": {},
   "source": [
    "## Runge's phenomenon\n",
    "\n",
    "> test\n",
    "\n",
    "1. list 2\n",
    "2. list 3\n",
    "7. list 7\n",
    "\n",
    "<hr/>\n",
    "\n",
    "fdsaf *bold* or _bold_ ** bold **\n",
    "\n",
    "nesting\n",
    "\n",
    "1. Lists an item\n",
    "    - indented four space\n",
    "        * indented 8 space\n",
    "    - fdsa\n",
    "    "
   ]
  },
  {
   "cell_type": "markdown",
   "metadata": {},
   "source": [
    "# References\n",
    "\n",
    "[1] Runge's phenomenon. (2015, May 21). In Wikipedia, The Free Encyclopedia. Retrieved 22:32, July 6, 2015, from https://en.wikipedia.org/w/index.php?title=Runge%27s_phenomenon&oldid=663444092\n"
   ]
  },
  {
   "cell_type": "code",
   "execution_count": null,
   "metadata": {
    "collapsed": true
   },
   "outputs": [],
   "source": []
  }
 ],
 "metadata": {
  "kernelspec": {
   "display_name": "Python 2",
   "language": "python",
   "name": "python2"
  },
  "language_info": {
   "codemirror_mode": {
    "name": "ipython",
    "version": 2
   },
   "file_extension": ".py",
   "mimetype": "text/x-python",
   "name": "python",
   "nbconvert_exporter": "python",
   "pygments_lexer": "ipython2",
   "version": "2.7.3"
  }
 },
 "nbformat": 4,
 "nbformat_minor": 0
}

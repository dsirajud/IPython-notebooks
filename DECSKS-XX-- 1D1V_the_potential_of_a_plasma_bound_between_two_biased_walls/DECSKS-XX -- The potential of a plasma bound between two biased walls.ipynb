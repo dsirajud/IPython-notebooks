{
 "cells": [
  {
   "cell_type": "markdown",
   "metadata": {},
   "source": [
    "\n",
    "# DECSKS-XX: The potential of a plasma bound between two biased walls\n",
    "\n",
    "[<font color = \"magenta\">This notebook has been put on hold until Coulomb collisions have been included in DECSKS. It was realized such a system (bounded on both ends) cannot produce a steady state. Reassuringly, collisionless sheath analysis can be done, but we must (for example) consider different boundaries. One workable route is to have one end be an absorber, and to have the other end be a \"bulk plasma\" source. \n",
    "\n",
    "To understand the inconsistency present for for collisionless plasmas having a steady state when bounded by two walls, we quote Birsdall et. al [2, p.3192]:\n",
    "\n",
    "\"[The aforementioned simulations made a Boltzmann relation assumption on the electron distribution]. This is done to prevent an important inconsistency from arising in the analysis of the static potential profile [here, he means the steady state profile]. Consider the one-dimensional system of a symmetrical plasma bounded on both ends by conducting walls, which are not grounded (see Fig. 1). If the potential that results is monotonically decreasing between the center of the plasma and the walls, then all the injected ions are accelerated into the walls, while a certain fraction of the injected electrons are repelled by the collector sheath at each wall and are therefore trapped in the system. The velocity distribution function of the electrons that have bounced off the collector sheaths more than once will be truncated or cut off in both directions, since some of the injected electrons were energetic enough to traverse the collector sheaths and strike the walls. If the potential profile is static (i.e. no fluctuations in time), then the electrons cutoff velocity is likewise static in nature. For a truly collisionless, time-independent plasma, there is no mechanism present in the system that will repopulate the tail of the trapped electron distribution function. Therefore, it is not possible to maintain an equilibrium density of electrons, since the fraction of trapped electrons in the system will grow as more particles are injected. The ion density, however, will remain constant for a static potential profile. Herein lies the inconsistency of the collisionless assumption, since a constant ion density and a time-varying electron density implies a potential that changes with time. Each equilibrium, collisionless, bounded plasma model must there have some approximation that allows a constant electron density to be maintained.</font>]\n",
    "\n",
    "# Objectives\n",
    "\n",
    "This notebook aims to compare results obtained with DECSKS (collisionless solver) with a similar simulation given in [1] which was obtained with a PIC simulation under Fokker-Planck collisions."
   ]
  },
  {
   "cell_type": "markdown",
   "metadata": {},
   "source": [
    "# Test problem"
   ]
  },
  {
   "cell_type": "markdown",
   "metadata": {},
   "source": [
    "We examine the test problem:\n",
    "\n",
    "$$\\partial_t f_e + v_x\\partial_x f_e + \\partial_x\\phi \\partial_{v_x} f_e = 0$$\n",
    "\n",
    "$$\\partial_t f_i + v_x\\partial_x f_i - \\frac{1}{\\mu}\\partial_x\\phi \\partial_{v_x} f_i = 0$$\n",
    "\n",
    "$$x\\in [-L, L], v_x\\in [-V, V], t\\in [0,T]$$\n",
    "\n",
    "$$L = 498, V = 8, T\\in\\mathbb{R}^+, \\quad \\mu = m_i / m_e = 100, \\tau = T_{e,s} / T_{i,s} = 1$$\n",
    "\n",
    "We want to have a sufficiently large spatial domain so there is a clear distinction between the edge and bulk plasma, hence we choose $L = 249$, of which the total domain $|2L| = 498$ is divisible by 3. The boundary conditions are absorbing, and we replenish the lost charge species populations with a continuous supply of ions and electrons in the central 1/3 of the domain ($x\\in [166, 332]$) continuously while we leave the outer one-third of each side of the domain alone in order to be controlled by the plasma dynamics. The aim is to reach and analyze a steady state, which should be representative of a sheath. The source distributions are chosen as:\n",
    "\n",
    "$$f_e(t \\geq 0,x,v_x)  =  \\begin{cases}\\frac{1}{\\sqrt{2\\pi}}\\cdot\\exp \\left(-\\frac{1}{2}v_x^2\\right)  & 166 \\leq x \\leq 332 \\\\\n",
    "0 & \\text{else}\n",
    "\\end{cases}$$\n",
    "\n",
    "$$f_i(t \\geq 0,x,v_x)  =  \\begin{cases}\\frac{1}{\\sqrt{2\\pi \\tau/\\mu}}\\cdot\\exp \\left(-\\frac{1}{2\\tau / \\mu }v_x^2\\right)  & 166 \\leq x \\leq 332 \\\\\n",
    "0 & \\text{else}\n",
    "\\end{cases}$$"
   ]
  },
  {
   "cell_type": "markdown",
   "metadata": {},
   "source": [
    "As in [1], we set $\\mu = 100$, $\\tau = T_{e,s} / T_{i,s} = 1$ where $s$ labels the parameter as relating to the source. We use a subscript $\\infty$ to denote bulk plasma quantities. We have absorbing boundary conditions:\n",
    "\n",
    "<u>Boundary conditions on density</u>\n",
    "\n",
    "Where $L = 2\\pi / 0.3$, $V = 8$ $T$ depends on the simulation (see below), and $\\mu = 1836.15267389$ (hydrogen). We chose a uniform distribution for the ions each time so that quasineutrality is maintained given the electron distribution. The means for doing so has been discussed at length in <a href = \"https://github.com/dsirajud/IPython-notebooks/blob/master/DECSKS-17--%201D1V_two_species_differentiating_the_application_of_HOC/DECSKS-17%20--%201D1V_two_species_differentiating_the_application_of_HOC.ipynb\">DECSKS-17</a>. That is, the ion distribution is always:\n",
    "\n",
    "$$f_i(0,x,v_x) = \\frac{\\langle n_e\\rangle_x}{2V} = \\text{const}$$"
   ]
  },
  {
   "cell_type": "markdown",
   "metadata": {},
   "source": [
    "<u>Absorbing boundary conditions on density</u>\n",
    "\n",
    "<ol>\n",
    "<li>$f_{e,i}(t,x = -L, v_x < 0) = 0$\n",
    "<li>$f_{e,i}e(t,x = +L, v_x > 0) = 0$\n",
    "</ol>\n",
    "\n",
    "\n",
    "Per [1] we choose the bias potentials on the walls $\\phi (\\pm L)$ such that the quantity $(\\phi (+L) - \\phi (-L))= 20$ (note our units are normalized already, hence we surpress the factors included in [1]). Arbitrarily from this constraint, we decide on the following set:\n",
    "\n",
    "<u>Bias potentials at boundaries</u>\n",
    "\n",
    "<ol>\n",
    "<li>$\\phi (-L) = 0$\n",
    "<li>$\\phi (+L) = 20$\n",
    "</ol>"
   ]
  },
  {
   "cell_type": "markdown",
   "metadata": {},
   "source": [
    "## s18-05\n",
    "\n",
    "[input deck: <a href = \"https://github.com/dsirajud/IPython-notebooks/blob/master/DECSKS-18--%201D1V_two_species_boundary_problems/v2.0/DECSKS/etc/params_s18-05.dat\">etc/params_s18-05.dat</a>]\n",
    "\n",
    "The specifics include:\n",
    "\n",
    "<ul>\n",
    "<li>$f_e(0,x,v_x) = \\exp ( -v_x^2 / 2 ) / \\sqrt{2\\pi}$\n",
    "<li> $f_i(0,x,v_x) = \\langle n_e \\rangle / 16$\n",
    "<li> $N_x\\times N_{vx} = 240 \\times 300$ over $x\\in[-2\\pi / 0.3, 2\\pi / 0.3]\\times v_x\\in [-8, 8]$ for $t\\in [0, 88]$, $N_t = 2000$\n",
    "<li>split scheme: LF2, global error = $O(\\Delta t^2)$\n",
    "<li>CS solvers:\n",
    "<ul>\n",
    "<li>in $x$: global error=  $O(\\Delta x^7)$, finite difference corrections\n",
    "<li>in $v_x$: global error = $O(\\Delta v_x^7)$, Fourier corrections\n",
    "</ul>\n",
    "</ul>\n",
    "\n",
    "\n",
    "We compute the potential with a 6th order LTE accurate finite difference Poisson solver (see <a href = \"https://github.com/dsirajud/IPython-notebooks/blob/master/DECSKS-04%20--%20Design%20of%20a%206th%20order%20FD%20Poisson%20solver/DECSKS-04%20--%20Design%20of%20a%206th%20order%20FD%20Poisson%20solver.ipynb\">DECSKS-04</a>) and compute the required derivative that appears in the Vlasov equation by taking an explicit finite difference for the first order derivative with LTE of order 6 (see <a href = \"https://github.com/dsirajud/IPython-notebooks/blob/master/DECSKS-01%20--%20Generation%20of%20families%20of%20explicit%20finite%20difference%20schemes%20for%20derivatives%20of%20any%20order%20of%20chosen%20LTE/DECSKS-01%20--%20Generation%20of%20families%20of%20explicit%20finite%20difference%20schemes%20for%20derivatives%20of%20any%20order%20of%20chosen%20LTE.ipynb\">DECSKS-01</a>). The simulation stepped through at 0.6 ~ 0.9 seconds, and took around 25 minutes to complete. \n",
    "\n",
    "The domain as given in the previous section does not have self-consistent conditions on the potential, but enforced values (\"biased electrode problem\"). The left boundary is largely negative, the right boundary is largely positive. We anticipate the electrons to flow towards the right and be absorbed. The electrons may drag with them some slow ions, but overall the tendency of the ions on their own is to flow towards the left wall. At the end of simulation we expect depletion of ion and electron density everywhere (or at least should see suggestions it will happen if we run the simulation long enough)."
   ]
  },
  {
   "cell_type": "markdown",
   "metadata": {},
   "source": [
    "# References\n",
    "\n",
    "[1] Louizu, J., Dominski, J., Ricci, P., and Theiler, C. Phys. Plasmas <b>19</b>, 083507 (2102)"
   ]
  },
  {
   "cell_type": "code",
   "execution_count": null,
   "metadata": {
    "collapsed": true
   },
   "outputs": [],
   "source": []
  }
 ],
 "metadata": {
  "kernelspec": {
   "display_name": "Python 2",
   "language": "python",
   "name": "python2"
  },
  "language_info": {
   "codemirror_mode": {
    "name": "ipython",
    "version": 2
   },
   "file_extension": ".py",
   "mimetype": "text/x-python",
   "name": "python",
   "nbconvert_exporter": "python",
   "pygments_lexer": "ipython2",
   "version": "2.7.3"
  }
 },
 "nbformat": 4,
 "nbformat_minor": 0
}

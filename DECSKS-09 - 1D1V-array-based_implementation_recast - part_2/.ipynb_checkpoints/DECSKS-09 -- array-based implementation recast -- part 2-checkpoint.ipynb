{
 "cells": [
  {
   "cell_type": "markdown",
   "metadata": {},
   "source": [
    "# Array-based recast of DECSKS p2: <font color = \"red\">DECSKS-v1.2</font> $\\Rightarrow$ <font color = \"green\">DECSKS-v2.0</font>\n",
    "\n",
    "#### For easy identification: changes to the code are titled in <font color = \"green\">green</font> for DECSKS-v2.0 and in <font color = \"red\">red</font> for the old DECSKS-v1.2 code that is being analyzed here to discern the appropriate changes."
   ]
  },
  {
   "cell_type": "markdown",
   "metadata": {},
   "source": [
    "At this point we have created c (c.shape = (N, v.N)) and d (d.shape = (N, x.N, v.N)). Each column c[:,j] corresponds to the 1D advection problem for all $x$ MCs at a velocity $v_j$ on the mesh. Each 1D array d[dn,:,j] are the corresponding derivative coefficients for all $x$ at velocity $v_j$ for a derivative number $dn$ ($\\partial_x^{dn}$).\n",
    "\n",
    "For convenient referencing, the flux code is repeated here:"
   ]
  },
  {
   "cell_type": "markdown",
   "metadata": {},
   "source": [
    "####<font color = \"red\">DECSKS-v1.2: lib.convect.flux excerpt</font> "
   ]
  },
  {
   "cell_type": "code",
   "execution_count": null,
   "metadata": {
    "collapsed": true
   },
   "outputs": [],
   "source": [
    "    for q in range(1,sim_params['N']):\n",
    "        Uf += c[q]*d[:,q] # Flux = Uf + H.O.C. [High Order Corrections]"
   ]
  },
  {
   "cell_type": "markdown",
   "metadata": {},
   "source": [
    "Above, we are solving one 1D problem at a time, so c.shape = (N,), and d.shape = (x.N or v.N, N)\n",
    "\n",
    "Uf is updated according to an incremental update += above. This accomplishes the aforementioned HOC sum:\n"
   ]
  },
  {
   "cell_type": "markdown",
   "metadata": {},
   "source": [
    "$$[Uf]_{i,j} = \\sum\\limits_{q = 0}^{N-1} c_{q,i}d^{(q)}_{i,j}$$\n",
    "\n",
    "at each $i,j$."
   ]
  },
  {
   "cell_type": "markdown",
   "metadata": {},
   "source": [
    "We require pair-wise multiplication in the first dimension of each arrow and summing over them. This can be done with an inner product included as a single addition assignment instead of looping through and incrementing per +=.\n",
    "\n",
    "The above computation \n",
    "\n",
    "                for q in range(1, sim_params['N']):\n",
    "                    Uf += c[q]*d[:,q] \n",
    "    \n",
    "is now equivalent to in the 2D repurposing as:\n",
    "\n",
    "                Uf = np.zeros_like(f[n,:,:])\n",
    "                \n",
    "                for q in range(sim_params['N']):\n",
    "                    for j in range v.N:\n",
    "                        Uf[:,j] += c[q,j]*d[q,:,j]\n",
    "                        \n",
    "                        \n",
    "                        \n",
    "                        \n",
    "This is visualized in the 2D case as summing up product pairs along the third dimension of d and the first dimension c, that is we have the objects (repeated here for convenience):"
   ]
  },
  {
   "cell_type": "markdown",
   "metadata": {},
   "source": [
    "$$\\underline{\\underline{c}}_x = \\left(\\begin{array}{cccccccc}\n",
    "(-1)^0\\beta_0^{,0} & (-1)^0\\beta_0^{,1} & \\cdots & \\cdots & \\cdots & (-1)^0\\beta_0^{,N_v-2}  & (-1)^0\\beta_0^{,N_v-1} \\\\\n",
    "(-1)^1\\beta_1^{,0} & (-1)^1\\beta_1^{,1} & \\cdots & \\cdots & \\cdots & (-1)^1\\beta_1^{,N_v-2} & (-1)^1\\beta_1^{,N_v-1} \\\\\n",
    "(-1)^2\\beta_2^{,0} & (-1)^2\\beta_2^{,1} & \\cdots & \\cdots & \\cdots & (-1)^2\\beta_2^{,N_v-2} & (-1)^2\\beta_2^{,N_v-1} \\\\\n",
    "\\vdots  & \\vdots & &  &  & \\vdots & \\vdots \\\\\n",
    "\\vdots & \\vdots & &  &  & \\vdots & \\vdots \\\\\n",
    "(-1)^{N-2}\\beta_{N-2}^{,0} & (-1)^{N-2}\\beta_{N-2}^{,1} & \\cdots & \\cdots & \\cdots & (-1)^{N-2}\\beta_{N-2}^{,N_v-2} & (-1)^{N-2}\\beta_{N-2}^{,N_v -1}\\\\\n",
    "(-1)^{N-1}\\beta_{N-1}^{,0} & (-1)^{N-1}\\beta_{N-1}^{,1} & \\cdots & \\cdots & \\cdots & (-1)^{N-1}\\beta_{N-1}^{,N_v-2} & (-1)^{N-1}\\beta_{N-1}^{,N_v-1} \\\\\n",
    "\\end{array}\\right)_{N\\times N_v}\n",
    "$$"
   ]
  },
  {
   "cell_type": "markdown",
   "metadata": {},
   "source": [
    "equivalently,\n",
    "\n",
    "$$\\underline{\\underline{c}}_x = \\left(\\begin{array}{cccccccc}\n",
    "c_{0,0} & c_{0,1} & \\cdots & \\cdots & \\cdots & c_{0,N_v-2}  & c_{0,N_v-1} \\\\\n",
    "c_{1,0} & c_{1,1} & \\cdots & \\cdots & \\cdots & c_{0,N_v-2} & c_{0,N_v-1} \\\\\n",
    "\\vdots  & \\vdots & &  &  & \\vdots & \\vdots \\\\\n",
    "\\vdots & \\vdots & &  &  & \\vdots & \\vdots \\\\\n",
    "c_{N-2,0} & c_{N-2,0} & \\cdots & \\cdots & \\cdots & c_{N-2,N_v-2} & c_{N-2,N_v-1}\\\\\n",
    "c_{N-1,0} & c_{N-1,1} & \\cdots & \\cdots & \\cdots & c_{N-1,N_v-2} & c_{N-1,N_v-1} \\\\\n",
    "\\end{array}\\right)_{N\\times N_v}\n",
    "$$.\n",
    "\n",
    "where\n",
    "\n",
    "$$(\\underline{\\underline{c}})_x = (c_{dn,j}) \\qquad \\text{for } dn\\in [1,2,\\ldots N-1],j\\in [0,1,\\ldots N_v-1]$$ \n",
    "\n",
    "Again, each column $j$ has the same coefficients $\\{c\\}$ for all $x$ at that $v_j$."
   ]
  },
  {
   "cell_type": "markdown",
   "metadata": {},
   "source": [
    "and, \n",
    "\n",
    "$$d_{i,j}^{(dn)} = \\left.(\\Delta x)^{dn} \\frac{\\partial^{dn}f}{\\partial x}\\right\\rvert_{i,j}, \\qquad d_{i,j}^{(0)} = f_{i,j}$$\n",
    "\n",
    "or, in matrix form\n",
    "\n",
    "$$(\\underline{\\underline{d}}_x)_{N\\times N_x\\times N_v} = \\left\\{\\left(\\begin{array}{cccccccc}\n",
    "d^{(0)}_{0,0} & d^{(0)}_{0,1} & \\cdots & \\cdots & \\cdots & d^{(0)}_{0,N_v-2}  & d^{(0)}_{0,N_v-1} \\\\\n",
    "d^{(0)}_{1,0} & d^{(0)}_{1,1} & \\cdots & \\cdots & \\cdots & d^{(0)}_{0,N_v-2} & d^{(0)}_{0,N_v-1} \\\\\n",
    "\\vdots  & \\vdots & &  &  & \\vdots & \\vdots \\\\\n",
    "\\vdots & \\vdots & &  &  & \\vdots & \\vdots \\\\\n",
    "d^{(0)}_{N-2,0} & d^{(0)}_{N-2,0} & \\cdots & \\cdots & \\cdots & d^{(0)}_{N-2,N_v-2} & d^{(0)}_{N-2,N_v-1}\\\\\n",
    "d^{(0)}_{N-1,0} & d^{(0)}_{N-1,1} & \\cdots & \\cdots & \\cdots & d^{(0)}_{N-1,N_v-2} & d^{(0)}_{N-1,N_v-1} \\\\\n",
    "\\end{array}\\right)_{N_x\\times N_v} \\\\\n",
    "\\left(\\begin{array}{cccccccc}\n",
    "d^{(1)}_{0,0} & d^{(1)}_{0,1} & \\cdots & \\cdots & \\cdots & d^{(1)}_{0,N_v-2}  & d^{(1)}_{0,N_v-1} \\\\\n",
    "d^{(1)}_{1,0} & d^{(1)}_{1,1} & \\cdots & \\cdots & \\cdots & d^{(1)}_{0,N_v-2} & d^{(1)}_{0,N_v-1} \\\\\n",
    "\\vdots  & \\vdots & &  &  & \\vdots & \\vdots \\\\\n",
    "\\vdots & \\vdots & &  &  & \\vdots & \\vdots \\\\\n",
    "d^{(1)}_{N-2,0} & d^{(1)}_{N-2,0} & \\cdots & \\cdots & \\cdots & d^{(1)}_{N-2,N_v-2} & d^{(1)}_{N-2,N_v-1}\\\\\n",
    "d^{(1)}_{N-1,0} & d^{(1)}_{N-1,1} & \\cdots & \\cdots & \\cdots & d^{(1)}_{N-1,N_v-2} & d^{(1)}_{N-1,N_v-1} \\\\\n",
    "\\end{array}\\right)_{N_x\\times N_v} \\\\\n",
    "\\left(\\begin{array}{cccccccc}\n",
    "d^{(2)}_{0,0} & d^{(2)}_{0,1} & \\cdots & \\cdots & \\cdots & d^{(2)}_{0,N_v-2}  & d^{(2)}_{0,N_v-1} \\\\\n",
    "d^{(2)}_{1,0} & d^{(2)}_{1,1} & \\cdots & \\cdots & \\cdots & d^{(2)}_{0,N_v-2} & d^{(2)}_{0,N_v-1} \\\\\n",
    "\\vdots  & \\vdots & &  &  & \\vdots & \\vdots \\\\\n",
    "\\vdots & \\vdots & &  &  & \\vdots & \\vdots \\\\\n",
    "d^{(2)}_{N-2,0} & d^{(2)}_{N-2,0} & \\cdots & \\cdots & \\cdots & d^{(2)}_{N-2,N_v-2} & d^{(2)}_{N-2,N_v-1}\\\\\n",
    "d^{(2)}_{N-1,0} & d^{(2)}_{N-1,1} & \\cdots & \\cdots & \\cdots & d^{(2)}_{N-1,N_v-2} & d^{(2)}_{N-1,N_v-1} \\\\\n",
    "\\end{array}\\right)_{N_x\\times N_v} \\\\\n",
    "\\vdots \\\\\n",
    "\\left(\\begin{array}{cccccccc}\n",
    "d^{(N-1)}_{0,0} & d^{(N-1)}_{0,1} & \\cdots & \\cdots & \\cdots & d^{(N-1)}_{0,N_v-2}  & d^{(N-1)}_{0,N_v-1} \\\\\n",
    "d^{(N-1)}_{1,0} & d^{(N-1)}_{1,1} & \\cdots & \\cdots & \\cdots & d^{(N-1)}_{0,N_v-2} & d^{(N-1)}_{0,N_v-1} \\\\\n",
    "\\vdots  & \\vdots & &  &  & \\vdots & \\vdots \\\\\n",
    "\\vdots & \\vdots & &  &  & \\vdots & \\vdots \\\\\n",
    "d^{(N-1)}_{N-2,0} & d^{(N-1)}_{N-2,0} & \\cdots & \\cdots & \\cdots & d^{(N-1)}_{N-2,N_v-2} & d^{(N-1)}_{N-2,N_v-1}\\\\\n",
    "d^{(N-1)}_{N-1,0} & d^{(N-1)}_{N-1,1} & \\cdots & \\cdots & \\cdots & d^{(N-1)}_{N-1,N_v-2} & d^{(N-1)}_{N-1,N_v-1} \\\\\n",
    "\\end{array}\\right)_{N_x\\times N_v}\\right\\}\n",
    "$$\n"
   ]
  },
  {
   "cell_type": "markdown",
   "metadata": {},
   "source": [
    "For example, in the $(i,j)$th entry of Uf[i,j], the prescription $\\sum_q c_{q,j}d_{i,j}^q$ as the sum:\n",
    "\n",
    "$$[Uf]_{i,j} = \\sum_q c_{q,j} d_{i,j}^q = c_{0,j} d_{i,j}^0 + c_{1,j} d_{i,j}^1 + c_{2,j} d_{i,j}^2 + \\ldots c_{N-1,j} d_{i,j}^{N-1}$$\n",
    "\n",
    "Viewing the above, this is the same as doing a dot product with the row elements of c and the depth dimension of d at each i,j. The dot product procedure above sums over axis 0 by default and appears the most efficient we can implement this, given that there is not an obvious contraction using routines such as numpy.tensordot for example. <b>This loop will need to be coded in C</b>"
   ]
  }
 ],
 "metadata": {
  "kernelspec": {
   "display_name": "Python 2",
   "language": "python",
   "name": "python2"
  },
  "language_info": {
   "codemirror_mode": {
    "name": "ipython",
    "version": 2
   },
   "file_extension": ".py",
   "mimetype": "text/x-python",
   "name": "python",
   "nbconvert_exporter": "python",
   "pygments_lexer": "ipython2",
   "version": "2.7.3"
  }
 },
 "nbformat": 4,
 "nbformat_minor": 0
}

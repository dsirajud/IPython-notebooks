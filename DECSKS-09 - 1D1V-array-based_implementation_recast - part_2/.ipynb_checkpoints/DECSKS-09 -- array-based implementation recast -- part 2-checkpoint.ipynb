{
 "cells": [
  {
   "cell_type": "markdown",
   "metadata": {},
   "source": [
    "# Array-based recast of DECSKS p2: <font color = \"red\">DECSKS-v1.2</font> $\\Rightarrow$ <font color = \"green\">DECSKS-v2.0</font>\n",
    "\n",
    "#### For easy identification: changes to the code are titled in <font color = \"green\">green</font> for DECSKS-v2.0 and in <font color = \"red\">red</font> for the old DECSKS-v1.2 code that is being analyzed here to discern the appropriate changes."
   ]
  },
  {
   "cell_type": "code",
   "execution_count": 114,
   "metadata": {
    "collapsed": true
   },
   "outputs": [],
   "source": [
    "%reload_ext autoreload\n",
    "%autoreload 2 "
   ]
  },
  {
   "cell_type": "markdown",
   "metadata": {},
   "source": [
    "At this point we have created c (c.shape = (N, v.N)) and d (d.shape = (N, x.N, v.N)). Each column c[:,j] corresponds to the 1D advection problem for all $x$ MCs at a velocity $v_j$ on the mesh. Each 1D array d[dn,:,j] are the corresponding derivative coefficients for all $x$ at velocity $v_j$ for a derivative number $dn$ ($\\partial_x^{dn}$).\n",
    "\n",
    "For convenient referencing, the flux code is repeated here:"
   ]
  },
  {
   "cell_type": "markdown",
   "metadata": {},
   "source": [
    "####<font color = \"red\">DECSKS-v1.2: lib.convect.flux excerpt</font> "
   ]
  },
  {
   "cell_type": "code",
   "execution_count": null,
   "metadata": {
    "collapsed": true
   },
   "outputs": [],
   "source": [
    "    for q in range(1,sim_params['N']):\n",
    "        Uf += c[q]*d[:,q] # Flux = Uf + H.O.C. [High Order Corrections]"
   ]
  },
  {
   "cell_type": "markdown",
   "metadata": {},
   "source": [
    "Above, we are solving one 1D problem at a time, so c.shape = (N,), and d.shape = (x.N or v.N, N)\n",
    "\n",
    "Uf is updated according to an incremental update += above. This accomplishes the aforementioned HOC sum:\n"
   ]
  },
  {
   "cell_type": "markdown",
   "metadata": {},
   "source": [
    "$$[Uf]_{i,j} = \\sum\\limits_{q = 0}^{N-1} c_{q,i}d^{(q)}_{i,j}$$\n",
    "\n",
    "at each $i,j$."
   ]
  },
  {
   "cell_type": "markdown",
   "metadata": {},
   "source": [
    "We require pair-wise multiplication in the first dimension of each arrow and summing over them. This can be done with an inner product included as a single addition assignment instead of looping through and incrementing per +=.\n",
    "\n",
    "The above computation \n",
    "\n",
    "                for q in range(1, sim_params['N']):\n",
    "                    Uf += c[q]*d[:,q] \n",
    "    \n",
    "is now equivalent to in the 2D repurposing as:\n",
    "\n",
    "                Uf = np.zeros_like(f[n,:,:])\n",
    "                \n",
    "                for q in range(sim_params['N']):\n",
    "                    for j in range v.N:\n",
    "                        Uf[:,j] += c[q,j]*d[q,:,j]\n",
    "                        \n",
    "                        \n",
    "                        \n",
    "                        \n",
    "This is visualized in the 2D case as summing up product pairs along the third dimension of d and the first dimension c, that is we have the objects (repeated here for convenience):"
   ]
  },
  {
   "cell_type": "markdown",
   "metadata": {},
   "source": [
    "$$\\underline{\\underline{c}}_x = \\left(\\begin{array}{cccccccc}\n",
    "(-1)^0\\beta_0^{,0} & (-1)^0\\beta_0^{,1} & \\cdots & \\cdots & \\cdots & (-1)^0\\beta_0^{,N_v-2}  & (-1)^0\\beta_0^{,N_v-1} \\\\\n",
    "(-1)^1\\beta_1^{,0} & (-1)^1\\beta_1^{,1} & \\cdots & \\cdots & \\cdots & (-1)^1\\beta_1^{,N_v-2} & (-1)^1\\beta_1^{,N_v-1} \\\\\n",
    "(-1)^2\\beta_2^{,0} & (-1)^2\\beta_2^{,1} & \\cdots & \\cdots & \\cdots & (-1)^2\\beta_2^{,N_v-2} & (-1)^2\\beta_2^{,N_v-1} \\\\\n",
    "\\vdots  & \\vdots & &  &  & \\vdots & \\vdots \\\\\n",
    "\\vdots & \\vdots & &  &  & \\vdots & \\vdots \\\\\n",
    "(-1)^{N-2}\\beta_{N-2}^{,0} & (-1)^{N-2}\\beta_{N-2}^{,1} & \\cdots & \\cdots & \\cdots & (-1)^{N-2}\\beta_{N-2}^{,N_v-2} & (-1)^{N-2}\\beta_{N-2}^{,N_v -1}\\\\\n",
    "(-1)^{N-1}\\beta_{N-1}^{,0} & (-1)^{N-1}\\beta_{N-1}^{,1} & \\cdots & \\cdots & \\cdots & (-1)^{N-1}\\beta_{N-1}^{,N_v-2} & (-1)^{N-1}\\beta_{N-1}^{,N_v-1} \\\\\n",
    "\\end{array}\\right)_{N\\times N_v}\n",
    "$$"
   ]
  },
  {
   "cell_type": "markdown",
   "metadata": {},
   "source": [
    "equivalently,\n",
    "\n",
    "$$\\underline{\\underline{c}}_x = \\left(\\begin{array}{cccccccc}\n",
    "c_{0,0} & c_{0,1} & \\cdots & \\cdots & \\cdots & c_{0,N_v-2}  & c_{0,N_v-1} \\\\\n",
    "c_{1,0} & c_{1,1} & \\cdots & \\cdots & \\cdots & c_{0,N_v-2} & c_{0,N_v-1} \\\\\n",
    "\\vdots  & \\vdots & &  &  & \\vdots & \\vdots \\\\\n",
    "\\vdots & \\vdots & &  &  & \\vdots & \\vdots \\\\\n",
    "c_{N-2,0} & c_{N-2,0} & \\cdots & \\cdots & \\cdots & c_{N-2,N_v-2} & c_{N-2,N_v-1}\\\\\n",
    "c_{N-1,0} & c_{N-1,1} & \\cdots & \\cdots & \\cdots & c_{N-1,N_v-2} & c_{N-1,N_v-1} \\\\\n",
    "\\end{array}\\right)_{N\\times N_v}\n",
    "$$.\n",
    "\n",
    "where\n",
    "\n",
    "$$(\\underline{\\underline{c}})_x = (c_{dn,j}) \\qquad \\text{for } dn\\in [1,2,\\ldots N-1],j\\in [0,1,\\ldots N_v-1]$$ \n",
    "\n",
    "Again, each column $j$ has the same coefficients $\\{c\\}$ for all $x$ at that $v_j$."
   ]
  },
  {
   "cell_type": "markdown",
   "metadata": {},
   "source": [
    "and, \n",
    "\n",
    "$$d_{i,j}^{(dn)} = \\left.(\\Delta x)^{dn} \\frac{\\partial^{dn}f}{\\partial x}\\right\\rvert_{i,j}, \\qquad d_{i,j}^{(0)} = f_{i,j}$$\n",
    "\n",
    "or, in matrix form\n",
    "\n",
    "$$(\\underline{\\underline{d}}_x)_{N\\times N_x\\times N_v} = \\left\\{\\left(\\begin{array}{cccccccc}\n",
    "d^{(0)}_{0,0} & d^{(0)}_{0,1} & \\cdots & \\cdots & \\cdots & d^{(0)}_{0,N_v-2}  & d^{(0)}_{0,N_v-1} \\\\\n",
    "d^{(0)}_{1,0} & d^{(0)}_{1,1} & \\cdots & \\cdots & \\cdots & d^{(0)}_{0,N_v-2} & d^{(0)}_{0,N_v-1} \\\\\n",
    "\\vdots  & \\vdots & &  &  & \\vdots & \\vdots \\\\\n",
    "\\vdots & \\vdots & &  &  & \\vdots & \\vdots \\\\\n",
    "d^{(0)}_{N-2,0} & d^{(0)}_{N-2,0} & \\cdots & \\cdots & \\cdots & d^{(0)}_{N-2,N_v-2} & d^{(0)}_{N-2,N_v-1}\\\\\n",
    "d^{(0)}_{N-1,0} & d^{(0)}_{N-1,1} & \\cdots & \\cdots & \\cdots & d^{(0)}_{N-1,N_v-2} & d^{(0)}_{N-1,N_v-1} \\\\\n",
    "\\end{array}\\right)_{N_x\\times N_v} \\\\\n",
    "\\left(\\begin{array}{cccccccc}\n",
    "d^{(1)}_{0,0} & d^{(1)}_{0,1} & \\cdots & \\cdots & \\cdots & d^{(1)}_{0,N_v-2}  & d^{(1)}_{0,N_v-1} \\\\\n",
    "d^{(1)}_{1,0} & d^{(1)}_{1,1} & \\cdots & \\cdots & \\cdots & d^{(1)}_{0,N_v-2} & d^{(1)}_{0,N_v-1} \\\\\n",
    "\\vdots  & \\vdots & &  &  & \\vdots & \\vdots \\\\\n",
    "\\vdots & \\vdots & &  &  & \\vdots & \\vdots \\\\\n",
    "d^{(1)}_{N-2,0} & d^{(1)}_{N-2,0} & \\cdots & \\cdots & \\cdots & d^{(1)}_{N-2,N_v-2} & d^{(1)}_{N-2,N_v-1}\\\\\n",
    "d^{(1)}_{N-1,0} & d^{(1)}_{N-1,1} & \\cdots & \\cdots & \\cdots & d^{(1)}_{N-1,N_v-2} & d^{(1)}_{N-1,N_v-1} \\\\\n",
    "\\end{array}\\right)_{N_x\\times N_v} \\\\\n",
    "\\left(\\begin{array}{cccccccc}\n",
    "d^{(2)}_{0,0} & d^{(2)}_{0,1} & \\cdots & \\cdots & \\cdots & d^{(2)}_{0,N_v-2}  & d^{(2)}_{0,N_v-1} \\\\\n",
    "d^{(2)}_{1,0} & d^{(2)}_{1,1} & \\cdots & \\cdots & \\cdots & d^{(2)}_{0,N_v-2} & d^{(2)}_{0,N_v-1} \\\\\n",
    "\\vdots  & \\vdots & &  &  & \\vdots & \\vdots \\\\\n",
    "\\vdots & \\vdots & &  &  & \\vdots & \\vdots \\\\\n",
    "d^{(2)}_{N-2,0} & d^{(2)}_{N-2,0} & \\cdots & \\cdots & \\cdots & d^{(2)}_{N-2,N_v-2} & d^{(2)}_{N-2,N_v-1}\\\\\n",
    "d^{(2)}_{N-1,0} & d^{(2)}_{N-1,1} & \\cdots & \\cdots & \\cdots & d^{(2)}_{N-1,N_v-2} & d^{(2)}_{N-1,N_v-1} \\\\\n",
    "\\end{array}\\right)_{N_x\\times N_v} \\\\\n",
    "\\vdots \\\\\n",
    "\\left(\\begin{array}{cccccccc}\n",
    "d^{(N-1)}_{0,0} & d^{(N-1)}_{0,1} & \\cdots & \\cdots & \\cdots & d^{(N-1)}_{0,N_v-2}  & d^{(N-1)}_{0,N_v-1} \\\\\n",
    "d^{(N-1)}_{1,0} & d^{(N-1)}_{1,1} & \\cdots & \\cdots & \\cdots & d^{(N-1)}_{0,N_v-2} & d^{(N-1)}_{0,N_v-1} \\\\\n",
    "\\vdots  & \\vdots & &  &  & \\vdots & \\vdots \\\\\n",
    "\\vdots & \\vdots & &  &  & \\vdots & \\vdots \\\\\n",
    "d^{(N-1)}_{N-2,0} & d^{(N-1)}_{N-2,0} & \\cdots & \\cdots & \\cdots & d^{(N-1)}_{N-2,N_v-2} & d^{(N-1)}_{N-2,N_v-1}\\\\\n",
    "d^{(N-1)}_{N-1,0} & d^{(N-1)}_{N-1,1} & \\cdots & \\cdots & \\cdots & d^{(N-1)}_{N-1,N_v-2} & d^{(N-1)}_{N-1,N_v-1} \\\\\n",
    "\\end{array}\\right)_{N_x\\times N_v}\\right\\}\n",
    "$$\n"
   ]
  },
  {
   "cell_type": "markdown",
   "metadata": {},
   "source": [
    "For example, in the $(i,j)$th entry of Uf[i,j], the prescription $\\sum_q c_{q,j}d_{i,j}^q$ as the sum:\n",
    "\n",
    "$$[Uf]_{i,j} = \\sum_q c_{q,j} d_{i,j}^q = c_{0,j} d_{i,j}^0 + c_{1,j} d_{i,j}^1 + c_{2,j} d_{i,j}^2 + \\ldots c_{N-1,j} d_{i,j}^{N-1}$$\n",
    "\n",
    "Viewing the above, this is the same as doing a dot product with the row elements of c and the depth dimension of d at each i,j. The dot product procedure above sums over axis 0 by default and appears the most efficient we can implement this, given that there is not an obvious contraction using routines such as numpy.tensordot for example. <b>This loop will need to be coded in C</b>"
   ]
  },
  {
   "cell_type": "markdown",
   "metadata": {},
   "source": [
    "### Removing z.MCs (unnecessary calc) in favor of CFL and recasting instance attribute"
   ]
  },
  {
   "cell_type": "markdown",
   "metadata": {},
   "source": [
    "Actually many changes not cataloged here were made in DECSKS-v2.0, for reasons of time. One key change we wish to bring up is the removal of the unnecessary calculation of moving cell quantities in order to compute CFL numbers per,\n",
    "\n",
    "    CFL.numbers = (z.MCs - z.prepointmeshvalues) / z.width\n",
    "    \n",
    "Since <code>z.MCs = z.prepointmeshvalues + vz.prepointmeshvalues * dt</code>, the <code>z.prepointmeshvalues</code> is subtracted out anyway and this intermediate value of z.MCs is unnecessary. Instead we compute per\n",
    "\n",
    "    CFL.numbers = vz.prepointmeshvalues * dt / z.width\n",
    "    \n",
    "end of story. We capture this as a method internal to the CFL instantiation, which is not housed as a subinstance of each phase space variable being advected z (note we use vz to mean generalized velocity of z, so that it can be a velocity or an acceleration depending on what z is)."
   ]
  },
  {
   "cell_type": "markdown",
   "metadata": {},
   "source": [
    "A subinstance z.CFL is instantiated per the call in lib.domain as\n",
    "\n",
    "    self.CFL = CourantNumber(self)"
   ]
  },
  {
   "cell_type": "markdown",
   "metadata": {},
   "source": [
    "### excerpt of domain.py, CourantNumber() instance"
   ]
  },
  {
   "cell_type": "code",
   "execution_count": null,
   "metadata": {
    "collapsed": true
   },
   "outputs": [],
   "source": [
    "    def compute_numbers(self, z, vz, dt):\n",
    "        \"\"\"Calculates the CFL numbers and corresponding integer and fractional\n",
    "        parts for each col of z.prepointmesh and stores in the 2D stack\n",
    "\n",
    "            z.CFL.compute_numbers(z,vz,dt)\n",
    "\n",
    "        note that each number corresponds to advection in 1D for each 1D problem\n",
    "        whose subdomain is the column, and whose column space constitutes the entire\n",
    "        grid.\n",
    "\n",
    "        Hence, we implement the indicial displacement of each gridpoint according\n",
    "        to the velocity values in each column by shifting from prepoints\n",
    "\n",
    "            (i,j) --> (i,j+ CFL.numbers[j])\n",
    "\n",
    "        where the index i is not explicitly referenced given it is obvious.n       \n",
    "\n",
    "        inputs:\n",
    "        self -- (lib.domain.CourantNumber instance) CFL instance with attribute containers\n",
    "                containers CFL.numbers, CFL.int, CFL.frac.\n",
    "\n",
    "                NOTE: the method is an attribute belonging to the subinstance z.CFL\n",
    "                hence, self refers to z.CFL, not z.\n",
    "\n",
    "        z -- (lib.domain.Setup instance) phasespace instance being advected\n",
    "        vz -- (lib.domain.Setup instance) velocity for self\n",
    "        dt -- (float) width of time step, can be a fraction of t.width for split\n",
    "              methods\n",
    "\n",
    "        outputs:\n",
    "        None -- updates attributes\n",
    "        \"\"\"\n",
    "        self.numbers = vz.prepointvaluemesh * dt / z.width\n",
    "\n",
    "        # if >= 0 , self.int = floor(self.numbers), else ceil(self.numbers)\n",
    "        # i.e. the sign of CFL.frac agrees with the sign of vz\n",
    "        self.int = np.where(self.numbers >=0, np.floor(self.numbers),\n",
    "                            np.ceil(self.numbers))\n",
    "\n",
    "        # remaining portion is the fractional CFL number\n",
    "        self.frac = self.numbers - self.int\n"
   ]
  },
  {
   "cell_type": "markdown",
   "metadata": {},
   "source": [
    "we set up a unit test of some kind to see the kind of output that is produced here"
   ]
  },
  {
   "cell_type": "code",
   "execution_count": 113,
   "metadata": {
    "collapsed": true
   },
   "outputs": [],
   "source": [
    "class phasespace_var:\n",
    "    def __init__(self, f_old, Nz):\n",
    "        self.MCs = np.zeros_like(f_old)\n",
    "        self.prepointvaluemesh = np.random.randn(f_old.shape[0],f_old.shape[1])\n",
    "        self.prepoints = np.arange(3)\n",
    "        self.prepointmesh = np.outer( self.prepoints, np.ones([1, 4]) )\n",
    "        self.width = .5\n",
    "        self.CFL = CourantNumber(f_old)\n",
    "        self.postpointmesh = np.zeros_like(f_old)\n",
    "        self.N = Nz\n",
    "        \n",
    "\n",
    "class CourantNumber:\n",
    "    \"\"\"Returns a CFL number instance of the phasespace variable z\n",
    "\n",
    "    inputs:\n",
    "    z -- (instance) phase space variable from class lib.domain.Setup\n",
    "\n",
    "    outputs:\n",
    "    self -- (instance) CFL number ascribed to variable z convection\n",
    "\n",
    "    Note: broadcasting ensures self.numbers is the same shape as z.MCs\n",
    "    \"\"\"\n",
    "    def __init__(self, f_old):\n",
    "\n",
    "        self.numbers = np.zeros_like(f_old)\n",
    "        self.frac = np.zeros_like(f_old)\n",
    "        self.int = np.zeros_like(f_old)\n",
    "\n",
    "\n",
    "    def compute_numbers(self, z, vz, dt):\n",
    "        \"\"\"Calculates the CFL numbers and corresponding integer and fractional\n",
    "        parts, call by z.CFL.calculate_numbers(*args)\n",
    "\n",
    "        inputs:\n",
    "        self -- (lib.domain.CourantNumber instance) CFL instance with attribute containers\n",
    "                containers CFL.numbers, CFL.int, CFL.frac.\n",
    "\n",
    "                NOTE: the method is an attribute belonging to the subinstance z.CFL\n",
    "                hence, self refers to z.CFL, not z.\n",
    "\n",
    "        z -- (lib.domain.Setup instance) phasespace instance being advected\n",
    "        vz -- (lib.domain.Setup instance) velocity for self\n",
    "        dt -- (float) width of time step, can be a fraction of t.width for split\n",
    "              methods\n",
    "\n",
    "        outputs:\n",
    "        None -- updates attributes\n",
    "        \"\"\"        \n",
    "        self.numbers = vz.prepointvaluemesh * dt / z.width\n",
    "\n",
    "        # if >= 0 , self.int = floor(self.numbers), else ceil(self.numbers)\n",
    "        # i.e. the sign of CFL.frac agrees with the sign of vz\n",
    "        self.int = np.where(self.numbers >=0, np.floor(self.numbers),\n",
    "                            np.ceil(self.numbers))\n",
    "\n",
    "        # remaining portion is the fractional CFL number\n",
    "        self.frac = self.numbers - self.int\n",
    "\n",
    "        "
   ]
  },
  {
   "cell_type": "markdown",
   "metadata": {},
   "source": [
    "#### unit test"
   ]
  },
  {
   "cell_type": "code",
   "execution_count": 114,
   "metadata": {
    "collapsed": false
   },
   "outputs": [],
   "source": [
    "import numpy as np\n",
    "\n",
    "f_old = np.random.randn(3,4)\n",
    "dims = f_old.shape\n",
    "\n",
    "x = phasespace_var(f_old, 3)\n",
    "vx = phasespace_var(f_old, 4)"
   ]
  },
  {
   "cell_type": "code",
   "execution_count": 115,
   "metadata": {
    "collapsed": false
   },
   "outputs": [
    {
     "name": "stdout",
     "output_type": "stream",
     "text": [
      "[[-1.51261694 -1.38824674 -0.11128663 -0.68191783]\n",
      " [ 0.30572128 -1.02501623  1.01380546 -2.1141246 ]\n",
      " [ 0.8659261  -0.27520949  1.06865567  2.06540774]]\n"
     ]
    }
   ],
   "source": [
    "print x.prepointvaluemesh"
   ]
  },
  {
   "cell_type": "code",
   "execution_count": 116,
   "metadata": {
    "collapsed": false
   },
   "outputs": [
    {
     "name": "stdout",
     "output_type": "stream",
     "text": [
      "[[ 1.23577391  2.97484115  0.17310995  0.56159815]\n",
      " [-5.3228363   4.79991055  1.39992413 -1.69835132]\n",
      " [-1.40417029  2.5619856   0.84577965 -2.14487309]]\n"
     ]
    }
   ],
   "source": [
    "print vx.prepointvaluemesh * dt / x.width"
   ]
  },
  {
   "cell_type": "markdown",
   "metadata": {},
   "source": [
    "originally we have an empty container for CFL numbers and so on,"
   ]
  },
  {
   "cell_type": "code",
   "execution_count": 117,
   "metadata": {
    "collapsed": false
   },
   "outputs": [
    {
     "name": "stdout",
     "output_type": "stream",
     "text": [
      "[[ 0.  0.  0.  0.]\n",
      " [ 0.  0.  0.  0.]\n",
      " [ 0.  0.  0.  0.]]\n"
     ]
    }
   ],
   "source": [
    "print x.CFL.numbers"
   ]
  },
  {
   "cell_type": "markdown",
   "metadata": {},
   "source": [
    "To advect the cells, we call the routine z.CFL.compute_numbers(*args) which is an attribute of z.CFL. Choose a time width that is arbitrary,"
   ]
  },
  {
   "cell_type": "code",
   "execution_count": 118,
   "metadata": {
    "collapsed": false
   },
   "outputs": [],
   "source": [
    "dt = 1.5"
   ]
  },
  {
   "cell_type": "code",
   "execution_count": 119,
   "metadata": {
    "collapsed": false
   },
   "outputs": [],
   "source": [
    "x.CFL.compute_numbers(x, vx, dt)"
   ]
  },
  {
   "cell_type": "code",
   "execution_count": 120,
   "metadata": {
    "collapsed": false
   },
   "outputs": [
    {
     "name": "stdout",
     "output_type": "stream",
     "text": [
      "[[ 1.23577391  2.97484115  0.17310995  0.56159815]\n",
      " [-5.3228363   4.79991055  1.39992413 -1.69835132]\n",
      " [-1.40417029  2.5619856   0.84577965 -2.14487309]]\n"
     ]
    }
   ],
   "source": [
    "print x.CFL.numbers"
   ]
  },
  {
   "cell_type": "markdown",
   "metadata": {},
   "source": [
    "Verify this computes the correct numbers by hand calculation:"
   ]
  },
  {
   "cell_type": "code",
   "execution_count": 121,
   "metadata": {
    "collapsed": true
   },
   "outputs": [],
   "source": [
    "xCFLnumbers = np.zeros_like(f_old) # direct calculation verification\n",
    "\n",
    "for i in range(vx.prepointvaluemesh.shape[0]):\n",
    "    for j in range(vx.prepointvaluemesh.shape[1]):\n",
    "        xCFLnumbers[i,j] = vx.prepointvaluemesh[i,j]*dt / x.width\n"
   ]
  },
  {
   "cell_type": "code",
   "execution_count": 122,
   "metadata": {
    "collapsed": false
   },
   "outputs": [
    {
     "name": "stdout",
     "output_type": "stream",
     "text": [
      "[[ True  True  True  True]\n",
      " [ True  True  True  True]\n",
      " [ True  True  True  True]]\n"
     ]
    }
   ],
   "source": [
    "print xCFLnumbers == x.CFL.numbers"
   ]
  },
  {
   "cell_type": "code",
   "execution_count": 123,
   "metadata": {
    "collapsed": false
   },
   "outputs": [
    {
     "name": "stdout",
     "output_type": "stream",
     "text": [
      "[[ 1.23577391  2.97484115  0.17310995  0.56159815]\n",
      " [-5.3228363   4.79991055  1.39992413 -1.69835132]\n",
      " [-1.40417029  2.5619856   0.84577965 -2.14487309]]\n"
     ]
    }
   ],
   "source": [
    "print xCFLnumbers"
   ]
  },
  {
   "cell_type": "markdown",
   "metadata": {},
   "source": [
    "So we can see this produces the expected array."
   ]
  },
  {
   "cell_type": "markdown",
   "metadata": {},
   "source": [
    "We also have the corresonding integer and fractional parts:"
   ]
  },
  {
   "cell_type": "code",
   "execution_count": 124,
   "metadata": {
    "collapsed": false
   },
   "outputs": [
    {
     "name": "stdout",
     "output_type": "stream",
     "text": [
      "[[ 1.  2.  0.  0.]\n",
      " [-5.  4.  1. -1.]\n",
      " [-1.  2.  0. -2.]]\n"
     ]
    }
   ],
   "source": [
    "print x.CFL.int"
   ]
  },
  {
   "cell_type": "code",
   "execution_count": 125,
   "metadata": {
    "collapsed": false
   },
   "outputs": [
    {
     "name": "stdout",
     "output_type": "stream",
     "text": [
      "[[ 0.23577391  0.97484115  0.17310995  0.56159815]\n",
      " [-0.3228363   0.79991055  0.39992413 -0.69835132]\n",
      " [-0.40417029  0.5619856   0.84577965 -0.14487309]]\n"
     ]
    }
   ],
   "source": [
    "print x.CFL.frac"
   ]
  },
  {
   "cell_type": "code",
   "execution_count": 126,
   "metadata": {
    "collapsed": false
   },
   "outputs": [
    {
     "name": "stdout",
     "output_type": "stream",
     "text": [
      "[[ True  True  True  True]\n",
      " [ True  True  True  True]\n",
      " [ True  True  True  True]]\n"
     ]
    }
   ],
   "source": [
    "print (x.CFL.int + x.CFL.frac) == x.CFL.numbers"
   ]
  },
  {
   "cell_type": "markdown",
   "metadata": {},
   "source": [
    "### Discern how to remap all MCs at a given vz[j] all at the same time"
   ]
  },
  {
   "cell_type": "markdown",
   "metadata": {},
   "source": [
    "We develop a map $\\underline{\\underline{k}}_{2\\times N_x\\times N_v}$ whose entries k[0,:,:] and k[1,:,:] contain the collection of contiguous indices $(k_1,k_2)$ that each MC is mapped to originating from that $(i,j)$. This was done with the lib.boundaryconditions.periodic function"
   ]
  },
  {
   "cell_type": "markdown",
   "metadata": {},
   "source": [
    "### lib.boundaryconditions.periodic"
   ]
  },
  {
   "cell_type": "code",
   "execution_count": 127,
   "metadata": {
    "collapsed": true
   },
   "outputs": [],
   "source": [
    "def periodic(sim_params, z, Uf = None):\n",
    "    \"\"\"Applies periodic boundary conditions to\n",
    "    postpoints\n",
    "\n",
    "    inputs:\n",
    "    z -- (instance) phase space variable. Used to\n",
    "         update attribute z.postpointmesh\n",
    "         (2D mesh of advected gridpoints, not values)\n",
    "\n",
    "    outputs:\n",
    "    z.postpointmesh -- (attr) update to z.postpointmesh\n",
    "                        attribute per periodic BCs\n",
    "    \"\"\"\n",
    "\n",
    "    # there isn't a reason for these if statements\n",
    "    # should just do the latter, and then for the ballistic\n",
    "    # push, use k[0,:,:]\n",
    "\n",
    "    # if calling for Lagrangian integral push\n",
    "    if Uf is None:\n",
    "        z.postpointmesh = np.mod(z.postpointmesh, z.N)\n",
    "        return z.postpointmesh\n",
    "\n",
    "    # if calling for remap indices\n",
    "\n",
    "\n",
    "    # TODO this has to be redesigned for 2D, so that the postpoint\n",
    "    # tensor k.shape = (2, z1.N, z2.N) has the first entry take in lists\n",
    "    # or manages where the mapping goes in 2D, currently was thinking\n",
    "    # in only 1D contexts. k1 = [k1x, k1v] --> k2 = [k2x, k2v]\n",
    "\n",
    "    if Uf is not None:\n",
    "        # remap index meshes, k1[i,j], k2[i,j] correspond to\n",
    "        # mapped to indices of prepointmesh[i,j]\n",
    "\n",
    "        kshape = [2]\n",
    "        for dim in sim_params['dims']:\n",
    "            kshape.append(dim)\n",
    "\n",
    "        k = np.zeros(kshape)\n",
    "        k[0,:,:] = z.postpointmesh\n",
    "        k[1,:,:] = np.where(Uf >= 0, np.mod(z.postpointmesh + 1 , z.N),\n",
    "                      np.mod(z.postpointmesh - 1, z.N))\n",
    "\n",
    "        return k"
   ]
  },
  {
   "cell_type": "markdown",
   "metadata": {},
   "source": [
    "### unit test"
   ]
  },
  {
   "cell_type": "code",
   "execution_count": 128,
   "metadata": {
    "collapsed": false
   },
   "outputs": [],
   "source": [
    "import numpy as np\n",
    "\n",
    "Uf = np.random.randn(3,4)\n",
    "sim_params = {}\n",
    "sim_params['dims'] = [3,4]\n",
    "\n",
    "x.postpointmesh = x.prepointmesh + x.CFL.int\n",
    "x.postpointmesh = periodic(sim_params, x)"
   ]
  },
  {
   "cell_type": "code",
   "execution_count": 129,
   "metadata": {
    "collapsed": false
   },
   "outputs": [],
   "source": [
    "k = periodic(sim_params, x, Uf)"
   ]
  },
  {
   "cell_type": "code",
   "execution_count": 130,
   "metadata": {
    "collapsed": false
   },
   "outputs": [
    {
     "name": "stdout",
     "output_type": "stream",
     "text": [
      "[[[ 1.  2.  0.  0.]\n",
      "  [ 2.  2.  2.  0.]\n",
      "  [ 1.  1.  2.  0.]]\n",
      "\n",
      " [[ 2.  0.  1.  1.]\n",
      "  [ 1.  1.  1.  2.]\n",
      "  [ 0.  2.  1.  2.]]]\n"
     ]
    }
   ],
   "source": [
    "print k"
   ]
  },
  {
   "cell_type": "code",
   "execution_count": 131,
   "metadata": {
    "collapsed": false
   },
   "outputs": [
    {
     "name": "stdout",
     "output_type": "stream",
     "text": [
      "[[ 1.  2.  0.  0.]\n",
      " [ 2.  2.  2.  0.]\n",
      " [ 1.  1.  2.  0.]]\n"
     ]
    }
   ],
   "source": [
    "print k[0,:,:]"
   ]
  },
  {
   "cell_type": "code",
   "execution_count": 134,
   "metadata": {
    "collapsed": false
   },
   "outputs": [
    {
     "data": {
      "text/plain": [
       "-1.5126169449982998"
      ]
     },
     "execution_count": 134,
     "metadata": {},
     "output_type": "execute_result"
    }
   ],
   "source": [
    "x.prepointvaluemesh[(0,0)]"
   ]
  },
  {
   "cell_type": "code",
   "execution_count": 133,
   "metadata": {
    "collapsed": false
   },
   "outputs": [
    {
     "name": "stdout",
     "output_type": "stream",
     "text": [
      "[[-1.51261694 -1.38824674 -0.11128663 -0.68191783]\n",
      " [ 0.30572128 -1.02501623  1.01380546 -2.1141246 ]\n",
      " [ 0.8659261  -0.27520949  1.06865567  2.06540774]]\n"
     ]
    }
   ],
   "source": [
    "print x.prepointvaluemesh"
   ]
  },
  {
   "cell_type": "code",
   "execution_count": 137,
   "metadata": {
    "collapsed": false
   },
   "outputs": [
    {
     "name": "stdout",
     "output_type": "stream",
     "text": [
      "[[ 0.  0.  0.  0.]\n",
      " [ 1.  1.  1.  1.]\n",
      " [ 2.  2.  2.  2.]]\n"
     ]
    }
   ],
   "source": [
    "print x.prepointmesh"
   ]
  },
  {
   "cell_type": "code",
   "execution_count": 153,
   "metadata": {
    "collapsed": false
   },
   "outputs": [
    {
     "name": "stdout",
     "output_type": "stream",
     "text": [
      "[[-1.51261694 -1.38824674 -0.11128663 -0.68191783]\n",
      " [ 0.30572128 -1.02501623  1.01380546 -2.1141246 ]\n",
      " [ 0.8659261  -0.27520949  1.06865567  2.06540774]]\n"
     ]
    }
   ],
   "source": [
    "print x.prepointvaluemesh[ x.prepointmesh.astype(int),vx.prepointmesh.astype(int)]"
   ]
  },
  {
   "cell_type": "code",
   "execution_count": 142,
   "metadata": {
    "collapsed": false
   },
   "outputs": [
    {
     "name": "stdout",
     "output_type": "stream",
     "text": [
      "[[ 0.  0.  0.  0.]\n",
      " [ 1.  1.  1.  1.]\n",
      " [ 2.  2.  2.  2.]]\n"
     ]
    }
   ],
   "source": [
    "print x.prepointmesh"
   ]
  },
  {
   "cell_type": "markdown",
   "metadata": {},
   "source": [
    "x.prepointluemesh[1.,1.]"
   ]
  },
  {
   "cell_type": "code",
   "execution_count": 145,
   "metadata": {
    "collapsed": false
   },
   "outputs": [
    {
     "data": {
      "text/plain": [
       "array([[-1.51261694, -1.38824674, -0.11128663, -0.68191783],\n",
       "       [ 0.30572128, -1.02501623,  1.01380546, -2.1141246 ],\n",
       "       [ 0.8659261 , -0.27520949,  1.06865567,  2.06540774]])"
      ]
     },
     "execution_count": 145,
     "metadata": {},
     "output_type": "execute_result"
    }
   ],
   "source": [
    "x.prepointmesh.astype(int)"
   ]
  },
  {
   "cell_type": "code",
   "execution_count": 147,
   "metadata": {
    "collapsed": false
   },
   "outputs": [
    {
     "data": {
      "text/plain": [
       "array([[ 0.,  0.,  0.,  0.],\n",
       "       [ 1.,  1.,  1.,  1.],\n",
       "       [ 2.,  2.,  2.,  2.]])"
      ]
     },
     "execution_count": 147,
     "metadata": {},
     "output_type": "execute_result"
    }
   ],
   "source": [
    "x.prepointmesh"
   ]
  },
  {
   "cell_type": "code",
   "execution_count": 150,
   "metadata": {
    "collapsed": false
   },
   "outputs": [
    {
     "data": {
      "text/plain": [
       "array([[ 0.,  0.,  0.,  0.],\n",
       "       [ 1.,  1.,  1.,  1.],\n",
       "       [ 2.,  2.,  2.,  2.]])"
      ]
     },
     "execution_count": 150,
     "metadata": {},
     "output_type": "execute_result"
    }
   ],
   "source": [
    "vx.prepointmesh"
   ]
  },
  {
   "cell_type": "code",
   "execution_count": 151,
   "metadata": {
    "collapsed": true
   },
   "outputs": [],
   "source": [
    "vx.prepointmesh = np.outer( np.ones([x.N, 1]), np.arange(vx.N))"
   ]
  },
  {
   "cell_type": "code",
   "execution_count": 152,
   "metadata": {
    "collapsed": false
   },
   "outputs": [
    {
     "data": {
      "text/plain": [
       "array([[ 0.,  1.,  2.,  3.],\n",
       "       [ 0.,  1.,  2.,  3.],\n",
       "       [ 0.,  1.,  2.,  3.]])"
      ]
     },
     "execution_count": 152,
     "metadata": {},
     "output_type": "execute_result"
    }
   ],
   "source": [
    "vx.prepointmesh"
   ]
  },
  {
   "cell_type": "markdown",
   "metadata": {},
   "source": [
    "The map $\\underline{\\underline{k}}$ gives only the advecting index postpoint, the other postpoint is the same prepoint it had as the nonadvecting variable, e.g. in x advection at a given v[j], i is advected, while j remains the same. We can assemble a 2D mesh of grid indices by referencing indices as:\n",
    "\n",
    "for x advection:\n",
    "\n",
    "    f_new[ k[0,:,:], vz.prepointmesh ] <--- f_old\n",
    "    f_new[ k[1,:,:], vz.prepointmesh ] <--- f_old\n",
    "    \n",
    "where the mapping (k[r,:,:], vz.prepointmesh) gives the appropriate map from [i,j] to [i + k[r], j] for r = 0, 1, the contiguous gridpoints that each MC maps to."
   ]
  },
  {
   "cell_type": "code",
   "execution_count": 155,
   "metadata": {
    "collapsed": false
   },
   "outputs": [
    {
     "data": {
      "text/plain": [
       "array([[-0.29577547,  1.07971557, -2.51825679,  0.32066116],\n",
       "       [ 0.24385405, -0.75398576,  0.83250385,  0.5604271 ],\n",
       "       [-0.43879407,  1.91197068, -0.145558  ,  1.32057128]])"
      ]
     },
     "execution_count": 155,
     "metadata": {},
     "output_type": "execute_result"
    }
   ],
   "source": [
    "f_old"
   ]
  },
  {
   "cell_type": "code",
   "execution_count": 156,
   "metadata": {
    "collapsed": false
   },
   "outputs": [
    {
     "name": "stdout",
     "output_type": "stream",
     "text": [
      "[[ 1.  2.  0.  0.]\n",
      " [ 2.  2.  2.  0.]\n",
      " [ 1.  1.  2.  0.]]\n"
     ]
    }
   ],
   "source": [
    "print k[0,:,:]"
   ]
  },
  {
   "cell_type": "markdown",
   "metadata": {},
   "source": [
    "Try mapping f_old[:,:] --> f_new[k[0,:,:], vx.prepointmesh]"
   ]
  },
  {
   "cell_type": "code",
   "execution_count": 170,
   "metadata": {
    "collapsed": false
   },
   "outputs": [],
   "source": [
    "f_new = np.zeros([3,4])"
   ]
  },
  {
   "cell_type": "code",
   "execution_count": 171,
   "metadata": {
    "collapsed": false
   },
   "outputs": [],
   "source": [
    "f_new[ k[0,:,:].astype(int), vx.prepointmesh.astype(int)] += f_old"
   ]
  },
  {
   "cell_type": "code",
   "execution_count": 172,
   "metadata": {
    "collapsed": false
   },
   "outputs": [
    {
     "data": {
      "text/plain": [
       "array([[ 0.        ,  0.        , -2.51825679,  1.32057128],\n",
       "       [-0.43879407,  1.91197068,  0.        ,  0.        ],\n",
       "       [ 0.24385405, -0.75398576, -0.145558  ,  0.        ]])"
      ]
     },
     "execution_count": 172,
     "metadata": {},
     "output_type": "execute_result"
    }
   ],
   "source": [
    "f_new"
   ]
  },
  {
   "cell_type": "code",
   "execution_count": 163,
   "metadata": {
    "collapsed": false
   },
   "outputs": [
    {
     "data": {
      "text/plain": [
       "array([[ 0.,  1.,  2.,  3.],\n",
       "       [ 0.,  1.,  2.,  3.],\n",
       "       [ 0.,  1.,  2.,  3.]])"
      ]
     },
     "execution_count": 163,
     "metadata": {},
     "output_type": "execute_result"
    }
   ],
   "source": [
    "vx.prepointmesh"
   ]
  },
  {
   "cell_type": "code",
   "execution_count": 164,
   "metadata": {
    "collapsed": false
   },
   "outputs": [
    {
     "data": {
      "text/plain": [
       "array([[ 1.,  2.,  0.,  0.],\n",
       "       [ 2.,  2.,  2.,  0.],\n",
       "       [ 1.,  1.,  2.,  0.]])"
      ]
     },
     "execution_count": 164,
     "metadata": {},
     "output_type": "execute_result"
    }
   ],
   "source": [
    "k[0,:,:]"
   ]
  },
  {
   "cell_type": "code",
   "execution_count": 169,
   "metadata": {
    "collapsed": false
   },
   "outputs": [
    {
     "name": "stdout",
     "output_type": "stream",
     "text": [
      "j = 0:\n",
      "\n",
      "(0, 0) -> (1, 0)\n",
      "(1, 0) -> (2, 0)\n",
      "(2, 0) -> (1, 0)\n",
      "\n",
      "j = 1:\n",
      "\n",
      "(0, 1) -> (2, 1)\n",
      "(1, 1) -> (2, 1)\n",
      "(2, 1) -> (1, 1)\n",
      "\n",
      "j = 2:\n",
      "\n",
      "(0, 2) -> (0, 2)\n",
      "(1, 2) -> (2, 2)\n",
      "(2, 2) -> (2, 2)\n",
      "\n",
      "j = 3:\n",
      "\n",
      "(0, 3) -> (0, 3)\n",
      "(1, 3) -> (0, 3)\n",
      "(2, 3) -> (0, 3)\n",
      "\n"
     ]
    }
   ],
   "source": [
    "for j in range(4):\n",
    "    print \"j = %d:\" % j\n",
    "    print \"\"\n",
    "    for i in range(3):\n",
    "        print \"(%d, %d) -> (%d, %d)\" % (i,j, k[0,i,j], vx.prepointmesh[i,j])\n",
    "    print \"\""
   ]
  },
  {
   "cell_type": "markdown",
   "metadata": {},
   "source": [
    "### smaller example of same thing"
   ]
  },
  {
   "cell_type": "code",
   "execution_count": 173,
   "metadata": {
    "collapsed": true
   },
   "outputs": [],
   "source": [
    "K = np.array([[1,0],[1,1]])"
   ]
  },
  {
   "cell_type": "code",
   "execution_count": 186,
   "metadata": {
    "collapsed": false
   },
   "outputs": [],
   "source": [
    "F_old = 5*np.random.randn(2,2).astype(int) +  3*np.random.randn(2,2).astype(int)"
   ]
  },
  {
   "cell_type": "code",
   "execution_count": 187,
   "metadata": {
    "collapsed": false
   },
   "outputs": [
    {
     "data": {
      "text/plain": [
       "array([[  5,  -3],\n",
       "       [ -3, -10]])"
      ]
     },
     "execution_count": 187,
     "metadata": {},
     "output_type": "execute_result"
    }
   ],
   "source": [
    "F_old"
   ]
  },
  {
   "cell_type": "code",
   "execution_count": 188,
   "metadata": {
    "collapsed": true
   },
   "outputs": [],
   "source": [
    "cols = np.outer(np.ones([2,1]), np.arange(2))"
   ]
  },
  {
   "cell_type": "code",
   "execution_count": 189,
   "metadata": {
    "collapsed": false
   },
   "outputs": [
    {
     "data": {
      "text/plain": [
       "array([[ 0.,  1.],\n",
       "       [ 0.,  1.]])"
      ]
     },
     "execution_count": 189,
     "metadata": {},
     "output_type": "execute_result"
    }
   ],
   "source": [
    "cols"
   ]
  },
  {
   "cell_type": "code",
   "execution_count": 190,
   "metadata": {
    "collapsed": false
   },
   "outputs": [
    {
     "name": "stdout",
     "output_type": "stream",
     "text": [
      "j = 0:\n",
      "\n",
      "(0, 0) -> (1, 0)\n",
      "(1, 0) -> (1, 0)\n",
      "\n",
      "j = 1:\n",
      "\n",
      "(0, 1) -> (0, 1)\n",
      "(1, 1) -> (1, 1)\n",
      "\n"
     ]
    }
   ],
   "source": [
    "for j in range(2):\n",
    "    print \"j = %d:\" % j\n",
    "    print \"\"\n",
    "    for i in range(2):\n",
    "        print \"(%d, %d) -> (%d, %d)\" % (i,j, K[i,j], cols[i,j])\n",
    "    print \"\""
   ]
  },
  {
   "cell_type": "code",
   "execution_count": 191,
   "metadata": {
    "collapsed": false
   },
   "outputs": [
    {
     "data": {
      "text/plain": [
       "array([[1, 0],\n",
       "       [1, 1]])"
      ]
     },
     "execution_count": 191,
     "metadata": {},
     "output_type": "execute_result"
    }
   ],
   "source": [
    "K"
   ]
  },
  {
   "cell_type": "code",
   "execution_count": 222,
   "metadata": {
    "collapsed": false
   },
   "outputs": [
    {
     "name": "stdout",
     "output_type": "stream",
     "text": [
      "[[0 1]\n",
      " [0 1]]\n"
     ]
    }
   ],
   "source": [
    "cols = cols.astype(int)\n",
    "print cols"
   ]
  },
  {
   "cell_type": "code",
   "execution_count": 224,
   "metadata": {
    "collapsed": true
   },
   "outputs": [],
   "source": [
    "F_new = np.zeros([2,2])"
   ]
  },
  {
   "cell_type": "code",
   "execution_count": 226,
   "metadata": {
    "collapsed": false
   },
   "outputs": [],
   "source": [
    "F_new[K[0,0],cols[0,0]] += F_old[0,0]"
   ]
  },
  {
   "cell_type": "code",
   "execution_count": 227,
   "metadata": {
    "collapsed": false
   },
   "outputs": [
    {
     "data": {
      "text/plain": [
       "array([[ 0.,  0.],\n",
       "       [ 5.,  0.]])"
      ]
     },
     "execution_count": 227,
     "metadata": {},
     "output_type": "execute_result"
    }
   ],
   "source": [
    "F_new"
   ]
  },
  {
   "cell_type": "code",
   "execution_count": 228,
   "metadata": {
    "collapsed": true
   },
   "outputs": [],
   "source": [
    "F_new[K[1,0],cols[1,0]] += F_old[1,0]"
   ]
  },
  {
   "cell_type": "code",
   "execution_count": 229,
   "metadata": {
    "collapsed": false
   },
   "outputs": [
    {
     "data": {
      "text/plain": [
       "array([[ 0.,  0.],\n",
       "       [ 2.,  0.]])"
      ]
     },
     "execution_count": 229,
     "metadata": {},
     "output_type": "execute_result"
    }
   ],
   "source": [
    "F_new"
   ]
  },
  {
   "cell_type": "code",
   "execution_count": 220,
   "metadata": {
    "collapsed": false
   },
   "outputs": [
    {
     "data": {
      "text/plain": [
       "(1, 0.0)"
      ]
     },
     "execution_count": 220,
     "metadata": {},
     "output_type": "execute_result"
    }
   ],
   "source": [
    "K[0,0], cols[0,0]"
   ]
  },
  {
   "cell_type": "code",
   "execution_count": 212,
   "metadata": {
    "collapsed": false
   },
   "outputs": [
    {
     "data": {
      "text/plain": [
       "array([[  0.,  -3.],\n",
       "       [ -6., -20.]])"
      ]
     },
     "execution_count": 212,
     "metadata": {},
     "output_type": "execute_result"
    }
   ],
   "source": [
    "F_new"
   ]
  },
  {
   "cell_type": "code",
   "execution_count": 213,
   "metadata": {
    "collapsed": false
   },
   "outputs": [
    {
     "data": {
      "text/plain": [
       "array([[  5,  -3],\n",
       "       [ -3, -10]])"
      ]
     },
     "execution_count": 213,
     "metadata": {},
     "output_type": "execute_result"
    }
   ],
   "source": [
    "F_old"
   ]
  },
  {
   "cell_type": "code",
   "execution_count": 230,
   "metadata": {
    "collapsed": false
   },
   "outputs": [
    {
     "data": {
      "text/plain": [
       "array([0, 1, 2])"
      ]
     },
     "execution_count": 230,
     "metadata": {},
     "output_type": "execute_result"
    }
   ],
   "source": [
    "x.prepoints"
   ]
  },
  {
   "cell_type": "markdown",
   "metadata": {},
   "source": [
    "## Generalizing Beta_matrix(*args) method"
   ]
  },
  {
   "cell_type": "markdown",
   "metadata": {},
   "source": [
    "#### Current form: x-advection"
   ]
  },
  {
   "cell_type": "code",
   "execution_count": null,
   "metadata": {
    "collapsed": true
   },
   "outputs": [],
   "source": [
    "def Beta_matrix(sim_params, z, vz):\n",
    "    \"\"\"constructs the B matrix, whose columns are\n",
    "    the beta vectors (shape = N x 1) for each value\n",
    "    of the generalized velocity for the advecting\n",
    "    variable z.\n",
    "\n",
    "    See DECSKS-09 part 1 for details of this calculation\n",
    "\n",
    "    inputs:\n",
    "    sim_params -- (dict) simulation parameters\n",
    "    z.CFL.frac -- (ndarray, ndim=2) contains the fractional CFL numbers\n",
    "                  for every [i,j]\n",
    "    \"\"\"\n",
    "\n",
    "    # TODO currently thought through for x advection, will need to think about\n",
    "    # how to make this work for v advection, it is possible all that is needed is a tranpose\n",
    "    # operation\n",
    "\n",
    "    # local copies of A matrices\n",
    "    A_neg = sim_params['A_matrix']['-1']\n",
    "    A_pos = sim_params['A_matrix']['1']\n",
    "\n",
    "    N_arr = np.outer(np.arange(1,sim_params['N']+1), np.ones([1,vz.N]))\n",
    "\n",
    "    # for broadcasting operations below to an N x vz.N array\n",
    "    # we require an identically dimensioned matrix. Hence, we slice the rows up to N values.\n",
    "    # There is no loss of information here given that every row entry in the z.CFL.frac matrix\n",
    "    # is constant, given z.CFL.frac = z.CFL.frac (vz.prepointvaluemesh)\n",
    "\n",
    "    # Naming per DECSKS-09 notebook:\n",
    "    #\n",
    "    #        alpha = z.CFL.frac, shape: (z.N, vz.N)\n",
    "    #        alpha_hat = truncated z.CFL.frac[:N, :vz.N], vz.N = z.CFL.frac.shape[1]\n",
    "    #        alpha_tilde : alpha_tilde[q,j] = alpha_hat ** q,q = 0, 1, ... N-1\n",
    "    #\n",
    "\n",
    "    alpha_hat = z.CFL.frac[:sim_params['N'],:z.CFL.frac.shape[1]]\n",
    "    alpha_tilde = ma.array(alpha_hat ** N_arr / scipy.misc.factorial(N_arr))\n",
    "\n",
    "    mask_neg = (alpha_hat < 0)\n",
    "    mask_pos = np.logical_not(mask_neg)\n",
    "\n",
    "    # mask out negative values, leave only positives (>= 0)\n",
    "    alpha_tilde.mask = mask_neg\n",
    "\n",
    "    # operate on only positive vlaues (>= 0)\n",
    "    beta_pos = ma.dot(A_pos, alpha_tilde)\n",
    "\n",
    "    # mask out positive (>= 0), leave only negatives\n",
    "    alpha_tilde.mask = mask_pos\n",
    "\n",
    "    # operate on only negative values\n",
    "    beta_neg = ma.dot(A_neg, alpha_tilde)\n",
    "\n",
    "    # consolidate all columns in a single matrix\n",
    "    B = np.zeros([sim_params['N'], sim_params['N' + z.v_str]])\n",
    "\n",
    "    # wherever beta_neg.mask is False (i.e. unmasked value), assign beta_neg, otherwise beta_pos\n",
    "    B = np.where(mask_neg == True, beta_neg.data, beta_pos.data)\n",
    "\n",
    "    return B\n"
   ]
  },
  {
   "cell_type": "markdown",
   "metadata": {
    "collapsed": true
   },
   "source": [
    "# Extensions to $v$-advection"
   ]
  },
  {
   "cell_type": "markdown",
   "metadata": {},
   "source": [
    "<b>Recall</b>, for the case of $x$ moving cells in advected, we have $\\alpha = \\alpha_j$, thus $\\beta^{(i,j)}_p = \\beta^{,j}_p$ for all $i$ and we save $N_x$ computations by constancy in $i$ at each $j$ (as well as storage). For every $j$ ($v_j$), we can find the associated $N$ correctors $\\{\\beta^{,j}\\}$ that corresponds to all $x_i$ at that velocity as the solution to:\n",
    "\n",
    "$$\\left(\\begin{array}{c}\n",
    "\\beta^{,j}_0 \\\\\n",
    "\\beta^{,j}_1 \\\\\n",
    "\\beta^{,j}_2 \\\\\n",
    "\\beta^{,j}_3 \\\\\n",
    "\\vdots \\\\\n",
    "\\vdots \\\\\n",
    "\\beta^{,j}_{N-3} \\\\\n",
    "\\beta^{,j}_{N-2} \\\\\n",
    "\\beta^{,j}_{N-1} \n",
    "\\end{array}\\right)_{N\\times 1} = \\left(\\begin{array}{ccc c ccc}\n",
    "\\phantom{\\pm}\\frac{B_0}{0!} & \\phantom{\\pm}0 & \\cdots & \\cdots & \\cdots & \\cdots & \\cdots & \\cdots & 0\\\\\n",
    "\\pm \\frac{B_1}{1!} & \\phantom{\\pm}\\frac{B_0}{0!} & 0 & \\cdots & \\cdots & \\cdots & \\cdots & \\cdots & 0 \\\\\n",
    "\\phantom{\\pm}\\frac{B_2}{2!} & \\pm \\frac{B_1}{1!} & \\phantom{\\pm}\\frac{B_0}{0!} & 0 & \\cdots &  \\cdots & \\cdots &  \\cdots & 0 \\\\\n",
    " \\phantom{\\pm}\\frac{B_3}{3!}& \\phantom{\\pm}\\frac{B_2}{2!} & \\pm \\frac{B_1}{1!} & \\frac{B_0}{0!} & 0 &  \\cdots & \\cdots  &  \\cdots &0 \\\\\n",
    "\\phantom{\\pm}\\vdots & \\phantom{\\pm}\\vdots & \\ddots & \\ddots & \\ddots & \\ddots &  & & 0\\\\\n",
    "\\phantom{\\pm}\\vdots & \\phantom{\\pm}\\vdots &  & \\ddots & \\ddots & \\ddots & \\ddots & & 0 \\\\\n",
    "\\phantom{\\pm}\\frac{B_{N-3}}{(N-3)!} & \\phantom{\\pm}\\frac{B_{N-4}}{(N-4)!} & \\cdots & \\cdots & \\ddots & \\pm \\frac{B_1}{1!} & \\phantom{\\pm}\\frac{B_0}{0!} & 0 & 0\\\\\n",
    "\\phantom{\\pm}\\frac{B_{N-2}}{(N-2)!} & \\phantom{\\pm}\\frac{B_{N-3}}{(N-3)!} & \\cdots  & \\cdots & \\cdots & \\phantom{\\pm}\\frac{B_2}{2!} & \\pm \\frac{B_1}{1!} & \\frac{B_0}{0!} & 0\\\\\n",
    "\\phantom{\\pm}\\frac{B_{N-1}}{(N-1)!} & \\phantom{\\pm}\\frac{B_{N-2}}{(N-2)!} & \\cdots & \\cdots & \\cdots & \\phantom{\\pm}\\frac{B_3}{3!} & \\phantom{\\pm}\\frac{B_2}{2!} & \\pm \\frac{B_1}{1!} & \\frac{B_0}{0!}\\\\\n",
    "\\end{array}\\right)_{N\\times N} \\left(\\begin{array}{c}\n",
    "\\frac{\\alpha_{,j}^1}{1!} \\\\\n",
    "\\frac{\\alpha_{,j}^2}{2!} \\\\\n",
    "\\frac{\\alpha_{,j}^3}{3!}\\\\\n",
    "\\vdots \\\\\n",
    "\\vdots \\\\\n",
    "\\frac{\\alpha_{,j}^{N-2}}{(N-2)!}\\\\\n",
    "\\frac{\\alpha_{,j}^{N-1}}{(N-1)!} \\\\\n",
    "\\frac{\\alpha_{,j}^N}{N!}\n",
    "\\end{array}\n",
    "\\right)_{N\\times 1}, \\qquad \\text{x advection} \\qquad \\text{for all } j\\in [0,1,\\ldots , N_v - 1]$$\n"
   ]
  },
  {
   "cell_type": "markdown",
   "metadata": {},
   "source": [
    "For $v$-advection, we have $\\alpha = \\alpha (x_i)$ (correspondingly $\\beta = \\beta (x_i)$), so the according changeovers required are $\\alpha_{,j} \\rightarrow \\alpha_i$, where the entries are constant for each column entry in a given row (before we had each row being constant for each column). <b>We acknowledge the idea of transposing the CFL matrix for these flux and correction calculations may be advantageous in that we can reuse the above routine, then transpose back</b>. A test of the transpose operation from numpy shows the following sort of time expense"
   ]
  },
  {
   "cell_type": "code",
   "execution_count": 3,
   "metadata": {
    "collapsed": true
   },
   "outputs": [],
   "source": [
    "import numpy as np\n",
    "A = np.random.randn(768, 1536)"
   ]
  },
  {
   "cell_type": "code",
   "execution_count": 4,
   "metadata": {
    "collapsed": false
   },
   "outputs": [
    {
     "name": "stdout",
     "output_type": "stream",
     "text": [
      "The slowest run took 29.84 times longer than the fastest. This could mean that an intermediate result is being cached \n",
      "1000000 loops, best of 3: 431 ns per loop\n"
     ]
    }
   ],
   "source": [
    "%%timeit\n",
    "\n",
    "np.transpose(A)"
   ]
  },
  {
   "cell_type": "markdown",
   "metadata": {},
   "source": [
    "So the operational cost, being a tenth of a microsecond is manageable to introduce if desired."
   ]
  },
  {
   "cell_type": "markdown",
   "metadata": {},
   "source": [
    "Thus, each $\\alpha_i$ is applicable for all $j$ in a row.\n",
    "\n",
    "$$\\left(\\begin{array}{c}\n",
    "\\beta^{i}_0 \\\\\n",
    "\\beta^{i}_1 \\\\\n",
    "\\beta^{i}_2 \\\\\n",
    "\\beta^{i}_3 \\\\\n",
    "\\vdots \\\\\n",
    "\\vdots \\\\\n",
    "\\beta^{i}_{N-3} \\\\\n",
    "\\beta^{i}_{N-2} \\\\\n",
    "\\beta^{i}_{N-1} \n",
    "\\end{array}\\right)_{N\\times 1} = \\left(\\begin{array}{ccc c ccc}\n",
    "\\phantom{\\pm}\\frac{B_0}{0!} & \\phantom{\\pm}0 & \\cdots & \\cdots & \\cdots & \\cdots & \\cdots & \\cdots & 0\\\\\n",
    "\\pm \\frac{B_1}{1!} & \\phantom{\\pm}\\frac{B_0}{0!} & 0 & \\cdots & \\cdots & \\cdots & \\cdots & \\cdots & 0 \\\\\n",
    "\\phantom{\\pm}\\frac{B_2}{2!} & \\pm \\frac{B_1}{1!} & \\phantom{\\pm}\\frac{B_0}{0!} & 0 & \\cdots &  \\cdots & \\cdots &  \\cdots & 0 \\\\\n",
    " \\phantom{\\pm}\\frac{B_3}{3!}& \\phantom{\\pm}\\frac{B_2}{2!} & \\pm \\frac{B_1}{1!} & \\frac{B_0}{0!} & 0 &  \\cdots & \\cdots  &  \\cdots &0 \\\\\n",
    "\\phantom{\\pm}\\vdots & \\phantom{\\pm}\\vdots & \\ddots & \\ddots & \\ddots & \\ddots &  & & 0\\\\\n",
    "\\phantom{\\pm}\\vdots & \\phantom{\\pm}\\vdots &  & \\ddots & \\ddots & \\ddots & \\ddots & & 0 \\\\\n",
    "\\phantom{\\pm}\\frac{B_{N-3}}{(N-3)!} & \\phantom{\\pm}\\frac{B_{N-4}}{(N-4)!} & \\cdots & \\cdots & \\ddots & \\pm \\frac{B_1}{1!} & \\phantom{\\pm}\\frac{B_0}{0!} & 0 & 0\\\\\n",
    "\\phantom{\\pm}\\frac{B_{N-2}}{(N-2)!} & \\phantom{\\pm}\\frac{B_{N-3}}{(N-3)!} & \\cdots  & \\cdots & \\cdots & \\phantom{\\pm}\\frac{B_2}{2!} & \\pm \\frac{B_1}{1!} & \\frac{B_0}{0!} & 0\\\\\n",
    "\\phantom{\\pm}\\frac{B_{N-1}}{(N-1)!} & \\phantom{\\pm}\\frac{B_{N-2}}{(N-2)!} & \\cdots & \\cdots & \\cdots & \\phantom{\\pm}\\frac{B_3}{3!} & \\phantom{\\pm}\\frac{B_2}{2!} & \\pm \\frac{B_1}{1!} & \\frac{B_0}{0!}\\\\\n",
    "\\end{array}\\right)_{N\\times N} \\left(\\begin{array}{c}\n",
    "\\frac{\\alpha_{i}^1}{1!} \\\\\n",
    "\\frac{\\alpha_{i}^2}{2!} \\\\\n",
    "\\frac{\\alpha_{i}^3}{3!}\\\\\n",
    "\\vdots \\\\\n",
    "\\vdots \\\\\n",
    "\\frac{\\alpha_{i}^{N-2}}{(N-2)!}\\\\\n",
    "\\frac{\\alpha_{i}^{N-1}}{(N-1)!} \\\\\n",
    "\\frac{\\alpha_{i}^N}{N!}\n",
    "\\end{array}\n",
    "\\right)_{N\\times 1}, \\qquad \\text{v advection} \\qquad \\text{for all } i\\in [0,1,\\ldots , N_x - 1]$$"
   ]
  },
  {
   "cell_type": "markdown",
   "metadata": {},
   "source": [
    "Recall the $\\alpha$ tensor for $v$-advection takes the form:\n",
    "\n",
    "$$\\underline{\\underline{\\alpha}} = (\\alpha_i) = \\left(\\begin{array}{ccccc}\n",
    "\\alpha_{0} & \\alpha_{0} & \\cdots & \\alpha_{0} & \\alpha_{0} \\\\\n",
    "\\alpha_{1} & \\alpha_{1} & \\cdots & \\alpha_{1} & \\alpha_{1} \\\\\n",
    "\\vdots & \\vdots && \\vdots & \\vdots \\\\\n",
    "\\alpha_{N_x-2} & \\alpha_{N_x-2} & \\cdots & \\alpha_{N_x-2} & \\alpha_{N_x-2} \\\\\n",
    "\\alpha_{N_x-1} & \\alpha_{N_x-1} & \\cdots & \\alpha_{N_x-1} & \\alpha_{N_x-1} \\\\\n",
    "\\end{array}\n",
    "\\right)_{N_x\\times N_v} \\qquad \\text{for } v \\text{ advection}$$\n",
    "\n",
    "Or, the transpose ($\\alpha_{i,j} \\rightarrow \\alpha^T_{i,j}$) we recover a similar looking result to the case of $x$-advection:"
   ]
  },
  {
   "cell_type": "markdown",
   "metadata": {},
   "source": [
    "$$\\underline{\\underline{\\alpha}}^T = (\\alpha_{,j}^T) = \\left(\\begin{array}{ccccc}\n",
    "\\alpha_{,0} & \\alpha_{,1} & \\cdots & \\alpha_{,N_x- 2} & \\alpha_{,N_x-1} \\\\\n",
    "\\alpha_{,0} & \\alpha_{,1} & \\cdots & \\alpha_{,N_x- 2} & \\alpha_{,N_x-1} \\\\\n",
    "\\vdots & \\vdots & & \\vdots & \\vdots \\\\\n",
    "\\alpha_{,0} & \\alpha_{,1} & \\cdots & \\alpha_{,N_x- 2} & \\alpha_{,N_x-1} \\\\\n",
    "\\alpha_{,0} & \\alpha_{,1} & \\cdots & \\alpha_{,N_x- 2} & \\alpha_{,N_x-1} \\\\\n",
    "\\end{array}\n",
    "\\right)_{N_v \\times N_x} \\qquad \\text{for } v \\text{ advection}$$"
   ]
  },
  {
   "cell_type": "markdown",
   "metadata": {},
   "source": [
    "This reproduces the model used in $x$-advection, so we can then assemble the $\\tilde{\\alpha}$ tensor as"
   ]
  },
  {
   "cell_type": "markdown",
   "metadata": {},
   "source": [
    "To compute the scaled vector $\\underline{\\tilde{\\alpha}}_{i} = (\\underline{\\tilde{\\alpha}}_{i})_{N\\times 1}$, we use numpy vectorized computations:\n",
    "\n",
    "    import scipy\n",
    "    import numpy as np\n",
    "    \n",
    "    alpha_tilde_j = CFL.frac[0,j] ** np.arange(1,N+1) / scipy.misc.factorial(np.arange(1,N+1))\n",
    "    \n",
    "<b>we can take any i = 0, 1, ..., x.N as every column has constant CFL.frac $\\equiv \\alpha$</b> (cf. above matrix for $\\underline{\\underline{\\alpha}}$), here arbitrarily take i = 0. In pseudo-math/code, we are computing:\n",
    "\n",
    "$$(\\underline{\\tilde{\\alpha}_{,j}})_{N\\times 1} = \\frac{\\alpha_j^{(1, 2, \\ldots , N)}}{(1, 2, \\ldots , N)!}, \\qquad j\\in [0,1,\\ldots , N_v - 1]$$\n",
    "\n",
    "Which computes by efficient vectorized computation, the following in proper mathematics:\n",
    "\n",
    "$$\\tilde{\\alpha}_{,j} = \\frac{\\alpha_j^p}{p!} \\quad \\text{where } p\\in [1,2,\\ldots , N]$$\n",
    "\n",
    "for some $j$.\n",
    "    "
   ]
  },
  {
   "cell_type": "code",
   "execution_count": 9,
   "metadata": {
    "collapsed": false
   },
   "outputs": [
    {
     "name": "stdout",
     "output_type": "stream",
     "text": [
      "[[  1.   1.   1.   1.   1.   1.   1.   1.   1.   1.]\n",
      " [  2.   2.   2.   2.   2.   2.   2.   2.   2.   2.]\n",
      " [  3.   3.   3.   3.   3.   3.   3.   3.   3.   3.]\n",
      " [  4.   4.   4.   4.   4.   4.   4.   4.   4.   4.]\n",
      " [  5.   5.   5.   5.   5.   5.   5.   5.   5.   5.]\n",
      " [  6.   6.   6.   6.   6.   6.   6.   6.   6.   6.]\n",
      " [  7.   7.   7.   7.   7.   7.   7.   7.   7.   7.]\n",
      " [  8.   8.   8.   8.   8.   8.   8.   8.   8.   8.]\n",
      " [  9.   9.   9.   9.   9.   9.   9.   9.   9.   9.]\n",
      " [ 10.  10.  10.  10.  10.  10.  10.  10.  10.  10.]\n",
      " [ 11.  11.  11.  11.  11.  11.  11.  11.  11.  11.]\n",
      " [ 12.  12.  12.  12.  12.  12.  12.  12.  12.  12.]\n",
      " [ 13.  13.  13.  13.  13.  13.  13.  13.  13.  13.]\n",
      " [ 14.  14.  14.  14.  14.  14.  14.  14.  14.  14.]\n",
      " [ 15.  15.  15.  15.  15.  15.  15.  15.  15.  15.]\n",
      " [ 16.  16.  16.  16.  16.  16.  16.  16.  16.  16.]\n",
      " [ 17.  17.  17.  17.  17.  17.  17.  17.  17.  17.]\n",
      " [ 18.  18.  18.  18.  18.  18.  18.  18.  18.  18.]\n",
      " [ 19.  19.  19.  19.  19.  19.  19.  19.  19.  19.]\n",
      " [ 20.  20.  20.  20.  20.  20.  20.  20.  20.  20.]\n",
      " [ 21.  21.  21.  21.  21.  21.  21.  21.  21.  21.]]\n",
      "(21, 10)\n",
      "vs\n",
      "[[  1.   2.   3.   4.   5.   6.   7.   8.   9.  10.  11.  12.  13.  14.\n",
      "   15.  16.  17.  18.  19.  20.  21.]\n",
      " [  1.   2.   3.   4.   5.   6.   7.   8.   9.  10.  11.  12.  13.  14.\n",
      "   15.  16.  17.  18.  19.  20.  21.]\n",
      " [  1.   2.   3.   4.   5.   6.   7.   8.   9.  10.  11.  12.  13.  14.\n",
      "   15.  16.  17.  18.  19.  20.  21.]\n",
      " [  1.   2.   3.   4.   5.   6.   7.   8.   9.  10.  11.  12.  13.  14.\n",
      "   15.  16.  17.  18.  19.  20.  21.]\n",
      " [  1.   2.   3.   4.   5.   6.   7.   8.   9.  10.  11.  12.  13.  14.\n",
      "   15.  16.  17.  18.  19.  20.  21.]\n",
      " [  1.   2.   3.   4.   5.   6.   7.   8.   9.  10.  11.  12.  13.  14.\n",
      "   15.  16.  17.  18.  19.  20.  21.]\n",
      " [  1.   2.   3.   4.   5.   6.   7.   8.   9.  10.  11.  12.  13.  14.\n",
      "   15.  16.  17.  18.  19.  20.  21.]\n",
      " [  1.   2.   3.   4.   5.   6.   7.   8.   9.  10.  11.  12.  13.  14.\n",
      "   15.  16.  17.  18.  19.  20.  21.]\n",
      " [  1.   2.   3.   4.   5.   6.   7.   8.   9.  10.  11.  12.  13.  14.\n",
      "   15.  16.  17.  18.  19.  20.  21.]\n",
      " [  1.   2.   3.   4.   5.   6.   7.   8.   9.  10.  11.  12.  13.  14.\n",
      "   15.  16.  17.  18.  19.  20.  21.]]\n",
      "(10, 21)\n"
     ]
    }
   ],
   "source": [
    "import numpy as np\n",
    "\n",
    "sim_params = {}\n",
    "sim_params['N'] = 21\n",
    "Nvz = 10\n",
    "\n",
    "N_arr = np.outer(np.arange(1,sim_params['N']+1), np.ones([1,Nvz]))\n",
    "\n",
    "print N_arr\n",
    "print N_arr.shape\n",
    "\n",
    "print \"vs\"\n",
    "\n",
    "N_arr = np.outer(np.ones([1,Nvz]), np.arange(1,sim_params['N']+1))\n",
    "\n",
    "print N_arr\n",
    "print N_arr.shape\n"
   ]
  },
  {
   "cell_type": "markdown",
   "metadata": {},
   "source": [
    "## Validating lib.derivatives.trigonometric2D(*args)"
   ]
  },
  {
   "cell_type": "markdown",
   "metadata": {},
   "source": [
    "Benchmark against first derivative first, then try to generalize after."
   ]
  },
  {
   "cell_type": "code",
   "execution_count": 124,
   "metadata": {
    "collapsed": false
   },
   "outputs": [],
   "source": [
    "import numpy as np\n",
    "import matplotlib.pyplot as plt\n",
    "\n",
    "def trigonometric2D_df1(f,\n",
    "                    Nx,\n",
    "                    xwidth,\n",
    "                    xi\n",
    "                    ):\n",
    "    \"\"\"Computes derivatives of density for derivative coeffs d in FN methods\n",
    "\n",
    "    inputs:\n",
    "    f -- (ndarray, dim=1) f(z1,z2=const,z3=const,..., t = n-1)\n",
    "    z -- (instance) phase space variable being convected\n",
    "    q -- (int) order of desired derivative\n",
    "    xi -- (ndarray, dim=2) 1D wave numbers stacked in columns for column-wise\n",
    "          fourier transform.\n",
    "    sim_params -- (dict) simulation parameters\n",
    "    K -- (ndarray, ndim=1) Windowed Fourier transform kernel\n",
    "\n",
    "    outputs:\n",
    "    d -- (ndarray, dim=1) qth derivative coefficient for all z.prepoints\n",
    "    \"\"\"\n",
    "\n",
    "    # need to specify the axis in numpy v1.11.0.dev0+fe64f97, has opposite default axis\n",
    "    # as prior versions!\n",
    "    Ff = np.fft.fft(f, axis = 0)\n",
    "\n",
    "    #    eps = np.finfo(np.float)()\n",
    "\n",
    "    #    Ff = np.where(Ff < eps, 0, Ff)\n",
    "\n",
    "    # calc first derivative only for this test\n",
    "    D = (1j*xi) * Ff # in actual CS implementation, should mutltiply by xwidth ** q \n",
    "                     # here, we are benchmarking against derivatives to compare easily\n",
    "                     # rather than comparing the derivative coeffs d = xwidth ** q * (FDcoef)\n",
    "            \n",
    "    d = np.real(np.fft.ifft(D, axis = 0))\n",
    "\n",
    "    return d\n"
   ]
  },
  {
   "cell_type": "code",
   "execution_count": 125,
   "metadata": {
    "collapsed": false
   },
   "outputs": [],
   "source": [
    "# create a test matrix of densities which require row-wise differentiation for each column\n",
    "x = np.linspace(0,2*np.pi, 101)\n",
    "\n",
    "f = np.zeros([x.shape[0], 3])\n",
    "for n in range(3):\n",
    "    f[:,n] = np.cos((n+1)*x)\n",
    "    \n",
    "# calculate wave numbers\n",
    "Nx = f.shape[0]\n",
    "Nv = f.shape[1]\n",
    "xwidth = x[1] - x[0]\n",
    "L = x[-1] - x[0]\n",
    "\n",
    "wave_index = np.arange(Nx)\n",
    "\n",
    "xi = np.where(wave_index <= Nx / 2,\n",
    "              2*np.pi*wave_index / L,\n",
    "              2*np.pi*(wave_index - Nx) / L)\n",
    "\n",
    "# project wave numbers across grid, (Nx, Nv), rows enumerate xi\n",
    "xi = np.outer(xi, np.ones(Nv))\n",
    "\n",
    "\n",
    "d = trigonometric2D_df1(f,\n",
    "                    Nx,\n",
    "                    xwidth,\n",
    "                    xi)\n",
    "\n"
   ]
  },
  {
   "cell_type": "markdown",
   "metadata": {},
   "source": [
    "exact derivatives are"
   ]
  },
  {
   "cell_type": "code",
   "execution_count": 129,
   "metadata": {
    "collapsed": true
   },
   "outputs": [],
   "source": [
    "import numpy as np\n",
    "\n",
    "df = np.zeros((x.shape[0], 3))\n",
    "\n",
    "for n in range(3):\n",
    "    df[:,n] = -(n+1)*np.sin((n+1)*x)"
   ]
  },
  {
   "cell_type": "markdown",
   "metadata": {},
   "source": [
    "## col 0: df = -np.sin(x)"
   ]
  },
  {
   "cell_type": "code",
   "execution_count": 131,
   "metadata": {
    "collapsed": false
   },
   "outputs": [
    {
     "data": {
      "text/plain": [
       "[<matplotlib.lines.Line2D at 0x49d97d0>]"
      ]
     },
     "execution_count": 131,
     "metadata": {},
     "output_type": "execute_result"
    },
    {
     "data": {
      "image/png": "[encoded data removed]",
      "text/plain": [
       "<matplotlib.figure.Figure at 0x49d98d0>"
      ]
     },
     "metadata": {},
     "output_type": "display_data"
    }
   ],
   "source": [
    "plt.plot(x, df[:,0], linewidth = 2, color = 'red')\n",
    "plt.plot(x, d[:,0], linewidth = 2, linestyle = '--', color = 'blue')"
   ]
  },
  {
   "cell_type": "markdown",
   "metadata": {},
   "source": [
    "## col 1: df = -2*np.sin(2*x)"
   ]
  },
  {
   "cell_type": "code",
   "execution_count": 132,
   "metadata": {
    "collapsed": false
   },
   "outputs": [
    {
     "data": {
      "text/plain": [
       "[<matplotlib.lines.Line2D at 0x47f8810>]"
      ]
     },
     "execution_count": 132,
     "metadata": {},
     "output_type": "execute_result"
    },
    {
     "data": {
      "image/png": "[encoded data removed]",
      "text/plain": [
       "<matplotlib.figure.Figure at 0x4cdca50>"
      ]
     },
     "metadata": {},
     "output_type": "display_data"
    }
   ],
   "source": [
    "plt.plot(x, df[:,1], linewidth = 2, color = 'red')\n",
    "plt.plot(x, d[:,1], linewidth = 2, linestyle = '--', color = 'blue')"
   ]
  },
  {
   "cell_type": "markdown",
   "metadata": {},
   "source": [
    "## col 2: df = -3*np.sin(3*x)"
   ]
  },
  {
   "cell_type": "code",
   "execution_count": 133,
   "metadata": {
    "collapsed": false
   },
   "outputs": [
    {
     "data": {
      "text/plain": [
       "[<matplotlib.lines.Line2D at 0x4aefed0>]"
      ]
     },
     "execution_count": 133,
     "metadata": {},
     "output_type": "execute_result"
    },
    {
     "data": {
      "image/png": "[encoded data removed]",
      "text/plain": [
       "<matplotlib.figure.Figure at 0x40bc6d0>"
      ]
     },
     "metadata": {},
     "output_type": "display_data"
    }
   ],
   "source": [
    "plt.plot(x, df[:,2], linewidth = 2, color = 'red')\n",
    "plt.plot(x, d[:,2], linewidth = 2, linestyle = '--', color = 'blue')"
   ]
  },
  {
   "cell_type": "markdown",
   "metadata": {},
   "source": [
    "So the 2D fft/ifft work out for a single derivative. This in an improvement from before where we were taking fft/ifft of columns one by one using pure python looping."
   ]
  },
  {
   "cell_type": "markdown",
   "metadata": {},
   "source": [
    "## extending to handle multiple derivative numbers"
   ]
  },
  {
   "cell_type": "code",
   "execution_count": 124,
   "metadata": {
    "collapsed": false
   },
   "outputs": [],
   "source": [
    "import numpy as np\n",
    "import matplotlib.pyplot as plt\n",
    "\n",
    "def trigonometric2D(f,\n",
    "                    Nx,\n",
    "                    xwidth,\n",
    "                    xi\n",
    "                    ):\n",
    "    \"\"\"Computes derivatives of density for derivative coeffs d in FN methods\n",
    "\n",
    "    inputs:\n",
    "    f -- (ndarray, dim=1) f(z1,z2=const,z3=const,..., t = n-1)\n",
    "    z -- (instance) phase space variable being convected\n",
    "    q -- (int) order of desired derivative\n",
    "    xi -- (ndarray, dim=2) 1D wave numbers stacked in columns for column-wise\n",
    "          fourier transform.\n",
    "    sim_params -- (dict) simulation parameters\n",
    "    K -- (ndarray, ndim=1) Windowed Fourier transform kernel\n",
    "\n",
    "    outputs:\n",
    "    d -- (ndarray, dim=1) qth derivative coefficient for all z.prepoints\n",
    "    \"\"\"\n",
    "\n",
    "    # need to specify the axis in numpy v1.11.0.dev0+fe64f97, has opposite default axis\n",
    "    # as prior versions!\n",
    "    Ff = np.fft.fft(f, axis = 0)\n",
    "\n",
    "    #    eps = np.finfo(np.float)()\n",
    "\n",
    "    #    Ff = np.where(Ff < eps, 0, Ff)\n",
    "\n",
    "    # calc first derivative only for this test\n",
    "    D = (1j*xi) * Ff # in actual CS implementation, should mutltiply by xwidth ** q \n",
    "                     # here, we are benchmarking against derivatives to compare easily\n",
    "                     # rather than comparing the derivative coeffs d = xwidth ** q * (FDcoef)\n",
    "            \n",
    "    d = np.real(np.fft.ifft(D, axis = 0))\n",
    "\n",
    "    return d\n"
   ]
  },
  {
   "cell_type": "markdown",
   "metadata": {},
   "source": [
    "Try raising the 2D matrix to a power that is a list, np.arange(N), <b>example case here: N = 3</b>"
   ]
  },
  {
   "cell_type": "code",
   "execution_count": 227,
   "metadata": {
    "collapsed": false
   },
   "outputs": [],
   "source": [
    "import numpy as np\n",
    "\n",
    "Ff = np.fft.fft(f, axis = 0)\n",
    "\n",
    "N = 4\n",
    "pow = np.arange(1,N).reshape(N-1,1,1)\n",
    "xi_mat = (1j * xi) ** pow \n",
    "Fdf_3D = xi_mat * Ff\n",
    "Fdf3_2D = (1j*xi) ** 3 * Ff\n",
    "Fdf2_2D = (1j*xi)**2 * Ff\n",
    "Fdf1_2D = (1j*xi) ** 1 * Ff"
   ]
  },
  {
   "cell_type": "code",
   "execution_count": 228,
   "metadata": {
    "collapsed": false
   },
   "outputs": [],
   "source": [
    "df2_fourier2D = np.real(np.fft.ifft(Fdf2_2D, axis = 0))"
   ]
  },
  {
   "cell_type": "code",
   "execution_count": 229,
   "metadata": {
    "collapsed": true
   },
   "outputs": [],
   "source": [
    "df1_fourier2D = np.real(np.fft.ifft(Fdf1_2D,  axis = 0))"
   ]
  },
  {
   "cell_type": "code",
   "execution_count": 234,
   "metadata": {
    "collapsed": true
   },
   "outputs": [],
   "source": [
    "df3_fourier2D = np.real(np.fft.ifft(Fdf3_2D, axis = 0))"
   ]
  },
  {
   "cell_type": "code",
   "execution_count": 235,
   "metadata": {
    "collapsed": false
   },
   "outputs": [],
   "source": [
    "df_3D = np.real(np.fft.ifft(Fdf_3D, axis = 0))"
   ]
  },
  {
   "cell_type": "code",
   "execution_count": 240,
   "metadata": {
    "collapsed": true
   },
   "outputs": [],
   "source": [
    "df_exact = np.zeros((N,x.shape[0],f.shape[1]))\n",
    "for j in range(f.shape[1]):\n",
    "    df_exact[0,:,j] = -(j+1)*np.sin((j+1)*x)\n",
    "    df_exact[1,:,j] = -(j+1) ** 2 * np.cos((j+1)*x)\n",
    "    df_exact[2,:,j] = (j+1) ** 3 * np.sin((j+1)*x)"
   ]
  },
  {
   "cell_type": "markdown",
   "metadata": {},
   "source": [
    "## df1 check with fourier2D"
   ]
  },
  {
   "cell_type": "code",
   "execution_count": 249,
   "metadata": {
    "collapsed": false,
    "scrolled": true
   },
   "outputs": [
    {
     "data": {
      "text/plain": [
       "[<matplotlib.lines.Line2D at 0x51f3890>,\n",
       " <matplotlib.lines.Line2D at 0x61c0f90>,\n",
       " <matplotlib.lines.Line2D at 0x61c2150>]"
      ]
     },
     "execution_count": 249,
     "metadata": {},
     "output_type": "execute_result"
    },
    {
     "data": {
      "image/png": "[encoded data removed]",
      "text/plain": [
       "<matplotlib.figure.Figure at 0x5f3e350>"
      ]
     },
     "metadata": {},
     "output_type": "display_data"
    }
   ],
   "source": [
    "for j in range(f.shape[1]):\n",
    "    plt.plot(x,df_exact[0,:,j], linewidth = 2)\n",
    "\n",
    "plt.plot(x, df1_fourier2D, 'o')"
   ]
  },
  {
   "cell_type": "markdown",
   "metadata": {},
   "source": [
    "## df2 check with fourier2D"
   ]
  },
  {
   "cell_type": "code",
   "execution_count": 252,
   "metadata": {
    "collapsed": false,
    "scrolled": true
   },
   "outputs": [
    {
     "data": {
      "text/plain": [
       "[<matplotlib.lines.Line2D at 0x6a05750>,\n",
       " <matplotlib.lines.Line2D at 0x6a3e190>,\n",
       " <matplotlib.lines.Line2D at 0x6a3e310>]"
      ]
     },
     "execution_count": 252,
     "metadata": {},
     "output_type": "execute_result"
    },
    {
     "data": {
      "image/png": "[encoded data removed]",
      "text/plain": [
       "<matplotlib.figure.Figure at 0x5205b10>"
      ]
     },
     "metadata": {},
     "output_type": "display_data"
    }
   ],
   "source": [
    "for j in range(f.shape[1]):\n",
    "    plt.plot(x,df_exact[1,:,j], linewidth = 2)\n",
    "\n",
    "plt.plot(x, df2_fourier2D, 'o')"
   ]
  },
  {
   "cell_type": "markdown",
   "metadata": {},
   "source": [
    "## df2 check with fourier2D"
   ]
  },
  {
   "cell_type": "code",
   "execution_count": 251,
   "metadata": {
    "collapsed": false
   },
   "outputs": [
    {
     "data": {
      "text/plain": [
       "[<matplotlib.lines.Line2D at 0x5f43450>,\n",
       " <matplotlib.lines.Line2D at 0x6772310>,\n",
       " <matplotlib.lines.Line2D at 0x6772490>]"
      ]
     },
     "execution_count": 251,
     "metadata": {},
     "output_type": "execute_result"
    },
    {
     "data": {
      "image/png": "[encoded data removed]",
      "text/plain": [
       "<matplotlib.figure.Figure at 0x62ab890>"
      ]
     },
     "metadata": {},
     "output_type": "display_data"
    }
   ],
   "source": [
    "for j in range(f.shape[1]):\n",
    "    plt.plot(x,df_exact[2,:,j], linewidth = 2)\n",
    "\n",
    "plt.plot(x, df3_fourier2D, 'o')"
   ]
  },
  {
   "cell_type": "markdown",
   "metadata": {},
   "source": [
    "## df_all check with fourier3D"
   ]
  },
  {
   "cell_type": "code",
   "execution_count": null,
   "metadata": {
    "collapsed": true
   },
   "outputs": [],
   "source": []
  }
 ],
 "metadata": {
  "kernelspec": {
   "display_name": "Python 2",
   "language": "python",
   "name": "python2"
  },
  "language_info": {
   "codemirror_mode": {
    "name": "ipython",
    "version": 2
   },
   "file_extension": ".py",
   "mimetype": "text/x-python",
   "name": "python",
   "nbconvert_exporter": "python",
   "pygments_lexer": "ipython2",
   "version": "2.7.3"
  }
 },
 "nbformat": 4,
 "nbformat_minor": 0
}

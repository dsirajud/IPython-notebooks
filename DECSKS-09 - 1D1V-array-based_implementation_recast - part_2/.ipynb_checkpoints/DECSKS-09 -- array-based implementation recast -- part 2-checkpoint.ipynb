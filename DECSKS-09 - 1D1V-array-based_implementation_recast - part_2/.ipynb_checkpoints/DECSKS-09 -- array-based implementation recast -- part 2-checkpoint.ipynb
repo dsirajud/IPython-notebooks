{
 "cells": [
  {
   "cell_type": "markdown",
   "metadata": {},
   "source": [
    "# Array-based recast of DECSKS p2: <font color = \"red\">DECSKS-v1.2</font> $\\Rightarrow$ <font color = \"green\">DECSKS-v2.0</font>\n",
    "\n",
    "#### For easy identification: changes to the code are titled in <font color = \"green\">green</font> for DECSKS-v2.0 and in <font color = \"red\">red</font> for the old DECSKS-v1.2 code that is being analyzed here to discern the appropriate changes."
   ]
  },
  {
   "cell_type": "code",
   "execution_count": 90,
   "metadata": {
    "collapsed": true
   },
   "outputs": [],
   "source": [
    "%reload_ext autoreload\n",
    "%autoreload 2 "
   ]
  },
  {
   "cell_type": "markdown",
   "metadata": {},
   "source": [
    "At this point we have created c (c.shape = (N, v.N)) and d (d.shape = (N, x.N, v.N)). Each column c[:,j] corresponds to the 1D advection problem for all $x$ MCs at a velocity $v_j$ on the mesh. Each 1D array d[dn,:,j] are the corresponding derivative coefficients for all $x$ at velocity $v_j$ for a derivative number $dn$ ($\\partial_x^{dn}$).\n",
    "\n",
    "For convenient referencing, the flux code is repeated here:"
   ]
  },
  {
   "cell_type": "markdown",
   "metadata": {},
   "source": [
    "####<font color = \"red\">DECSKS-v1.2: lib.convect.flux excerpt</font> "
   ]
  },
  {
   "cell_type": "code",
   "execution_count": null,
   "metadata": {
    "collapsed": true
   },
   "outputs": [],
   "source": [
    "    for q in range(1,sim_params['N']):\n",
    "        Uf += c[q]*d[:,q] # Flux = Uf + H.O.C. [High Order Corrections]"
   ]
  },
  {
   "cell_type": "markdown",
   "metadata": {},
   "source": [
    "Above, we are solving one 1D problem at a time, so c.shape = (N,), and d.shape = (x.N or v.N, N)\n",
    "\n",
    "Uf is updated according to an incremental update += above. This accomplishes the aforementioned HOC sum:\n"
   ]
  },
  {
   "cell_type": "markdown",
   "metadata": {},
   "source": [
    "$$[Uf]_{i,j} = \\sum\\limits_{q = 0}^{N-1} c_{q,i}d^{(q)}_{i,j}$$\n",
    "\n",
    "at each $i,j$."
   ]
  },
  {
   "cell_type": "markdown",
   "metadata": {},
   "source": [
    "We require pair-wise multiplication in the first dimension of each arrow and summing over them. This can be done with an inner product included as a single addition assignment instead of looping through and incrementing per +=.\n",
    "\n",
    "The above computation \n",
    "\n",
    "                for q in range(1, sim_params['N']):\n",
    "                    Uf += c[q]*d[:,q] \n",
    "    \n",
    "is now equivalent to in the 2D repurposing as:\n",
    "\n",
    "                Uf = np.zeros_like(f[n,:,:])\n",
    "                \n",
    "                for q in range(sim_params['N']):\n",
    "                    for j in range v.N:\n",
    "                        Uf[:,j] += c[q,j]*d[q,:,j]\n",
    "                        \n",
    "                        \n",
    "                        \n",
    "                        \n",
    "This is visualized in the 2D case as summing up product pairs along the third dimension of d and the first dimension c, that is we have the objects (repeated here for convenience):"
   ]
  },
  {
   "cell_type": "markdown",
   "metadata": {},
   "source": [
    "$$\\underline{\\underline{c}}_x = \\left(\\begin{array}{cccccccc}\n",
    "(-1)^0\\beta_0^{,0} & (-1)^0\\beta_0^{,1} & \\cdots & \\cdots & \\cdots & (-1)^0\\beta_0^{,N_v-2}  & (-1)^0\\beta_0^{,N_v-1} \\\\\n",
    "(-1)^1\\beta_1^{,0} & (-1)^1\\beta_1^{,1} & \\cdots & \\cdots & \\cdots & (-1)^1\\beta_1^{,N_v-2} & (-1)^1\\beta_1^{,N_v-1} \\\\\n",
    "(-1)^2\\beta_2^{,0} & (-1)^2\\beta_2^{,1} & \\cdots & \\cdots & \\cdots & (-1)^2\\beta_2^{,N_v-2} & (-1)^2\\beta_2^{,N_v-1} \\\\\n",
    "\\vdots  & \\vdots & &  &  & \\vdots & \\vdots \\\\\n",
    "\\vdots & \\vdots & &  &  & \\vdots & \\vdots \\\\\n",
    "(-1)^{N-2}\\beta_{N-2}^{,0} & (-1)^{N-2}\\beta_{N-2}^{,1} & \\cdots & \\cdots & \\cdots & (-1)^{N-2}\\beta_{N-2}^{,N_v-2} & (-1)^{N-2}\\beta_{N-2}^{,N_v -1}\\\\\n",
    "(-1)^{N-1}\\beta_{N-1}^{,0} & (-1)^{N-1}\\beta_{N-1}^{,1} & \\cdots & \\cdots & \\cdots & (-1)^{N-1}\\beta_{N-1}^{,N_v-2} & (-1)^{N-1}\\beta_{N-1}^{,N_v-1} \\\\\n",
    "\\end{array}\\right)_{N\\times N_v}\n",
    "$$"
   ]
  },
  {
   "cell_type": "markdown",
   "metadata": {},
   "source": [
    "equivalently,\n",
    "\n",
    "$$\\underline{\\underline{c}}_x = \\left(\\begin{array}{cccccccc}\n",
    "c_{0,0} & c_{0,1} & \\cdots & \\cdots & \\cdots & c_{0,N_v-2}  & c_{0,N_v-1} \\\\\n",
    "c_{1,0} & c_{1,1} & \\cdots & \\cdots & \\cdots & c_{0,N_v-2} & c_{0,N_v-1} \\\\\n",
    "\\vdots  & \\vdots & &  &  & \\vdots & \\vdots \\\\\n",
    "\\vdots & \\vdots & &  &  & \\vdots & \\vdots \\\\\n",
    "c_{N-2,0} & c_{N-2,0} & \\cdots & \\cdots & \\cdots & c_{N-2,N_v-2} & c_{N-2,N_v-1}\\\\\n",
    "c_{N-1,0} & c_{N-1,1} & \\cdots & \\cdots & \\cdots & c_{N-1,N_v-2} & c_{N-1,N_v-1} \\\\\n",
    "\\end{array}\\right)_{N\\times N_v}\n",
    "$$.\n",
    "\n",
    "where\n",
    "\n",
    "$$(\\underline{\\underline{c}})_x = (c_{dn,j}) \\qquad \\text{for } dn\\in [1,2,\\ldots N-1],j\\in [0,1,\\ldots N_v-1]$$ \n",
    "\n",
    "Again, each column $j$ has the same coefficients $\\{c\\}$ for all $x$ at that $v_j$."
   ]
  },
  {
   "cell_type": "markdown",
   "metadata": {},
   "source": [
    "and, \n",
    "\n",
    "$$d_{i,j}^{(dn)} = \\left.(\\Delta x)^{dn} \\frac{\\partial^{dn}f}{\\partial x}\\right\\rvert_{i,j}, \\qquad d_{i,j}^{(0)} = f_{i,j}$$\n",
    "\n",
    "or, in matrix form\n",
    "\n",
    "$$(\\underline{\\underline{d}}_x)_{N\\times N_x\\times N_v} = \\left\\{\\left(\\begin{array}{cccccccc}\n",
    "d^{(0)}_{0,0} & d^{(0)}_{0,1} & \\cdots & \\cdots & \\cdots & d^{(0)}_{0,N_v-2}  & d^{(0)}_{0,N_v-1} \\\\\n",
    "d^{(0)}_{1,0} & d^{(0)}_{1,1} & \\cdots & \\cdots & \\cdots & d^{(0)}_{0,N_v-2} & d^{(0)}_{0,N_v-1} \\\\\n",
    "\\vdots  & \\vdots & &  &  & \\vdots & \\vdots \\\\\n",
    "\\vdots & \\vdots & &  &  & \\vdots & \\vdots \\\\\n",
    "d^{(0)}_{N-2,0} & d^{(0)}_{N-2,0} & \\cdots & \\cdots & \\cdots & d^{(0)}_{N-2,N_v-2} & d^{(0)}_{N-2,N_v-1}\\\\\n",
    "d^{(0)}_{N-1,0} & d^{(0)}_{N-1,1} & \\cdots & \\cdots & \\cdots & d^{(0)}_{N-1,N_v-2} & d^{(0)}_{N-1,N_v-1} \\\\\n",
    "\\end{array}\\right)_{N_x\\times N_v} \\\\\n",
    "\\left(\\begin{array}{cccccccc}\n",
    "d^{(1)}_{0,0} & d^{(1)}_{0,1} & \\cdots & \\cdots & \\cdots & d^{(1)}_{0,N_v-2}  & d^{(1)}_{0,N_v-1} \\\\\n",
    "d^{(1)}_{1,0} & d^{(1)}_{1,1} & \\cdots & \\cdots & \\cdots & d^{(1)}_{0,N_v-2} & d^{(1)}_{0,N_v-1} \\\\\n",
    "\\vdots  & \\vdots & &  &  & \\vdots & \\vdots \\\\\n",
    "\\vdots & \\vdots & &  &  & \\vdots & \\vdots \\\\\n",
    "d^{(1)}_{N-2,0} & d^{(1)}_{N-2,0} & \\cdots & \\cdots & \\cdots & d^{(1)}_{N-2,N_v-2} & d^{(1)}_{N-2,N_v-1}\\\\\n",
    "d^{(1)}_{N-1,0} & d^{(1)}_{N-1,1} & \\cdots & \\cdots & \\cdots & d^{(1)}_{N-1,N_v-2} & d^{(1)}_{N-1,N_v-1} \\\\\n",
    "\\end{array}\\right)_{N_x\\times N_v} \\\\\n",
    "\\left(\\begin{array}{cccccccc}\n",
    "d^{(2)}_{0,0} & d^{(2)}_{0,1} & \\cdots & \\cdots & \\cdots & d^{(2)}_{0,N_v-2}  & d^{(2)}_{0,N_v-1} \\\\\n",
    "d^{(2)}_{1,0} & d^{(2)}_{1,1} & \\cdots & \\cdots & \\cdots & d^{(2)}_{0,N_v-2} & d^{(2)}_{0,N_v-1} \\\\\n",
    "\\vdots  & \\vdots & &  &  & \\vdots & \\vdots \\\\\n",
    "\\vdots & \\vdots & &  &  & \\vdots & \\vdots \\\\\n",
    "d^{(2)}_{N-2,0} & d^{(2)}_{N-2,0} & \\cdots & \\cdots & \\cdots & d^{(2)}_{N-2,N_v-2} & d^{(2)}_{N-2,N_v-1}\\\\\n",
    "d^{(2)}_{N-1,0} & d^{(2)}_{N-1,1} & \\cdots & \\cdots & \\cdots & d^{(2)}_{N-1,N_v-2} & d^{(2)}_{N-1,N_v-1} \\\\\n",
    "\\end{array}\\right)_{N_x\\times N_v} \\\\\n",
    "\\vdots \\\\\n",
    "\\left(\\begin{array}{cccccccc}\n",
    "d^{(N-1)}_{0,0} & d^{(N-1)}_{0,1} & \\cdots & \\cdots & \\cdots & d^{(N-1)}_{0,N_v-2}  & d^{(N-1)}_{0,N_v-1} \\\\\n",
    "d^{(N-1)}_{1,0} & d^{(N-1)}_{1,1} & \\cdots & \\cdots & \\cdots & d^{(N-1)}_{0,N_v-2} & d^{(N-1)}_{0,N_v-1} \\\\\n",
    "\\vdots  & \\vdots & &  &  & \\vdots & \\vdots \\\\\n",
    "\\vdots & \\vdots & &  &  & \\vdots & \\vdots \\\\\n",
    "d^{(N-1)}_{N-2,0} & d^{(N-1)}_{N-2,0} & \\cdots & \\cdots & \\cdots & d^{(N-1)}_{N-2,N_v-2} & d^{(N-1)}_{N-2,N_v-1}\\\\\n",
    "d^{(N-1)}_{N-1,0} & d^{(N-1)}_{N-1,1} & \\cdots & \\cdots & \\cdots & d^{(N-1)}_{N-1,N_v-2} & d^{(N-1)}_{N-1,N_v-1} \\\\\n",
    "\\end{array}\\right)_{N_x\\times N_v}\\right\\}\n",
    "$$\n"
   ]
  },
  {
   "cell_type": "markdown",
   "metadata": {},
   "source": [
    "For example, in the $(i,j)$th entry of Uf[i,j], the prescription $\\sum_q c_{q,j}d_{i,j}^q$ as the sum:\n",
    "\n",
    "$$[Uf]_{i,j} = \\sum_q c_{q,j} d_{i,j}^q = c_{0,j} d_{i,j}^0 + c_{1,j} d_{i,j}^1 + c_{2,j} d_{i,j}^2 + \\ldots c_{N-1,j} d_{i,j}^{N-1}$$\n",
    "\n",
    "Viewing the above, this is the same as doing a dot product with the row elements of c and the depth dimension of d at each i,j. The dot product procedure above sums over axis 0 by default and appears the most efficient we can implement this, given that there is not an obvious contraction using routines such as numpy.tensordot for example. <b>This loop will need to be coded in C</b>"
   ]
  },
  {
   "cell_type": "markdown",
   "metadata": {},
   "source": [
    "### Removing z.MCs (unnecessary calc) in favor of CFL and recasting instance attribute"
   ]
  },
  {
   "cell_type": "markdown",
   "metadata": {},
   "source": [
    "Actually many changes not cataloged here were made in DECSKS-v2.0, but we have not recorded them here because it would take too long and for little benefit. One key change we wish to bring up is the removal of the unnecessary calculation of moving cell quantities in order to compute CFL numbers per,\n",
    "\n",
    "    CFL.numbers = (z.MCs - z.prepointmeshvalues) / z.width\n",
    "    \n",
    "Since <code>z.MCs = z.prepointmeshvalues + vz.prepointmeshvalues * dt</code>, the <code>z.prepointmeshvalues</code> is subtracted out anyway and this intermediate value of z.MCs is unnecessary. Instead we compute per\n",
    "\n",
    "    CFL.numbers = vz.prepointmeshvalues * dt / z.width\n",
    "    \n",
    "end of story. We capture this as a method internal to the CFL instantiation, which to make phase space variable affiliations obvious is now housed as a subinstance of each phase space variable being advected z (note we use vz to mean generalized velocity of z, so that it can be a velocity or an acceleration depending on what z is)."
   ]
  },
  {
   "cell_type": "markdown",
   "metadata": {},
   "source": [
    "A subinstance z.CFL is instantiated per the call in lib.domain as\n",
    "\n",
    "    self.CFL = CourantNumber(self)"
   ]
  },
  {
   "cell_type": "markdown",
   "metadata": {},
   "source": [
    "### excerpt of domain.py, CourantNumber() instance"
   ]
  },
  {
   "cell_type": "code",
   "execution_count": null,
   "metadata": {
    "collapsed": true
   },
   "outputs": [],
   "source": [
    "    def compute_numbers(self, z, vz, dt):\n",
    "        \"\"\"Calculates the CFL numbers and corresponding integer and fractional\n",
    "        parts for each col of z.prepointmesh and stores in the 2D stack\n",
    "\n",
    "            z.CFL.compute_numbers(z,vz,dt)\n",
    "\n",
    "        note that each number corresponds to advection in 1D for each 1D problem\n",
    "        whose subdomain is the column, where the total column space constitutes the entire\n",
    "        grid.\n",
    "\n",
    "        Hence, we implement the indicial displacement of each gridpoint according\n",
    "        to the velocity values in each column by shifting from prepoints\n",
    "\n",
    "            (i,j) --> (i,j+ CFL.numbers[j])\n",
    "\n",
    "        where the index i is not explicitly referenced given it is obvious.\n",
    "        \n",
    "        At this stage, we are planning to reuse the same formulation for v advection following\n",
    "        a transpose operation, hence we aim to advect j above generally for both x and v.\n",
    "\n",
    "        inputs:\n",
    "        self -- (lib.domain.CourantNumber instance) CFL instance with attribute containers\n",
    "                containers CFL.numbers, CFL.int, CFL.frac.\n",
    "\n",
    "                NOTE: the method is an attribute belonging to the subinstance z.CFL\n",
    "                hence, self refers to z.CFL, not z.\n",
    "\n",
    "        z -- (lib.domain.Setup instance) phasespace instance being advected\n",
    "        vz -- (lib.domain.Setup instance) velocity for self\n",
    "        dt -- (float) width of time step, can be a fraction of t.width for split\n",
    "              methods\n",
    "\n",
    "        outputs:\n",
    "        None -- updates attributes\n",
    "        \"\"\"\n",
    "        self.numbers = vz.prepointvaluemesh * dt / z.width\n",
    "\n",
    "        # if >= 0 , self.int = floor(self.numbers), else ceil(self.numbers)\n",
    "        # i.e. the sign of CFL.frac agrees with the sign of vz\n",
    "        self.int = np.where(self.numbers >=0, np.floor(self.numbers),\n",
    "                            np.ceil(self.numbers))\n",
    "\n",
    "        # remaining portion is the fractional CFL number\n",
    "        self.frac = self.numbers - self.int\n"
   ]
  },
  {
   "cell_type": "markdown",
   "metadata": {},
   "source": [
    "we set up a unit test of some kind to see the kind of output that is produced here"
   ]
  },
  {
   "cell_type": "code",
   "execution_count": 532,
   "metadata": {
    "collapsed": true
   },
   "outputs": [],
   "source": [
    "class phasespace_var:\n",
    "    def __init__(self, f_old, Nz):\n",
    "        self.MCs = np.zeros_like(f_old)\n",
    "        self.prepointvaluemesh = np.random.randn(f_old.shape[0],f_old.shape[1])\n",
    "        self.prepoints = np.arange(f_old.shape[0])\n",
    "        self.prepointmesh = np.outer( self.prepoints, np.ones([1, f_old.shape[1]]) )\n",
    "        self.width = .5\n",
    "        self.CFL = CourantNumber(f_old)\n",
    "        self.postpointmesh = np.zeros_like(f_old)\n",
    "        self.N = Nz\n",
    "        \n",
    "\n",
    "class CourantNumber:\n",
    "    \"\"\"Returns a CFL number instance of the phasespace variable z\n",
    "\n",
    "    inputs:\n",
    "    z -- (instance) phase space variable from class lib.domain.Setup\n",
    "\n",
    "    outputs:\n",
    "    self -- (instance) CFL number ascribed to variable z convection\n",
    "\n",
    "    Note: broadcasting ensures self.numbers is the same shape as z.MCs\n",
    "    \"\"\"\n",
    "    def __init__(self, f_old):\n",
    "\n",
    "        self.numbers = np.zeros_like(f_old)\n",
    "        self.frac = np.zeros_like(f_old)\n",
    "        self.int = np.zeros_like(f_old)\n",
    "\n",
    "\n",
    "    def compute_numbers(self, z, vz, dt):\n",
    "        \"\"\"Calculates the CFL numbers and corresponding integer and fractional\n",
    "        parts, call by z.CFL.calculate_numbers(*args)\n",
    "\n",
    "        inputs:\n",
    "        self -- (lib.domain.CourantNumber instance) CFL instance with attribute containers\n",
    "                containers CFL.numbers, CFL.int, CFL.frac.\n",
    "\n",
    "                NOTE: the method is an attribute belonging to the subinstance z.CFL\n",
    "                hence, self refers to z.CFL, not z.\n",
    "\n",
    "        z -- (lib.domain.Setup instance) phasespace instance being advected\n",
    "        vz -- (lib.domain.Setup instance) velocity for self\n",
    "        dt -- (float) width of time step, can be a fraction of t.width for split\n",
    "              methods\n",
    "\n",
    "        outputs:\n",
    "        None -- updates attributes\n",
    "        \"\"\"        \n",
    "        self.numbers = vz.prepointvaluemesh * dt / z.width\n",
    "\n",
    "        # if >= 0 , self.int = floor(self.numbers), else ceil(self.numbers)\n",
    "        # i.e. the sign of CFL.frac agrees with the sign of vz\n",
    "        self.int = np.where(self.numbers >=0, np.floor(self.numbers),\n",
    "                            np.ceil(self.numbers)).astype(int)\n",
    "\n",
    "        # remaining portion is the fractional CFL number\n",
    "        self.frac = self.numbers - self.int\n",
    "\n",
    "        "
   ]
  },
  {
   "cell_type": "markdown",
   "metadata": {},
   "source": [
    "#### unit test"
   ]
  },
  {
   "cell_type": "code",
   "execution_count": 533,
   "metadata": {
    "collapsed": false
   },
   "outputs": [],
   "source": [
    "import numpy as np\n",
    "\n",
    "f_old = np.random.randn(3,4)\n",
    "dims = f_old.shape\n",
    "\n",
    "x = phasespace_var(f_old, dims[0])\n",
    "vx = phasespace_var(f_old, dims[1])"
   ]
  },
  {
   "cell_type": "code",
   "execution_count": 534,
   "metadata": {
    "collapsed": false
   },
   "outputs": [
    {
     "name": "stdout",
     "output_type": "stream",
     "text": [
      "[[ 0.2165592   0.22971563  0.30916681  0.00347365]\n",
      " [ 0.492372   -0.51152502  1.19391786 -2.29817863]\n",
      " [-0.64695632  1.06459728  0.19431902 -1.01649447]]\n"
     ]
    }
   ],
   "source": [
    "print x.prepointvaluemesh"
   ]
  },
  {
   "cell_type": "code",
   "execution_count": 535,
   "metadata": {
    "collapsed": true
   },
   "outputs": [],
   "source": [
    "dt = 1.5"
   ]
  },
  {
   "cell_type": "code",
   "execution_count": 536,
   "metadata": {
    "collapsed": false
   },
   "outputs": [
    {
     "name": "stdout",
     "output_type": "stream",
     "text": [
      "[[-2.58283789  2.79105328  3.16935217 -3.5740083 ]\n",
      " [ 1.11710172 -3.80159397  1.8125723  -1.83489022]\n",
      " [-3.51003832 -1.8342415  -4.30463737  5.56891948]]\n"
     ]
    }
   ],
   "source": [
    "print vx.prepointvaluemesh * dt / x.width"
   ]
  },
  {
   "cell_type": "markdown",
   "metadata": {},
   "source": [
    "originally we have an empty container for CFL numbers and so on,"
   ]
  },
  {
   "cell_type": "code",
   "execution_count": 537,
   "metadata": {
    "collapsed": false
   },
   "outputs": [
    {
     "name": "stdout",
     "output_type": "stream",
     "text": [
      "[[ 0.  0.  0.  0.]\n",
      " [ 0.  0.  0.  0.]\n",
      " [ 0.  0.  0.  0.]]\n"
     ]
    }
   ],
   "source": [
    "print x.CFL.numbers"
   ]
  },
  {
   "cell_type": "markdown",
   "metadata": {},
   "source": [
    "To advect the cells, we call the routine z.CFL.compute_numbers(*args) which is an attribute of z.CFL. Choose a time width that is arbitrary,"
   ]
  },
  {
   "cell_type": "code",
   "execution_count": 538,
   "metadata": {
    "collapsed": false
   },
   "outputs": [],
   "source": [
    "x.CFL.compute_numbers(x, vx, dt)"
   ]
  },
  {
   "cell_type": "code",
   "execution_count": 539,
   "metadata": {
    "collapsed": false
   },
   "outputs": [
    {
     "name": "stdout",
     "output_type": "stream",
     "text": [
      "[[-2.58283789  2.79105328  3.16935217 -3.5740083 ]\n",
      " [ 1.11710172 -3.80159397  1.8125723  -1.83489022]\n",
      " [-3.51003832 -1.8342415  -4.30463737  5.56891948]]\n"
     ]
    }
   ],
   "source": [
    "print x.CFL.numbers"
   ]
  },
  {
   "cell_type": "markdown",
   "metadata": {},
   "source": [
    "Verify this computes the correct numbers by manual calculation:"
   ]
  },
  {
   "cell_type": "code",
   "execution_count": 540,
   "metadata": {
    "collapsed": true
   },
   "outputs": [],
   "source": [
    "xCFLnumbers = np.zeros_like(f_old) # direct calculation verification\n",
    "\n",
    "for i in range(vx.prepointvaluemesh.shape[0]):\n",
    "    for j in range(vx.prepointvaluemesh.shape[1]):\n",
    "        xCFLnumbers[i,j] = vx.prepointvaluemesh[i,j]*dt / x.width\n"
   ]
  },
  {
   "cell_type": "code",
   "execution_count": 541,
   "metadata": {
    "collapsed": false
   },
   "outputs": [
    {
     "name": "stdout",
     "output_type": "stream",
     "text": [
      "[[ True  True  True  True]\n",
      " [ True  True  True  True]\n",
      " [ True  True  True  True]]\n"
     ]
    }
   ],
   "source": [
    "print xCFLnumbers == x.CFL.numbers"
   ]
  },
  {
   "cell_type": "code",
   "execution_count": 542,
   "metadata": {
    "collapsed": false
   },
   "outputs": [
    {
     "name": "stdout",
     "output_type": "stream",
     "text": [
      "[[-2.58283789  2.79105328  3.16935217 -3.5740083 ]\n",
      " [ 1.11710172 -3.80159397  1.8125723  -1.83489022]\n",
      " [-3.51003832 -1.8342415  -4.30463737  5.56891948]]\n"
     ]
    }
   ],
   "source": [
    "print xCFLnumbers"
   ]
  },
  {
   "cell_type": "markdown",
   "metadata": {},
   "source": [
    "So we can see this produces the expected array."
   ]
  },
  {
   "cell_type": "markdown",
   "metadata": {},
   "source": [
    "We also have the corresonding integer and fractional parts:"
   ]
  },
  {
   "cell_type": "code",
   "execution_count": 543,
   "metadata": {
    "collapsed": false
   },
   "outputs": [
    {
     "name": "stdout",
     "output_type": "stream",
     "text": [
      "[[-2  2  3 -3]\n",
      " [ 1 -3  1 -1]\n",
      " [-3 -1 -4  5]]\n"
     ]
    }
   ],
   "source": [
    "print x.CFL.int"
   ]
  },
  {
   "cell_type": "code",
   "execution_count": 544,
   "metadata": {
    "collapsed": false
   },
   "outputs": [
    {
     "name": "stdout",
     "output_type": "stream",
     "text": [
      "[[-0.58283789  0.79105328  0.16935217 -0.5740083 ]\n",
      " [ 0.11710172 -0.80159397  0.8125723  -0.83489022]\n",
      " [-0.51003832 -0.8342415  -0.30463737  0.56891948]]\n"
     ]
    }
   ],
   "source": [
    "print x.CFL.frac"
   ]
  },
  {
   "cell_type": "code",
   "execution_count": 545,
   "metadata": {
    "collapsed": false
   },
   "outputs": [
    {
     "name": "stdout",
     "output_type": "stream",
     "text": [
      "[[ True  True  True  True]\n",
      " [ True  True  True  True]\n",
      " [ True  True  True  True]]\n"
     ]
    }
   ],
   "source": [
    "print (x.CFL.int + x.CFL.frac) == x.CFL.numbers"
   ]
  },
  {
   "cell_type": "markdown",
   "metadata": {},
   "source": [
    "### Discern how to remap all MCs at a given vz[j] all at the same time"
   ]
  },
  {
   "cell_type": "markdown",
   "metadata": {},
   "source": [
    "We develop a map $\\underline{\\underline{k}}_{2\\times N_x\\times N_v}$ whose entries k[0,:,:] and k[1,:,:] contain the collection of contiguous indices $(k_1,k_2)$ that each MC is mapped to originating from that $(i,j)$. This was done with the lib.boundaryconditions.periodic function. Sacrificing brevity for clarity, we instead store k in the container postpointmesh:\n",
    "\n",
    "    z.postpointmesh = k\n",
    "    \n",
    "where we redefine z.postpointmesh to have a shape = (2, x.N, v.N) in DECSKS-2.0 that is. Here, we keep k for brevity."
   ]
  },
  {
   "cell_type": "markdown",
   "metadata": {},
   "source": [
    "### lib.boundaryconditions.periodic"
   ]
  },
  {
   "cell_type": "code",
   "execution_count": 546,
   "metadata": {
    "collapsed": true
   },
   "outputs": [],
   "source": [
    "def periodic(w, z):\n",
    "    \"\"\"Applies periodic boundary conditions to\n",
    "    postpoints\n",
    "\n",
    "    inputs:\n",
    "    w -- (ndarray, ndim=arbitrary) \n",
    "    \n",
    "         usage: when w = z.postpointmesh or w = k[1,:,:]\n",
    "         \n",
    "    z -- (instance) phase space variable. Used to\n",
    "         update attribute z.postpointmesh\n",
    "         (2D mesh of advected gridpoints, not values)\n",
    "\n",
    "    outputs:\n",
    "    z.postpointmesh -- (attr) update to z.postpointmesh\n",
    "                        attribute per periodic BCs\n",
    "    \"\"\"\n",
    "\n",
    "    return np.mod(w, z.N)\n",
    "    "
   ]
  },
  {
   "cell_type": "markdown",
   "metadata": {},
   "source": [
    "### lib.convect.generate_postpoint_map"
   ]
  },
  {
   "cell_type": "code",
   "execution_count": 555,
   "metadata": {
    "collapsed": false
   },
   "outputs": [],
   "source": [
    "def generate_postpoint_map(sim_params, z, vz):\n",
    "    \"\"\"<Doc string needed>\n",
    "\n",
    "    \"\"\"\n",
    "\n",
    "    kshape = [2]\n",
    "    for dim in sim_params['active_dims']:\n",
    "        kshape.append(dim)\n",
    "\n",
    "    # TODO should eliminate the extra object k, and instantiate postpointmesh to fill this role.\n",
    "    k = np.zeros(kshape, dtype = int)\n",
    "    k[0,:,:] = z.postpointmesh\n",
    "    \n",
    "    # No boundary conditions applied to k[1,:,:] yet\n",
    "    k[1,:,:] = np.sign(vz) + z.postpointmesh\n",
    "\n",
    "    return k"
   ]
  },
  {
   "cell_type": "markdown",
   "metadata": {},
   "source": [
    "### unit test"
   ]
  },
  {
   "cell_type": "code",
   "execution_count": 558,
   "metadata": {
    "collapsed": false
   },
   "outputs": [],
   "source": [
    "import numpy as np\n",
    "\n",
    "f_old = np.random.randn(2,3)\n",
    "dims = f_old.shape\n",
    "\n",
    "\n",
    "sim_params = {}\n",
    "sim_params['active_dims'] = [f_old.shape[0], f_old.shape[1]]\n",
    "x = phasespace_var(f_old, dims[0])\n",
    "vx = phasespace_var(f_old, dims[1])\n",
    "x.CFL.compute_numbers(x, vx, 1.5)\n",
    "x.postpointmesh = x.prepointmesh + x.CFL.int\n",
    "x.postpointmesh = periodic(x.postpointmesh, x) # remap postpointmesh indices to within grid per PBC"
   ]
  },
  {
   "cell_type": "code",
   "execution_count": 559,
   "metadata": {
    "collapsed": false
   },
   "outputs": [],
   "source": [
    "k_old = generate_postpoint_map(sim_params, x, vx.prepointvaluemesh) # get contiguous (k1, k2) postpoint indices pair for every [i,j], store in k (shape = (2, Nx, Nv))\n",
    "k_old = periodic(k_old, x)"
   ]
  },
  {
   "cell_type": "markdown",
   "metadata": {},
   "source": [
    "Or, apply PBCs after k assignment, verify they are the same"
   ]
  },
  {
   "cell_type": "code",
   "execution_count": 560,
   "metadata": {
    "collapsed": false
   },
   "outputs": [],
   "source": [
    "k_new = np.zeros([2,f_old.shape[0],f_old.shape[1]], dtype = int)\n",
    "k_new[0,:,:]= x.prepointmesh + x.CFL.int\n",
    "k_new[1,:,:] = np.sign(vz).astype(int) + k_new[0,:,:]\n",
    "k_new = periodic(k_new, x)\n"
   ]
  },
  {
   "cell_type": "code",
   "execution_count": 561,
   "metadata": {
    "collapsed": false,
    "scrolled": true
   },
   "outputs": [
    {
     "data": {
      "text/plain": [
       "array([[[ True,  True,  True],\n",
       "        [ True,  True,  True]],\n",
       "\n",
       "       [[ True,  True,  True],\n",
       "        [ True,  True,  True]]], dtype=bool)"
      ]
     },
     "execution_count": 561,
     "metadata": {},
     "output_type": "execute_result"
    }
   ],
   "source": [
    "k_old == k_new"
   ]
  },
  {
   "cell_type": "markdown",
   "metadata": {},
   "source": [
    "so it checks out"
   ]
  },
  {
   "cell_type": "markdown",
   "metadata": {},
   "source": [
    "### Track MCs for postpoint mesh validation"
   ]
  },
  {
   "cell_type": "code",
   "execution_count": 599,
   "metadata": {
    "collapsed": false
   },
   "outputs": [],
   "source": [
    "import numpy as np\n",
    "\n",
    "f_old = np.random.randn(3,4)\n",
    "x = phasespace_var(f_old, 3)\n",
    "x.prepointmesh = x.prepointmesh.astype(int)\n",
    "# in CS situations, vz will either be constant per row or per column. Here, we envision an x-advection\n",
    "# scenario so that the all vz row values are constant for a given column\n",
    "\n",
    "\n",
    "# the phasespace class wasn't really designed for vx, so some ad-hoc fixes have to be made:\n",
    "vx = phasespace_var(f_old, 4)\n",
    "v_vals = np.random.randn(4)*5\n",
    "v_vals_2D = np.outer(np.ones([1,x.prepoints.shape[0]]), v_vals)\n",
    "\n",
    "vx.prepointvaluemesh = v_vals_2D\n",
    "vx.prepointmesh = np.outer(np.ones([1,x.prepoints.shape[0]]), np.arange(4))\n",
    "vx.prepointmesh = vx.prepointmesh.astype(int)\n",
    "\n",
    "x.CFL.compute_numbers(x,vx,1.5)\n"
   ]
  },
  {
   "cell_type": "code",
   "execution_count": 600,
   "metadata": {
    "collapsed": false
   },
   "outputs": [],
   "source": [
    "x.postpointmesh = x.prepointmesh + x.CFL.int"
   ]
  },
  {
   "cell_type": "code",
   "execution_count": 601,
   "metadata": {
    "collapsed": false
   },
   "outputs": [
    {
     "data": {
      "text/plain": [
       "array([[0, 0, 0, 0],\n",
       "       [1, 1, 1, 1],\n",
       "       [2, 2, 2, 2]])"
      ]
     },
     "execution_count": 601,
     "metadata": {},
     "output_type": "execute_result"
    }
   ],
   "source": [
    "x.prepointmesh"
   ]
  },
  {
   "cell_type": "code",
   "execution_count": 602,
   "metadata": {
    "collapsed": false
   },
   "outputs": [
    {
     "data": {
      "text/plain": [
       "array([[ 6,  4, -7,  9],\n",
       "       [ 6,  4, -7,  9],\n",
       "       [ 6,  4, -7,  9]])"
      ]
     },
     "execution_count": 602,
     "metadata": {},
     "output_type": "execute_result"
    }
   ],
   "source": [
    "x.CFL.int"
   ]
  },
  {
   "cell_type": "code",
   "execution_count": 657,
   "metadata": {
    "collapsed": false
   },
   "outputs": [
    {
     "data": {
      "text/plain": [
       "array([[ 6.02887512,  4.37293272, -7.17490017,  9.14380325],\n",
       "       [ 6.02887512,  4.37293272, -7.17490017,  9.14380325],\n",
       "       [ 6.02887512,  4.37293272, -7.17490017,  9.14380325]])"
      ]
     },
     "execution_count": 657,
     "metadata": {},
     "output_type": "execute_result"
    }
   ],
   "source": [
    "vx.prepointvaluemesh * dt / x.width"
   ]
  },
  {
   "cell_type": "code",
   "execution_count": 658,
   "metadata": {
    "collapsed": false
   },
   "outputs": [
    {
     "data": {
      "text/plain": [
       "array([[ True,  True,  True,  True],\n",
       "       [ True,  True,  True,  True],\n",
       "       [ True,  True,  True,  True]], dtype=bool)"
      ]
     },
     "execution_count": 658,
     "metadata": {},
     "output_type": "execute_result"
    }
   ],
   "source": [
    "vx.prepointvaluemesh * dt / x.width == x.CFL.numbers"
   ]
  },
  {
   "cell_type": "code",
   "execution_count": 659,
   "metadata": {
    "collapsed": false
   },
   "outputs": [
    {
     "data": {
      "text/plain": [
       "array([[ 0.02887512,  0.37293272, -0.17490017,  0.14380325],\n",
       "       [ 0.02887512,  0.37293272, -0.17490017,  0.14380325],\n",
       "       [ 0.02887512,  0.37293272, -0.17490017,  0.14380325]])"
      ]
     },
     "execution_count": 659,
     "metadata": {},
     "output_type": "execute_result"
    }
   ],
   "source": [
    "x.CFL.frac"
   ]
  },
  {
   "cell_type": "code",
   "execution_count": 604,
   "metadata": {
    "collapsed": false
   },
   "outputs": [],
   "source": [
    "sim_params = {}\n",
    "sim_params['active_dims'] = [3,4]\n",
    "\n",
    "k = generate_postpoint_map(sim_params, x, vx) # get contiguous (k1, k2) postpoint indices pair for every [i,j], store in k (shape = (2, Nx, Nv))\n",
    "k = periodic(k, x)"
   ]
  },
  {
   "cell_type": "markdown",
   "metadata": {},
   "source": [
    "Note we can slice/access indices by specifying two 2D matrices of ints, numpy pairs each [i,j]. Thus, the following two are the same"
   ]
  },
  {
   "cell_type": "code",
   "execution_count": 608,
   "metadata": {
    "collapsed": false
   },
   "outputs": [
    {
     "data": {
      "text/plain": [
       "array([[ True,  True,  True,  True],\n",
       "       [ True,  True,  True,  True],\n",
       "       [ True,  True,  True,  True]], dtype=bool)"
      ]
     },
     "execution_count": 608,
     "metadata": {},
     "output_type": "execute_result"
    }
   ],
   "source": [
    "x.prepointvaluemesh[ x.prepointmesh,vx.prepointmesh] == x.prepointvaluemesh"
   ]
  },
  {
   "cell_type": "code",
   "execution_count": 413,
   "metadata": {
    "collapsed": false
   },
   "outputs": [
    {
     "data": {
      "text/plain": [
       "array([[0, 0, 0, 0],\n",
       "       [1, 1, 1, 1],\n",
       "       [2, 2, 2, 2]])"
      ]
     },
     "execution_count": 413,
     "metadata": {},
     "output_type": "execute_result"
    }
   ],
   "source": [
    "x.prepointmesh"
   ]
  },
  {
   "cell_type": "code",
   "execution_count": 609,
   "metadata": {
    "collapsed": false
   },
   "outputs": [
    {
     "data": {
      "text/plain": [
       "array([[0, 1, 2, 3],\n",
       "       [0, 1, 2, 3],\n",
       "       [0, 1, 2, 3]])"
      ]
     },
     "execution_count": 609,
     "metadata": {},
     "output_type": "execute_result"
    }
   ],
   "source": [
    "vx.prepointmesh"
   ]
  },
  {
   "cell_type": "markdown",
   "metadata": {},
   "source": [
    "The map $\\underline{\\underline{k}}$ gives only the advecting index postpoint, the other postpoint is the same prepoint it had as the nonadvecting variable, e.g. in x advection at a given v[j], i is advected, while j remains the same. We can assemble a 2D mesh of grid indices by referencing indices as:\n",
    "\n",
    "for x advection:\n",
    "\n",
    "    f_new[ k[0,:,:], vz.prepointmesh ] <--- f_old * fraction\n",
    "    f_new[ k[1,:,:], vz.prepointmesh ] <--- f_old * opposite fraction\n",
    "    \n",
    "where the mapping (k[r,:,:], vz.prepointmesh) gives the appropriate map from [i,j] to [i + k[r], j] for r = 0, 1, the contiguous gridpoints that each MC maps to."
   ]
  },
  {
   "cell_type": "code",
   "execution_count": 610,
   "metadata": {
    "collapsed": false
   },
   "outputs": [
    {
     "data": {
      "text/plain": [
       "array([[ 0.11152323,  1.3061707 ,  0.47231924,  0.74524751],\n",
       "       [ 0.74754949, -0.47186069, -1.08831495, -1.62944596],\n",
       "       [-1.48233784,  1.36441838, -0.47828669, -0.69125342]])"
      ]
     },
     "execution_count": 610,
     "metadata": {},
     "output_type": "execute_result"
    }
   ],
   "source": [
    "f_old"
   ]
  },
  {
   "cell_type": "markdown",
   "metadata": {},
   "source": [
    "Try mapping f_old[:,:] --> f_new[k[0,:,:], vx.prepointmesh] for the first (nearest neighbor index mapping), not here we do not fuss with appropriating the CFL fraction, we are concerned with the mapping going to the proper place at this stage."
   ]
  },
  {
   "cell_type": "code",
   "execution_count": 637,
   "metadata": {
    "collapsed": false
   },
   "outputs": [],
   "source": [
    "f_new1 = np.zeros(f_old.shape)"
   ]
  },
  {
   "cell_type": "code",
   "execution_count": 638,
   "metadata": {
    "collapsed": false
   },
   "outputs": [],
   "source": [
    "f_new1[ k[0,:,:], vx.prepointmesh] += f_old"
   ]
  },
  {
   "cell_type": "code",
   "execution_count": 639,
   "metadata": {
    "collapsed": false
   },
   "outputs": [
    {
     "data": {
      "text/plain": [
       "array([[ 0.11152323,  1.36441838, -1.08831495,  0.74524751],\n",
       "       [ 0.74754949,  1.3061707 , -0.47828669, -1.62944596],\n",
       "       [-1.48233784, -0.47186069,  0.47231924, -0.69125342]])"
      ]
     },
     "execution_count": 639,
     "metadata": {},
     "output_type": "execute_result"
    }
   ],
   "source": [
    "f_new1"
   ]
  },
  {
   "cell_type": "markdown",
   "metadata": {},
   "source": [
    "It's not obvious if this worked, step through more obviously below:"
   ]
  },
  {
   "cell_type": "code",
   "execution_count": 640,
   "metadata": {
    "collapsed": false
   },
   "outputs": [
    {
     "data": {
      "text/plain": [
       "array([[0, 1, 2, 3],\n",
       "       [0, 1, 2, 3],\n",
       "       [0, 1, 2, 3]])"
      ]
     },
     "execution_count": 640,
     "metadata": {},
     "output_type": "execute_result"
    }
   ],
   "source": [
    "vx.prepointmesh"
   ]
  },
  {
   "cell_type": "code",
   "execution_count": 641,
   "metadata": {
    "collapsed": false
   },
   "outputs": [
    {
     "data": {
      "text/plain": [
       "array([[0, 1, 2, 0],\n",
       "       [1, 2, 0, 1],\n",
       "       [2, 0, 1, 2]])"
      ]
     },
     "execution_count": 641,
     "metadata": {},
     "output_type": "execute_result"
    }
   ],
   "source": [
    "k[0,:,:]"
   ]
  },
  {
   "cell_type": "markdown",
   "metadata": {},
   "source": [
    "Detailed summary:"
   ]
  },
  {
   "cell_type": "code",
   "execution_count": 642,
   "metadata": {
    "collapsed": false
   },
   "outputs": [
    {
     "name": "stdout",
     "output_type": "stream",
     "text": [
      "j = 0:\n",
      "\n",
      "f_old[0, 0] = 0.111523 -> f_new[0, 0] = 0.970596: False\n",
      "f_old[1, 0] = 0.747549 -> f_new[1, 0] = 0.0127611: False\n",
      "f_old[2, 0] = -1.48234 -> f_new[2, 0] = -2.85315: False\n",
      "\n",
      "j = 1:\n",
      "\n",
      "f_old[0, 1] = 1.30617 -> f_new[1, 1] = 2.14048: False\n",
      "f_old[1, 1] = -0.471861 -> f_new[2, 1] = 0.420697: False\n",
      "f_old[2, 1] = 1.36442 -> f_new[0, 1] = 4.03501: False\n",
      "\n",
      "j = 2:\n",
      "\n",
      "f_old[0, 2] = 0.472319 -> f_new[2, 2] = -0.143676: False\n",
      "f_old[1, 2] = -1.08831 -> f_new[0, 2] = -2.65492: False\n",
      "f_old[2, 2] = -0.478287 -> f_new[1, 2] = -0.484254: False\n",
      "\n",
      "j = 3:\n",
      "\n",
      "f_old[0, 3] = 0.745248 -> f_new[0, 3] = -0.138951: False\n",
      "f_old[1, 3] = -1.62945 -> f_new[1, 3] = -3.95015: False\n",
      "f_old[2, 3] = -0.691253 -> f_new[2, 3] = -0.637259: False\n",
      "\n"
     ]
    }
   ],
   "source": [
    "for j in range(4):\n",
    "    print \"j = %d:\" % j\n",
    "    print \"\"\n",
    "    for i in range(3):\n",
    "        print \"f_old[%d, %d] = %g -> f_new[%d, %d] = %g: %s\" % (i,j, f_old[i,j], k[0,i,j], vx.prepointmesh[i,j], f_new[k[0,i,j], vx.prepointmesh[i,j]], f_old[i,j] == f_new[k[0,i,j],j])\n",
    "    print \"\"\n"
   ]
  },
  {
   "cell_type": "markdown",
   "metadata": {
    "collapsed": true
   },
   "source": [
    "That convincingly shows the mapping that is needed occurs for the nearest neighbor postpoint duple: (k[0,i,j], j). Let's try it for the contiguous gridpoint at the postpoint duple (k[1,i,j], j)"
   ]
  },
  {
   "cell_type": "code",
   "execution_count": 643,
   "metadata": {
    "collapsed": true
   },
   "outputs": [],
   "source": [
    "f_new2 = np.zeros(f_old.shape)\n",
    "f_new2[ k[1,:,:], vx.prepointmesh] += f_old"
   ]
  },
  {
   "cell_type": "code",
   "execution_count": 644,
   "metadata": {
    "collapsed": false
   },
   "outputs": [
    {
     "data": {
      "text/plain": [
       "array([[2, 0, 1, 2],\n",
       "       [0, 1, 2, 0],\n",
       "       [1, 2, 0, 1]])"
      ]
     },
     "execution_count": 644,
     "metadata": {},
     "output_type": "execute_result"
    }
   ],
   "source": [
    "k[1,:,:]"
   ]
  },
  {
   "cell_type": "code",
   "execution_count": 645,
   "metadata": {
    "collapsed": false
   },
   "outputs": [
    {
     "data": {
      "text/plain": [
       "array([[0, 1, 2, 3],\n",
       "       [0, 1, 2, 3],\n",
       "       [0, 1, 2, 3]])"
      ]
     },
     "execution_count": 645,
     "metadata": {},
     "output_type": "execute_result"
    }
   ],
   "source": [
    "vx.prepointmesh"
   ]
  },
  {
   "cell_type": "code",
   "execution_count": 646,
   "metadata": {
    "collapsed": false
   },
   "outputs": [
    {
     "name": "stdout",
     "output_type": "stream",
     "text": [
      "j = 0:\n",
      "\n",
      "f_old[0, 0] = 0.111523 -> f_new[2, 0] = -2.85315: True\n",
      "f_old[1, 0] = 0.747549 -> f_new[0, 0] = 0.970596: True\n",
      "f_old[2, 0] = -1.48234 -> f_new[1, 0] = 0.0127611: True\n",
      "\n",
      "j = 1:\n",
      "\n",
      "f_old[0, 1] = 1.30617 -> f_new[0, 1] = 4.03501: True\n",
      "f_old[1, 1] = -0.471861 -> f_new[1, 1] = 2.14048: True\n",
      "f_old[2, 1] = 1.36442 -> f_new[2, 1] = 0.420697: True\n",
      "\n",
      "j = 2:\n",
      "\n",
      "f_old[0, 2] = 0.472319 -> f_new[1, 2] = -0.484254: True\n",
      "f_old[1, 2] = -1.08831 -> f_new[2, 2] = -0.143676: True\n",
      "f_old[2, 2] = -0.478287 -> f_new[0, 2] = -2.65492: True\n",
      "\n",
      "j = 3:\n",
      "\n",
      "f_old[0, 3] = 0.745248 -> f_new[2, 3] = -0.637259: True\n",
      "f_old[1, 3] = -1.62945 -> f_new[0, 3] = -0.138951: True\n",
      "f_old[2, 3] = -0.691253 -> f_new[1, 3] = -3.95015: True\n",
      "\n"
     ]
    }
   ],
   "source": [
    "for j in range(4):\n",
    "    print \"j = %d:\" % j\n",
    "    print \"\"\n",
    "    for i in range(3):\n",
    "        print \"f_old[%d, %d] = %g -> f_new[%d, %d] = %g: %s\" % (i,j, f_old[i,j], k[1,i,j], vx.prepointmesh[i,j], f_new[k[1,i,j], vx.prepointmesh[i,j]], f_old[i,j] == f_new2[k[1,i,j],j])\n",
    "    print \"\"\n"
   ]
  },
  {
   "cell_type": "markdown",
   "metadata": {},
   "source": [
    "So, it checks out for the contiguous mapping as well. The final density will be f_new = f_new1 + f_new2"
   ]
  },
  {
   "cell_type": "code",
   "execution_count": 647,
   "metadata": {
    "collapsed": false
   },
   "outputs": [],
   "source": [
    "f_new = f_new1 + f_new2"
   ]
  },
  {
   "cell_type": "code",
   "execution_count": 650,
   "metadata": {
    "collapsed": false
   },
   "outputs": [
    {
     "data": {
      "text/plain": [
       "array([[ 0.85907271,  2.67058907, -1.56660164, -0.88419846],\n",
       "       [-0.73478835,  0.83431001, -0.00596745, -2.32069939],\n",
       "       [-1.37081461,  0.89255768, -0.61599571,  0.05399409]])"
      ]
     },
     "execution_count": 650,
     "metadata": {},
     "output_type": "execute_result"
    }
   ],
   "source": [
    "f_new"
   ]
  },
  {
   "cell_type": "code",
   "execution_count": 651,
   "metadata": {
    "collapsed": false
   },
   "outputs": [
    {
     "data": {
      "text/plain": [
       "array([[ 0.11152323,  1.36441838, -1.08831495,  0.74524751],\n",
       "       [ 0.74754949,  1.3061707 , -0.47828669, -1.62944596],\n",
       "       [-1.48233784, -0.47186069,  0.47231924, -0.69125342]])"
      ]
     },
     "execution_count": 651,
     "metadata": {},
     "output_type": "execute_result"
    }
   ],
   "source": [
    "f_new1"
   ]
  },
  {
   "cell_type": "code",
   "execution_count": 652,
   "metadata": {
    "collapsed": false
   },
   "outputs": [
    {
     "data": {
      "text/plain": [
       "array([[ 0.74754949,  1.3061707 , -0.47828669, -1.62944596],\n",
       "       [-1.48233784, -0.47186069,  0.47231924, -0.69125342],\n",
       "       [ 0.11152323,  1.36441838, -1.08831495,  0.74524751]])"
      ]
     },
     "execution_count": 652,
     "metadata": {},
     "output_type": "execute_result"
    }
   ],
   "source": [
    "f_new2"
   ]
  },
  {
   "cell_type": "markdown",
   "metadata": {},
   "source": [
    "Note here, we do have negative densities because it is a fictive, randomized example."
   ]
  },
  {
   "cell_type": "code",
   "execution_count": 654,
   "metadata": {
    "collapsed": false
   },
   "outputs": [
    {
     "data": {
      "text/plain": [
       "array([[ 0.11152323,  1.3061707 ,  0.47231924,  0.74524751],\n",
       "       [ 0.74754949, -0.47186069, -1.08831495, -1.62944596],\n",
       "       [-1.48233784,  1.36441838, -0.47828669, -0.69125342]])"
      ]
     },
     "execution_count": 654,
     "metadata": {},
     "output_type": "execute_result"
    }
   ],
   "source": [
    "f_old"
   ]
  },
  {
   "cell_type": "markdown",
   "metadata": {},
   "source": [
    "Note that above the randomized velocities is more complicated than actually is possible. We evolve moving cells in phase space (x,v) as a collection of 1D advection problems characterized by a single generalized velocity (physical velocity or acceleration). The columns (rows) each pertain to one 1D advection problem in x (v). For the case of x advection , each column is a single velocity v[j], and we push all moving cells using this v[j], the next column has all x cells moved using v[j+1], and so on. <b>Because all cells (x[i], v) are advected by the same v, two cells having the same postpoint is not possible, hence overwriting depositied density at the same x + vt is not possible</b>. However, each MC is mapped to two gridpoints, one nearest neighbor and another contiguous cell. By partitioning the density into two containers where one is allocated with the nearest neighbor gridpoint proportion and the other with the remainder at the contiguous cells, we can update the total density then by summing both."
   ]
  },
  {
   "cell_type": "markdown",
   "metadata": {},
   "source": [
    "## Generalizing Beta_matrix(*args) method"
   ]
  },
  {
   "cell_type": "markdown",
   "metadata": {},
   "source": [
    "#### Current form: x-advection"
   ]
  },
  {
   "cell_type": "code",
   "execution_count": null,
   "metadata": {
    "collapsed": true
   },
   "outputs": [],
   "source": [
    "def Beta_matrix(sim_params, z, vz):\n",
    "    \"\"\"constructs the B matrix, whose columns are\n",
    "    the beta vectors (shape = N x 1) for each value\n",
    "    of the generalized velocity for the advecting\n",
    "    variable z.\n",
    "\n",
    "    See DECSKS-09 part 1 for details of this calculation\n",
    "\n",
    "    inputs:\n",
    "    sim_params -- (dict) simulation parameters\n",
    "    z.CFL.frac -- (ndarray, ndim=2) contains the fractional CFL numbers\n",
    "                  for every [i,j]\n",
    "    \"\"\"\n",
    "\n",
    "    # TODO currently thought through for x advection, will need to think about\n",
    "    # how to make this work for v advection, it is possible all that is needed is a tranpose\n",
    "    # operation\n",
    "\n",
    "    # local copies of A matrices\n",
    "    A_neg = sim_params['A_matrix']['-1']\n",
    "    A_pos = sim_params['A_matrix']['1']\n",
    "\n",
    "    N_arr = np.outer(np.arange(1,sim_params['N']+1), np.ones([1,vz.N]))\n",
    "\n",
    "    # for broadcasting operations below to an N x vz.N array\n",
    "    # we require an identically dimensioned matrix. Hence, we slice the rows up to N values.\n",
    "    # There is no loss of information here given that every row entry in the z.CFL.frac matrix\n",
    "    # is constant, given z.CFL.frac = z.CFL.frac (vz.prepointvaluemesh)\n",
    "\n",
    "    # Naming per DECSKS-09 notebook:\n",
    "    #\n",
    "    #        alpha = z.CFL.frac, shape: (z.N, vz.N)\n",
    "    #        alpha_hat = truncated z.CFL.frac[:N, :vz.N], vz.N = z.CFL.frac.shape[1]\n",
    "    #        alpha_tilde : alpha_tilde[q,j] = alpha_hat ** q,q = 0, 1, ... N-1\n",
    "    #\n",
    "\n",
    "    alpha_hat = z.CFL.frac[:sim_params['N'],:z.CFL.frac.shape[1]]\n",
    "    alpha_tilde = ma.array(alpha_hat ** N_arr / scipy.misc.factorial(N_arr))\n",
    "\n",
    "    mask_neg = (alpha_hat < 0)\n",
    "    mask_pos = np.logical_not(mask_neg)\n",
    "\n",
    "    # mask out negative values, leave only positives (>= 0)\n",
    "    alpha_tilde.mask = mask_neg\n",
    "\n",
    "    # operate on only positive vlaues (>= 0)\n",
    "    beta_pos = ma.dot(A_pos, alpha_tilde)\n",
    "\n",
    "    # mask out positive (>= 0), leave only negatives\n",
    "    alpha_tilde.mask = mask_pos\n",
    "\n",
    "    # operate on only negative values\n",
    "    beta_neg = ma.dot(A_neg, alpha_tilde)\n",
    "\n",
    "    # consolidate all columns in a single matrix\n",
    "    B = np.zeros([sim_params['N'], sim_params['N' + z.v_str]])\n",
    "\n",
    "    # wherever beta_neg.mask is False (i.e. unmasked value), assign beta_neg, otherwise beta_pos\n",
    "    B = np.where(mask_neg == True, beta_neg.data, beta_pos.data)\n",
    "\n",
    "    return B\n"
   ]
  },
  {
   "cell_type": "markdown",
   "metadata": {},
   "source": [
    "## Validating lib.derivatives.trigonometric2D(*args)"
   ]
  },
  {
   "cell_type": "markdown",
   "metadata": {},
   "source": [
    "Benchmark against first derivative first, then try to generalize after. We aim to apply the first derivative row-wise to each column of a 2D matrix, we have assigned each column with a simple functinow hose derivatives can be easily computed for obvious comparison."
   ]
  },
  {
   "cell_type": "code",
   "execution_count": 1,
   "metadata": {
    "collapsed": false
   },
   "outputs": [],
   "source": [
    "import numpy as np\n",
    "import matplotlib.pyplot as plt\n",
    "\n",
    "def trigonometric2D_df1(f,\n",
    "                    Nx,\n",
    "                    xwidth,\n",
    "                    xi\n",
    "                    ):\n",
    "    \"\"\"Computes derivatives of density for derivative coeffs d in FN methods\n",
    "\n",
    "    inputs:\n",
    "    f -- (ndarray, dim=1) f(z1,z2=const,z3=const,..., t = n-1)\n",
    "    z -- (instance) phase space variable being convected\n",
    "    q -- (int) order of desired derivative\n",
    "    xi -- (ndarray, dim=2) 1D wave numbers stacked in columns for column-wise\n",
    "          fourier transform.\n",
    "    sim_params -- (dict) simulation parameters\n",
    "    K -- (ndarray, ndim=1) Windowed Fourier transform kernel\n",
    "\n",
    "    outputs:\n",
    "    d -- (ndarray, dim=1) qth derivative coefficient for all z.prepoints\n",
    "    \"\"\"\n",
    "\n",
    "    # need to specify the axis in numpy v1.11.0.dev0+fe64f97, has opposite default axis\n",
    "    # as prior versions!\n",
    "    Ff = np.fft.fft(f, axis = 0)\n",
    "\n",
    "    # calc first derivative only for this test\n",
    "    D = (1j*xi) * Ff # in actual CS implementation, should mutltiply by xwidth ** q \n",
    "                     # here, we are benchmarking against derivatives to compare easily\n",
    "                     # rather than comparing the derivative coeffs d = xwidth ** q * (FDcoef)\n",
    "            \n",
    "    d = np.real(np.fft.ifft(D, axis = 0))\n",
    "\n",
    "    return d"
   ]
  },
  {
   "cell_type": "code",
   "execution_count": 3,
   "metadata": {
    "collapsed": false
   },
   "outputs": [],
   "source": [
    "# create a test matrix of densities which require row-wise differentiation for each column\n",
    "x = np.linspace(0,2*np.pi, 101)\n",
    "\n",
    "rows, cols = x.shape[0], 3\n",
    "f = np.zeros([rows, cols])\n",
    "for n in range(3):\n",
    "    f[:,n] = np.cos((n+1)*x)\n",
    "    \n",
    "# calculate wave numbers\n",
    "Nx = f.shape[0]\n",
    "Nv = f.shape[1]\n",
    "xwidth = x[1] - x[0]\n",
    "L = x[-1] - x[0]\n",
    "\n",
    "wave_index = np.arange(Nx)\n",
    "\n",
    "xi = np.where(wave_index <= Nx / 2,\n",
    "              2*np.pi*wave_index / L,\n",
    "              2*np.pi*(wave_index - Nx) / L)\n",
    "\n",
    "# project wave numbers across grid, (Nx, Nv), rows enumerate xi\n",
    "xi = np.outer(xi, np.ones(Nv))\n",
    "\n",
    "\n",
    "d = trigonometric2D_df1(f,\n",
    "                    Nx,\n",
    "                    xwidth,\n",
    "                    xi)"
   ]
  },
  {
   "cell_type": "markdown",
   "metadata": {},
   "source": [
    "exact derivatives are"
   ]
  },
  {
   "cell_type": "code",
   "execution_count": 4,
   "metadata": {
    "collapsed": true
   },
   "outputs": [],
   "source": [
    "import numpy as np\n",
    "\n",
    "df = np.zeros((x.shape[0], 3))\n",
    "\n",
    "for n in range(3):\n",
    "    df[:,n] = -(n+1)*np.sin((n+1)*x)"
   ]
  },
  {
   "cell_type": "markdown",
   "metadata": {},
   "source": [
    "## col 0: df = -np.sin(x)"
   ]
  },
  {
   "cell_type": "code",
   "execution_count": 6,
   "metadata": {
    "collapsed": false
   },
   "outputs": [
    {
     "data": {
      "text/plain": [
       "[<matplotlib.lines.Line2D at 0x33e0c50>]"
      ]
     },
     "execution_count": 6,
     "metadata": {},
     "output_type": "execute_result"
    },
    {
     "data": {
      "image/png": "[encoded data removed]",
      "text/plain": [
       "<matplotlib.figure.Figure at 0x33e0cd0>"
      ]
     },
     "metadata": {},
     "output_type": "display_data"
    }
   ],
   "source": [
    "%matplotlib inline\n",
    "plt.plot(x, df[:,0], linewidth = 2, color = 'red')\n",
    "plt.plot(x, d[:,0], linewidth = 2, linestyle = '--', color = 'blue')"
   ]
  },
  {
   "cell_type": "markdown",
   "metadata": {},
   "source": [
    "## col 1: df = -2*np.sin(2*x)"
   ]
  },
  {
   "cell_type": "code",
   "execution_count": 7,
   "metadata": {
    "collapsed": false
   },
   "outputs": [
    {
     "data": {
      "text/plain": [
       "[<matplotlib.lines.Line2D at 0x37e7490>]"
      ]
     },
     "execution_count": 7,
     "metadata": {},
     "output_type": "execute_result"
    },
    {
     "data": {
      "image/png": "[encoded data removed]",
      "text/plain": [
       "<matplotlib.figure.Figure at 0x37e7550>"
      ]
     },
     "metadata": {},
     "output_type": "display_data"
    }
   ],
   "source": [
    "plt.plot(x, df[:,1], linewidth = 2, color = 'red')\n",
    "plt.plot(x, d[:,1], linewidth = 2, linestyle = '--', color = 'blue')"
   ]
  },
  {
   "cell_type": "markdown",
   "metadata": {},
   "source": [
    "## col 2: df = -3*np.sin(3*x)"
   ]
  },
  {
   "cell_type": "code",
   "execution_count": 8,
   "metadata": {
    "collapsed": false
   },
   "outputs": [
    {
     "data": {
      "text/plain": [
       "[<matplotlib.lines.Line2D at 0x39560d0>]"
      ]
     },
     "execution_count": 8,
     "metadata": {},
     "output_type": "execute_result"
    },
    {
     "data": {
      "image/png": "[encoded data removed]",
      "text/plain": [
       "<matplotlib.figure.Figure at 0x3956190>"
      ]
     },
     "metadata": {},
     "output_type": "display_data"
    }
   ],
   "source": [
    "plt.plot(x, df[:,2], linewidth = 2, color = 'red')\n",
    "plt.plot(x, d[:,2], linewidth = 2, linestyle = '--', color = 'blue')"
   ]
  },
  {
   "cell_type": "markdown",
   "metadata": {},
   "source": [
    "So the 2D fft/ifft work out for a single derivative. This in an improvement from before where we were taking fft/ifft of columns one by one using pure python looping."
   ]
  },
  {
   "cell_type": "markdown",
   "metadata": {},
   "source": [
    "## extending to handle multiple derivative numbers"
   ]
  },
  {
   "cell_type": "code",
   "execution_count": 9,
   "metadata": {
    "collapsed": false
   },
   "outputs": [],
   "source": [
    "import numpy as np\n",
    "import matplotlib.pyplot as plt\n",
    "\n",
    "def trigonometric2D(f,\n",
    "                    Nx,\n",
    "                    xwidth,\n",
    "                    xi\n",
    "                    ):\n",
    "    \"\"\"Computes derivatives of density for derivative coeffs d in FN methods\n",
    "\n",
    "    inputs:\n",
    "    f -- (ndarray, dim=1) f(z1,z2=const,z3=const,..., t = n-1)\n",
    "    z -- (instance) phase space variable being convected\n",
    "    q -- (int) order of desired derivative\n",
    "    xi -- (ndarray, dim=2) 1D wave numbers stacked in columns for column-wise\n",
    "          fourier transform.\n",
    "    sim_params -- (dict) simulation parameters\n",
    "    K -- (ndarray, ndim=1) Windowed Fourier transform kernel\n",
    "\n",
    "    outputs:\n",
    "    d -- (ndarray, dim=1) qth derivative coefficient for all z.prepoints\n",
    "    \"\"\"\n",
    "\n",
    "    # need to specify the axis in numpy v1.11.0.dev0+fe64f97, has opposite default axis\n",
    "    # as prior versions!\n",
    "    Ff = np.fft.fft(f, axis = 0)\n",
    "\n",
    "    eps = np.finfo(float).eps\n",
    "    Ff = np.where(np.abs(Ff) < 100*eps, 0, Ff)\n",
    "\n",
    "    # calc first derivative only for this test\n",
    "    D = (1j*xi) * Ff # in actual CS implementation, should mutltiply by xwidth ** q \n",
    "                     # here, we are benchmarking against derivatives to compare easily\n",
    "                     # rather than comparing the derivative coeffs d = xwidth ** q * (FDcoef)\n",
    "            \n",
    "    d = np.real(np.fft.ifft(D, axis = 0))\n",
    "\n",
    "    return d\n"
   ]
  },
  {
   "cell_type": "markdown",
   "metadata": {},
   "source": [
    "Try raising the 2D matrix to a power that is a list, np.arange(N), <b>example case here: N = 3</b>"
   ]
  },
  {
   "cell_type": "code",
   "execution_count": 10,
   "metadata": {
    "collapsed": false
   },
   "outputs": [
    {
     "name": "stdout",
     "output_type": "stream",
     "text": [
      "the original matrix a has a shape = (2, 5)\n",
      "\n",
      "[[0 1 2 3 4]\n",
      " [5 6 7 8 9]]\n",
      "\n",
      "is raised to the a matrix power with shape = (4, 1, 1):\n",
      "\n",
      "[[[1]]\n",
      "\n",
      " [[2]]\n",
      "\n",
      " [[3]]\n",
      "\n",
      " [[4]]]\n",
      "\n",
      "giving a (4, 2, 5)\n",
      "\n",
      "[[[   0    1    2    3    4]\n",
      "  [   5    6    7    8    9]]\n",
      "\n",
      " [[   0    1    4    9   16]\n",
      "  [  25   36   49   64   81]]\n",
      "\n",
      " [[   0    1    8   27   64]\n",
      "  [ 125  216  343  512  729]]\n",
      "\n",
      " [[   0    1   16   81  256]\n",
      "  [ 625 1296 2401 4096 6561]]]\n",
      "\n",
      " we can see that the resulting first dimension enumerates 2D matrices a raised to each power\n",
      "so the desired result is obtained\n",
      "\n"
     ]
    }
   ],
   "source": [
    "import numpy as np\n",
    "a = np.arange(10).reshape(2,5)\n",
    "pow = np.arange(1,5).reshape(4,1,1)\n",
    "apow = a ** pow\n",
    "\n",
    "print \"the original matrix a has a shape = %s\\n\" % (a.shape,)\n",
    "print a\n",
    "print \"\\nis raised to the a matrix power with shape = %s:\\n\" % (pow.shape,)\n",
    "print pow\n",
    "print \"\\ngiving a %s\\n\" % (apow.shape,)\n",
    "print apow\n",
    "\n",
    "print \"\\n we can see that the resulting first dimension enumerates 2D matrices a raised to each power\"\n",
    "print \"so the desired result is obtained\\n\"\n"
   ]
  },
  {
   "cell_type": "markdown",
   "metadata": {},
   "source": [
    "As a transparent test case, consider the following toy setup:\n"
   ]
  },
  {
   "cell_type": "markdown",
   "metadata": {},
   "source": [
    "We try it with the first three derivatives, thus we require vectors $(j\\underline{\\xi})^q$ where $q = 1, 2, 3$, we would like to assemble the matrix $\\underline{\\underline{\\Xi}}$, where for $x$-advection (perhaps we will decide to make the $v$ advection the same by transposing the appropriate precursor matrices as well):\n",
    "\n",
    "$$\\underline{\\underline{\\xi}} = \\underline{\\xi}_{N_x\\times 1} \\otimes \\underline{1}_{1\\times N_v} = \\left( \\begin{array}{ccc}\n",
    "\\xi_0 & \\xi_0 & \\xi_0 \\\\\n",
    "\\xi_1 & \\xi_1 & \\xi_1 \\\\\n",
    "\\vdots & \\vdots & \\vdots \\\\\n",
    "\\xi_{N_x-1} & \\xi_{N_x-1} & \\xi_{N_x-1} \\end{array} \\right)$$\n",
    "\n",
    "so that we prepare matrix objects that can be multiplied identically to each column of a density matrix $\\underline{\\underline{f}}$, thus we are preparing for row-wise differentiation for each column.\n",
    "\n",
    "$$\\underline{\\underline{\\Xi}} = (\\Xi_{n,m,\\ell}) = (j\\xi_{m,\\forall \\ell})^{n}\\left\\{\\\\\\left( \\begin{array}{ccc}\n",
    "1 & 1 & 1 \\\\\n",
    "1 & 1 & 1 \\\\\n",
    "\\vdots & \\vdots & \\vdots \\\\\n",
    "1& 1 & 1 \\end{array} \\right)_{n = 0, N_x\\times N_v} \\\\ \n",
    "\\left( \\begin{array}{ccc}\n",
    "(j\\xi_0)^1 & (j\\xi_0)^1 & (j\\xi_0)^1 \\\\\n",
    "(j\\xi_1)^1 & (j\\xi_1)^1 & (j\\xi_1)^1 \\\\\n",
    "\\vdots & \\vdots & \\vdots \\\\\n",
    "(j\\xi_{N_x-1})^1 & (j\\xi_{N_x-1})^1 & (j\\xi_{N_x-1})^1 \\end{array} \\right)_{n = 1, N_x\\times N_v}\n",
    "\\\\ \n",
    "\\left( \\begin{array}{ccc}\n",
    "(j\\xi_0)^2 & (j\\xi_0)^2 & (j\\xi_0)^2 \\\\\n",
    "(j\\xi_1)^2 & (j\\xi_1)^2 & (j\\xi_1)^2 \\\\\n",
    "\\vdots & \\vdots & \\vdots \\\\\n",
    "(j\\xi_{N_x-1})^2 & (j\\xi_{N_x-1})^2 & (j\\xi_{N_x-1})^2 \\end{array} \\right)_{n = 2, N_x\\times N_v}\n",
    "\\\\\n",
    "\\left( \\begin{array}{ccc}\n",
    "(j\\xi_0)^3 & (j\\xi_0)^3 & (j\\xi_0)^3 \\\\\n",
    "(j\\xi_1)^3 & (j\\xi_1)^3 & (j\\xi_1)^3 \\\\\n",
    "\\vdots & \\vdots & \\vdots \\\\\n",
    "(j\\xi_{N_x-1})^3 & (j\\xi_{N_x-1})^3 & (j\\xi_{N_x-1})^3 \\end{array} \\right)_{n = 3, N_x\\times N_v}\n",
    "\\\\\n",
    "\\right\\} \n",
    "$$"
   ]
  },
  {
   "cell_type": "code",
   "execution_count": 11,
   "metadata": {
    "collapsed": false
   },
   "outputs": [],
   "source": [
    "# create a test matrix of densities which require row-wise differentiation for each column\n",
    "x = np.linspace(0,2*np.pi, 101)\n",
    "\n",
    "rows, cols = x.shape[0], 3\n",
    "f = np.zeros([rows, cols])\n",
    "for n in range(3):\n",
    "    f[:,n] = np.cos((n+1)*x)\n",
    "    \n",
    "# calculate wave numbers\n",
    "Nx = f.shape[0]\n",
    "Nv = f.shape[1]\n",
    "xwidth = x[1] - x[0]\n",
    "L = x[-1] - x[0]\n",
    "\n",
    "wave_index = np.arange(Nx)\n",
    "\n",
    "\n",
    "# create wave number vectors\n",
    "xi = np.where(wave_index <= Nx / 2,\n",
    "              2*np.pi*wave_index / L,\n",
    "              2*np.pi*(wave_index - Nx) / L)\n",
    "\n",
    "xi = np.outer(xi, np.ones(Nv))"
   ]
  },
  {
   "cell_type": "code",
   "execution_count": 12,
   "metadata": {
    "collapsed": false
   },
   "outputs": [
    {
     "name": "stdout",
     "output_type": "stream",
     "text": [
      "[[ 0.  0.  0.]\n",
      " [ 1.  1.  1.]\n",
      " [ 2.  2.  2.]\n",
      " [ 3.  3.  3.]\n",
      " [ 4.  4.  4.]\n",
      " [ 5.  5.  5.]\n",
      " [ 6.  6.  6.]\n",
      " [ 7.  7.  7.]\n",
      " [ 8.  8.  8.]\n",
      " [ 9.  9.  9.]]\n",
      "...\n",
      "[[-9. -9. -9.]\n",
      " [-8. -8. -8.]\n",
      " [-7. -7. -7.]\n",
      " [-6. -6. -6.]\n",
      " [-5. -5. -5.]\n",
      " [-4. -4. -4.]\n",
      " [-3. -3. -3.]\n",
      " [-2. -2. -2.]\n",
      " [-1. -1. -1.]]\n"
     ]
    }
   ],
   "source": [
    "# print an excerpt of 2D wave numbers, each column should enumerate the wave numbers\n",
    "\n",
    "print xi[:10]\n",
    "print \"...\"\n",
    "print xi[92:]"
   ]
  },
  {
   "cell_type": "code",
   "execution_count": 13,
   "metadata": {
    "collapsed": false
   },
   "outputs": [
    {
     "name": "stdout",
     "output_type": "stream",
     "text": [
      "[[[[ True  True  True]\n",
      "   [ True  True  True]\n",
      "   [ True  True  True]\n",
      "   [ True  True  True]\n",
      "   [ True  True  True]\n",
      "   [ True  True  True]\n",
      "   [ True  True  True]\n",
      "   [ True  True  True]\n",
      "   [ True  True  True]\n",
      "   [ True  True  True]\n",
      "   [ True  True  True]\n",
      "   [ True  True  True]\n",
      "   [ True  True  True]\n",
      "   [ True  True  True]\n",
      "   [ True  True  True]\n",
      "   [ True  True  True]\n",
      "   [ True  True  True]\n",
      "   [ True  True  True]\n",
      "   [ True  True  True]\n",
      "   [ True  True  True]\n",
      "   [ True  True  True]\n",
      "   [ True  True  True]\n",
      "   [ True  True  True]\n",
      "   [ True  True  True]\n",
      "   [ True  True  True]\n",
      "   [ True  True  True]\n",
      "   [ True  True  True]\n",
      "   [ True  True  True]\n",
      "   [ True  True  True]\n",
      "   [ True  True  True]\n",
      "   [ True  True  True]\n",
      "   [ True  True  True]\n",
      "   [ True  True  True]\n",
      "   [ True  True  True]\n",
      "   [ True  True  True]\n",
      "   [ True  True  True]\n",
      "   [ True  True  True]\n",
      "   [ True  True  True]\n",
      "   [ True  True  True]\n",
      "   [ True  True  True]\n",
      "   [ True  True  True]\n",
      "   [ True  True  True]\n",
      "   [ True  True  True]\n",
      "   [ True  True  True]\n",
      "   [ True  True  True]\n",
      "   [ True  True  True]\n",
      "   [ True  True  True]\n",
      "   [ True  True  True]\n",
      "   [ True  True  True]\n",
      "   [ True  True  True]\n",
      "   [ True  True  True]\n",
      "   [ True  True  True]\n",
      "   [ True  True  True]\n",
      "   [ True  True  True]\n",
      "   [ True  True  True]\n",
      "   [ True  True  True]\n",
      "   [ True  True  True]\n",
      "   [ True  True  True]\n",
      "   [ True  True  True]\n",
      "   [ True  True  True]\n",
      "   [ True  True  True]\n",
      "   [ True  True  True]\n",
      "   [ True  True  True]\n",
      "   [ True  True  True]\n",
      "   [ True  True  True]\n",
      "   [ True  True  True]\n",
      "   [ True  True  True]\n",
      "   [ True  True  True]\n",
      "   [ True  True  True]\n",
      "   [ True  True  True]\n",
      "   [ True  True  True]\n",
      "   [ True  True  True]\n",
      "   [ True  True  True]\n",
      "   [ True  True  True]\n",
      "   [ True  True  True]\n",
      "   [ True  True  True]\n",
      "   [ True  True  True]\n",
      "   [ True  True  True]\n",
      "   [ True  True  True]\n",
      "   [ True  True  True]\n",
      "   [ True  True  True]\n",
      "   [ True  True  True]\n",
      "   [ True  True  True]\n",
      "   [ True  True  True]\n",
      "   [ True  True  True]\n",
      "   [ True  True  True]\n",
      "   [ True  True  True]\n",
      "   [ True  True  True]\n",
      "   [ True  True  True]\n",
      "   [ True  True  True]\n",
      "   [ True  True  True]\n",
      "   [ True  True  True]\n",
      "   [ True  True  True]\n",
      "   [ True  True  True]\n",
      "   [ True  True  True]\n",
      "   [ True  True  True]\n",
      "   [ True  True  True]\n",
      "   [ True  True  True]\n",
      "   [ True  True  True]\n",
      "   [ True  True  True]\n",
      "   [ True  True  True]]]]\n",
      "[[[[ True  True  True]\n",
      "   [ True  True  True]\n",
      "   [ True  True  True]\n",
      "   [ True  True  True]\n",
      "   [ True  True  True]\n",
      "   [ True  True  True]\n",
      "   [ True  True  True]\n",
      "   [ True  True  True]\n",
      "   [ True  True  True]\n",
      "   [ True  True  True]\n",
      "   [ True  True  True]\n",
      "   [ True  True  True]\n",
      "   [ True  True  True]\n",
      "   [ True  True  True]\n",
      "   [ True  True  True]\n",
      "   [ True  True  True]\n",
      "   [ True  True  True]\n",
      "   [ True  True  True]\n",
      "   [ True  True  True]\n",
      "   [ True  True  True]\n",
      "   [ True  True  True]\n",
      "   [ True  True  True]\n",
      "   [ True  True  True]\n",
      "   [ True  True  True]\n",
      "   [ True  True  True]\n",
      "   [ True  True  True]\n",
      "   [ True  True  True]\n",
      "   [ True  True  True]\n",
      "   [ True  True  True]\n",
      "   [ True  True  True]\n",
      "   [ True  True  True]\n",
      "   [ True  True  True]\n",
      "   [ True  True  True]\n",
      "   [ True  True  True]\n",
      "   [ True  True  True]\n",
      "   [ True  True  True]\n",
      "   [ True  True  True]\n",
      "   [ True  True  True]\n",
      "   [ True  True  True]\n",
      "   [ True  True  True]\n",
      "   [ True  True  True]\n",
      "   [ True  True  True]\n",
      "   [ True  True  True]\n",
      "   [ True  True  True]\n",
      "   [ True  True  True]\n",
      "   [ True  True  True]\n",
      "   [ True  True  True]\n",
      "   [ True  True  True]\n",
      "   [ True  True  True]\n",
      "   [ True  True  True]\n",
      "   [ True  True  True]\n",
      "   [ True  True  True]\n",
      "   [ True  True  True]\n",
      "   [ True  True  True]\n",
      "   [ True  True  True]\n",
      "   [ True  True  True]\n",
      "   [ True  True  True]\n",
      "   [ True  True  True]\n",
      "   [ True  True  True]\n",
      "   [ True  True  True]\n",
      "   [ True  True  True]\n",
      "   [ True  True  True]\n",
      "   [ True  True  True]\n",
      "   [ True  True  True]\n",
      "   [ True  True  True]\n",
      "   [ True  True  True]\n",
      "   [ True  True  True]\n",
      "   [ True  True  True]\n",
      "   [ True  True  True]\n",
      "   [ True  True  True]\n",
      "   [ True  True  True]\n",
      "   [ True  True  True]\n",
      "   [ True  True  True]\n",
      "   [ True  True  True]\n",
      "   [ True  True  True]\n",
      "   [ True  True  True]\n",
      "   [ True  True  True]\n",
      "   [ True  True  True]\n",
      "   [ True  True  True]\n",
      "   [ True  True  True]\n",
      "   [ True  True  True]\n",
      "   [ True  True  True]\n",
      "   [ True  True  True]\n",
      "   [ True  True  True]\n",
      "   [ True  True  True]\n",
      "   [ True  True  True]\n",
      "   [ True  True  True]\n",
      "   [ True  True  True]\n",
      "   [ True  True  True]\n",
      "   [ True  True  True]\n",
      "   [ True  True  True]\n",
      "   [ True  True  True]\n",
      "   [ True  True  True]\n",
      "   [ True  True  True]\n",
      "   [ True  True  True]\n",
      "   [ True  True  True]\n",
      "   [ True  True  True]\n",
      "   [ True  True  True]\n",
      "   [ True  True  True]\n",
      "   [ True  True  True]\n",
      "   [ True  True  True]]]]\n",
      "[[[[ True  True  True]\n",
      "   [ True  True  True]\n",
      "   [ True  True  True]\n",
      "   [ True  True  True]\n",
      "   [ True  True  True]\n",
      "   [ True  True  True]\n",
      "   [ True  True  True]\n",
      "   [ True  True  True]\n",
      "   [ True  True  True]\n",
      "   [ True  True  True]\n",
      "   [ True  True  True]\n",
      "   [ True  True  True]\n",
      "   [ True  True  True]\n",
      "   [ True  True  True]\n",
      "   [ True  True  True]\n",
      "   [ True  True  True]\n",
      "   [ True  True  True]\n",
      "   [ True  True  True]\n",
      "   [ True  True  True]\n",
      "   [ True  True  True]\n",
      "   [ True  True  True]\n",
      "   [ True  True  True]\n",
      "   [ True  True  True]\n",
      "   [ True  True  True]\n",
      "   [ True  True  True]\n",
      "   [ True  True  True]\n",
      "   [ True  True  True]\n",
      "   [ True  True  True]\n",
      "   [ True  True  True]\n",
      "   [ True  True  True]\n",
      "   [ True  True  True]\n",
      "   [ True  True  True]\n",
      "   [ True  True  True]\n",
      "   [ True  True  True]\n",
      "   [ True  True  True]\n",
      "   [ True  True  True]\n",
      "   [ True  True  True]\n",
      "   [ True  True  True]\n",
      "   [ True  True  True]\n",
      "   [ True  True  True]\n",
      "   [ True  True  True]\n",
      "   [ True  True  True]\n",
      "   [ True  True  True]\n",
      "   [ True  True  True]\n",
      "   [ True  True  True]\n",
      "   [ True  True  True]\n",
      "   [ True  True  True]\n",
      "   [ True  True  True]\n",
      "   [ True  True  True]\n",
      "   [ True  True  True]\n",
      "   [ True  True  True]\n",
      "   [ True  True  True]\n",
      "   [ True  True  True]\n",
      "   [ True  True  True]\n",
      "   [ True  True  True]\n",
      "   [ True  True  True]\n",
      "   [ True  True  True]\n",
      "   [ True  True  True]\n",
      "   [ True  True  True]\n",
      "   [ True  True  True]\n",
      "   [ True  True  True]\n",
      "   [ True  True  True]\n",
      "   [ True  True  True]\n",
      "   [ True  True  True]\n",
      "   [ True  True  True]\n",
      "   [ True  True  True]\n",
      "   [ True  True  True]\n",
      "   [ True  True  True]\n",
      "   [ True  True  True]\n",
      "   [ True  True  True]\n",
      "   [ True  True  True]\n",
      "   [ True  True  True]\n",
      "   [ True  True  True]\n",
      "   [ True  True  True]\n",
      "   [ True  True  True]\n",
      "   [ True  True  True]\n",
      "   [ True  True  True]\n",
      "   [ True  True  True]\n",
      "   [ True  True  True]\n",
      "   [ True  True  True]\n",
      "   [ True  True  True]\n",
      "   [ True  True  True]\n",
      "   [ True  True  True]\n",
      "   [ True  True  True]\n",
      "   [ True  True  True]\n",
      "   [ True  True  True]\n",
      "   [ True  True  True]\n",
      "   [ True  True  True]\n",
      "   [ True  True  True]\n",
      "   [ True  True  True]\n",
      "   [ True  True  True]\n",
      "   [ True  True  True]\n",
      "   [ True  True  True]\n",
      "   [ True  True  True]\n",
      "   [ True  True  True]\n",
      "   [ True  True  True]\n",
      "   [ True  True  True]\n",
      "   [ True  True  True]\n",
      "   [ True  True  True]\n",
      "   [ True  True  True]\n",
      "   [ True  True  True]]]]\n"
     ]
    }
   ],
   "source": [
    "import numpy as np\n",
    "N = 4\n",
    "pow = np.arange(1,N).reshape(N-1,1,1)\n",
    "Xi = (1j * xi) ** pow \n",
    "\n",
    "for power in pow:\n",
    "    print Xi[power - 1,:,:] == (1j*xi) ** power # note that power - 1 is the index since pow = 1,2,3"
   ]
  },
  {
   "cell_type": "markdown",
   "metadata": {},
   "source": [
    "Thus, we have set up the matrix $\\underline{\\underline{\\Xi}}$ appropriately, validated above by comparing each 2D matrix <code>Xi[q,:,:]</code> with the computed matrix <code>(1j * xi) ** q</code> for <code>q = 1, 2, 3</code>"
   ]
  },
  {
   "cell_type": "markdown",
   "metadata": {},
   "source": [
    "## Manual validation of 2D vs. 3D methods"
   ]
  },
  {
   "cell_type": "markdown",
   "metadata": {},
   "source": [
    "We wish to Fourier transform each column of a density f, i.e. we want $\\mathcal{F}$f (we use the analytic $\\mathcal{F}$ to denote fourier transform, in practice we use FFT), what is meant by a $\\mathcal{F}$ of a 2D object f is the following:\n",
    "\n",
    "$$\\mathcal{F}\\underline{\\underline{\\text{f}}}_{N_x\\times N_v} = (\\underline{\\mathcal{F}\\text{f}_{,0}}_{N_x\\times 1}, \\underline{\\mathcal{F}\\text{f}_{,1}}_{N_x\\times 1}, \\ldots , \\underline{\\mathcal{F}\\text{f}_{,N_v-1}}_{N_x\\times 1})$$\n",
    "\n",
    "Where we are Fourier transforming in rows at each column, hence the comma notation as used before. We need numpy or some fast routine to compute this transform without slow looping. NumPy provides an axis argument in its routine numpy.fft.fft(a[, n, axis]), choosing the row axis should permit us to apply this function row-wise without having to code a special version for the 2D case (soon we apprehend the 3D object). We validate this below"
   ]
  },
  {
   "cell_type": "code",
   "execution_count": 16,
   "metadata": {
    "collapsed": false
   },
   "outputs": [
    {
     "name": "stdout",
     "output_type": "stream",
     "text": [
      "[ True  True  True  True  True  True  True  True  True  True  True  True\n",
      "  True  True  True  True  True  True  True  True  True  True  True  True\n",
      "  True  True  True  True  True  True  True  True  True  True  True  True\n",
      "  True  True  True  True  True  True  True  True  True  True  True  True\n",
      "  True  True  True  True  True  True  True  True  True  True  True  True\n",
      "  True  True  True  True  True  True  True  True  True  True  True  True\n",
      "  True  True  True  True  True  True  True  True  True  True  True  True\n",
      "  True  True  True  True  True  True  True  True  True  True  True  True\n",
      "  True  True  True  True  True]\n",
      "[ True  True  True  True  True  True  True  True  True  True  True  True\n",
      "  True  True  True  True  True  True  True  True  True  True  True  True\n",
      "  True  True  True  True  True  True  True  True  True  True  True  True\n",
      "  True  True  True  True  True  True  True  True  True  True  True  True\n",
      "  True  True  True  True  True  True  True  True  True  True  True  True\n",
      "  True  True  True  True  True  True  True  True  True  True  True  True\n",
      "  True  True  True  True  True  True  True  True  True  True  True  True\n",
      "  True  True  True  True  True  True  True  True  True  True  True  True\n",
      "  True  True  True  True  True]\n",
      "[ True  True  True  True  True  True  True  True  True  True  True  True\n",
      "  True  True  True  True  True  True  True  True  True  True  True  True\n",
      "  True  True  True  True  True  True  True  True  True  True  True  True\n",
      "  True  True  True  True  True  True  True  True  True  True  True  True\n",
      "  True  True  True  True  True  True  True  True  True  True  True  True\n",
      "  True  True  True  True  True  True  True  True  True  True  True  True\n",
      "  True  True  True  True  True  True  True  True  True  True  True  True\n",
      "  True  True  True  True  True  True  True  True  True  True  True  True\n",
      "  True  True  True  True  True]\n"
     ]
    }
   ],
   "source": [
    "import numpy as np\n",
    "\n",
    "Ff_2D = np.fft.fft(f, axis = 0) # act on the row axis (0)\n",
    "\n",
    "# compare each column of the 2D transform with each column f as computed manually\n",
    "for j in range(f.shape[1]):\n",
    "    print Ff_2D[:,j] == np.fft.fft(f[:,j])"
   ]
  },
  {
   "cell_type": "markdown",
   "metadata": {},
   "source": [
    "So the same Fourier transforms are created provided between 2D and computing them one column at a time. We can safely say the 2D implementation is benchmarked, we use it as a standard in testing if a 3D implementation is consistent. "
   ]
  },
  {
   "cell_type": "markdown",
   "metadata": {},
   "source": [
    "## Validating Fourier transform by columns of 2D and 3D objects"
   ]
  },
  {
   "cell_type": "markdown",
   "metadata": {},
   "source": [
    "We now proceed to compare the objects when multiplied by the required submatrices of $\\underline{\\underline{\\Xi}}$ in the first dimension $(\\underline{\\underline{\\Xi}}_{N\\times N_x\\times N_v})_{q} = \\underline{\\underline{\\Xi}}_{N_x\\times N_v} \\equiv$ <code>Xi[q,:,:]</code>, i.e each power <code>q</code>\\. Note that $(\\text{j}\\xi)\\mathcal{F}f_{,j}$ $(\\text{j} = \\sqrt{-1}, j\\in [0,1, \\ldots , N_v-1]$) gives the Fourier transform to the derivative of the jth column. Hence we label these as transformed derivatives, labels such as F_dFf, which is acknowledged as cumbersome but clear (a larger benefit than the disadvantage of long names)."
   ]
  },
  {
   "cell_type": "code",
   "execution_count": 19,
   "metadata": {
    "collapsed": false
   },
   "outputs": [
    {
     "name": "stdout",
     "output_type": "stream",
     "text": [
      "[[ True  True  True]\n",
      " [ True  True  True]\n",
      " [ True  True  True]\n",
      " [ True  True  True]\n",
      " [ True  True  True]\n",
      " [ True  True  True]\n",
      " [ True  True  True]\n",
      " [ True  True  True]\n",
      " [ True  True  True]\n",
      " [ True  True  True]\n",
      " [ True  True  True]\n",
      " [ True  True  True]\n",
      " [ True  True  True]\n",
      " [ True  True  True]\n",
      " [ True  True  True]\n",
      " [ True  True  True]\n",
      " [ True  True  True]\n",
      " [ True  True  True]\n",
      " [ True  True  True]\n",
      " [ True  True  True]\n",
      " [ True  True  True]\n",
      " [ True  True  True]\n",
      " [ True  True  True]\n",
      " [ True  True  True]\n",
      " [ True  True  True]\n",
      " [ True  True  True]\n",
      " [ True  True  True]\n",
      " [ True  True  True]\n",
      " [ True  True  True]\n",
      " [ True  True  True]\n",
      " [ True  True  True]\n",
      " [ True  True  True]\n",
      " [ True  True  True]\n",
      " [ True  True  True]\n",
      " [ True  True  True]\n",
      " [ True  True  True]\n",
      " [ True  True  True]\n",
      " [ True  True  True]\n",
      " [ True  True  True]\n",
      " [ True  True  True]\n",
      " [ True  True  True]\n",
      " [ True  True  True]\n",
      " [ True  True  True]\n",
      " [ True  True  True]\n",
      " [ True  True  True]\n",
      " [ True  True  True]\n",
      " [ True  True  True]\n",
      " [ True  True  True]\n",
      " [ True  True  True]\n",
      " [ True  True  True]\n",
      " [ True  True  True]\n",
      " [ True  True  True]\n",
      " [ True  True  True]\n",
      " [ True  True  True]\n",
      " [ True  True  True]\n",
      " [ True  True  True]\n",
      " [ True  True  True]\n",
      " [ True  True  True]\n",
      " [ True  True  True]\n",
      " [ True  True  True]\n",
      " [ True  True  True]\n",
      " [ True  True  True]\n",
      " [ True  True  True]\n",
      " [ True  True  True]\n",
      " [ True  True  True]\n",
      " [ True  True  True]\n",
      " [ True  True  True]\n",
      " [ True  True  True]\n",
      " [ True  True  True]\n",
      " [ True  True  True]\n",
      " [ True  True  True]\n",
      " [ True  True  True]\n",
      " [ True  True  True]\n",
      " [ True  True  True]\n",
      " [ True  True  True]\n",
      " [ True  True  True]\n",
      " [ True  True  True]\n",
      " [ True  True  True]\n",
      " [ True  True  True]\n",
      " [ True  True  True]\n",
      " [ True  True  True]\n",
      " [ True  True  True]\n",
      " [ True  True  True]\n",
      " [ True  True  True]\n",
      " [ True  True  True]\n",
      " [ True  True  True]\n",
      " [ True  True  True]\n",
      " [ True  True  True]\n",
      " [ True  True  True]\n",
      " [ True  True  True]\n",
      " [ True  True  True]\n",
      " [ True  True  True]\n",
      " [ True  True  True]\n",
      " [ True  True  True]\n",
      " [ True  True  True]\n",
      " [ True  True  True]\n",
      " [ True  True  True]\n",
      " [ True  True  True]\n",
      " [ True  True  True]\n",
      " [ True  True  True]\n",
      " [ True  True  True]]\n",
      "[[ True  True  True]\n",
      " [ True  True  True]\n",
      " [ True  True  True]\n",
      " [ True  True  True]\n",
      " [ True  True  True]\n",
      " [ True  True  True]\n",
      " [ True  True  True]\n",
      " [ True  True  True]\n",
      " [ True  True  True]\n",
      " [ True  True  True]\n",
      " [ True  True  True]\n",
      " [ True  True  True]\n",
      " [ True  True  True]\n",
      " [ True  True  True]\n",
      " [ True  True  True]\n",
      " [ True  True  True]\n",
      " [ True  True  True]\n",
      " [ True  True  True]\n",
      " [ True  True  True]\n",
      " [ True  True  True]\n",
      " [ True  True  True]\n",
      " [ True  True  True]\n",
      " [ True  True  True]\n",
      " [ True  True  True]\n",
      " [ True  True  True]\n",
      " [ True  True  True]\n",
      " [ True  True  True]\n",
      " [ True  True  True]\n",
      " [ True  True  True]\n",
      " [ True  True  True]\n",
      " [ True  True  True]\n",
      " [ True  True  True]\n",
      " [ True  True  True]\n",
      " [ True  True  True]\n",
      " [ True  True  True]\n",
      " [ True  True  True]\n",
      " [ True  True  True]\n",
      " [ True  True  True]\n",
      " [ True  True  True]\n",
      " [ True  True  True]\n",
      " [ True  True  True]\n",
      " [ True  True  True]\n",
      " [ True  True  True]\n",
      " [ True  True  True]\n",
      " [ True  True  True]\n",
      " [ True  True  True]\n",
      " [ True  True  True]\n",
      " [ True  True  True]\n",
      " [ True  True  True]\n",
      " [ True  True  True]\n",
      " [ True  True  True]\n",
      " [ True  True  True]\n",
      " [ True  True  True]\n",
      " [ True  True  True]\n",
      " [ True  True  True]\n",
      " [ True  True  True]\n",
      " [ True  True  True]\n",
      " [ True  True  True]\n",
      " [ True  True  True]\n",
      " [ True  True  True]\n",
      " [ True  True  True]\n",
      " [ True  True  True]\n",
      " [ True  True  True]\n",
      " [ True  True  True]\n",
      " [ True  True  True]\n",
      " [ True  True  True]\n",
      " [ True  True  True]\n",
      " [ True  True  True]\n",
      " [ True  True  True]\n",
      " [ True  True  True]\n",
      " [ True  True  True]\n",
      " [ True  True  True]\n",
      " [ True  True  True]\n",
      " [ True  True  True]\n",
      " [ True  True  True]\n",
      " [ True  True  True]\n",
      " [ True  True  True]\n",
      " [ True  True  True]\n",
      " [ True  True  True]\n",
      " [ True  True  True]\n",
      " [ True  True  True]\n",
      " [ True  True  True]\n",
      " [ True  True  True]\n",
      " [ True  True  True]\n",
      " [ True  True  True]\n",
      " [ True  True  True]\n",
      " [ True  True  True]\n",
      " [ True  True  True]\n",
      " [ True  True  True]\n",
      " [ True  True  True]\n",
      " [ True  True  True]\n",
      " [ True  True  True]\n",
      " [ True  True  True]\n",
      " [ True  True  True]\n",
      " [ True  True  True]\n",
      " [ True  True  True]\n",
      " [ True  True  True]\n",
      " [ True  True  True]\n",
      " [ True  True  True]\n",
      " [ True  True  True]\n",
      " [ True  True  True]]\n",
      "[[ True  True  True]\n",
      " [ True  True  True]\n",
      " [ True  True  True]\n",
      " [ True  True  True]\n",
      " [ True  True  True]\n",
      " [ True  True  True]\n",
      " [ True  True  True]\n",
      " [ True  True  True]\n",
      " [ True  True  True]\n",
      " [ True  True  True]\n",
      " [ True  True  True]\n",
      " [ True  True  True]\n",
      " [ True  True  True]\n",
      " [ True  True  True]\n",
      " [ True  True  True]\n",
      " [ True  True  True]\n",
      " [ True  True  True]\n",
      " [ True  True  True]\n",
      " [ True  True  True]\n",
      " [ True  True  True]\n",
      " [ True  True  True]\n",
      " [ True  True  True]\n",
      " [ True  True  True]\n",
      " [ True  True  True]\n",
      " [ True  True  True]\n",
      " [ True  True  True]\n",
      " [ True  True  True]\n",
      " [ True  True  True]\n",
      " [ True  True  True]\n",
      " [ True  True  True]\n",
      " [ True  True  True]\n",
      " [ True  True  True]\n",
      " [ True  True  True]\n",
      " [ True  True  True]\n",
      " [ True  True  True]\n",
      " [ True  True  True]\n",
      " [ True  True  True]\n",
      " [ True  True  True]\n",
      " [ True  True  True]\n",
      " [ True  True  True]\n",
      " [ True  True  True]\n",
      " [ True  True  True]\n",
      " [ True  True  True]\n",
      " [ True  True  True]\n",
      " [ True  True  True]\n",
      " [ True  True  True]\n",
      " [ True  True  True]\n",
      " [ True  True  True]\n",
      " [ True  True  True]\n",
      " [ True  True  True]\n",
      " [ True  True  True]\n",
      " [ True  True  True]\n",
      " [ True  True  True]\n",
      " [ True  True  True]\n",
      " [ True  True  True]\n",
      " [ True  True  True]\n",
      " [ True  True  True]\n",
      " [ True  True  True]\n",
      " [ True  True  True]\n",
      " [ True  True  True]\n",
      " [ True  True  True]\n",
      " [ True  True  True]\n",
      " [ True  True  True]\n",
      " [ True  True  True]\n",
      " [ True  True  True]\n",
      " [ True  True  True]\n",
      " [ True  True  True]\n",
      " [ True  True  True]\n",
      " [ True  True  True]\n",
      " [ True  True  True]\n",
      " [ True  True  True]\n",
      " [ True  True  True]\n",
      " [ True  True  True]\n",
      " [ True  True  True]\n",
      " [ True  True  True]\n",
      " [ True  True  True]\n",
      " [ True  True  True]\n",
      " [ True  True  True]\n",
      " [ True  True  True]\n",
      " [ True  True  True]\n",
      " [ True  True  True]\n",
      " [ True  True  True]\n",
      " [ True  True  True]\n",
      " [ True  True  True]\n",
      " [ True  True  True]\n",
      " [ True  True  True]\n",
      " [ True  True  True]\n",
      " [ True  True  True]\n",
      " [ True  True  True]\n",
      " [ True  True  True]\n",
      " [ True  True  True]\n",
      " [ True  True  True]\n",
      " [ True  True  True]\n",
      " [ True  True  True]\n",
      " [ True  True  True]\n",
      " [ True  True  True]\n",
      " [ True  True  True]\n",
      " [ True  True  True]\n",
      " [ True  True  True]\n",
      " [ True  True  True]\n",
      " [ True  True  True]]\n"
     ]
    }
   ],
   "source": [
    "# generate the 3D transform object F_dFf_3D by broadcasting Xi.shape = (N, Nx, Nv) \n",
    "# with Ff_2D.shape = (Nx, Nv)\n",
    "F_dFf_3D = Xi * Ff_2D \n",
    "\n",
    "# compare with 2D formulation since was already verified against 1D stepthrough\n",
    "for q in range(F_dFf_3D.shape[0]):\n",
    "    print F_dFf_3D[q,:,:] == (1j*xi) ** (q+1) * Ff_2D # pow = 1, 2, 3, q = 0, 1, 2"
   ]
  },
  {
   "cell_type": "markdown",
   "metadata": {},
   "source": [
    "So the transformed derivatives agree between the 3D and 2D versions. The inverse should give their derivatives. We verify this below, starting with the 2D version (for our own education in using the axis argument of the numpy.fft module), then moving onto the 3D versions using what we learned. The analytical derivatives are known, as shown above since we have chosen the function."
   ]
  },
  {
   "cell_type": "markdown",
   "metadata": {},
   "source": [
    "## validating derivatives using 2D computations"
   ]
  },
  {
   "cell_type": "code",
   "execution_count": 22,
   "metadata": {
    "collapsed": true
   },
   "outputs": [],
   "source": [
    "# df1, df2, df3 pertain to order of derivative\n",
    "\n",
    "df1_2D = np.real(np.fft.ifft( (1j*xi) * Ff_2D,  axis = 0))\n",
    "df2_2D = np.real(np.fft.ifft( (1j*xi) ** 2 * Ff_2D,  axis = 0))\n",
    "df3_2D = np.real(np.fft.ifft( (1j*xi) ** 3 * Ff_2D,  axis = 0))"
   ]
  },
  {
   "cell_type": "code",
   "execution_count": 23,
   "metadata": {
    "collapsed": true
   },
   "outputs": [],
   "source": [
    "df_exact = np.zeros((N+1,x.shape[0],f.shape[1])) # first dimension labels dn\n",
    "for j in range(f.shape[1]):\n",
    "    df_exact[1,:,j] = -(j+1)*np.sin((j+1)*x)\n",
    "    df_exact[2,:,j] = -(j+1) ** 2 * np.cos((j+1)*x)\n",
    "    df_exact[3,:,j] = (j+1) ** 3 * np.sin((j+1)*x)"
   ]
  },
  {
   "cell_type": "markdown",
   "metadata": {},
   "source": [
    "## first derivative"
   ]
  },
  {
   "cell_type": "code",
   "execution_count": 24,
   "metadata": {
    "collapsed": false,
    "scrolled": false
   },
   "outputs": [
    {
     "data": {
      "image/png": "[encoded data removed]",
      "text/plain": [
       "<matplotlib.figure.Figure at 0x3d31390>"
      ]
     },
     "metadata": {},
     "output_type": "display_data"
    }
   ],
   "source": [
    "%matplotlib inline\n",
    "import matplotlib.pyplot as plt\n",
    "\n",
    "dn = 1\n",
    "for j in range(f.shape[1]):\n",
    "    # first derivative\n",
    "    plt.plot(x, df_exact[dn,:,j], linewidth = 2)\n",
    "    plt.plot(x, eval('df' + '%d' % dn + '_2D')[:,j], 'o', linewidth = 2)"
   ]
  },
  {
   "cell_type": "markdown",
   "metadata": {},
   "source": [
    "## 2nd derivative"
   ]
  },
  {
   "cell_type": "code",
   "execution_count": 25,
   "metadata": {
    "collapsed": false,
    "scrolled": true
   },
   "outputs": [
    {
     "data": {
      "image/png": "[encoded data removed]",
      "text/plain": [
       "<matplotlib.figure.Figure at 0x3f53b50>"
      ]
     },
     "metadata": {},
     "output_type": "display_data"
    }
   ],
   "source": [
    "%matplotlib inline\n",
    "import matplotlib.pyplot as plt\n",
    "\n",
    "dn = 2\n",
    "for j in range(f.shape[1]):\n",
    "    # first derivative\n",
    "    plt.plot(x, df_exact[dn,:,j], linewidth = 2)\n",
    "    plt.plot(x, eval('df' + '%d' % dn + '_2D')[:,j], 'o', linewidth = 2)"
   ]
  },
  {
   "cell_type": "markdown",
   "metadata": {},
   "source": [
    "## 3rd derivative"
   ]
  },
  {
   "cell_type": "code",
   "execution_count": 26,
   "metadata": {
    "collapsed": false
   },
   "outputs": [
    {
     "data": {
      "image/png": "[encoded data removed]",
      "text/plain": [
       "<matplotlib.figure.Figure at 0x3d186d0>"
      ]
     },
     "metadata": {},
     "output_type": "display_data"
    }
   ],
   "source": [
    "%matplotlib inline\n",
    "import matplotlib.pyplot as plt\n",
    "\n",
    "dn = 3\n",
    "for j in range(f.shape[1]):\n",
    "    # first derivative\n",
    "    plt.plot(x, df_exact[dn,:,j], linewidth = 2)\n",
    "    plt.plot(x, eval('df' + '%d' % dn + '_2D')[:,j], 'o', linewidth = 2)"
   ]
  },
  {
   "cell_type": "markdown",
   "metadata": {},
   "source": [
    "Where some Gibbs phenomenon starts to become apparent, this isn't surprising giving the higher powers of the wave vector magnitudes 1j*xi amplifies the spurious oscillations."
   ]
  },
  {
   "cell_type": "markdown",
   "metadata": {},
   "source": [
    "# Validating derivatives with 3D implementation"
   ]
  },
  {
   "cell_type": "markdown",
   "metadata": {},
   "source": [
    "First verify that the submatrices (2D) of the 3D object recover the same 2D objects benchmarked above."
   ]
  },
  {
   "cell_type": "code",
   "execution_count": 27,
   "metadata": {
    "collapsed": true
   },
   "outputs": [],
   "source": [
    "df1_3D = np.real(np.fft.ifft(F_dFf_3D[0,:,:], axis = 0))\n",
    "df2_3D = np.real(np.fft.ifft(F_dFf_3D[1,:,:], axis = 0))\n",
    "df3_3D = np.real(np.fft.ifft(F_dFf_3D[2,:,:], axis = 0))"
   ]
  },
  {
   "cell_type": "markdown",
   "metadata": {},
   "source": [
    "Verify these are the same derivatives as \n",
    "\n",
    "    df1_2D\n",
    "    df2_2D\n",
    "    df3_2D"
   ]
  },
  {
   "cell_type": "code",
   "execution_count": 28,
   "metadata": {
    "collapsed": false
   },
   "outputs": [
    {
     "name": "stdout",
     "output_type": "stream",
     "text": [
      "[[ True  True  True]\n",
      " [ True  True  True]\n",
      " [ True  True  True]\n",
      " [ True  True  True]\n",
      " [ True  True  True]\n",
      " [ True  True  True]\n",
      " [ True  True  True]\n",
      " [ True  True  True]\n",
      " [ True  True  True]\n",
      " [ True  True  True]\n",
      " [ True  True  True]\n",
      " [ True  True  True]\n",
      " [ True  True  True]\n",
      " [ True  True  True]\n",
      " [ True  True  True]\n",
      " [ True  True  True]\n",
      " [ True  True  True]\n",
      " [ True  True  True]\n",
      " [ True  True  True]\n",
      " [ True  True  True]\n",
      " [ True  True  True]\n",
      " [ True  True  True]\n",
      " [ True  True  True]\n",
      " [ True  True  True]\n",
      " [ True  True  True]\n",
      " [ True  True  True]\n",
      " [ True  True  True]\n",
      " [ True  True  True]\n",
      " [ True  True  True]\n",
      " [ True  True  True]\n",
      " [ True  True  True]\n",
      " [ True  True  True]\n",
      " [ True  True  True]\n",
      " [ True  True  True]\n",
      " [ True  True  True]\n",
      " [ True  True  True]\n",
      " [ True  True  True]\n",
      " [ True  True  True]\n",
      " [ True  True  True]\n",
      " [ True  True  True]\n",
      " [ True  True  True]\n",
      " [ True  True  True]\n",
      " [ True  True  True]\n",
      " [ True  True  True]\n",
      " [ True  True  True]\n",
      " [ True  True  True]\n",
      " [ True  True  True]\n",
      " [ True  True  True]\n",
      " [ True  True  True]\n",
      " [ True  True  True]\n",
      " [ True  True  True]\n",
      " [ True  True  True]\n",
      " [ True  True  True]\n",
      " [ True  True  True]\n",
      " [ True  True  True]\n",
      " [ True  True  True]\n",
      " [ True  True  True]\n",
      " [ True  True  True]\n",
      " [ True  True  True]\n",
      " [ True  True  True]\n",
      " [ True  True  True]\n",
      " [ True  True  True]\n",
      " [ True  True  True]\n",
      " [ True  True  True]\n",
      " [ True  True  True]\n",
      " [ True  True  True]\n",
      " [ True  True  True]\n",
      " [ True  True  True]\n",
      " [ True  True  True]\n",
      " [ True  True  True]\n",
      " [ True  True  True]\n",
      " [ True  True  True]\n",
      " [ True  True  True]\n",
      " [ True  True  True]\n",
      " [ True  True  True]\n",
      " [ True  True  True]\n",
      " [ True  True  True]\n",
      " [ True  True  True]\n",
      " [ True  True  True]\n",
      " [ True  True  True]\n",
      " [ True  True  True]\n",
      " [ True  True  True]\n",
      " [ True  True  True]\n",
      " [ True  True  True]\n",
      " [ True  True  True]\n",
      " [ True  True  True]\n",
      " [ True  True  True]\n",
      " [ True  True  True]\n",
      " [ True  True  True]\n",
      " [ True  True  True]\n",
      " [ True  True  True]\n",
      " [ True  True  True]\n",
      " [ True  True  True]\n",
      " [ True  True  True]\n",
      " [ True  True  True]\n",
      " [ True  True  True]\n",
      " [ True  True  True]\n",
      " [ True  True  True]\n",
      " [ True  True  True]\n",
      " [ True  True  True]\n",
      " [ True  True  True]]\n",
      "[[ True  True  True]\n",
      " [ True  True  True]\n",
      " [ True  True  True]\n",
      " [ True  True  True]\n",
      " [ True  True  True]\n",
      " [ True  True  True]\n",
      " [ True  True  True]\n",
      " [ True  True  True]\n",
      " [ True  True  True]\n",
      " [ True  True  True]\n",
      " [ True  True  True]\n",
      " [ True  True  True]\n",
      " [ True  True  True]\n",
      " [ True  True  True]\n",
      " [ True  True  True]\n",
      " [ True  True  True]\n",
      " [ True  True  True]\n",
      " [ True  True  True]\n",
      " [ True  True  True]\n",
      " [ True  True  True]\n",
      " [ True  True  True]\n",
      " [ True  True  True]\n",
      " [ True  True  True]\n",
      " [ True  True  True]\n",
      " [ True  True  True]\n",
      " [ True  True  True]\n",
      " [ True  True  True]\n",
      " [ True  True  True]\n",
      " [ True  True  True]\n",
      " [ True  True  True]\n",
      " [ True  True  True]\n",
      " [ True  True  True]\n",
      " [ True  True  True]\n",
      " [ True  True  True]\n",
      " [ True  True  True]\n",
      " [ True  True  True]\n",
      " [ True  True  True]\n",
      " [ True  True  True]\n",
      " [ True  True  True]\n",
      " [ True  True  True]\n",
      " [ True  True  True]\n",
      " [ True  True  True]\n",
      " [ True  True  True]\n",
      " [ True  True  True]\n",
      " [ True  True  True]\n",
      " [ True  True  True]\n",
      " [ True  True  True]\n",
      " [ True  True  True]\n",
      " [ True  True  True]\n",
      " [ True  True  True]\n",
      " [ True  True  True]\n",
      " [ True  True  True]\n",
      " [ True  True  True]\n",
      " [ True  True  True]\n",
      " [ True  True  True]\n",
      " [ True  True  True]\n",
      " [ True  True  True]\n",
      " [ True  True  True]\n",
      " [ True  True  True]\n",
      " [ True  True  True]\n",
      " [ True  True  True]\n",
      " [ True  True  True]\n",
      " [ True  True  True]\n",
      " [ True  True  True]\n",
      " [ True  True  True]\n",
      " [ True  True  True]\n",
      " [ True  True  True]\n",
      " [ True  True  True]\n",
      " [ True  True  True]\n",
      " [ True  True  True]\n",
      " [ True  True  True]\n",
      " [ True  True  True]\n",
      " [ True  True  True]\n",
      " [ True  True  True]\n",
      " [ True  True  True]\n",
      " [ True  True  True]\n",
      " [ True  True  True]\n",
      " [ True  True  True]\n",
      " [ True  True  True]\n",
      " [ True  True  True]\n",
      " [ True  True  True]\n",
      " [ True  True  True]\n",
      " [ True  True  True]\n",
      " [ True  True  True]\n",
      " [ True  True  True]\n",
      " [ True  True  True]\n",
      " [ True  True  True]\n",
      " [ True  True  True]\n",
      " [ True  True  True]\n",
      " [ True  True  True]\n",
      " [ True  True  True]\n",
      " [ True  True  True]\n",
      " [ True  True  True]\n",
      " [ True  True  True]\n",
      " [ True  True  True]\n",
      " [ True  True  True]\n",
      " [ True  True  True]\n",
      " [ True  True  True]\n",
      " [ True  True  True]\n",
      " [ True  True  True]\n",
      " [ True  True  True]]\n",
      "[[ True  True  True]\n",
      " [ True  True  True]\n",
      " [ True  True  True]\n",
      " [ True  True  True]\n",
      " [ True  True  True]\n",
      " [ True  True  True]\n",
      " [ True  True  True]\n",
      " [ True  True  True]\n",
      " [ True  True  True]\n",
      " [ True  True  True]\n",
      " [ True  True  True]\n",
      " [ True  True  True]\n",
      " [ True  True  True]\n",
      " [ True  True  True]\n",
      " [ True  True  True]\n",
      " [ True  True  True]\n",
      " [ True  True  True]\n",
      " [ True  True  True]\n",
      " [ True  True  True]\n",
      " [ True  True  True]\n",
      " [ True  True  True]\n",
      " [ True  True  True]\n",
      " [ True  True  True]\n",
      " [ True  True  True]\n",
      " [ True  True  True]\n",
      " [ True  True  True]\n",
      " [ True  True  True]\n",
      " [ True  True  True]\n",
      " [ True  True  True]\n",
      " [ True  True  True]\n",
      " [ True  True  True]\n",
      " [ True  True  True]\n",
      " [ True  True  True]\n",
      " [ True  True  True]\n",
      " [ True  True  True]\n",
      " [ True  True  True]\n",
      " [ True  True  True]\n",
      " [ True  True  True]\n",
      " [ True  True  True]\n",
      " [ True  True  True]\n",
      " [ True  True  True]\n",
      " [ True  True  True]\n",
      " [ True  True  True]\n",
      " [ True  True  True]\n",
      " [ True  True  True]\n",
      " [ True  True  True]\n",
      " [ True  True  True]\n",
      " [ True  True  True]\n",
      " [ True  True  True]\n",
      " [ True  True  True]\n",
      " [ True  True  True]\n",
      " [ True  True  True]\n",
      " [ True  True  True]\n",
      " [ True  True  True]\n",
      " [ True  True  True]\n",
      " [ True  True  True]\n",
      " [ True  True  True]\n",
      " [ True  True  True]\n",
      " [ True  True  True]\n",
      " [ True  True  True]\n",
      " [ True  True  True]\n",
      " [ True  True  True]\n",
      " [ True  True  True]\n",
      " [ True  True  True]\n",
      " [ True  True  True]\n",
      " [ True  True  True]\n",
      " [ True  True  True]\n",
      " [ True  True  True]\n",
      " [ True  True  True]\n",
      " [ True  True  True]\n",
      " [ True  True  True]\n",
      " [ True  True  True]\n",
      " [ True  True  True]\n",
      " [ True  True  True]\n",
      " [ True  True  True]\n",
      " [ True  True  True]\n",
      " [ True  True  True]\n",
      " [ True  True  True]\n",
      " [ True  True  True]\n",
      " [ True  True  True]\n",
      " [ True  True  True]\n",
      " [ True  True  True]\n",
      " [ True  True  True]\n",
      " [ True  True  True]\n",
      " [ True  True  True]\n",
      " [ True  True  True]\n",
      " [ True  True  True]\n",
      " [ True  True  True]\n",
      " [ True  True  True]\n",
      " [ True  True  True]\n",
      " [ True  True  True]\n",
      " [ True  True  True]\n",
      " [ True  True  True]\n",
      " [ True  True  True]\n",
      " [ True  True  True]\n",
      " [ True  True  True]\n",
      " [ True  True  True]\n",
      " [ True  True  True]\n",
      " [ True  True  True]\n",
      " [ True  True  True]\n",
      " [ True  True  True]]\n"
     ]
    }
   ],
   "source": [
    "print df1_3D == df1_2D\n",
    "print df2_3D == df2_2D\n",
    "print df3_3D == df3_2D"
   ]
  },
  {
   "cell_type": "markdown",
   "metadata": {},
   "source": [
    "Now, try to transform 3D object as one, and compare:"
   ]
  },
  {
   "cell_type": "code",
   "execution_count": 31,
   "metadata": {
    "collapsed": false
   },
   "outputs": [
    {
     "name": "stdout",
     "output_type": "stream",
     "text": [
      "[[ True  True  True]\n",
      " [ True  True  True]\n",
      " [ True  True  True]\n",
      " [ True  True  True]\n",
      " [ True  True  True]\n",
      " [ True  True  True]\n",
      " [ True  True  True]\n",
      " [ True  True  True]\n",
      " [ True  True  True]\n",
      " [ True  True  True]\n",
      " [ True  True  True]\n",
      " [ True  True  True]\n",
      " [ True  True  True]\n",
      " [ True  True  True]\n",
      " [ True  True  True]\n",
      " [ True  True  True]\n",
      " [ True  True  True]\n",
      " [ True  True  True]\n",
      " [ True  True  True]\n",
      " [ True  True  True]\n",
      " [ True  True  True]\n",
      " [ True  True  True]\n",
      " [ True  True  True]\n",
      " [ True  True  True]\n",
      " [ True  True  True]\n",
      " [ True  True  True]\n",
      " [ True  True  True]\n",
      " [ True  True  True]\n",
      " [ True  True  True]\n",
      " [ True  True  True]\n",
      " [ True  True  True]\n",
      " [ True  True  True]\n",
      " [ True  True  True]\n",
      " [ True  True  True]\n",
      " [ True  True  True]\n",
      " [ True  True  True]\n",
      " [ True  True  True]\n",
      " [ True  True  True]\n",
      " [ True  True  True]\n",
      " [ True  True  True]\n",
      " [ True  True  True]\n",
      " [ True  True  True]\n",
      " [ True  True  True]\n",
      " [ True  True  True]\n",
      " [ True  True  True]\n",
      " [ True  True  True]\n",
      " [ True  True  True]\n",
      " [ True  True  True]\n",
      " [ True  True  True]\n",
      " [ True  True  True]\n",
      " [ True  True  True]\n",
      " [ True  True  True]\n",
      " [ True  True  True]\n",
      " [ True  True  True]\n",
      " [ True  True  True]\n",
      " [ True  True  True]\n",
      " [ True  True  True]\n",
      " [ True  True  True]\n",
      " [ True  True  True]\n",
      " [ True  True  True]\n",
      " [ True  True  True]\n",
      " [ True  True  True]\n",
      " [ True  True  True]\n",
      " [ True  True  True]\n",
      " [ True  True  True]\n",
      " [ True  True  True]\n",
      " [ True  True  True]\n",
      " [ True  True  True]\n",
      " [ True  True  True]\n",
      " [ True  True  True]\n",
      " [ True  True  True]\n",
      " [ True  True  True]\n",
      " [ True  True  True]\n",
      " [ True  True  True]\n",
      " [ True  True  True]\n",
      " [ True  True  True]\n",
      " [ True  True  True]\n",
      " [ True  True  True]\n",
      " [ True  True  True]\n",
      " [ True  True  True]\n",
      " [ True  True  True]\n",
      " [ True  True  True]\n",
      " [ True  True  True]\n",
      " [ True  True  True]\n",
      " [ True  True  True]\n",
      " [ True  True  True]\n",
      " [ True  True  True]\n",
      " [ True  True  True]\n",
      " [ True  True  True]\n",
      " [ True  True  True]\n",
      " [ True  True  True]\n",
      " [ True  True  True]\n",
      " [ True  True  True]\n",
      " [ True  True  True]\n",
      " [ True  True  True]\n",
      " [ True  True  True]\n",
      " [ True  True  True]\n",
      " [ True  True  True]\n",
      " [ True  True  True]\n",
      " [ True  True  True]\n",
      " [ True  True  True]]\n",
      "[[ True  True  True]\n",
      " [ True  True  True]\n",
      " [ True  True  True]\n",
      " [ True  True  True]\n",
      " [ True  True  True]\n",
      " [ True  True  True]\n",
      " [ True  True  True]\n",
      " [ True  True  True]\n",
      " [ True  True  True]\n",
      " [ True  True  True]\n",
      " [ True  True  True]\n",
      " [ True  True  True]\n",
      " [ True  True  True]\n",
      " [ True  True  True]\n",
      " [ True  True  True]\n",
      " [ True  True  True]\n",
      " [ True  True  True]\n",
      " [ True  True  True]\n",
      " [ True  True  True]\n",
      " [ True  True  True]\n",
      " [ True  True  True]\n",
      " [ True  True  True]\n",
      " [ True  True  True]\n",
      " [ True  True  True]\n",
      " [ True  True  True]\n",
      " [ True  True  True]\n",
      " [ True  True  True]\n",
      " [ True  True  True]\n",
      " [ True  True  True]\n",
      " [ True  True  True]\n",
      " [ True  True  True]\n",
      " [ True  True  True]\n",
      " [ True  True  True]\n",
      " [ True  True  True]\n",
      " [ True  True  True]\n",
      " [ True  True  True]\n",
      " [ True  True  True]\n",
      " [ True  True  True]\n",
      " [ True  True  True]\n",
      " [ True  True  True]\n",
      " [ True  True  True]\n",
      " [ True  True  True]\n",
      " [ True  True  True]\n",
      " [ True  True  True]\n",
      " [ True  True  True]\n",
      " [ True  True  True]\n",
      " [ True  True  True]\n",
      " [ True  True  True]\n",
      " [ True  True  True]\n",
      " [ True  True  True]\n",
      " [ True  True  True]\n",
      " [ True  True  True]\n",
      " [ True  True  True]\n",
      " [ True  True  True]\n",
      " [ True  True  True]\n",
      " [ True  True  True]\n",
      " [ True  True  True]\n",
      " [ True  True  True]\n",
      " [ True  True  True]\n",
      " [ True  True  True]\n",
      " [ True  True  True]\n",
      " [ True  True  True]\n",
      " [ True  True  True]\n",
      " [ True  True  True]\n",
      " [ True  True  True]\n",
      " [ True  True  True]\n",
      " [ True  True  True]\n",
      " [ True  True  True]\n",
      " [ True  True  True]\n",
      " [ True  True  True]\n",
      " [ True  True  True]\n",
      " [ True  True  True]\n",
      " [ True  True  True]\n",
      " [ True  True  True]\n",
      " [ True  True  True]\n",
      " [ True  True  True]\n",
      " [ True  True  True]\n",
      " [ True  True  True]\n",
      " [ True  True  True]\n",
      " [ True  True  True]\n",
      " [ True  True  True]\n",
      " [ True  True  True]\n",
      " [ True  True  True]\n",
      " [ True  True  True]\n",
      " [ True  True  True]\n",
      " [ True  True  True]\n",
      " [ True  True  True]\n",
      " [ True  True  True]\n",
      " [ True  True  True]\n",
      " [ True  True  True]\n",
      " [ True  True  True]\n",
      " [ True  True  True]\n",
      " [ True  True  True]\n",
      " [ True  True  True]\n",
      " [ True  True  True]\n",
      " [ True  True  True]\n",
      " [ True  True  True]\n",
      " [ True  True  True]\n",
      " [ True  True  True]\n",
      " [ True  True  True]\n",
      " [ True  True  True]]\n",
      "[[ True  True  True]\n",
      " [ True  True  True]\n",
      " [ True  True  True]\n",
      " [ True  True  True]\n",
      " [ True  True  True]\n",
      " [ True  True  True]\n",
      " [ True  True  True]\n",
      " [ True  True  True]\n",
      " [ True  True  True]\n",
      " [ True  True  True]\n",
      " [ True  True  True]\n",
      " [ True  True  True]\n",
      " [ True  True  True]\n",
      " [ True  True  True]\n",
      " [ True  True  True]\n",
      " [ True  True  True]\n",
      " [ True  True  True]\n",
      " [ True  True  True]\n",
      " [ True  True  True]\n",
      " [ True  True  True]\n",
      " [ True  True  True]\n",
      " [ True  True  True]\n",
      " [ True  True  True]\n",
      " [ True  True  True]\n",
      " [ True  True  True]\n",
      " [ True  True  True]\n",
      " [ True  True  True]\n",
      " [ True  True  True]\n",
      " [ True  True  True]\n",
      " [ True  True  True]\n",
      " [ True  True  True]\n",
      " [ True  True  True]\n",
      " [ True  True  True]\n",
      " [ True  True  True]\n",
      " [ True  True  True]\n",
      " [ True  True  True]\n",
      " [ True  True  True]\n",
      " [ True  True  True]\n",
      " [ True  True  True]\n",
      " [ True  True  True]\n",
      " [ True  True  True]\n",
      " [ True  True  True]\n",
      " [ True  True  True]\n",
      " [ True  True  True]\n",
      " [ True  True  True]\n",
      " [ True  True  True]\n",
      " [ True  True  True]\n",
      " [ True  True  True]\n",
      " [ True  True  True]\n",
      " [ True  True  True]\n",
      " [ True  True  True]\n",
      " [ True  True  True]\n",
      " [ True  True  True]\n",
      " [ True  True  True]\n",
      " [ True  True  True]\n",
      " [ True  True  True]\n",
      " [ True  True  True]\n",
      " [ True  True  True]\n",
      " [ True  True  True]\n",
      " [ True  True  True]\n",
      " [ True  True  True]\n",
      " [ True  True  True]\n",
      " [ True  True  True]\n",
      " [ True  True  True]\n",
      " [ True  True  True]\n",
      " [ True  True  True]\n",
      " [ True  True  True]\n",
      " [ True  True  True]\n",
      " [ True  True  True]\n",
      " [ True  True  True]\n",
      " [ True  True  True]\n",
      " [ True  True  True]\n",
      " [ True  True  True]\n",
      " [ True  True  True]\n",
      " [ True  True  True]\n",
      " [ True  True  True]\n",
      " [ True  True  True]\n",
      " [ True  True  True]\n",
      " [ True  True  True]\n",
      " [ True  True  True]\n",
      " [ True  True  True]\n",
      " [ True  True  True]\n",
      " [ True  True  True]\n",
      " [ True  True  True]\n",
      " [ True  True  True]\n",
      " [ True  True  True]\n",
      " [ True  True  True]\n",
      " [ True  True  True]\n",
      " [ True  True  True]\n",
      " [ True  True  True]\n",
      " [ True  True  True]\n",
      " [ True  True  True]\n",
      " [ True  True  True]\n",
      " [ True  True  True]\n",
      " [ True  True  True]\n",
      " [ True  True  True]\n",
      " [ True  True  True]\n",
      " [ True  True  True]\n",
      " [ True  True  True]\n",
      " [ True  True  True]\n",
      " [ True  True  True]]\n"
     ]
    }
   ],
   "source": [
    "# transform 3D object with one function call\n",
    "df_3D = np.real(np.fft.ifft( F_dFf_3D, axis = 1)) \n",
    "# axis 1 is the row axis, axis 2 is cols, axis 0 is q\n",
    "\n",
    "# check if each 2D matrix at each derivative order q are the same as found above\n",
    "print df_3D[1 - 1,:,:] == df1_2D # the first index is enumerated offset by one compared to q\n",
    "print df_3D[2 - 1,:,:] == df2_2D\n",
    "print df_3D[3 - 1,:,:] == df3_2D"
   ]
  },
  {
   "cell_type": "markdown",
   "metadata": {},
   "source": [
    "## first derivative: all implementations"
   ]
  },
  {
   "cell_type": "code",
   "execution_count": 32,
   "metadata": {
    "collapsed": false
   },
   "outputs": [
    {
     "data": {
      "image/png": "[encoded data removed]",
      "text/plain": [
       "<matplotlib.figure.Figure at 0x23c8350>"
      ]
     },
     "metadata": {},
     "output_type": "display_data"
    }
   ],
   "source": [
    "%matplotlib inline\n",
    "import matplotlib.pyplot as plt\n",
    "\n",
    "dn = 1\n",
    "for j in range(f.shape[1]):\n",
    "    # first derivative\n",
    "    plt.plot(x, df_exact[dn,:,j], linewidth = 2)\n",
    "    plt.plot(x, eval('df' + '%d' % dn + '_2D')[:,j], 'o', linewidth = 2)\n",
    "    plt.plot(x, df_3D[dn-1,:,j])"
   ]
  },
  {
   "cell_type": "markdown",
   "metadata": {
    "collapsed": true
   },
   "source": [
    "## 2nd derivative: all implementations"
   ]
  },
  {
   "cell_type": "code",
   "execution_count": 33,
   "metadata": {
    "collapsed": false
   },
   "outputs": [
    {
     "data": {
      "image/png": "[encoded data removed]",
      "text/plain": [
       "<matplotlib.figure.Figure at 0x3d26450>"
      ]
     },
     "metadata": {},
     "output_type": "display_data"
    }
   ],
   "source": [
    "%matplotlib inline\n",
    "import matplotlib.pyplot as plt\n",
    "\n",
    "dn = 2\n",
    "for j in range(f.shape[1]):\n",
    "    # first derivative\n",
    "    plt.plot(x, df_exact[dn,:,j], linewidth = 2)\n",
    "    plt.plot(x, eval('df' + '%d' % dn + '_2D')[:,j], 'o', linewidth = 2)\n",
    "    plt.plot(x, df_3D[dn-1,:,j])"
   ]
  },
  {
   "cell_type": "markdown",
   "metadata": {},
   "source": [
    "## 3rd derivative: all implementations"
   ]
  },
  {
   "cell_type": "code",
   "execution_count": 34,
   "metadata": {
    "collapsed": false
   },
   "outputs": [
    {
     "data": {
      "image/png": "[encoded data removed]",
      "text/plain": [
       "<matplotlib.figure.Figure at 0x23c8350>"
      ]
     },
     "metadata": {},
     "output_type": "display_data"
    }
   ],
   "source": [
    "%matplotlib inline\n",
    "import matplotlib.pyplot as plt\n",
    "\n",
    "dn = 3\n",
    "for j in range(f.shape[1]):\n",
    "    # first derivative\n",
    "    plt.plot(x, df_exact[dn,:,j], linewidth = 2)\n",
    "    plt.plot(x, eval('df' + '%d' % dn + '_2D')[:,j], 'o', linewidth = 2)\n",
    "    plt.plot(x, df_3D[dn-1,:,j])"
   ]
  },
  {
   "cell_type": "markdown",
   "metadata": {},
   "source": [
    "<b>Thus, the 3D stepthrough checks out</b>. We now discern the appropriate prescription to involve in our high order algorithm  which require derivative coefficients."
   ]
  },
  {
   "cell_type": "markdown",
   "metadata": {},
   "source": [
    "# 3D Fourier derivative computations"
   ]
  },
  {
   "cell_type": "code",
   "execution_count": 65,
   "metadata": {
    "collapsed": false
   },
   "outputs": [],
   "source": [
    "import numpy as np\n",
    "import matplotlib.pyplot as plt\n",
    "\n",
    "def trigonometric3D(f,\n",
    "                    Xi\n",
    "                    ):\n",
    "    \"\"\"Computes derivatives of density for derivative coeffs d in FN methods\n",
    "\n",
    "    inputs:\n",
    "    f -- (ndarray, ndim=2)\n",
    "    \n",
    "    <doctring to be completed later>\n",
    "    \n",
    "    outputs:\n",
    "    d -- (ndarray, ndim=3) d[q,i,j], gives the qth derivative for each point (i,j)\n",
    "          note the q = 0 entry is not meaningful, we return only entries q > 0\n",
    "    \"\"\"\n",
    "\n",
    "    # need to specify the axis in numpy v1.11.0.dev0+fe64f97, has opposite default axis\n",
    "    # as prior versions!\n",
    "    Ff = np.fft.fft(f, axis = 0)\n",
    "\n",
    "    D = Xi * Ff\n",
    "    \n",
    "    # TODO this computes the actual derivatives, high order CS needs dz ** q * df[q,i,j]\n",
    "    d = np.real(np.fft.ifft(D, axis = 1))\n",
    "    return d"
   ]
  },
  {
   "cell_type": "markdown",
   "metadata": {},
   "source": [
    "# lib.derivatives.trigonometric3D validation"
   ]
  },
  {
   "cell_type": "code",
   "execution_count": 66,
   "metadata": {
    "collapsed": false
   },
   "outputs": [],
   "source": [
    "import numpy as np\n",
    "# create a test matrix of densities which require row-wise differentiation for each column\n",
    "x = np.linspace(0,2*np.pi, 101)\n",
    "\n",
    "rows, cols = x.shape[0], 3\n",
    "f = np.zeros([rows, cols])\n",
    "for n in range(3):\n",
    "    f[:,n] = np.cos((n+1)*x)\n",
    "    \n",
    "# calculate wave numbers\n",
    "Nx = f.shape[0]\n",
    "Nv = f.shape[1]\n",
    "xwidth = x[1] - x[0]\n",
    "L = x[-1] - x[0]\n",
    "\n",
    "wave_index = np.arange(Nx)\n",
    "\n",
    "\n",
    "# create wave number vectors\n",
    "xi = np.where(wave_index <= Nx / 2,\n",
    "              2*np.pi*wave_index / L,\n",
    "              2*np.pi*(wave_index - Nx) / L)\n",
    "\n",
    "xi = np.outer(xi, np.ones(Nv)) # wavenumbers enumerated by row, copies in Nv columns\n",
    "\n",
    "sim_params = dict(N = 4)\n",
    "N = sim_params['N']\n",
    "pow = np.arange(1,N).reshape(N-1,1,1)\n",
    "Xi = (1j * xi) ** pow \n",
    "d = np.zeros((sim_params['N'], Nx, Nv))\n",
    "\n",
    "# assign zeroeth derivative as the function itself\n",
    "d[0,:,:] = f\n",
    "\n",
    "# pass remaining derivative orders q > 0 to trigonometric3D(*args)\n",
    "d[1:,:,:] = trigonometric3D(f, Xi)"
   ]
  },
  {
   "cell_type": "code",
   "execution_count": 54,
   "metadata": {
    "collapsed": false
   },
   "outputs": [
    {
     "data": {
      "text/plain": [
       "array([[[  1.00000000e+00,   1.00000000e+00,   1.00000000e+00],\n",
       "        [  9.98026728e-01,   9.92114701e-01,   9.82287251e-01],\n",
       "        [  9.92114701e-01,   9.68583161e-01,   9.29776486e-01],\n",
       "        ..., \n",
       "        [  9.92114701e-01,   9.68583161e-01,   9.29776486e-01],\n",
       "        [  9.98026728e-01,   9.92114701e-01,   9.82287251e-01],\n",
       "        [  1.00000000e+00,   1.00000000e+00,   1.00000000e+00]],\n",
       "\n",
       "       [[ -9.73720320e-03,  -3.89730330e-02,  -8.77803641e-02],\n",
       "        [ -6.08979451e-02,  -2.43078323e-01,  -5.45003579e-01],\n",
       "        [ -1.27673056e-01,  -5.06706373e-01,  -1.12523694e+00],\n",
       "        ..., \n",
       "        [  1.27673056e-01,   5.06706373e-01,   1.12523694e+00],\n",
       "        [  6.08979451e-02,   2.43078323e-01,   5.45003579e-01],\n",
       "        [  9.73720320e-03,   3.89730330e-02,   8.77803641e-02]],\n",
       "\n",
       "       [[ -4.44922986e-01,  -1.77949085e+00,  -4.00309890e+00],\n",
       "        [ -1.10084796e+00,  -4.37955519e+00,  -9.76485195e+00],\n",
       "        [ -9.87604898e-01,  -3.85427574e+00,  -8.31536729e+00],\n",
       "        ..., \n",
       "        [ -9.87604898e-01,  -3.85427574e+00,  -8.31536729e+00],\n",
       "        [ -1.10084796e+00,  -4.37955519e+00,  -9.76485195e+00],\n",
       "        [ -4.44922986e-01,  -1.77949085e+00,  -4.00309890e+00]],\n",
       "\n",
       "       [[ -1.17338212e+01,  -4.68289432e+01,  -1.04965708e+02],\n",
       "        [ -3.42614646e+00,  -1.29574932e+01,  -2.63684052e+01],\n",
       "        [  2.29858063e+00,   1.07426751e+01,   2.98562320e+01],\n",
       "        ..., \n",
       "        [ -2.29858063e+00,  -1.07426751e+01,  -2.98562320e+01],\n",
       "        [  3.42614646e+00,   1.29574932e+01,   2.63684052e+01],\n",
       "        [  1.17338212e+01,   4.68289432e+01,   1.04965708e+02]]])"
      ]
     },
     "execution_count": 54,
     "metadata": {},
     "output_type": "execute_result"
    }
   ],
   "source": [
    "d"
   ]
  },
  {
   "cell_type": "code",
   "execution_count": 55,
   "metadata": {
    "collapsed": false
   },
   "outputs": [
    {
     "data": {
      "text/plain": [
       "array([[[ True,  True,  True],\n",
       "        [ True,  True,  True],\n",
       "        [ True,  True,  True],\n",
       "        [ True,  True,  True],\n",
       "        [ True,  True,  True],\n",
       "        [ True,  True,  True],\n",
       "        [ True,  True,  True],\n",
       "        [ True,  True,  True],\n",
       "        [ True,  True,  True],\n",
       "        [ True,  True,  True],\n",
       "        [ True,  True,  True],\n",
       "        [ True,  True,  True],\n",
       "        [ True,  True,  True],\n",
       "        [ True,  True,  True],\n",
       "        [ True,  True,  True],\n",
       "        [ True,  True,  True],\n",
       "        [ True,  True,  True],\n",
       "        [ True,  True,  True],\n",
       "        [ True,  True,  True],\n",
       "        [ True,  True,  True],\n",
       "        [ True,  True,  True],\n",
       "        [ True,  True,  True],\n",
       "        [ True,  True,  True],\n",
       "        [ True,  True,  True],\n",
       "        [ True,  True,  True],\n",
       "        [ True,  True,  True],\n",
       "        [ True,  True,  True],\n",
       "        [ True,  True,  True],\n",
       "        [ True,  True,  True],\n",
       "        [ True,  True,  True],\n",
       "        [ True,  True,  True],\n",
       "        [ True,  True,  True],\n",
       "        [ True,  True,  True],\n",
       "        [ True,  True,  True],\n",
       "        [ True,  True,  True],\n",
       "        [ True,  True,  True],\n",
       "        [ True,  True,  True],\n",
       "        [ True,  True,  True],\n",
       "        [ True,  True,  True],\n",
       "        [ True,  True,  True],\n",
       "        [ True,  True,  True],\n",
       "        [ True,  True,  True],\n",
       "        [ True,  True,  True],\n",
       "        [ True,  True,  True],\n",
       "        [ True,  True,  True],\n",
       "        [ True,  True,  True],\n",
       "        [ True,  True,  True],\n",
       "        [ True,  True,  True],\n",
       "        [ True,  True,  True],\n",
       "        [ True,  True,  True],\n",
       "        [ True,  True,  True],\n",
       "        [ True,  True,  True],\n",
       "        [ True,  True,  True],\n",
       "        [ True,  True,  True],\n",
       "        [ True,  True,  True],\n",
       "        [ True,  True,  True],\n",
       "        [ True,  True,  True],\n",
       "        [ True,  True,  True],\n",
       "        [ True,  True,  True],\n",
       "        [ True,  True,  True],\n",
       "        [ True,  True,  True],\n",
       "        [ True,  True,  True],\n",
       "        [ True,  True,  True],\n",
       "        [ True,  True,  True],\n",
       "        [ True,  True,  True],\n",
       "        [ True,  True,  True],\n",
       "        [ True,  True,  True],\n",
       "        [ True,  True,  True],\n",
       "        [ True,  True,  True],\n",
       "        [ True,  True,  True],\n",
       "        [ True,  True,  True],\n",
       "        [ True,  True,  True],\n",
       "        [ True,  True,  True],\n",
       "        [ True,  True,  True],\n",
       "        [ True,  True,  True],\n",
       "        [ True,  True,  True],\n",
       "        [ True,  True,  True],\n",
       "        [ True,  True,  True],\n",
       "        [ True,  True,  True],\n",
       "        [ True,  True,  True],\n",
       "        [ True,  True,  True],\n",
       "        [ True,  True,  True],\n",
       "        [ True,  True,  True],\n",
       "        [ True,  True,  True],\n",
       "        [ True,  True,  True],\n",
       "        [ True,  True,  True],\n",
       "        [ True,  True,  True],\n",
       "        [ True,  True,  True],\n",
       "        [ True,  True,  True],\n",
       "        [ True,  True,  True],\n",
       "        [ True,  True,  True],\n",
       "        [ True,  True,  True],\n",
       "        [ True,  True,  True],\n",
       "        [ True,  True,  True],\n",
       "        [ True,  True,  True],\n",
       "        [ True,  True,  True],\n",
       "        [ True,  True,  True],\n",
       "        [ True,  True,  True],\n",
       "        [ True,  True,  True],\n",
       "        [ True,  True,  True],\n",
       "        [ True,  True,  True]],\n",
       "\n",
       "       [[ True,  True,  True],\n",
       "        [ True,  True,  True],\n",
       "        [ True,  True,  True],\n",
       "        [ True,  True,  True],\n",
       "        [ True,  True,  True],\n",
       "        [ True,  True,  True],\n",
       "        [ True,  True,  True],\n",
       "        [ True,  True,  True],\n",
       "        [ True,  True,  True],\n",
       "        [ True,  True,  True],\n",
       "        [ True,  True,  True],\n",
       "        [ True,  True,  True],\n",
       "        [ True,  True,  True],\n",
       "        [ True,  True,  True],\n",
       "        [ True,  True,  True],\n",
       "        [ True,  True,  True],\n",
       "        [ True,  True,  True],\n",
       "        [ True,  True,  True],\n",
       "        [ True,  True,  True],\n",
       "        [ True,  True,  True],\n",
       "        [ True,  True,  True],\n",
       "        [ True,  True,  True],\n",
       "        [ True,  True,  True],\n",
       "        [ True,  True,  True],\n",
       "        [ True,  True,  True],\n",
       "        [ True,  True,  True],\n",
       "        [ True,  True,  True],\n",
       "        [ True,  True,  True],\n",
       "        [ True,  True,  True],\n",
       "        [ True,  True,  True],\n",
       "        [ True,  True,  True],\n",
       "        [ True,  True,  True],\n",
       "        [ True,  True,  True],\n",
       "        [ True,  True,  True],\n",
       "        [ True,  True,  True],\n",
       "        [ True,  True,  True],\n",
       "        [ True,  True,  True],\n",
       "        [ True,  True,  True],\n",
       "        [ True,  True,  True],\n",
       "        [ True,  True,  True],\n",
       "        [ True,  True,  True],\n",
       "        [ True,  True,  True],\n",
       "        [ True,  True,  True],\n",
       "        [ True,  True,  True],\n",
       "        [ True,  True,  True],\n",
       "        [ True,  True,  True],\n",
       "        [ True,  True,  True],\n",
       "        [ True,  True,  True],\n",
       "        [ True,  True,  True],\n",
       "        [ True,  True,  True],\n",
       "        [ True,  True,  True],\n",
       "        [ True,  True,  True],\n",
       "        [ True,  True,  True],\n",
       "        [ True,  True,  True],\n",
       "        [ True,  True,  True],\n",
       "        [ True,  True,  True],\n",
       "        [ True,  True,  True],\n",
       "        [ True,  True,  True],\n",
       "        [ True,  True,  True],\n",
       "        [ True,  True,  True],\n",
       "        [ True,  True,  True],\n",
       "        [ True,  True,  True],\n",
       "        [ True,  True,  True],\n",
       "        [ True,  True,  True],\n",
       "        [ True,  True,  True],\n",
       "        [ True,  True,  True],\n",
       "        [ True,  True,  True],\n",
       "        [ True,  True,  True],\n",
       "        [ True,  True,  True],\n",
       "        [ True,  True,  True],\n",
       "        [ True,  True,  True],\n",
       "        [ True,  True,  True],\n",
       "        [ True,  True,  True],\n",
       "        [ True,  True,  True],\n",
       "        [ True,  True,  True],\n",
       "        [ True,  True,  True],\n",
       "        [ True,  True,  True],\n",
       "        [ True,  True,  True],\n",
       "        [ True,  True,  True],\n",
       "        [ True,  True,  True],\n",
       "        [ True,  True,  True],\n",
       "        [ True,  True,  True],\n",
       "        [ True,  True,  True],\n",
       "        [ True,  True,  True],\n",
       "        [ True,  True,  True],\n",
       "        [ True,  True,  True],\n",
       "        [ True,  True,  True],\n",
       "        [ True,  True,  True],\n",
       "        [ True,  True,  True],\n",
       "        [ True,  True,  True],\n",
       "        [ True,  True,  True],\n",
       "        [ True,  True,  True],\n",
       "        [ True,  True,  True],\n",
       "        [ True,  True,  True],\n",
       "        [ True,  True,  True],\n",
       "        [ True,  True,  True],\n",
       "        [ True,  True,  True],\n",
       "        [ True,  True,  True],\n",
       "        [ True,  True,  True],\n",
       "        [ True,  True,  True],\n",
       "        [ True,  True,  True]],\n",
       "\n",
       "       [[ True,  True,  True],\n",
       "        [ True,  True,  True],\n",
       "        [ True,  True,  True],\n",
       "        [ True,  True,  True],\n",
       "        [ True,  True,  True],\n",
       "        [ True,  True,  True],\n",
       "        [ True,  True,  True],\n",
       "        [ True,  True,  True],\n",
       "        [ True,  True,  True],\n",
       "        [ True,  True,  True],\n",
       "        [ True,  True,  True],\n",
       "        [ True,  True,  True],\n",
       "        [ True,  True,  True],\n",
       "        [ True,  True,  True],\n",
       "        [ True,  True,  True],\n",
       "        [ True,  True,  True],\n",
       "        [ True,  True,  True],\n",
       "        [ True,  True,  True],\n",
       "        [ True,  True,  True],\n",
       "        [ True,  True,  True],\n",
       "        [ True,  True,  True],\n",
       "        [ True,  True,  True],\n",
       "        [ True,  True,  True],\n",
       "        [ True,  True,  True],\n",
       "        [ True,  True,  True],\n",
       "        [ True,  True,  True],\n",
       "        [ True,  True,  True],\n",
       "        [ True,  True,  True],\n",
       "        [ True,  True,  True],\n",
       "        [ True,  True,  True],\n",
       "        [ True,  True,  True],\n",
       "        [ True,  True,  True],\n",
       "        [ True,  True,  True],\n",
       "        [ True,  True,  True],\n",
       "        [ True,  True,  True],\n",
       "        [ True,  True,  True],\n",
       "        [ True,  True,  True],\n",
       "        [ True,  True,  True],\n",
       "        [ True,  True,  True],\n",
       "        [ True,  True,  True],\n",
       "        [ True,  True,  True],\n",
       "        [ True,  True,  True],\n",
       "        [ True,  True,  True],\n",
       "        [ True,  True,  True],\n",
       "        [ True,  True,  True],\n",
       "        [ True,  True,  True],\n",
       "        [ True,  True,  True],\n",
       "        [ True,  True,  True],\n",
       "        [ True,  True,  True],\n",
       "        [ True,  True,  True],\n",
       "        [ True,  True,  True],\n",
       "        [ True,  True,  True],\n",
       "        [ True,  True,  True],\n",
       "        [ True,  True,  True],\n",
       "        [ True,  True,  True],\n",
       "        [ True,  True,  True],\n",
       "        [ True,  True,  True],\n",
       "        [ True,  True,  True],\n",
       "        [ True,  True,  True],\n",
       "        [ True,  True,  True],\n",
       "        [ True,  True,  True],\n",
       "        [ True,  True,  True],\n",
       "        [ True,  True,  True],\n",
       "        [ True,  True,  True],\n",
       "        [ True,  True,  True],\n",
       "        [ True,  True,  True],\n",
       "        [ True,  True,  True],\n",
       "        [ True,  True,  True],\n",
       "        [ True,  True,  True],\n",
       "        [ True,  True,  True],\n",
       "        [ True,  True,  True],\n",
       "        [ True,  True,  True],\n",
       "        [ True,  True,  True],\n",
       "        [ True,  True,  True],\n",
       "        [ True,  True,  True],\n",
       "        [ True,  True,  True],\n",
       "        [ True,  True,  True],\n",
       "        [ True,  True,  True],\n",
       "        [ True,  True,  True],\n",
       "        [ True,  True,  True],\n",
       "        [ True,  True,  True],\n",
       "        [ True,  True,  True],\n",
       "        [ True,  True,  True],\n",
       "        [ True,  True,  True],\n",
       "        [ True,  True,  True],\n",
       "        [ True,  True,  True],\n",
       "        [ True,  True,  True],\n",
       "        [ True,  True,  True],\n",
       "        [ True,  True,  True],\n",
       "        [ True,  True,  True],\n",
       "        [ True,  True,  True],\n",
       "        [ True,  True,  True],\n",
       "        [ True,  True,  True],\n",
       "        [ True,  True,  True],\n",
       "        [ True,  True,  True],\n",
       "        [ True,  True,  True],\n",
       "        [ True,  True,  True],\n",
       "        [ True,  True,  True],\n",
       "        [ True,  True,  True],\n",
       "        [ True,  True,  True],\n",
       "        [ True,  True,  True]]], dtype=bool)"
      ]
     },
     "execution_count": 55,
     "metadata": {},
     "output_type": "execute_result"
    }
   ],
   "source": [
    "df_3D == d[1:,:,:] # df_3D contains derivative evaluations at each [i,j] for order q >= 1"
   ]
  },
  {
   "cell_type": "code",
   "execution_count": 56,
   "metadata": {
    "collapsed": false,
    "scrolled": true
   },
   "outputs": [
    {
     "name": "stdout",
     "output_type": "stream",
     "text": [
      "True\n"
     ]
    }
   ],
   "source": [
    "print np.allclose(df_3D, d[1:,:,:])"
   ]
  },
  {
   "cell_type": "markdown",
   "metadata": {},
   "source": [
    "Thus, the implementation checks out. Above we used it to check derivatives, we actually require finding the derivatives multiplied by the spacing to the qth power for the qth derivative. So, the final form takes:"
   ]
  },
  {
   "cell_type": "markdown",
   "metadata": {},
   "source": [
    "## <font color = \"green\">DECSKS-v2.0 lib.derivative.trigometric3D</font> (new function)"
   ]
  },
  {
   "cell_type": "markdown",
   "metadata": {},
   "source": [
    "The additional weight of each qth derivative by a term dz ^ q requires we include these factors somewhere, capturing them in Xi is the most straightforward, i.e.\n",
    "\n",
    "$$\\underline{\\underline{\\Xi}} = (\\Xi_{n,m,\\ell}) = (j\\Delta x\\xi_{m,\\forall \\ell})^{n}\\left\\{\\\\\\left( \\begin{array}{ccc}\n",
    "1 & 1 & 1 \\\\\n",
    "1 & 1 & 1 \\\\\n",
    "\\vdots & \\vdots & \\vdots \\\\\n",
    "1 & 1 & 1 \\end{array} \\right)_{n = 0, N_x\\times N_v} \\\\ \n",
    "\\left( \\begin{array}{ccc}\n",
    "(j\\Delta x\\xi_0)^1 & (j\\Delta x\\xi_0)^1 & (j\\Delta x\\xi_0)^1 \\\\\n",
    "(j\\Delta x\\xi_1)^1 & (j\\Delta x\\xi_1)^1 & (j\\Delta x\\xi_1)^1 \\\\\n",
    "\\vdots & \\vdots & \\vdots \\\\\n",
    "(j\\Delta x\\xi_{N_x-1})^1 & (j\\Delta x\\xi_{N_x-1})^1 & (j\\Delta x\\xi_{N_x-1})^1 \\end{array} \\right)_{n = 1, N_x\\times N_v}\n",
    "\\\\ \n",
    "\\left( \\begin{array}{ccc}\n",
    "(j(\\Delta x)^2\\xi_0)^2 & (j(\\Delta x)^2\\xi_0)^2 & (j(\\Delta x)^2\\xi_0)^2 \\\\\n",
    "(j(\\Delta x)^2\\xi_1)^2 & (j(\\Delta x)^2\\xi_1)^2 & (j(\\Delta x)^2\\xi_1)^2 \\\\\n",
    "\\vdots & \\vdots & \\vdots \\\\\n",
    "(j(\\Delta x)^2\\xi_{N_x-1})^2 & (j(\\Delta x)^2\\xi_{N_x-1})^2 & (j(\\Delta x)^2\\xi_{N_x-1})^2 \\end{array} \\right)_{n = 2, N_x\\times N_v}\n",
    "\\\\\n",
    "\\left( \\begin{array}{ccc}\n",
    "(j(\\Delta x)^3\\xi_0)^3 & (j(\\Delta x)^3\\xi_0)^3 & (j(\\Delta x)^3\\xi_0)^3 \\\\\n",
    "(j(\\Delta x)^3\\xi_1)^3 & (j(\\Delta x)^3\\xi_1)^3 & (j(\\Delta x)^3\\xi_1)^3 \\\\\n",
    "\\vdots & \\vdots & \\vdots \\\\\n",
    "(j(\\Delta x)^3\\xi_{N_x-1})^3 & (j(\\Delta x)^3\\xi_{N_x-1})^3 & (j(\\Delta x)^3\\xi_{N_x-1})^3 \\end{array} \\right)_{n = 3, N_x\\times N_v}\n",
    "\\\\\n",
    "\\right\\} \n",
    "$$\n",
    "\n",
    "Application of this matrix to the fourier transform of the density Ff = (Nx, Nv) produces the derivatives for each [i,j] for every order q = 0, 1, 2, 3, ... Thus, we regard this matrix as the spectral differentiation operator $\\underline{\\underline{\\Xi}}$, which can be computed pre-simulation and stored in sim_params['Xi'], if needed we can create subdictionaries for sim_params['Xi']['x' or 'v']. In Numpy notation, we compute this as :\n",
    "\n",
    "$$\\underline{\\underline{\\Xi}}_{N\\times N_x\\times N_v} = (\\text{j}\\Delta x \\underline{\\underline{\\xi}}_{N_x\\times N_v})^{[0, 1, \\ldots , N-1]}$$\n",
    "\n",
    "where"
   ]
  },
  {
   "cell_type": "markdown",
   "metadata": {},
   "source": [
    "$$\\underline{\\underline{\\xi}}_{N_x\\times N_v}  = \\underline{\\xi}_{N_x \\times 1} \\otimes \\underline{1}_{1\\times N_v} = (\\xi_0, \\xi_1, \\ldots , \\xi_{N_x-1})^T (1,1,\\underbrace{\\ldots}_{N_v-3 \\, \\text{ones}}, 1)$$"
   ]
  },
  {
   "cell_type": "markdown",
   "metadata": {},
   "source": [
    "With this setup, the steps required in the differentiation process are minimal, the entire function takes the form:"
   ]
  },
  {
   "cell_type": "code",
   "execution_count": 71,
   "metadata": {
    "collapsed": true
   },
   "outputs": [],
   "source": [
    "def trigonometric3D(f, sim_params):\n",
    "    \"\"\"Computes derivatives of density for derivative coeffs d in FN methods\n",
    "\n",
    "    inputs:\n",
    "    f -- (ndarray, ndim=2) density at a given time step\n",
    "    sim_params['Xi'] -- (ndarray, ndim=3) Xi = (1j*dz*xi) ** [[[1,2,3,...,N-1]]], where xi.shape (x.N, v.N)\n",
    "          is assembled in sim_params in lib.read as np.outer(dz * xi, np.ones((1,v.N))). \n",
    "          this is currently set up for x advection. It may be decided to transpose the\n",
    "          same objects in the case of v advection to reuse the same routine depending on\n",
    "          how expensive the np.transpose routine is (TODO)\n",
    "        \n",
    "    outputs:\n",
    "    d -- (ndarray, ndim=3) d[q,i,j], gives the qth derivative for each point (i,j)\n",
    "          for q >= 1, the zeroeth derivative d[0,:,:] = f_old is assigned prior to this function call\n",
    "          i.e. the assignment is for d[1:, :, :] below, d[1:,:,:].shape = (N-1, x.N, v.N)\n",
    "    \"\"\"\n",
    "\n",
    "    # need to specify the axis in numpy v1.11.0.dev0+fe64f97, has opposite default axis\n",
    "    # as prior versions!\n",
    "    Ff = np.fft.fft(f, axis = 0)\n",
    "\n",
    "    D = sim_params['Xi'] * Ff # could make this dictionary access to matricies Xi for x and v\n",
    "                              # i.e. sim_params['Xi']['x'] and sim_params['Xi']['v'] if\n",
    "                              # needed\n",
    "            \n",
    "    d = np.real(np.fft.ifft(D, axis = 1))\n",
    "    return d"
   ]
  },
  {
   "cell_type": "markdown",
   "metadata": {
    "collapsed": true
   },
   "source": [
    "As a pseudo-test, let's manually assign Xi to the dictionary sim_params"
   ]
  },
  {
   "cell_type": "code",
   "execution_count": 73,
   "metadata": {
    "collapsed": false
   },
   "outputs": [],
   "source": [
    "import numpy as np\n",
    "\n",
    "# create a test matrix of densities which require row-wise differentiation for each column\n",
    "x = np.linspace(0,2*np.pi, 101)\n",
    "rows, cols = x.shape[0], 3\n",
    "f = np.zeros([rows, cols])\n",
    "for n in range(3):\n",
    "    f[:,n] = np.cos((n+1)*x)\n",
    "    \n",
    "# calculate wave numbers\n",
    "Nx = f.shape[0]\n",
    "Nv = f.shape[1]\n",
    "xwidth = x[1] - x[0]\n",
    "L = x[-1] - x[0]\n",
    "\n",
    "wave_index = np.arange(Nx)\n",
    "\n",
    "# create wave number vectors\n",
    "xi = np.where(wave_index <= Nx / 2,\n",
    "              2*np.pi*wave_index / L,\n",
    "              2*np.pi*(wave_index - Nx) / L)\n",
    "\n",
    "xi = np.outer(xi, np.ones(Nv)) # wavenumbers enumerated by row, copies in Nv columns\n",
    "\n",
    "sim_params = dict(N = 4)\n",
    "N = sim_params['N']\n",
    "pow = np.arange(1,N).reshape(N-1,1,1)\n",
    "sim_params['Xi'] = (1j * xwidth * xi) ** pow \n",
    "\n",
    "d = np.zeros((sim_params['N'], Nx, Nv))\n",
    "\n",
    "# assign zeroeth derivative as the function itself\n",
    "d[0,:,:] = f\n",
    "\n",
    "# pass remaining derivative orders q > 0 to trigonometric3D(*args)\n",
    "d[1:,:,:] = trigonometric3D(f, sim_params)"
   ]
  },
  {
   "cell_type": "markdown",
   "metadata": {},
   "source": [
    "These values check out by comparing with the actual derivatives d calculated above normalized by the relevant power dx ^ q when checking each sub 2D matrix."
   ]
  },
  {
   "cell_type": "code",
   "execution_count": null,
   "metadata": {
    "collapsed": true
   },
   "outputs": [],
   "source": []
  }
 ],
 "metadata": {
  "kernelspec": {
   "display_name": "Python 2",
   "language": "python",
   "name": "python2"
  },
  "language_info": {
   "codemirror_mode": {
    "name": "ipython",
    "version": 2
   },
   "file_extension": ".py",
   "mimetype": "text/x-python",
   "name": "python",
   "nbconvert_exporter": "python",
   "pygments_lexer": "ipython2",
   "version": "2.7.3"
  }
 },
 "nbformat": 4,
 "nbformat_minor": 0
}

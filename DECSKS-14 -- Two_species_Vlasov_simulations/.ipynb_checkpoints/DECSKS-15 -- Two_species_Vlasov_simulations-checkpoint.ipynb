{
 "cells": [
  {
   "cell_type": "markdown",
   "metadata": {},
   "source": [
    "# DECSKS-15: Two species Vlasov simulations\n",
    "\n",
    "## Motivation\n",
    "\n",
    "The aim of this notebook is to develop a top-level orchestrator routine that employs DECSKS-2.0 (runs through the evolution of one species) to evolve two distribution functions. That is, the objective is to build a framework that allows the data from each species evolution to be accessed by the other in an obvious way. The boundary conditions are not the focus in this notebook and we will take them to be periodic as that has already been proofed and set up. The conductor routine will take a form similar to\n",
    "\n",
    "    # DECSKS2S.main (2S = \"two species\")\n",
    "\n",
    "    import DECSKS2S \n",
    "    \n",
    "    # the densities will be f_i[t,x,vx], and f_e[t,x,vx]\n",
    "    # initialize both distributions f_i[0, x, vx], f_e[0,x,vx]\n",
    "    # instantiate a common set of phase space variables (x,vx)\n",
    "    \n",
    "    for n in t.stepnumbers:\n",
    "        \n",
    "        f_e[n,:,:] = DECSKS2S.lib.split.scheme(f_e, f_i, *args)\n",
    "        f_i[n,:,:] = DECSKS2S.lib.split.scheme(f_e, f_i *args)\n",
    "        \n",
    "    # END\n",
    "    \n",
    "Other changes forseen (rough/naive form shown below):\n",
    "\n",
    "    ## changes in lib.split.scheme\n",
    "    \n",
    "        # density now computed as numpy.sum(f_i - f_e, axis = 1)*vx.width, both densities needed\n",
    "        E = lib.fieldsolvers.Gauss(f_i, f_e, *args) \n",
    "        \n",
    "    ## new method: lib.boundaryconditions.density.absorbing\n",
    "    \n",
    "        # f[:, v > 0] = 0, this is an efficient call in numpy incidentally\n",
    "        \n",
    "    ## new method: lib.boundaryconditions.potential.chargedplate\n",
    "    \n",
    "        sigma = 0\n",
    "        for v in vx.prepoints:\n",
    "            sigma += np.sum(vx[v]*f_i[0,v] - vx[v]*f_e[0,v], axis = 1)*vx.width # i = 0 at wall\n",
    "            \n",
    "        E[at wall] = 1 / 2. * sigma\n",
    "        "
   ]
  },
  {
   "cell_type": "code",
   "execution_count": null,
   "metadata": {
    "collapsed": true
   },
   "outputs": [],
   "source": []
  }
 ],
 "metadata": {
  "kernelspec": {
   "display_name": "Python 2",
   "language": "python",
   "name": "python2"
  },
  "language_info": {
   "codemirror_mode": {
    "name": "ipython",
    "version": 2
   },
   "file_extension": ".py",
   "mimetype": "text/x-python",
   "name": "python",
   "nbconvert_exporter": "python",
   "pygments_lexer": "ipython2",
   "version": "2.7.3"
  }
 },
 "nbformat": 4,
 "nbformat_minor": 0
}
